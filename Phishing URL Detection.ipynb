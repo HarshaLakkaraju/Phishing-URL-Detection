{
 "cells": [
  {
   "cell_type": "markdown",
   "id": "f41546c8",
   "metadata": {},
   "source": [
    "# Phishing URL Detection "
   ]
  },
  {
   "cell_type": "markdown",
   "id": "86acf7a9",
   "metadata": {},
   "source": [
    "The steps demonstrated in this notebook are:\n",
    "1. Loading the data\n",
    "2. Familiarizing with data & EDA\n",
    "3. Visualizing the data\n",
    "4. Splitting the data\n",
    "5. Training the data\n",
    "6. Comparision of Model\n",
    "7. Conclusion"
   ]
  },
  {
   "cell_type": "code",
   "execution_count": 112,
   "id": "51ca7313",
   "metadata": {},
   "outputs": [],
   "source": [
    "#importing required libraries\n",
    "import numpy as np\n",
    "import pandas as pd\n",
    "import matplotlib.pyplot as plt\n",
    "%matplotlib inline\n",
    "import seaborn as sns\n",
    "from sklearn import metrics \n",
    "import warnings\n",
    "warnings.filterwarnings('ignore')\n",
    "\n",
    "import plotly.express as px\n",
    "from IPython.display import display\n",
    "import plotly.graph_objects as go"
   ]
  },
  {
   "cell_type": "markdown",
   "id": "7db94f12",
   "metadata": {},
   "source": [
    "## 1. Loading Data:"
   ]
  },
  {
   "cell_type": "code",
   "execution_count": 113,
   "id": "ec491f22",
   "metadata": {},
   "outputs": [],
   "source": [
    "#Loading data into dataframe\n",
    "data = pd.read_csv(\"phishing.csv\")"
   ]
  },
  {
   "cell_type": "markdown",
   "id": "0413b490",
   "metadata": {},
   "source": [
    "## 2. Familiarizing with Data & EDA:\n",
    "In this step, few dataframe methods are used to look into the data and its features."
   ]
  },
  {
   "cell_type": "code",
   "execution_count": 120,
   "id": "9ccdddc5",
   "metadata": {},
   "outputs": [
    {
     "data": {
      "text/html": [
       "<div>\n",
       "<style scoped>\n",
       "    .dataframe tbody tr th:only-of-type {\n",
       "        vertical-align: middle;\n",
       "    }\n",
       "\n",
       "    .dataframe tbody tr th {\n",
       "        vertical-align: top;\n",
       "    }\n",
       "\n",
       "    .dataframe thead th {\n",
       "        text-align: right;\n",
       "    }\n",
       "</style>\n",
       "<table border=\"1\" class=\"dataframe\">\n",
       "  <thead>\n",
       "    <tr style=\"text-align: right;\">\n",
       "      <th></th>\n",
       "      <th>UsingIP</th>\n",
       "      <th>LongURL</th>\n",
       "      <th>ShortURL</th>\n",
       "      <th>Symbol@</th>\n",
       "      <th>Redirecting//</th>\n",
       "      <th>PrefixSuffix-</th>\n",
       "      <th>SubDomains</th>\n",
       "      <th>HTTPS</th>\n",
       "      <th>DomainRegLen</th>\n",
       "      <th>Favicon</th>\n",
       "      <th>...</th>\n",
       "      <th>UsingPopupWindow</th>\n",
       "      <th>IframeRedirection</th>\n",
       "      <th>AgeofDomain</th>\n",
       "      <th>DNSRecording</th>\n",
       "      <th>WebsiteTraffic</th>\n",
       "      <th>PageRank</th>\n",
       "      <th>GoogleIndex</th>\n",
       "      <th>LinksPointingToPage</th>\n",
       "      <th>StatsReport</th>\n",
       "      <th>class</th>\n",
       "    </tr>\n",
       "  </thead>\n",
       "  <tbody>\n",
       "    <tr>\n",
       "      <th>0</th>\n",
       "      <td>1</td>\n",
       "      <td>1</td>\n",
       "      <td>1</td>\n",
       "      <td>1</td>\n",
       "      <td>1</td>\n",
       "      <td>-1</td>\n",
       "      <td>0</td>\n",
       "      <td>1</td>\n",
       "      <td>-1</td>\n",
       "      <td>1</td>\n",
       "      <td>...</td>\n",
       "      <td>1</td>\n",
       "      <td>1</td>\n",
       "      <td>-1</td>\n",
       "      <td>-1</td>\n",
       "      <td>0</td>\n",
       "      <td>-1</td>\n",
       "      <td>1</td>\n",
       "      <td>1</td>\n",
       "      <td>1</td>\n",
       "      <td>-1</td>\n",
       "    </tr>\n",
       "    <tr>\n",
       "      <th>1</th>\n",
       "      <td>1</td>\n",
       "      <td>0</td>\n",
       "      <td>1</td>\n",
       "      <td>1</td>\n",
       "      <td>1</td>\n",
       "      <td>-1</td>\n",
       "      <td>-1</td>\n",
       "      <td>-1</td>\n",
       "      <td>-1</td>\n",
       "      <td>1</td>\n",
       "      <td>...</td>\n",
       "      <td>1</td>\n",
       "      <td>1</td>\n",
       "      <td>1</td>\n",
       "      <td>-1</td>\n",
       "      <td>1</td>\n",
       "      <td>-1</td>\n",
       "      <td>1</td>\n",
       "      <td>0</td>\n",
       "      <td>-1</td>\n",
       "      <td>-1</td>\n",
       "    </tr>\n",
       "    <tr>\n",
       "      <th>2</th>\n",
       "      <td>1</td>\n",
       "      <td>0</td>\n",
       "      <td>1</td>\n",
       "      <td>1</td>\n",
       "      <td>1</td>\n",
       "      <td>-1</td>\n",
       "      <td>-1</td>\n",
       "      <td>-1</td>\n",
       "      <td>1</td>\n",
       "      <td>1</td>\n",
       "      <td>...</td>\n",
       "      <td>1</td>\n",
       "      <td>1</td>\n",
       "      <td>-1</td>\n",
       "      <td>-1</td>\n",
       "      <td>1</td>\n",
       "      <td>-1</td>\n",
       "      <td>1</td>\n",
       "      <td>-1</td>\n",
       "      <td>1</td>\n",
       "      <td>-1</td>\n",
       "    </tr>\n",
       "    <tr>\n",
       "      <th>3</th>\n",
       "      <td>1</td>\n",
       "      <td>0</td>\n",
       "      <td>-1</td>\n",
       "      <td>1</td>\n",
       "      <td>1</td>\n",
       "      <td>-1</td>\n",
       "      <td>1</td>\n",
       "      <td>1</td>\n",
       "      <td>-1</td>\n",
       "      <td>1</td>\n",
       "      <td>...</td>\n",
       "      <td>-1</td>\n",
       "      <td>1</td>\n",
       "      <td>-1</td>\n",
       "      <td>-1</td>\n",
       "      <td>0</td>\n",
       "      <td>-1</td>\n",
       "      <td>1</td>\n",
       "      <td>1</td>\n",
       "      <td>1</td>\n",
       "      <td>1</td>\n",
       "    </tr>\n",
       "    <tr>\n",
       "      <th>4</th>\n",
       "      <td>-1</td>\n",
       "      <td>0</td>\n",
       "      <td>-1</td>\n",
       "      <td>1</td>\n",
       "      <td>-1</td>\n",
       "      <td>-1</td>\n",
       "      <td>1</td>\n",
       "      <td>1</td>\n",
       "      <td>-1</td>\n",
       "      <td>1</td>\n",
       "      <td>...</td>\n",
       "      <td>1</td>\n",
       "      <td>1</td>\n",
       "      <td>1</td>\n",
       "      <td>1</td>\n",
       "      <td>1</td>\n",
       "      <td>-1</td>\n",
       "      <td>1</td>\n",
       "      <td>-1</td>\n",
       "      <td>-1</td>\n",
       "      <td>1</td>\n",
       "    </tr>\n",
       "  </tbody>\n",
       "</table>\n",
       "<p>5 rows × 31 columns</p>\n",
       "</div>"
      ],
      "text/plain": [
       "   UsingIP  LongURL  ShortURL  Symbol@  Redirecting//  PrefixSuffix-  \\\n",
       "0        1        1         1        1              1             -1   \n",
       "1        1        0         1        1              1             -1   \n",
       "2        1        0         1        1              1             -1   \n",
       "3        1        0        -1        1              1             -1   \n",
       "4       -1        0        -1        1             -1             -1   \n",
       "\n",
       "   SubDomains  HTTPS  DomainRegLen  Favicon  ...  UsingPopupWindow  \\\n",
       "0           0      1            -1        1  ...                 1   \n",
       "1          -1     -1            -1        1  ...                 1   \n",
       "2          -1     -1             1        1  ...                 1   \n",
       "3           1      1            -1        1  ...                -1   \n",
       "4           1      1            -1        1  ...                 1   \n",
       "\n",
       "   IframeRedirection  AgeofDomain  DNSRecording  WebsiteTraffic  PageRank  \\\n",
       "0                  1           -1            -1               0        -1   \n",
       "1                  1            1            -1               1        -1   \n",
       "2                  1           -1            -1               1        -1   \n",
       "3                  1           -1            -1               0        -1   \n",
       "4                  1            1             1               1        -1   \n",
       "\n",
       "   GoogleIndex  LinksPointingToPage  StatsReport  class  \n",
       "0            1                    1            1     -1  \n",
       "1            1                    0           -1     -1  \n",
       "2            1                   -1            1     -1  \n",
       "3            1                    1            1      1  \n",
       "4            1                   -1           -1      1  \n",
       "\n",
       "[5 rows x 31 columns]"
      ]
     },
     "metadata": {},
     "output_type": "display_data"
    },
    {
     "data": {
      "text/plain": [
       "(11054, 31)"
      ]
     },
     "metadata": {},
     "output_type": "display_data"
    },
    {
     "data": {
      "text/plain": [
       "Index(['UsingIP', 'LongURL', 'ShortURL', 'Symbol@', 'Redirecting//',\n",
       "       'PrefixSuffix-', 'SubDomains', 'HTTPS', 'DomainRegLen', 'Favicon',\n",
       "       'NonStdPort', 'HTTPSDomainURL', 'RequestURL', 'AnchorURL',\n",
       "       'LinksInScriptTags', 'ServerFormHandler', 'InfoEmail', 'AbnormalURL',\n",
       "       'WebsiteForwarding', 'StatusBarCust', 'DisableRightClick',\n",
       "       'UsingPopupWindow', 'IframeRedirection', 'AgeofDomain', 'DNSRecording',\n",
       "       'WebsiteTraffic', 'PageRank', 'GoogleIndex', 'LinksPointingToPage',\n",
       "       'StatsReport', 'class'],\n",
       "      dtype='object')"
      ]
     },
     "metadata": {},
     "output_type": "display_data"
    },
    {
     "data": {
      "application/vnd.plotly.v1+json": {
       "config": {
        "plotlyServerURL": "https://plot.ly"
       },
       "data": [
        {
         "customdata": [
          [
           6157
          ],
          [
           4897
          ]
         ],
         "domain": {
          "x": [
           0,
           1
          ],
          "y": [
           0,
           1
          ]
         },
         "hole": 0.4,
         "hovertemplate": "class=%{label}<br>count=%{customdata[0]}<extra></extra>",
         "labels": [
          1,
          -1
         ],
         "legendgroup": "",
         "name": "",
         "showlegend": true,
         "type": "pie",
         "values": [
          6157,
          4897
         ]
        }
       ],
       "layout": {
        "legend": {
         "tracegroupgap": 0
        },
        "template": {
         "data": {
          "bar": [
           {
            "error_x": {
             "color": "#2a3f5f"
            },
            "error_y": {
             "color": "#2a3f5f"
            },
            "marker": {
             "line": {
              "color": "#E5ECF6",
              "width": 0.5
             },
             "pattern": {
              "fillmode": "overlay",
              "size": 10,
              "solidity": 0.2
             }
            },
            "type": "bar"
           }
          ],
          "barpolar": [
           {
            "marker": {
             "line": {
              "color": "#E5ECF6",
              "width": 0.5
             },
             "pattern": {
              "fillmode": "overlay",
              "size": 10,
              "solidity": 0.2
             }
            },
            "type": "barpolar"
           }
          ],
          "carpet": [
           {
            "aaxis": {
             "endlinecolor": "#2a3f5f",
             "gridcolor": "white",
             "linecolor": "white",
             "minorgridcolor": "white",
             "startlinecolor": "#2a3f5f"
            },
            "baxis": {
             "endlinecolor": "#2a3f5f",
             "gridcolor": "white",
             "linecolor": "white",
             "minorgridcolor": "white",
             "startlinecolor": "#2a3f5f"
            },
            "type": "carpet"
           }
          ],
          "choropleth": [
           {
            "colorbar": {
             "outlinewidth": 0,
             "ticks": ""
            },
            "type": "choropleth"
           }
          ],
          "contour": [
           {
            "colorbar": {
             "outlinewidth": 0,
             "ticks": ""
            },
            "colorscale": [
             [
              0,
              "#0d0887"
             ],
             [
              0.1111111111111111,
              "#46039f"
             ],
             [
              0.2222222222222222,
              "#7201a8"
             ],
             [
              0.3333333333333333,
              "#9c179e"
             ],
             [
              0.4444444444444444,
              "#bd3786"
             ],
             [
              0.5555555555555556,
              "#d8576b"
             ],
             [
              0.6666666666666666,
              "#ed7953"
             ],
             [
              0.7777777777777778,
              "#fb9f3a"
             ],
             [
              0.8888888888888888,
              "#fdca26"
             ],
             [
              1,
              "#f0f921"
             ]
            ],
            "type": "contour"
           }
          ],
          "contourcarpet": [
           {
            "colorbar": {
             "outlinewidth": 0,
             "ticks": ""
            },
            "type": "contourcarpet"
           }
          ],
          "heatmap": [
           {
            "colorbar": {
             "outlinewidth": 0,
             "ticks": ""
            },
            "colorscale": [
             [
              0,
              "#0d0887"
             ],
             [
              0.1111111111111111,
              "#46039f"
             ],
             [
              0.2222222222222222,
              "#7201a8"
             ],
             [
              0.3333333333333333,
              "#9c179e"
             ],
             [
              0.4444444444444444,
              "#bd3786"
             ],
             [
              0.5555555555555556,
              "#d8576b"
             ],
             [
              0.6666666666666666,
              "#ed7953"
             ],
             [
              0.7777777777777778,
              "#fb9f3a"
             ],
             [
              0.8888888888888888,
              "#fdca26"
             ],
             [
              1,
              "#f0f921"
             ]
            ],
            "type": "heatmap"
           }
          ],
          "heatmapgl": [
           {
            "colorbar": {
             "outlinewidth": 0,
             "ticks": ""
            },
            "colorscale": [
             [
              0,
              "#0d0887"
             ],
             [
              0.1111111111111111,
              "#46039f"
             ],
             [
              0.2222222222222222,
              "#7201a8"
             ],
             [
              0.3333333333333333,
              "#9c179e"
             ],
             [
              0.4444444444444444,
              "#bd3786"
             ],
             [
              0.5555555555555556,
              "#d8576b"
             ],
             [
              0.6666666666666666,
              "#ed7953"
             ],
             [
              0.7777777777777778,
              "#fb9f3a"
             ],
             [
              0.8888888888888888,
              "#fdca26"
             ],
             [
              1,
              "#f0f921"
             ]
            ],
            "type": "heatmapgl"
           }
          ],
          "histogram": [
           {
            "marker": {
             "pattern": {
              "fillmode": "overlay",
              "size": 10,
              "solidity": 0.2
             }
            },
            "type": "histogram"
           }
          ],
          "histogram2d": [
           {
            "colorbar": {
             "outlinewidth": 0,
             "ticks": ""
            },
            "colorscale": [
             [
              0,
              "#0d0887"
             ],
             [
              0.1111111111111111,
              "#46039f"
             ],
             [
              0.2222222222222222,
              "#7201a8"
             ],
             [
              0.3333333333333333,
              "#9c179e"
             ],
             [
              0.4444444444444444,
              "#bd3786"
             ],
             [
              0.5555555555555556,
              "#d8576b"
             ],
             [
              0.6666666666666666,
              "#ed7953"
             ],
             [
              0.7777777777777778,
              "#fb9f3a"
             ],
             [
              0.8888888888888888,
              "#fdca26"
             ],
             [
              1,
              "#f0f921"
             ]
            ],
            "type": "histogram2d"
           }
          ],
          "histogram2dcontour": [
           {
            "colorbar": {
             "outlinewidth": 0,
             "ticks": ""
            },
            "colorscale": [
             [
              0,
              "#0d0887"
             ],
             [
              0.1111111111111111,
              "#46039f"
             ],
             [
              0.2222222222222222,
              "#7201a8"
             ],
             [
              0.3333333333333333,
              "#9c179e"
             ],
             [
              0.4444444444444444,
              "#bd3786"
             ],
             [
              0.5555555555555556,
              "#d8576b"
             ],
             [
              0.6666666666666666,
              "#ed7953"
             ],
             [
              0.7777777777777778,
              "#fb9f3a"
             ],
             [
              0.8888888888888888,
              "#fdca26"
             ],
             [
              1,
              "#f0f921"
             ]
            ],
            "type": "histogram2dcontour"
           }
          ],
          "mesh3d": [
           {
            "colorbar": {
             "outlinewidth": 0,
             "ticks": ""
            },
            "type": "mesh3d"
           }
          ],
          "parcoords": [
           {
            "line": {
             "colorbar": {
              "outlinewidth": 0,
              "ticks": ""
             }
            },
            "type": "parcoords"
           }
          ],
          "pie": [
           {
            "automargin": true,
            "type": "pie"
           }
          ],
          "scatter": [
           {
            "fillpattern": {
             "fillmode": "overlay",
             "size": 10,
             "solidity": 0.2
            },
            "type": "scatter"
           }
          ],
          "scatter3d": [
           {
            "line": {
             "colorbar": {
              "outlinewidth": 0,
              "ticks": ""
             }
            },
            "marker": {
             "colorbar": {
              "outlinewidth": 0,
              "ticks": ""
             }
            },
            "type": "scatter3d"
           }
          ],
          "scattercarpet": [
           {
            "marker": {
             "colorbar": {
              "outlinewidth": 0,
              "ticks": ""
             }
            },
            "type": "scattercarpet"
           }
          ],
          "scattergeo": [
           {
            "marker": {
             "colorbar": {
              "outlinewidth": 0,
              "ticks": ""
             }
            },
            "type": "scattergeo"
           }
          ],
          "scattergl": [
           {
            "marker": {
             "colorbar": {
              "outlinewidth": 0,
              "ticks": ""
             }
            },
            "type": "scattergl"
           }
          ],
          "scattermapbox": [
           {
            "marker": {
             "colorbar": {
              "outlinewidth": 0,
              "ticks": ""
             }
            },
            "type": "scattermapbox"
           }
          ],
          "scatterpolar": [
           {
            "marker": {
             "colorbar": {
              "outlinewidth": 0,
              "ticks": ""
             }
            },
            "type": "scatterpolar"
           }
          ],
          "scatterpolargl": [
           {
            "marker": {
             "colorbar": {
              "outlinewidth": 0,
              "ticks": ""
             }
            },
            "type": "scatterpolargl"
           }
          ],
          "scatterternary": [
           {
            "marker": {
             "colorbar": {
              "outlinewidth": 0,
              "ticks": ""
             }
            },
            "type": "scatterternary"
           }
          ],
          "surface": [
           {
            "colorbar": {
             "outlinewidth": 0,
             "ticks": ""
            },
            "colorscale": [
             [
              0,
              "#0d0887"
             ],
             [
              0.1111111111111111,
              "#46039f"
             ],
             [
              0.2222222222222222,
              "#7201a8"
             ],
             [
              0.3333333333333333,
              "#9c179e"
             ],
             [
              0.4444444444444444,
              "#bd3786"
             ],
             [
              0.5555555555555556,
              "#d8576b"
             ],
             [
              0.6666666666666666,
              "#ed7953"
             ],
             [
              0.7777777777777778,
              "#fb9f3a"
             ],
             [
              0.8888888888888888,
              "#fdca26"
             ],
             [
              1,
              "#f0f921"
             ]
            ],
            "type": "surface"
           }
          ],
          "table": [
           {
            "cells": {
             "fill": {
              "color": "#EBF0F8"
             },
             "line": {
              "color": "white"
             }
            },
            "header": {
             "fill": {
              "color": "#C8D4E3"
             },
             "line": {
              "color": "white"
             }
            },
            "type": "table"
           }
          ]
         },
         "layout": {
          "annotationdefaults": {
           "arrowcolor": "#2a3f5f",
           "arrowhead": 0,
           "arrowwidth": 1
          },
          "autotypenumbers": "strict",
          "coloraxis": {
           "colorbar": {
            "outlinewidth": 0,
            "ticks": ""
           }
          },
          "colorscale": {
           "diverging": [
            [
             0,
             "#8e0152"
            ],
            [
             0.1,
             "#c51b7d"
            ],
            [
             0.2,
             "#de77ae"
            ],
            [
             0.3,
             "#f1b6da"
            ],
            [
             0.4,
             "#fde0ef"
            ],
            [
             0.5,
             "#f7f7f7"
            ],
            [
             0.6,
             "#e6f5d0"
            ],
            [
             0.7,
             "#b8e186"
            ],
            [
             0.8,
             "#7fbc41"
            ],
            [
             0.9,
             "#4d9221"
            ],
            [
             1,
             "#276419"
            ]
           ],
           "sequential": [
            [
             0,
             "#0d0887"
            ],
            [
             0.1111111111111111,
             "#46039f"
            ],
            [
             0.2222222222222222,
             "#7201a8"
            ],
            [
             0.3333333333333333,
             "#9c179e"
            ],
            [
             0.4444444444444444,
             "#bd3786"
            ],
            [
             0.5555555555555556,
             "#d8576b"
            ],
            [
             0.6666666666666666,
             "#ed7953"
            ],
            [
             0.7777777777777778,
             "#fb9f3a"
            ],
            [
             0.8888888888888888,
             "#fdca26"
            ],
            [
             1,
             "#f0f921"
            ]
           ],
           "sequentialminus": [
            [
             0,
             "#0d0887"
            ],
            [
             0.1111111111111111,
             "#46039f"
            ],
            [
             0.2222222222222222,
             "#7201a8"
            ],
            [
             0.3333333333333333,
             "#9c179e"
            ],
            [
             0.4444444444444444,
             "#bd3786"
            ],
            [
             0.5555555555555556,
             "#d8576b"
            ],
            [
             0.6666666666666666,
             "#ed7953"
            ],
            [
             0.7777777777777778,
             "#fb9f3a"
            ],
            [
             0.8888888888888888,
             "#fdca26"
            ],
            [
             1,
             "#f0f921"
            ]
           ]
          },
          "colorway": [
           "#636efa",
           "#EF553B",
           "#00cc96",
           "#ab63fa",
           "#FFA15A",
           "#19d3f3",
           "#FF6692",
           "#B6E880",
           "#FF97FF",
           "#FECB52"
          ],
          "font": {
           "color": "#2a3f5f"
          },
          "geo": {
           "bgcolor": "white",
           "lakecolor": "white",
           "landcolor": "#E5ECF6",
           "showlakes": true,
           "showland": true,
           "subunitcolor": "white"
          },
          "hoverlabel": {
           "align": "left"
          },
          "hovermode": "closest",
          "mapbox": {
           "style": "light"
          },
          "paper_bgcolor": "white",
          "plot_bgcolor": "#E5ECF6",
          "polar": {
           "angularaxis": {
            "gridcolor": "white",
            "linecolor": "white",
            "ticks": ""
           },
           "bgcolor": "#E5ECF6",
           "radialaxis": {
            "gridcolor": "white",
            "linecolor": "white",
            "ticks": ""
           }
          },
          "scene": {
           "xaxis": {
            "backgroundcolor": "#E5ECF6",
            "gridcolor": "white",
            "gridwidth": 2,
            "linecolor": "white",
            "showbackground": true,
            "ticks": "",
            "zerolinecolor": "white"
           },
           "yaxis": {
            "backgroundcolor": "#E5ECF6",
            "gridcolor": "white",
            "gridwidth": 2,
            "linecolor": "white",
            "showbackground": true,
            "ticks": "",
            "zerolinecolor": "white"
           },
           "zaxis": {
            "backgroundcolor": "#E5ECF6",
            "gridcolor": "white",
            "gridwidth": 2,
            "linecolor": "white",
            "showbackground": true,
            "ticks": "",
            "zerolinecolor": "white"
           }
          },
          "shapedefaults": {
           "line": {
            "color": "#2a3f5f"
           }
          },
          "ternary": {
           "aaxis": {
            "gridcolor": "white",
            "linecolor": "white",
            "ticks": ""
           },
           "baxis": {
            "gridcolor": "white",
            "linecolor": "white",
            "ticks": ""
           },
           "bgcolor": "#E5ECF6",
           "caxis": {
            "gridcolor": "white",
            "linecolor": "white",
            "ticks": ""
           }
          },
          "title": {
           "x": 0.05
          },
          "xaxis": {
           "automargin": true,
           "gridcolor": "white",
           "linecolor": "white",
           "ticks": "",
           "title": {
            "standoff": 15
           },
           "zerolinecolor": "white",
           "zerolinewidth": 2
          },
          "yaxis": {
           "automargin": true,
           "gridcolor": "white",
           "linecolor": "white",
           "ticks": "",
           "title": {
            "standoff": 15
           },
           "zerolinecolor": "white",
           "zerolinewidth": 2
          }
         }
        },
        "title": {
         "text": "Phishing Count"
        }
       }
      }
     },
     "metadata": {},
     "output_type": "display_data"
    }
   ],
   "source": [
    "display(data.head())\n",
    "\n",
    "#Shape of dataframe\n",
    "\n",
    "display(data.shape)\n",
    "#Listing the features of the dataset\n",
    "\n",
    "display(data.columns)\n",
    "\n",
    "\n",
    "#Information about the dataset\n",
    "\n",
    "# data.info()\n",
    "\n",
    "# nunique value in columns\n",
    "\n",
    "# data.nunique()\n",
    "\n",
    "#description of dataset\n",
    "\n",
    "# data.describe().T\n",
    "\n",
    "\n",
    "\n",
    "# Calculate the value counts of 'class'\n",
    "class_counts = data['class'].value_counts()\n",
    "\n",
    "# Create a DataFrame with class counts and labels\n",
    "class_counts_df = pd.DataFrame({'class': class_counts.index, 'count': class_counts.values})\n",
    "\n",
    "# Create a pie chart using Plotly Express\n",
    "fig = px.pie(class_counts_df, names='class', values='count', labels='class',\n",
    "             title=\"Phishing Count\", hole=0.4, hover_data=['count'])\n",
    "\n",
    "# Show the interactive pie chart\n",
    "fig.show()"
   ]
  },
  {
   "cell_type": "markdown",
   "id": "48657bd4",
   "metadata": {},
   "source": [
    "data_set.append(9 OBSERVATIONS:\n",
    "1. There are 11054 instances and 31 fearures in dataset.\n",
    "2. Out of which 30 are independent features where as 1 is dependent feature.\n",
    "3. Each feature is in int datatype, so there is no need to use LabelEncoder.\n",
    "4. There is no outlier present in dataset.\n",
    "5. There is no missing value in dataset."
   ]
  },
  {
   "cell_type": "markdown",
   "id": "3eee8c08",
   "metadata": {},
   "source": [
    "## 4. Splitting the Data:\n",
    "The data is split into train & test sets, 80-20 split."
   ]
  },
  {
   "cell_type": "code",
   "execution_count": 114,
   "id": "f3d90a24",
   "metadata": {},
   "outputs": [],
   "source": [
    "# Splitting the dataset into dependant and independant fetature\n",
    "\n",
    "X = data.drop([\"class\"],axis =1)\n",
    "y = data[\"class\"]"
   ]
  },
  {
   "cell_type": "code",
   "execution_count": 118,
   "id": "9de941d7",
   "metadata": {},
   "outputs": [
    {
     "data": {
      "text/plain": [
       "(8843, 30)"
      ]
     },
     "metadata": {},
     "output_type": "display_data"
    },
    {
     "data": {
      "text/plain": [
       "(8843,)"
      ]
     },
     "metadata": {},
     "output_type": "display_data"
    },
    {
     "data": {
      "text/plain": [
       "(2211, 30)"
      ]
     },
     "metadata": {},
     "output_type": "display_data"
    },
    {
     "data": {
      "text/plain": [
       "(2211,)"
      ]
     },
     "metadata": {},
     "output_type": "display_data"
    }
   ],
   "source": [
    "# Splitting the dataset into train and test sets: 80-20 split\n",
    "\n",
    "from sklearn.model_selection import train_test_split\n",
    "\n",
    "X_train, X_test, y_train, y_test = train_test_split(X, y, test_size = 0.2, random_state = 42)\n",
    "display(X_train.shape, y_train.shape, X_test.shape, y_test.shape)\n"
   ]
  },
  {
   "cell_type": "markdown",
   "id": "1f1ae9dc",
   "metadata": {},
   "source": [
    "## 5. Model Building & Training:\n",
    "1. Logistic Regression\n",
    "2. k-Nearest Neighbors \n",
    "3. Support Vector Clasifier\n",
    "4. Naive Bayes\n",
    "5. Decision Tree\n",
    "6. Random Forest\n",
    "7. Gradient Boosting\n",
    "8. Catboost\n",
    "9. Xgboost\n",
    "10. Multilayer Perceptrons          \n",
    "  The metrics considered to evaluate the model performance are Accuracy & F1 score."
   ]
  },
  {
   "cell_type": "code",
   "execution_count": 6,
   "id": "55ac1416",
   "metadata": {},
   "outputs": [],
   "source": [
    "# Creating holders to store the model performance results\n",
    "ML_Model = []\n",
    "accuracy = []\n",
    "f1_score = []\n",
    "recall = []\n",
    "precision = []\n",
    "\n",
    "#function to call for storing the results\n",
    "def storeResults(model, a,b,c,d):\n",
    "  ML_Model.append(model)\n",
    "  accuracy.append(round(a, 3))\n",
    "  f1_score.append(round(b, 3))\n",
    "  recall.append(round(c, 3))\n",
    "  precision.append(round(d, 3))"
   ]
  },
  {
   "cell_type": "markdown",
   "id": "a8724a53",
   "metadata": {},
   "source": [
    "## 5.1. Logistic Regression"
   ]
  },
  {
   "cell_type": "code",
   "execution_count": 7,
   "id": "1aa0632f",
   "metadata": {},
   "outputs": [
    {
     "data": {
      "text/html": [
       "<style>#sk-container-id-1 {color: black;background-color: white;}#sk-container-id-1 pre{padding: 0;}#sk-container-id-1 div.sk-toggleable {background-color: white;}#sk-container-id-1 label.sk-toggleable__label {cursor: pointer;display: block;width: 100%;margin-bottom: 0;padding: 0.3em;box-sizing: border-box;text-align: center;}#sk-container-id-1 label.sk-toggleable__label-arrow:before {content: \"▸\";float: left;margin-right: 0.25em;color: #696969;}#sk-container-id-1 label.sk-toggleable__label-arrow:hover:before {color: black;}#sk-container-id-1 div.sk-estimator:hover label.sk-toggleable__label-arrow:before {color: black;}#sk-container-id-1 div.sk-toggleable__content {max-height: 0;max-width: 0;overflow: hidden;text-align: left;background-color: #f0f8ff;}#sk-container-id-1 div.sk-toggleable__content pre {margin: 0.2em;color: black;border-radius: 0.25em;background-color: #f0f8ff;}#sk-container-id-1 input.sk-toggleable__control:checked~div.sk-toggleable__content {max-height: 200px;max-width: 100%;overflow: auto;}#sk-container-id-1 input.sk-toggleable__control:checked~label.sk-toggleable__label-arrow:before {content: \"▾\";}#sk-container-id-1 div.sk-estimator input.sk-toggleable__control:checked~label.sk-toggleable__label {background-color: #d4ebff;}#sk-container-id-1 div.sk-label input.sk-toggleable__control:checked~label.sk-toggleable__label {background-color: #d4ebff;}#sk-container-id-1 input.sk-hidden--visually {border: 0;clip: rect(1px 1px 1px 1px);clip: rect(1px, 1px, 1px, 1px);height: 1px;margin: -1px;overflow: hidden;padding: 0;position: absolute;width: 1px;}#sk-container-id-1 div.sk-estimator {font-family: monospace;background-color: #f0f8ff;border: 1px dotted black;border-radius: 0.25em;box-sizing: border-box;margin-bottom: 0.5em;}#sk-container-id-1 div.sk-estimator:hover {background-color: #d4ebff;}#sk-container-id-1 div.sk-parallel-item::after {content: \"\";width: 100%;border-bottom: 1px solid gray;flex-grow: 1;}#sk-container-id-1 div.sk-label:hover label.sk-toggleable__label {background-color: #d4ebff;}#sk-container-id-1 div.sk-serial::before {content: \"\";position: absolute;border-left: 1px solid gray;box-sizing: border-box;top: 0;bottom: 0;left: 50%;z-index: 0;}#sk-container-id-1 div.sk-serial {display: flex;flex-direction: column;align-items: center;background-color: white;padding-right: 0.2em;padding-left: 0.2em;position: relative;}#sk-container-id-1 div.sk-item {position: relative;z-index: 1;}#sk-container-id-1 div.sk-parallel {display: flex;align-items: stretch;justify-content: center;background-color: white;position: relative;}#sk-container-id-1 div.sk-item::before, #sk-container-id-1 div.sk-parallel-item::before {content: \"\";position: absolute;border-left: 1px solid gray;box-sizing: border-box;top: 0;bottom: 0;left: 50%;z-index: -1;}#sk-container-id-1 div.sk-parallel-item {display: flex;flex-direction: column;z-index: 1;position: relative;background-color: white;}#sk-container-id-1 div.sk-parallel-item:first-child::after {align-self: flex-end;width: 50%;}#sk-container-id-1 div.sk-parallel-item:last-child::after {align-self: flex-start;width: 50%;}#sk-container-id-1 div.sk-parallel-item:only-child::after {width: 0;}#sk-container-id-1 div.sk-dashed-wrapped {border: 1px dashed gray;margin: 0 0.4em 0.5em 0.4em;box-sizing: border-box;padding-bottom: 0.4em;background-color: white;}#sk-container-id-1 div.sk-label label {font-family: monospace;font-weight: bold;display: inline-block;line-height: 1.2em;}#sk-container-id-1 div.sk-label-container {text-align: center;}#sk-container-id-1 div.sk-container {/* jupyter's `normalize.less` sets `[hidden] { display: none; }` but bootstrap.min.css set `[hidden] { display: none !important; }` so we also need the `!important` here to be able to override the default hidden behavior on the sphinx rendered scikit-learn.org. See: https://github.com/scikit-learn/scikit-learn/issues/21755 */display: inline-block !important;position: relative;}#sk-container-id-1 div.sk-text-repr-fallback {display: none;}</style><div id=\"sk-container-id-1\" class=\"sk-top-container\"><div class=\"sk-text-repr-fallback\"><pre>LogisticRegression()</pre><b>In a Jupyter environment, please rerun this cell to show the HTML representation or trust the notebook. <br />On GitHub, the HTML representation is unable to render, please try loading this page with nbviewer.org.</b></div><div class=\"sk-container\" hidden><div class=\"sk-item\"><div class=\"sk-estimator sk-toggleable\"><input class=\"sk-toggleable__control sk-hidden--visually\" id=\"sk-estimator-id-1\" type=\"checkbox\" checked><label for=\"sk-estimator-id-1\" class=\"sk-toggleable__label sk-toggleable__label-arrow\">LogisticRegression</label><div class=\"sk-toggleable__content\"><pre>LogisticRegression()</pre></div></div></div></div></div>"
      ],
      "text/plain": [
       "LogisticRegression()"
      ]
     },
     "execution_count": 7,
     "metadata": {},
     "output_type": "execute_result"
    }
   ],
   "source": [
    "# Linear regression model \n",
    "from sklearn.linear_model import LogisticRegression\n",
    "#from sklearn.pipeline import Pipeline\n",
    "\n",
    "# instantiate the model\n",
    "log = LogisticRegression()\n",
    "\n",
    "# fit the model \n",
    "log.fit(X_train,y_train)"
   ]
  },
  {
   "cell_type": "code",
   "execution_count": 8,
   "id": "66af98cc",
   "metadata": {},
   "outputs": [],
   "source": [
    "#predicting the target value from the model for the samples\n",
    "\n",
    "y_train_log = log.predict(X_train)\n",
    "y_test_log = log.predict(X_test)"
   ]
  },
  {
   "cell_type": "code",
   "execution_count": 9,
   "id": "bd4f1e81",
   "metadata": {},
   "outputs": [
    {
     "name": "stdout",
     "output_type": "stream",
     "text": [
      "Logistic Regression : Accuracy on training Data: 0.927\n",
      "Logistic Regression : Accuracy on test Data: 0.934\n",
      "\n",
      "Logistic Regression : f1_score on training Data: 0.935\n",
      "Logistic Regression : f1_score on test Data: 0.941\n",
      "\n",
      "Logistic Regression : Recall on training Data: 0.943\n",
      "Logistic Regression : Recall on test Data: 0.953\n",
      "\n",
      "Logistic Regression : precision on training Data: 0.927\n",
      "Logistic Regression : precision on test Data: 0.930\n"
     ]
    }
   ],
   "source": [
    "#computing the accuracy, f1_score, Recall, precision of the model performance\n",
    "\n",
    "acc_train_log = metrics.accuracy_score(y_train,y_train_log)\n",
    "acc_test_log = metrics.accuracy_score(y_test,y_test_log)\n",
    "print(\"Logistic Regression : Accuracy on training Data: {:.3f}\".format(acc_train_log))\n",
    "print(\"Logistic Regression : Accuracy on test Data: {:.3f}\".format(acc_test_log))\n",
    "print()\n",
    "\n",
    "f1_score_train_log = metrics.f1_score(y_train,y_train_log)\n",
    "f1_score_test_log = metrics.f1_score(y_test,y_test_log)\n",
    "print(\"Logistic Regression : f1_score on training Data: {:.3f}\".format(f1_score_train_log))\n",
    "print(\"Logistic Regression : f1_score on test Data: {:.3f}\".format(f1_score_test_log))\n",
    "print()\n",
    "\n",
    "recall_score_train_log = metrics.recall_score(y_train,y_train_log)\n",
    "recall_score_test_log = metrics.recall_score(y_test,y_test_log)\n",
    "print(\"Logistic Regression : Recall on training Data: {:.3f}\".format(recall_score_train_log))\n",
    "print(\"Logistic Regression : Recall on test Data: {:.3f}\".format(recall_score_test_log))\n",
    "print()\n",
    "\n",
    "precision_score_train_log = metrics.precision_score(y_train,y_train_log)\n",
    "precision_score_test_log = metrics.precision_score(y_test,y_test_log)\n",
    "print(\"Logistic Regression : precision on training Data: {:.3f}\".format(precision_score_train_log))\n",
    "print(\"Logistic Regression : precision on test Data: {:.3f}\".format(precision_score_test_log))"
   ]
  },
  {
   "cell_type": "code",
   "execution_count": 10,
   "id": "314ae927",
   "metadata": {},
   "outputs": [
    {
     "name": "stdout",
     "output_type": "stream",
     "text": [
      "              precision    recall  f1-score   support\n",
      "\n",
      "          -1       0.94      0.91      0.92       976\n",
      "           1       0.93      0.95      0.94      1235\n",
      "\n",
      "    accuracy                           0.93      2211\n",
      "   macro avg       0.93      0.93      0.93      2211\n",
      "weighted avg       0.93      0.93      0.93      2211\n",
      "\n"
     ]
    }
   ],
   "source": [
    "#computing the classification report of the model\n",
    "\n",
    "print(metrics.classification_report(y_test, y_test_log))"
   ]
  },
  {
   "cell_type": "code",
   "execution_count": 11,
   "id": "e557df04",
   "metadata": {},
   "outputs": [],
   "source": [
    "#storing the results. The below mentioned order of parameter passing is important.\n",
    "\n",
    "storeResults('Logistic Regression',acc_test_log,f1_score_test_log,\n",
    "             recall_score_train_log,precision_score_train_log)"
   ]
  },
  {
   "cell_type": "markdown",
   "id": "94a3a5bf",
   "metadata": {},
   "source": [
    "## 5.2. K-Nearest Neighbors : Classifier"
   ]
  },
  {
   "cell_type": "code",
   "execution_count": 12,
   "id": "fcdb78be",
   "metadata": {},
   "outputs": [
    {
     "data": {
      "text/html": [
       "<style>#sk-container-id-2 {color: black;background-color: white;}#sk-container-id-2 pre{padding: 0;}#sk-container-id-2 div.sk-toggleable {background-color: white;}#sk-container-id-2 label.sk-toggleable__label {cursor: pointer;display: block;width: 100%;margin-bottom: 0;padding: 0.3em;box-sizing: border-box;text-align: center;}#sk-container-id-2 label.sk-toggleable__label-arrow:before {content: \"▸\";float: left;margin-right: 0.25em;color: #696969;}#sk-container-id-2 label.sk-toggleable__label-arrow:hover:before {color: black;}#sk-container-id-2 div.sk-estimator:hover label.sk-toggleable__label-arrow:before {color: black;}#sk-container-id-2 div.sk-toggleable__content {max-height: 0;max-width: 0;overflow: hidden;text-align: left;background-color: #f0f8ff;}#sk-container-id-2 div.sk-toggleable__content pre {margin: 0.2em;color: black;border-radius: 0.25em;background-color: #f0f8ff;}#sk-container-id-2 input.sk-toggleable__control:checked~div.sk-toggleable__content {max-height: 200px;max-width: 100%;overflow: auto;}#sk-container-id-2 input.sk-toggleable__control:checked~label.sk-toggleable__label-arrow:before {content: \"▾\";}#sk-container-id-2 div.sk-estimator input.sk-toggleable__control:checked~label.sk-toggleable__label {background-color: #d4ebff;}#sk-container-id-2 div.sk-label input.sk-toggleable__control:checked~label.sk-toggleable__label {background-color: #d4ebff;}#sk-container-id-2 input.sk-hidden--visually {border: 0;clip: rect(1px 1px 1px 1px);clip: rect(1px, 1px, 1px, 1px);height: 1px;margin: -1px;overflow: hidden;padding: 0;position: absolute;width: 1px;}#sk-container-id-2 div.sk-estimator {font-family: monospace;background-color: #f0f8ff;border: 1px dotted black;border-radius: 0.25em;box-sizing: border-box;margin-bottom: 0.5em;}#sk-container-id-2 div.sk-estimator:hover {background-color: #d4ebff;}#sk-container-id-2 div.sk-parallel-item::after {content: \"\";width: 100%;border-bottom: 1px solid gray;flex-grow: 1;}#sk-container-id-2 div.sk-label:hover label.sk-toggleable__label {background-color: #d4ebff;}#sk-container-id-2 div.sk-serial::before {content: \"\";position: absolute;border-left: 1px solid gray;box-sizing: border-box;top: 0;bottom: 0;left: 50%;z-index: 0;}#sk-container-id-2 div.sk-serial {display: flex;flex-direction: column;align-items: center;background-color: white;padding-right: 0.2em;padding-left: 0.2em;position: relative;}#sk-container-id-2 div.sk-item {position: relative;z-index: 1;}#sk-container-id-2 div.sk-parallel {display: flex;align-items: stretch;justify-content: center;background-color: white;position: relative;}#sk-container-id-2 div.sk-item::before, #sk-container-id-2 div.sk-parallel-item::before {content: \"\";position: absolute;border-left: 1px solid gray;box-sizing: border-box;top: 0;bottom: 0;left: 50%;z-index: -1;}#sk-container-id-2 div.sk-parallel-item {display: flex;flex-direction: column;z-index: 1;position: relative;background-color: white;}#sk-container-id-2 div.sk-parallel-item:first-child::after {align-self: flex-end;width: 50%;}#sk-container-id-2 div.sk-parallel-item:last-child::after {align-self: flex-start;width: 50%;}#sk-container-id-2 div.sk-parallel-item:only-child::after {width: 0;}#sk-container-id-2 div.sk-dashed-wrapped {border: 1px dashed gray;margin: 0 0.4em 0.5em 0.4em;box-sizing: border-box;padding-bottom: 0.4em;background-color: white;}#sk-container-id-2 div.sk-label label {font-family: monospace;font-weight: bold;display: inline-block;line-height: 1.2em;}#sk-container-id-2 div.sk-label-container {text-align: center;}#sk-container-id-2 div.sk-container {/* jupyter's `normalize.less` sets `[hidden] { display: none; }` but bootstrap.min.css set `[hidden] { display: none !important; }` so we also need the `!important` here to be able to override the default hidden behavior on the sphinx rendered scikit-learn.org. See: https://github.com/scikit-learn/scikit-learn/issues/21755 */display: inline-block !important;position: relative;}#sk-container-id-2 div.sk-text-repr-fallback {display: none;}</style><div id=\"sk-container-id-2\" class=\"sk-top-container\"><div class=\"sk-text-repr-fallback\"><pre>KNeighborsClassifier(n_neighbors=1)</pre><b>In a Jupyter environment, please rerun this cell to show the HTML representation or trust the notebook. <br />On GitHub, the HTML representation is unable to render, please try loading this page with nbviewer.org.</b></div><div class=\"sk-container\" hidden><div class=\"sk-item\"><div class=\"sk-estimator sk-toggleable\"><input class=\"sk-toggleable__control sk-hidden--visually\" id=\"sk-estimator-id-2\" type=\"checkbox\" checked><label for=\"sk-estimator-id-2\" class=\"sk-toggleable__label sk-toggleable__label-arrow\">KNeighborsClassifier</label><div class=\"sk-toggleable__content\"><pre>KNeighborsClassifier(n_neighbors=1)</pre></div></div></div></div></div>"
      ],
      "text/plain": [
       "KNeighborsClassifier(n_neighbors=1)"
      ]
     },
     "execution_count": 12,
     "metadata": {},
     "output_type": "execute_result"
    }
   ],
   "source": [
    "# K-Nearest Neighbors Classifier model\n",
    "from sklearn.neighbors import KNeighborsClassifier\n",
    "\n",
    "# instantiate the model\n",
    "knn = KNeighborsClassifier(n_neighbors=1)\n",
    "\n",
    "# fit the model \n",
    "knn.fit(X_train,y_train)"
   ]
  },
  {
   "cell_type": "code",
   "execution_count": 13,
   "id": "269c61e7",
   "metadata": {},
   "outputs": [],
   "source": [
    "#predicting the target value from the model for the samples\n",
    "y_train_knn = knn.predict(X_train)\n",
    "y_test_knn = knn.predict(X_test)"
   ]
  },
  {
   "cell_type": "code",
   "execution_count": 14,
   "id": "77d9c3bf",
   "metadata": {},
   "outputs": [
    {
     "name": "stdout",
     "output_type": "stream",
     "text": [
      "K-Nearest Neighbors : Accuracy on training Data: 0.989\n",
      "K-Nearest Neighbors : Accuracy on test Data: 0.956\n",
      "\n",
      "K-Nearest Neighbors : f1_score on training Data: 0.990\n",
      "K-Nearest Neighbors : f1_score on test Data: 0.961\n",
      "\n",
      "K-Nearest Neighborsn : Recall on training Data: 0.991\n",
      "Logistic Regression : Recall on test Data: 0.962\n",
      "\n",
      "K-Nearest Neighbors : precision on training Data: 0.989\n",
      "K-Nearest Neighbors : precision on test Data: 0.960\n"
     ]
    }
   ],
   "source": [
    "#computing the accuracy,f1_score,Recall,precision of the model performance\n",
    "\n",
    "acc_train_knn = metrics.accuracy_score(y_train,y_train_knn)\n",
    "acc_test_knn = metrics.accuracy_score(y_test,y_test_knn)\n",
    "print(\"K-Nearest Neighbors : Accuracy on training Data: {:.3f}\".format(acc_train_knn))\n",
    "print(\"K-Nearest Neighbors : Accuracy on test Data: {:.3f}\".format(acc_test_knn))\n",
    "print()\n",
    "\n",
    "f1_score_train_knn = metrics.f1_score(y_train,y_train_knn)\n",
    "f1_score_test_knn = metrics.f1_score(y_test,y_test_knn)\n",
    "print(\"K-Nearest Neighbors : f1_score on training Data: {:.3f}\".format(f1_score_train_knn))\n",
    "print(\"K-Nearest Neighbors : f1_score on test Data: {:.3f}\".format(f1_score_test_knn))\n",
    "print()\n",
    "\n",
    "recall_score_train_knn = metrics.recall_score(y_train,y_train_knn)\n",
    "recall_score_test_knn = metrics.recall_score(y_test,y_test_knn)\n",
    "print(\"K-Nearest Neighborsn : Recall on training Data: {:.3f}\".format(recall_score_train_knn))\n",
    "print(\"Logistic Regression : Recall on test Data: {:.3f}\".format(recall_score_test_knn))\n",
    "print()\n",
    "\n",
    "precision_score_train_knn = metrics.precision_score(y_train,y_train_knn)\n",
    "precision_score_test_knn = metrics.precision_score(y_test,y_test_knn)\n",
    "print(\"K-Nearest Neighbors : precision on training Data: {:.3f}\".format(precision_score_train_knn))\n",
    "print(\"K-Nearest Neighbors : precision on test Data: {:.3f}\".format(precision_score_test_knn))"
   ]
  },
  {
   "cell_type": "code",
   "execution_count": 15,
   "id": "f6a6658f",
   "metadata": {},
   "outputs": [
    {
     "name": "stdout",
     "output_type": "stream",
     "text": [
      "              precision    recall  f1-score   support\n",
      "\n",
      "          -1       0.95      0.95      0.95       976\n",
      "           1       0.96      0.96      0.96      1235\n",
      "\n",
      "    accuracy                           0.96      2211\n",
      "   macro avg       0.96      0.96      0.96      2211\n",
      "weighted avg       0.96      0.96      0.96      2211\n",
      "\n"
     ]
    }
   ],
   "source": [
    "#computing the classification report of the model\n",
    "\n",
    "print(metrics.classification_report(y_test, y_test_knn))"
   ]
  },
  {
   "cell_type": "code",
   "execution_count": 111,
   "id": "d4dc5c1b",
   "metadata": {},
   "outputs": [
    {
     "ename": "KeyboardInterrupt",
     "evalue": "",
     "output_type": "error",
     "traceback": [
      "\u001b[0;31m---------------------------------------------------------------------------\u001b[0m",
      "\u001b[0;31mKeyboardInterrupt\u001b[0m                         Traceback (most recent call last)",
      "Cell \u001b[0;32mIn[111], line 12\u001b[0m\n\u001b[1;32m     10\u001b[0m     training_accuracy\u001b[39m.\u001b[39mappend(knn\u001b[39m.\u001b[39mscore(X_train, y_train))\n\u001b[1;32m     11\u001b[0m     \u001b[39m# record generalization accuracy\u001b[39;00m\n\u001b[0;32m---> 12\u001b[0m     test_accuracy\u001b[39m.\u001b[39mappend(knn\u001b[39m.\u001b[39;49mscore(X_test, y_test))\n\u001b[1;32m     15\u001b[0m \u001b[39m#plotting the training & testing accuracy for n_estimators from 1 to 20\u001b[39;00m\n\u001b[1;32m     16\u001b[0m \u001b[39m# plt.plot(depth, training_accuracy, label=\"training accuracy\")\u001b[39;00m\n\u001b[1;32m     17\u001b[0m \u001b[39m# plt.plot(depth, test_accuracy, label=\"test accuracy\")\u001b[39;00m\n\u001b[0;32m   (...)\u001b[0m\n\u001b[1;32m     31\u001b[0m \n\u001b[1;32m     32\u001b[0m \u001b[39m# Show the interactive line chart\u001b[39;00m\n\u001b[1;32m     33\u001b[0m fig\u001b[39m.\u001b[39mshow()\n",
      "File \u001b[0;32m~/.local/lib/python3.11/site-packages/sklearn/base.py:668\u001b[0m, in \u001b[0;36mClassifierMixin.score\u001b[0;34m(self, X, y, sample_weight)\u001b[0m\n\u001b[1;32m    643\u001b[0m \u001b[39m\u001b[39m\u001b[39m\"\"\"\u001b[39;00m\n\u001b[1;32m    644\u001b[0m \u001b[39mReturn the mean accuracy on the given test data and labels.\u001b[39;00m\n\u001b[1;32m    645\u001b[0m \n\u001b[0;32m   (...)\u001b[0m\n\u001b[1;32m    664\u001b[0m \u001b[39m    Mean accuracy of ``self.predict(X)`` w.r.t. `y`.\u001b[39;00m\n\u001b[1;32m    665\u001b[0m \u001b[39m\"\"\"\u001b[39;00m\n\u001b[1;32m    666\u001b[0m \u001b[39mfrom\u001b[39;00m \u001b[39m.\u001b[39;00m\u001b[39mmetrics\u001b[39;00m \u001b[39mimport\u001b[39;00m accuracy_score\n\u001b[0;32m--> 668\u001b[0m \u001b[39mreturn\u001b[39;00m accuracy_score(y, \u001b[39mself\u001b[39;49m\u001b[39m.\u001b[39;49mpredict(X), sample_weight\u001b[39m=\u001b[39msample_weight)\n",
      "File \u001b[0;32m~/.local/lib/python3.11/site-packages/sklearn/neighbors/_classification.py:234\u001b[0m, in \u001b[0;36mKNeighborsClassifier.predict\u001b[0;34m(self, X)\u001b[0m\n\u001b[1;32m    218\u001b[0m \u001b[39m\u001b[39m\u001b[39m\"\"\"Predict the class labels for the provided data.\u001b[39;00m\n\u001b[1;32m    219\u001b[0m \n\u001b[1;32m    220\u001b[0m \u001b[39mParameters\u001b[39;00m\n\u001b[0;32m   (...)\u001b[0m\n\u001b[1;32m    229\u001b[0m \u001b[39m    Class labels for each data sample.\u001b[39;00m\n\u001b[1;32m    230\u001b[0m \u001b[39m\"\"\"\u001b[39;00m\n\u001b[1;32m    231\u001b[0m \u001b[39mif\u001b[39;00m \u001b[39mself\u001b[39m\u001b[39m.\u001b[39mweights \u001b[39m==\u001b[39m \u001b[39m\"\u001b[39m\u001b[39muniform\u001b[39m\u001b[39m\"\u001b[39m:\n\u001b[1;32m    232\u001b[0m     \u001b[39m# In that case, we do not need the distances to perform\u001b[39;00m\n\u001b[1;32m    233\u001b[0m     \u001b[39m# the weighting so we do not compute them.\u001b[39;00m\n\u001b[0;32m--> 234\u001b[0m     neigh_ind \u001b[39m=\u001b[39m \u001b[39mself\u001b[39;49m\u001b[39m.\u001b[39;49mkneighbors(X, return_distance\u001b[39m=\u001b[39;49m\u001b[39mFalse\u001b[39;49;00m)\n\u001b[1;32m    235\u001b[0m     neigh_dist \u001b[39m=\u001b[39m \u001b[39mNone\u001b[39;00m\n\u001b[1;32m    236\u001b[0m \u001b[39melse\u001b[39;00m:\n",
      "File \u001b[0;32m~/.local/lib/python3.11/site-packages/sklearn/neighbors/_base.py:861\u001b[0m, in \u001b[0;36mKNeighborsMixin.kneighbors\u001b[0;34m(self, X, n_neighbors, return_distance)\u001b[0m\n\u001b[1;32m    858\u001b[0m     \u001b[39melse\u001b[39;00m:\n\u001b[1;32m    859\u001b[0m         kwds \u001b[39m=\u001b[39m \u001b[39mself\u001b[39m\u001b[39m.\u001b[39meffective_metric_params_\n\u001b[0;32m--> 861\u001b[0m     chunked_results \u001b[39m=\u001b[39m \u001b[39mlist\u001b[39m(\n\u001b[1;32m    862\u001b[0m         pairwise_distances_chunked(\n\u001b[1;32m    863\u001b[0m             X,\n\u001b[1;32m    864\u001b[0m             \u001b[39mself\u001b[39m\u001b[39m.\u001b[39m_fit_X,\n\u001b[1;32m    865\u001b[0m             reduce_func\u001b[39m=\u001b[39mreduce_func,\n\u001b[1;32m    866\u001b[0m             metric\u001b[39m=\u001b[39m\u001b[39mself\u001b[39m\u001b[39m.\u001b[39meffective_metric_,\n\u001b[1;32m    867\u001b[0m             n_jobs\u001b[39m=\u001b[39mn_jobs,\n\u001b[1;32m    868\u001b[0m             \u001b[39m*\u001b[39m\u001b[39m*\u001b[39mkwds,\n\u001b[1;32m    869\u001b[0m         )\n\u001b[1;32m    870\u001b[0m     )\n\u001b[1;32m    872\u001b[0m \u001b[39melif\u001b[39;00m \u001b[39mself\u001b[39m\u001b[39m.\u001b[39m_fit_method \u001b[39min\u001b[39;00m [\u001b[39m\"\u001b[39m\u001b[39mball_tree\u001b[39m\u001b[39m\"\u001b[39m, \u001b[39m\"\u001b[39m\u001b[39mkd_tree\u001b[39m\u001b[39m\"\u001b[39m]:\n\u001b[1;32m    873\u001b[0m     \u001b[39mif\u001b[39;00m issparse(X):\n",
      "File \u001b[0;32m~/.local/lib/python3.11/site-packages/sklearn/metrics/pairwise.py:1867\u001b[0m, in \u001b[0;36mpairwise_distances_chunked\u001b[0;34m(X, Y, reduce_func, metric, n_jobs, working_memory, **kwds)\u001b[0m\n\u001b[1;32m   1865\u001b[0m \u001b[39melse\u001b[39;00m:\n\u001b[1;32m   1866\u001b[0m     X_chunk \u001b[39m=\u001b[39m X[sl]\n\u001b[0;32m-> 1867\u001b[0m D_chunk \u001b[39m=\u001b[39m pairwise_distances(X_chunk, Y, metric\u001b[39m=\u001b[39;49mmetric, n_jobs\u001b[39m=\u001b[39;49mn_jobs, \u001b[39m*\u001b[39;49m\u001b[39m*\u001b[39;49mkwds)\n\u001b[1;32m   1868\u001b[0m \u001b[39mif\u001b[39;00m (X \u001b[39mis\u001b[39;00m Y \u001b[39mor\u001b[39;00m Y \u001b[39mis\u001b[39;00m \u001b[39mNone\u001b[39;00m) \u001b[39mand\u001b[39;00m PAIRWISE_DISTANCE_FUNCTIONS\u001b[39m.\u001b[39mget(\n\u001b[1;32m   1869\u001b[0m     metric, \u001b[39mNone\u001b[39;00m\n\u001b[1;32m   1870\u001b[0m ) \u001b[39mis\u001b[39;00m euclidean_distances:\n\u001b[1;32m   1871\u001b[0m     \u001b[39m# zeroing diagonal, taking care of aliases of \"euclidean\",\u001b[39;00m\n\u001b[1;32m   1872\u001b[0m     \u001b[39m# i.e. \"l2\"\u001b[39;00m\n\u001b[1;32m   1873\u001b[0m     D_chunk\u001b[39m.\u001b[39mflat[sl\u001b[39m.\u001b[39mstart :: _num_samples(X) \u001b[39m+\u001b[39m \u001b[39m1\u001b[39m] \u001b[39m=\u001b[39m \u001b[39m0\u001b[39m\n",
      "File \u001b[0;32m~/.local/lib/python3.11/site-packages/sklearn/metrics/pairwise.py:2039\u001b[0m, in \u001b[0;36mpairwise_distances\u001b[0;34m(X, Y, metric, n_jobs, force_all_finite, **kwds)\u001b[0m\n\u001b[1;32m   2036\u001b[0m         \u001b[39mreturn\u001b[39;00m distance\u001b[39m.\u001b[39msquareform(distance\u001b[39m.\u001b[39mpdist(X, metric\u001b[39m=\u001b[39mmetric, \u001b[39m*\u001b[39m\u001b[39m*\u001b[39mkwds))\n\u001b[1;32m   2037\u001b[0m     func \u001b[39m=\u001b[39m partial(distance\u001b[39m.\u001b[39mcdist, metric\u001b[39m=\u001b[39mmetric, \u001b[39m*\u001b[39m\u001b[39m*\u001b[39mkwds)\n\u001b[0;32m-> 2039\u001b[0m \u001b[39mreturn\u001b[39;00m _parallel_pairwise(X, Y, func, n_jobs, \u001b[39m*\u001b[39;49m\u001b[39m*\u001b[39;49mkwds)\n",
      "File \u001b[0;32m~/.local/lib/python3.11/site-packages/sklearn/metrics/pairwise.py:1579\u001b[0m, in \u001b[0;36m_parallel_pairwise\u001b[0;34m(X, Y, func, n_jobs, **kwds)\u001b[0m\n\u001b[1;32m   1576\u001b[0m X, Y, dtype \u001b[39m=\u001b[39m _return_float_dtype(X, Y)\n\u001b[1;32m   1578\u001b[0m \u001b[39mif\u001b[39;00m effective_n_jobs(n_jobs) \u001b[39m==\u001b[39m \u001b[39m1\u001b[39m:\n\u001b[0;32m-> 1579\u001b[0m     \u001b[39mreturn\u001b[39;00m func(X, Y, \u001b[39m*\u001b[39;49m\u001b[39m*\u001b[39;49mkwds)\n\u001b[1;32m   1581\u001b[0m \u001b[39m# enforce a threading backend to prevent data communication overhead\u001b[39;00m\n\u001b[1;32m   1582\u001b[0m fd \u001b[39m=\u001b[39m delayed(_dist_wrapper)\n",
      "File \u001b[0;32m~/.local/lib/python3.11/site-packages/sklearn/metrics/pairwise.py:328\u001b[0m, in \u001b[0;36meuclidean_distances\u001b[0;34m(X, Y, Y_norm_squared, squared, X_norm_squared)\u001b[0m\n\u001b[1;32m    322\u001b[0m     \u001b[39mif\u001b[39;00m Y_norm_squared\u001b[39m.\u001b[39mshape \u001b[39m!=\u001b[39m (\u001b[39m1\u001b[39m, Y\u001b[39m.\u001b[39mshape[\u001b[39m0\u001b[39m]):\n\u001b[1;32m    323\u001b[0m         \u001b[39mraise\u001b[39;00m \u001b[39mValueError\u001b[39;00m(\n\u001b[1;32m    324\u001b[0m             \u001b[39mf\u001b[39m\u001b[39m\"\u001b[39m\u001b[39mIncompatible dimensions for Y of shape \u001b[39m\u001b[39m{\u001b[39;00mY\u001b[39m.\u001b[39mshape\u001b[39m}\u001b[39;00m\u001b[39m and \u001b[39m\u001b[39m\"\u001b[39m\n\u001b[1;32m    325\u001b[0m             \u001b[39mf\u001b[39m\u001b[39m\"\u001b[39m\u001b[39mY_norm_squared of shape \u001b[39m\u001b[39m{\u001b[39;00moriginal_shape\u001b[39m}\u001b[39;00m\u001b[39m.\u001b[39m\u001b[39m\"\u001b[39m\n\u001b[1;32m    326\u001b[0m         )\n\u001b[0;32m--> 328\u001b[0m \u001b[39mreturn\u001b[39;00m _euclidean_distances(X, Y, X_norm_squared, Y_norm_squared, squared)\n",
      "File \u001b[0;32m~/.local/lib/python3.11/site-packages/sklearn/metrics/pairwise.py:369\u001b[0m, in \u001b[0;36m_euclidean_distances\u001b[0;34m(X, Y, X_norm_squared, Y_norm_squared, squared)\u001b[0m\n\u001b[1;32m    366\u001b[0m     distances \u001b[39m=\u001b[39m _euclidean_distances_upcast(X, XX, Y, YY)\n\u001b[1;32m    367\u001b[0m \u001b[39melse\u001b[39;00m:\n\u001b[1;32m    368\u001b[0m     \u001b[39m# if dtype is already float64, no need to chunk and upcast\u001b[39;00m\n\u001b[0;32m--> 369\u001b[0m     distances \u001b[39m=\u001b[39m \u001b[39m-\u001b[39m\u001b[39m2\u001b[39m \u001b[39m*\u001b[39m safe_sparse_dot(X, Y\u001b[39m.\u001b[39;49mT, dense_output\u001b[39m=\u001b[39;49m\u001b[39mTrue\u001b[39;49;00m)\n\u001b[1;32m    370\u001b[0m     distances \u001b[39m+\u001b[39m\u001b[39m=\u001b[39m XX\n\u001b[1;32m    371\u001b[0m     distances \u001b[39m+\u001b[39m\u001b[39m=\u001b[39m YY\n",
      "File \u001b[0;32m~/.local/lib/python3.11/site-packages/sklearn/utils/extmath.py:192\u001b[0m, in \u001b[0;36msafe_sparse_dot\u001b[0;34m(a, b, dense_output)\u001b[0m\n\u001b[1;32m    188\u001b[0m \u001b[39melse\u001b[39;00m:\n\u001b[1;32m    189\u001b[0m     ret \u001b[39m=\u001b[39m a \u001b[39m@\u001b[39m b\n\u001b[1;32m    191\u001b[0m \u001b[39mif\u001b[39;00m (\n\u001b[0;32m--> 192\u001b[0m     sparse\u001b[39m.\u001b[39;49missparse(a)\n\u001b[1;32m    193\u001b[0m     \u001b[39mand\u001b[39;00m sparse\u001b[39m.\u001b[39missparse(b)\n\u001b[1;32m    194\u001b[0m     \u001b[39mand\u001b[39;00m dense_output\n\u001b[1;32m    195\u001b[0m     \u001b[39mand\u001b[39;00m \u001b[39mhasattr\u001b[39m(ret, \u001b[39m\"\u001b[39m\u001b[39mtoarray\u001b[39m\u001b[39m\"\u001b[39m)\n\u001b[1;32m    196\u001b[0m ):\n\u001b[1;32m    197\u001b[0m     \u001b[39mreturn\u001b[39;00m ret\u001b[39m.\u001b[39mtoarray()\n\u001b[1;32m    198\u001b[0m \u001b[39mreturn\u001b[39;00m ret\n",
      "File \u001b[0;32m/usr/lib/python3/dist-packages/scipy/sparse/_base.py:1301\u001b[0m, in \u001b[0;36misspmatrix\u001b[0;34m(x)\u001b[0m\n\u001b[1;32m   1297\u001b[0m         \u001b[39melse\u001b[39;00m:\n\u001b[1;32m   1298\u001b[0m             \u001b[39mreturn\u001b[39;00m np\u001b[39m.\u001b[39mzeros(\u001b[39mself\u001b[39m\u001b[39m.\u001b[39mshape, dtype\u001b[39m=\u001b[39m\u001b[39mself\u001b[39m\u001b[39m.\u001b[39mdtype, order\u001b[39m=\u001b[39morder)\n\u001b[0;32m-> 1301\u001b[0m \u001b[39mdef\u001b[39;00m \u001b[39misspmatrix\u001b[39m(x):\n\u001b[1;32m   1302\u001b[0m \u001b[39m    \u001b[39m\u001b[39m\"\"\"Is x of a sparse matrix type?\u001b[39;00m\n\u001b[1;32m   1303\u001b[0m \n\u001b[1;32m   1304\u001b[0m \u001b[39m    Parameters\u001b[39;00m\n\u001b[0;32m   (...)\u001b[0m\n\u001b[1;32m   1326\u001b[0m \u001b[39m    False\u001b[39;00m\n\u001b[1;32m   1327\u001b[0m \u001b[39m    \"\"\"\u001b[39;00m\n\u001b[1;32m   1328\u001b[0m     \u001b[39mreturn\u001b[39;00m \u001b[39misinstance\u001b[39m(x, spmatrix)\n",
      "\u001b[0;31mKeyboardInterrupt\u001b[0m: "
     ]
    }
   ],
   "source": [
    "training_accuracy = []\n",
    "test_accuracy = []\n",
    "# try max_depth from 1 to 20\n",
    "depth = range(1,20)\n",
    "for n in depth:\n",
    "    knn = KNeighborsClassifier(n_neighbors=n)\n",
    "\n",
    "    knn.fit(X_train, y_train)\n",
    "    # record training set accuracy\n",
    "    training_accuracy.append(knn.score(X_train, y_train))\n",
    "    # record generalization accuracy\n",
    "    test_accuracy.append(knn.score(X_test, y_test))\n",
    "    \n",
    "\n",
    "#plotting the training & testing accuracy for n_estimators from 1 to 20\n",
    "# plt.plot(depth, training_accuracy, label=\"training accuracy\")\n",
    "# plt.plot(depth, test_accuracy, label=\"test accuracy\")\n",
    "# plt.ylabel(\"Accuracy\")  \n",
    "# plt.xlabel(\"n_neighbors\")\n",
    "# plt.legend();\n",
    "# \n",
    "# #plotting the training & testing accuracy for n_estimators from 1 to 20\n",
    "\n",
    "# # Create a DataFrame to hold training and testing accuracy values\n",
    "accuracy_df = pd.DataFrame({'n_neighbors': depth, 'Training Accuracy': training_accuracy, 'Test Accuracy': test_accuracy})\n",
    "\n",
    "# Create an interactive line chart using Plotly Express\n",
    "fig = px.line(accuracy_df, x='n_neighbors', y=['Training Accuracy', 'Test Accuracy'],\n",
    "              title=\"Training & Testing Accuracy vs n_neighbors\",\n",
    "              labels={'n_neighbors': 'Number of Neighbors', 'value': 'Accuracy', 'variable': 'Accuracy Type'})\n",
    "\n",
    "# Show the interactive line chart\n",
    "fig.show()"
   ]
  },
  {
   "cell_type": "code",
   "execution_count": 17,
   "id": "19e5bf0c",
   "metadata": {},
   "outputs": [],
   "source": [
    "#storing the results. The below mentioned order of parameter passing is important.\n",
    "\n",
    "storeResults('K-Nearest Neighbors',acc_test_knn,f1_score_test_knn,\n",
    "             recall_score_train_knn,precision_score_train_knn)"
   ]
  },
  {
   "cell_type": "markdown",
   "id": "b8bc8b53",
   "metadata": {},
   "source": [
    "## 5.3. Support Vector Machine : Classifier"
   ]
  },
  {
   "cell_type": "code",
   "execution_count": 18,
   "id": "be3cb194",
   "metadata": {},
   "outputs": [
    {
     "data": {
      "text/html": [
       "<style>#sk-container-id-3 {color: black;background-color: white;}#sk-container-id-3 pre{padding: 0;}#sk-container-id-3 div.sk-toggleable {background-color: white;}#sk-container-id-3 label.sk-toggleable__label {cursor: pointer;display: block;width: 100%;margin-bottom: 0;padding: 0.3em;box-sizing: border-box;text-align: center;}#sk-container-id-3 label.sk-toggleable__label-arrow:before {content: \"▸\";float: left;margin-right: 0.25em;color: #696969;}#sk-container-id-3 label.sk-toggleable__label-arrow:hover:before {color: black;}#sk-container-id-3 div.sk-estimator:hover label.sk-toggleable__label-arrow:before {color: black;}#sk-container-id-3 div.sk-toggleable__content {max-height: 0;max-width: 0;overflow: hidden;text-align: left;background-color: #f0f8ff;}#sk-container-id-3 div.sk-toggleable__content pre {margin: 0.2em;color: black;border-radius: 0.25em;background-color: #f0f8ff;}#sk-container-id-3 input.sk-toggleable__control:checked~div.sk-toggleable__content {max-height: 200px;max-width: 100%;overflow: auto;}#sk-container-id-3 input.sk-toggleable__control:checked~label.sk-toggleable__label-arrow:before {content: \"▾\";}#sk-container-id-3 div.sk-estimator input.sk-toggleable__control:checked~label.sk-toggleable__label {background-color: #d4ebff;}#sk-container-id-3 div.sk-label input.sk-toggleable__control:checked~label.sk-toggleable__label {background-color: #d4ebff;}#sk-container-id-3 input.sk-hidden--visually {border: 0;clip: rect(1px 1px 1px 1px);clip: rect(1px, 1px, 1px, 1px);height: 1px;margin: -1px;overflow: hidden;padding: 0;position: absolute;width: 1px;}#sk-container-id-3 div.sk-estimator {font-family: monospace;background-color: #f0f8ff;border: 1px dotted black;border-radius: 0.25em;box-sizing: border-box;margin-bottom: 0.5em;}#sk-container-id-3 div.sk-estimator:hover {background-color: #d4ebff;}#sk-container-id-3 div.sk-parallel-item::after {content: \"\";width: 100%;border-bottom: 1px solid gray;flex-grow: 1;}#sk-container-id-3 div.sk-label:hover label.sk-toggleable__label {background-color: #d4ebff;}#sk-container-id-3 div.sk-serial::before {content: \"\";position: absolute;border-left: 1px solid gray;box-sizing: border-box;top: 0;bottom: 0;left: 50%;z-index: 0;}#sk-container-id-3 div.sk-serial {display: flex;flex-direction: column;align-items: center;background-color: white;padding-right: 0.2em;padding-left: 0.2em;position: relative;}#sk-container-id-3 div.sk-item {position: relative;z-index: 1;}#sk-container-id-3 div.sk-parallel {display: flex;align-items: stretch;justify-content: center;background-color: white;position: relative;}#sk-container-id-3 div.sk-item::before, #sk-container-id-3 div.sk-parallel-item::before {content: \"\";position: absolute;border-left: 1px solid gray;box-sizing: border-box;top: 0;bottom: 0;left: 50%;z-index: -1;}#sk-container-id-3 div.sk-parallel-item {display: flex;flex-direction: column;z-index: 1;position: relative;background-color: white;}#sk-container-id-3 div.sk-parallel-item:first-child::after {align-self: flex-end;width: 50%;}#sk-container-id-3 div.sk-parallel-item:last-child::after {align-self: flex-start;width: 50%;}#sk-container-id-3 div.sk-parallel-item:only-child::after {width: 0;}#sk-container-id-3 div.sk-dashed-wrapped {border: 1px dashed gray;margin: 0 0.4em 0.5em 0.4em;box-sizing: border-box;padding-bottom: 0.4em;background-color: white;}#sk-container-id-3 div.sk-label label {font-family: monospace;font-weight: bold;display: inline-block;line-height: 1.2em;}#sk-container-id-3 div.sk-label-container {text-align: center;}#sk-container-id-3 div.sk-container {/* jupyter's `normalize.less` sets `[hidden] { display: none; }` but bootstrap.min.css set `[hidden] { display: none !important; }` so we also need the `!important` here to be able to override the default hidden behavior on the sphinx rendered scikit-learn.org. See: https://github.com/scikit-learn/scikit-learn/issues/21755 */display: inline-block !important;position: relative;}#sk-container-id-3 div.sk-text-repr-fallback {display: none;}</style><div id=\"sk-container-id-3\" class=\"sk-top-container\"><div class=\"sk-text-repr-fallback\"><pre>GridSearchCV(estimator=SVC(),\n",
       "             param_grid={&#x27;gamma&#x27;: [0.1], &#x27;kernel&#x27;: [&#x27;rbf&#x27;, &#x27;linear&#x27;]})</pre><b>In a Jupyter environment, please rerun this cell to show the HTML representation or trust the notebook. <br />On GitHub, the HTML representation is unable to render, please try loading this page with nbviewer.org.</b></div><div class=\"sk-container\" hidden><div class=\"sk-item sk-dashed-wrapped\"><div class=\"sk-label-container\"><div class=\"sk-label sk-toggleable\"><input class=\"sk-toggleable__control sk-hidden--visually\" id=\"sk-estimator-id-3\" type=\"checkbox\" ><label for=\"sk-estimator-id-3\" class=\"sk-toggleable__label sk-toggleable__label-arrow\">GridSearchCV</label><div class=\"sk-toggleable__content\"><pre>GridSearchCV(estimator=SVC(),\n",
       "             param_grid={&#x27;gamma&#x27;: [0.1], &#x27;kernel&#x27;: [&#x27;rbf&#x27;, &#x27;linear&#x27;]})</pre></div></div></div><div class=\"sk-parallel\"><div class=\"sk-parallel-item\"><div class=\"sk-item\"><div class=\"sk-label-container\"><div class=\"sk-label sk-toggleable\"><input class=\"sk-toggleable__control sk-hidden--visually\" id=\"sk-estimator-id-4\" type=\"checkbox\" ><label for=\"sk-estimator-id-4\" class=\"sk-toggleable__label sk-toggleable__label-arrow\">estimator: SVC</label><div class=\"sk-toggleable__content\"><pre>SVC()</pre></div></div></div><div class=\"sk-serial\"><div class=\"sk-item\"><div class=\"sk-estimator sk-toggleable\"><input class=\"sk-toggleable__control sk-hidden--visually\" id=\"sk-estimator-id-5\" type=\"checkbox\" ><label for=\"sk-estimator-id-5\" class=\"sk-toggleable__label sk-toggleable__label-arrow\">SVC</label><div class=\"sk-toggleable__content\"><pre>SVC()</pre></div></div></div></div></div></div></div></div></div></div>"
      ],
      "text/plain": [
       "GridSearchCV(estimator=SVC(),\n",
       "             param_grid={'gamma': [0.1], 'kernel': ['rbf', 'linear']})"
      ]
     },
     "execution_count": 18,
     "metadata": {},
     "output_type": "execute_result"
    }
   ],
   "source": [
    "# Support Vector Classifier model \n",
    "from sklearn.svm import SVC\n",
    "from sklearn.model_selection import GridSearchCV\n",
    "\n",
    "# defining parameter range\n",
    "param_grid = {'gamma': [0.1],'kernel': ['rbf','linear']}\n",
    "\n",
    "svc = GridSearchCV(SVC(), param_grid)\n",
    "\n",
    "# fitting the model for grid search\n",
    "svc.fit(X_train, y_train)\n"
   ]
  },
  {
   "cell_type": "code",
   "execution_count": 19,
   "id": "2b25eef4",
   "metadata": {},
   "outputs": [],
   "source": [
    "#predicting the target value from the model for the samples\n",
    "y_train_svc = svc.predict(X_train)\n",
    "y_test_svc = svc.predict(X_test)"
   ]
  },
  {
   "cell_type": "code",
   "execution_count": 20,
   "id": "079d4b39",
   "metadata": {},
   "outputs": [
    {
     "name": "stdout",
     "output_type": "stream",
     "text": [
      "Support Vector Machine : Accuracy on training Data: 0.969\n",
      "Support Vector Machine : Accuracy on test Data: 0.964\n",
      "\n",
      "Support Vector Machine : f1_score on training Data: 0.973\n",
      "Support Vector Machine : f1_score on test Data: 0.968\n",
      "\n",
      "Support Vector Machine : Recall on training Data: 0.980\n",
      "Support Vector Machine : Recall on test Data: 0.980\n",
      "\n",
      "Support Vector Machine : precision on training Data: 0.965\n",
      "Support Vector Machine : precision on test Data: 0.957\n"
     ]
    }
   ],
   "source": [
    "#computing the accuracy, f1_score, Recall, precision of the model performance\n",
    "\n",
    "acc_train_svc = metrics.accuracy_score(y_train,y_train_svc)\n",
    "acc_test_svc = metrics.accuracy_score(y_test,y_test_svc)\n",
    "print(\"Support Vector Machine : Accuracy on training Data: {:.3f}\".format(acc_train_svc))\n",
    "print(\"Support Vector Machine : Accuracy on test Data: {:.3f}\".format(acc_test_svc))\n",
    "print()\n",
    "\n",
    "f1_score_train_svc = metrics.f1_score(y_train,y_train_svc)\n",
    "f1_score_test_svc = metrics.f1_score(y_test,y_test_svc)\n",
    "print(\"Support Vector Machine : f1_score on training Data: {:.3f}\".format(f1_score_train_svc))\n",
    "print(\"Support Vector Machine : f1_score on test Data: {:.3f}\".format(f1_score_test_svc))\n",
    "print()\n",
    "\n",
    "recall_score_train_svc = metrics.recall_score(y_train,y_train_svc)\n",
    "recall_score_test_svc = metrics.recall_score(y_test,y_test_svc)\n",
    "print(\"Support Vector Machine : Recall on training Data: {:.3f}\".format(recall_score_train_svc))\n",
    "print(\"Support Vector Machine : Recall on test Data: {:.3f}\".format(recall_score_test_svc))\n",
    "print()\n",
    "\n",
    "precision_score_train_svc = metrics.precision_score(y_train,y_train_svc)\n",
    "precision_score_test_svc = metrics.precision_score(y_test,y_test_svc)\n",
    "print(\"Support Vector Machine : precision on training Data: {:.3f}\".format(precision_score_train_svc))\n",
    "print(\"Support Vector Machine : precision on test Data: {:.3f}\".format(precision_score_test_svc))"
   ]
  },
  {
   "cell_type": "code",
   "execution_count": 21,
   "id": "b80c577b",
   "metadata": {},
   "outputs": [
    {
     "name": "stdout",
     "output_type": "stream",
     "text": [
      "              precision    recall  f1-score   support\n",
      "\n",
      "          -1       0.97      0.94      0.96       976\n",
      "           1       0.96      0.98      0.97      1235\n",
      "\n",
      "    accuracy                           0.96      2211\n",
      "   macro avg       0.97      0.96      0.96      2211\n",
      "weighted avg       0.96      0.96      0.96      2211\n",
      "\n"
     ]
    }
   ],
   "source": [
    "#computing the classification report of the model\n",
    "\n",
    "print(metrics.classification_report(y_test, y_test_svc))"
   ]
  },
  {
   "cell_type": "code",
   "execution_count": 22,
   "id": "b82e2f70",
   "metadata": {},
   "outputs": [],
   "source": [
    "#storing the results. The below mentioned order of parameter passing is important.\n",
    "\n",
    "storeResults('Support Vector Machine',acc_test_svc,f1_score_test_svc,\n",
    "             recall_score_train_svc,precision_score_train_svc)"
   ]
  },
  {
   "cell_type": "markdown",
   "id": "8ba22f40",
   "metadata": {},
   "source": [
    "## 5.4. Naive Bayes : Classifier"
   ]
  },
  {
   "cell_type": "code",
   "execution_count": 23,
   "id": "69469f59",
   "metadata": {},
   "outputs": [
    {
     "data": {
      "text/html": [
       "<style>#sk-container-id-4 {color: black;background-color: white;}#sk-container-id-4 pre{padding: 0;}#sk-container-id-4 div.sk-toggleable {background-color: white;}#sk-container-id-4 label.sk-toggleable__label {cursor: pointer;display: block;width: 100%;margin-bottom: 0;padding: 0.3em;box-sizing: border-box;text-align: center;}#sk-container-id-4 label.sk-toggleable__label-arrow:before {content: \"▸\";float: left;margin-right: 0.25em;color: #696969;}#sk-container-id-4 label.sk-toggleable__label-arrow:hover:before {color: black;}#sk-container-id-4 div.sk-estimator:hover label.sk-toggleable__label-arrow:before {color: black;}#sk-container-id-4 div.sk-toggleable__content {max-height: 0;max-width: 0;overflow: hidden;text-align: left;background-color: #f0f8ff;}#sk-container-id-4 div.sk-toggleable__content pre {margin: 0.2em;color: black;border-radius: 0.25em;background-color: #f0f8ff;}#sk-container-id-4 input.sk-toggleable__control:checked~div.sk-toggleable__content {max-height: 200px;max-width: 100%;overflow: auto;}#sk-container-id-4 input.sk-toggleable__control:checked~label.sk-toggleable__label-arrow:before {content: \"▾\";}#sk-container-id-4 div.sk-estimator input.sk-toggleable__control:checked~label.sk-toggleable__label {background-color: #d4ebff;}#sk-container-id-4 div.sk-label input.sk-toggleable__control:checked~label.sk-toggleable__label {background-color: #d4ebff;}#sk-container-id-4 input.sk-hidden--visually {border: 0;clip: rect(1px 1px 1px 1px);clip: rect(1px, 1px, 1px, 1px);height: 1px;margin: -1px;overflow: hidden;padding: 0;position: absolute;width: 1px;}#sk-container-id-4 div.sk-estimator {font-family: monospace;background-color: #f0f8ff;border: 1px dotted black;border-radius: 0.25em;box-sizing: border-box;margin-bottom: 0.5em;}#sk-container-id-4 div.sk-estimator:hover {background-color: #d4ebff;}#sk-container-id-4 div.sk-parallel-item::after {content: \"\";width: 100%;border-bottom: 1px solid gray;flex-grow: 1;}#sk-container-id-4 div.sk-label:hover label.sk-toggleable__label {background-color: #d4ebff;}#sk-container-id-4 div.sk-serial::before {content: \"\";position: absolute;border-left: 1px solid gray;box-sizing: border-box;top: 0;bottom: 0;left: 50%;z-index: 0;}#sk-container-id-4 div.sk-serial {display: flex;flex-direction: column;align-items: center;background-color: white;padding-right: 0.2em;padding-left: 0.2em;position: relative;}#sk-container-id-4 div.sk-item {position: relative;z-index: 1;}#sk-container-id-4 div.sk-parallel {display: flex;align-items: stretch;justify-content: center;background-color: white;position: relative;}#sk-container-id-4 div.sk-item::before, #sk-container-id-4 div.sk-parallel-item::before {content: \"\";position: absolute;border-left: 1px solid gray;box-sizing: border-box;top: 0;bottom: 0;left: 50%;z-index: -1;}#sk-container-id-4 div.sk-parallel-item {display: flex;flex-direction: column;z-index: 1;position: relative;background-color: white;}#sk-container-id-4 div.sk-parallel-item:first-child::after {align-self: flex-end;width: 50%;}#sk-container-id-4 div.sk-parallel-item:last-child::after {align-self: flex-start;width: 50%;}#sk-container-id-4 div.sk-parallel-item:only-child::after {width: 0;}#sk-container-id-4 div.sk-dashed-wrapped {border: 1px dashed gray;margin: 0 0.4em 0.5em 0.4em;box-sizing: border-box;padding-bottom: 0.4em;background-color: white;}#sk-container-id-4 div.sk-label label {font-family: monospace;font-weight: bold;display: inline-block;line-height: 1.2em;}#sk-container-id-4 div.sk-label-container {text-align: center;}#sk-container-id-4 div.sk-container {/* jupyter's `normalize.less` sets `[hidden] { display: none; }` but bootstrap.min.css set `[hidden] { display: none !important; }` so we also need the `!important` here to be able to override the default hidden behavior on the sphinx rendered scikit-learn.org. See: https://github.com/scikit-learn/scikit-learn/issues/21755 */display: inline-block !important;position: relative;}#sk-container-id-4 div.sk-text-repr-fallback {display: none;}</style><div id=\"sk-container-id-4\" class=\"sk-top-container\"><div class=\"sk-text-repr-fallback\"><pre>GaussianNB()</pre><b>In a Jupyter environment, please rerun this cell to show the HTML representation or trust the notebook. <br />On GitHub, the HTML representation is unable to render, please try loading this page with nbviewer.org.</b></div><div class=\"sk-container\" hidden><div class=\"sk-item\"><div class=\"sk-estimator sk-toggleable\"><input class=\"sk-toggleable__control sk-hidden--visually\" id=\"sk-estimator-id-6\" type=\"checkbox\" checked><label for=\"sk-estimator-id-6\" class=\"sk-toggleable__label sk-toggleable__label-arrow\">GaussianNB</label><div class=\"sk-toggleable__content\"><pre>GaussianNB()</pre></div></div></div></div></div>"
      ],
      "text/plain": [
       "GaussianNB()"
      ]
     },
     "execution_count": 23,
     "metadata": {},
     "output_type": "execute_result"
    }
   ],
   "source": [
    "# Naive Bayes Classifier Model\n",
    "from sklearn.naive_bayes import GaussianNB\n",
    "from sklearn.pipeline import Pipeline\n",
    "\n",
    "# instantiate the model\n",
    "nb=  GaussianNB()\n",
    "\n",
    "# fit the model \n",
    "nb.fit(X_train,y_train)"
   ]
  },
  {
   "cell_type": "code",
   "execution_count": 24,
   "id": "d5af1028",
   "metadata": {},
   "outputs": [],
   "source": [
    "#predicting the target value from the model for the samples\n",
    "y_train_nb = nb.predict(X_train)\n",
    "y_test_nb = nb.predict(X_test)"
   ]
  },
  {
   "cell_type": "code",
   "execution_count": 25,
   "id": "63968c7a",
   "metadata": {},
   "outputs": [
    {
     "name": "stdout",
     "output_type": "stream",
     "text": [
      "Naive Bayes Classifier : Accuracy on training Data: 0.605\n",
      "Naive Bayes Classifier : Accuracy on test Data: 0.605\n",
      "\n",
      "Naive Bayes Classifier : f1_score on training Data: 0.451\n",
      "Naive Bayes Classifier : f1_score on test Data: 0.454\n",
      "\n",
      "Naive Bayes Classifier : Recall on training Data: 0.292\n",
      "Naive Bayes Classifier : Recall on test Data: 0.294\n",
      "\n",
      "Naive Bayes Classifier : precision on training Data: 0.997\n",
      "Naive Bayes Classifier : precision on test Data: 0.995\n"
     ]
    }
   ],
   "source": [
    "#computing the accuracy, f1_score, Recall, precision of the model performance\n",
    "\n",
    "acc_train_nb = metrics.accuracy_score(y_train,y_train_nb)\n",
    "acc_test_nb = metrics.accuracy_score(y_test,y_test_nb)\n",
    "print(\"Naive Bayes Classifier : Accuracy on training Data: {:.3f}\".format(acc_train_nb))\n",
    "print(\"Naive Bayes Classifier : Accuracy on test Data: {:.3f}\".format(acc_test_nb))\n",
    "print()\n",
    "\n",
    "f1_score_train_nb = metrics.f1_score(y_train,y_train_nb)\n",
    "f1_score_test_nb = metrics.f1_score(y_test,y_test_nb)\n",
    "print(\"Naive Bayes Classifier : f1_score on training Data: {:.3f}\".format(f1_score_train_nb))\n",
    "print(\"Naive Bayes Classifier : f1_score on test Data: {:.3f}\".format(f1_score_test_nb))\n",
    "print()\n",
    "\n",
    "recall_score_train_nb = metrics.recall_score(y_train,y_train_nb)\n",
    "recall_score_test_nb = metrics.recall_score(y_test,y_test_nb)\n",
    "print(\"Naive Bayes Classifier : Recall on training Data: {:.3f}\".format(recall_score_train_nb))\n",
    "print(\"Naive Bayes Classifier : Recall on test Data: {:.3f}\".format(recall_score_test_nb))\n",
    "print()\n",
    "\n",
    "precision_score_train_nb = metrics.precision_score(y_train,y_train_nb)\n",
    "precision_score_test_nb = metrics.precision_score(y_test,y_test_nb)\n",
    "print(\"Naive Bayes Classifier : precision on training Data: {:.3f}\".format(precision_score_train_nb))\n",
    "print(\"Naive Bayes Classifier : precision on test Data: {:.3f}\".format(precision_score_test_nb))"
   ]
  },
  {
   "cell_type": "code",
   "execution_count": 26,
   "id": "cb7d8f0b",
   "metadata": {},
   "outputs": [
    {
     "name": "stdout",
     "output_type": "stream",
     "text": [
      "              precision    recall  f1-score   support\n",
      "\n",
      "          -1       0.97      0.94      0.96       976\n",
      "           1       0.96      0.98      0.97      1235\n",
      "\n",
      "    accuracy                           0.96      2211\n",
      "   macro avg       0.97      0.96      0.96      2211\n",
      "weighted avg       0.96      0.96      0.96      2211\n",
      "\n"
     ]
    }
   ],
   "source": [
    "#computing the classification report of the model\n",
    "\n",
    "print(metrics.classification_report(y_test, y_test_svc))"
   ]
  },
  {
   "cell_type": "code",
   "execution_count": 27,
   "id": "51080f01",
   "metadata": {},
   "outputs": [],
   "source": [
    "#storing the results. The below mentioned order of parameter passing is important.\n",
    "\n",
    "storeResults('Naive Bayes Classifier',acc_test_nb,f1_score_test_nb,\n",
    "             recall_score_train_nb,precision_score_train_nb)"
   ]
  },
  {
   "cell_type": "markdown",
   "id": "bffea1bb",
   "metadata": {},
   "source": [
    "## 5.5. Decision Trees : Classifier"
   ]
  },
  {
   "cell_type": "code",
   "execution_count": 28,
   "id": "31379c27",
   "metadata": {},
   "outputs": [
    {
     "data": {
      "text/html": [
       "<style>#sk-container-id-5 {color: black;background-color: white;}#sk-container-id-5 pre{padding: 0;}#sk-container-id-5 div.sk-toggleable {background-color: white;}#sk-container-id-5 label.sk-toggleable__label {cursor: pointer;display: block;width: 100%;margin-bottom: 0;padding: 0.3em;box-sizing: border-box;text-align: center;}#sk-container-id-5 label.sk-toggleable__label-arrow:before {content: \"▸\";float: left;margin-right: 0.25em;color: #696969;}#sk-container-id-5 label.sk-toggleable__label-arrow:hover:before {color: black;}#sk-container-id-5 div.sk-estimator:hover label.sk-toggleable__label-arrow:before {color: black;}#sk-container-id-5 div.sk-toggleable__content {max-height: 0;max-width: 0;overflow: hidden;text-align: left;background-color: #f0f8ff;}#sk-container-id-5 div.sk-toggleable__content pre {margin: 0.2em;color: black;border-radius: 0.25em;background-color: #f0f8ff;}#sk-container-id-5 input.sk-toggleable__control:checked~div.sk-toggleable__content {max-height: 200px;max-width: 100%;overflow: auto;}#sk-container-id-5 input.sk-toggleable__control:checked~label.sk-toggleable__label-arrow:before {content: \"▾\";}#sk-container-id-5 div.sk-estimator input.sk-toggleable__control:checked~label.sk-toggleable__label {background-color: #d4ebff;}#sk-container-id-5 div.sk-label input.sk-toggleable__control:checked~label.sk-toggleable__label {background-color: #d4ebff;}#sk-container-id-5 input.sk-hidden--visually {border: 0;clip: rect(1px 1px 1px 1px);clip: rect(1px, 1px, 1px, 1px);height: 1px;margin: -1px;overflow: hidden;padding: 0;position: absolute;width: 1px;}#sk-container-id-5 div.sk-estimator {font-family: monospace;background-color: #f0f8ff;border: 1px dotted black;border-radius: 0.25em;box-sizing: border-box;margin-bottom: 0.5em;}#sk-container-id-5 div.sk-estimator:hover {background-color: #d4ebff;}#sk-container-id-5 div.sk-parallel-item::after {content: \"\";width: 100%;border-bottom: 1px solid gray;flex-grow: 1;}#sk-container-id-5 div.sk-label:hover label.sk-toggleable__label {background-color: #d4ebff;}#sk-container-id-5 div.sk-serial::before {content: \"\";position: absolute;border-left: 1px solid gray;box-sizing: border-box;top: 0;bottom: 0;left: 50%;z-index: 0;}#sk-container-id-5 div.sk-serial {display: flex;flex-direction: column;align-items: center;background-color: white;padding-right: 0.2em;padding-left: 0.2em;position: relative;}#sk-container-id-5 div.sk-item {position: relative;z-index: 1;}#sk-container-id-5 div.sk-parallel {display: flex;align-items: stretch;justify-content: center;background-color: white;position: relative;}#sk-container-id-5 div.sk-item::before, #sk-container-id-5 div.sk-parallel-item::before {content: \"\";position: absolute;border-left: 1px solid gray;box-sizing: border-box;top: 0;bottom: 0;left: 50%;z-index: -1;}#sk-container-id-5 div.sk-parallel-item {display: flex;flex-direction: column;z-index: 1;position: relative;background-color: white;}#sk-container-id-5 div.sk-parallel-item:first-child::after {align-self: flex-end;width: 50%;}#sk-container-id-5 div.sk-parallel-item:last-child::after {align-self: flex-start;width: 50%;}#sk-container-id-5 div.sk-parallel-item:only-child::after {width: 0;}#sk-container-id-5 div.sk-dashed-wrapped {border: 1px dashed gray;margin: 0 0.4em 0.5em 0.4em;box-sizing: border-box;padding-bottom: 0.4em;background-color: white;}#sk-container-id-5 div.sk-label label {font-family: monospace;font-weight: bold;display: inline-block;line-height: 1.2em;}#sk-container-id-5 div.sk-label-container {text-align: center;}#sk-container-id-5 div.sk-container {/* jupyter's `normalize.less` sets `[hidden] { display: none; }` but bootstrap.min.css set `[hidden] { display: none !important; }` so we also need the `!important` here to be able to override the default hidden behavior on the sphinx rendered scikit-learn.org. See: https://github.com/scikit-learn/scikit-learn/issues/21755 */display: inline-block !important;position: relative;}#sk-container-id-5 div.sk-text-repr-fallback {display: none;}</style><div id=\"sk-container-id-5\" class=\"sk-top-container\"><div class=\"sk-text-repr-fallback\"><pre>DecisionTreeClassifier(max_depth=30)</pre><b>In a Jupyter environment, please rerun this cell to show the HTML representation or trust the notebook. <br />On GitHub, the HTML representation is unable to render, please try loading this page with nbviewer.org.</b></div><div class=\"sk-container\" hidden><div class=\"sk-item\"><div class=\"sk-estimator sk-toggleable\"><input class=\"sk-toggleable__control sk-hidden--visually\" id=\"sk-estimator-id-7\" type=\"checkbox\" checked><label for=\"sk-estimator-id-7\" class=\"sk-toggleable__label sk-toggleable__label-arrow\">DecisionTreeClassifier</label><div class=\"sk-toggleable__content\"><pre>DecisionTreeClassifier(max_depth=30)</pre></div></div></div></div></div>"
      ],
      "text/plain": [
       "DecisionTreeClassifier(max_depth=30)"
      ]
     },
     "execution_count": 28,
     "metadata": {},
     "output_type": "execute_result"
    }
   ],
   "source": [
    "# Decision Tree Classifier model \n",
    "from sklearn.tree import DecisionTreeClassifier\n",
    "\n",
    "# instantiate the model \n",
    "tree = DecisionTreeClassifier(max_depth=30)\n",
    "\n",
    "# fit the model \n",
    "tree.fit(X_train, y_train)"
   ]
  },
  {
   "cell_type": "code",
   "execution_count": 29,
   "id": "6c19c3ec",
   "metadata": {},
   "outputs": [],
   "source": [
    "#predicting the target value from the model for the samples\n",
    "\n",
    "y_train_tree = tree.predict(X_train)\n",
    "y_test_tree = tree.predict(X_test)"
   ]
  },
  {
   "cell_type": "code",
   "execution_count": 30,
   "id": "b577d598",
   "metadata": {},
   "outputs": [
    {
     "name": "stdout",
     "output_type": "stream",
     "text": [
      "Decision Tree : Accuracy on training Data: 0.991\n",
      "Decision Tree : Accuracy on test Data: 0.959\n",
      "\n",
      "Decision Tree : f1_score on training Data: 0.992\n",
      "Decision Tree : f1_score on test Data: 0.964\n",
      "\n",
      "Decision Tree : Recall on training Data: 0.991\n",
      "Decision Tree : Recall on test Data: 0.964\n",
      "\n",
      "Decision Tree : precision on training Data: 0.993\n",
      "Decision Tree : precision on test Data: 0.964\n"
     ]
    }
   ],
   "source": [
    "#computing the accuracy, f1_score, Recall, precision of the model performance\n",
    "\n",
    "acc_train_tree = metrics.accuracy_score(y_train,y_train_tree)\n",
    "acc_test_tree = metrics.accuracy_score(y_test,y_test_tree)\n",
    "print(\"Decision Tree : Accuracy on training Data: {:.3f}\".format(acc_train_tree))\n",
    "print(\"Decision Tree : Accuracy on test Data: {:.3f}\".format(acc_test_tree))\n",
    "print()\n",
    "\n",
    "f1_score_train_tree = metrics.f1_score(y_train,y_train_tree)\n",
    "f1_score_test_tree = metrics.f1_score(y_test,y_test_tree)\n",
    "print(\"Decision Tree : f1_score on training Data: {:.3f}\".format(f1_score_train_tree))\n",
    "print(\"Decision Tree : f1_score on test Data: {:.3f}\".format(f1_score_test_tree))\n",
    "print()\n",
    "\n",
    "recall_score_train_tree = metrics.recall_score(y_train,y_train_tree)\n",
    "recall_score_test_tree = metrics.recall_score(y_test,y_test_tree)\n",
    "print(\"Decision Tree : Recall on training Data: {:.3f}\".format(recall_score_train_tree))\n",
    "print(\"Decision Tree : Recall on test Data: {:.3f}\".format(recall_score_test_tree))\n",
    "print()\n",
    "\n",
    "precision_score_train_tree = metrics.precision_score(y_train,y_train_tree)\n",
    "precision_score_test_tree = metrics.precision_score(y_test,y_test_tree)\n",
    "print(\"Decision Tree : precision on training Data: {:.3f}\".format(precision_score_train_tree))\n",
    "print(\"Decision Tree : precision on test Data: {:.3f}\".format(precision_score_test_tree))"
   ]
  },
  {
   "cell_type": "code",
   "execution_count": 31,
   "id": "87bcb8b6",
   "metadata": {},
   "outputs": [
    {
     "name": "stdout",
     "output_type": "stream",
     "text": [
      "              precision    recall  f1-score   support\n",
      "\n",
      "          -1       0.95      0.95      0.95       976\n",
      "           1       0.96      0.96      0.96      1235\n",
      "\n",
      "    accuracy                           0.96      2211\n",
      "   macro avg       0.96      0.96      0.96      2211\n",
      "weighted avg       0.96      0.96      0.96      2211\n",
      "\n"
     ]
    }
   ],
   "source": [
    "#computing the classification report of the model\n",
    "\n",
    "print(metrics.classification_report(y_test, y_test_tree))"
   ]
  },
  {
   "cell_type": "code",
   "execution_count": 108,
   "id": "b0fdcdd9",
   "metadata": {},
   "outputs": [
    {
     "data": {
      "application/vnd.plotly.v1+json": {
       "config": {
        "plotlyServerURL": "https://plot.ly"
       },
       "data": [
        {
         "hovertemplate": "Accuracy Type=Training Accuracy<br>Max Depth=%{x}<br>Accuracy=%{y}<extra></extra>",
         "legendgroup": "Training Accuracy",
         "line": {
          "color": "#636efa",
          "dash": "solid"
         },
         "marker": {
          "symbol": "circle"
         },
         "mode": "lines",
         "name": "Training Accuracy",
         "orientation": "v",
         "showlegend": true,
         "type": "scatter",
         "x": [
          1,
          2,
          3,
          4,
          5,
          6,
          7,
          8,
          9,
          10,
          11,
          12,
          13,
          14,
          15,
          16,
          17,
          18,
          19,
          20,
          21,
          22,
          23,
          24,
          25,
          26,
          27,
          28,
          29
         ],
         "xaxis": "x",
         "y": [
          0.8874816238832975,
          0.9046703607373063,
          0.9070451204342418,
          0.9165441592219835,
          0.9215198462060387,
          0.9315843039692412,
          0.9387085830600475,
          0.9444758566097479,
          0.9531833088318444,
          0.9592898337668212,
          0.9650571073165215,
          0.9692412077349316,
          0.9750084812846319,
          0.9791925817030419,
          0.9840551848920049,
          0.9864299445889404,
          0.9894832070564288,
          0.9901617098269818,
          0.9910663801877191,
          0.9910663801877191,
          0.9910663801877191,
          0.9910663801877191,
          0.9910663801877191,
          0.9910663801877191,
          0.9910663801877191,
          0.9910663801877191,
          0.9910663801877191,
          0.9910663801877191,
          0.9910663801877191
         ],
         "yaxis": "y"
        },
        {
         "hovertemplate": "Accuracy Type=Test Accuracy<br>Max Depth=%{x}<br>Accuracy=%{y}<extra></extra>",
         "legendgroup": "Test Accuracy",
         "line": {
          "color": "#EF553B",
          "dash": "solid"
         },
         "marker": {
          "symbol": "circle"
         },
         "mode": "lines",
         "name": "Test Accuracy",
         "orientation": "v",
         "showlegend": true,
         "type": "scatter",
         "x": [
          1,
          2,
          3,
          4,
          5,
          6,
          7,
          8,
          9,
          10,
          11,
          12,
          13,
          14,
          15,
          16,
          17,
          18,
          19,
          20,
          21,
          22,
          23,
          24,
          25,
          26,
          27,
          28,
          29
         ],
         "xaxis": "x",
         "y": [
          0.8946178199909544,
          0.9127091813658977,
          0.9099954771596562,
          0.9231117141564903,
          0.9271822704658526,
          0.9344188150158299,
          0.937584803256445,
          0.9430122116689281,
          0.9434644957033017,
          0.952962460425147,
          0.9556761646313885,
          0.9538670284938942,
          0.9543193125282677,
          0.9538670284938942,
          0.9556761646313885,
          0.9525101763907734,
          0.9579375848032564,
          0.9588421528720036,
          0.9592944369063772,
          0.9588421528720036,
          0.9588421528720036,
          0.9588421528720036,
          0.9597467209407508,
          0.9561284486657621,
          0.9592944369063772,
          0.9588421528720036,
          0.9561284486657621,
          0.9615558570782451,
          0.9597467209407508
         ],
         "yaxis": "y"
        }
       ],
       "layout": {
        "legend": {
         "title": {
          "text": "Accuracy Type"
         },
         "tracegroupgap": 0
        },
        "template": {
         "data": {
          "bar": [
           {
            "error_x": {
             "color": "#2a3f5f"
            },
            "error_y": {
             "color": "#2a3f5f"
            },
            "marker": {
             "line": {
              "color": "#E5ECF6",
              "width": 0.5
             },
             "pattern": {
              "fillmode": "overlay",
              "size": 10,
              "solidity": 0.2
             }
            },
            "type": "bar"
           }
          ],
          "barpolar": [
           {
            "marker": {
             "line": {
              "color": "#E5ECF6",
              "width": 0.5
             },
             "pattern": {
              "fillmode": "overlay",
              "size": 10,
              "solidity": 0.2
             }
            },
            "type": "barpolar"
           }
          ],
          "carpet": [
           {
            "aaxis": {
             "endlinecolor": "#2a3f5f",
             "gridcolor": "white",
             "linecolor": "white",
             "minorgridcolor": "white",
             "startlinecolor": "#2a3f5f"
            },
            "baxis": {
             "endlinecolor": "#2a3f5f",
             "gridcolor": "white",
             "linecolor": "white",
             "minorgridcolor": "white",
             "startlinecolor": "#2a3f5f"
            },
            "type": "carpet"
           }
          ],
          "choropleth": [
           {
            "colorbar": {
             "outlinewidth": 0,
             "ticks": ""
            },
            "type": "choropleth"
           }
          ],
          "contour": [
           {
            "colorbar": {
             "outlinewidth": 0,
             "ticks": ""
            },
            "colorscale": [
             [
              0,
              "#0d0887"
             ],
             [
              0.1111111111111111,
              "#46039f"
             ],
             [
              0.2222222222222222,
              "#7201a8"
             ],
             [
              0.3333333333333333,
              "#9c179e"
             ],
             [
              0.4444444444444444,
              "#bd3786"
             ],
             [
              0.5555555555555556,
              "#d8576b"
             ],
             [
              0.6666666666666666,
              "#ed7953"
             ],
             [
              0.7777777777777778,
              "#fb9f3a"
             ],
             [
              0.8888888888888888,
              "#fdca26"
             ],
             [
              1,
              "#f0f921"
             ]
            ],
            "type": "contour"
           }
          ],
          "contourcarpet": [
           {
            "colorbar": {
             "outlinewidth": 0,
             "ticks": ""
            },
            "type": "contourcarpet"
           }
          ],
          "heatmap": [
           {
            "colorbar": {
             "outlinewidth": 0,
             "ticks": ""
            },
            "colorscale": [
             [
              0,
              "#0d0887"
             ],
             [
              0.1111111111111111,
              "#46039f"
             ],
             [
              0.2222222222222222,
              "#7201a8"
             ],
             [
              0.3333333333333333,
              "#9c179e"
             ],
             [
              0.4444444444444444,
              "#bd3786"
             ],
             [
              0.5555555555555556,
              "#d8576b"
             ],
             [
              0.6666666666666666,
              "#ed7953"
             ],
             [
              0.7777777777777778,
              "#fb9f3a"
             ],
             [
              0.8888888888888888,
              "#fdca26"
             ],
             [
              1,
              "#f0f921"
             ]
            ],
            "type": "heatmap"
           }
          ],
          "heatmapgl": [
           {
            "colorbar": {
             "outlinewidth": 0,
             "ticks": ""
            },
            "colorscale": [
             [
              0,
              "#0d0887"
             ],
             [
              0.1111111111111111,
              "#46039f"
             ],
             [
              0.2222222222222222,
              "#7201a8"
             ],
             [
              0.3333333333333333,
              "#9c179e"
             ],
             [
              0.4444444444444444,
              "#bd3786"
             ],
             [
              0.5555555555555556,
              "#d8576b"
             ],
             [
              0.6666666666666666,
              "#ed7953"
             ],
             [
              0.7777777777777778,
              "#fb9f3a"
             ],
             [
              0.8888888888888888,
              "#fdca26"
             ],
             [
              1,
              "#f0f921"
             ]
            ],
            "type": "heatmapgl"
           }
          ],
          "histogram": [
           {
            "marker": {
             "pattern": {
              "fillmode": "overlay",
              "size": 10,
              "solidity": 0.2
             }
            },
            "type": "histogram"
           }
          ],
          "histogram2d": [
           {
            "colorbar": {
             "outlinewidth": 0,
             "ticks": ""
            },
            "colorscale": [
             [
              0,
              "#0d0887"
             ],
             [
              0.1111111111111111,
              "#46039f"
             ],
             [
              0.2222222222222222,
              "#7201a8"
             ],
             [
              0.3333333333333333,
              "#9c179e"
             ],
             [
              0.4444444444444444,
              "#bd3786"
             ],
             [
              0.5555555555555556,
              "#d8576b"
             ],
             [
              0.6666666666666666,
              "#ed7953"
             ],
             [
              0.7777777777777778,
              "#fb9f3a"
             ],
             [
              0.8888888888888888,
              "#fdca26"
             ],
             [
              1,
              "#f0f921"
             ]
            ],
            "type": "histogram2d"
           }
          ],
          "histogram2dcontour": [
           {
            "colorbar": {
             "outlinewidth": 0,
             "ticks": ""
            },
            "colorscale": [
             [
              0,
              "#0d0887"
             ],
             [
              0.1111111111111111,
              "#46039f"
             ],
             [
              0.2222222222222222,
              "#7201a8"
             ],
             [
              0.3333333333333333,
              "#9c179e"
             ],
             [
              0.4444444444444444,
              "#bd3786"
             ],
             [
              0.5555555555555556,
              "#d8576b"
             ],
             [
              0.6666666666666666,
              "#ed7953"
             ],
             [
              0.7777777777777778,
              "#fb9f3a"
             ],
             [
              0.8888888888888888,
              "#fdca26"
             ],
             [
              1,
              "#f0f921"
             ]
            ],
            "type": "histogram2dcontour"
           }
          ],
          "mesh3d": [
           {
            "colorbar": {
             "outlinewidth": 0,
             "ticks": ""
            },
            "type": "mesh3d"
           }
          ],
          "parcoords": [
           {
            "line": {
             "colorbar": {
              "outlinewidth": 0,
              "ticks": ""
             }
            },
            "type": "parcoords"
           }
          ],
          "pie": [
           {
            "automargin": true,
            "type": "pie"
           }
          ],
          "scatter": [
           {
            "fillpattern": {
             "fillmode": "overlay",
             "size": 10,
             "solidity": 0.2
            },
            "type": "scatter"
           }
          ],
          "scatter3d": [
           {
            "line": {
             "colorbar": {
              "outlinewidth": 0,
              "ticks": ""
             }
            },
            "marker": {
             "colorbar": {
              "outlinewidth": 0,
              "ticks": ""
             }
            },
            "type": "scatter3d"
           }
          ],
          "scattercarpet": [
           {
            "marker": {
             "colorbar": {
              "outlinewidth": 0,
              "ticks": ""
             }
            },
            "type": "scattercarpet"
           }
          ],
          "scattergeo": [
           {
            "marker": {
             "colorbar": {
              "outlinewidth": 0,
              "ticks": ""
             }
            },
            "type": "scattergeo"
           }
          ],
          "scattergl": [
           {
            "marker": {
             "colorbar": {
              "outlinewidth": 0,
              "ticks": ""
             }
            },
            "type": "scattergl"
           }
          ],
          "scattermapbox": [
           {
            "marker": {
             "colorbar": {
              "outlinewidth": 0,
              "ticks": ""
             }
            },
            "type": "scattermapbox"
           }
          ],
          "scatterpolar": [
           {
            "marker": {
             "colorbar": {
              "outlinewidth": 0,
              "ticks": ""
             }
            },
            "type": "scatterpolar"
           }
          ],
          "scatterpolargl": [
           {
            "marker": {
             "colorbar": {
              "outlinewidth": 0,
              "ticks": ""
             }
            },
            "type": "scatterpolargl"
           }
          ],
          "scatterternary": [
           {
            "marker": {
             "colorbar": {
              "outlinewidth": 0,
              "ticks": ""
             }
            },
            "type": "scatterternary"
           }
          ],
          "surface": [
           {
            "colorbar": {
             "outlinewidth": 0,
             "ticks": ""
            },
            "colorscale": [
             [
              0,
              "#0d0887"
             ],
             [
              0.1111111111111111,
              "#46039f"
             ],
             [
              0.2222222222222222,
              "#7201a8"
             ],
             [
              0.3333333333333333,
              "#9c179e"
             ],
             [
              0.4444444444444444,
              "#bd3786"
             ],
             [
              0.5555555555555556,
              "#d8576b"
             ],
             [
              0.6666666666666666,
              "#ed7953"
             ],
             [
              0.7777777777777778,
              "#fb9f3a"
             ],
             [
              0.8888888888888888,
              "#fdca26"
             ],
             [
              1,
              "#f0f921"
             ]
            ],
            "type": "surface"
           }
          ],
          "table": [
           {
            "cells": {
             "fill": {
              "color": "#EBF0F8"
             },
             "line": {
              "color": "white"
             }
            },
            "header": {
             "fill": {
              "color": "#C8D4E3"
             },
             "line": {
              "color": "white"
             }
            },
            "type": "table"
           }
          ]
         },
         "layout": {
          "annotationdefaults": {
           "arrowcolor": "#2a3f5f",
           "arrowhead": 0,
           "arrowwidth": 1
          },
          "autotypenumbers": "strict",
          "coloraxis": {
           "colorbar": {
            "outlinewidth": 0,
            "ticks": ""
           }
          },
          "colorscale": {
           "diverging": [
            [
             0,
             "#8e0152"
            ],
            [
             0.1,
             "#c51b7d"
            ],
            [
             0.2,
             "#de77ae"
            ],
            [
             0.3,
             "#f1b6da"
            ],
            [
             0.4,
             "#fde0ef"
            ],
            [
             0.5,
             "#f7f7f7"
            ],
            [
             0.6,
             "#e6f5d0"
            ],
            [
             0.7,
             "#b8e186"
            ],
            [
             0.8,
             "#7fbc41"
            ],
            [
             0.9,
             "#4d9221"
            ],
            [
             1,
             "#276419"
            ]
           ],
           "sequential": [
            [
             0,
             "#0d0887"
            ],
            [
             0.1111111111111111,
             "#46039f"
            ],
            [
             0.2222222222222222,
             "#7201a8"
            ],
            [
             0.3333333333333333,
             "#9c179e"
            ],
            [
             0.4444444444444444,
             "#bd3786"
            ],
            [
             0.5555555555555556,
             "#d8576b"
            ],
            [
             0.6666666666666666,
             "#ed7953"
            ],
            [
             0.7777777777777778,
             "#fb9f3a"
            ],
            [
             0.8888888888888888,
             "#fdca26"
            ],
            [
             1,
             "#f0f921"
            ]
           ],
           "sequentialminus": [
            [
             0,
             "#0d0887"
            ],
            [
             0.1111111111111111,
             "#46039f"
            ],
            [
             0.2222222222222222,
             "#7201a8"
            ],
            [
             0.3333333333333333,
             "#9c179e"
            ],
            [
             0.4444444444444444,
             "#bd3786"
            ],
            [
             0.5555555555555556,
             "#d8576b"
            ],
            [
             0.6666666666666666,
             "#ed7953"
            ],
            [
             0.7777777777777778,
             "#fb9f3a"
            ],
            [
             0.8888888888888888,
             "#fdca26"
            ],
            [
             1,
             "#f0f921"
            ]
           ]
          },
          "colorway": [
           "#636efa",
           "#EF553B",
           "#00cc96",
           "#ab63fa",
           "#FFA15A",
           "#19d3f3",
           "#FF6692",
           "#B6E880",
           "#FF97FF",
           "#FECB52"
          ],
          "font": {
           "color": "#2a3f5f"
          },
          "geo": {
           "bgcolor": "white",
           "lakecolor": "white",
           "landcolor": "#E5ECF6",
           "showlakes": true,
           "showland": true,
           "subunitcolor": "white"
          },
          "hoverlabel": {
           "align": "left"
          },
          "hovermode": "closest",
          "mapbox": {
           "style": "light"
          },
          "paper_bgcolor": "white",
          "plot_bgcolor": "#E5ECF6",
          "polar": {
           "angularaxis": {
            "gridcolor": "white",
            "linecolor": "white",
            "ticks": ""
           },
           "bgcolor": "#E5ECF6",
           "radialaxis": {
            "gridcolor": "white",
            "linecolor": "white",
            "ticks": ""
           }
          },
          "scene": {
           "xaxis": {
            "backgroundcolor": "#E5ECF6",
            "gridcolor": "white",
            "gridwidth": 2,
            "linecolor": "white",
            "showbackground": true,
            "ticks": "",
            "zerolinecolor": "white"
           },
           "yaxis": {
            "backgroundcolor": "#E5ECF6",
            "gridcolor": "white",
            "gridwidth": 2,
            "linecolor": "white",
            "showbackground": true,
            "ticks": "",
            "zerolinecolor": "white"
           },
           "zaxis": {
            "backgroundcolor": "#E5ECF6",
            "gridcolor": "white",
            "gridwidth": 2,
            "linecolor": "white",
            "showbackground": true,
            "ticks": "",
            "zerolinecolor": "white"
           }
          },
          "shapedefaults": {
           "line": {
            "color": "#2a3f5f"
           }
          },
          "ternary": {
           "aaxis": {
            "gridcolor": "white",
            "linecolor": "white",
            "ticks": ""
           },
           "baxis": {
            "gridcolor": "white",
            "linecolor": "white",
            "ticks": ""
           },
           "bgcolor": "#E5ECF6",
           "caxis": {
            "gridcolor": "white",
            "linecolor": "white",
            "ticks": ""
           }
          },
          "title": {
           "x": 0.05
          },
          "xaxis": {
           "automargin": true,
           "gridcolor": "white",
           "linecolor": "white",
           "ticks": "",
           "title": {
            "standoff": 15
           },
           "zerolinecolor": "white",
           "zerolinewidth": 2
          },
          "yaxis": {
           "automargin": true,
           "gridcolor": "white",
           "linecolor": "white",
           "ticks": "",
           "title": {
            "standoff": 15
           },
           "zerolinecolor": "white",
           "zerolinewidth": 2
          }
         }
        },
        "title": {
         "text": "Training & Testing Accuracy vs max_depth"
        },
        "xaxis": {
         "anchor": "y",
         "domain": [
          0,
          1
         ],
         "title": {
          "text": "Max Depth"
         }
        },
        "yaxis": {
         "anchor": "x",
         "domain": [
          0,
          1
         ],
         "title": {
          "text": "Accuracy"
         }
        }
       }
      }
     },
     "metadata": {},
     "output_type": "display_data"
    },
    {
     "data": {
      "image/png": "[encoded data removed]",
      "text/plain": [
       "<Figure size 640x480 with 1 Axes>"
      ]
     },
     "metadata": {},
     "output_type": "display_data"
    }
   ],
   "source": [
    "training_accuracy = []\n",
    "test_accuracy = []\n",
    "# try max_depth from 1 to 30\n",
    "depth = range(1,30)\n",
    "for n in depth:\n",
    "    tree_test = DecisionTreeClassifier(max_depth=n)\n",
    "\n",
    "    tree_test.fit(X_train, y_train)\n",
    "    # record training set accuracy\n",
    "    training_accuracy.append(tree_test.score(X_train, y_train))\n",
    "    # record generalization accuracy\n",
    "    test_accuracy.append(tree_test.score(X_test, y_test))\n",
    "    \n",
    "\n",
    "#plotting the training & testing accuracy for max_depth from 1 to 30\n",
    "# plt.plot(depth, training_accuracy, label=\"training accuracy\")\n",
    "# plt.plot(depth, test_accuracy, label=\"test accuracy\")\n",
    "# plt.ylabel(\"Accuracy\")  \n",
    "# plt.xlabel(\"max_depth\")\n",
    "# plt.legend();\n",
    "\n",
    "# using plotly express to plot the training & testing accuracy for max_depth from 1 to 30\n",
    "# Create a DataFrame to hold training and testing accuracy values\n",
    "accuracy_df = pd.DataFrame({'max_depth': depth, 'Training Accuracy': training_accuracy, 'Test Accuracy': test_accuracy})\n",
    "\n",
    "# Create an interactive line chart using Plotly Express\n",
    "fig = px.line(accuracy_df, x='max_depth', y=['Training Accuracy', 'Test Accuracy'],\n",
    "              title=\"Training & Testing Accuracy vs max_depth\",\n",
    "              labels={'max_depth': 'Max Depth', 'value': 'Accuracy', 'variable': 'Accuracy Type'})\n",
    "\n",
    "# Show the interactive line chart\n",
    "fig.show()"
   ]
  },
  {
   "cell_type": "code",
   "execution_count": 33,
   "id": "0f3b12b8",
   "metadata": {},
   "outputs": [],
   "source": [
    "#storing the results. The below mentioned order of parameter passing is important.\n",
    "\n",
    "storeResults('Decision Tree',acc_test_tree,f1_score_test_tree,\n",
    "             recall_score_train_tree,precision_score_train_tree)"
   ]
  },
  {
   "cell_type": "markdown",
   "id": "02637ba8",
   "metadata": {},
   "source": [
    "## 5.6. Random Forest : Classifier"
   ]
  },
  {
   "cell_type": "code",
   "execution_count": 34,
   "id": "49272c25",
   "metadata": {},
   "outputs": [
    {
     "data": {
      "text/html": [
       "<style>#sk-container-id-6 {color: black;background-color: white;}#sk-container-id-6 pre{padding: 0;}#sk-container-id-6 div.sk-toggleable {background-color: white;}#sk-container-id-6 label.sk-toggleable__label {cursor: pointer;display: block;width: 100%;margin-bottom: 0;padding: 0.3em;box-sizing: border-box;text-align: center;}#sk-container-id-6 label.sk-toggleable__label-arrow:before {content: \"▸\";float: left;margin-right: 0.25em;color: #696969;}#sk-container-id-6 label.sk-toggleable__label-arrow:hover:before {color: black;}#sk-container-id-6 div.sk-estimator:hover label.sk-toggleable__label-arrow:before {color: black;}#sk-container-id-6 div.sk-toggleable__content {max-height: 0;max-width: 0;overflow: hidden;text-align: left;background-color: #f0f8ff;}#sk-container-id-6 div.sk-toggleable__content pre {margin: 0.2em;color: black;border-radius: 0.25em;background-color: #f0f8ff;}#sk-container-id-6 input.sk-toggleable__control:checked~div.sk-toggleable__content {max-height: 200px;max-width: 100%;overflow: auto;}#sk-container-id-6 input.sk-toggleable__control:checked~label.sk-toggleable__label-arrow:before {content: \"▾\";}#sk-container-id-6 div.sk-estimator input.sk-toggleable__control:checked~label.sk-toggleable__label {background-color: #d4ebff;}#sk-container-id-6 div.sk-label input.sk-toggleable__control:checked~label.sk-toggleable__label {background-color: #d4ebff;}#sk-container-id-6 input.sk-hidden--visually {border: 0;clip: rect(1px 1px 1px 1px);clip: rect(1px, 1px, 1px, 1px);height: 1px;margin: -1px;overflow: hidden;padding: 0;position: absolute;width: 1px;}#sk-container-id-6 div.sk-estimator {font-family: monospace;background-color: #f0f8ff;border: 1px dotted black;border-radius: 0.25em;box-sizing: border-box;margin-bottom: 0.5em;}#sk-container-id-6 div.sk-estimator:hover {background-color: #d4ebff;}#sk-container-id-6 div.sk-parallel-item::after {content: \"\";width: 100%;border-bottom: 1px solid gray;flex-grow: 1;}#sk-container-id-6 div.sk-label:hover label.sk-toggleable__label {background-color: #d4ebff;}#sk-container-id-6 div.sk-serial::before {content: \"\";position: absolute;border-left: 1px solid gray;box-sizing: border-box;top: 0;bottom: 0;left: 50%;z-index: 0;}#sk-container-id-6 div.sk-serial {display: flex;flex-direction: column;align-items: center;background-color: white;padding-right: 0.2em;padding-left: 0.2em;position: relative;}#sk-container-id-6 div.sk-item {position: relative;z-index: 1;}#sk-container-id-6 div.sk-parallel {display: flex;align-items: stretch;justify-content: center;background-color: white;position: relative;}#sk-container-id-6 div.sk-item::before, #sk-container-id-6 div.sk-parallel-item::before {content: \"\";position: absolute;border-left: 1px solid gray;box-sizing: border-box;top: 0;bottom: 0;left: 50%;z-index: -1;}#sk-container-id-6 div.sk-parallel-item {display: flex;flex-direction: column;z-index: 1;position: relative;background-color: white;}#sk-container-id-6 div.sk-parallel-item:first-child::after {align-self: flex-end;width: 50%;}#sk-container-id-6 div.sk-parallel-item:last-child::after {align-self: flex-start;width: 50%;}#sk-container-id-6 div.sk-parallel-item:only-child::after {width: 0;}#sk-container-id-6 div.sk-dashed-wrapped {border: 1px dashed gray;margin: 0 0.4em 0.5em 0.4em;box-sizing: border-box;padding-bottom: 0.4em;background-color: white;}#sk-container-id-6 div.sk-label label {font-family: monospace;font-weight: bold;display: inline-block;line-height: 1.2em;}#sk-container-id-6 div.sk-label-container {text-align: center;}#sk-container-id-6 div.sk-container {/* jupyter's `normalize.less` sets `[hidden] { display: none; }` but bootstrap.min.css set `[hidden] { display: none !important; }` so we also need the `!important` here to be able to override the default hidden behavior on the sphinx rendered scikit-learn.org. See: https://github.com/scikit-learn/scikit-learn/issues/21755 */display: inline-block !important;position: relative;}#sk-container-id-6 div.sk-text-repr-fallback {display: none;}</style><div id=\"sk-container-id-6\" class=\"sk-top-container\"><div class=\"sk-text-repr-fallback\"><pre>RandomForestClassifier(n_estimators=10)</pre><b>In a Jupyter environment, please rerun this cell to show the HTML representation or trust the notebook. <br />On GitHub, the HTML representation is unable to render, please try loading this page with nbviewer.org.</b></div><div class=\"sk-container\" hidden><div class=\"sk-item\"><div class=\"sk-estimator sk-toggleable\"><input class=\"sk-toggleable__control sk-hidden--visually\" id=\"sk-estimator-id-8\" type=\"checkbox\" checked><label for=\"sk-estimator-id-8\" class=\"sk-toggleable__label sk-toggleable__label-arrow\">RandomForestClassifier</label><div class=\"sk-toggleable__content\"><pre>RandomForestClassifier(n_estimators=10)</pre></div></div></div></div></div>"
      ],
      "text/plain": [
       "RandomForestClassifier(n_estimators=10)"
      ]
     },
     "execution_count": 34,
     "metadata": {},
     "output_type": "execute_result"
    }
   ],
   "source": [
    "# Random Forest Classifier Model\n",
    "from sklearn.ensemble import RandomForestClassifier\n",
    "\n",
    "# instantiate the model\n",
    "forest = RandomForestClassifier(n_estimators=10)\n",
    "\n",
    "# fit the model \n",
    "forest.fit(X_train,y_train)"
   ]
  },
  {
   "cell_type": "code",
   "execution_count": 35,
   "id": "82c1f8b7",
   "metadata": {},
   "outputs": [],
   "source": [
    "#predicting the target value from the model for the samples\n",
    "y_train_forest = forest.predict(X_train)\n",
    "y_test_forest = forest.predict(X_test)"
   ]
  },
  {
   "cell_type": "code",
   "execution_count": 36,
   "id": "a41bd7f0",
   "metadata": {},
   "outputs": [
    {
     "name": "stdout",
     "output_type": "stream",
     "text": [
      "Random Forest : Accuracy on training Data: 0.990\n",
      "Random Forest : Accuracy on test Data: 0.967\n",
      "\n",
      "Random Forest : f1_score on training Data: 0.991\n",
      "Random Forest : f1_score on test Data: 0.971\n",
      "\n",
      "Random Forest : Recall on training Data: 0.991\n",
      "Random Forest : Recall on test Data: 0.972\n",
      "\n",
      "Random Forest : precision on training Data: 0.991\n",
      "Random Forest : precision on test Data: 0.964\n"
     ]
    }
   ],
   "source": [
    "#computing the accuracy, f1_score, Recall, precision of the model performance\n",
    "\n",
    "acc_train_forest = metrics.accuracy_score(y_train,y_train_forest)\n",
    "acc_test_forest = metrics.accuracy_score(y_test,y_test_forest)\n",
    "print(\"Random Forest : Accuracy on training Data: {:.3f}\".format(acc_train_forest))\n",
    "print(\"Random Forest : Accuracy on test Data: {:.3f}\".format(acc_test_forest))\n",
    "print()\n",
    "\n",
    "f1_score_train_forest = metrics.f1_score(y_train,y_train_forest)\n",
    "f1_score_test_forest = metrics.f1_score(y_test,y_test_forest)\n",
    "print(\"Random Forest : f1_score on training Data: {:.3f}\".format(f1_score_train_forest))\n",
    "print(\"Random Forest : f1_score on test Data: {:.3f}\".format(f1_score_test_forest))\n",
    "print()\n",
    "\n",
    "recall_score_train_forest = metrics.recall_score(y_train,y_train_forest)\n",
    "recall_score_test_forest = metrics.recall_score(y_test,y_test_forest)\n",
    "print(\"Random Forest : Recall on training Data: {:.3f}\".format(recall_score_train_forest))\n",
    "print(\"Random Forest : Recall on test Data: {:.3f}\".format(recall_score_test_forest))\n",
    "print()\n",
    "\n",
    "precision_score_train_forest = metrics.precision_score(y_train,y_train_forest)\n",
    "precision_score_test_forest = metrics.precision_score(y_test,y_test_tree)\n",
    "print(\"Random Forest : precision on training Data: {:.3f}\".format(precision_score_train_forest))\n",
    "print(\"Random Forest : precision on test Data: {:.3f}\".format(precision_score_test_forest))"
   ]
  },
  {
   "cell_type": "code",
   "execution_count": 37,
   "id": "fb33464b",
   "metadata": {},
   "outputs": [
    {
     "name": "stdout",
     "output_type": "stream",
     "text": [
      "              precision    recall  f1-score   support\n",
      "\n",
      "          -1       0.97      0.96      0.96       976\n",
      "           1       0.97      0.97      0.97      1235\n",
      "\n",
      "    accuracy                           0.97      2211\n",
      "   macro avg       0.97      0.97      0.97      2211\n",
      "weighted avg       0.97      0.97      0.97      2211\n",
      "\n"
     ]
    }
   ],
   "source": [
    "#computing the classification report of the model\n",
    "\n",
    "print(metrics.classification_report(y_test, y_test_forest))"
   ]
  },
  {
   "cell_type": "code",
   "execution_count": 106,
   "id": "4f10c481",
   "metadata": {},
   "outputs": [
    {
     "data": {
      "application/vnd.plotly.v1+json": {
       "config": {
        "plotlyServerURL": "https://plot.ly"
       },
       "data": [
        {
         "hovertemplate": "Accuracy Type=Training Accuracy<br>Number of Estimators=%{x}<br>Accuracy=%{y}<extra></extra>",
         "legendgroup": "Training Accuracy",
         "line": {
          "color": "#636efa",
          "dash": "solid"
         },
         "marker": {
          "symbol": "circle"
         },
         "mode": "lines",
         "name": "Training Accuracy",
         "orientation": "v",
         "showlegend": true,
         "type": "scatter",
         "x": [
          1,
          2,
          3,
          4,
          5,
          6,
          7,
          8,
          9,
          10,
          11,
          12,
          13,
          14,
          15,
          16,
          17,
          18,
          19
         ],
         "xaxis": "x",
         "y": [
          0.9748953974895398,
          0.9782879113423046,
          0.9872215311545856,
          0.9874476987447699,
          0.9892570394662444,
          0.9899355422367975,
          0.9898224584417054,
          0.9900486260318896,
          0.9893701232613367,
          0.9907271288024426,
          0.9903878774171662,
          0.9905009612122583,
          0.9906140450073504,
          0.990953296392627,
          0.9906140450073504,
          0.990953296392627,
          0.9910663801877191,
          0.9908402125975347,
          0.9907271288024426
         ],
         "yaxis": "y"
        },
        {
         "hovertemplate": "Accuracy Type=Test Accuracy<br>Number of Estimators=%{x}<br>Accuracy=%{y}<extra></extra>",
         "legendgroup": "Test Accuracy",
         "line": {
          "color": "#EF553B",
          "dash": "solid"
         },
         "marker": {
          "symbol": "circle"
         },
         "mode": "lines",
         "name": "Test Accuracy",
         "orientation": "v",
         "showlegend": true,
         "type": "scatter",
         "x": [
          1,
          2,
          3,
          4,
          5,
          6,
          7,
          8,
          9,
          10,
          11,
          12,
          13,
          14,
          15,
          16,
          17,
          18,
          19
         ],
         "xaxis": "x",
         "y": [
          0.9470827679782904,
          0.9543193125282677,
          0.9647218453188603,
          0.9674355495251018,
          0.9642695612844867,
          0.9665309814563546,
          0.9696969696969697,
          0.9647218453188603,
          0.9669832654907282,
          0.966078697421981,
          0.9692446856625961,
          0.9669832654907282,
          0.9665309814563546,
          0.9669832654907282,
          0.9669832654907282,
          0.968340117593849,
          0.9701492537313433,
          0.9701492537313433,
          0.9669832654907282
         ],
         "yaxis": "y"
        }
       ],
       "layout": {
        "legend": {
         "title": {
          "text": "Accuracy Type"
         },
         "tracegroupgap": 0
        },
        "template": {
         "data": {
          "bar": [
           {
            "error_x": {
             "color": "#2a3f5f"
            },
            "error_y": {
             "color": "#2a3f5f"
            },
            "marker": {
             "line": {
              "color": "#E5ECF6",
              "width": 0.5
             },
             "pattern": {
              "fillmode": "overlay",
              "size": 10,
              "solidity": 0.2
             }
            },
            "type": "bar"
           }
          ],
          "barpolar": [
           {
            "marker": {
             "line": {
              "color": "#E5ECF6",
              "width": 0.5
             },
             "pattern": {
              "fillmode": "overlay",
              "size": 10,
              "solidity": 0.2
             }
            },
            "type": "barpolar"
           }
          ],
          "carpet": [
           {
            "aaxis": {
             "endlinecolor": "#2a3f5f",
             "gridcolor": "white",
             "linecolor": "white",
             "minorgridcolor": "white",
             "startlinecolor": "#2a3f5f"
            },
            "baxis": {
             "endlinecolor": "#2a3f5f",
             "gridcolor": "white",
             "linecolor": "white",
             "minorgridcolor": "white",
             "startlinecolor": "#2a3f5f"
            },
            "type": "carpet"
           }
          ],
          "choropleth": [
           {
            "colorbar": {
             "outlinewidth": 0,
             "ticks": ""
            },
            "type": "choropleth"
           }
          ],
          "contour": [
           {
            "colorbar": {
             "outlinewidth": 0,
             "ticks": ""
            },
            "colorscale": [
             [
              0,
              "#0d0887"
             ],
             [
              0.1111111111111111,
              "#46039f"
             ],
             [
              0.2222222222222222,
              "#7201a8"
             ],
             [
              0.3333333333333333,
              "#9c179e"
             ],
             [
              0.4444444444444444,
              "#bd3786"
             ],
             [
              0.5555555555555556,
              "#d8576b"
             ],
             [
              0.6666666666666666,
              "#ed7953"
             ],
             [
              0.7777777777777778,
              "#fb9f3a"
             ],
             [
              0.8888888888888888,
              "#fdca26"
             ],
             [
              1,
              "#f0f921"
             ]
            ],
            "type": "contour"
           }
          ],
          "contourcarpet": [
           {
            "colorbar": {
             "outlinewidth": 0,
             "ticks": ""
            },
            "type": "contourcarpet"
           }
          ],
          "heatmap": [
           {
            "colorbar": {
             "outlinewidth": 0,
             "ticks": ""
            },
            "colorscale": [
             [
              0,
              "#0d0887"
             ],
             [
              0.1111111111111111,
              "#46039f"
             ],
             [
              0.2222222222222222,
              "#7201a8"
             ],
             [
              0.3333333333333333,
              "#9c179e"
             ],
             [
              0.4444444444444444,
              "#bd3786"
             ],
             [
              0.5555555555555556,
              "#d8576b"
             ],
             [
              0.6666666666666666,
              "#ed7953"
             ],
             [
              0.7777777777777778,
              "#fb9f3a"
             ],
             [
              0.8888888888888888,
              "#fdca26"
             ],
             [
              1,
              "#f0f921"
             ]
            ],
            "type": "heatmap"
           }
          ],
          "heatmapgl": [
           {
            "colorbar": {
             "outlinewidth": 0,
             "ticks": ""
            },
            "colorscale": [
             [
              0,
              "#0d0887"
             ],
             [
              0.1111111111111111,
              "#46039f"
             ],
             [
              0.2222222222222222,
              "#7201a8"
             ],
             [
              0.3333333333333333,
              "#9c179e"
             ],
             [
              0.4444444444444444,
              "#bd3786"
             ],
             [
              0.5555555555555556,
              "#d8576b"
             ],
             [
              0.6666666666666666,
              "#ed7953"
             ],
             [
              0.7777777777777778,
              "#fb9f3a"
             ],
             [
              0.8888888888888888,
              "#fdca26"
             ],
             [
              1,
              "#f0f921"
             ]
            ],
            "type": "heatmapgl"
           }
          ],
          "histogram": [
           {
            "marker": {
             "pattern": {
              "fillmode": "overlay",
              "size": 10,
              "solidity": 0.2
             }
            },
            "type": "histogram"
           }
          ],
          "histogram2d": [
           {
            "colorbar": {
             "outlinewidth": 0,
             "ticks": ""
            },
            "colorscale": [
             [
              0,
              "#0d0887"
             ],
             [
              0.1111111111111111,
              "#46039f"
             ],
             [
              0.2222222222222222,
              "#7201a8"
             ],
             [
              0.3333333333333333,
              "#9c179e"
             ],
             [
              0.4444444444444444,
              "#bd3786"
             ],
             [
              0.5555555555555556,
              "#d8576b"
             ],
             [
              0.6666666666666666,
              "#ed7953"
             ],
             [
              0.7777777777777778,
              "#fb9f3a"
             ],
             [
              0.8888888888888888,
              "#fdca26"
             ],
             [
              1,
              "#f0f921"
             ]
            ],
            "type": "histogram2d"
           }
          ],
          "histogram2dcontour": [
           {
            "colorbar": {
             "outlinewidth": 0,
             "ticks": ""
            },
            "colorscale": [
             [
              0,
              "#0d0887"
             ],
             [
              0.1111111111111111,
              "#46039f"
             ],
             [
              0.2222222222222222,
              "#7201a8"
             ],
             [
              0.3333333333333333,
              "#9c179e"
             ],
             [
              0.4444444444444444,
              "#bd3786"
             ],
             [
              0.5555555555555556,
              "#d8576b"
             ],
             [
              0.6666666666666666,
              "#ed7953"
             ],
             [
              0.7777777777777778,
              "#fb9f3a"
             ],
             [
              0.8888888888888888,
              "#fdca26"
             ],
             [
              1,
              "#f0f921"
             ]
            ],
            "type": "histogram2dcontour"
           }
          ],
          "mesh3d": [
           {
            "colorbar": {
             "outlinewidth": 0,
             "ticks": ""
            },
            "type": "mesh3d"
           }
          ],
          "parcoords": [
           {
            "line": {
             "colorbar": {
              "outlinewidth": 0,
              "ticks": ""
             }
            },
            "type": "parcoords"
           }
          ],
          "pie": [
           {
            "automargin": true,
            "type": "pie"
           }
          ],
          "scatter": [
           {
            "fillpattern": {
             "fillmode": "overlay",
             "size": 10,
             "solidity": 0.2
            },
            "type": "scatter"
           }
          ],
          "scatter3d": [
           {
            "line": {
             "colorbar": {
              "outlinewidth": 0,
              "ticks": ""
             }
            },
            "marker": {
             "colorbar": {
              "outlinewidth": 0,
              "ticks": ""
             }
            },
            "type": "scatter3d"
           }
          ],
          "scattercarpet": [
           {
            "marker": {
             "colorbar": {
              "outlinewidth": 0,
              "ticks": ""
             }
            },
            "type": "scattercarpet"
           }
          ],
          "scattergeo": [
           {
            "marker": {
             "colorbar": {
              "outlinewidth": 0,
              "ticks": ""
             }
            },
            "type": "scattergeo"
           }
          ],
          "scattergl": [
           {
            "marker": {
             "colorbar": {
              "outlinewidth": 0,
              "ticks": ""
             }
            },
            "type": "scattergl"
           }
          ],
          "scattermapbox": [
           {
            "marker": {
             "colorbar": {
              "outlinewidth": 0,
              "ticks": ""
             }
            },
            "type": "scattermapbox"
           }
          ],
          "scatterpolar": [
           {
            "marker": {
             "colorbar": {
              "outlinewidth": 0,
              "ticks": ""
             }
            },
            "type": "scatterpolar"
           }
          ],
          "scatterpolargl": [
           {
            "marker": {
             "colorbar": {
              "outlinewidth": 0,
              "ticks": ""
             }
            },
            "type": "scatterpolargl"
           }
          ],
          "scatterternary": [
           {
            "marker": {
             "colorbar": {
              "outlinewidth": 0,
              "ticks": ""
             }
            },
            "type": "scatterternary"
           }
          ],
          "surface": [
           {
            "colorbar": {
             "outlinewidth": 0,
             "ticks": ""
            },
            "colorscale": [
             [
              0,
              "#0d0887"
             ],
             [
              0.1111111111111111,
              "#46039f"
             ],
             [
              0.2222222222222222,
              "#7201a8"
             ],
             [
              0.3333333333333333,
              "#9c179e"
             ],
             [
              0.4444444444444444,
              "#bd3786"
             ],
             [
              0.5555555555555556,
              "#d8576b"
             ],
             [
              0.6666666666666666,
              "#ed7953"
             ],
             [
              0.7777777777777778,
              "#fb9f3a"
             ],
             [
              0.8888888888888888,
              "#fdca26"
             ],
             [
              1,
              "#f0f921"
             ]
            ],
            "type": "surface"
           }
          ],
          "table": [
           {
            "cells": {
             "fill": {
              "color": "#EBF0F8"
             },
             "line": {
              "color": "white"
             }
            },
            "header": {
             "fill": {
              "color": "#C8D4E3"
             },
             "line": {
              "color": "white"
             }
            },
            "type": "table"
           }
          ]
         },
         "layout": {
          "annotationdefaults": {
           "arrowcolor": "#2a3f5f",
           "arrowhead": 0,
           "arrowwidth": 1
          },
          "autotypenumbers": "strict",
          "coloraxis": {
           "colorbar": {
            "outlinewidth": 0,
            "ticks": ""
           }
          },
          "colorscale": {
           "diverging": [
            [
             0,
             "#8e0152"
            ],
            [
             0.1,
             "#c51b7d"
            ],
            [
             0.2,
             "#de77ae"
            ],
            [
             0.3,
             "#f1b6da"
            ],
            [
             0.4,
             "#fde0ef"
            ],
            [
             0.5,
             "#f7f7f7"
            ],
            [
             0.6,
             "#e6f5d0"
            ],
            [
             0.7,
             "#b8e186"
            ],
            [
             0.8,
             "#7fbc41"
            ],
            [
             0.9,
             "#4d9221"
            ],
            [
             1,
             "#276419"
            ]
           ],
           "sequential": [
            [
             0,
             "#0d0887"
            ],
            [
             0.1111111111111111,
             "#46039f"
            ],
            [
             0.2222222222222222,
             "#7201a8"
            ],
            [
             0.3333333333333333,
             "#9c179e"
            ],
            [
             0.4444444444444444,
             "#bd3786"
            ],
            [
             0.5555555555555556,
             "#d8576b"
            ],
            [
             0.6666666666666666,
             "#ed7953"
            ],
            [
             0.7777777777777778,
             "#fb9f3a"
            ],
            [
             0.8888888888888888,
             "#fdca26"
            ],
            [
             1,
             "#f0f921"
            ]
           ],
           "sequentialminus": [
            [
             0,
             "#0d0887"
            ],
            [
             0.1111111111111111,
             "#46039f"
            ],
            [
             0.2222222222222222,
             "#7201a8"
            ],
            [
             0.3333333333333333,
             "#9c179e"
            ],
            [
             0.4444444444444444,
             "#bd3786"
            ],
            [
             0.5555555555555556,
             "#d8576b"
            ],
            [
             0.6666666666666666,
             "#ed7953"
            ],
            [
             0.7777777777777778,
             "#fb9f3a"
            ],
            [
             0.8888888888888888,
             "#fdca26"
            ],
            [
             1,
             "#f0f921"
            ]
           ]
          },
          "colorway": [
           "#636efa",
           "#EF553B",
           "#00cc96",
           "#ab63fa",
           "#FFA15A",
           "#19d3f3",
           "#FF6692",
           "#B6E880",
           "#FF97FF",
           "#FECB52"
          ],
          "font": {
           "color": "#2a3f5f"
          },
          "geo": {
           "bgcolor": "white",
           "lakecolor": "white",
           "landcolor": "#E5ECF6",
           "showlakes": true,
           "showland": true,
           "subunitcolor": "white"
          },
          "hoverlabel": {
           "align": "left"
          },
          "hovermode": "closest",
          "mapbox": {
           "style": "light"
          },
          "paper_bgcolor": "white",
          "plot_bgcolor": "#E5ECF6",
          "polar": {
           "angularaxis": {
            "gridcolor": "white",
            "linecolor": "white",
            "ticks": ""
           },
           "bgcolor": "#E5ECF6",
           "radialaxis": {
            "gridcolor": "white",
            "linecolor": "white",
            "ticks": ""
           }
          },
          "scene": {
           "xaxis": {
            "backgroundcolor": "#E5ECF6",
            "gridcolor": "white",
            "gridwidth": 2,
            "linecolor": "white",
            "showbackground": true,
            "ticks": "",
            "zerolinecolor": "white"
           },
           "yaxis": {
            "backgroundcolor": "#E5ECF6",
            "gridcolor": "white",
            "gridwidth": 2,
            "linecolor": "white",
            "showbackground": true,
            "ticks": "",
            "zerolinecolor": "white"
           },
           "zaxis": {
            "backgroundcolor": "#E5ECF6",
            "gridcolor": "white",
            "gridwidth": 2,
            "linecolor": "white",
            "showbackground": true,
            "ticks": "",
            "zerolinecolor": "white"
           }
          },
          "shapedefaults": {
           "line": {
            "color": "#2a3f5f"
           }
          },
          "ternary": {
           "aaxis": {
            "gridcolor": "white",
            "linecolor": "white",
            "ticks": ""
           },
           "baxis": {
            "gridcolor": "white",
            "linecolor": "white",
            "ticks": ""
           },
           "bgcolor": "#E5ECF6",
           "caxis": {
            "gridcolor": "white",
            "linecolor": "white",
            "ticks": ""
           }
          },
          "title": {
           "x": 0.05
          },
          "xaxis": {
           "automargin": true,
           "gridcolor": "white",
           "linecolor": "white",
           "ticks": "",
           "title": {
            "standoff": 15
           },
           "zerolinecolor": "white",
           "zerolinewidth": 2
          },
          "yaxis": {
           "automargin": true,
           "gridcolor": "white",
           "linecolor": "white",
           "ticks": "",
           "title": {
            "standoff": 15
           },
           "zerolinecolor": "white",
           "zerolinewidth": 2
          }
         }
        },
        "title": {
         "text": "Training & Testing Accuracy vs n_estimators"
        },
        "xaxis": {
         "anchor": "y",
         "domain": [
          0,
          1
         ],
         "title": {
          "text": "Number of Estimators"
         }
        },
        "yaxis": {
         "anchor": "x",
         "domain": [
          0,
          1
         ],
         "title": {
          "text": "Accuracy"
         }
        }
       }
      }
     },
     "metadata": {},
     "output_type": "display_data"
    }
   ],
   "source": [
    "training_accuracy = []\n",
    "test_accuracy = []\n",
    "# try max_depth from 1 to 20\n",
    "depth = range(1,20)\n",
    "for n in depth:\n",
    "    forest_test =  RandomForestClassifier(n_estimators=n)\n",
    "\n",
    "    forest_test.fit(X_train, y_train)\n",
    "    # record training set accuracy\n",
    "    training_accuracy.append(forest_test.score(X_train, y_train))\n",
    "    # record generalization accuracy\n",
    "    test_accuracy.append(forest_test.score(X_test, y_test))\n",
    "    \n",
    "\n",
    "#plotting the training & testing accuracy for n_estimators from 1 to 20\n",
    "# plt.figure(figsize=None)\n",
    "# plt.plot(depth, training_accuracy, label=\"training accuracy\")\n",
    "# plt.plot(depth, test_accuracy, label=\"test accuracy\")\n",
    "# plt.ylabel(\"Accuracy\")  \n",
    "# plt.xlabel(\"n_estimators\")\n",
    "# plt.legend();\n",
    "\n",
    "#using plotly express to plot the training & testing accuracy for n_estimators from 1 to 20\n",
    "# Create a DataFrame to hold training and testing accuracy values\n",
    "accuracy_df = pd.DataFrame({'n_estimators': depth, 'Training Accuracy': training_accuracy, 'Test Accuracy': test_accuracy})\n",
    "\n",
    "# Create an interactive line chart using Plotly Express\n",
    "fig = px.line(accuracy_df, x='n_estimators', y=['Training Accuracy', 'Test Accuracy'],\n",
    "              title=\"Training & Testing Accuracy vs n_estimators\",\n",
    "              labels={'n_estimators': 'Number of Estimators', 'value': 'Accuracy', 'variable': 'Accuracy Type'})\n",
    "\n",
    "# Show the interactive line chart\n",
    "fig.show()"
   ]
  },
  {
   "cell_type": "code",
   "execution_count": 39,
   "id": "310a4d15",
   "metadata": {},
   "outputs": [],
   "source": [
    "#storing the results. The below mentioned order of parameter passing is important.\n",
    "\n",
    "storeResults('Random Forest',acc_test_forest,f1_score_test_forest,\n",
    "             recall_score_train_forest,precision_score_train_forest)"
   ]
  },
  {
   "cell_type": "markdown",
   "id": "08ba9a1a",
   "metadata": {},
   "source": [
    "## 5.7.Gradient Boosting Classifier"
   ]
  },
  {
   "cell_type": "code",
   "execution_count": 40,
   "id": "46672600",
   "metadata": {},
   "outputs": [
    {
     "data": {
      "text/html": [
       "<style>#sk-container-id-7 {color: black;background-color: white;}#sk-container-id-7 pre{padding: 0;}#sk-container-id-7 div.sk-toggleable {background-color: white;}#sk-container-id-7 label.sk-toggleable__label {cursor: pointer;display: block;width: 100%;margin-bottom: 0;padding: 0.3em;box-sizing: border-box;text-align: center;}#sk-container-id-7 label.sk-toggleable__label-arrow:before {content: \"▸\";float: left;margin-right: 0.25em;color: #696969;}#sk-container-id-7 label.sk-toggleable__label-arrow:hover:before {color: black;}#sk-container-id-7 div.sk-estimator:hover label.sk-toggleable__label-arrow:before {color: black;}#sk-container-id-7 div.sk-toggleable__content {max-height: 0;max-width: 0;overflow: hidden;text-align: left;background-color: #f0f8ff;}#sk-container-id-7 div.sk-toggleable__content pre {margin: 0.2em;color: black;border-radius: 0.25em;background-color: #f0f8ff;}#sk-container-id-7 input.sk-toggleable__control:checked~div.sk-toggleable__content {max-height: 200px;max-width: 100%;overflow: auto;}#sk-container-id-7 input.sk-toggleable__control:checked~label.sk-toggleable__label-arrow:before {content: \"▾\";}#sk-container-id-7 div.sk-estimator input.sk-toggleable__control:checked~label.sk-toggleable__label {background-color: #d4ebff;}#sk-container-id-7 div.sk-label input.sk-toggleable__control:checked~label.sk-toggleable__label {background-color: #d4ebff;}#sk-container-id-7 input.sk-hidden--visually {border: 0;clip: rect(1px 1px 1px 1px);clip: rect(1px, 1px, 1px, 1px);height: 1px;margin: -1px;overflow: hidden;padding: 0;position: absolute;width: 1px;}#sk-container-id-7 div.sk-estimator {font-family: monospace;background-color: #f0f8ff;border: 1px dotted black;border-radius: 0.25em;box-sizing: border-box;margin-bottom: 0.5em;}#sk-container-id-7 div.sk-estimator:hover {background-color: #d4ebff;}#sk-container-id-7 div.sk-parallel-item::after {content: \"\";width: 100%;border-bottom: 1px solid gray;flex-grow: 1;}#sk-container-id-7 div.sk-label:hover label.sk-toggleable__label {background-color: #d4ebff;}#sk-container-id-7 div.sk-serial::before {content: \"\";position: absolute;border-left: 1px solid gray;box-sizing: border-box;top: 0;bottom: 0;left: 50%;z-index: 0;}#sk-container-id-7 div.sk-serial {display: flex;flex-direction: column;align-items: center;background-color: white;padding-right: 0.2em;padding-left: 0.2em;position: relative;}#sk-container-id-7 div.sk-item {position: relative;z-index: 1;}#sk-container-id-7 div.sk-parallel {display: flex;align-items: stretch;justify-content: center;background-color: white;position: relative;}#sk-container-id-7 div.sk-item::before, #sk-container-id-7 div.sk-parallel-item::before {content: \"\";position: absolute;border-left: 1px solid gray;box-sizing: border-box;top: 0;bottom: 0;left: 50%;z-index: -1;}#sk-container-id-7 div.sk-parallel-item {display: flex;flex-direction: column;z-index: 1;position: relative;background-color: white;}#sk-container-id-7 div.sk-parallel-item:first-child::after {align-self: flex-end;width: 50%;}#sk-container-id-7 div.sk-parallel-item:last-child::after {align-self: flex-start;width: 50%;}#sk-container-id-7 div.sk-parallel-item:only-child::after {width: 0;}#sk-container-id-7 div.sk-dashed-wrapped {border: 1px dashed gray;margin: 0 0.4em 0.5em 0.4em;box-sizing: border-box;padding-bottom: 0.4em;background-color: white;}#sk-container-id-7 div.sk-label label {font-family: monospace;font-weight: bold;display: inline-block;line-height: 1.2em;}#sk-container-id-7 div.sk-label-container {text-align: center;}#sk-container-id-7 div.sk-container {/* jupyter's `normalize.less` sets `[hidden] { display: none; }` but bootstrap.min.css set `[hidden] { display: none !important; }` so we also need the `!important` here to be able to override the default hidden behavior on the sphinx rendered scikit-learn.org. See: https://github.com/scikit-learn/scikit-learn/issues/21755 */display: inline-block !important;position: relative;}#sk-container-id-7 div.sk-text-repr-fallback {display: none;}</style><div id=\"sk-container-id-7\" class=\"sk-top-container\"><div class=\"sk-text-repr-fallback\"><pre>GradientBoostingClassifier(learning_rate=0.7, max_depth=4)</pre><b>In a Jupyter environment, please rerun this cell to show the HTML representation or trust the notebook. <br />On GitHub, the HTML representation is unable to render, please try loading this page with nbviewer.org.</b></div><div class=\"sk-container\" hidden><div class=\"sk-item\"><div class=\"sk-estimator sk-toggleable\"><input class=\"sk-toggleable__control sk-hidden--visually\" id=\"sk-estimator-id-9\" type=\"checkbox\" checked><label for=\"sk-estimator-id-9\" class=\"sk-toggleable__label sk-toggleable__label-arrow\">GradientBoostingClassifier</label><div class=\"sk-toggleable__content\"><pre>GradientBoostingClassifier(learning_rate=0.7, max_depth=4)</pre></div></div></div></div></div>"
      ],
      "text/plain": [
       "GradientBoostingClassifier(learning_rate=0.7, max_depth=4)"
      ]
     },
     "execution_count": 40,
     "metadata": {},
     "output_type": "execute_result"
    }
   ],
   "source": [
    "# Gradient Boosting Classifier Model\n",
    "from sklearn.ensemble import GradientBoostingClassifier\n",
    "\n",
    "# instantiate the model\n",
    "gbc = GradientBoostingClassifier(max_depth=4,learning_rate=0.7)\n",
    "\n",
    "# fit the model \n",
    "gbc.fit(X_train,y_train)"
   ]
  },
  {
   "cell_type": "code",
   "execution_count": 41,
   "id": "1abd4a9e",
   "metadata": {},
   "outputs": [],
   "source": [
    "#predicting the target value from the model for the samples\n",
    "y_train_gbc = gbc.predict(X_train)\n",
    "y_test_gbc = gbc.predict(X_test)"
   ]
  },
  {
   "cell_type": "code",
   "execution_count": 42,
   "id": "4c8ea93d",
   "metadata": {},
   "outputs": [
    {
     "name": "stdout",
     "output_type": "stream",
     "text": [
      "Gradient Boosting Classifier : Accuracy on training Data: 0.989\n",
      "Gradient Boosting Classifier : Accuracy on test Data: 0.974\n",
      "\n",
      "Gradient Boosting Classifier : f1_score on training Data: 0.990\n",
      "Gradient Boosting Classifier : f1_score on test Data: 0.977\n",
      "\n",
      "Gradient Boosting Classifier : Recall on training Data: 0.994\n",
      "Gradient Boosting Classifier : Recall on test Data: 0.989\n",
      "\n",
      "Gradient Boosting Classifier : precision on training Data: 0.986\n",
      "Gradient Boosting Classifier : precision on test Data: 0.966\n"
     ]
    }
   ],
   "source": [
    "#computing the accuracy, f1_score, Recall, precision of the model performance\n",
    "\n",
    "acc_train_gbc = metrics.accuracy_score(y_train,y_train_gbc)\n",
    "acc_test_gbc = metrics.accuracy_score(y_test,y_test_gbc)\n",
    "print(\"Gradient Boosting Classifier : Accuracy on training Data: {:.3f}\".format(acc_train_gbc))\n",
    "print(\"Gradient Boosting Classifier : Accuracy on test Data: {:.3f}\".format(acc_test_gbc))\n",
    "print()\n",
    "\n",
    "f1_score_train_gbc = metrics.f1_score(y_train,y_train_gbc)\n",
    "f1_score_test_gbc = metrics.f1_score(y_test,y_test_gbc)\n",
    "print(\"Gradient Boosting Classifier : f1_score on training Data: {:.3f}\".format(f1_score_train_gbc))\n",
    "print(\"Gradient Boosting Classifier : f1_score on test Data: {:.3f}\".format(f1_score_test_gbc))\n",
    "print()\n",
    "\n",
    "recall_score_train_gbc = metrics.recall_score(y_train,y_train_gbc)\n",
    "recall_score_test_gbc =  metrics.recall_score(y_test,y_test_gbc)\n",
    "print(\"Gradient Boosting Classifier : Recall on training Data: {:.3f}\".format(recall_score_train_gbc))\n",
    "print(\"Gradient Boosting Classifier : Recall on test Data: {:.3f}\".format(recall_score_test_gbc))\n",
    "print()\n",
    "\n",
    "precision_score_train_gbc = metrics.precision_score(y_train,y_train_gbc)\n",
    "precision_score_test_gbc = metrics.precision_score(y_test,y_test_gbc)\n",
    "print(\"Gradient Boosting Classifier : precision on training Data: {:.3f}\".format(precision_score_train_gbc))\n",
    "print(\"Gradient Boosting Classifier : precision on test Data: {:.3f}\".format(precision_score_test_gbc))"
   ]
  },
  {
   "cell_type": "code",
   "execution_count": 43,
   "id": "1f7959d8",
   "metadata": {},
   "outputs": [
    {
     "name": "stdout",
     "output_type": "stream",
     "text": [
      "              precision    recall  f1-score   support\n",
      "\n",
      "          -1       0.99      0.96      0.97       976\n",
      "           1       0.97      0.99      0.98      1235\n",
      "\n",
      "    accuracy                           0.97      2211\n",
      "   macro avg       0.98      0.97      0.97      2211\n",
      "weighted avg       0.97      0.97      0.97      2211\n",
      "\n"
     ]
    }
   ],
   "source": [
    "#computing the classification report of the model\n",
    "\n",
    "print(metrics.classification_report(y_test, y_test_gbc))"
   ]
  },
  {
   "cell_type": "code",
   "execution_count": 76,
   "id": "7e310444",
   "metadata": {},
   "outputs": [
    {
     "data": {
      "application/vnd.plotly.v1+json": {
       "config": {
        "plotlyServerURL": "https://plot.ly"
       },
       "data": [
        {
         "hovertemplate": "variable=wide_variable_0<br>learning_rate=%{x}<br>value=%{y}<extra></extra>",
         "legendgroup": "wide_variable_0",
         "line": {
          "color": "#636efa",
          "dash": "solid"
         },
         "marker": {
          "symbol": "circle"
         },
         "mode": "lines",
         "name": "wide_variable_0",
         "orientation": "v",
         "showlegend": true,
         "type": "scatter",
         "x": [
          1,
          2,
          3,
          4,
          5,
          6,
          7,
          8,
          9
         ],
         "xaxis": "x",
         "y": [
          0.9511478005201854,
          0.9607599231030194,
          0.9673187832183648,
          0.9708243808662219,
          0.9735383919484338,
          0.9761393192355535,
          0.9767047382110143,
          0.9799841682686871,
          0.9787402465226733
         ],
         "yaxis": "y"
        },
        {
         "hovertemplate": "variable=wide_variable_1<br>learning_rate=%{x}<br>value=%{y}<extra></extra>",
         "legendgroup": "wide_variable_1",
         "line": {
          "color": "#EF553B",
          "dash": "solid"
         },
         "marker": {
          "symbol": "circle"
         },
         "mode": "lines",
         "name": "wide_variable_1",
         "orientation": "v",
         "showlegend": true,
         "type": "scatter",
         "x": [
          1,
          2,
          3,
          4,
          5,
          6,
          7,
          8,
          9
         ],
         "xaxis": "x",
         "y": [
          0.9493441881501583,
          0.9570330167345092,
          0.9615558570782451,
          0.9647218453188603,
          0.9651741293532339,
          0.9647218453188603,
          0.9665309814563546,
          0.9629127091813658,
          0.9642695612844867
         ],
         "yaxis": "y"
        }
       ],
       "layout": {
        "legend": {
         "title": {
          "text": "variable"
         },
         "tracegroupgap": 0
        },
        "template": {
         "data": {
          "bar": [
           {
            "error_x": {
             "color": "#2a3f5f"
            },
            "error_y": {
             "color": "#2a3f5f"
            },
            "marker": {
             "line": {
              "color": "#E5ECF6",
              "width": 0.5
             },
             "pattern": {
              "fillmode": "overlay",
              "size": 10,
              "solidity": 0.2
             }
            },
            "type": "bar"
           }
          ],
          "barpolar": [
           {
            "marker": {
             "line": {
              "color": "#E5ECF6",
              "width": 0.5
             },
             "pattern": {
              "fillmode": "overlay",
              "size": 10,
              "solidity": 0.2
             }
            },
            "type": "barpolar"
           }
          ],
          "carpet": [
           {
            "aaxis": {
             "endlinecolor": "#2a3f5f",
             "gridcolor": "white",
             "linecolor": "white",
             "minorgridcolor": "white",
             "startlinecolor": "#2a3f5f"
            },
            "baxis": {
             "endlinecolor": "#2a3f5f",
             "gridcolor": "white",
             "linecolor": "white",
             "minorgridcolor": "white",
             "startlinecolor": "#2a3f5f"
            },
            "type": "carpet"
           }
          ],
          "choropleth": [
           {
            "colorbar": {
             "outlinewidth": 0,
             "ticks": ""
            },
            "type": "choropleth"
           }
          ],
          "contour": [
           {
            "colorbar": {
             "outlinewidth": 0,
             "ticks": ""
            },
            "colorscale": [
             [
              0,
              "#0d0887"
             ],
             [
              0.1111111111111111,
              "#46039f"
             ],
             [
              0.2222222222222222,
              "#7201a8"
             ],
             [
              0.3333333333333333,
              "#9c179e"
             ],
             [
              0.4444444444444444,
              "#bd3786"
             ],
             [
              0.5555555555555556,
              "#d8576b"
             ],
             [
              0.6666666666666666,
              "#ed7953"
             ],
             [
              0.7777777777777778,
              "#fb9f3a"
             ],
             [
              0.8888888888888888,
              "#fdca26"
             ],
             [
              1,
              "#f0f921"
             ]
            ],
            "type": "contour"
           }
          ],
          "contourcarpet": [
           {
            "colorbar": {
             "outlinewidth": 0,
             "ticks": ""
            },
            "type": "contourcarpet"
           }
          ],
          "heatmap": [
           {
            "colorbar": {
             "outlinewidth": 0,
             "ticks": ""
            },
            "colorscale": [
             [
              0,
              "#0d0887"
             ],
             [
              0.1111111111111111,
              "#46039f"
             ],
             [
              0.2222222222222222,
              "#7201a8"
             ],
             [
              0.3333333333333333,
              "#9c179e"
             ],
             [
              0.4444444444444444,
              "#bd3786"
             ],
             [
              0.5555555555555556,
              "#d8576b"
             ],
             [
              0.6666666666666666,
              "#ed7953"
             ],
             [
              0.7777777777777778,
              "#fb9f3a"
             ],
             [
              0.8888888888888888,
              "#fdca26"
             ],
             [
              1,
              "#f0f921"
             ]
            ],
            "type": "heatmap"
           }
          ],
          "heatmapgl": [
           {
            "colorbar": {
             "outlinewidth": 0,
             "ticks": ""
            },
            "colorscale": [
             [
              0,
              "#0d0887"
             ],
             [
              0.1111111111111111,
              "#46039f"
             ],
             [
              0.2222222222222222,
              "#7201a8"
             ],
             [
              0.3333333333333333,
              "#9c179e"
             ],
             [
              0.4444444444444444,
              "#bd3786"
             ],
             [
              0.5555555555555556,
              "#d8576b"
             ],
             [
              0.6666666666666666,
              "#ed7953"
             ],
             [
              0.7777777777777778,
              "#fb9f3a"
             ],
             [
              0.8888888888888888,
              "#fdca26"
             ],
             [
              1,
              "#f0f921"
             ]
            ],
            "type": "heatmapgl"
           }
          ],
          "histogram": [
           {
            "marker": {
             "pattern": {
              "fillmode": "overlay",
              "size": 10,
              "solidity": 0.2
             }
            },
            "type": "histogram"
           }
          ],
          "histogram2d": [
           {
            "colorbar": {
             "outlinewidth": 0,
             "ticks": ""
            },
            "colorscale": [
             [
              0,
              "#0d0887"
             ],
             [
              0.1111111111111111,
              "#46039f"
             ],
             [
              0.2222222222222222,
              "#7201a8"
             ],
             [
              0.3333333333333333,
              "#9c179e"
             ],
             [
              0.4444444444444444,
              "#bd3786"
             ],
             [
              0.5555555555555556,
              "#d8576b"
             ],
             [
              0.6666666666666666,
              "#ed7953"
             ],
             [
              0.7777777777777778,
              "#fb9f3a"
             ],
             [
              0.8888888888888888,
              "#fdca26"
             ],
             [
              1,
              "#f0f921"
             ]
            ],
            "type": "histogram2d"
           }
          ],
          "histogram2dcontour": [
           {
            "colorbar": {
             "outlinewidth": 0,
             "ticks": ""
            },
            "colorscale": [
             [
              0,
              "#0d0887"
             ],
             [
              0.1111111111111111,
              "#46039f"
             ],
             [
              0.2222222222222222,
              "#7201a8"
             ],
             [
              0.3333333333333333,
              "#9c179e"
             ],
             [
              0.4444444444444444,
              "#bd3786"
             ],
             [
              0.5555555555555556,
              "#d8576b"
             ],
             [
              0.6666666666666666,
              "#ed7953"
             ],
             [
              0.7777777777777778,
              "#fb9f3a"
             ],
             [
              0.8888888888888888,
              "#fdca26"
             ],
             [
              1,
              "#f0f921"
             ]
            ],
            "type": "histogram2dcontour"
           }
          ],
          "mesh3d": [
           {
            "colorbar": {
             "outlinewidth": 0,
             "ticks": ""
            },
            "type": "mesh3d"
           }
          ],
          "parcoords": [
           {
            "line": {
             "colorbar": {
              "outlinewidth": 0,
              "ticks": ""
             }
            },
            "type": "parcoords"
           }
          ],
          "pie": [
           {
            "automargin": true,
            "type": "pie"
           }
          ],
          "scatter": [
           {
            "fillpattern": {
             "fillmode": "overlay",
             "size": 10,
             "solidity": 0.2
            },
            "type": "scatter"
           }
          ],
          "scatter3d": [
           {
            "line": {
             "colorbar": {
              "outlinewidth": 0,
              "ticks": ""
             }
            },
            "marker": {
             "colorbar": {
              "outlinewidth": 0,
              "ticks": ""
             }
            },
            "type": "scatter3d"
           }
          ],
          "scattercarpet": [
           {
            "marker": {
             "colorbar": {
              "outlinewidth": 0,
              "ticks": ""
             }
            },
            "type": "scattercarpet"
           }
          ],
          "scattergeo": [
           {
            "marker": {
             "colorbar": {
              "outlinewidth": 0,
              "ticks": ""
             }
            },
            "type": "scattergeo"
           }
          ],
          "scattergl": [
           {
            "marker": {
             "colorbar": {
              "outlinewidth": 0,
              "ticks": ""
             }
            },
            "type": "scattergl"
           }
          ],
          "scattermapbox": [
           {
            "marker": {
             "colorbar": {
              "outlinewidth": 0,
              "ticks": ""
             }
            },
            "type": "scattermapbox"
           }
          ],
          "scatterpolar": [
           {
            "marker": {
             "colorbar": {
              "outlinewidth": 0,
              "ticks": ""
             }
            },
            "type": "scatterpolar"
           }
          ],
          "scatterpolargl": [
           {
            "marker": {
             "colorbar": {
              "outlinewidth": 0,
              "ticks": ""
             }
            },
            "type": "scatterpolargl"
           }
          ],
          "scatterternary": [
           {
            "marker": {
             "colorbar": {
              "outlinewidth": 0,
              "ticks": ""
             }
            },
            "type": "scatterternary"
           }
          ],
          "surface": [
           {
            "colorbar": {
             "outlinewidth": 0,
             "ticks": ""
            },
            "colorscale": [
             [
              0,
              "#0d0887"
             ],
             [
              0.1111111111111111,
              "#46039f"
             ],
             [
              0.2222222222222222,
              "#7201a8"
             ],
             [
              0.3333333333333333,
              "#9c179e"
             ],
             [
              0.4444444444444444,
              "#bd3786"
             ],
             [
              0.5555555555555556,
              "#d8576b"
             ],
             [
              0.6666666666666666,
              "#ed7953"
             ],
             [
              0.7777777777777778,
              "#fb9f3a"
             ],
             [
              0.8888888888888888,
              "#fdca26"
             ],
             [
              1,
              "#f0f921"
             ]
            ],
            "type": "surface"
           }
          ],
          "table": [
           {
            "cells": {
             "fill": {
              "color": "#EBF0F8"
             },
             "line": {
              "color": "white"
             }
            },
            "header": {
             "fill": {
              "color": "#C8D4E3"
             },
             "line": {
              "color": "white"
             }
            },
            "type": "table"
           }
          ]
         },
         "layout": {
          "annotationdefaults": {
           "arrowcolor": "#2a3f5f",
           "arrowhead": 0,
           "arrowwidth": 1
          },
          "autotypenumbers": "strict",
          "coloraxis": {
           "colorbar": {
            "outlinewidth": 0,
            "ticks": ""
           }
          },
          "colorscale": {
           "diverging": [
            [
             0,
             "#8e0152"
            ],
            [
             0.1,
             "#c51b7d"
            ],
            [
             0.2,
             "#de77ae"
            ],
            [
             0.3,
             "#f1b6da"
            ],
            [
             0.4,
             "#fde0ef"
            ],
            [
             0.5,
             "#f7f7f7"
            ],
            [
             0.6,
             "#e6f5d0"
            ],
            [
             0.7,
             "#b8e186"
            ],
            [
             0.8,
             "#7fbc41"
            ],
            [
             0.9,
             "#4d9221"
            ],
            [
             1,
             "#276419"
            ]
           ],
           "sequential": [
            [
             0,
             "#0d0887"
            ],
            [
             0.1111111111111111,
             "#46039f"
            ],
            [
             0.2222222222222222,
             "#7201a8"
            ],
            [
             0.3333333333333333,
             "#9c179e"
            ],
            [
             0.4444444444444444,
             "#bd3786"
            ],
            [
             0.5555555555555556,
             "#d8576b"
            ],
            [
             0.6666666666666666,
             "#ed7953"
            ],
            [
             0.7777777777777778,
             "#fb9f3a"
            ],
            [
             0.8888888888888888,
             "#fdca26"
            ],
            [
             1,
             "#f0f921"
            ]
           ],
           "sequentialminus": [
            [
             0,
             "#0d0887"
            ],
            [
             0.1111111111111111,
             "#46039f"
            ],
            [
             0.2222222222222222,
             "#7201a8"
            ],
            [
             0.3333333333333333,
             "#9c179e"
            ],
            [
             0.4444444444444444,
             "#bd3786"
            ],
            [
             0.5555555555555556,
             "#d8576b"
            ],
            [
             0.6666666666666666,
             "#ed7953"
            ],
            [
             0.7777777777777778,
             "#fb9f3a"
            ],
            [
             0.8888888888888888,
             "#fdca26"
            ],
            [
             1,
             "#f0f921"
            ]
           ]
          },
          "colorway": [
           "#636efa",
           "#EF553B",
           "#00cc96",
           "#ab63fa",
           "#FFA15A",
           "#19d3f3",
           "#FF6692",
           "#B6E880",
           "#FF97FF",
           "#FECB52"
          ],
          "font": {
           "color": "#2a3f5f"
          },
          "geo": {
           "bgcolor": "white",
           "lakecolor": "white",
           "landcolor": "#E5ECF6",
           "showlakes": true,
           "showland": true,
           "subunitcolor": "white"
          },
          "hoverlabel": {
           "align": "left"
          },
          "hovermode": "closest",
          "mapbox": {
           "style": "light"
          },
          "paper_bgcolor": "white",
          "plot_bgcolor": "#E5ECF6",
          "polar": {
           "angularaxis": {
            "gridcolor": "white",
            "linecolor": "white",
            "ticks": ""
           },
           "bgcolor": "#E5ECF6",
           "radialaxis": {
            "gridcolor": "white",
            "linecolor": "white",
            "ticks": ""
           }
          },
          "scene": {
           "xaxis": {
            "backgroundcolor": "#E5ECF6",
            "gridcolor": "white",
            "gridwidth": 2,
            "linecolor": "white",
            "showbackground": true,
            "ticks": "",
            "zerolinecolor": "white"
           },
           "yaxis": {
            "backgroundcolor": "#E5ECF6",
            "gridcolor": "white",
            "gridwidth": 2,
            "linecolor": "white",
            "showbackground": true,
            "ticks": "",
            "zerolinecolor": "white"
           },
           "zaxis": {
            "backgroundcolor": "#E5ECF6",
            "gridcolor": "white",
            "gridwidth": 2,
            "linecolor": "white",
            "showbackground": true,
            "ticks": "",
            "zerolinecolor": "white"
           }
          },
          "shapedefaults": {
           "line": {
            "color": "#2a3f5f"
           }
          },
          "ternary": {
           "aaxis": {
            "gridcolor": "white",
            "linecolor": "white",
            "ticks": ""
           },
           "baxis": {
            "gridcolor": "white",
            "linecolor": "white",
            "ticks": ""
           },
           "bgcolor": "#E5ECF6",
           "caxis": {
            "gridcolor": "white",
            "linecolor": "white",
            "ticks": ""
           }
          },
          "title": {
           "x": 0.05
          },
          "xaxis": {
           "automargin": true,
           "gridcolor": "white",
           "linecolor": "white",
           "ticks": "",
           "title": {
            "standoff": 15
           },
           "zerolinecolor": "white",
           "zerolinewidth": 2
          },
          "yaxis": {
           "automargin": true,
           "gridcolor": "white",
           "linecolor": "white",
           "ticks": "",
           "title": {
            "standoff": 15
           },
           "zerolinecolor": "white",
           "zerolinewidth": 2
          }
         }
        },
        "title": {
         "text": "Training & Testing Accuracy vs Learning Rate"
        },
        "xaxis": {
         "anchor": "y",
         "domain": [
          0,
          1
         ],
         "title": {
          "text": "learning_rate"
         }
        },
        "yaxis": {
         "anchor": "x",
         "domain": [
          0,
          1
         ],
         "title": {
          "text": "value"
         }
        }
       }
      }
     },
     "metadata": {},
     "output_type": "display_data"
    }
   ],
   "source": [
    "training_accuracy = []\n",
    "test_accuracy = []\n",
    "# try learning_rate from 0.1 to 0.9\n",
    "depth = range(1,10)\n",
    "for n in depth:\n",
    "    forest_test =  GradientBoostingClassifier(learning_rate = n*0.1)\n",
    "\n",
    "    forest_test.fit(X_train, y_train)\n",
    "    # record training set accuracy\n",
    "    training_accuracy.append(forest_test.score(X_train, y_train))\n",
    "    # record generalization accuracy\n",
    "    test_accuracy.append(forest_test.score(X_test, y_test))\n",
    "    \n",
    "\n",
    "# #plotting the training & testing accuracy for n_estimators from 1 to 50\n",
    "# plt.figure(figsize=None)\n",
    "# plt.plot(depth, training_accuracy, label=\"training accuracy\")\n",
    "# plt.plot(depth, test_accuracy, label=\"test accuracy\")\n",
    "# plt.ylabel(\"Accuracy\")  \n",
    "# plt.xlabel(\"learning_rate\")\n",
    "# plt.legend();\n",
    "\n",
    "\n",
    "# using the plotly library to plot the training & testing accuracy for n_estimators from 1 to 50\n",
    "fig = px.line(x=depth, y=[training_accuracy, test_accuracy], labels={\"x\": \"learning_rate\", \"y\": \"Accuracy\"},\n",
    "              title=\"Training & Testing Accuracy vs Learning Rate\")\n",
    "fig.update_traces(line=dict(width=2), selector=dict(mode='lines+markers'))\n",
    "fig.show()\n"
   ]
  },
  {
   "cell_type": "code",
   "execution_count": 46,
   "id": "660fe8b1",
   "metadata": {},
   "outputs": [],
   "source": [
    "#storing the results. The below mentioned order of parameter passing is important.\n",
    "\n",
    "storeResults('Gradient Boosting Classifier',acc_test_gbc,f1_score_test_gbc,\n",
    "             recall_score_train_gbc,precision_score_train_gbc)"
   ]
  },
  {
   "cell_type": "markdown",
   "id": "c6820aa6",
   "metadata": {},
   "source": [
    "## 5.8. CatBoost Classifier"
   ]
  },
  {
   "cell_type": "code",
   "execution_count": 104,
   "id": "387e3c57",
   "metadata": {},
   "outputs": [
    {
     "name": "stdout",
     "output_type": "stream",
     "text": [
      "0:\tlearn: 0.5487232\ttotal: 3.18ms\tremaining: 3.18s\n",
      "1:\tlearn: 0.4349357\ttotal: 7.01ms\tremaining: 3.5s\n",
      "2:\tlearn: 0.3609236\ttotal: 10.7ms\tremaining: 3.56s\n",
      "3:\tlearn: 0.3050829\ttotal: 14.6ms\tremaining: 3.62s\n",
      "4:\tlearn: 0.2766620\ttotal: 18ms\tremaining: 3.58s\n",
      "5:\tlearn: 0.2475476\ttotal: 21.8ms\tremaining: 3.62s\n",
      "6:\tlearn: 0.2286637\ttotal: 25ms\tremaining: 3.54s\n",
      "7:\tlearn: 0.2138754\ttotal: 27.1ms\tremaining: 3.36s\n",
      "8:\tlearn: 0.2013643\ttotal: 29.9ms\tremaining: 3.29s\n",
      "9:\tlearn: 0.1896378\ttotal: 32.5ms\tremaining: 3.22s\n",
      "10:\tlearn: 0.1819539\ttotal: 35.4ms\tremaining: 3.18s\n",
      "11:\tlearn: 0.1767867\ttotal: 37.9ms\tremaining: 3.12s\n",
      "12:\tlearn: 0.1727735\ttotal: 40.3ms\tremaining: 3.06s\n",
      "13:\tlearn: 0.1682578\ttotal: 42.7ms\tremaining: 3.01s\n",
      "14:\tlearn: 0.1641759\ttotal: 45.1ms\tremaining: 2.96s\n",
      "15:\tlearn: 0.1614218\ttotal: 47.3ms\tremaining: 2.91s\n",
      "16:\tlearn: 0.1558968\ttotal: 49.9ms\tremaining: 2.89s\n",
      "17:\tlearn: 0.1535881\ttotal: 52.2ms\tremaining: 2.85s\n",
      "18:\tlearn: 0.1514228\ttotal: 54.6ms\tremaining: 2.82s\n",
      "19:\tlearn: 0.1482580\ttotal: 56.8ms\tremaining: 2.78s\n",
      "20:\tlearn: 0.1452536\ttotal: 58.8ms\tremaining: 2.74s\n",
      "21:\tlearn: 0.1426992\ttotal: 60.8ms\tremaining: 2.7s\n",
      "22:\tlearn: 0.1405068\ttotal: 62.9ms\tremaining: 2.67s\n",
      "23:\tlearn: 0.1381617\ttotal: 65.1ms\tremaining: 2.65s\n",
      "24:\tlearn: 0.1363558\ttotal: 67.5ms\tremaining: 2.63s\n",
      "25:\tlearn: 0.1341378\ttotal: 69.5ms\tremaining: 2.6s\n",
      "26:\tlearn: 0.1323241\ttotal: 71.7ms\tremaining: 2.58s\n",
      "27:\tlearn: 0.1305175\ttotal: 73.9ms\tremaining: 2.56s\n",
      "28:\tlearn: 0.1289123\ttotal: 75.8ms\tremaining: 2.54s\n",
      "29:\tlearn: 0.1278445\ttotal: 77.8ms\tremaining: 2.52s\n",
      "30:\tlearn: 0.1256489\ttotal: 80.1ms\tremaining: 2.5s\n",
      "31:\tlearn: 0.1239303\ttotal: 82ms\tremaining: 2.48s\n",
      "32:\tlearn: 0.1216332\ttotal: 84.2ms\tremaining: 2.47s\n",
      "33:\tlearn: 0.1207898\ttotal: 86.4ms\tremaining: 2.45s\n",
      "34:\tlearn: 0.1197948\ttotal: 88.5ms\tremaining: 2.44s\n",
      "35:\tlearn: 0.1187666\ttotal: 90.7ms\tremaining: 2.43s\n",
      "36:\tlearn: 0.1175524\ttotal: 92.7ms\tremaining: 2.41s\n",
      "37:\tlearn: 0.1164566\ttotal: 94.8ms\tremaining: 2.4s\n",
      "38:\tlearn: 0.1156115\ttotal: 96.9ms\tremaining: 2.39s\n",
      "39:\tlearn: 0.1143547\ttotal: 99.2ms\tremaining: 2.38s\n",
      "40:\tlearn: 0.1131558\ttotal: 101ms\tremaining: 2.37s\n",
      "41:\tlearn: 0.1122965\ttotal: 103ms\tremaining: 2.36s\n",
      "42:\tlearn: 0.1113744\ttotal: 105ms\tremaining: 2.35s\n",
      "43:\tlearn: 0.1103635\ttotal: 107ms\tremaining: 2.33s\n",
      "44:\tlearn: 0.1093154\ttotal: 109ms\tremaining: 2.32s\n",
      "45:\tlearn: 0.1085949\ttotal: 112ms\tremaining: 2.32s\n",
      "46:\tlearn: 0.1078806\ttotal: 114ms\tremaining: 2.31s\n",
      "47:\tlearn: 0.1071933\ttotal: 116ms\tremaining: 2.3s\n",
      "48:\tlearn: 0.1061508\ttotal: 118ms\tremaining: 2.29s\n",
      "49:\tlearn: 0.1051555\ttotal: 120ms\tremaining: 2.28s\n",
      "50:\tlearn: 0.1044416\ttotal: 122ms\tremaining: 2.26s\n",
      "51:\tlearn: 0.1035176\ttotal: 124ms\tremaining: 2.26s\n",
      "52:\tlearn: 0.1021724\ttotal: 126ms\tremaining: 2.25s\n",
      "53:\tlearn: 0.1012434\ttotal: 128ms\tremaining: 2.24s\n",
      "54:\tlearn: 0.1005327\ttotal: 130ms\tremaining: 2.23s\n",
      "55:\tlearn: 0.0998745\ttotal: 132ms\tremaining: 2.22s\n",
      "56:\tlearn: 0.0986848\ttotal: 134ms\tremaining: 2.21s\n",
      "57:\tlearn: 0.0979806\ttotal: 136ms\tremaining: 2.21s\n",
      "58:\tlearn: 0.0974501\ttotal: 139ms\tremaining: 2.21s\n",
      "59:\tlearn: 0.0967877\ttotal: 141ms\tremaining: 2.2s\n",
      "60:\tlearn: 0.0956301\ttotal: 142ms\tremaining: 2.19s\n",
      "61:\tlearn: 0.0950716\ttotal: 145ms\tremaining: 2.19s\n",
      "62:\tlearn: 0.0943425\ttotal: 147ms\tremaining: 2.18s\n",
      "63:\tlearn: 0.0938689\ttotal: 149ms\tremaining: 2.18s\n",
      "64:\tlearn: 0.0936562\ttotal: 151ms\tremaining: 2.18s\n",
      "65:\tlearn: 0.0931162\ttotal: 153ms\tremaining: 2.17s\n",
      "66:\tlearn: 0.0925359\ttotal: 155ms\tremaining: 2.16s\n",
      "67:\tlearn: 0.0916716\ttotal: 157ms\tremaining: 2.15s\n",
      "68:\tlearn: 0.0906297\ttotal: 159ms\tremaining: 2.15s\n",
      "69:\tlearn: 0.0899342\ttotal: 161ms\tremaining: 2.14s\n",
      "70:\tlearn: 0.0892701\ttotal: 164ms\tremaining: 2.14s\n",
      "71:\tlearn: 0.0888753\ttotal: 166ms\tremaining: 2.14s\n",
      "72:\tlearn: 0.0881357\ttotal: 168ms\tremaining: 2.13s\n",
      "73:\tlearn: 0.0877790\ttotal: 170ms\tremaining: 2.13s\n",
      "74:\tlearn: 0.0874838\ttotal: 172ms\tremaining: 2.12s\n",
      "75:\tlearn: 0.0869608\ttotal: 174ms\tremaining: 2.11s\n",
      "76:\tlearn: 0.0865361\ttotal: 176ms\tremaining: 2.11s\n",
      "77:\tlearn: 0.0861421\ttotal: 178ms\tremaining: 2.11s\n",
      "78:\tlearn: 0.0857547\ttotal: 180ms\tremaining: 2.1s\n",
      "79:\tlearn: 0.0844840\ttotal: 182ms\tremaining: 2.09s\n",
      "80:\tlearn: 0.0840523\ttotal: 184ms\tremaining: 2.09s\n",
      "81:\tlearn: 0.0838115\ttotal: 186ms\tremaining: 2.08s\n",
      "82:\tlearn: 0.0835476\ttotal: 188ms\tremaining: 2.08s\n",
      "83:\tlearn: 0.0831790\ttotal: 190ms\tremaining: 2.07s\n",
      "84:\tlearn: 0.0826715\ttotal: 192ms\tremaining: 2.07s\n",
      "85:\tlearn: 0.0817979\ttotal: 195ms\tremaining: 2.07s\n",
      "86:\tlearn: 0.0813965\ttotal: 196ms\tremaining: 2.06s\n",
      "87:\tlearn: 0.0810891\ttotal: 198ms\tremaining: 2.06s\n",
      "88:\tlearn: 0.0805226\ttotal: 201ms\tremaining: 2.05s\n",
      "89:\tlearn: 0.0800868\ttotal: 203ms\tremaining: 2.05s\n",
      "90:\tlearn: 0.0796689\ttotal: 205ms\tremaining: 2.05s\n",
      "91:\tlearn: 0.0793265\ttotal: 207ms\tremaining: 2.05s\n",
      "92:\tlearn: 0.0789320\ttotal: 210ms\tremaining: 2.04s\n",
      "93:\tlearn: 0.0785365\ttotal: 212ms\tremaining: 2.05s\n",
      "94:\tlearn: 0.0780166\ttotal: 215ms\tremaining: 2.04s\n",
      "95:\tlearn: 0.0771478\ttotal: 217ms\tremaining: 2.04s\n",
      "96:\tlearn: 0.0768522\ttotal: 219ms\tremaining: 2.04s\n",
      "97:\tlearn: 0.0761982\ttotal: 220ms\tremaining: 2.03s\n",
      "98:\tlearn: 0.0758859\ttotal: 222ms\tremaining: 2.02s\n",
      "99:\tlearn: 0.0755311\ttotal: 224ms\tremaining: 2.02s\n",
      "100:\tlearn: 0.0749254\ttotal: 227ms\tremaining: 2.02s\n",
      "101:\tlearn: 0.0745232\ttotal: 229ms\tremaining: 2.02s\n",
      "102:\tlearn: 0.0742103\ttotal: 231ms\tremaining: 2.02s\n",
      "103:\tlearn: 0.0738550\ttotal: 233ms\tremaining: 2.01s\n",
      "104:\tlearn: 0.0733823\ttotal: 236ms\tremaining: 2.01s\n",
      "105:\tlearn: 0.0727215\ttotal: 238ms\tremaining: 2.01s\n",
      "106:\tlearn: 0.0721881\ttotal: 241ms\tremaining: 2.01s\n",
      "107:\tlearn: 0.0719881\ttotal: 243ms\tremaining: 2.01s\n",
      "108:\tlearn: 0.0715811\ttotal: 245ms\tremaining: 2s\n",
      "109:\tlearn: 0.0710623\ttotal: 247ms\tremaining: 2s\n",
      "110:\tlearn: 0.0707868\ttotal: 249ms\tremaining: 2s\n",
      "111:\tlearn: 0.0705032\ttotal: 252ms\tremaining: 2s\n",
      "112:\tlearn: 0.0702643\ttotal: 254ms\tremaining: 2s\n",
      "113:\tlearn: 0.0700158\ttotal: 256ms\tremaining: 1.99s\n",
      "114:\tlearn: 0.0697033\ttotal: 258ms\tremaining: 1.99s\n",
      "115:\tlearn: 0.0693206\ttotal: 260ms\tremaining: 1.98s\n",
      "116:\tlearn: 0.0688914\ttotal: 262ms\tremaining: 1.98s\n",
      "117:\tlearn: 0.0681163\ttotal: 265ms\tremaining: 1.98s\n",
      "118:\tlearn: 0.0677305\ttotal: 267ms\tremaining: 1.98s\n",
      "119:\tlearn: 0.0675146\ttotal: 269ms\tremaining: 1.98s\n",
      "120:\tlearn: 0.0670681\ttotal: 271ms\tremaining: 1.97s\n",
      "121:\tlearn: 0.0667106\ttotal: 273ms\tremaining: 1.97s\n",
      "122:\tlearn: 0.0664825\ttotal: 275ms\tremaining: 1.96s\n",
      "123:\tlearn: 0.0661842\ttotal: 277ms\tremaining: 1.96s\n",
      "124:\tlearn: 0.0656590\ttotal: 280ms\tremaining: 1.96s\n",
      "125:\tlearn: 0.0653552\ttotal: 282ms\tremaining: 1.95s\n",
      "126:\tlearn: 0.0650482\ttotal: 284ms\tremaining: 1.95s\n",
      "127:\tlearn: 0.0647403\ttotal: 286ms\tremaining: 1.95s\n",
      "128:\tlearn: 0.0645124\ttotal: 288ms\tremaining: 1.94s\n",
      "129:\tlearn: 0.0642397\ttotal: 290ms\tremaining: 1.94s\n",
      "130:\tlearn: 0.0638785\ttotal: 292ms\tremaining: 1.94s\n",
      "131:\tlearn: 0.0636326\ttotal: 294ms\tremaining: 1.93s\n",
      "132:\tlearn: 0.0634690\ttotal: 296ms\tremaining: 1.93s\n",
      "133:\tlearn: 0.0630192\ttotal: 298ms\tremaining: 1.92s\n",
      "134:\tlearn: 0.0626098\ttotal: 300ms\tremaining: 1.92s\n",
      "135:\tlearn: 0.0624539\ttotal: 302ms\tremaining: 1.92s\n",
      "136:\tlearn: 0.0620906\ttotal: 304ms\tremaining: 1.92s\n",
      "137:\tlearn: 0.0618404\ttotal: 306ms\tremaining: 1.91s\n",
      "138:\tlearn: 0.0616377\ttotal: 308ms\tremaining: 1.91s\n",
      "139:\tlearn: 0.0614321\ttotal: 310ms\tremaining: 1.91s\n",
      "140:\tlearn: 0.0610144\ttotal: 312ms\tremaining: 1.9s\n",
      "141:\tlearn: 0.0607740\ttotal: 315ms\tremaining: 1.9s\n",
      "142:\tlearn: 0.0604074\ttotal: 317ms\tremaining: 1.9s\n",
      "143:\tlearn: 0.0601492\ttotal: 319ms\tremaining: 1.9s\n",
      "144:\tlearn: 0.0599332\ttotal: 322ms\tremaining: 1.9s\n",
      "145:\tlearn: 0.0595986\ttotal: 324ms\tremaining: 1.89s\n",
      "146:\tlearn: 0.0594607\ttotal: 326ms\tremaining: 1.89s\n",
      "147:\tlearn: 0.0592346\ttotal: 328ms\tremaining: 1.89s\n",
      "148:\tlearn: 0.0590329\ttotal: 331ms\tremaining: 1.89s\n",
      "149:\tlearn: 0.0588296\ttotal: 333ms\tremaining: 1.88s\n",
      "150:\tlearn: 0.0585094\ttotal: 335ms\tremaining: 1.88s\n",
      "151:\tlearn: 0.0583468\ttotal: 337ms\tremaining: 1.88s\n",
      "152:\tlearn: 0.0581616\ttotal: 340ms\tremaining: 1.88s\n",
      "153:\tlearn: 0.0579070\ttotal: 342ms\tremaining: 1.88s\n",
      "154:\tlearn: 0.0577100\ttotal: 344ms\tremaining: 1.87s\n",
      "155:\tlearn: 0.0575204\ttotal: 346ms\tremaining: 1.87s\n",
      "156:\tlearn: 0.0572530\ttotal: 348ms\tremaining: 1.87s\n",
      "157:\tlearn: 0.0569274\ttotal: 349ms\tremaining: 1.86s\n",
      "158:\tlearn: 0.0566762\ttotal: 352ms\tremaining: 1.86s\n",
      "159:\tlearn: 0.0565614\ttotal: 354ms\tremaining: 1.86s\n",
      "160:\tlearn: 0.0562647\ttotal: 356ms\tremaining: 1.85s\n",
      "161:\tlearn: 0.0560566\ttotal: 358ms\tremaining: 1.85s\n",
      "162:\tlearn: 0.0558560\ttotal: 360ms\tremaining: 1.85s\n",
      "163:\tlearn: 0.0554512\ttotal: 362ms\tremaining: 1.84s\n",
      "164:\tlearn: 0.0552806\ttotal: 364ms\tremaining: 1.84s\n",
      "165:\tlearn: 0.0550538\ttotal: 367ms\tremaining: 1.84s\n",
      "166:\tlearn: 0.0548825\ttotal: 369ms\tremaining: 1.84s\n",
      "167:\tlearn: 0.0547805\ttotal: 371ms\tremaining: 1.83s\n",
      "168:\tlearn: 0.0546642\ttotal: 373ms\tremaining: 1.83s\n",
      "169:\tlearn: 0.0543574\ttotal: 375ms\tremaining: 1.83s\n",
      "170:\tlearn: 0.0542539\ttotal: 377ms\tremaining: 1.83s\n",
      "171:\tlearn: 0.0540977\ttotal: 379ms\tremaining: 1.83s\n",
      "172:\tlearn: 0.0539741\ttotal: 381ms\tremaining: 1.82s\n",
      "173:\tlearn: 0.0537793\ttotal: 383ms\tremaining: 1.82s\n",
      "174:\tlearn: 0.0535499\ttotal: 385ms\tremaining: 1.82s\n",
      "175:\tlearn: 0.0533461\ttotal: 387ms\tremaining: 1.81s\n",
      "176:\tlearn: 0.0531326\ttotal: 389ms\tremaining: 1.81s\n",
      "177:\tlearn: 0.0530595\ttotal: 392ms\tremaining: 1.81s\n",
      "178:\tlearn: 0.0529470\ttotal: 394ms\tremaining: 1.81s\n",
      "179:\tlearn: 0.0527691\ttotal: 396ms\tremaining: 1.8s\n",
      "180:\tlearn: 0.0526404\ttotal: 398ms\tremaining: 1.8s\n",
      "181:\tlearn: 0.0525145\ttotal: 400ms\tremaining: 1.8s\n",
      "182:\tlearn: 0.0524332\ttotal: 403ms\tremaining: 1.8s\n",
      "183:\tlearn: 0.0522311\ttotal: 405ms\tremaining: 1.8s\n",
      "184:\tlearn: 0.0519353\ttotal: 408ms\tremaining: 1.79s\n",
      "185:\tlearn: 0.0515714\ttotal: 410ms\tremaining: 1.79s\n",
      "186:\tlearn: 0.0514909\ttotal: 412ms\tremaining: 1.79s\n",
      "187:\tlearn: 0.0513162\ttotal: 414ms\tremaining: 1.79s\n",
      "188:\tlearn: 0.0511884\ttotal: 417ms\tremaining: 1.79s\n",
      "189:\tlearn: 0.0510652\ttotal: 419ms\tremaining: 1.78s\n",
      "190:\tlearn: 0.0509786\ttotal: 421ms\tremaining: 1.78s\n",
      "191:\tlearn: 0.0508893\ttotal: 423ms\tremaining: 1.78s\n",
      "192:\tlearn: 0.0505900\ttotal: 425ms\tremaining: 1.78s\n",
      "193:\tlearn: 0.0504426\ttotal: 427ms\tremaining: 1.77s\n",
      "194:\tlearn: 0.0502767\ttotal: 429ms\tremaining: 1.77s\n",
      "195:\tlearn: 0.0500644\ttotal: 431ms\tremaining: 1.77s\n",
      "196:\tlearn: 0.0499431\ttotal: 433ms\tremaining: 1.76s\n",
      "197:\tlearn: 0.0498418\ttotal: 435ms\tremaining: 1.76s\n",
      "198:\tlearn: 0.0497734\ttotal: 437ms\tremaining: 1.76s\n",
      "199:\tlearn: 0.0496759\ttotal: 439ms\tremaining: 1.76s\n",
      "200:\tlearn: 0.0494923\ttotal: 442ms\tremaining: 1.76s\n",
      "201:\tlearn: 0.0493402\ttotal: 445ms\tremaining: 1.76s\n",
      "202:\tlearn: 0.0492795\ttotal: 446ms\tremaining: 1.75s\n",
      "203:\tlearn: 0.0489776\ttotal: 449ms\tremaining: 1.75s\n",
      "204:\tlearn: 0.0486491\ttotal: 450ms\tremaining: 1.75s\n",
      "205:\tlearn: 0.0484551\ttotal: 452ms\tremaining: 1.74s\n",
      "206:\tlearn: 0.0482768\ttotal: 455ms\tremaining: 1.74s\n",
      "207:\tlearn: 0.0481178\ttotal: 457ms\tremaining: 1.74s\n",
      "208:\tlearn: 0.0479317\ttotal: 459ms\tremaining: 1.74s\n",
      "209:\tlearn: 0.0476658\ttotal: 461ms\tremaining: 1.73s\n",
      "210:\tlearn: 0.0474069\ttotal: 463ms\tremaining: 1.73s\n",
      "211:\tlearn: 0.0471817\ttotal: 465ms\tremaining: 1.73s\n",
      "212:\tlearn: 0.0470479\ttotal: 467ms\tremaining: 1.73s\n",
      "213:\tlearn: 0.0469487\ttotal: 469ms\tremaining: 1.72s\n",
      "214:\tlearn: 0.0468552\ttotal: 471ms\tremaining: 1.72s\n",
      "215:\tlearn: 0.0466651\ttotal: 474ms\tremaining: 1.72s\n",
      "216:\tlearn: 0.0465418\ttotal: 475ms\tremaining: 1.72s\n",
      "217:\tlearn: 0.0464800\ttotal: 478ms\tremaining: 1.71s\n",
      "218:\tlearn: 0.0463546\ttotal: 480ms\tremaining: 1.71s\n",
      "219:\tlearn: 0.0461314\ttotal: 482ms\tremaining: 1.71s\n",
      "220:\tlearn: 0.0460039\ttotal: 484ms\tremaining: 1.71s\n",
      "221:\tlearn: 0.0458286\ttotal: 486ms\tremaining: 1.7s\n",
      "222:\tlearn: 0.0456749\ttotal: 488ms\tremaining: 1.7s\n",
      "223:\tlearn: 0.0455866\ttotal: 490ms\tremaining: 1.7s\n",
      "224:\tlearn: 0.0453525\ttotal: 493ms\tremaining: 1.7s\n",
      "225:\tlearn: 0.0452161\ttotal: 495ms\tremaining: 1.69s\n",
      "226:\tlearn: 0.0450903\ttotal: 496ms\tremaining: 1.69s\n",
      "227:\tlearn: 0.0449873\ttotal: 499ms\tremaining: 1.69s\n",
      "228:\tlearn: 0.0448315\ttotal: 501ms\tremaining: 1.69s\n",
      "229:\tlearn: 0.0447866\ttotal: 503ms\tremaining: 1.68s\n",
      "230:\tlearn: 0.0447060\ttotal: 505ms\tremaining: 1.68s\n",
      "231:\tlearn: 0.0446381\ttotal: 507ms\tremaining: 1.68s\n",
      "232:\tlearn: 0.0445557\ttotal: 509ms\tremaining: 1.68s\n",
      "233:\tlearn: 0.0445173\ttotal: 511ms\tremaining: 1.67s\n",
      "234:\tlearn: 0.0444360\ttotal: 513ms\tremaining: 1.67s\n",
      "235:\tlearn: 0.0442935\ttotal: 515ms\tremaining: 1.67s\n",
      "236:\tlearn: 0.0441398\ttotal: 517ms\tremaining: 1.67s\n",
      "237:\tlearn: 0.0440522\ttotal: 520ms\tremaining: 1.66s\n",
      "238:\tlearn: 0.0439884\ttotal: 522ms\tremaining: 1.66s\n",
      "239:\tlearn: 0.0438421\ttotal: 523ms\tremaining: 1.66s\n",
      "240:\tlearn: 0.0437281\ttotal: 525ms\tremaining: 1.65s\n",
      "241:\tlearn: 0.0435951\ttotal: 527ms\tremaining: 1.65s\n",
      "242:\tlearn: 0.0435615\ttotal: 530ms\tremaining: 1.65s\n",
      "243:\tlearn: 0.0433870\ttotal: 532ms\tremaining: 1.65s\n",
      "244:\tlearn: 0.0432718\ttotal: 534ms\tremaining: 1.65s\n",
      "245:\tlearn: 0.0431472\ttotal: 536ms\tremaining: 1.64s\n",
      "246:\tlearn: 0.0430067\ttotal: 538ms\tremaining: 1.64s\n",
      "247:\tlearn: 0.0429156\ttotal: 540ms\tremaining: 1.64s\n",
      "248:\tlearn: 0.0428247\ttotal: 543ms\tremaining: 1.64s\n",
      "249:\tlearn: 0.0427609\ttotal: 545ms\tremaining: 1.63s\n",
      "250:\tlearn: 0.0426800\ttotal: 547ms\tremaining: 1.63s\n",
      "251:\tlearn: 0.0425901\ttotal: 549ms\tremaining: 1.63s\n",
      "252:\tlearn: 0.0425048\ttotal: 551ms\tremaining: 1.63s\n",
      "253:\tlearn: 0.0423799\ttotal: 553ms\tremaining: 1.62s\n",
      "254:\tlearn: 0.0423338\ttotal: 555ms\tremaining: 1.62s\n",
      "255:\tlearn: 0.0422537\ttotal: 557ms\tremaining: 1.62s\n",
      "256:\tlearn: 0.0420667\ttotal: 559ms\tremaining: 1.62s\n",
      "257:\tlearn: 0.0419256\ttotal: 561ms\tremaining: 1.61s\n",
      "258:\tlearn: 0.0418053\ttotal: 563ms\tremaining: 1.61s\n",
      "259:\tlearn: 0.0417602\ttotal: 565ms\tremaining: 1.61s\n",
      "260:\tlearn: 0.0416520\ttotal: 568ms\tremaining: 1.61s\n",
      "261:\tlearn: 0.0415031\ttotal: 570ms\tremaining: 1.6s\n",
      "262:\tlearn: 0.0414180\ttotal: 572ms\tremaining: 1.6s\n",
      "263:\tlearn: 0.0413413\ttotal: 574ms\tremaining: 1.6s\n",
      "264:\tlearn: 0.0412434\ttotal: 576ms\tremaining: 1.6s\n",
      "265:\tlearn: 0.0410701\ttotal: 578ms\tremaining: 1.59s\n",
      "266:\tlearn: 0.0409790\ttotal: 580ms\tremaining: 1.59s\n",
      "267:\tlearn: 0.0408507\ttotal: 583ms\tremaining: 1.59s\n",
      "268:\tlearn: 0.0406738\ttotal: 585ms\tremaining: 1.59s\n",
      "269:\tlearn: 0.0405711\ttotal: 587ms\tremaining: 1.59s\n",
      "270:\tlearn: 0.0405166\ttotal: 589ms\tremaining: 1.58s\n",
      "271:\tlearn: 0.0404571\ttotal: 591ms\tremaining: 1.58s\n",
      "272:\tlearn: 0.0404132\ttotal: 593ms\tremaining: 1.58s\n",
      "273:\tlearn: 0.0403448\ttotal: 596ms\tremaining: 1.58s\n",
      "274:\tlearn: 0.0402405\ttotal: 598ms\tremaining: 1.57s\n",
      "275:\tlearn: 0.0401784\ttotal: 600ms\tremaining: 1.57s\n",
      "276:\tlearn: 0.0401032\ttotal: 602ms\tremaining: 1.57s\n",
      "277:\tlearn: 0.0400037\ttotal: 604ms\tremaining: 1.57s\n",
      "278:\tlearn: 0.0399720\ttotal: 606ms\tremaining: 1.57s\n",
      "279:\tlearn: 0.0399098\ttotal: 608ms\tremaining: 1.56s\n",
      "280:\tlearn: 0.0398193\ttotal: 611ms\tremaining: 1.56s\n",
      "281:\tlearn: 0.0397107\ttotal: 613ms\tremaining: 1.56s\n",
      "282:\tlearn: 0.0396238\ttotal: 615ms\tremaining: 1.56s\n",
      "283:\tlearn: 0.0395599\ttotal: 617ms\tremaining: 1.55s\n",
      "284:\tlearn: 0.0394077\ttotal: 619ms\tremaining: 1.55s\n",
      "285:\tlearn: 0.0393553\ttotal: 621ms\tremaining: 1.55s\n",
      "286:\tlearn: 0.0392617\ttotal: 623ms\tremaining: 1.55s\n",
      "287:\tlearn: 0.0391791\ttotal: 625ms\tremaining: 1.54s\n",
      "288:\tlearn: 0.0391059\ttotal: 627ms\tremaining: 1.54s\n",
      "289:\tlearn: 0.0389925\ttotal: 629ms\tremaining: 1.54s\n",
      "290:\tlearn: 0.0388878\ttotal: 632ms\tremaining: 1.54s\n",
      "291:\tlearn: 0.0388529\ttotal: 634ms\tremaining: 1.54s\n",
      "292:\tlearn: 0.0387915\ttotal: 636ms\tremaining: 1.53s\n",
      "293:\tlearn: 0.0386696\ttotal: 638ms\tremaining: 1.53s\n",
      "294:\tlearn: 0.0385486\ttotal: 640ms\tremaining: 1.53s\n",
      "295:\tlearn: 0.0384982\ttotal: 642ms\tremaining: 1.53s\n",
      "296:\tlearn: 0.0384189\ttotal: 644ms\tremaining: 1.52s\n",
      "297:\tlearn: 0.0383475\ttotal: 646ms\tremaining: 1.52s\n",
      "298:\tlearn: 0.0382923\ttotal: 648ms\tremaining: 1.52s\n",
      "299:\tlearn: 0.0382194\ttotal: 650ms\tremaining: 1.52s\n",
      "300:\tlearn: 0.0381712\ttotal: 652ms\tremaining: 1.51s\n",
      "301:\tlearn: 0.0380901\ttotal: 654ms\tremaining: 1.51s\n",
      "302:\tlearn: 0.0379529\ttotal: 656ms\tremaining: 1.51s\n",
      "303:\tlearn: 0.0378866\ttotal: 659ms\tremaining: 1.51s\n",
      "304:\tlearn: 0.0377794\ttotal: 661ms\tremaining: 1.5s\n",
      "305:\tlearn: 0.0376159\ttotal: 663ms\tremaining: 1.5s\n",
      "306:\tlearn: 0.0374973\ttotal: 665ms\tremaining: 1.5s\n",
      "307:\tlearn: 0.0374268\ttotal: 666ms\tremaining: 1.5s\n",
      "308:\tlearn: 0.0373551\ttotal: 669ms\tremaining: 1.5s\n",
      "309:\tlearn: 0.0372996\ttotal: 671ms\tremaining: 1.49s\n",
      "310:\tlearn: 0.0372491\ttotal: 673ms\tremaining: 1.49s\n",
      "311:\tlearn: 0.0372046\ttotal: 675ms\tremaining: 1.49s\n",
      "312:\tlearn: 0.0371458\ttotal: 677ms\tremaining: 1.49s\n",
      "313:\tlearn: 0.0370351\ttotal: 680ms\tremaining: 1.48s\n",
      "314:\tlearn: 0.0369537\ttotal: 682ms\tremaining: 1.48s\n",
      "315:\tlearn: 0.0368912\ttotal: 684ms\tremaining: 1.48s\n",
      "316:\tlearn: 0.0368514\ttotal: 686ms\tremaining: 1.48s\n",
      "317:\tlearn: 0.0368131\ttotal: 688ms\tremaining: 1.48s\n",
      "318:\tlearn: 0.0367792\ttotal: 690ms\tremaining: 1.47s\n",
      "319:\tlearn: 0.0367279\ttotal: 693ms\tremaining: 1.47s\n",
      "320:\tlearn: 0.0367059\ttotal: 695ms\tremaining: 1.47s\n",
      "321:\tlearn: 0.0366599\ttotal: 697ms\tremaining: 1.47s\n",
      "322:\tlearn: 0.0365020\ttotal: 699ms\tremaining: 1.47s\n",
      "323:\tlearn: 0.0364542\ttotal: 701ms\tremaining: 1.46s\n",
      "324:\tlearn: 0.0364204\ttotal: 703ms\tremaining: 1.46s\n",
      "325:\tlearn: 0.0363625\ttotal: 705ms\tremaining: 1.46s\n",
      "326:\tlearn: 0.0362867\ttotal: 707ms\tremaining: 1.46s\n",
      "327:\tlearn: 0.0362404\ttotal: 710ms\tremaining: 1.45s\n",
      "328:\tlearn: 0.0361574\ttotal: 712ms\tremaining: 1.45s\n",
      "329:\tlearn: 0.0361096\ttotal: 713ms\tremaining: 1.45s\n",
      "330:\tlearn: 0.0360786\ttotal: 715ms\tremaining: 1.45s\n",
      "331:\tlearn: 0.0360080\ttotal: 718ms\tremaining: 1.44s\n",
      "332:\tlearn: 0.0359705\ttotal: 720ms\tremaining: 1.44s\n",
      "333:\tlearn: 0.0359041\ttotal: 722ms\tremaining: 1.44s\n",
      "334:\tlearn: 0.0358134\ttotal: 724ms\tremaining: 1.44s\n",
      "335:\tlearn: 0.0357625\ttotal: 726ms\tremaining: 1.44s\n",
      "336:\tlearn: 0.0356498\ttotal: 728ms\tremaining: 1.43s\n",
      "337:\tlearn: 0.0355630\ttotal: 730ms\tremaining: 1.43s\n",
      "338:\tlearn: 0.0354664\ttotal: 732ms\tremaining: 1.43s\n",
      "339:\tlearn: 0.0354328\ttotal: 735ms\tremaining: 1.43s\n",
      "340:\tlearn: 0.0353908\ttotal: 737ms\tremaining: 1.42s\n",
      "341:\tlearn: 0.0353248\ttotal: 739ms\tremaining: 1.42s\n",
      "342:\tlearn: 0.0352669\ttotal: 741ms\tremaining: 1.42s\n",
      "343:\tlearn: 0.0352172\ttotal: 742ms\tremaining: 1.42s\n",
      "344:\tlearn: 0.0351687\ttotal: 745ms\tremaining: 1.41s\n",
      "345:\tlearn: 0.0351475\ttotal: 747ms\tremaining: 1.41s\n",
      "346:\tlearn: 0.0350233\ttotal: 749ms\tremaining: 1.41s\n",
      "347:\tlearn: 0.0349995\ttotal: 751ms\tremaining: 1.41s\n",
      "348:\tlearn: 0.0349414\ttotal: 753ms\tremaining: 1.41s\n",
      "349:\tlearn: 0.0349034\ttotal: 755ms\tremaining: 1.4s\n",
      "350:\tlearn: 0.0348012\ttotal: 758ms\tremaining: 1.4s\n",
      "351:\tlearn: 0.0347637\ttotal: 760ms\tremaining: 1.4s\n",
      "352:\tlearn: 0.0347316\ttotal: 762ms\tremaining: 1.4s\n",
      "353:\tlearn: 0.0346767\ttotal: 764ms\tremaining: 1.39s\n",
      "354:\tlearn: 0.0346415\ttotal: 766ms\tremaining: 1.39s\n",
      "355:\tlearn: 0.0345842\ttotal: 769ms\tremaining: 1.39s\n",
      "356:\tlearn: 0.0344702\ttotal: 771ms\tremaining: 1.39s\n",
      "357:\tlearn: 0.0343870\ttotal: 773ms\tremaining: 1.39s\n",
      "358:\tlearn: 0.0343532\ttotal: 775ms\tremaining: 1.38s\n",
      "359:\tlearn: 0.0342877\ttotal: 777ms\tremaining: 1.38s\n",
      "360:\tlearn: 0.0341769\ttotal: 779ms\tremaining: 1.38s\n",
      "361:\tlearn: 0.0341559\ttotal: 781ms\tremaining: 1.38s\n",
      "362:\tlearn: 0.0340802\ttotal: 784ms\tremaining: 1.38s\n",
      "363:\tlearn: 0.0340117\ttotal: 786ms\tremaining: 1.37s\n",
      "364:\tlearn: 0.0339431\ttotal: 788ms\tremaining: 1.37s\n",
      "365:\tlearn: 0.0338809\ttotal: 790ms\tremaining: 1.37s\n",
      "366:\tlearn: 0.0338159\ttotal: 792ms\tremaining: 1.37s\n",
      "367:\tlearn: 0.0337862\ttotal: 794ms\tremaining: 1.36s\n",
      "368:\tlearn: 0.0337620\ttotal: 797ms\tremaining: 1.36s\n",
      "369:\tlearn: 0.0337018\ttotal: 799ms\tremaining: 1.36s\n",
      "370:\tlearn: 0.0336391\ttotal: 801ms\tremaining: 1.36s\n",
      "371:\tlearn: 0.0335537\ttotal: 804ms\tremaining: 1.36s\n",
      "372:\tlearn: 0.0335024\ttotal: 806ms\tremaining: 1.35s\n",
      "373:\tlearn: 0.0334719\ttotal: 808ms\tremaining: 1.35s\n",
      "374:\tlearn: 0.0334368\ttotal: 810ms\tremaining: 1.35s\n",
      "375:\tlearn: 0.0333678\ttotal: 812ms\tremaining: 1.35s\n",
      "376:\tlearn: 0.0333293\ttotal: 814ms\tremaining: 1.34s\n",
      "377:\tlearn: 0.0332929\ttotal: 817ms\tremaining: 1.34s\n",
      "378:\tlearn: 0.0332465\ttotal: 819ms\tremaining: 1.34s\n",
      "379:\tlearn: 0.0331731\ttotal: 821ms\tremaining: 1.34s\n",
      "380:\tlearn: 0.0331123\ttotal: 823ms\tremaining: 1.34s\n",
      "381:\tlearn: 0.0330815\ttotal: 825ms\tremaining: 1.33s\n",
      "382:\tlearn: 0.0329911\ttotal: 827ms\tremaining: 1.33s\n",
      "383:\tlearn: 0.0329486\ttotal: 829ms\tremaining: 1.33s\n",
      "384:\tlearn: 0.0329158\ttotal: 831ms\tremaining: 1.33s\n",
      "385:\tlearn: 0.0328825\ttotal: 833ms\tremaining: 1.32s\n",
      "386:\tlearn: 0.0328548\ttotal: 835ms\tremaining: 1.32s\n",
      "387:\tlearn: 0.0327810\ttotal: 837ms\tremaining: 1.32s\n",
      "388:\tlearn: 0.0327590\ttotal: 839ms\tremaining: 1.32s\n",
      "389:\tlearn: 0.0327366\ttotal: 842ms\tremaining: 1.32s\n",
      "390:\tlearn: 0.0326258\ttotal: 844ms\tremaining: 1.31s\n",
      "391:\tlearn: 0.0326089\ttotal: 846ms\tremaining: 1.31s\n",
      "392:\tlearn: 0.0325731\ttotal: 849ms\tremaining: 1.31s\n",
      "393:\tlearn: 0.0325410\ttotal: 851ms\tremaining: 1.31s\n",
      "394:\tlearn: 0.0325172\ttotal: 853ms\tremaining: 1.31s\n",
      "395:\tlearn: 0.0324639\ttotal: 855ms\tremaining: 1.3s\n",
      "396:\tlearn: 0.0324274\ttotal: 857ms\tremaining: 1.3s\n",
      "397:\tlearn: 0.0323686\ttotal: 859ms\tremaining: 1.3s\n",
      "398:\tlearn: 0.0323451\ttotal: 861ms\tremaining: 1.3s\n",
      "399:\tlearn: 0.0323018\ttotal: 864ms\tremaining: 1.29s\n",
      "400:\tlearn: 0.0322754\ttotal: 866ms\tremaining: 1.29s\n",
      "401:\tlearn: 0.0322375\ttotal: 868ms\tremaining: 1.29s\n",
      "402:\tlearn: 0.0322034\ttotal: 870ms\tremaining: 1.29s\n",
      "403:\tlearn: 0.0321289\ttotal: 872ms\tremaining: 1.28s\n",
      "404:\tlearn: 0.0320859\ttotal: 874ms\tremaining: 1.28s\n",
      "405:\tlearn: 0.0320485\ttotal: 876ms\tremaining: 1.28s\n",
      "406:\tlearn: 0.0320104\ttotal: 878ms\tremaining: 1.28s\n",
      "407:\tlearn: 0.0319307\ttotal: 880ms\tremaining: 1.28s\n",
      "408:\tlearn: 0.0318545\ttotal: 882ms\tremaining: 1.27s\n",
      "409:\tlearn: 0.0317902\ttotal: 884ms\tremaining: 1.27s\n",
      "410:\tlearn: 0.0317538\ttotal: 887ms\tremaining: 1.27s\n",
      "411:\tlearn: 0.0316677\ttotal: 889ms\tremaining: 1.27s\n",
      "412:\tlearn: 0.0316340\ttotal: 891ms\tremaining: 1.27s\n",
      "413:\tlearn: 0.0316212\ttotal: 893ms\tremaining: 1.26s\n",
      "414:\tlearn: 0.0315865\ttotal: 895ms\tremaining: 1.26s\n",
      "415:\tlearn: 0.0315026\ttotal: 897ms\tremaining: 1.26s\n",
      "416:\tlearn: 0.0314715\ttotal: 899ms\tremaining: 1.26s\n",
      "417:\tlearn: 0.0314461\ttotal: 902ms\tremaining: 1.25s\n",
      "418:\tlearn: 0.0313943\ttotal: 904ms\tremaining: 1.25s\n",
      "419:\tlearn: 0.0313461\ttotal: 906ms\tremaining: 1.25s\n",
      "420:\tlearn: 0.0313159\ttotal: 908ms\tremaining: 1.25s\n",
      "421:\tlearn: 0.0312338\ttotal: 910ms\tremaining: 1.25s\n",
      "422:\tlearn: 0.0311835\ttotal: 912ms\tremaining: 1.24s\n",
      "423:\tlearn: 0.0311514\ttotal: 914ms\tremaining: 1.24s\n",
      "424:\tlearn: 0.0311268\ttotal: 916ms\tremaining: 1.24s\n",
      "425:\tlearn: 0.0310930\ttotal: 918ms\tremaining: 1.24s\n",
      "426:\tlearn: 0.0310731\ttotal: 920ms\tremaining: 1.23s\n",
      "427:\tlearn: 0.0310464\ttotal: 922ms\tremaining: 1.23s\n",
      "428:\tlearn: 0.0310290\ttotal: 924ms\tremaining: 1.23s\n",
      "429:\tlearn: 0.0309284\ttotal: 927ms\tremaining: 1.23s\n",
      "430:\tlearn: 0.0308976\ttotal: 929ms\tremaining: 1.23s\n",
      "431:\tlearn: 0.0308595\ttotal: 931ms\tremaining: 1.22s\n",
      "432:\tlearn: 0.0308032\ttotal: 933ms\tremaining: 1.22s\n",
      "433:\tlearn: 0.0307802\ttotal: 934ms\tremaining: 1.22s\n",
      "434:\tlearn: 0.0307535\ttotal: 937ms\tremaining: 1.22s\n",
      "435:\tlearn: 0.0307110\ttotal: 939ms\tremaining: 1.21s\n",
      "436:\tlearn: 0.0306538\ttotal: 941ms\tremaining: 1.21s\n",
      "437:\tlearn: 0.0306330\ttotal: 943ms\tremaining: 1.21s\n",
      "438:\tlearn: 0.0305571\ttotal: 945ms\tremaining: 1.21s\n",
      "439:\tlearn: 0.0305150\ttotal: 947ms\tremaining: 1.2s\n",
      "440:\tlearn: 0.0304785\ttotal: 949ms\tremaining: 1.2s\n",
      "441:\tlearn: 0.0304221\ttotal: 951ms\tremaining: 1.2s\n",
      "442:\tlearn: 0.0303907\ttotal: 953ms\tremaining: 1.2s\n",
      "443:\tlearn: 0.0303609\ttotal: 955ms\tremaining: 1.2s\n",
      "444:\tlearn: 0.0303213\ttotal: 957ms\tremaining: 1.19s\n",
      "445:\tlearn: 0.0302887\ttotal: 959ms\tremaining: 1.19s\n",
      "446:\tlearn: 0.0302621\ttotal: 962ms\tremaining: 1.19s\n",
      "447:\tlearn: 0.0302124\ttotal: 964ms\tremaining: 1.19s\n",
      "448:\tlearn: 0.0301405\ttotal: 966ms\tremaining: 1.19s\n",
      "449:\tlearn: 0.0300815\ttotal: 968ms\tremaining: 1.18s\n",
      "450:\tlearn: 0.0300647\ttotal: 970ms\tremaining: 1.18s\n",
      "451:\tlearn: 0.0300459\ttotal: 973ms\tremaining: 1.18s\n",
      "452:\tlearn: 0.0300161\ttotal: 975ms\tremaining: 1.18s\n",
      "453:\tlearn: 0.0299954\ttotal: 977ms\tremaining: 1.18s\n",
      "454:\tlearn: 0.0299746\ttotal: 980ms\tremaining: 1.17s\n",
      "455:\tlearn: 0.0299508\ttotal: 982ms\tremaining: 1.17s\n",
      "456:\tlearn: 0.0299217\ttotal: 984ms\tremaining: 1.17s\n",
      "457:\tlearn: 0.0298771\ttotal: 987ms\tremaining: 1.17s\n",
      "458:\tlearn: 0.0298484\ttotal: 989ms\tremaining: 1.17s\n",
      "459:\tlearn: 0.0297568\ttotal: 991ms\tremaining: 1.16s\n",
      "460:\tlearn: 0.0297214\ttotal: 993ms\tremaining: 1.16s\n",
      "461:\tlearn: 0.0296698\ttotal: 995ms\tremaining: 1.16s\n",
      "462:\tlearn: 0.0296293\ttotal: 997ms\tremaining: 1.16s\n",
      "463:\tlearn: 0.0295711\ttotal: 999ms\tremaining: 1.15s\n",
      "464:\tlearn: 0.0295020\ttotal: 1s\tremaining: 1.15s\n",
      "465:\tlearn: 0.0294799\ttotal: 1s\tremaining: 1.15s\n",
      "466:\tlearn: 0.0294567\ttotal: 1s\tremaining: 1.15s\n",
      "467:\tlearn: 0.0294008\ttotal: 1.01s\tremaining: 1.15s\n",
      "468:\tlearn: 0.0293838\ttotal: 1.01s\tremaining: 1.14s\n",
      "469:\tlearn: 0.0293451\ttotal: 1.01s\tremaining: 1.14s\n",
      "470:\tlearn: 0.0292726\ttotal: 1.01s\tremaining: 1.14s\n",
      "471:\tlearn: 0.0292532\ttotal: 1.01s\tremaining: 1.14s\n",
      "472:\tlearn: 0.0292369\ttotal: 1.02s\tremaining: 1.13s\n",
      "473:\tlearn: 0.0292060\ttotal: 1.02s\tremaining: 1.13s\n",
      "474:\tlearn: 0.0291648\ttotal: 1.02s\tremaining: 1.13s\n",
      "475:\tlearn: 0.0291437\ttotal: 1.02s\tremaining: 1.13s\n",
      "476:\tlearn: 0.0291307\ttotal: 1.03s\tremaining: 1.13s\n",
      "477:\tlearn: 0.0290859\ttotal: 1.03s\tremaining: 1.12s\n",
      "478:\tlearn: 0.0290415\ttotal: 1.03s\tremaining: 1.12s\n",
      "479:\tlearn: 0.0290107\ttotal: 1.03s\tremaining: 1.12s\n",
      "480:\tlearn: 0.0289936\ttotal: 1.03s\tremaining: 1.11s\n",
      "481:\tlearn: 0.0289936\ttotal: 1.03s\tremaining: 1.11s\n",
      "482:\tlearn: 0.0289743\ttotal: 1.04s\tremaining: 1.11s\n",
      "483:\tlearn: 0.0289140\ttotal: 1.04s\tremaining: 1.11s\n",
      "484:\tlearn: 0.0288924\ttotal: 1.04s\tremaining: 1.11s\n",
      "485:\tlearn: 0.0288696\ttotal: 1.04s\tremaining: 1.1s\n",
      "486:\tlearn: 0.0288169\ttotal: 1.05s\tremaining: 1.1s\n",
      "487:\tlearn: 0.0287841\ttotal: 1.05s\tremaining: 1.1s\n",
      "488:\tlearn: 0.0287586\ttotal: 1.05s\tremaining: 1.1s\n",
      "489:\tlearn: 0.0286968\ttotal: 1.05s\tremaining: 1.1s\n",
      "490:\tlearn: 0.0286539\ttotal: 1.05s\tremaining: 1.09s\n",
      "491:\tlearn: 0.0286538\ttotal: 1.06s\tremaining: 1.09s\n",
      "492:\tlearn: 0.0286356\ttotal: 1.06s\tremaining: 1.09s\n",
      "493:\tlearn: 0.0286061\ttotal: 1.06s\tremaining: 1.09s\n",
      "494:\tlearn: 0.0285691\ttotal: 1.06s\tremaining: 1.08s\n",
      "495:\tlearn: 0.0285441\ttotal: 1.06s\tremaining: 1.08s\n",
      "496:\tlearn: 0.0285307\ttotal: 1.07s\tremaining: 1.08s\n",
      "497:\tlearn: 0.0285271\ttotal: 1.07s\tremaining: 1.08s\n",
      "498:\tlearn: 0.0285108\ttotal: 1.07s\tremaining: 1.07s\n",
      "499:\tlearn: 0.0285107\ttotal: 1.07s\tremaining: 1.07s\n",
      "500:\tlearn: 0.0284578\ttotal: 1.07s\tremaining: 1.07s\n",
      "501:\tlearn: 0.0284303\ttotal: 1.08s\tremaining: 1.07s\n",
      "502:\tlearn: 0.0283938\ttotal: 1.08s\tremaining: 1.07s\n",
      "503:\tlearn: 0.0283746\ttotal: 1.08s\tremaining: 1.06s\n",
      "504:\tlearn: 0.0283744\ttotal: 1.08s\tremaining: 1.06s\n",
      "505:\tlearn: 0.0283597\ttotal: 1.08s\tremaining: 1.06s\n",
      "506:\tlearn: 0.0283347\ttotal: 1.09s\tremaining: 1.06s\n",
      "507:\tlearn: 0.0283150\ttotal: 1.09s\tremaining: 1.05s\n",
      "508:\tlearn: 0.0282995\ttotal: 1.09s\tremaining: 1.05s\n",
      "509:\tlearn: 0.0282783\ttotal: 1.09s\tremaining: 1.05s\n",
      "510:\tlearn: 0.0282568\ttotal: 1.1s\tremaining: 1.05s\n",
      "511:\tlearn: 0.0281979\ttotal: 1.1s\tremaining: 1.05s\n",
      "512:\tlearn: 0.0281211\ttotal: 1.1s\tremaining: 1.04s\n",
      "513:\tlearn: 0.0280864\ttotal: 1.1s\tremaining: 1.04s\n",
      "514:\tlearn: 0.0280602\ttotal: 1.1s\tremaining: 1.04s\n",
      "515:\tlearn: 0.0280478\ttotal: 1.11s\tremaining: 1.04s\n",
      "516:\tlearn: 0.0280324\ttotal: 1.11s\tremaining: 1.04s\n",
      "517:\tlearn: 0.0279982\ttotal: 1.11s\tremaining: 1.03s\n",
      "518:\tlearn: 0.0279833\ttotal: 1.11s\tremaining: 1.03s\n",
      "519:\tlearn: 0.0279698\ttotal: 1.11s\tremaining: 1.03s\n",
      "520:\tlearn: 0.0279248\ttotal: 1.12s\tremaining: 1.03s\n",
      "521:\tlearn: 0.0279247\ttotal: 1.12s\tremaining: 1.02s\n",
      "522:\tlearn: 0.0279247\ttotal: 1.12s\tremaining: 1.02s\n",
      "523:\tlearn: 0.0279246\ttotal: 1.12s\tremaining: 1.02s\n",
      "524:\tlearn: 0.0279246\ttotal: 1.12s\tremaining: 1.02s\n",
      "525:\tlearn: 0.0279246\ttotal: 1.13s\tremaining: 1.01s\n",
      "526:\tlearn: 0.0279246\ttotal: 1.13s\tremaining: 1.01s\n",
      "527:\tlearn: 0.0279147\ttotal: 1.13s\tremaining: 1.01s\n",
      "528:\tlearn: 0.0279106\ttotal: 1.13s\tremaining: 1.01s\n",
      "529:\tlearn: 0.0278729\ttotal: 1.13s\tremaining: 1s\n",
      "530:\tlearn: 0.0278476\ttotal: 1.14s\tremaining: 1s\n",
      "531:\tlearn: 0.0278108\ttotal: 1.14s\tremaining: 1s\n",
      "532:\tlearn: 0.0278107\ttotal: 1.14s\tremaining: 999ms\n",
      "533:\tlearn: 0.0277973\ttotal: 1.14s\tremaining: 997ms\n",
      "534:\tlearn: 0.0277505\ttotal: 1.14s\tremaining: 995ms\n",
      "535:\tlearn: 0.0277376\ttotal: 1.15s\tremaining: 992ms\n",
      "536:\tlearn: 0.0277213\ttotal: 1.15s\tremaining: 990ms\n",
      "537:\tlearn: 0.0276906\ttotal: 1.15s\tremaining: 988ms\n",
      "538:\tlearn: 0.0276736\ttotal: 1.15s\tremaining: 986ms\n",
      "539:\tlearn: 0.0276546\ttotal: 1.15s\tremaining: 984ms\n",
      "540:\tlearn: 0.0276545\ttotal: 1.16s\tremaining: 981ms\n",
      "541:\tlearn: 0.0276230\ttotal: 1.16s\tremaining: 979ms\n",
      "542:\tlearn: 0.0275952\ttotal: 1.16s\tremaining: 977ms\n",
      "543:\tlearn: 0.0275801\ttotal: 1.16s\tremaining: 975ms\n",
      "544:\tlearn: 0.0275523\ttotal: 1.17s\tremaining: 973ms\n",
      "545:\tlearn: 0.0275116\ttotal: 1.17s\tremaining: 971ms\n",
      "546:\tlearn: 0.0275110\ttotal: 1.17s\tremaining: 969ms\n",
      "547:\tlearn: 0.0274838\ttotal: 1.17s\tremaining: 967ms\n",
      "548:\tlearn: 0.0274730\ttotal: 1.17s\tremaining: 964ms\n",
      "549:\tlearn: 0.0274373\ttotal: 1.18s\tremaining: 962ms\n",
      "550:\tlearn: 0.0274372\ttotal: 1.18s\tremaining: 960ms\n",
      "551:\tlearn: 0.0274062\ttotal: 1.18s\tremaining: 958ms\n",
      "552:\tlearn: 0.0273534\ttotal: 1.18s\tremaining: 956ms\n",
      "553:\tlearn: 0.0273206\ttotal: 1.18s\tremaining: 954ms\n",
      "554:\tlearn: 0.0273206\ttotal: 1.19s\tremaining: 951ms\n",
      "555:\tlearn: 0.0272855\ttotal: 1.19s\tremaining: 949ms\n",
      "556:\tlearn: 0.0272855\ttotal: 1.19s\tremaining: 947ms\n",
      "557:\tlearn: 0.0272748\ttotal: 1.19s\tremaining: 945ms\n",
      "558:\tlearn: 0.0272470\ttotal: 1.2s\tremaining: 943ms\n",
      "559:\tlearn: 0.0272083\ttotal: 1.2s\tremaining: 940ms\n",
      "560:\tlearn: 0.0271917\ttotal: 1.2s\tremaining: 938ms\n",
      "561:\tlearn: 0.0271917\ttotal: 1.2s\tremaining: 935ms\n",
      "562:\tlearn: 0.0271917\ttotal: 1.2s\tremaining: 933ms\n",
      "563:\tlearn: 0.0271917\ttotal: 1.2s\tremaining: 931ms\n",
      "564:\tlearn: 0.0271842\ttotal: 1.21s\tremaining: 929ms\n",
      "565:\tlearn: 0.0271671\ttotal: 1.21s\tremaining: 927ms\n",
      "566:\tlearn: 0.0271555\ttotal: 1.21s\tremaining: 924ms\n",
      "567:\tlearn: 0.0271357\ttotal: 1.21s\tremaining: 922ms\n",
      "568:\tlearn: 0.0271357\ttotal: 1.21s\tremaining: 920ms\n",
      "569:\tlearn: 0.0271357\ttotal: 1.22s\tremaining: 917ms\n",
      "570:\tlearn: 0.0271353\ttotal: 1.22s\tremaining: 915ms\n",
      "571:\tlearn: 0.0271235\ttotal: 1.22s\tremaining: 913ms\n",
      "572:\tlearn: 0.0270982\ttotal: 1.22s\tremaining: 911ms\n",
      "573:\tlearn: 0.0270760\ttotal: 1.22s\tremaining: 909ms\n",
      "574:\tlearn: 0.0270563\ttotal: 1.23s\tremaining: 906ms\n",
      "575:\tlearn: 0.0270136\ttotal: 1.23s\tremaining: 904ms\n",
      "576:\tlearn: 0.0270136\ttotal: 1.23s\tremaining: 902ms\n",
      "577:\tlearn: 0.0269878\ttotal: 1.23s\tremaining: 900ms\n",
      "578:\tlearn: 0.0269877\ttotal: 1.23s\tremaining: 897ms\n",
      "579:\tlearn: 0.0269693\ttotal: 1.24s\tremaining: 895ms\n",
      "580:\tlearn: 0.0269692\ttotal: 1.24s\tremaining: 893ms\n",
      "581:\tlearn: 0.0269692\ttotal: 1.24s\tremaining: 890ms\n",
      "582:\tlearn: 0.0269530\ttotal: 1.24s\tremaining: 888ms\n",
      "583:\tlearn: 0.0269254\ttotal: 1.24s\tremaining: 886ms\n",
      "584:\tlearn: 0.0269048\ttotal: 1.25s\tremaining: 884ms\n",
      "585:\tlearn: 0.0268663\ttotal: 1.25s\tremaining: 882ms\n",
      "586:\tlearn: 0.0268445\ttotal: 1.25s\tremaining: 879ms\n",
      "587:\tlearn: 0.0268312\ttotal: 1.25s\tremaining: 877ms\n",
      "588:\tlearn: 0.0267913\ttotal: 1.25s\tremaining: 875ms\n",
      "589:\tlearn: 0.0267749\ttotal: 1.26s\tremaining: 873ms\n",
      "590:\tlearn: 0.0267534\ttotal: 1.26s\tremaining: 871ms\n",
      "591:\tlearn: 0.0267123\ttotal: 1.26s\tremaining: 869ms\n",
      "592:\tlearn: 0.0266789\ttotal: 1.26s\tremaining: 867ms\n",
      "593:\tlearn: 0.0266143\ttotal: 1.26s\tremaining: 864ms\n",
      "594:\tlearn: 0.0266028\ttotal: 1.27s\tremaining: 862ms\n",
      "595:\tlearn: 0.0265914\ttotal: 1.27s\tremaining: 861ms\n",
      "596:\tlearn: 0.0265822\ttotal: 1.27s\tremaining: 858ms\n",
      "597:\tlearn: 0.0265820\ttotal: 1.27s\tremaining: 856ms\n",
      "598:\tlearn: 0.0265718\ttotal: 1.27s\tremaining: 854ms\n",
      "599:\tlearn: 0.0265678\ttotal: 1.28s\tremaining: 851ms\n",
      "600:\tlearn: 0.0265548\ttotal: 1.28s\tremaining: 850ms\n",
      "601:\tlearn: 0.0265547\ttotal: 1.28s\tremaining: 847ms\n",
      "602:\tlearn: 0.0265386\ttotal: 1.28s\tremaining: 845ms\n",
      "603:\tlearn: 0.0265146\ttotal: 1.28s\tremaining: 843ms\n",
      "604:\tlearn: 0.0264929\ttotal: 1.29s\tremaining: 841ms\n",
      "605:\tlearn: 0.0264716\ttotal: 1.29s\tremaining: 838ms\n",
      "606:\tlearn: 0.0264715\ttotal: 1.29s\tremaining: 836ms\n",
      "607:\tlearn: 0.0264555\ttotal: 1.29s\tremaining: 834ms\n",
      "608:\tlearn: 0.0264403\ttotal: 1.29s\tremaining: 832ms\n",
      "609:\tlearn: 0.0264234\ttotal: 1.3s\tremaining: 830ms\n",
      "610:\tlearn: 0.0264234\ttotal: 1.3s\tremaining: 827ms\n",
      "611:\tlearn: 0.0264233\ttotal: 1.3s\tremaining: 825ms\n",
      "612:\tlearn: 0.0264233\ttotal: 1.3s\tremaining: 822ms\n",
      "613:\tlearn: 0.0264210\ttotal: 1.3s\tremaining: 820ms\n",
      "614:\tlearn: 0.0264003\ttotal: 1.31s\tremaining: 818ms\n",
      "615:\tlearn: 0.0264003\ttotal: 1.31s\tremaining: 816ms\n",
      "616:\tlearn: 0.0263794\ttotal: 1.31s\tremaining: 813ms\n",
      "617:\tlearn: 0.0263627\ttotal: 1.31s\tremaining: 811ms\n",
      "618:\tlearn: 0.0263594\ttotal: 1.31s\tremaining: 809ms\n",
      "619:\tlearn: 0.0263505\ttotal: 1.32s\tremaining: 807ms\n",
      "620:\tlearn: 0.0263275\ttotal: 1.32s\tremaining: 805ms\n",
      "621:\tlearn: 0.0263104\ttotal: 1.32s\tremaining: 802ms\n",
      "622:\tlearn: 0.0262977\ttotal: 1.32s\tremaining: 800ms\n",
      "623:\tlearn: 0.0262934\ttotal: 1.32s\tremaining: 798ms\n",
      "624:\tlearn: 0.0262811\ttotal: 1.33s\tremaining: 796ms\n",
      "625:\tlearn: 0.0262811\ttotal: 1.33s\tremaining: 793ms\n",
      "626:\tlearn: 0.0262506\ttotal: 1.33s\tremaining: 791ms\n",
      "627:\tlearn: 0.0262506\ttotal: 1.33s\tremaining: 789ms\n",
      "628:\tlearn: 0.0262506\ttotal: 1.33s\tremaining: 787ms\n",
      "629:\tlearn: 0.0262405\ttotal: 1.33s\tremaining: 784ms\n",
      "630:\tlearn: 0.0262211\ttotal: 1.34s\tremaining: 782ms\n",
      "631:\tlearn: 0.0262032\ttotal: 1.34s\tremaining: 780ms\n",
      "632:\tlearn: 0.0262032\ttotal: 1.34s\tremaining: 778ms\n",
      "633:\tlearn: 0.0261838\ttotal: 1.34s\tremaining: 776ms\n",
      "634:\tlearn: 0.0261838\ttotal: 1.34s\tremaining: 774ms\n",
      "635:\tlearn: 0.0261447\ttotal: 1.35s\tremaining: 771ms\n",
      "636:\tlearn: 0.0261279\ttotal: 1.35s\tremaining: 769ms\n",
      "637:\tlearn: 0.0260659\ttotal: 1.35s\tremaining: 767ms\n",
      "638:\tlearn: 0.0260311\ttotal: 1.35s\tremaining: 765ms\n",
      "639:\tlearn: 0.0259942\ttotal: 1.35s\tremaining: 763ms\n",
      "640:\tlearn: 0.0259507\ttotal: 1.36s\tremaining: 761ms\n",
      "641:\tlearn: 0.0259503\ttotal: 1.36s\tremaining: 758ms\n",
      "642:\tlearn: 0.0259394\ttotal: 1.36s\tremaining: 756ms\n",
      "643:\tlearn: 0.0259394\ttotal: 1.36s\tremaining: 754ms\n",
      "644:\tlearn: 0.0259230\ttotal: 1.37s\tremaining: 752ms\n",
      "645:\tlearn: 0.0259226\ttotal: 1.37s\tremaining: 750ms\n",
      "646:\tlearn: 0.0259086\ttotal: 1.37s\tremaining: 748ms\n",
      "647:\tlearn: 0.0258893\ttotal: 1.37s\tremaining: 746ms\n",
      "648:\tlearn: 0.0258745\ttotal: 1.37s\tremaining: 743ms\n",
      "649:\tlearn: 0.0258624\ttotal: 1.38s\tremaining: 741ms\n",
      "650:\tlearn: 0.0258277\ttotal: 1.38s\tremaining: 739ms\n",
      "651:\tlearn: 0.0257918\ttotal: 1.38s\tremaining: 737ms\n",
      "652:\tlearn: 0.0257918\ttotal: 1.38s\tremaining: 735ms\n",
      "653:\tlearn: 0.0257535\ttotal: 1.38s\tremaining: 733ms\n",
      "654:\tlearn: 0.0257100\ttotal: 1.39s\tremaining: 730ms\n",
      "655:\tlearn: 0.0257100\ttotal: 1.39s\tremaining: 728ms\n",
      "656:\tlearn: 0.0257020\ttotal: 1.39s\tremaining: 726ms\n",
      "657:\tlearn: 0.0256859\ttotal: 1.39s\tremaining: 724ms\n",
      "658:\tlearn: 0.0256858\ttotal: 1.39s\tremaining: 722ms\n",
      "659:\tlearn: 0.0256554\ttotal: 1.4s\tremaining: 720ms\n",
      "660:\tlearn: 0.0256554\ttotal: 1.4s\tremaining: 717ms\n",
      "661:\tlearn: 0.0256554\ttotal: 1.4s\tremaining: 715ms\n",
      "662:\tlearn: 0.0256554\ttotal: 1.4s\tremaining: 712ms\n",
      "663:\tlearn: 0.0256554\ttotal: 1.4s\tremaining: 710ms\n",
      "664:\tlearn: 0.0256554\ttotal: 1.41s\tremaining: 708ms\n",
      "665:\tlearn: 0.0256410\ttotal: 1.41s\tremaining: 706ms\n",
      "666:\tlearn: 0.0256409\ttotal: 1.41s\tremaining: 704ms\n",
      "667:\tlearn: 0.0256409\ttotal: 1.41s\tremaining: 701ms\n",
      "668:\tlearn: 0.0256405\ttotal: 1.41s\tremaining: 699ms\n",
      "669:\tlearn: 0.0256402\ttotal: 1.41s\tremaining: 697ms\n",
      "670:\tlearn: 0.0256341\ttotal: 1.42s\tremaining: 694ms\n",
      "671:\tlearn: 0.0256340\ttotal: 1.42s\tremaining: 692ms\n",
      "672:\tlearn: 0.0256340\ttotal: 1.42s\tremaining: 690ms\n",
      "673:\tlearn: 0.0256340\ttotal: 1.42s\tremaining: 688ms\n",
      "674:\tlearn: 0.0256341\ttotal: 1.42s\tremaining: 685ms\n",
      "675:\tlearn: 0.0256340\ttotal: 1.42s\tremaining: 683ms\n",
      "676:\tlearn: 0.0256212\ttotal: 1.43s\tremaining: 681ms\n",
      "677:\tlearn: 0.0256175\ttotal: 1.43s\tremaining: 678ms\n",
      "678:\tlearn: 0.0256062\ttotal: 1.43s\tremaining: 676ms\n",
      "679:\tlearn: 0.0255903\ttotal: 1.43s\tremaining: 674ms\n",
      "680:\tlearn: 0.0255902\ttotal: 1.43s\tremaining: 672ms\n",
      "681:\tlearn: 0.0255652\ttotal: 1.44s\tremaining: 670ms\n",
      "682:\tlearn: 0.0255530\ttotal: 1.44s\tremaining: 668ms\n",
      "683:\tlearn: 0.0255364\ttotal: 1.44s\tremaining: 666ms\n",
      "684:\tlearn: 0.0255109\ttotal: 1.44s\tremaining: 663ms\n",
      "685:\tlearn: 0.0255052\ttotal: 1.44s\tremaining: 661ms\n",
      "686:\tlearn: 0.0254908\ttotal: 1.45s\tremaining: 659ms\n",
      "687:\tlearn: 0.0254868\ttotal: 1.45s\tremaining: 657ms\n",
      "688:\tlearn: 0.0254851\ttotal: 1.45s\tremaining: 655ms\n",
      "689:\tlearn: 0.0254850\ttotal: 1.45s\tremaining: 653ms\n",
      "690:\tlearn: 0.0254850\ttotal: 1.45s\tremaining: 650ms\n",
      "691:\tlearn: 0.0254850\ttotal: 1.46s\tremaining: 648ms\n",
      "692:\tlearn: 0.0254850\ttotal: 1.46s\tremaining: 646ms\n",
      "693:\tlearn: 0.0254849\ttotal: 1.46s\tremaining: 644ms\n",
      "694:\tlearn: 0.0254782\ttotal: 1.46s\tremaining: 641ms\n",
      "695:\tlearn: 0.0254732\ttotal: 1.46s\tremaining: 639ms\n",
      "696:\tlearn: 0.0254529\ttotal: 1.47s\tremaining: 637ms\n",
      "697:\tlearn: 0.0254256\ttotal: 1.47s\tremaining: 635ms\n",
      "698:\tlearn: 0.0253999\ttotal: 1.47s\tremaining: 633ms\n",
      "699:\tlearn: 0.0253999\ttotal: 1.47s\tremaining: 631ms\n",
      "700:\tlearn: 0.0253998\ttotal: 1.47s\tremaining: 629ms\n",
      "701:\tlearn: 0.0253997\ttotal: 1.48s\tremaining: 626ms\n",
      "702:\tlearn: 0.0253997\ttotal: 1.48s\tremaining: 624ms\n",
      "703:\tlearn: 0.0253733\ttotal: 1.48s\tremaining: 622ms\n",
      "704:\tlearn: 0.0253579\ttotal: 1.48s\tremaining: 620ms\n",
      "705:\tlearn: 0.0253419\ttotal: 1.48s\tremaining: 618ms\n",
      "706:\tlearn: 0.0253418\ttotal: 1.48s\tremaining: 615ms\n",
      "707:\tlearn: 0.0253418\ttotal: 1.49s\tremaining: 613ms\n",
      "708:\tlearn: 0.0253418\ttotal: 1.49s\tremaining: 611ms\n",
      "709:\tlearn: 0.0253417\ttotal: 1.49s\tremaining: 609ms\n",
      "710:\tlearn: 0.0253415\ttotal: 1.49s\tremaining: 606ms\n",
      "711:\tlearn: 0.0253415\ttotal: 1.49s\tremaining: 604ms\n",
      "712:\tlearn: 0.0253414\ttotal: 1.5s\tremaining: 602ms\n",
      "713:\tlearn: 0.0253414\ttotal: 1.5s\tremaining: 600ms\n",
      "714:\tlearn: 0.0253414\ttotal: 1.5s\tremaining: 597ms\n",
      "715:\tlearn: 0.0253414\ttotal: 1.5s\tremaining: 595ms\n",
      "716:\tlearn: 0.0253414\ttotal: 1.5s\tremaining: 593ms\n",
      "717:\tlearn: 0.0253413\ttotal: 1.5s\tremaining: 591ms\n",
      "718:\tlearn: 0.0253413\ttotal: 1.5s\tremaining: 588ms\n",
      "719:\tlearn: 0.0253413\ttotal: 1.51s\tremaining: 586ms\n",
      "720:\tlearn: 0.0253413\ttotal: 1.51s\tremaining: 584ms\n",
      "721:\tlearn: 0.0253299\ttotal: 1.51s\tremaining: 582ms\n",
      "722:\tlearn: 0.0253299\ttotal: 1.51s\tremaining: 580ms\n",
      "723:\tlearn: 0.0253213\ttotal: 1.51s\tremaining: 577ms\n",
      "724:\tlearn: 0.0253213\ttotal: 1.52s\tremaining: 575ms\n",
      "725:\tlearn: 0.0253213\ttotal: 1.52s\tremaining: 573ms\n",
      "726:\tlearn: 0.0253210\ttotal: 1.52s\tremaining: 571ms\n",
      "727:\tlearn: 0.0253209\ttotal: 1.52s\tremaining: 569ms\n",
      "728:\tlearn: 0.0253208\ttotal: 1.52s\tremaining: 567ms\n",
      "729:\tlearn: 0.0253076\ttotal: 1.53s\tremaining: 565ms\n",
      "730:\tlearn: 0.0253037\ttotal: 1.53s\tremaining: 562ms\n",
      "731:\tlearn: 0.0252795\ttotal: 1.53s\tremaining: 560ms\n",
      "732:\tlearn: 0.0252616\ttotal: 1.53s\tremaining: 558ms\n",
      "733:\tlearn: 0.0252356\ttotal: 1.53s\tremaining: 556ms\n",
      "734:\tlearn: 0.0252356\ttotal: 1.54s\tremaining: 554ms\n",
      "735:\tlearn: 0.0252186\ttotal: 1.54s\tremaining: 552ms\n",
      "736:\tlearn: 0.0252078\ttotal: 1.54s\tremaining: 550ms\n",
      "737:\tlearn: 0.0252077\ttotal: 1.54s\tremaining: 548ms\n",
      "738:\tlearn: 0.0252077\ttotal: 1.54s\tremaining: 545ms\n",
      "739:\tlearn: 0.0252074\ttotal: 1.54s\tremaining: 543ms\n",
      "740:\tlearn: 0.0252074\ttotal: 1.55s\tremaining: 541ms\n",
      "741:\tlearn: 0.0252074\ttotal: 1.55s\tremaining: 539ms\n",
      "742:\tlearn: 0.0252074\ttotal: 1.55s\tremaining: 537ms\n",
      "743:\tlearn: 0.0252074\ttotal: 1.55s\tremaining: 534ms\n",
      "744:\tlearn: 0.0252074\ttotal: 1.55s\tremaining: 532ms\n",
      "745:\tlearn: 0.0252074\ttotal: 1.56s\tremaining: 530ms\n",
      "746:\tlearn: 0.0252073\ttotal: 1.56s\tremaining: 528ms\n",
      "747:\tlearn: 0.0251936\ttotal: 1.56s\tremaining: 526ms\n",
      "748:\tlearn: 0.0251508\ttotal: 1.56s\tremaining: 524ms\n",
      "749:\tlearn: 0.0251037\ttotal: 1.56s\tremaining: 522ms\n",
      "750:\tlearn: 0.0250881\ttotal: 1.57s\tremaining: 520ms\n",
      "751:\tlearn: 0.0250509\ttotal: 1.57s\tremaining: 518ms\n",
      "752:\tlearn: 0.0250298\ttotal: 1.57s\tremaining: 516ms\n",
      "753:\tlearn: 0.0249813\ttotal: 1.57s\tremaining: 514ms\n",
      "754:\tlearn: 0.0249692\ttotal: 1.58s\tremaining: 512ms\n",
      "755:\tlearn: 0.0249570\ttotal: 1.58s\tremaining: 509ms\n",
      "756:\tlearn: 0.0249567\ttotal: 1.58s\tremaining: 507ms\n",
      "757:\tlearn: 0.0249567\ttotal: 1.58s\tremaining: 505ms\n",
      "758:\tlearn: 0.0249566\ttotal: 1.58s\tremaining: 503ms\n",
      "759:\tlearn: 0.0249566\ttotal: 1.58s\tremaining: 501ms\n",
      "760:\tlearn: 0.0249566\ttotal: 1.59s\tremaining: 498ms\n",
      "761:\tlearn: 0.0249565\ttotal: 1.59s\tremaining: 496ms\n",
      "762:\tlearn: 0.0249565\ttotal: 1.59s\tremaining: 494ms\n",
      "763:\tlearn: 0.0249565\ttotal: 1.59s\tremaining: 492ms\n",
      "764:\tlearn: 0.0249564\ttotal: 1.59s\tremaining: 490ms\n",
      "765:\tlearn: 0.0249564\ttotal: 1.59s\tremaining: 487ms\n",
      "766:\tlearn: 0.0249564\ttotal: 1.6s\tremaining: 485ms\n",
      "767:\tlearn: 0.0249562\ttotal: 1.6s\tremaining: 483ms\n",
      "768:\tlearn: 0.0249562\ttotal: 1.6s\tremaining: 481ms\n",
      "769:\tlearn: 0.0249562\ttotal: 1.6s\tremaining: 479ms\n",
      "770:\tlearn: 0.0249561\ttotal: 1.6s\tremaining: 477ms\n",
      "771:\tlearn: 0.0249375\ttotal: 1.61s\tremaining: 475ms\n",
      "772:\tlearn: 0.0249374\ttotal: 1.61s\tremaining: 472ms\n",
      "773:\tlearn: 0.0249374\ttotal: 1.61s\tremaining: 470ms\n",
      "774:\tlearn: 0.0249343\ttotal: 1.61s\tremaining: 468ms\n",
      "775:\tlearn: 0.0249343\ttotal: 1.61s\tremaining: 466ms\n",
      "776:\tlearn: 0.0249343\ttotal: 1.61s\tremaining: 464ms\n",
      "777:\tlearn: 0.0249343\ttotal: 1.62s\tremaining: 461ms\n",
      "778:\tlearn: 0.0249341\ttotal: 1.62s\tremaining: 459ms\n",
      "779:\tlearn: 0.0249233\ttotal: 1.62s\tremaining: 457ms\n",
      "780:\tlearn: 0.0249233\ttotal: 1.62s\tremaining: 455ms\n",
      "781:\tlearn: 0.0249232\ttotal: 1.62s\tremaining: 453ms\n",
      "782:\tlearn: 0.0249232\ttotal: 1.63s\tremaining: 451ms\n",
      "783:\tlearn: 0.0249231\ttotal: 1.63s\tremaining: 449ms\n",
      "784:\tlearn: 0.0249231\ttotal: 1.63s\tremaining: 446ms\n",
      "785:\tlearn: 0.0249232\ttotal: 1.63s\tremaining: 444ms\n",
      "786:\tlearn: 0.0249231\ttotal: 1.63s\tremaining: 442ms\n",
      "787:\tlearn: 0.0249231\ttotal: 1.64s\tremaining: 440ms\n",
      "788:\tlearn: 0.0249230\ttotal: 1.64s\tremaining: 438ms\n",
      "789:\tlearn: 0.0249230\ttotal: 1.64s\tremaining: 436ms\n",
      "790:\tlearn: 0.0249230\ttotal: 1.64s\tremaining: 433ms\n",
      "791:\tlearn: 0.0249230\ttotal: 1.64s\tremaining: 431ms\n",
      "792:\tlearn: 0.0249107\ttotal: 1.64s\tremaining: 429ms\n",
      "793:\tlearn: 0.0249107\ttotal: 1.65s\tremaining: 427ms\n",
      "794:\tlearn: 0.0249106\ttotal: 1.65s\tremaining: 425ms\n",
      "795:\tlearn: 0.0249105\ttotal: 1.65s\tremaining: 423ms\n",
      "796:\tlearn: 0.0249105\ttotal: 1.65s\tremaining: 421ms\n",
      "797:\tlearn: 0.0249106\ttotal: 1.65s\tremaining: 419ms\n",
      "798:\tlearn: 0.0249105\ttotal: 1.66s\tremaining: 417ms\n",
      "799:\tlearn: 0.0249105\ttotal: 1.66s\tremaining: 414ms\n",
      "800:\tlearn: 0.0249105\ttotal: 1.66s\tremaining: 412ms\n",
      "801:\tlearn: 0.0249105\ttotal: 1.66s\tremaining: 410ms\n",
      "802:\tlearn: 0.0249105\ttotal: 1.66s\tremaining: 408ms\n",
      "803:\tlearn: 0.0249105\ttotal: 1.66s\tremaining: 406ms\n",
      "804:\tlearn: 0.0249079\ttotal: 1.67s\tremaining: 404ms\n",
      "805:\tlearn: 0.0249079\ttotal: 1.67s\tremaining: 401ms\n",
      "806:\tlearn: 0.0248925\ttotal: 1.67s\tremaining: 399ms\n",
      "807:\tlearn: 0.0248925\ttotal: 1.67s\tremaining: 397ms\n",
      "808:\tlearn: 0.0248925\ttotal: 1.67s\tremaining: 395ms\n",
      "809:\tlearn: 0.0248925\ttotal: 1.68s\tremaining: 393ms\n",
      "810:\tlearn: 0.0248812\ttotal: 1.68s\tremaining: 391ms\n",
      "811:\tlearn: 0.0248663\ttotal: 1.68s\tremaining: 389ms\n",
      "812:\tlearn: 0.0248662\ttotal: 1.68s\tremaining: 387ms\n",
      "813:\tlearn: 0.0248660\ttotal: 1.68s\tremaining: 385ms\n",
      "814:\tlearn: 0.0248660\ttotal: 1.68s\tremaining: 382ms\n",
      "815:\tlearn: 0.0248660\ttotal: 1.69s\tremaining: 380ms\n",
      "816:\tlearn: 0.0248659\ttotal: 1.69s\tremaining: 378ms\n",
      "817:\tlearn: 0.0248660\ttotal: 1.69s\tremaining: 376ms\n",
      "818:\tlearn: 0.0248659\ttotal: 1.69s\tremaining: 374ms\n",
      "819:\tlearn: 0.0248659\ttotal: 1.69s\tremaining: 372ms\n",
      "820:\tlearn: 0.0248625\ttotal: 1.7s\tremaining: 370ms\n",
      "821:\tlearn: 0.0248625\ttotal: 1.7s\tremaining: 368ms\n",
      "822:\tlearn: 0.0248625\ttotal: 1.7s\tremaining: 366ms\n",
      "823:\tlearn: 0.0248625\ttotal: 1.7s\tremaining: 363ms\n",
      "824:\tlearn: 0.0248624\ttotal: 1.7s\tremaining: 361ms\n",
      "825:\tlearn: 0.0248624\ttotal: 1.7s\tremaining: 359ms\n",
      "826:\tlearn: 0.0248624\ttotal: 1.71s\tremaining: 357ms\n",
      "827:\tlearn: 0.0248540\ttotal: 1.71s\tremaining: 355ms\n",
      "828:\tlearn: 0.0248539\ttotal: 1.71s\tremaining: 353ms\n",
      "829:\tlearn: 0.0248539\ttotal: 1.71s\tremaining: 351ms\n",
      "830:\tlearn: 0.0248539\ttotal: 1.71s\tremaining: 349ms\n",
      "831:\tlearn: 0.0248539\ttotal: 1.72s\tremaining: 347ms\n",
      "832:\tlearn: 0.0248539\ttotal: 1.72s\tremaining: 344ms\n",
      "833:\tlearn: 0.0248539\ttotal: 1.72s\tremaining: 342ms\n",
      "834:\tlearn: 0.0248538\ttotal: 1.72s\tremaining: 340ms\n",
      "835:\tlearn: 0.0248538\ttotal: 1.72s\tremaining: 338ms\n",
      "836:\tlearn: 0.0248538\ttotal: 1.72s\tremaining: 336ms\n",
      "837:\tlearn: 0.0248538\ttotal: 1.73s\tremaining: 334ms\n",
      "838:\tlearn: 0.0248537\ttotal: 1.73s\tremaining: 332ms\n",
      "839:\tlearn: 0.0248537\ttotal: 1.73s\tremaining: 330ms\n",
      "840:\tlearn: 0.0248538\ttotal: 1.73s\tremaining: 327ms\n",
      "841:\tlearn: 0.0248537\ttotal: 1.73s\tremaining: 325ms\n",
      "842:\tlearn: 0.0248537\ttotal: 1.74s\tremaining: 323ms\n",
      "843:\tlearn: 0.0248536\ttotal: 1.74s\tremaining: 321ms\n",
      "844:\tlearn: 0.0248536\ttotal: 1.74s\tremaining: 319ms\n",
      "845:\tlearn: 0.0248536\ttotal: 1.74s\tremaining: 317ms\n",
      "846:\tlearn: 0.0248536\ttotal: 1.74s\tremaining: 315ms\n",
      "847:\tlearn: 0.0248536\ttotal: 1.75s\tremaining: 313ms\n",
      "848:\tlearn: 0.0248535\ttotal: 1.75s\tremaining: 311ms\n",
      "849:\tlearn: 0.0248535\ttotal: 1.75s\tremaining: 309ms\n",
      "850:\tlearn: 0.0248534\ttotal: 1.75s\tremaining: 307ms\n",
      "851:\tlearn: 0.0248534\ttotal: 1.75s\tremaining: 305ms\n",
      "852:\tlearn: 0.0248533\ttotal: 1.75s\tremaining: 302ms\n",
      "853:\tlearn: 0.0248534\ttotal: 1.76s\tremaining: 300ms\n",
      "854:\tlearn: 0.0248533\ttotal: 1.76s\tremaining: 298ms\n",
      "855:\tlearn: 0.0248532\ttotal: 1.76s\tremaining: 296ms\n",
      "856:\tlearn: 0.0248533\ttotal: 1.76s\tremaining: 294ms\n",
      "857:\tlearn: 0.0248532\ttotal: 1.76s\tremaining: 292ms\n",
      "858:\tlearn: 0.0248532\ttotal: 1.77s\tremaining: 290ms\n",
      "859:\tlearn: 0.0248532\ttotal: 1.77s\tremaining: 288ms\n",
      "860:\tlearn: 0.0248532\ttotal: 1.77s\tremaining: 286ms\n",
      "861:\tlearn: 0.0248332\ttotal: 1.77s\tremaining: 284ms\n",
      "862:\tlearn: 0.0248332\ttotal: 1.77s\tremaining: 281ms\n",
      "863:\tlearn: 0.0248203\ttotal: 1.77s\tremaining: 279ms\n",
      "864:\tlearn: 0.0248183\ttotal: 1.78s\tremaining: 277ms\n",
      "865:\tlearn: 0.0247978\ttotal: 1.78s\tremaining: 275ms\n",
      "866:\tlearn: 0.0247848\ttotal: 1.78s\tremaining: 273ms\n",
      "867:\tlearn: 0.0247847\ttotal: 1.78s\tremaining: 271ms\n",
      "868:\tlearn: 0.0247848\ttotal: 1.78s\tremaining: 269ms\n",
      "869:\tlearn: 0.0247847\ttotal: 1.79s\tremaining: 267ms\n",
      "870:\tlearn: 0.0247847\ttotal: 1.79s\tremaining: 265ms\n",
      "871:\tlearn: 0.0247846\ttotal: 1.79s\tremaining: 263ms\n",
      "872:\tlearn: 0.0247847\ttotal: 1.79s\tremaining: 261ms\n",
      "873:\tlearn: 0.0247846\ttotal: 1.79s\tremaining: 259ms\n",
      "874:\tlearn: 0.0247847\ttotal: 1.79s\tremaining: 256ms\n",
      "875:\tlearn: 0.0247846\ttotal: 1.8s\tremaining: 254ms\n",
      "876:\tlearn: 0.0247846\ttotal: 1.8s\tremaining: 252ms\n",
      "877:\tlearn: 0.0247846\ttotal: 1.8s\tremaining: 250ms\n",
      "878:\tlearn: 0.0247845\ttotal: 1.8s\tremaining: 248ms\n",
      "879:\tlearn: 0.0247845\ttotal: 1.8s\tremaining: 246ms\n",
      "880:\tlearn: 0.0247845\ttotal: 1.8s\tremaining: 244ms\n",
      "881:\tlearn: 0.0247843\ttotal: 1.81s\tremaining: 242ms\n",
      "882:\tlearn: 0.0247843\ttotal: 1.81s\tremaining: 240ms\n",
      "883:\tlearn: 0.0247842\ttotal: 1.81s\tremaining: 238ms\n",
      "884:\tlearn: 0.0247843\ttotal: 1.81s\tremaining: 236ms\n",
      "885:\tlearn: 0.0247843\ttotal: 1.81s\tremaining: 234ms\n",
      "886:\tlearn: 0.0247843\ttotal: 1.82s\tremaining: 231ms\n",
      "887:\tlearn: 0.0247843\ttotal: 1.82s\tremaining: 229ms\n",
      "888:\tlearn: 0.0247840\ttotal: 1.82s\tremaining: 227ms\n",
      "889:\tlearn: 0.0247840\ttotal: 1.82s\tremaining: 225ms\n",
      "890:\tlearn: 0.0247840\ttotal: 1.82s\tremaining: 223ms\n",
      "891:\tlearn: 0.0247839\ttotal: 1.82s\tremaining: 221ms\n",
      "892:\tlearn: 0.0247840\ttotal: 1.83s\tremaining: 219ms\n",
      "893:\tlearn: 0.0247839\ttotal: 1.83s\tremaining: 217ms\n",
      "894:\tlearn: 0.0247839\ttotal: 1.83s\tremaining: 215ms\n",
      "895:\tlearn: 0.0247840\ttotal: 1.83s\tremaining: 213ms\n",
      "896:\tlearn: 0.0247838\ttotal: 1.83s\tremaining: 211ms\n",
      "897:\tlearn: 0.0247780\ttotal: 1.84s\tremaining: 209ms\n",
      "898:\tlearn: 0.0247603\ttotal: 1.84s\tremaining: 207ms\n",
      "899:\tlearn: 0.0247603\ttotal: 1.84s\tremaining: 204ms\n",
      "900:\tlearn: 0.0247310\ttotal: 1.84s\tremaining: 202ms\n",
      "901:\tlearn: 0.0247310\ttotal: 1.84s\tremaining: 200ms\n",
      "902:\tlearn: 0.0247310\ttotal: 1.84s\tremaining: 198ms\n",
      "903:\tlearn: 0.0247310\ttotal: 1.85s\tremaining: 196ms\n",
      "904:\tlearn: 0.0247310\ttotal: 1.85s\tremaining: 194ms\n",
      "905:\tlearn: 0.0247309\ttotal: 1.85s\tremaining: 192ms\n",
      "906:\tlearn: 0.0247309\ttotal: 1.85s\tremaining: 190ms\n",
      "907:\tlearn: 0.0247307\ttotal: 1.85s\tremaining: 188ms\n",
      "908:\tlearn: 0.0247305\ttotal: 1.86s\tremaining: 186ms\n",
      "909:\tlearn: 0.0247305\ttotal: 1.86s\tremaining: 184ms\n",
      "910:\tlearn: 0.0247305\ttotal: 1.86s\tremaining: 182ms\n",
      "911:\tlearn: 0.0247305\ttotal: 1.86s\tremaining: 180ms\n",
      "912:\tlearn: 0.0247305\ttotal: 1.86s\tremaining: 178ms\n",
      "913:\tlearn: 0.0247305\ttotal: 1.86s\tremaining: 176ms\n",
      "914:\tlearn: 0.0247117\ttotal: 1.87s\tremaining: 174ms\n",
      "915:\tlearn: 0.0247116\ttotal: 1.87s\tremaining: 171ms\n",
      "916:\tlearn: 0.0247117\ttotal: 1.87s\tremaining: 169ms\n",
      "917:\tlearn: 0.0247114\ttotal: 1.87s\tremaining: 167ms\n",
      "918:\tlearn: 0.0247113\ttotal: 1.87s\tremaining: 165ms\n",
      "919:\tlearn: 0.0247113\ttotal: 1.88s\tremaining: 163ms\n",
      "920:\tlearn: 0.0247113\ttotal: 1.88s\tremaining: 161ms\n",
      "921:\tlearn: 0.0247113\ttotal: 1.88s\tremaining: 159ms\n",
      "922:\tlearn: 0.0247113\ttotal: 1.88s\tremaining: 157ms\n",
      "923:\tlearn: 0.0247110\ttotal: 1.88s\tremaining: 155ms\n",
      "924:\tlearn: 0.0247109\ttotal: 1.89s\tremaining: 153ms\n",
      "925:\tlearn: 0.0247109\ttotal: 1.89s\tremaining: 151ms\n",
      "926:\tlearn: 0.0247109\ttotal: 1.89s\tremaining: 149ms\n",
      "927:\tlearn: 0.0247108\ttotal: 1.89s\tremaining: 147ms\n",
      "928:\tlearn: 0.0247107\ttotal: 1.89s\tremaining: 145ms\n",
      "929:\tlearn: 0.0247107\ttotal: 1.9s\tremaining: 143ms\n",
      "930:\tlearn: 0.0247106\ttotal: 1.9s\tremaining: 141ms\n",
      "931:\tlearn: 0.0247105\ttotal: 1.9s\tremaining: 139ms\n",
      "932:\tlearn: 0.0247105\ttotal: 1.9s\tremaining: 137ms\n",
      "933:\tlearn: 0.0247104\ttotal: 1.9s\tremaining: 134ms\n",
      "934:\tlearn: 0.0247104\ttotal: 1.91s\tremaining: 132ms\n",
      "935:\tlearn: 0.0247104\ttotal: 1.91s\tremaining: 130ms\n",
      "936:\tlearn: 0.0247105\ttotal: 1.91s\tremaining: 128ms\n",
      "937:\tlearn: 0.0247102\ttotal: 1.91s\tremaining: 126ms\n",
      "938:\tlearn: 0.0247102\ttotal: 1.91s\tremaining: 124ms\n",
      "939:\tlearn: 0.0247037\ttotal: 1.91s\tremaining: 122ms\n",
      "940:\tlearn: 0.0246897\ttotal: 1.92s\tremaining: 120ms\n",
      "941:\tlearn: 0.0246896\ttotal: 1.92s\tremaining: 118ms\n",
      "942:\tlearn: 0.0246896\ttotal: 1.92s\tremaining: 116ms\n",
      "943:\tlearn: 0.0246896\ttotal: 1.92s\tremaining: 114ms\n",
      "944:\tlearn: 0.0246896\ttotal: 1.92s\tremaining: 112ms\n",
      "945:\tlearn: 0.0246896\ttotal: 1.93s\tremaining: 110ms\n",
      "946:\tlearn: 0.0246896\ttotal: 1.93s\tremaining: 108ms\n",
      "947:\tlearn: 0.0246896\ttotal: 1.93s\tremaining: 106ms\n",
      "948:\tlearn: 0.0246896\ttotal: 1.93s\tremaining: 104ms\n",
      "949:\tlearn: 0.0246896\ttotal: 1.93s\tremaining: 102ms\n",
      "950:\tlearn: 0.0246896\ttotal: 1.94s\tremaining: 99.7ms\n",
      "951:\tlearn: 0.0246895\ttotal: 1.94s\tremaining: 97.7ms\n",
      "952:\tlearn: 0.0246895\ttotal: 1.94s\tremaining: 95.6ms\n",
      "953:\tlearn: 0.0246894\ttotal: 1.94s\tremaining: 93.6ms\n",
      "954:\tlearn: 0.0246894\ttotal: 1.95s\tremaining: 92.1ms\n",
      "955:\tlearn: 0.0246894\ttotal: 1.96s\tremaining: 90.1ms\n",
      "956:\tlearn: 0.0246893\ttotal: 1.96s\tremaining: 88.1ms\n",
      "957:\tlearn: 0.0246893\ttotal: 1.96s\tremaining: 86.1ms\n",
      "958:\tlearn: 0.0246893\ttotal: 1.96s\tremaining: 84ms\n",
      "959:\tlearn: 0.0246893\ttotal: 1.97s\tremaining: 82ms\n",
      "960:\tlearn: 0.0246892\ttotal: 1.97s\tremaining: 79.9ms\n",
      "961:\tlearn: 0.0246892\ttotal: 1.97s\tremaining: 77.8ms\n",
      "962:\tlearn: 0.0246892\ttotal: 1.97s\tremaining: 75.8ms\n",
      "963:\tlearn: 0.0246891\ttotal: 1.97s\tremaining: 73.7ms\n",
      "964:\tlearn: 0.0246891\ttotal: 1.98s\tremaining: 71.7ms\n",
      "965:\tlearn: 0.0246891\ttotal: 1.98s\tremaining: 69.6ms\n",
      "966:\tlearn: 0.0246891\ttotal: 1.98s\tremaining: 67.6ms\n",
      "967:\tlearn: 0.0246890\ttotal: 1.98s\tremaining: 65.5ms\n",
      "968:\tlearn: 0.0246890\ttotal: 1.98s\tremaining: 63.4ms\n",
      "969:\tlearn: 0.0246891\ttotal: 1.98s\tremaining: 61.4ms\n",
      "970:\tlearn: 0.0246890\ttotal: 1.99s\tremaining: 59.3ms\n",
      "971:\tlearn: 0.0246890\ttotal: 1.99s\tremaining: 57.3ms\n",
      "972:\tlearn: 0.0246632\ttotal: 1.99s\tremaining: 55.2ms\n",
      "973:\tlearn: 0.0246367\ttotal: 1.99s\tremaining: 53.2ms\n",
      "974:\tlearn: 0.0246246\ttotal: 1.99s\tremaining: 51.1ms\n",
      "975:\tlearn: 0.0246131\ttotal: 2s\tremaining: 49.1ms\n",
      "976:\tlearn: 0.0246131\ttotal: 2s\tremaining: 47ms\n",
      "977:\tlearn: 0.0246130\ttotal: 2s\tremaining: 45ms\n",
      "978:\tlearn: 0.0246129\ttotal: 2s\tremaining: 42.9ms\n",
      "979:\tlearn: 0.0246129\ttotal: 2s\tremaining: 40.9ms\n",
      "980:\tlearn: 0.0246128\ttotal: 2s\tremaining: 38.8ms\n",
      "981:\tlearn: 0.0246128\ttotal: 2.01s\tremaining: 36.8ms\n",
      "982:\tlearn: 0.0246128\ttotal: 2.01s\tremaining: 34.7ms\n",
      "983:\tlearn: 0.0246128\ttotal: 2.01s\tremaining: 32.7ms\n",
      "984:\tlearn: 0.0246128\ttotal: 2.01s\tremaining: 30.6ms\n",
      "985:\tlearn: 0.0246126\ttotal: 2.01s\tremaining: 28.6ms\n",
      "986:\tlearn: 0.0246126\ttotal: 2.02s\tremaining: 26.6ms\n",
      "987:\tlearn: 0.0246126\ttotal: 2.02s\tremaining: 24.5ms\n",
      "988:\tlearn: 0.0246126\ttotal: 2.02s\tremaining: 22.5ms\n",
      "989:\tlearn: 0.0246125\ttotal: 2.02s\tremaining: 20.4ms\n",
      "990:\tlearn: 0.0246125\ttotal: 2.02s\tremaining: 18.4ms\n",
      "991:\tlearn: 0.0246125\ttotal: 2.02s\tremaining: 16.3ms\n",
      "992:\tlearn: 0.0246125\ttotal: 2.03s\tremaining: 14.3ms\n",
      "993:\tlearn: 0.0246124\ttotal: 2.03s\tremaining: 12.2ms\n",
      "994:\tlearn: 0.0245995\ttotal: 2.03s\tremaining: 10.2ms\n",
      "995:\tlearn: 0.0245994\ttotal: 2.03s\tremaining: 8.16ms\n",
      "996:\tlearn: 0.0245995\ttotal: 2.03s\tremaining: 6.12ms\n",
      "997:\tlearn: 0.0245995\ttotal: 2.04s\tremaining: 4.08ms\n",
      "998:\tlearn: 0.0245994\ttotal: 2.04s\tremaining: 2.04ms\n",
      "999:\tlearn: 0.0245994\ttotal: 2.04s\tremaining: 0us\n"
     ]
    },
    {
     "data": {
      "text/plain": [
       "<catboost.core.CatBoostClassifier at 0x7f7723509410>"
      ]
     },
     "execution_count": 104,
     "metadata": {},
     "output_type": "execute_result"
    }
   ],
   "source": [
    "#  catboost Classifier Model\n",
    "from catboost import CatBoostClassifier\n",
    "\n",
    "# instantiate the model\n",
    "cat = CatBoostClassifier(learning_rate  = 0.1)\n",
    "\n",
    "# fit the model \n",
    "cat.fit(X_train,y_train)"
   ]
  },
  {
   "cell_type": "code",
   "execution_count": 48,
   "id": "2353cb47",
   "metadata": {},
   "outputs": [],
   "source": [
    "#predicting the target value from the model for the samples\n",
    "y_train_cat = cat.predict(X_train)\n",
    "y_test_cat = cat.predict(X_test)\n"
   ]
  },
  {
   "cell_type": "code",
   "execution_count": 102,
   "id": "d6cc2cf5",
   "metadata": {},
   "outputs": [
    {
     "data": {
      "text/plain": [
       "'CatBoost Classifier : Accuracy on training Data: 0.991'"
      ]
     },
     "metadata": {},
     "output_type": "display_data"
    },
    {
     "data": {
      "text/plain": [
       "'CatBoost Classifier : Accuracy on test Data: 0.972'"
      ]
     },
     "metadata": {},
     "output_type": "display_data"
    },
    {
     "name": "stdout",
     "output_type": "stream",
     "text": [
      "\n"
     ]
    },
    {
     "data": {
      "text/plain": [
       "'CatBoost Classifier : f1_score on training Data: 0.992'"
      ]
     },
     "metadata": {},
     "output_type": "display_data"
    },
    {
     "data": {
      "text/plain": [
       "'CatBoost Classifier : f1_score on test Data: 0.975'"
      ]
     },
     "metadata": {},
     "output_type": "display_data"
    },
    {
     "name": "stdout",
     "output_type": "stream",
     "text": [
      "\n"
     ]
    },
    {
     "data": {
      "text/plain": [
       "'CatBoost Classifier : Recall on training Data: 0.994'"
      ]
     },
     "metadata": {},
     "output_type": "display_data"
    },
    {
     "data": {
      "text/plain": [
       "'CatBoost Classifier : Recall on test Data: 0.982'"
      ]
     },
     "metadata": {},
     "output_type": "display_data"
    },
    {
     "name": "stdout",
     "output_type": "stream",
     "text": [
      "\n"
     ]
    },
    {
     "data": {
      "text/plain": [
       "'CatBoost Classifier : precision on training Data: 0.989'"
      ]
     },
     "metadata": {},
     "output_type": "display_data"
    },
    {
     "data": {
      "text/plain": [
       "'CatBoost Classifier : precision on test Data: 0.969'"
      ]
     },
     "metadata": {},
     "output_type": "display_data"
    }
   ],
   "source": [
    "#computing the accuracy, f1_score, Recall, precision of the model performance\n",
    "\n",
    "\n",
    "\n",
    "\n",
    "acc_train_cat = metrics.accuracy_score(y_train, y_train_cat)\n",
    "acc_test_cat = metrics.accuracy_score(y_test, y_test_cat)\n",
    "display(\"CatBoost Classifier : Accuracy on training Data: {:.3f}\".format(acc_train_cat))\n",
    "display(\"CatBoost Classifier : Accuracy on test Data: {:.3f}\".format(acc_test_cat))\n",
    "print()\n",
    "\n",
    "f1_score_train_cat = metrics.f1_score(y_train, y_train_cat)\n",
    "f1_score_test_cat = metrics.f1_score(y_test, y_test_cat)\n",
    "display(\"CatBoost Classifier : f1_score on training Data: {:.3f}\".format(f1_score_train_cat))\n",
    "display(\"CatBoost Classifier : f1_score on test Data: {:.3f}\".format(f1_score_test_cat))\n",
    "print()\n",
    "\n",
    "recall_score_train_cat = metrics.recall_score(y_train, y_train_cat)\n",
    "recall_score_test_cat = metrics.recall_score(y_test, y_test_cat)\n",
    "display(\"CatBoost Classifier : Recall on training Data: {:.3f}\".format(recall_score_train_cat))\n",
    "display(\"CatBoost Classifier : Recall on test Data: {:.3f}\".format(recall_score_test_cat))\n",
    "print()\n",
    "\n",
    "precision_score_train_cat = metrics.precision_score(y_train, y_train_cat)\n",
    "precision_score_test_cat = metrics.precision_score(y_test, y_test_cat)\n",
    "display(\"CatBoost Classifier : precision on training Data: {:.3f}\".format(precision_score_train_cat))\n",
    "display(\"CatBoost Classifier : precision on test Data: {:.3f}\".format(precision_score_test_cat))"
   ]
  },
  {
   "cell_type": "code",
   "execution_count": 99,
   "id": "b88154b6",
   "metadata": {},
   "outputs": [
    {
     "name": "stdout",
     "output_type": "stream",
     "text": [
      "              precision    recall  f1-score   support\n",
      "\n",
      "          -1       0.98      0.96      0.97       976\n",
      "           1       0.97      0.98      0.98      1235\n",
      "\n",
      "    accuracy                           0.97      2211\n",
      "   macro avg       0.97      0.97      0.97      2211\n",
      "weighted avg       0.97      0.97      0.97      2211\n",
      "\n"
     ]
    }
   ],
   "source": [
    "#computing the classification report of the model\n",
    "\n",
    "print(metrics.classification_report(y_test, y_test_cat))"
   ]
  },
  {
   "cell_type": "code",
   "execution_count": 51,
   "id": "e56e3618",
   "metadata": {},
   "outputs": [
    {
     "name": "stdout",
     "output_type": "stream",
     "text": [
      "0:\tlearn: 0.5487232\ttotal: 1.78ms\tremaining: 1.78s\n",
      "1:\tlearn: 0.4349357\ttotal: 4.07ms\tremaining: 2.03s\n",
      "2:\tlearn: 0.3609236\ttotal: 6.26ms\tremaining: 2.08s\n",
      "3:\tlearn: 0.3050829\ttotal: 8.59ms\tremaining: 2.14s\n",
      "4:\tlearn: 0.2766620\ttotal: 11.6ms\tremaining: 2.3s\n",
      "5:\tlearn: 0.2475476\ttotal: 13.8ms\tremaining: 2.29s\n",
      "6:\tlearn: 0.2286637\ttotal: 17ms\tremaining: 2.41s\n",
      "7:\tlearn: 0.2138754\ttotal: 20.2ms\tremaining: 2.51s\n",
      "8:\tlearn: 0.2013643\ttotal: 23.5ms\tremaining: 2.59s\n",
      "9:\tlearn: 0.1896378\ttotal: 26ms\tremaining: 2.58s\n",
      "10:\tlearn: 0.1819539\ttotal: 28.3ms\tremaining: 2.54s\n",
      "11:\tlearn: 0.1767867\ttotal: 30.4ms\tremaining: 2.5s\n",
      "12:\tlearn: 0.1727735\ttotal: 33.1ms\tremaining: 2.51s\n",
      "13:\tlearn: 0.1682578\ttotal: 36.7ms\tremaining: 2.58s\n",
      "14:\tlearn: 0.1641759\ttotal: 39.2ms\tremaining: 2.57s\n",
      "15:\tlearn: 0.1614218\ttotal: 43.2ms\tremaining: 2.66s\n",
      "16:\tlearn: 0.1558968\ttotal: 47.5ms\tremaining: 2.74s\n",
      "17:\tlearn: 0.1535881\ttotal: 50.4ms\tremaining: 2.75s\n",
      "18:\tlearn: 0.1514228\ttotal: 52.9ms\tremaining: 2.73s\n",
      "19:\tlearn: 0.1482580\ttotal: 55.2ms\tremaining: 2.7s\n",
      "20:\tlearn: 0.1452536\ttotal: 57.8ms\tremaining: 2.69s\n",
      "21:\tlearn: 0.1426992\ttotal: 60.7ms\tremaining: 2.7s\n",
      "22:\tlearn: 0.1405068\ttotal: 63.4ms\tremaining: 2.69s\n",
      "23:\tlearn: 0.1381617\ttotal: 66.3ms\tremaining: 2.69s\n",
      "24:\tlearn: 0.1363558\ttotal: 68.5ms\tremaining: 2.67s\n",
      "25:\tlearn: 0.1341378\ttotal: 70.9ms\tremaining: 2.65s\n",
      "26:\tlearn: 0.1323241\ttotal: 74ms\tremaining: 2.67s\n",
      "27:\tlearn: 0.1305175\ttotal: 77ms\tremaining: 2.67s\n",
      "28:\tlearn: 0.1289123\ttotal: 79.1ms\tremaining: 2.65s\n",
      "29:\tlearn: 0.1278445\ttotal: 81.2ms\tremaining: 2.63s\n",
      "30:\tlearn: 0.1256489\ttotal: 83.6ms\tremaining: 2.61s\n",
      "31:\tlearn: 0.1239303\ttotal: 86.7ms\tremaining: 2.62s\n",
      "32:\tlearn: 0.1216332\ttotal: 90.1ms\tremaining: 2.64s\n",
      "33:\tlearn: 0.1207898\ttotal: 92.4ms\tremaining: 2.62s\n",
      "34:\tlearn: 0.1197948\ttotal: 94.3ms\tremaining: 2.6s\n",
      "35:\tlearn: 0.1187666\ttotal: 96.6ms\tremaining: 2.59s\n",
      "36:\tlearn: 0.1175524\ttotal: 99.3ms\tremaining: 2.58s\n",
      "37:\tlearn: 0.1164566\ttotal: 101ms\tremaining: 2.57s\n",
      "38:\tlearn: 0.1156115\ttotal: 104ms\tremaining: 2.55s\n",
      "39:\tlearn: 0.1143547\ttotal: 106ms\tremaining: 2.54s\n",
      "40:\tlearn: 0.1131558\ttotal: 109ms\tremaining: 2.54s\n",
      "41:\tlearn: 0.1122965\ttotal: 113ms\tremaining: 2.57s\n",
      "42:\tlearn: 0.1113744\ttotal: 115ms\tremaining: 2.56s\n",
      "43:\tlearn: 0.1103635\ttotal: 117ms\tremaining: 2.55s\n",
      "44:\tlearn: 0.1093154\ttotal: 120ms\tremaining: 2.54s\n",
      "45:\tlearn: 0.1085949\ttotal: 124ms\tremaining: 2.57s\n",
      "46:\tlearn: 0.1078806\ttotal: 127ms\tremaining: 2.57s\n",
      "47:\tlearn: 0.1071933\ttotal: 129ms\tremaining: 2.55s\n",
      "48:\tlearn: 0.1061508\ttotal: 131ms\tremaining: 2.54s\n",
      "49:\tlearn: 0.1051555\ttotal: 136ms\tremaining: 2.58s\n",
      "50:\tlearn: 0.1044416\ttotal: 139ms\tremaining: 2.58s\n",
      "51:\tlearn: 0.1035176\ttotal: 141ms\tremaining: 2.57s\n",
      "52:\tlearn: 0.1021724\ttotal: 144ms\tremaining: 2.58s\n",
      "53:\tlearn: 0.1012434\ttotal: 148ms\tremaining: 2.59s\n",
      "54:\tlearn: 0.1005327\ttotal: 151ms\tremaining: 2.59s\n",
      "55:\tlearn: 0.0998745\ttotal: 153ms\tremaining: 2.58s\n",
      "56:\tlearn: 0.0986848\ttotal: 155ms\tremaining: 2.57s\n",
      "57:\tlearn: 0.0979806\ttotal: 157ms\tremaining: 2.56s\n",
      "58:\tlearn: 0.0974501\ttotal: 160ms\tremaining: 2.56s\n",
      "59:\tlearn: 0.0967877\ttotal: 163ms\tremaining: 2.56s\n",
      "60:\tlearn: 0.0956301\ttotal: 166ms\tremaining: 2.55s\n",
      "61:\tlearn: 0.0950716\ttotal: 169ms\tremaining: 2.55s\n",
      "62:\tlearn: 0.0943425\ttotal: 171ms\tremaining: 2.54s\n",
      "63:\tlearn: 0.0938689\ttotal: 174ms\tremaining: 2.55s\n",
      "64:\tlearn: 0.0936562\ttotal: 177ms\tremaining: 2.54s\n",
      "65:\tlearn: 0.0931162\ttotal: 179ms\tremaining: 2.53s\n",
      "66:\tlearn: 0.0925359\ttotal: 181ms\tremaining: 2.52s\n",
      "67:\tlearn: 0.0916716\ttotal: 184ms\tremaining: 2.52s\n",
      "68:\tlearn: 0.0906297\ttotal: 187ms\tremaining: 2.53s\n",
      "69:\tlearn: 0.0899342\ttotal: 191ms\tremaining: 2.53s\n",
      "70:\tlearn: 0.0892701\ttotal: 194ms\tremaining: 2.53s\n",
      "71:\tlearn: 0.0888753\ttotal: 196ms\tremaining: 2.52s\n",
      "72:\tlearn: 0.0881357\ttotal: 199ms\tremaining: 2.52s\n",
      "73:\tlearn: 0.0877790\ttotal: 201ms\tremaining: 2.52s\n",
      "74:\tlearn: 0.0874838\ttotal: 203ms\tremaining: 2.51s\n",
      "75:\tlearn: 0.0869608\ttotal: 205ms\tremaining: 2.5s\n",
      "76:\tlearn: 0.0865361\ttotal: 208ms\tremaining: 2.49s\n",
      "77:\tlearn: 0.0861421\ttotal: 211ms\tremaining: 2.49s\n",
      "78:\tlearn: 0.0857547\ttotal: 215ms\tremaining: 2.51s\n",
      "79:\tlearn: 0.0844840\ttotal: 218ms\tremaining: 2.5s\n",
      "80:\tlearn: 0.0840523\ttotal: 220ms\tremaining: 2.49s\n",
      "81:\tlearn: 0.0838115\ttotal: 222ms\tremaining: 2.49s\n",
      "82:\tlearn: 0.0835476\ttotal: 226ms\tremaining: 2.5s\n",
      "83:\tlearn: 0.0831790\ttotal: 228ms\tremaining: 2.49s\n",
      "84:\tlearn: 0.0826715\ttotal: 230ms\tremaining: 2.48s\n",
      "85:\tlearn: 0.0817979\ttotal: 233ms\tremaining: 2.47s\n",
      "86:\tlearn: 0.0813965\ttotal: 238ms\tremaining: 2.5s\n",
      "87:\tlearn: 0.0810891\ttotal: 241ms\tremaining: 2.5s\n",
      "88:\tlearn: 0.0805226\ttotal: 243ms\tremaining: 2.49s\n",
      "89:\tlearn: 0.0800868\ttotal: 245ms\tremaining: 2.48s\n",
      "90:\tlearn: 0.0796689\ttotal: 247ms\tremaining: 2.47s\n",
      "91:\tlearn: 0.0793265\ttotal: 251ms\tremaining: 2.47s\n",
      "92:\tlearn: 0.0789320\ttotal: 253ms\tremaining: 2.46s\n",
      "93:\tlearn: 0.0785365\ttotal: 255ms\tremaining: 2.46s\n",
      "94:\tlearn: 0.0780166\ttotal: 258ms\tremaining: 2.46s\n",
      "95:\tlearn: 0.0771478\ttotal: 261ms\tremaining: 2.46s\n",
      "96:\tlearn: 0.0768522\ttotal: 263ms\tremaining: 2.45s\n",
      "97:\tlearn: 0.0761982\ttotal: 265ms\tremaining: 2.44s\n",
      "98:\tlearn: 0.0758859\ttotal: 267ms\tremaining: 2.43s\n",
      "99:\tlearn: 0.0755311\ttotal: 269ms\tremaining: 2.42s\n",
      "100:\tlearn: 0.0749254\ttotal: 271ms\tremaining: 2.42s\n",
      "101:\tlearn: 0.0745232\ttotal: 274ms\tremaining: 2.41s\n",
      "102:\tlearn: 0.0742103\ttotal: 278ms\tremaining: 2.42s\n",
      "103:\tlearn: 0.0738550\ttotal: 281ms\tremaining: 2.42s\n",
      "104:\tlearn: 0.0733823\ttotal: 283ms\tremaining: 2.41s\n",
      "105:\tlearn: 0.0727215\ttotal: 285ms\tremaining: 2.4s\n",
      "106:\tlearn: 0.0721881\ttotal: 288ms\tremaining: 2.4s\n",
      "107:\tlearn: 0.0719881\ttotal: 290ms\tremaining: 2.4s\n",
      "108:\tlearn: 0.0715811\ttotal: 292ms\tremaining: 2.39s\n",
      "109:\tlearn: 0.0710623\ttotal: 294ms\tremaining: 2.38s\n",
      "110:\tlearn: 0.0707868\ttotal: 296ms\tremaining: 2.37s\n",
      "111:\tlearn: 0.0705032\ttotal: 302ms\tremaining: 2.39s\n",
      "112:\tlearn: 0.0702643\ttotal: 305ms\tremaining: 2.4s\n",
      "113:\tlearn: 0.0700158\ttotal: 308ms\tremaining: 2.39s\n",
      "114:\tlearn: 0.0697033\ttotal: 310ms\tremaining: 2.38s\n",
      "115:\tlearn: 0.0693206\ttotal: 312ms\tremaining: 2.38s\n",
      "116:\tlearn: 0.0688914\ttotal: 315ms\tremaining: 2.38s\n",
      "117:\tlearn: 0.0681163\ttotal: 317ms\tremaining: 2.37s\n",
      "118:\tlearn: 0.0677305\ttotal: 319ms\tremaining: 2.36s\n",
      "119:\tlearn: 0.0675146\ttotal: 324ms\tremaining: 2.37s\n",
      "120:\tlearn: 0.0670681\ttotal: 327ms\tremaining: 2.38s\n",
      "121:\tlearn: 0.0667106\ttotal: 329ms\tremaining: 2.37s\n",
      "122:\tlearn: 0.0664825\ttotal: 331ms\tremaining: 2.36s\n",
      "123:\tlearn: 0.0661842\ttotal: 334ms\tremaining: 2.36s\n",
      "124:\tlearn: 0.0656590\ttotal: 336ms\tremaining: 2.35s\n",
      "125:\tlearn: 0.0653552\ttotal: 339ms\tremaining: 2.35s\n",
      "126:\tlearn: 0.0650482\ttotal: 341ms\tremaining: 2.35s\n",
      "127:\tlearn: 0.0647403\ttotal: 344ms\tremaining: 2.34s\n",
      "128:\tlearn: 0.0645124\ttotal: 347ms\tremaining: 2.34s\n",
      "129:\tlearn: 0.0642397\ttotal: 349ms\tremaining: 2.34s\n",
      "130:\tlearn: 0.0638785\ttotal: 352ms\tremaining: 2.34s\n",
      "131:\tlearn: 0.0636326\ttotal: 355ms\tremaining: 2.33s\n",
      "132:\tlearn: 0.0634690\ttotal: 357ms\tremaining: 2.33s\n",
      "133:\tlearn: 0.0630192\ttotal: 359ms\tremaining: 2.32s\n",
      "134:\tlearn: 0.0626098\ttotal: 361ms\tremaining: 2.31s\n",
      "135:\tlearn: 0.0624539\ttotal: 364ms\tremaining: 2.31s\n",
      "136:\tlearn: 0.0620906\ttotal: 367ms\tremaining: 2.31s\n",
      "137:\tlearn: 0.0618404\ttotal: 369ms\tremaining: 2.31s\n",
      "138:\tlearn: 0.0616377\ttotal: 371ms\tremaining: 2.3s\n",
      "139:\tlearn: 0.0614321\ttotal: 374ms\tremaining: 2.29s\n",
      "140:\tlearn: 0.0610144\ttotal: 376ms\tremaining: 2.29s\n",
      "141:\tlearn: 0.0607740\ttotal: 379ms\tremaining: 2.29s\n",
      "142:\tlearn: 0.0604074\ttotal: 381ms\tremaining: 2.28s\n",
      "143:\tlearn: 0.0601492\ttotal: 384ms\tremaining: 2.28s\n",
      "144:\tlearn: 0.0599332\ttotal: 387ms\tremaining: 2.28s\n",
      "145:\tlearn: 0.0595986\ttotal: 389ms\tremaining: 2.28s\n",
      "146:\tlearn: 0.0594607\ttotal: 393ms\tremaining: 2.28s\n",
      "147:\tlearn: 0.0592346\ttotal: 396ms\tremaining: 2.28s\n",
      "148:\tlearn: 0.0590329\ttotal: 399ms\tremaining: 2.28s\n",
      "149:\tlearn: 0.0588296\ttotal: 402ms\tremaining: 2.28s\n",
      "150:\tlearn: 0.0585094\ttotal: 405ms\tremaining: 2.27s\n",
      "151:\tlearn: 0.0583468\ttotal: 407ms\tremaining: 2.27s\n",
      "152:\tlearn: 0.0581616\ttotal: 409ms\tremaining: 2.26s\n",
      "153:\tlearn: 0.0579070\ttotal: 411ms\tremaining: 2.26s\n",
      "154:\tlearn: 0.0577100\ttotal: 414ms\tremaining: 2.26s\n",
      "155:\tlearn: 0.0575204\ttotal: 417ms\tremaining: 2.26s\n",
      "156:\tlearn: 0.0572530\ttotal: 420ms\tremaining: 2.25s\n",
      "157:\tlearn: 0.0569274\ttotal: 422ms\tremaining: 2.25s\n",
      "158:\tlearn: 0.0566762\ttotal: 425ms\tremaining: 2.25s\n",
      "159:\tlearn: 0.0565614\ttotal: 427ms\tremaining: 2.24s\n",
      "160:\tlearn: 0.0562647\ttotal: 429ms\tremaining: 2.24s\n",
      "161:\tlearn: 0.0560566\ttotal: 431ms\tremaining: 2.23s\n",
      "162:\tlearn: 0.0558560\ttotal: 433ms\tremaining: 2.23s\n",
      "163:\tlearn: 0.0554512\ttotal: 436ms\tremaining: 2.22s\n",
      "164:\tlearn: 0.0552806\ttotal: 439ms\tremaining: 2.22s\n",
      "165:\tlearn: 0.0550538\ttotal: 442ms\tremaining: 2.22s\n",
      "166:\tlearn: 0.0548825\ttotal: 444ms\tremaining: 2.22s\n",
      "167:\tlearn: 0.0547805\ttotal: 447ms\tremaining: 2.21s\n",
      "168:\tlearn: 0.0546642\ttotal: 449ms\tremaining: 2.21s\n",
      "169:\tlearn: 0.0543574\ttotal: 451ms\tremaining: 2.2s\n",
      "170:\tlearn: 0.0542539\ttotal: 454ms\tremaining: 2.2s\n",
      "171:\tlearn: 0.0540977\ttotal: 456ms\tremaining: 2.19s\n",
      "172:\tlearn: 0.0539741\ttotal: 458ms\tremaining: 2.19s\n",
      "173:\tlearn: 0.0537793\ttotal: 461ms\tremaining: 2.19s\n",
      "174:\tlearn: 0.0535499\ttotal: 464ms\tremaining: 2.19s\n",
      "175:\tlearn: 0.0533461\ttotal: 467ms\tremaining: 2.18s\n",
      "176:\tlearn: 0.0531326\ttotal: 469ms\tremaining: 2.18s\n",
      "177:\tlearn: 0.0530595\ttotal: 471ms\tremaining: 2.18s\n",
      "178:\tlearn: 0.0529470\ttotal: 473ms\tremaining: 2.17s\n",
      "179:\tlearn: 0.0527691\ttotal: 476ms\tremaining: 2.17s\n",
      "180:\tlearn: 0.0526404\ttotal: 479ms\tremaining: 2.17s\n",
      "181:\tlearn: 0.0525145\ttotal: 481ms\tremaining: 2.16s\n",
      "182:\tlearn: 0.0524332\ttotal: 483ms\tremaining: 2.15s\n",
      "183:\tlearn: 0.0522311\ttotal: 485ms\tremaining: 2.15s\n",
      "184:\tlearn: 0.0519353\ttotal: 488ms\tremaining: 2.15s\n",
      "185:\tlearn: 0.0515714\ttotal: 491ms\tremaining: 2.15s\n",
      "186:\tlearn: 0.0514909\ttotal: 494ms\tremaining: 2.15s\n",
      "187:\tlearn: 0.0513162\ttotal: 496ms\tremaining: 2.14s\n",
      "188:\tlearn: 0.0511884\ttotal: 499ms\tremaining: 2.14s\n",
      "189:\tlearn: 0.0510652\ttotal: 501ms\tremaining: 2.14s\n",
      "190:\tlearn: 0.0509786\ttotal: 504ms\tremaining: 2.13s\n",
      "191:\tlearn: 0.0508893\ttotal: 506ms\tremaining: 2.13s\n",
      "192:\tlearn: 0.0505900\ttotal: 508ms\tremaining: 2.13s\n",
      "193:\tlearn: 0.0504426\ttotal: 511ms\tremaining: 2.12s\n",
      "194:\tlearn: 0.0502767\ttotal: 514ms\tremaining: 2.12s\n",
      "195:\tlearn: 0.0500644\ttotal: 517ms\tremaining: 2.12s\n",
      "196:\tlearn: 0.0499431\ttotal: 519ms\tremaining: 2.12s\n",
      "197:\tlearn: 0.0498418\ttotal: 522ms\tremaining: 2.11s\n",
      "198:\tlearn: 0.0497734\ttotal: 524ms\tremaining: 2.11s\n",
      "199:\tlearn: 0.0496759\ttotal: 528ms\tremaining: 2.11s\n",
      "200:\tlearn: 0.0494923\ttotal: 530ms\tremaining: 2.11s\n",
      "201:\tlearn: 0.0493402\ttotal: 533ms\tremaining: 2.1s\n",
      "202:\tlearn: 0.0492795\ttotal: 535ms\tremaining: 2.1s\n",
      "203:\tlearn: 0.0489776\ttotal: 538ms\tremaining: 2.1s\n",
      "204:\tlearn: 0.0486491\ttotal: 541ms\tremaining: 2.1s\n",
      "205:\tlearn: 0.0484551\ttotal: 544ms\tremaining: 2.09s\n",
      "206:\tlearn: 0.0482768\ttotal: 546ms\tremaining: 2.09s\n",
      "207:\tlearn: 0.0481178\ttotal: 548ms\tremaining: 2.09s\n",
      "208:\tlearn: 0.0479317\ttotal: 552ms\tremaining: 2.09s\n",
      "209:\tlearn: 0.0476658\ttotal: 555ms\tremaining: 2.09s\n",
      "210:\tlearn: 0.0474069\ttotal: 557ms\tremaining: 2.08s\n",
      "211:\tlearn: 0.0471817\ttotal: 560ms\tremaining: 2.08s\n",
      "212:\tlearn: 0.0470479\ttotal: 562ms\tremaining: 2.08s\n",
      "213:\tlearn: 0.0469487\ttotal: 566ms\tremaining: 2.08s\n",
      "214:\tlearn: 0.0468552\ttotal: 569ms\tremaining: 2.08s\n",
      "215:\tlearn: 0.0466651\ttotal: 572ms\tremaining: 2.07s\n",
      "216:\tlearn: 0.0465418\ttotal: 574ms\tremaining: 2.07s\n",
      "217:\tlearn: 0.0464800\ttotal: 578ms\tremaining: 2.07s\n",
      "218:\tlearn: 0.0463546\ttotal: 580ms\tremaining: 2.07s\n",
      "219:\tlearn: 0.0461314\ttotal: 582ms\tremaining: 2.06s\n",
      "220:\tlearn: 0.0460039\ttotal: 585ms\tremaining: 2.06s\n",
      "221:\tlearn: 0.0458286\ttotal: 588ms\tremaining: 2.06s\n",
      "222:\tlearn: 0.0456749\ttotal: 591ms\tremaining: 2.06s\n",
      "223:\tlearn: 0.0455866\ttotal: 593ms\tremaining: 2.06s\n",
      "224:\tlearn: 0.0453525\ttotal: 596ms\tremaining: 2.05s\n",
      "225:\tlearn: 0.0452161\ttotal: 598ms\tremaining: 2.05s\n",
      "226:\tlearn: 0.0450903\ttotal: 600ms\tremaining: 2.04s\n",
      "227:\tlearn: 0.0449873\ttotal: 603ms\tremaining: 2.04s\n",
      "228:\tlearn: 0.0448315\ttotal: 605ms\tremaining: 2.04s\n",
      "229:\tlearn: 0.0447866\ttotal: 607ms\tremaining: 2.03s\n",
      "230:\tlearn: 0.0447060\ttotal: 609ms\tremaining: 2.03s\n",
      "231:\tlearn: 0.0446381\ttotal: 612ms\tremaining: 2.02s\n",
      "232:\tlearn: 0.0445557\ttotal: 616ms\tremaining: 2.03s\n",
      "233:\tlearn: 0.0445173\ttotal: 618ms\tremaining: 2.02s\n",
      "234:\tlearn: 0.0444360\ttotal: 621ms\tremaining: 2.02s\n",
      "235:\tlearn: 0.0442935\ttotal: 623ms\tremaining: 2.02s\n",
      "236:\tlearn: 0.0441398\ttotal: 625ms\tremaining: 2.01s\n",
      "237:\tlearn: 0.0440522\ttotal: 628ms\tremaining: 2.01s\n",
      "238:\tlearn: 0.0439884\ttotal: 631ms\tremaining: 2.01s\n",
      "239:\tlearn: 0.0438421\ttotal: 633ms\tremaining: 2s\n",
      "240:\tlearn: 0.0437281\ttotal: 635ms\tremaining: 2s\n",
      "241:\tlearn: 0.0435951\ttotal: 639ms\tremaining: 2s\n",
      "242:\tlearn: 0.0435615\ttotal: 641ms\tremaining: 2s\n",
      "243:\tlearn: 0.0433870\ttotal: 644ms\tremaining: 2s\n",
      "244:\tlearn: 0.0432718\ttotal: 646ms\tremaining: 1.99s\n",
      "245:\tlearn: 0.0431472\ttotal: 648ms\tremaining: 1.99s\n",
      "246:\tlearn: 0.0430067\ttotal: 651ms\tremaining: 1.98s\n",
      "247:\tlearn: 0.0429156\ttotal: 653ms\tremaining: 1.98s\n",
      "248:\tlearn: 0.0428247\ttotal: 655ms\tremaining: 1.98s\n",
      "249:\tlearn: 0.0427609\ttotal: 658ms\tremaining: 1.97s\n",
      "250:\tlearn: 0.0426800\ttotal: 661ms\tremaining: 1.97s\n",
      "251:\tlearn: 0.0425901\ttotal: 664ms\tremaining: 1.97s\n",
      "252:\tlearn: 0.0425048\ttotal: 667ms\tremaining: 1.97s\n",
      "253:\tlearn: 0.0423799\ttotal: 669ms\tremaining: 1.97s\n",
      "254:\tlearn: 0.0423338\ttotal: 671ms\tremaining: 1.96s\n",
      "255:\tlearn: 0.0422537\ttotal: 673ms\tremaining: 1.96s\n",
      "256:\tlearn: 0.0420667\ttotal: 676ms\tremaining: 1.95s\n",
      "257:\tlearn: 0.0419256\ttotal: 678ms\tremaining: 1.95s\n",
      "258:\tlearn: 0.0418053\ttotal: 681ms\tremaining: 1.95s\n",
      "259:\tlearn: 0.0417602\ttotal: 683ms\tremaining: 1.94s\n",
      "260:\tlearn: 0.0416520\ttotal: 685ms\tremaining: 1.94s\n",
      "261:\tlearn: 0.0415031\ttotal: 687ms\tremaining: 1.94s\n",
      "262:\tlearn: 0.0414180\ttotal: 690ms\tremaining: 1.93s\n",
      "263:\tlearn: 0.0413413\ttotal: 692ms\tremaining: 1.93s\n",
      "264:\tlearn: 0.0412434\ttotal: 694ms\tremaining: 1.93s\n",
      "265:\tlearn: 0.0410701\ttotal: 696ms\tremaining: 1.92s\n",
      "266:\tlearn: 0.0409790\ttotal: 699ms\tremaining: 1.92s\n",
      "267:\tlearn: 0.0408507\ttotal: 701ms\tremaining: 1.91s\n",
      "268:\tlearn: 0.0406738\ttotal: 704ms\tremaining: 1.91s\n",
      "269:\tlearn: 0.0405711\ttotal: 707ms\tremaining: 1.91s\n",
      "270:\tlearn: 0.0405166\ttotal: 709ms\tremaining: 1.91s\n",
      "271:\tlearn: 0.0404571\ttotal: 711ms\tremaining: 1.9s\n",
      "272:\tlearn: 0.0404132\ttotal: 714ms\tremaining: 1.9s\n",
      "273:\tlearn: 0.0403448\ttotal: 717ms\tremaining: 1.9s\n",
      "274:\tlearn: 0.0402405\ttotal: 720ms\tremaining: 1.9s\n",
      "275:\tlearn: 0.0401784\ttotal: 722ms\tremaining: 1.89s\n",
      "276:\tlearn: 0.0401032\ttotal: 725ms\tremaining: 1.89s\n",
      "277:\tlearn: 0.0400037\ttotal: 728ms\tremaining: 1.89s\n",
      "278:\tlearn: 0.0399720\ttotal: 731ms\tremaining: 1.89s\n",
      "279:\tlearn: 0.0399098\ttotal: 733ms\tremaining: 1.89s\n",
      "280:\tlearn: 0.0398193\ttotal: 735ms\tremaining: 1.88s\n",
      "281:\tlearn: 0.0397107\ttotal: 738ms\tremaining: 1.88s\n",
      "282:\tlearn: 0.0396238\ttotal: 741ms\tremaining: 1.88s\n",
      "283:\tlearn: 0.0395599\ttotal: 743ms\tremaining: 1.87s\n",
      "284:\tlearn: 0.0394077\ttotal: 746ms\tremaining: 1.87s\n",
      "285:\tlearn: 0.0393553\ttotal: 748ms\tremaining: 1.87s\n",
      "286:\tlearn: 0.0392617\ttotal: 751ms\tremaining: 1.86s\n",
      "287:\tlearn: 0.0391791\ttotal: 754ms\tremaining: 1.86s\n",
      "288:\tlearn: 0.0391059\ttotal: 757ms\tremaining: 1.86s\n",
      "289:\tlearn: 0.0389925\ttotal: 759ms\tremaining: 1.86s\n",
      "290:\tlearn: 0.0388878\ttotal: 761ms\tremaining: 1.85s\n",
      "291:\tlearn: 0.0388529\ttotal: 765ms\tremaining: 1.85s\n",
      "292:\tlearn: 0.0387915\ttotal: 767ms\tremaining: 1.85s\n",
      "293:\tlearn: 0.0386696\ttotal: 770ms\tremaining: 1.85s\n",
      "294:\tlearn: 0.0385486\ttotal: 772ms\tremaining: 1.84s\n",
      "295:\tlearn: 0.0384982\ttotal: 774ms\tremaining: 1.84s\n",
      "296:\tlearn: 0.0384189\ttotal: 777ms\tremaining: 1.84s\n",
      "297:\tlearn: 0.0383475\ttotal: 780ms\tremaining: 1.84s\n",
      "298:\tlearn: 0.0382923\ttotal: 783ms\tremaining: 1.83s\n",
      "299:\tlearn: 0.0382194\ttotal: 785ms\tremaining: 1.83s\n",
      "300:\tlearn: 0.0381712\ttotal: 787ms\tremaining: 1.83s\n",
      "301:\tlearn: 0.0380901\ttotal: 789ms\tremaining: 1.82s\n",
      "302:\tlearn: 0.0379529\ttotal: 792ms\tremaining: 1.82s\n",
      "303:\tlearn: 0.0378866\ttotal: 794ms\tremaining: 1.82s\n",
      "304:\tlearn: 0.0377794\ttotal: 796ms\tremaining: 1.81s\n",
      "305:\tlearn: 0.0376159\ttotal: 798ms\tremaining: 1.81s\n",
      "306:\tlearn: 0.0374973\ttotal: 802ms\tremaining: 1.81s\n",
      "307:\tlearn: 0.0374268\ttotal: 805ms\tremaining: 1.81s\n",
      "308:\tlearn: 0.0373551\ttotal: 808ms\tremaining: 1.81s\n",
      "309:\tlearn: 0.0372996\ttotal: 810ms\tremaining: 1.8s\n",
      "310:\tlearn: 0.0372491\ttotal: 812ms\tremaining: 1.8s\n",
      "311:\tlearn: 0.0372046\ttotal: 815ms\tremaining: 1.8s\n",
      "312:\tlearn: 0.0371458\ttotal: 818ms\tremaining: 1.79s\n",
      "313:\tlearn: 0.0370351\ttotal: 820ms\tremaining: 1.79s\n",
      "314:\tlearn: 0.0369537\ttotal: 822ms\tremaining: 1.79s\n",
      "315:\tlearn: 0.0368912\ttotal: 824ms\tremaining: 1.78s\n",
      "316:\tlearn: 0.0368514\ttotal: 828ms\tremaining: 1.78s\n",
      "317:\tlearn: 0.0368131\ttotal: 830ms\tremaining: 1.78s\n",
      "318:\tlearn: 0.0367792\ttotal: 833ms\tremaining: 1.78s\n",
      "319:\tlearn: 0.0367279\ttotal: 836ms\tremaining: 1.77s\n",
      "320:\tlearn: 0.0367059\ttotal: 838ms\tremaining: 1.77s\n",
      "321:\tlearn: 0.0366599\ttotal: 841ms\tremaining: 1.77s\n",
      "322:\tlearn: 0.0365020\ttotal: 844ms\tremaining: 1.77s\n",
      "323:\tlearn: 0.0364542\ttotal: 846ms\tremaining: 1.76s\n",
      "324:\tlearn: 0.0364204\ttotal: 848ms\tremaining: 1.76s\n",
      "325:\tlearn: 0.0363625\ttotal: 850ms\tremaining: 1.76s\n",
      "326:\tlearn: 0.0362867\ttotal: 854ms\tremaining: 1.76s\n",
      "327:\tlearn: 0.0362404\ttotal: 858ms\tremaining: 1.76s\n",
      "328:\tlearn: 0.0361574\ttotal: 860ms\tremaining: 1.75s\n",
      "329:\tlearn: 0.0361096\ttotal: 862ms\tremaining: 1.75s\n",
      "330:\tlearn: 0.0360786\ttotal: 865ms\tremaining: 1.75s\n",
      "331:\tlearn: 0.0360080\ttotal: 868ms\tremaining: 1.75s\n",
      "332:\tlearn: 0.0359705\ttotal: 870ms\tremaining: 1.74s\n",
      "333:\tlearn: 0.0359041\ttotal: 872ms\tremaining: 1.74s\n",
      "334:\tlearn: 0.0358134\ttotal: 874ms\tremaining: 1.74s\n",
      "335:\tlearn: 0.0357625\ttotal: 878ms\tremaining: 1.74s\n",
      "336:\tlearn: 0.0356498\ttotal: 881ms\tremaining: 1.73s\n",
      "337:\tlearn: 0.0355630\ttotal: 883ms\tremaining: 1.73s\n",
      "338:\tlearn: 0.0354664\ttotal: 885ms\tremaining: 1.73s\n",
      "339:\tlearn: 0.0354328\ttotal: 887ms\tremaining: 1.72s\n",
      "340:\tlearn: 0.0353908\ttotal: 890ms\tremaining: 1.72s\n",
      "341:\tlearn: 0.0353248\ttotal: 893ms\tremaining: 1.72s\n",
      "342:\tlearn: 0.0352669\ttotal: 895ms\tremaining: 1.71s\n",
      "343:\tlearn: 0.0352172\ttotal: 898ms\tremaining: 1.71s\n",
      "344:\tlearn: 0.0351687\ttotal: 900ms\tremaining: 1.71s\n",
      "345:\tlearn: 0.0351475\ttotal: 902ms\tremaining: 1.71s\n",
      "346:\tlearn: 0.0350233\ttotal: 905ms\tremaining: 1.7s\n",
      "347:\tlearn: 0.0349995\ttotal: 909ms\tremaining: 1.7s\n",
      "348:\tlearn: 0.0349414\ttotal: 911ms\tremaining: 1.7s\n",
      "349:\tlearn: 0.0349034\ttotal: 913ms\tremaining: 1.7s\n",
      "350:\tlearn: 0.0348012\ttotal: 916ms\tremaining: 1.69s\n",
      "351:\tlearn: 0.0347637\ttotal: 920ms\tremaining: 1.69s\n",
      "352:\tlearn: 0.0347316\ttotal: 922ms\tremaining: 1.69s\n",
      "353:\tlearn: 0.0346767\ttotal: 924ms\tremaining: 1.69s\n",
      "354:\tlearn: 0.0346415\ttotal: 928ms\tremaining: 1.69s\n",
      "355:\tlearn: 0.0345842\ttotal: 931ms\tremaining: 1.68s\n",
      "356:\tlearn: 0.0344702\ttotal: 933ms\tremaining: 1.68s\n",
      "357:\tlearn: 0.0343870\ttotal: 936ms\tremaining: 1.68s\n",
      "358:\tlearn: 0.0343532\ttotal: 938ms\tremaining: 1.67s\n",
      "359:\tlearn: 0.0342877\ttotal: 941ms\tremaining: 1.67s\n",
      "360:\tlearn: 0.0341769\ttotal: 944ms\tremaining: 1.67s\n",
      "361:\tlearn: 0.0341559\ttotal: 946ms\tremaining: 1.67s\n",
      "362:\tlearn: 0.0340802\ttotal: 948ms\tremaining: 1.66s\n",
      "363:\tlearn: 0.0340117\ttotal: 952ms\tremaining: 1.66s\n",
      "364:\tlearn: 0.0339431\ttotal: 957ms\tremaining: 1.66s\n",
      "365:\tlearn: 0.0338809\ttotal: 959ms\tremaining: 1.66s\n",
      "366:\tlearn: 0.0338159\ttotal: 962ms\tremaining: 1.66s\n",
      "367:\tlearn: 0.0337862\ttotal: 964ms\tremaining: 1.66s\n",
      "368:\tlearn: 0.0337620\ttotal: 968ms\tremaining: 1.65s\n",
      "369:\tlearn: 0.0337018\ttotal: 971ms\tremaining: 1.65s\n",
      "370:\tlearn: 0.0336391\ttotal: 975ms\tremaining: 1.65s\n",
      "371:\tlearn: 0.0335537\ttotal: 978ms\tremaining: 1.65s\n",
      "372:\tlearn: 0.0335024\ttotal: 982ms\tremaining: 1.65s\n",
      "373:\tlearn: 0.0334719\ttotal: 984ms\tremaining: 1.65s\n",
      "374:\tlearn: 0.0334368\ttotal: 986ms\tremaining: 1.64s\n",
      "375:\tlearn: 0.0333678\ttotal: 988ms\tremaining: 1.64s\n",
      "376:\tlearn: 0.0333293\ttotal: 991ms\tremaining: 1.64s\n",
      "377:\tlearn: 0.0332929\ttotal: 994ms\tremaining: 1.64s\n",
      "378:\tlearn: 0.0332465\ttotal: 996ms\tremaining: 1.63s\n",
      "379:\tlearn: 0.0331731\ttotal: 999ms\tremaining: 1.63s\n",
      "380:\tlearn: 0.0331123\ttotal: 1s\tremaining: 1.63s\n",
      "381:\tlearn: 0.0330815\ttotal: 1s\tremaining: 1.63s\n",
      "382:\tlearn: 0.0329911\ttotal: 1.01s\tremaining: 1.62s\n",
      "383:\tlearn: 0.0329486\ttotal: 1.01s\tremaining: 1.62s\n",
      "384:\tlearn: 0.0329158\ttotal: 1.01s\tremaining: 1.61s\n",
      "385:\tlearn: 0.0328825\ttotal: 1.01s\tremaining: 1.61s\n",
      "386:\tlearn: 0.0328548\ttotal: 1.01s\tremaining: 1.61s\n",
      "387:\tlearn: 0.0327810\ttotal: 1.02s\tremaining: 1.61s\n",
      "388:\tlearn: 0.0327590\ttotal: 1.02s\tremaining: 1.61s\n",
      "389:\tlearn: 0.0327366\ttotal: 1.02s\tremaining: 1.6s\n",
      "390:\tlearn: 0.0326258\ttotal: 1.03s\tremaining: 1.6s\n",
      "391:\tlearn: 0.0326089\ttotal: 1.03s\tremaining: 1.6s\n",
      "392:\tlearn: 0.0325731\ttotal: 1.03s\tremaining: 1.59s\n",
      "393:\tlearn: 0.0325410\ttotal: 1.03s\tremaining: 1.59s\n",
      "394:\tlearn: 0.0325172\ttotal: 1.04s\tremaining: 1.59s\n",
      "395:\tlearn: 0.0324639\ttotal: 1.04s\tremaining: 1.58s\n",
      "396:\tlearn: 0.0324274\ttotal: 1.04s\tremaining: 1.58s\n",
      "397:\tlearn: 0.0323686\ttotal: 1.04s\tremaining: 1.58s\n",
      "398:\tlearn: 0.0323451\ttotal: 1.05s\tremaining: 1.58s\n",
      "399:\tlearn: 0.0323018\ttotal: 1.05s\tremaining: 1.57s\n",
      "400:\tlearn: 0.0322754\ttotal: 1.05s\tremaining: 1.57s\n",
      "401:\tlearn: 0.0322375\ttotal: 1.05s\tremaining: 1.57s\n",
      "402:\tlearn: 0.0322034\ttotal: 1.06s\tremaining: 1.57s\n",
      "403:\tlearn: 0.0321289\ttotal: 1.06s\tremaining: 1.56s\n",
      "404:\tlearn: 0.0320859\ttotal: 1.06s\tremaining: 1.56s\n",
      "405:\tlearn: 0.0320485\ttotal: 1.06s\tremaining: 1.56s\n",
      "406:\tlearn: 0.0320104\ttotal: 1.07s\tremaining: 1.56s\n",
      "407:\tlearn: 0.0319307\ttotal: 1.07s\tremaining: 1.55s\n",
      "408:\tlearn: 0.0318545\ttotal: 1.07s\tremaining: 1.55s\n",
      "409:\tlearn: 0.0317902\ttotal: 1.08s\tremaining: 1.55s\n",
      "410:\tlearn: 0.0317538\ttotal: 1.08s\tremaining: 1.54s\n",
      "411:\tlearn: 0.0316677\ttotal: 1.08s\tremaining: 1.54s\n",
      "412:\tlearn: 0.0316340\ttotal: 1.08s\tremaining: 1.54s\n",
      "413:\tlearn: 0.0316212\ttotal: 1.08s\tremaining: 1.54s\n",
      "414:\tlearn: 0.0315865\ttotal: 1.09s\tremaining: 1.53s\n",
      "415:\tlearn: 0.0315026\ttotal: 1.09s\tremaining: 1.53s\n",
      "416:\tlearn: 0.0314715\ttotal: 1.09s\tremaining: 1.53s\n",
      "417:\tlearn: 0.0314461\ttotal: 1.09s\tremaining: 1.52s\n",
      "418:\tlearn: 0.0313943\ttotal: 1.1s\tremaining: 1.52s\n",
      "419:\tlearn: 0.0313461\ttotal: 1.1s\tremaining: 1.52s\n",
      "420:\tlearn: 0.0313159\ttotal: 1.1s\tremaining: 1.52s\n",
      "421:\tlearn: 0.0312338\ttotal: 1.1s\tremaining: 1.51s\n",
      "422:\tlearn: 0.0311835\ttotal: 1.11s\tremaining: 1.51s\n",
      "423:\tlearn: 0.0311514\ttotal: 1.11s\tremaining: 1.51s\n",
      "424:\tlearn: 0.0311268\ttotal: 1.11s\tremaining: 1.51s\n",
      "425:\tlearn: 0.0310930\ttotal: 1.12s\tremaining: 1.5s\n",
      "426:\tlearn: 0.0310731\ttotal: 1.12s\tremaining: 1.5s\n",
      "427:\tlearn: 0.0310464\ttotal: 1.12s\tremaining: 1.5s\n",
      "428:\tlearn: 0.0310290\ttotal: 1.12s\tremaining: 1.5s\n",
      "429:\tlearn: 0.0309284\ttotal: 1.13s\tremaining: 1.49s\n",
      "430:\tlearn: 0.0308976\ttotal: 1.13s\tremaining: 1.49s\n",
      "431:\tlearn: 0.0308595\ttotal: 1.13s\tremaining: 1.49s\n",
      "432:\tlearn: 0.0308032\ttotal: 1.13s\tremaining: 1.49s\n",
      "433:\tlearn: 0.0307802\ttotal: 1.14s\tremaining: 1.48s\n",
      "434:\tlearn: 0.0307535\ttotal: 1.14s\tremaining: 1.48s\n",
      "435:\tlearn: 0.0307110\ttotal: 1.14s\tremaining: 1.48s\n",
      "436:\tlearn: 0.0306538\ttotal: 1.15s\tremaining: 1.48s\n",
      "437:\tlearn: 0.0306330\ttotal: 1.15s\tremaining: 1.47s\n",
      "438:\tlearn: 0.0305571\ttotal: 1.15s\tremaining: 1.47s\n",
      "439:\tlearn: 0.0305150\ttotal: 1.15s\tremaining: 1.47s\n",
      "440:\tlearn: 0.0304785\ttotal: 1.16s\tremaining: 1.46s\n",
      "441:\tlearn: 0.0304221\ttotal: 1.16s\tremaining: 1.46s\n",
      "442:\tlearn: 0.0303907\ttotal: 1.16s\tremaining: 1.46s\n",
      "443:\tlearn: 0.0303609\ttotal: 1.16s\tremaining: 1.46s\n",
      "444:\tlearn: 0.0303213\ttotal: 1.17s\tremaining: 1.45s\n",
      "445:\tlearn: 0.0302887\ttotal: 1.17s\tremaining: 1.45s\n",
      "446:\tlearn: 0.0302621\ttotal: 1.17s\tremaining: 1.45s\n",
      "447:\tlearn: 0.0302124\ttotal: 1.17s\tremaining: 1.45s\n",
      "448:\tlearn: 0.0301405\ttotal: 1.18s\tremaining: 1.44s\n",
      "449:\tlearn: 0.0300815\ttotal: 1.18s\tremaining: 1.44s\n",
      "450:\tlearn: 0.0300647\ttotal: 1.18s\tremaining: 1.44s\n",
      "451:\tlearn: 0.0300459\ttotal: 1.18s\tremaining: 1.44s\n",
      "452:\tlearn: 0.0300161\ttotal: 1.19s\tremaining: 1.43s\n",
      "453:\tlearn: 0.0299954\ttotal: 1.19s\tremaining: 1.43s\n",
      "454:\tlearn: 0.0299746\ttotal: 1.19s\tremaining: 1.43s\n",
      "455:\tlearn: 0.0299508\ttotal: 1.19s\tremaining: 1.42s\n",
      "456:\tlearn: 0.0299217\ttotal: 1.2s\tremaining: 1.42s\n",
      "457:\tlearn: 0.0298771\ttotal: 1.2s\tremaining: 1.42s\n",
      "458:\tlearn: 0.0298484\ttotal: 1.2s\tremaining: 1.42s\n",
      "459:\tlearn: 0.0297568\ttotal: 1.2s\tremaining: 1.41s\n",
      "460:\tlearn: 0.0297214\ttotal: 1.21s\tremaining: 1.41s\n",
      "461:\tlearn: 0.0296698\ttotal: 1.21s\tremaining: 1.41s\n",
      "462:\tlearn: 0.0296293\ttotal: 1.21s\tremaining: 1.41s\n",
      "463:\tlearn: 0.0295711\ttotal: 1.21s\tremaining: 1.4s\n",
      "464:\tlearn: 0.0295020\ttotal: 1.22s\tremaining: 1.4s\n",
      "465:\tlearn: 0.0294799\ttotal: 1.22s\tremaining: 1.4s\n",
      "466:\tlearn: 0.0294567\ttotal: 1.22s\tremaining: 1.39s\n",
      "467:\tlearn: 0.0294008\ttotal: 1.22s\tremaining: 1.39s\n",
      "468:\tlearn: 0.0293838\ttotal: 1.23s\tremaining: 1.39s\n",
      "469:\tlearn: 0.0293451\ttotal: 1.23s\tremaining: 1.38s\n",
      "470:\tlearn: 0.0292726\ttotal: 1.23s\tremaining: 1.38s\n",
      "471:\tlearn: 0.0292532\ttotal: 1.23s\tremaining: 1.38s\n",
      "472:\tlearn: 0.0292369\ttotal: 1.24s\tremaining: 1.38s\n",
      "473:\tlearn: 0.0292060\ttotal: 1.24s\tremaining: 1.37s\n",
      "474:\tlearn: 0.0291648\ttotal: 1.24s\tremaining: 1.37s\n",
      "475:\tlearn: 0.0291437\ttotal: 1.24s\tremaining: 1.37s\n",
      "476:\tlearn: 0.0291307\ttotal: 1.25s\tremaining: 1.37s\n",
      "477:\tlearn: 0.0290859\ttotal: 1.25s\tremaining: 1.36s\n",
      "478:\tlearn: 0.0290415\ttotal: 1.25s\tremaining: 1.36s\n",
      "479:\tlearn: 0.0290107\ttotal: 1.25s\tremaining: 1.36s\n",
      "480:\tlearn: 0.0289936\ttotal: 1.25s\tremaining: 1.35s\n",
      "481:\tlearn: 0.0289936\ttotal: 1.26s\tremaining: 1.35s\n",
      "482:\tlearn: 0.0289743\ttotal: 1.26s\tremaining: 1.35s\n",
      "483:\tlearn: 0.0289140\ttotal: 1.26s\tremaining: 1.34s\n",
      "484:\tlearn: 0.0288924\ttotal: 1.26s\tremaining: 1.34s\n",
      "485:\tlearn: 0.0288696\ttotal: 1.27s\tremaining: 1.34s\n",
      "486:\tlearn: 0.0288169\ttotal: 1.27s\tremaining: 1.34s\n",
      "487:\tlearn: 0.0287841\ttotal: 1.27s\tremaining: 1.33s\n",
      "488:\tlearn: 0.0287586\ttotal: 1.27s\tremaining: 1.33s\n",
      "489:\tlearn: 0.0286968\ttotal: 1.28s\tremaining: 1.33s\n",
      "490:\tlearn: 0.0286539\ttotal: 1.28s\tremaining: 1.32s\n",
      "491:\tlearn: 0.0286538\ttotal: 1.28s\tremaining: 1.32s\n",
      "492:\tlearn: 0.0286356\ttotal: 1.28s\tremaining: 1.32s\n",
      "493:\tlearn: 0.0286061\ttotal: 1.29s\tremaining: 1.32s\n",
      "494:\tlearn: 0.0285691\ttotal: 1.29s\tremaining: 1.31s\n",
      "495:\tlearn: 0.0285441\ttotal: 1.29s\tremaining: 1.31s\n",
      "496:\tlearn: 0.0285307\ttotal: 1.29s\tremaining: 1.31s\n",
      "497:\tlearn: 0.0285271\ttotal: 1.3s\tremaining: 1.31s\n",
      "498:\tlearn: 0.0285108\ttotal: 1.3s\tremaining: 1.3s\n",
      "499:\tlearn: 0.0285107\ttotal: 1.3s\tremaining: 1.3s\n",
      "500:\tlearn: 0.0284578\ttotal: 1.3s\tremaining: 1.3s\n",
      "501:\tlearn: 0.0284303\ttotal: 1.31s\tremaining: 1.3s\n",
      "502:\tlearn: 0.0283938\ttotal: 1.31s\tremaining: 1.29s\n",
      "503:\tlearn: 0.0283746\ttotal: 1.31s\tremaining: 1.29s\n",
      "504:\tlearn: 0.0283744\ttotal: 1.31s\tremaining: 1.29s\n",
      "505:\tlearn: 0.0283597\ttotal: 1.32s\tremaining: 1.28s\n",
      "506:\tlearn: 0.0283347\ttotal: 1.32s\tremaining: 1.28s\n",
      "507:\tlearn: 0.0283150\ttotal: 1.32s\tremaining: 1.28s\n",
      "508:\tlearn: 0.0282995\ttotal: 1.32s\tremaining: 1.28s\n",
      "509:\tlearn: 0.0282783\ttotal: 1.33s\tremaining: 1.27s\n",
      "510:\tlearn: 0.0282568\ttotal: 1.33s\tremaining: 1.27s\n",
      "511:\tlearn: 0.0281979\ttotal: 1.33s\tremaining: 1.27s\n",
      "512:\tlearn: 0.0281211\ttotal: 1.33s\tremaining: 1.27s\n",
      "513:\tlearn: 0.0280864\ttotal: 1.34s\tremaining: 1.26s\n",
      "514:\tlearn: 0.0280602\ttotal: 1.34s\tremaining: 1.26s\n",
      "515:\tlearn: 0.0280478\ttotal: 1.34s\tremaining: 1.26s\n",
      "516:\tlearn: 0.0280324\ttotal: 1.34s\tremaining: 1.25s\n",
      "517:\tlearn: 0.0279982\ttotal: 1.35s\tremaining: 1.25s\n",
      "518:\tlearn: 0.0279833\ttotal: 1.35s\tremaining: 1.25s\n",
      "519:\tlearn: 0.0279698\ttotal: 1.35s\tremaining: 1.25s\n",
      "520:\tlearn: 0.0279248\ttotal: 1.35s\tremaining: 1.25s\n",
      "521:\tlearn: 0.0279247\ttotal: 1.36s\tremaining: 1.24s\n",
      "522:\tlearn: 0.0279247\ttotal: 1.36s\tremaining: 1.24s\n",
      "523:\tlearn: 0.0279246\ttotal: 1.36s\tremaining: 1.24s\n",
      "524:\tlearn: 0.0279246\ttotal: 1.36s\tremaining: 1.23s\n",
      "525:\tlearn: 0.0279246\ttotal: 1.36s\tremaining: 1.23s\n",
      "526:\tlearn: 0.0279246\ttotal: 1.37s\tremaining: 1.23s\n",
      "527:\tlearn: 0.0279147\ttotal: 1.37s\tremaining: 1.23s\n",
      "528:\tlearn: 0.0279106\ttotal: 1.37s\tremaining: 1.22s\n",
      "529:\tlearn: 0.0278729\ttotal: 1.38s\tremaining: 1.22s\n",
      "530:\tlearn: 0.0278476\ttotal: 1.38s\tremaining: 1.22s\n",
      "531:\tlearn: 0.0278108\ttotal: 1.38s\tremaining: 1.21s\n",
      "532:\tlearn: 0.0278107\ttotal: 1.38s\tremaining: 1.21s\n",
      "533:\tlearn: 0.0277973\ttotal: 1.38s\tremaining: 1.21s\n",
      "534:\tlearn: 0.0277505\ttotal: 1.39s\tremaining: 1.21s\n",
      "535:\tlearn: 0.0277376\ttotal: 1.39s\tremaining: 1.2s\n",
      "536:\tlearn: 0.0277213\ttotal: 1.39s\tremaining: 1.2s\n",
      "537:\tlearn: 0.0276906\ttotal: 1.39s\tremaining: 1.2s\n",
      "538:\tlearn: 0.0276736\ttotal: 1.4s\tremaining: 1.2s\n",
      "539:\tlearn: 0.0276546\ttotal: 1.4s\tremaining: 1.19s\n",
      "540:\tlearn: 0.0276545\ttotal: 1.4s\tremaining: 1.19s\n",
      "541:\tlearn: 0.0276230\ttotal: 1.4s\tremaining: 1.19s\n",
      "542:\tlearn: 0.0275952\ttotal: 1.41s\tremaining: 1.18s\n",
      "543:\tlearn: 0.0275801\ttotal: 1.41s\tremaining: 1.18s\n",
      "544:\tlearn: 0.0275523\ttotal: 1.41s\tremaining: 1.18s\n",
      "545:\tlearn: 0.0275116\ttotal: 1.41s\tremaining: 1.18s\n",
      "546:\tlearn: 0.0275110\ttotal: 1.42s\tremaining: 1.17s\n",
      "547:\tlearn: 0.0274838\ttotal: 1.42s\tremaining: 1.17s\n",
      "548:\tlearn: 0.0274730\ttotal: 1.42s\tremaining: 1.17s\n",
      "549:\tlearn: 0.0274373\ttotal: 1.42s\tremaining: 1.17s\n",
      "550:\tlearn: 0.0274372\ttotal: 1.43s\tremaining: 1.16s\n",
      "551:\tlearn: 0.0274062\ttotal: 1.43s\tremaining: 1.16s\n",
      "552:\tlearn: 0.0273534\ttotal: 1.43s\tremaining: 1.16s\n",
      "553:\tlearn: 0.0273206\ttotal: 1.43s\tremaining: 1.15s\n",
      "554:\tlearn: 0.0273206\ttotal: 1.44s\tremaining: 1.15s\n",
      "555:\tlearn: 0.0272855\ttotal: 1.44s\tremaining: 1.15s\n",
      "556:\tlearn: 0.0272855\ttotal: 1.44s\tremaining: 1.15s\n",
      "557:\tlearn: 0.0272748\ttotal: 1.44s\tremaining: 1.14s\n",
      "558:\tlearn: 0.0272470\ttotal: 1.45s\tremaining: 1.14s\n",
      "559:\tlearn: 0.0272083\ttotal: 1.45s\tremaining: 1.14s\n",
      "560:\tlearn: 0.0271917\ttotal: 1.45s\tremaining: 1.14s\n",
      "561:\tlearn: 0.0271917\ttotal: 1.45s\tremaining: 1.13s\n",
      "562:\tlearn: 0.0271917\ttotal: 1.45s\tremaining: 1.13s\n",
      "563:\tlearn: 0.0271917\ttotal: 1.46s\tremaining: 1.13s\n",
      "564:\tlearn: 0.0271842\ttotal: 1.46s\tremaining: 1.12s\n",
      "565:\tlearn: 0.0271671\ttotal: 1.46s\tremaining: 1.12s\n",
      "566:\tlearn: 0.0271555\ttotal: 1.47s\tremaining: 1.12s\n",
      "567:\tlearn: 0.0271357\ttotal: 1.47s\tremaining: 1.12s\n",
      "568:\tlearn: 0.0271357\ttotal: 1.47s\tremaining: 1.11s\n",
      "569:\tlearn: 0.0271357\ttotal: 1.47s\tremaining: 1.11s\n",
      "570:\tlearn: 0.0271353\ttotal: 1.47s\tremaining: 1.11s\n",
      "571:\tlearn: 0.0271235\ttotal: 1.48s\tremaining: 1.1s\n",
      "572:\tlearn: 0.0270982\ttotal: 1.48s\tremaining: 1.1s\n",
      "573:\tlearn: 0.0270760\ttotal: 1.48s\tremaining: 1.1s\n",
      "574:\tlearn: 0.0270563\ttotal: 1.49s\tremaining: 1.1s\n",
      "575:\tlearn: 0.0270136\ttotal: 1.49s\tremaining: 1.09s\n",
      "576:\tlearn: 0.0270136\ttotal: 1.49s\tremaining: 1.09s\n",
      "577:\tlearn: 0.0269878\ttotal: 1.49s\tremaining: 1.09s\n",
      "578:\tlearn: 0.0269877\ttotal: 1.49s\tremaining: 1.09s\n",
      "579:\tlearn: 0.0269693\ttotal: 1.5s\tremaining: 1.08s\n",
      "580:\tlearn: 0.0269692\ttotal: 1.5s\tremaining: 1.08s\n",
      "581:\tlearn: 0.0269692\ttotal: 1.5s\tremaining: 1.08s\n",
      "582:\tlearn: 0.0269530\ttotal: 1.5s\tremaining: 1.07s\n",
      "583:\tlearn: 0.0269254\ttotal: 1.5s\tremaining: 1.07s\n",
      "584:\tlearn: 0.0269048\ttotal: 1.51s\tremaining: 1.07s\n",
      "585:\tlearn: 0.0268663\ttotal: 1.51s\tremaining: 1.07s\n",
      "586:\tlearn: 0.0268445\ttotal: 1.51s\tremaining: 1.06s\n",
      "587:\tlearn: 0.0268312\ttotal: 1.51s\tremaining: 1.06s\n",
      "588:\tlearn: 0.0267913\ttotal: 1.52s\tremaining: 1.06s\n",
      "589:\tlearn: 0.0267749\ttotal: 1.52s\tremaining: 1.06s\n",
      "590:\tlearn: 0.0267534\ttotal: 1.52s\tremaining: 1.05s\n",
      "591:\tlearn: 0.0267123\ttotal: 1.52s\tremaining: 1.05s\n",
      "592:\tlearn: 0.0266789\ttotal: 1.53s\tremaining: 1.05s\n",
      "593:\tlearn: 0.0266143\ttotal: 1.53s\tremaining: 1.05s\n",
      "594:\tlearn: 0.0266028\ttotal: 1.53s\tremaining: 1.04s\n",
      "595:\tlearn: 0.0265914\ttotal: 1.54s\tremaining: 1.04s\n",
      "596:\tlearn: 0.0265822\ttotal: 1.54s\tremaining: 1.04s\n",
      "597:\tlearn: 0.0265820\ttotal: 1.54s\tremaining: 1.03s\n",
      "598:\tlearn: 0.0265718\ttotal: 1.54s\tremaining: 1.03s\n",
      "599:\tlearn: 0.0265678\ttotal: 1.55s\tremaining: 1.03s\n",
      "600:\tlearn: 0.0265548\ttotal: 1.55s\tremaining: 1.03s\n",
      "601:\tlearn: 0.0265547\ttotal: 1.55s\tremaining: 1.02s\n",
      "602:\tlearn: 0.0265386\ttotal: 1.55s\tremaining: 1.02s\n",
      "603:\tlearn: 0.0265146\ttotal: 1.56s\tremaining: 1.02s\n",
      "604:\tlearn: 0.0264929\ttotal: 1.56s\tremaining: 1.02s\n",
      "605:\tlearn: 0.0264716\ttotal: 1.56s\tremaining: 1.01s\n",
      "606:\tlearn: 0.0264715\ttotal: 1.56s\tremaining: 1.01s\n",
      "607:\tlearn: 0.0264555\ttotal: 1.56s\tremaining: 1.01s\n",
      "608:\tlearn: 0.0264403\ttotal: 1.57s\tremaining: 1.01s\n",
      "609:\tlearn: 0.0264234\ttotal: 1.57s\tremaining: 1s\n",
      "610:\tlearn: 0.0264234\ttotal: 1.57s\tremaining: 1s\n",
      "611:\tlearn: 0.0264233\ttotal: 1.57s\tremaining: 999ms\n",
      "612:\tlearn: 0.0264233\ttotal: 1.58s\tremaining: 996ms\n",
      "613:\tlearn: 0.0264210\ttotal: 1.58s\tremaining: 993ms\n",
      "614:\tlearn: 0.0264003\ttotal: 1.58s\tremaining: 990ms\n",
      "615:\tlearn: 0.0264003\ttotal: 1.58s\tremaining: 987ms\n",
      "616:\tlearn: 0.0263794\ttotal: 1.59s\tremaining: 985ms\n",
      "617:\tlearn: 0.0263627\ttotal: 1.59s\tremaining: 982ms\n",
      "618:\tlearn: 0.0263594\ttotal: 1.59s\tremaining: 979ms\n",
      "619:\tlearn: 0.0263505\ttotal: 1.59s\tremaining: 977ms\n",
      "620:\tlearn: 0.0263275\ttotal: 1.6s\tremaining: 975ms\n",
      "621:\tlearn: 0.0263104\ttotal: 1.6s\tremaining: 972ms\n",
      "622:\tlearn: 0.0262977\ttotal: 1.6s\tremaining: 969ms\n",
      "623:\tlearn: 0.0262934\ttotal: 1.6s\tremaining: 966ms\n",
      "624:\tlearn: 0.0262811\ttotal: 1.6s\tremaining: 963ms\n",
      "625:\tlearn: 0.0262811\ttotal: 1.61s\tremaining: 960ms\n",
      "626:\tlearn: 0.0262506\ttotal: 1.61s\tremaining: 958ms\n",
      "627:\tlearn: 0.0262506\ttotal: 1.61s\tremaining: 955ms\n",
      "628:\tlearn: 0.0262506\ttotal: 1.61s\tremaining: 952ms\n",
      "629:\tlearn: 0.0262405\ttotal: 1.62s\tremaining: 949ms\n",
      "630:\tlearn: 0.0262211\ttotal: 1.62s\tremaining: 947ms\n",
      "631:\tlearn: 0.0262032\ttotal: 1.62s\tremaining: 944ms\n",
      "632:\tlearn: 0.0262032\ttotal: 1.62s\tremaining: 941ms\n",
      "633:\tlearn: 0.0261838\ttotal: 1.63s\tremaining: 938ms\n",
      "634:\tlearn: 0.0261838\ttotal: 1.63s\tremaining: 935ms\n",
      "635:\tlearn: 0.0261447\ttotal: 1.63s\tremaining: 932ms\n",
      "636:\tlearn: 0.0261279\ttotal: 1.63s\tremaining: 930ms\n",
      "637:\tlearn: 0.0260659\ttotal: 1.63s\tremaining: 928ms\n",
      "638:\tlearn: 0.0260311\ttotal: 1.64s\tremaining: 925ms\n",
      "639:\tlearn: 0.0259942\ttotal: 1.64s\tremaining: 922ms\n",
      "640:\tlearn: 0.0259507\ttotal: 1.64s\tremaining: 920ms\n",
      "641:\tlearn: 0.0259503\ttotal: 1.64s\tremaining: 917ms\n",
      "642:\tlearn: 0.0259394\ttotal: 1.65s\tremaining: 914ms\n",
      "643:\tlearn: 0.0259394\ttotal: 1.65s\tremaining: 911ms\n",
      "644:\tlearn: 0.0259230\ttotal: 1.65s\tremaining: 909ms\n",
      "645:\tlearn: 0.0259226\ttotal: 1.65s\tremaining: 906ms\n",
      "646:\tlearn: 0.0259086\ttotal: 1.66s\tremaining: 904ms\n",
      "647:\tlearn: 0.0258893\ttotal: 1.66s\tremaining: 902ms\n",
      "648:\tlearn: 0.0258745\ttotal: 1.66s\tremaining: 899ms\n",
      "649:\tlearn: 0.0258624\ttotal: 1.66s\tremaining: 896ms\n",
      "650:\tlearn: 0.0258277\ttotal: 1.67s\tremaining: 893ms\n",
      "651:\tlearn: 0.0257918\ttotal: 1.67s\tremaining: 890ms\n",
      "652:\tlearn: 0.0257918\ttotal: 1.67s\tremaining: 887ms\n",
      "653:\tlearn: 0.0257535\ttotal: 1.67s\tremaining: 885ms\n",
      "654:\tlearn: 0.0257100\ttotal: 1.68s\tremaining: 882ms\n",
      "655:\tlearn: 0.0257100\ttotal: 1.68s\tremaining: 880ms\n",
      "656:\tlearn: 0.0257020\ttotal: 1.68s\tremaining: 877ms\n",
      "657:\tlearn: 0.0256859\ttotal: 1.68s\tremaining: 875ms\n",
      "658:\tlearn: 0.0256858\ttotal: 1.69s\tremaining: 872ms\n",
      "659:\tlearn: 0.0256554\ttotal: 1.69s\tremaining: 869ms\n",
      "660:\tlearn: 0.0256554\ttotal: 1.69s\tremaining: 866ms\n",
      "661:\tlearn: 0.0256554\ttotal: 1.69s\tremaining: 863ms\n",
      "662:\tlearn: 0.0256554\ttotal: 1.69s\tremaining: 861ms\n",
      "663:\tlearn: 0.0256554\ttotal: 1.7s\tremaining: 858ms\n",
      "664:\tlearn: 0.0256554\ttotal: 1.7s\tremaining: 856ms\n",
      "665:\tlearn: 0.0256410\ttotal: 1.7s\tremaining: 854ms\n",
      "666:\tlearn: 0.0256409\ttotal: 1.7s\tremaining: 851ms\n",
      "667:\tlearn: 0.0256409\ttotal: 1.71s\tremaining: 848ms\n",
      "668:\tlearn: 0.0256405\ttotal: 1.71s\tremaining: 845ms\n",
      "669:\tlearn: 0.0256402\ttotal: 1.71s\tremaining: 842ms\n",
      "670:\tlearn: 0.0256341\ttotal: 1.71s\tremaining: 840ms\n",
      "671:\tlearn: 0.0256340\ttotal: 1.71s\tremaining: 837ms\n",
      "672:\tlearn: 0.0256340\ttotal: 1.72s\tremaining: 834ms\n",
      "673:\tlearn: 0.0256340\ttotal: 1.72s\tremaining: 832ms\n",
      "674:\tlearn: 0.0256341\ttotal: 1.72s\tremaining: 829ms\n",
      "675:\tlearn: 0.0256340\ttotal: 1.72s\tremaining: 826ms\n",
      "676:\tlearn: 0.0256212\ttotal: 1.73s\tremaining: 824ms\n",
      "677:\tlearn: 0.0256175\ttotal: 1.73s\tremaining: 821ms\n",
      "678:\tlearn: 0.0256062\ttotal: 1.73s\tremaining: 818ms\n",
      "679:\tlearn: 0.0255903\ttotal: 1.73s\tremaining: 816ms\n",
      "680:\tlearn: 0.0255902\ttotal: 1.74s\tremaining: 813ms\n",
      "681:\tlearn: 0.0255652\ttotal: 1.74s\tremaining: 811ms\n",
      "682:\tlearn: 0.0255530\ttotal: 1.74s\tremaining: 808ms\n",
      "683:\tlearn: 0.0255364\ttotal: 1.74s\tremaining: 806ms\n",
      "684:\tlearn: 0.0255109\ttotal: 1.75s\tremaining: 803ms\n",
      "685:\tlearn: 0.0255052\ttotal: 1.75s\tremaining: 800ms\n",
      "686:\tlearn: 0.0254908\ttotal: 1.75s\tremaining: 797ms\n",
      "687:\tlearn: 0.0254868\ttotal: 1.75s\tremaining: 795ms\n",
      "688:\tlearn: 0.0254851\ttotal: 1.75s\tremaining: 792ms\n",
      "689:\tlearn: 0.0254850\ttotal: 1.76s\tremaining: 789ms\n",
      "690:\tlearn: 0.0254850\ttotal: 1.76s\tremaining: 787ms\n",
      "691:\tlearn: 0.0254850\ttotal: 1.76s\tremaining: 784ms\n",
      "692:\tlearn: 0.0254850\ttotal: 1.76s\tremaining: 782ms\n",
      "693:\tlearn: 0.0254849\ttotal: 1.77s\tremaining: 779ms\n",
      "694:\tlearn: 0.0254782\ttotal: 1.77s\tremaining: 776ms\n",
      "695:\tlearn: 0.0254732\ttotal: 1.77s\tremaining: 773ms\n",
      "696:\tlearn: 0.0254529\ttotal: 1.77s\tremaining: 771ms\n",
      "697:\tlearn: 0.0254256\ttotal: 1.77s\tremaining: 768ms\n",
      "698:\tlearn: 0.0253999\ttotal: 1.78s\tremaining: 766ms\n",
      "699:\tlearn: 0.0253999\ttotal: 1.78s\tremaining: 763ms\n",
      "700:\tlearn: 0.0253998\ttotal: 1.78s\tremaining: 760ms\n",
      "701:\tlearn: 0.0253997\ttotal: 1.78s\tremaining: 758ms\n",
      "702:\tlearn: 0.0253997\ttotal: 1.79s\tremaining: 755ms\n",
      "703:\tlearn: 0.0253733\ttotal: 1.79s\tremaining: 752ms\n",
      "704:\tlearn: 0.0253579\ttotal: 1.79s\tremaining: 749ms\n",
      "705:\tlearn: 0.0253419\ttotal: 1.79s\tremaining: 747ms\n",
      "706:\tlearn: 0.0253418\ttotal: 1.8s\tremaining: 745ms\n",
      "707:\tlearn: 0.0253418\ttotal: 1.8s\tremaining: 742ms\n",
      "708:\tlearn: 0.0253418\ttotal: 1.8s\tremaining: 740ms\n",
      "709:\tlearn: 0.0253417\ttotal: 1.8s\tremaining: 737ms\n",
      "710:\tlearn: 0.0253415\ttotal: 1.8s\tremaining: 734ms\n",
      "711:\tlearn: 0.0253415\ttotal: 1.81s\tremaining: 731ms\n",
      "712:\tlearn: 0.0253414\ttotal: 1.81s\tremaining: 729ms\n",
      "713:\tlearn: 0.0253414\ttotal: 1.81s\tremaining: 726ms\n",
      "714:\tlearn: 0.0253414\ttotal: 1.81s\tremaining: 723ms\n",
      "715:\tlearn: 0.0253414\ttotal: 1.81s\tremaining: 720ms\n",
      "716:\tlearn: 0.0253414\ttotal: 1.82s\tremaining: 718ms\n",
      "717:\tlearn: 0.0253413\ttotal: 1.82s\tremaining: 715ms\n",
      "718:\tlearn: 0.0253413\ttotal: 1.82s\tremaining: 713ms\n",
      "719:\tlearn: 0.0253413\ttotal: 1.82s\tremaining: 710ms\n",
      "720:\tlearn: 0.0253413\ttotal: 1.83s\tremaining: 707ms\n",
      "721:\tlearn: 0.0253299\ttotal: 1.83s\tremaining: 704ms\n",
      "722:\tlearn: 0.0253299\ttotal: 1.83s\tremaining: 702ms\n",
      "723:\tlearn: 0.0253213\ttotal: 1.83s\tremaining: 699ms\n",
      "724:\tlearn: 0.0253213\ttotal: 1.83s\tremaining: 696ms\n",
      "725:\tlearn: 0.0253213\ttotal: 1.84s\tremaining: 694ms\n",
      "726:\tlearn: 0.0253210\ttotal: 1.84s\tremaining: 692ms\n",
      "727:\tlearn: 0.0253209\ttotal: 1.84s\tremaining: 689ms\n",
      "728:\tlearn: 0.0253208\ttotal: 1.85s\tremaining: 686ms\n",
      "729:\tlearn: 0.0253076\ttotal: 1.85s\tremaining: 684ms\n",
      "730:\tlearn: 0.0253037\ttotal: 1.85s\tremaining: 681ms\n",
      "731:\tlearn: 0.0252795\ttotal: 1.85s\tremaining: 678ms\n",
      "732:\tlearn: 0.0252616\ttotal: 1.85s\tremaining: 676ms\n",
      "733:\tlearn: 0.0252356\ttotal: 1.86s\tremaining: 674ms\n",
      "734:\tlearn: 0.0252356\ttotal: 1.86s\tremaining: 671ms\n",
      "735:\tlearn: 0.0252186\ttotal: 1.86s\tremaining: 668ms\n",
      "736:\tlearn: 0.0252078\ttotal: 1.86s\tremaining: 666ms\n",
      "737:\tlearn: 0.0252077\ttotal: 1.87s\tremaining: 663ms\n",
      "738:\tlearn: 0.0252077\ttotal: 1.87s\tremaining: 661ms\n",
      "739:\tlearn: 0.0252074\ttotal: 1.87s\tremaining: 658ms\n",
      "740:\tlearn: 0.0252074\ttotal: 1.88s\tremaining: 655ms\n",
      "741:\tlearn: 0.0252074\ttotal: 1.88s\tremaining: 653ms\n",
      "742:\tlearn: 0.0252074\ttotal: 1.88s\tremaining: 650ms\n",
      "743:\tlearn: 0.0252074\ttotal: 1.88s\tremaining: 647ms\n",
      "744:\tlearn: 0.0252074\ttotal: 1.88s\tremaining: 645ms\n",
      "745:\tlearn: 0.0252074\ttotal: 1.89s\tremaining: 642ms\n",
      "746:\tlearn: 0.0252073\ttotal: 1.89s\tremaining: 640ms\n",
      "747:\tlearn: 0.0251936\ttotal: 1.89s\tremaining: 637ms\n",
      "748:\tlearn: 0.0251508\ttotal: 1.89s\tremaining: 635ms\n",
      "749:\tlearn: 0.0251037\ttotal: 1.9s\tremaining: 632ms\n",
      "750:\tlearn: 0.0250881\ttotal: 1.9s\tremaining: 629ms\n",
      "751:\tlearn: 0.0250509\ttotal: 1.9s\tremaining: 627ms\n",
      "752:\tlearn: 0.0250298\ttotal: 1.9s\tremaining: 624ms\n",
      "753:\tlearn: 0.0249813\ttotal: 1.9s\tremaining: 621ms\n",
      "754:\tlearn: 0.0249692\ttotal: 1.91s\tremaining: 619ms\n",
      "755:\tlearn: 0.0249570\ttotal: 1.91s\tremaining: 617ms\n",
      "756:\tlearn: 0.0249567\ttotal: 1.91s\tremaining: 614ms\n",
      "757:\tlearn: 0.0249567\ttotal: 1.91s\tremaining: 611ms\n",
      "758:\tlearn: 0.0249566\ttotal: 1.92s\tremaining: 609ms\n",
      "759:\tlearn: 0.0249566\ttotal: 1.92s\tremaining: 606ms\n",
      "760:\tlearn: 0.0249566\ttotal: 1.92s\tremaining: 603ms\n",
      "761:\tlearn: 0.0249565\ttotal: 1.92s\tremaining: 601ms\n",
      "762:\tlearn: 0.0249565\ttotal: 1.92s\tremaining: 598ms\n",
      "763:\tlearn: 0.0249565\ttotal: 1.93s\tremaining: 595ms\n",
      "764:\tlearn: 0.0249564\ttotal: 1.93s\tremaining: 593ms\n",
      "765:\tlearn: 0.0249564\ttotal: 1.93s\tremaining: 591ms\n",
      "766:\tlearn: 0.0249564\ttotal: 1.94s\tremaining: 588ms\n",
      "767:\tlearn: 0.0249562\ttotal: 1.94s\tremaining: 585ms\n",
      "768:\tlearn: 0.0249562\ttotal: 1.94s\tremaining: 582ms\n",
      "769:\tlearn: 0.0249562\ttotal: 1.94s\tremaining: 580ms\n",
      "770:\tlearn: 0.0249561\ttotal: 1.94s\tremaining: 577ms\n",
      "771:\tlearn: 0.0249375\ttotal: 1.95s\tremaining: 575ms\n",
      "772:\tlearn: 0.0249374\ttotal: 1.95s\tremaining: 572ms\n",
      "773:\tlearn: 0.0249374\ttotal: 1.95s\tremaining: 570ms\n",
      "774:\tlearn: 0.0249343\ttotal: 1.95s\tremaining: 567ms\n",
      "775:\tlearn: 0.0249343\ttotal: 1.96s\tremaining: 565ms\n",
      "776:\tlearn: 0.0249343\ttotal: 1.96s\tremaining: 562ms\n",
      "777:\tlearn: 0.0249343\ttotal: 1.96s\tremaining: 559ms\n",
      "778:\tlearn: 0.0249341\ttotal: 1.96s\tremaining: 557ms\n",
      "779:\tlearn: 0.0249233\ttotal: 1.96s\tremaining: 554ms\n",
      "780:\tlearn: 0.0249233\ttotal: 1.97s\tremaining: 551ms\n",
      "781:\tlearn: 0.0249232\ttotal: 1.97s\tremaining: 549ms\n",
      "782:\tlearn: 0.0249232\ttotal: 1.97s\tremaining: 546ms\n",
      "783:\tlearn: 0.0249231\ttotal: 1.97s\tremaining: 544ms\n",
      "784:\tlearn: 0.0249231\ttotal: 1.98s\tremaining: 541ms\n",
      "785:\tlearn: 0.0249232\ttotal: 1.98s\tremaining: 539ms\n",
      "786:\tlearn: 0.0249231\ttotal: 1.98s\tremaining: 536ms\n",
      "787:\tlearn: 0.0249231\ttotal: 1.98s\tremaining: 533ms\n",
      "788:\tlearn: 0.0249230\ttotal: 1.98s\tremaining: 531ms\n",
      "789:\tlearn: 0.0249230\ttotal: 1.99s\tremaining: 528ms\n",
      "790:\tlearn: 0.0249230\ttotal: 1.99s\tremaining: 525ms\n",
      "791:\tlearn: 0.0249230\ttotal: 1.99s\tremaining: 523ms\n",
      "792:\tlearn: 0.0249107\ttotal: 1.99s\tremaining: 520ms\n",
      "793:\tlearn: 0.0249107\ttotal: 2s\tremaining: 518ms\n",
      "794:\tlearn: 0.0249106\ttotal: 2s\tremaining: 515ms\n",
      "795:\tlearn: 0.0249105\ttotal: 2s\tremaining: 513ms\n",
      "796:\tlearn: 0.0249105\ttotal: 2s\tremaining: 510ms\n",
      "797:\tlearn: 0.0249106\ttotal: 2s\tremaining: 507ms\n",
      "798:\tlearn: 0.0249105\ttotal: 2s\tremaining: 504ms\n",
      "799:\tlearn: 0.0249105\ttotal: 2.01s\tremaining: 502ms\n",
      "800:\tlearn: 0.0249105\ttotal: 2.01s\tremaining: 499ms\n",
      "801:\tlearn: 0.0249105\ttotal: 2.01s\tremaining: 497ms\n",
      "802:\tlearn: 0.0249105\ttotal: 2.01s\tremaining: 494ms\n",
      "803:\tlearn: 0.0249105\ttotal: 2.02s\tremaining: 491ms\n",
      "804:\tlearn: 0.0249079\ttotal: 2.02s\tremaining: 489ms\n",
      "805:\tlearn: 0.0249079\ttotal: 2.02s\tremaining: 486ms\n",
      "806:\tlearn: 0.0248925\ttotal: 2.02s\tremaining: 484ms\n",
      "807:\tlearn: 0.0248925\ttotal: 2.02s\tremaining: 481ms\n",
      "808:\tlearn: 0.0248925\ttotal: 2.03s\tremaining: 478ms\n",
      "809:\tlearn: 0.0248925\ttotal: 2.03s\tremaining: 476ms\n",
      "810:\tlearn: 0.0248812\ttotal: 2.03s\tremaining: 473ms\n",
      "811:\tlearn: 0.0248663\ttotal: 2.03s\tremaining: 471ms\n",
      "812:\tlearn: 0.0248662\ttotal: 2.04s\tremaining: 468ms\n",
      "813:\tlearn: 0.0248660\ttotal: 2.04s\tremaining: 466ms\n",
      "814:\tlearn: 0.0248660\ttotal: 2.04s\tremaining: 463ms\n",
      "815:\tlearn: 0.0248660\ttotal: 2.04s\tremaining: 460ms\n",
      "816:\tlearn: 0.0248659\ttotal: 2.04s\tremaining: 458ms\n",
      "817:\tlearn: 0.0248660\ttotal: 2.05s\tremaining: 456ms\n",
      "818:\tlearn: 0.0248659\ttotal: 2.05s\tremaining: 453ms\n",
      "819:\tlearn: 0.0248659\ttotal: 2.05s\tremaining: 450ms\n",
      "820:\tlearn: 0.0248625\ttotal: 2.05s\tremaining: 448ms\n",
      "821:\tlearn: 0.0248625\ttotal: 2.06s\tremaining: 445ms\n",
      "822:\tlearn: 0.0248625\ttotal: 2.06s\tremaining: 443ms\n",
      "823:\tlearn: 0.0248625\ttotal: 2.06s\tremaining: 440ms\n",
      "824:\tlearn: 0.0248624\ttotal: 2.06s\tremaining: 437ms\n",
      "825:\tlearn: 0.0248624\ttotal: 2.06s\tremaining: 435ms\n",
      "826:\tlearn: 0.0248624\ttotal: 2.07s\tremaining: 432ms\n",
      "827:\tlearn: 0.0248540\ttotal: 2.07s\tremaining: 430ms\n",
      "828:\tlearn: 0.0248539\ttotal: 2.07s\tremaining: 427ms\n",
      "829:\tlearn: 0.0248539\ttotal: 2.07s\tremaining: 425ms\n",
      "830:\tlearn: 0.0248539\ttotal: 2.07s\tremaining: 422ms\n",
      "831:\tlearn: 0.0248539\ttotal: 2.08s\tremaining: 419ms\n",
      "832:\tlearn: 0.0248539\ttotal: 2.08s\tremaining: 417ms\n",
      "833:\tlearn: 0.0248539\ttotal: 2.08s\tremaining: 414ms\n",
      "834:\tlearn: 0.0248538\ttotal: 2.08s\tremaining: 412ms\n",
      "835:\tlearn: 0.0248538\ttotal: 2.08s\tremaining: 409ms\n",
      "836:\tlearn: 0.0248538\ttotal: 2.09s\tremaining: 407ms\n",
      "837:\tlearn: 0.0248538\ttotal: 2.09s\tremaining: 404ms\n",
      "838:\tlearn: 0.0248537\ttotal: 2.09s\tremaining: 401ms\n",
      "839:\tlearn: 0.0248537\ttotal: 2.09s\tremaining: 399ms\n",
      "840:\tlearn: 0.0248538\ttotal: 2.1s\tremaining: 396ms\n",
      "841:\tlearn: 0.0248537\ttotal: 2.1s\tremaining: 394ms\n",
      "842:\tlearn: 0.0248537\ttotal: 2.1s\tremaining: 391ms\n",
      "843:\tlearn: 0.0248536\ttotal: 2.1s\tremaining: 389ms\n",
      "844:\tlearn: 0.0248536\ttotal: 2.1s\tremaining: 386ms\n",
      "845:\tlearn: 0.0248536\ttotal: 2.11s\tremaining: 384ms\n",
      "846:\tlearn: 0.0248536\ttotal: 2.11s\tremaining: 381ms\n",
      "847:\tlearn: 0.0248536\ttotal: 2.11s\tremaining: 379ms\n",
      "848:\tlearn: 0.0248535\ttotal: 2.11s\tremaining: 376ms\n",
      "849:\tlearn: 0.0248535\ttotal: 2.12s\tremaining: 373ms\n",
      "850:\tlearn: 0.0248534\ttotal: 2.12s\tremaining: 371ms\n",
      "851:\tlearn: 0.0248534\ttotal: 2.12s\tremaining: 368ms\n",
      "852:\tlearn: 0.0248533\ttotal: 2.12s\tremaining: 366ms\n",
      "853:\tlearn: 0.0248534\ttotal: 2.12s\tremaining: 363ms\n",
      "854:\tlearn: 0.0248533\ttotal: 2.13s\tremaining: 361ms\n",
      "855:\tlearn: 0.0248532\ttotal: 2.13s\tremaining: 358ms\n",
      "856:\tlearn: 0.0248533\ttotal: 2.13s\tremaining: 356ms\n",
      "857:\tlearn: 0.0248532\ttotal: 2.13s\tremaining: 353ms\n",
      "858:\tlearn: 0.0248532\ttotal: 2.14s\tremaining: 351ms\n",
      "859:\tlearn: 0.0248532\ttotal: 2.14s\tremaining: 348ms\n",
      "860:\tlearn: 0.0248532\ttotal: 2.14s\tremaining: 345ms\n",
      "861:\tlearn: 0.0248332\ttotal: 2.14s\tremaining: 343ms\n",
      "862:\tlearn: 0.0248332\ttotal: 2.14s\tremaining: 340ms\n",
      "863:\tlearn: 0.0248203\ttotal: 2.15s\tremaining: 338ms\n",
      "864:\tlearn: 0.0248183\ttotal: 2.15s\tremaining: 335ms\n",
      "865:\tlearn: 0.0247978\ttotal: 2.15s\tremaining: 333ms\n",
      "866:\tlearn: 0.0247848\ttotal: 2.15s\tremaining: 330ms\n",
      "867:\tlearn: 0.0247847\ttotal: 2.15s\tremaining: 328ms\n",
      "868:\tlearn: 0.0247848\ttotal: 2.16s\tremaining: 325ms\n",
      "869:\tlearn: 0.0247847\ttotal: 2.16s\tremaining: 323ms\n",
      "870:\tlearn: 0.0247847\ttotal: 2.16s\tremaining: 320ms\n",
      "871:\tlearn: 0.0247846\ttotal: 2.16s\tremaining: 317ms\n",
      "872:\tlearn: 0.0247847\ttotal: 2.16s\tremaining: 315ms\n",
      "873:\tlearn: 0.0247846\ttotal: 2.17s\tremaining: 312ms\n",
      "874:\tlearn: 0.0247847\ttotal: 2.17s\tremaining: 310ms\n",
      "875:\tlearn: 0.0247846\ttotal: 2.17s\tremaining: 307ms\n",
      "876:\tlearn: 0.0247846\ttotal: 2.17s\tremaining: 305ms\n",
      "877:\tlearn: 0.0247846\ttotal: 2.18s\tremaining: 302ms\n",
      "878:\tlearn: 0.0247845\ttotal: 2.18s\tremaining: 300ms\n",
      "879:\tlearn: 0.0247845\ttotal: 2.18s\tremaining: 297ms\n",
      "880:\tlearn: 0.0247845\ttotal: 2.18s\tremaining: 295ms\n",
      "881:\tlearn: 0.0247843\ttotal: 2.18s\tremaining: 292ms\n",
      "882:\tlearn: 0.0247843\ttotal: 2.19s\tremaining: 290ms\n",
      "883:\tlearn: 0.0247842\ttotal: 2.19s\tremaining: 287ms\n",
      "884:\tlearn: 0.0247843\ttotal: 2.19s\tremaining: 284ms\n",
      "885:\tlearn: 0.0247843\ttotal: 2.19s\tremaining: 282ms\n",
      "886:\tlearn: 0.0247843\ttotal: 2.19s\tremaining: 280ms\n",
      "887:\tlearn: 0.0247843\ttotal: 2.2s\tremaining: 277ms\n",
      "888:\tlearn: 0.0247840\ttotal: 2.2s\tremaining: 275ms\n",
      "889:\tlearn: 0.0247840\ttotal: 2.2s\tremaining: 272ms\n",
      "890:\tlearn: 0.0247840\ttotal: 2.2s\tremaining: 269ms\n",
      "891:\tlearn: 0.0247839\ttotal: 2.2s\tremaining: 267ms\n",
      "892:\tlearn: 0.0247840\ttotal: 2.21s\tremaining: 264ms\n",
      "893:\tlearn: 0.0247839\ttotal: 2.21s\tremaining: 262ms\n",
      "894:\tlearn: 0.0247839\ttotal: 2.21s\tremaining: 259ms\n",
      "895:\tlearn: 0.0247840\ttotal: 2.21s\tremaining: 257ms\n",
      "896:\tlearn: 0.0247838\ttotal: 2.21s\tremaining: 254ms\n",
      "897:\tlearn: 0.0247780\ttotal: 2.22s\tremaining: 252ms\n",
      "898:\tlearn: 0.0247603\ttotal: 2.22s\tremaining: 249ms\n",
      "899:\tlearn: 0.0247603\ttotal: 2.22s\tremaining: 247ms\n",
      "900:\tlearn: 0.0247310\ttotal: 2.22s\tremaining: 244ms\n",
      "901:\tlearn: 0.0247310\ttotal: 2.23s\tremaining: 242ms\n",
      "902:\tlearn: 0.0247310\ttotal: 2.23s\tremaining: 239ms\n",
      "903:\tlearn: 0.0247310\ttotal: 2.23s\tremaining: 237ms\n",
      "904:\tlearn: 0.0247310\ttotal: 2.23s\tremaining: 234ms\n",
      "905:\tlearn: 0.0247309\ttotal: 2.23s\tremaining: 232ms\n",
      "906:\tlearn: 0.0247309\ttotal: 2.23s\tremaining: 229ms\n",
      "907:\tlearn: 0.0247307\ttotal: 2.24s\tremaining: 227ms\n",
      "908:\tlearn: 0.0247305\ttotal: 2.24s\tremaining: 224ms\n",
      "909:\tlearn: 0.0247305\ttotal: 2.24s\tremaining: 222ms\n",
      "910:\tlearn: 0.0247305\ttotal: 2.24s\tremaining: 219ms\n",
      "911:\tlearn: 0.0247305\ttotal: 2.25s\tremaining: 217ms\n",
      "912:\tlearn: 0.0247305\ttotal: 2.25s\tremaining: 214ms\n",
      "913:\tlearn: 0.0247305\ttotal: 2.25s\tremaining: 212ms\n",
      "914:\tlearn: 0.0247117\ttotal: 2.25s\tremaining: 209ms\n",
      "915:\tlearn: 0.0247116\ttotal: 2.25s\tremaining: 207ms\n",
      "916:\tlearn: 0.0247117\ttotal: 2.26s\tremaining: 204ms\n",
      "917:\tlearn: 0.0247114\ttotal: 2.26s\tremaining: 202ms\n",
      "918:\tlearn: 0.0247113\ttotal: 2.26s\tremaining: 199ms\n",
      "919:\tlearn: 0.0247113\ttotal: 2.26s\tremaining: 197ms\n",
      "920:\tlearn: 0.0247113\ttotal: 2.27s\tremaining: 194ms\n",
      "921:\tlearn: 0.0247113\ttotal: 2.27s\tremaining: 192ms\n",
      "922:\tlearn: 0.0247113\ttotal: 2.27s\tremaining: 189ms\n",
      "923:\tlearn: 0.0247110\ttotal: 2.27s\tremaining: 187ms\n",
      "924:\tlearn: 0.0247109\ttotal: 2.28s\tremaining: 185ms\n",
      "925:\tlearn: 0.0247109\ttotal: 2.28s\tremaining: 182ms\n",
      "926:\tlearn: 0.0247109\ttotal: 2.28s\tremaining: 180ms\n",
      "927:\tlearn: 0.0247108\ttotal: 2.28s\tremaining: 177ms\n",
      "928:\tlearn: 0.0247107\ttotal: 2.29s\tremaining: 175ms\n",
      "929:\tlearn: 0.0247107\ttotal: 2.29s\tremaining: 172ms\n",
      "930:\tlearn: 0.0247106\ttotal: 2.29s\tremaining: 170ms\n",
      "931:\tlearn: 0.0247105\ttotal: 2.29s\tremaining: 167ms\n",
      "932:\tlearn: 0.0247105\ttotal: 2.29s\tremaining: 165ms\n",
      "933:\tlearn: 0.0247104\ttotal: 2.3s\tremaining: 162ms\n",
      "934:\tlearn: 0.0247104\ttotal: 2.3s\tremaining: 160ms\n",
      "935:\tlearn: 0.0247104\ttotal: 2.3s\tremaining: 157ms\n",
      "936:\tlearn: 0.0247105\ttotal: 2.3s\tremaining: 155ms\n",
      "937:\tlearn: 0.0247102\ttotal: 2.3s\tremaining: 152ms\n",
      "938:\tlearn: 0.0247102\ttotal: 2.31s\tremaining: 150ms\n",
      "939:\tlearn: 0.0247037\ttotal: 2.31s\tremaining: 147ms\n",
      "940:\tlearn: 0.0246897\ttotal: 2.31s\tremaining: 145ms\n",
      "941:\tlearn: 0.0246896\ttotal: 2.31s\tremaining: 142ms\n",
      "942:\tlearn: 0.0246896\ttotal: 2.31s\tremaining: 140ms\n",
      "943:\tlearn: 0.0246896\ttotal: 2.32s\tremaining: 138ms\n",
      "944:\tlearn: 0.0246896\ttotal: 2.32s\tremaining: 135ms\n",
      "945:\tlearn: 0.0246896\ttotal: 2.32s\tremaining: 133ms\n",
      "946:\tlearn: 0.0246896\ttotal: 2.32s\tremaining: 130ms\n",
      "947:\tlearn: 0.0246896\ttotal: 2.33s\tremaining: 128ms\n",
      "948:\tlearn: 0.0246896\ttotal: 2.33s\tremaining: 125ms\n",
      "949:\tlearn: 0.0246896\ttotal: 2.33s\tremaining: 123ms\n",
      "950:\tlearn: 0.0246896\ttotal: 2.33s\tremaining: 120ms\n",
      "951:\tlearn: 0.0246895\ttotal: 2.33s\tremaining: 118ms\n",
      "952:\tlearn: 0.0246895\ttotal: 2.34s\tremaining: 115ms\n",
      "953:\tlearn: 0.0246894\ttotal: 2.34s\tremaining: 113ms\n",
      "954:\tlearn: 0.0246894\ttotal: 2.34s\tremaining: 110ms\n",
      "955:\tlearn: 0.0246894\ttotal: 2.34s\tremaining: 108ms\n",
      "956:\tlearn: 0.0246893\ttotal: 2.34s\tremaining: 105ms\n",
      "957:\tlearn: 0.0246893\ttotal: 2.35s\tremaining: 103ms\n",
      "958:\tlearn: 0.0246893\ttotal: 2.35s\tremaining: 100ms\n",
      "959:\tlearn: 0.0246893\ttotal: 2.35s\tremaining: 97.9ms\n",
      "960:\tlearn: 0.0246892\ttotal: 2.35s\tremaining: 95.4ms\n",
      "961:\tlearn: 0.0246892\ttotal: 2.35s\tremaining: 93ms\n",
      "962:\tlearn: 0.0246892\ttotal: 2.36s\tremaining: 90.5ms\n",
      "963:\tlearn: 0.0246891\ttotal: 2.36s\tremaining: 88.1ms\n",
      "964:\tlearn: 0.0246891\ttotal: 2.36s\tremaining: 85.6ms\n",
      "965:\tlearn: 0.0246891\ttotal: 2.36s\tremaining: 83.2ms\n",
      "966:\tlearn: 0.0246891\ttotal: 2.36s\tremaining: 80.7ms\n",
      "967:\tlearn: 0.0246890\ttotal: 2.37s\tremaining: 78.2ms\n",
      "968:\tlearn: 0.0246890\ttotal: 2.37s\tremaining: 75.8ms\n",
      "969:\tlearn: 0.0246891\ttotal: 2.37s\tremaining: 73.3ms\n",
      "970:\tlearn: 0.0246890\ttotal: 2.37s\tremaining: 70.8ms\n",
      "971:\tlearn: 0.0246890\ttotal: 2.37s\tremaining: 68.4ms\n",
      "972:\tlearn: 0.0246632\ttotal: 2.38s\tremaining: 66ms\n",
      "973:\tlearn: 0.0246367\ttotal: 2.38s\tremaining: 63.5ms\n",
      "974:\tlearn: 0.0246246\ttotal: 2.38s\tremaining: 61.1ms\n",
      "975:\tlearn: 0.0246131\ttotal: 2.38s\tremaining: 58.6ms\n",
      "976:\tlearn: 0.0246131\ttotal: 2.39s\tremaining: 56.2ms\n",
      "977:\tlearn: 0.0246130\ttotal: 2.39s\tremaining: 53.7ms\n",
      "978:\tlearn: 0.0246129\ttotal: 2.39s\tremaining: 51.3ms\n",
      "979:\tlearn: 0.0246129\ttotal: 2.39s\tremaining: 48.8ms\n",
      "980:\tlearn: 0.0246128\ttotal: 2.39s\tremaining: 46.4ms\n",
      "981:\tlearn: 0.0246128\ttotal: 2.4s\tremaining: 43.9ms\n",
      "982:\tlearn: 0.0246128\ttotal: 2.4s\tremaining: 41.5ms\n",
      "983:\tlearn: 0.0246128\ttotal: 2.4s\tremaining: 39ms\n",
      "984:\tlearn: 0.0246128\ttotal: 2.4s\tremaining: 36.6ms\n",
      "985:\tlearn: 0.0246126\ttotal: 2.4s\tremaining: 34.1ms\n",
      "986:\tlearn: 0.0246126\ttotal: 2.41s\tremaining: 31.7ms\n",
      "987:\tlearn: 0.0246126\ttotal: 2.41s\tremaining: 29.3ms\n",
      "988:\tlearn: 0.0246126\ttotal: 2.41s\tremaining: 26.8ms\n",
      "989:\tlearn: 0.0246125\ttotal: 2.41s\tremaining: 24.4ms\n",
      "990:\tlearn: 0.0246125\ttotal: 2.41s\tremaining: 21.9ms\n",
      "991:\tlearn: 0.0246125\ttotal: 2.42s\tremaining: 19.5ms\n",
      "992:\tlearn: 0.0246125\ttotal: 2.42s\tremaining: 17ms\n",
      "993:\tlearn: 0.0246124\ttotal: 2.42s\tremaining: 14.6ms\n",
      "994:\tlearn: 0.0245995\ttotal: 2.42s\tremaining: 12.2ms\n",
      "995:\tlearn: 0.0245994\ttotal: 2.42s\tremaining: 9.74ms\n",
      "996:\tlearn: 0.0245995\ttotal: 2.43s\tremaining: 7.3ms\n",
      "997:\tlearn: 0.0245995\ttotal: 2.43s\tremaining: 4.87ms\n",
      "998:\tlearn: 0.0245994\ttotal: 2.43s\tremaining: 2.43ms\n",
      "999:\tlearn: 0.0245994\ttotal: 2.43s\tremaining: 0us\n",
      "0:\tlearn: 0.4501713\ttotal: 14.5ms\tremaining: 14.5s\n",
      "1:\tlearn: 0.3054036\ttotal: 17.3ms\tremaining: 8.65s\n",
      "2:\tlearn: 0.2484932\ttotal: 20ms\tremaining: 6.64s\n",
      "3:\tlearn: 0.2126684\ttotal: 22.8ms\tremaining: 5.67s\n",
      "4:\tlearn: 0.1893122\ttotal: 25ms\tremaining: 4.98s\n",
      "5:\tlearn: 0.1742628\ttotal: 27.1ms\tremaining: 4.49s\n",
      "6:\tlearn: 0.1673335\ttotal: 29.1ms\tremaining: 4.13s\n",
      "7:\tlearn: 0.1613100\ttotal: 31.2ms\tremaining: 3.87s\n",
      "8:\tlearn: 0.1535137\ttotal: 33.3ms\tremaining: 3.67s\n",
      "9:\tlearn: 0.1488816\ttotal: 36.4ms\tremaining: 3.61s\n",
      "10:\tlearn: 0.1421206\ttotal: 39ms\tremaining: 3.51s\n",
      "11:\tlearn: 0.1389417\ttotal: 41.5ms\tremaining: 3.42s\n",
      "12:\tlearn: 0.1347395\ttotal: 43.6ms\tremaining: 3.31s\n",
      "13:\tlearn: 0.1310185\ttotal: 45.5ms\tremaining: 3.21s\n",
      "14:\tlearn: 0.1274538\ttotal: 48.1ms\tremaining: 3.16s\n",
      "15:\tlearn: 0.1240928\ttotal: 51.2ms\tremaining: 3.15s\n",
      "16:\tlearn: 0.1209822\ttotal: 53.2ms\tremaining: 3.07s\n",
      "17:\tlearn: 0.1190487\ttotal: 55.2ms\tremaining: 3.01s\n",
      "18:\tlearn: 0.1172151\ttotal: 57.7ms\tremaining: 2.98s\n",
      "19:\tlearn: 0.1153427\ttotal: 60.6ms\tremaining: 2.97s\n",
      "20:\tlearn: 0.1133872\ttotal: 63.3ms\tremaining: 2.95s\n",
      "21:\tlearn: 0.1109772\ttotal: 65.5ms\tremaining: 2.91s\n",
      "22:\tlearn: 0.1095649\ttotal: 67.5ms\tremaining: 2.87s\n",
      "23:\tlearn: 0.1092314\ttotal: 69ms\tremaining: 2.81s\n",
      "24:\tlearn: 0.1076376\ttotal: 71ms\tremaining: 2.77s\n",
      "25:\tlearn: 0.1063318\ttotal: 73.6ms\tremaining: 2.76s\n",
      "26:\tlearn: 0.1048767\ttotal: 76ms\tremaining: 2.74s\n",
      "27:\tlearn: 0.1035818\ttotal: 78.1ms\tremaining: 2.71s\n",
      "28:\tlearn: 0.1016344\ttotal: 80.6ms\tremaining: 2.7s\n",
      "29:\tlearn: 0.1004652\ttotal: 82.8ms\tremaining: 2.68s\n",
      "30:\tlearn: 0.0985645\ttotal: 85ms\tremaining: 2.65s\n",
      "31:\tlearn: 0.0968659\ttotal: 87.6ms\tremaining: 2.65s\n",
      "32:\tlearn: 0.0956595\ttotal: 90ms\tremaining: 2.64s\n",
      "33:\tlearn: 0.0944003\ttotal: 92ms\tremaining: 2.61s\n",
      "34:\tlearn: 0.0934442\ttotal: 94ms\tremaining: 2.59s\n",
      "35:\tlearn: 0.0923780\ttotal: 96ms\tremaining: 2.57s\n",
      "36:\tlearn: 0.0917582\ttotal: 98.5ms\tremaining: 2.56s\n",
      "37:\tlearn: 0.0904585\ttotal: 101ms\tremaining: 2.56s\n",
      "38:\tlearn: 0.0894417\ttotal: 103ms\tremaining: 2.55s\n",
      "39:\tlearn: 0.0885546\ttotal: 106ms\tremaining: 2.53s\n",
      "40:\tlearn: 0.0868949\ttotal: 108ms\tremaining: 2.52s\n",
      "41:\tlearn: 0.0858490\ttotal: 110ms\tremaining: 2.5s\n",
      "42:\tlearn: 0.0842379\ttotal: 113ms\tremaining: 2.51s\n",
      "43:\tlearn: 0.0831241\ttotal: 115ms\tremaining: 2.51s\n",
      "44:\tlearn: 0.0817456\ttotal: 118ms\tremaining: 2.49s\n",
      "45:\tlearn: 0.0806408\ttotal: 121ms\tremaining: 2.5s\n",
      "46:\tlearn: 0.0794999\ttotal: 123ms\tremaining: 2.5s\n",
      "47:\tlearn: 0.0785629\ttotal: 126ms\tremaining: 2.49s\n",
      "48:\tlearn: 0.0779067\ttotal: 129ms\tremaining: 2.5s\n",
      "49:\tlearn: 0.0773732\ttotal: 131ms\tremaining: 2.49s\n",
      "50:\tlearn: 0.0765227\ttotal: 133ms\tremaining: 2.48s\n",
      "51:\tlearn: 0.0753601\ttotal: 135ms\tremaining: 2.46s\n",
      "52:\tlearn: 0.0747737\ttotal: 138ms\tremaining: 2.46s\n",
      "53:\tlearn: 0.0741456\ttotal: 140ms\tremaining: 2.45s\n",
      "54:\tlearn: 0.0734879\ttotal: 142ms\tremaining: 2.44s\n",
      "55:\tlearn: 0.0729160\ttotal: 144ms\tremaining: 2.43s\n",
      "56:\tlearn: 0.0720231\ttotal: 146ms\tremaining: 2.42s\n",
      "57:\tlearn: 0.0704180\ttotal: 150ms\tremaining: 2.43s\n",
      "58:\tlearn: 0.0699333\ttotal: 152ms\tremaining: 2.43s\n",
      "59:\tlearn: 0.0693761\ttotal: 154ms\tremaining: 2.42s\n",
      "60:\tlearn: 0.0684027\ttotal: 156ms\tremaining: 2.41s\n",
      "61:\tlearn: 0.0678948\ttotal: 158ms\tremaining: 2.4s\n",
      "62:\tlearn: 0.0670647\ttotal: 161ms\tremaining: 2.39s\n",
      "63:\tlearn: 0.0659802\ttotal: 164ms\tremaining: 2.4s\n",
      "64:\tlearn: 0.0653532\ttotal: 166ms\tremaining: 2.39s\n",
      "65:\tlearn: 0.0647401\ttotal: 169ms\tremaining: 2.39s\n",
      "66:\tlearn: 0.0643194\ttotal: 171ms\tremaining: 2.38s\n",
      "67:\tlearn: 0.0638889\ttotal: 173ms\tremaining: 2.37s\n",
      "68:\tlearn: 0.0635673\ttotal: 176ms\tremaining: 2.37s\n",
      "69:\tlearn: 0.0631249\ttotal: 178ms\tremaining: 2.36s\n",
      "70:\tlearn: 0.0626593\ttotal: 180ms\tremaining: 2.35s\n",
      "71:\tlearn: 0.0618420\ttotal: 182ms\tremaining: 2.34s\n",
      "72:\tlearn: 0.0612111\ttotal: 184ms\tremaining: 2.33s\n",
      "73:\tlearn: 0.0607191\ttotal: 186ms\tremaining: 2.32s\n",
      "74:\tlearn: 0.0600570\ttotal: 190ms\tremaining: 2.34s\n",
      "75:\tlearn: 0.0593868\ttotal: 192ms\tremaining: 2.34s\n",
      "76:\tlearn: 0.0588650\ttotal: 194ms\tremaining: 2.33s\n",
      "77:\tlearn: 0.0585855\ttotal: 196ms\tremaining: 2.32s\n",
      "78:\tlearn: 0.0583234\ttotal: 198ms\tremaining: 2.31s\n",
      "79:\tlearn: 0.0580778\ttotal: 201ms\tremaining: 2.31s\n",
      "80:\tlearn: 0.0578272\ttotal: 204ms\tremaining: 2.31s\n",
      "81:\tlearn: 0.0575435\ttotal: 206ms\tremaining: 2.31s\n",
      "82:\tlearn: 0.0571008\ttotal: 209ms\tremaining: 2.31s\n",
      "83:\tlearn: 0.0566234\ttotal: 213ms\tremaining: 2.32s\n",
      "84:\tlearn: 0.0561842\ttotal: 216ms\tremaining: 2.32s\n",
      "85:\tlearn: 0.0559040\ttotal: 218ms\tremaining: 2.32s\n",
      "86:\tlearn: 0.0556009\ttotal: 220ms\tremaining: 2.31s\n",
      "87:\tlearn: 0.0549666\ttotal: 223ms\tremaining: 2.31s\n",
      "88:\tlearn: 0.0547322\ttotal: 226ms\tremaining: 2.31s\n",
      "89:\tlearn: 0.0542691\ttotal: 229ms\tremaining: 2.31s\n",
      "90:\tlearn: 0.0539415\ttotal: 231ms\tremaining: 2.31s\n",
      "91:\tlearn: 0.0537256\ttotal: 234ms\tremaining: 2.31s\n",
      "92:\tlearn: 0.0532920\ttotal: 238ms\tremaining: 2.32s\n",
      "93:\tlearn: 0.0530803\ttotal: 240ms\tremaining: 2.31s\n",
      "94:\tlearn: 0.0528523\ttotal: 243ms\tremaining: 2.31s\n",
      "95:\tlearn: 0.0524413\ttotal: 245ms\tremaining: 2.31s\n",
      "96:\tlearn: 0.0520270\ttotal: 247ms\tremaining: 2.3s\n",
      "97:\tlearn: 0.0518168\ttotal: 250ms\tremaining: 2.3s\n",
      "98:\tlearn: 0.0515089\ttotal: 253ms\tremaining: 2.3s\n",
      "99:\tlearn: 0.0509829\ttotal: 255ms\tremaining: 2.29s\n",
      "100:\tlearn: 0.0507923\ttotal: 258ms\tremaining: 2.29s\n",
      "101:\tlearn: 0.0504561\ttotal: 260ms\tremaining: 2.29s\n",
      "102:\tlearn: 0.0496929\ttotal: 262ms\tremaining: 2.28s\n",
      "103:\tlearn: 0.0493897\ttotal: 264ms\tremaining: 2.28s\n",
      "104:\tlearn: 0.0490209\ttotal: 266ms\tremaining: 2.27s\n",
      "105:\tlearn: 0.0487998\ttotal: 268ms\tremaining: 2.26s\n",
      "106:\tlearn: 0.0483011\ttotal: 270ms\tremaining: 2.25s\n",
      "107:\tlearn: 0.0480795\ttotal: 272ms\tremaining: 2.25s\n",
      "108:\tlearn: 0.0473304\ttotal: 274ms\tremaining: 2.24s\n",
      "109:\tlearn: 0.0469269\ttotal: 277ms\tremaining: 2.24s\n",
      "110:\tlearn: 0.0467574\ttotal: 280ms\tremaining: 2.24s\n",
      "111:\tlearn: 0.0466446\ttotal: 283ms\tremaining: 2.24s\n",
      "112:\tlearn: 0.0460120\ttotal: 285ms\tremaining: 2.23s\n",
      "113:\tlearn: 0.0458380\ttotal: 287ms\tremaining: 2.23s\n",
      "114:\tlearn: 0.0456651\ttotal: 290ms\tremaining: 2.23s\n",
      "115:\tlearn: 0.0453753\ttotal: 292ms\tremaining: 2.22s\n",
      "116:\tlearn: 0.0452475\ttotal: 294ms\tremaining: 2.22s\n",
      "117:\tlearn: 0.0448483\ttotal: 296ms\tremaining: 2.21s\n",
      "118:\tlearn: 0.0446537\ttotal: 299ms\tremaining: 2.21s\n",
      "119:\tlearn: 0.0445062\ttotal: 303ms\tremaining: 2.22s\n",
      "120:\tlearn: 0.0442330\ttotal: 306ms\tremaining: 2.22s\n",
      "121:\tlearn: 0.0440335\ttotal: 308ms\tremaining: 2.22s\n",
      "122:\tlearn: 0.0438333\ttotal: 310ms\tremaining: 2.21s\n",
      "123:\tlearn: 0.0435070\ttotal: 313ms\tremaining: 2.21s\n",
      "124:\tlearn: 0.0431376\ttotal: 315ms\tremaining: 2.21s\n",
      "125:\tlearn: 0.0426918\ttotal: 318ms\tremaining: 2.21s\n",
      "126:\tlearn: 0.0425698\ttotal: 321ms\tremaining: 2.21s\n",
      "127:\tlearn: 0.0422688\ttotal: 323ms\tremaining: 2.2s\n",
      "128:\tlearn: 0.0421558\ttotal: 326ms\tremaining: 2.2s\n",
      "129:\tlearn: 0.0417911\ttotal: 329ms\tremaining: 2.2s\n",
      "130:\tlearn: 0.0415261\ttotal: 331ms\tremaining: 2.19s\n",
      "131:\tlearn: 0.0412734\ttotal: 333ms\tremaining: 2.19s\n",
      "132:\tlearn: 0.0411685\ttotal: 335ms\tremaining: 2.18s\n",
      "133:\tlearn: 0.0409865\ttotal: 337ms\tremaining: 2.18s\n",
      "134:\tlearn: 0.0408854\ttotal: 342ms\tremaining: 2.19s\n",
      "135:\tlearn: 0.0406332\ttotal: 345ms\tremaining: 2.19s\n",
      "136:\tlearn: 0.0404635\ttotal: 347ms\tremaining: 2.18s\n",
      "137:\tlearn: 0.0402920\ttotal: 349ms\tremaining: 2.18s\n",
      "138:\tlearn: 0.0398398\ttotal: 352ms\tremaining: 2.18s\n",
      "139:\tlearn: 0.0397091\ttotal: 355ms\tremaining: 2.18s\n",
      "140:\tlearn: 0.0394697\ttotal: 357ms\tremaining: 2.17s\n",
      "141:\tlearn: 0.0392566\ttotal: 359ms\tremaining: 2.17s\n",
      "142:\tlearn: 0.0390499\ttotal: 362ms\tremaining: 2.17s\n",
      "143:\tlearn: 0.0388782\ttotal: 365ms\tremaining: 2.17s\n",
      "144:\tlearn: 0.0387326\ttotal: 368ms\tremaining: 2.17s\n",
      "145:\tlearn: 0.0386311\ttotal: 369ms\tremaining: 2.16s\n",
      "146:\tlearn: 0.0385427\ttotal: 371ms\tremaining: 2.15s\n",
      "147:\tlearn: 0.0383702\ttotal: 373ms\tremaining: 2.15s\n",
      "148:\tlearn: 0.0382869\ttotal: 376ms\tremaining: 2.15s\n",
      "149:\tlearn: 0.0382111\ttotal: 378ms\tremaining: 2.14s\n",
      "150:\tlearn: 0.0380592\ttotal: 381ms\tremaining: 2.14s\n",
      "151:\tlearn: 0.0379038\ttotal: 383ms\tremaining: 2.14s\n",
      "152:\tlearn: 0.0377535\ttotal: 385ms\tremaining: 2.13s\n",
      "153:\tlearn: 0.0377099\ttotal: 387ms\tremaining: 2.13s\n",
      "154:\tlearn: 0.0375535\ttotal: 390ms\tremaining: 2.13s\n",
      "155:\tlearn: 0.0373419\ttotal: 392ms\tremaining: 2.12s\n",
      "156:\tlearn: 0.0371427\ttotal: 394ms\tremaining: 2.12s\n",
      "157:\tlearn: 0.0370333\ttotal: 396ms\tremaining: 2.11s\n",
      "158:\tlearn: 0.0368628\ttotal: 399ms\tremaining: 2.11s\n",
      "159:\tlearn: 0.0367492\ttotal: 401ms\tremaining: 2.1s\n",
      "160:\tlearn: 0.0366550\ttotal: 404ms\tremaining: 2.1s\n",
      "161:\tlearn: 0.0364480\ttotal: 407ms\tremaining: 2.1s\n",
      "162:\tlearn: 0.0362122\ttotal: 409ms\tremaining: 2.1s\n",
      "163:\tlearn: 0.0360912\ttotal: 411ms\tremaining: 2.09s\n",
      "164:\tlearn: 0.0359155\ttotal: 414ms\tremaining: 2.09s\n",
      "165:\tlearn: 0.0358507\ttotal: 416ms\tremaining: 2.09s\n",
      "166:\tlearn: 0.0356109\ttotal: 418ms\tremaining: 2.08s\n",
      "167:\tlearn: 0.0354942\ttotal: 420ms\tremaining: 2.08s\n",
      "168:\tlearn: 0.0353930\ttotal: 422ms\tremaining: 2.08s\n",
      "169:\tlearn: 0.0353238\ttotal: 424ms\tremaining: 2.07s\n",
      "170:\tlearn: 0.0352305\ttotal: 427ms\tremaining: 2.07s\n",
      "171:\tlearn: 0.0351304\ttotal: 430ms\tremaining: 2.07s\n",
      "172:\tlearn: 0.0350573\ttotal: 432ms\tremaining: 2.06s\n",
      "173:\tlearn: 0.0349903\ttotal: 434ms\tremaining: 2.06s\n",
      "174:\tlearn: 0.0348229\ttotal: 436ms\tremaining: 2.05s\n",
      "175:\tlearn: 0.0347567\ttotal: 438ms\tremaining: 2.05s\n",
      "176:\tlearn: 0.0347045\ttotal: 441ms\tremaining: 2.05s\n",
      "177:\tlearn: 0.0345472\ttotal: 443ms\tremaining: 2.04s\n",
      "178:\tlearn: 0.0344936\ttotal: 445ms\tremaining: 2.04s\n",
      "179:\tlearn: 0.0343613\ttotal: 448ms\tremaining: 2.04s\n",
      "180:\tlearn: 0.0342706\ttotal: 450ms\tremaining: 2.04s\n",
      "181:\tlearn: 0.0341746\ttotal: 453ms\tremaining: 2.04s\n",
      "182:\tlearn: 0.0339009\ttotal: 455ms\tremaining: 2.03s\n",
      "183:\tlearn: 0.0338087\ttotal: 457ms\tremaining: 2.03s\n",
      "184:\tlearn: 0.0337636\ttotal: 459ms\tremaining: 2.02s\n",
      "185:\tlearn: 0.0336779\ttotal: 462ms\tremaining: 2.02s\n",
      "186:\tlearn: 0.0335421\ttotal: 464ms\tremaining: 2.02s\n",
      "187:\tlearn: 0.0333722\ttotal: 467ms\tremaining: 2.02s\n",
      "188:\tlearn: 0.0333284\ttotal: 469ms\tremaining: 2.01s\n",
      "189:\tlearn: 0.0332685\ttotal: 471ms\tremaining: 2.01s\n",
      "190:\tlearn: 0.0330321\ttotal: 473ms\tremaining: 2s\n",
      "191:\tlearn: 0.0329861\ttotal: 476ms\tremaining: 2s\n",
      "192:\tlearn: 0.0329163\ttotal: 479ms\tremaining: 2s\n",
      "193:\tlearn: 0.0328125\ttotal: 481ms\tremaining: 2s\n",
      "194:\tlearn: 0.0327101\ttotal: 483ms\tremaining: 1.99s\n",
      "195:\tlearn: 0.0325932\ttotal: 485ms\tremaining: 1.99s\n",
      "196:\tlearn: 0.0324955\ttotal: 487ms\tremaining: 1.99s\n",
      "197:\tlearn: 0.0324229\ttotal: 489ms\tremaining: 1.98s\n",
      "198:\tlearn: 0.0323780\ttotal: 492ms\tremaining: 1.98s\n",
      "199:\tlearn: 0.0321981\ttotal: 494ms\tremaining: 1.97s\n",
      "200:\tlearn: 0.0321480\ttotal: 497ms\tremaining: 1.97s\n",
      "201:\tlearn: 0.0320666\ttotal: 499ms\tremaining: 1.97s\n",
      "202:\tlearn: 0.0318805\ttotal: 501ms\tremaining: 1.97s\n",
      "203:\tlearn: 0.0316940\ttotal: 503ms\tremaining: 1.96s\n",
      "204:\tlearn: 0.0316015\ttotal: 506ms\tremaining: 1.96s\n",
      "205:\tlearn: 0.0315592\ttotal: 508ms\tremaining: 1.96s\n",
      "206:\tlearn: 0.0315135\ttotal: 509ms\tremaining: 1.95s\n",
      "207:\tlearn: 0.0314711\ttotal: 512ms\tremaining: 1.95s\n",
      "208:\tlearn: 0.0314152\ttotal: 514ms\tremaining: 1.94s\n",
      "209:\tlearn: 0.0313662\ttotal: 517ms\tremaining: 1.94s\n",
      "210:\tlearn: 0.0312939\ttotal: 520ms\tremaining: 1.94s\n",
      "211:\tlearn: 0.0312492\ttotal: 522ms\tremaining: 1.94s\n",
      "212:\tlearn: 0.0311829\ttotal: 524ms\tremaining: 1.94s\n",
      "213:\tlearn: 0.0310629\ttotal: 527ms\tremaining: 1.93s\n",
      "214:\tlearn: 0.0310628\ttotal: 528ms\tremaining: 1.93s\n",
      "215:\tlearn: 0.0310215\ttotal: 531ms\tremaining: 1.93s\n",
      "216:\tlearn: 0.0309855\ttotal: 533ms\tremaining: 1.92s\n",
      "217:\tlearn: 0.0309482\ttotal: 535ms\tremaining: 1.92s\n",
      "218:\tlearn: 0.0308679\ttotal: 537ms\tremaining: 1.92s\n",
      "219:\tlearn: 0.0307180\ttotal: 540ms\tremaining: 1.91s\n",
      "220:\tlearn: 0.0306819\ttotal: 543ms\tremaining: 1.91s\n",
      "221:\tlearn: 0.0306129\ttotal: 545ms\tremaining: 1.91s\n",
      "222:\tlearn: 0.0305361\ttotal: 547ms\tremaining: 1.91s\n",
      "223:\tlearn: 0.0304567\ttotal: 549ms\tremaining: 1.9s\n",
      "224:\tlearn: 0.0304124\ttotal: 551ms\tremaining: 1.9s\n",
      "225:\tlearn: 0.0303061\ttotal: 554ms\tremaining: 1.9s\n",
      "226:\tlearn: 0.0302254\ttotal: 557ms\tremaining: 1.9s\n",
      "227:\tlearn: 0.0301839\ttotal: 559ms\tremaining: 1.89s\n",
      "228:\tlearn: 0.0299966\ttotal: 562ms\tremaining: 1.89s\n",
      "229:\tlearn: 0.0298705\ttotal: 564ms\tremaining: 1.89s\n",
      "230:\tlearn: 0.0298281\ttotal: 567ms\tremaining: 1.89s\n",
      "231:\tlearn: 0.0297309\ttotal: 569ms\tremaining: 1.88s\n",
      "232:\tlearn: 0.0296896\ttotal: 571ms\tremaining: 1.88s\n",
      "233:\tlearn: 0.0296486\ttotal: 573ms\tremaining: 1.87s\n",
      "234:\tlearn: 0.0295981\ttotal: 575ms\tremaining: 1.87s\n",
      "235:\tlearn: 0.0294357\ttotal: 577ms\tremaining: 1.87s\n",
      "236:\tlearn: 0.0294007\ttotal: 580ms\tremaining: 1.87s\n",
      "237:\tlearn: 0.0293476\ttotal: 583ms\tremaining: 1.87s\n",
      "238:\tlearn: 0.0292924\ttotal: 585ms\tremaining: 1.86s\n",
      "239:\tlearn: 0.0292323\ttotal: 587ms\tremaining: 1.86s\n",
      "240:\tlearn: 0.0291991\ttotal: 590ms\tremaining: 1.86s\n",
      "241:\tlearn: 0.0290510\ttotal: 593ms\tremaining: 1.85s\n",
      "242:\tlearn: 0.0290055\ttotal: 595ms\tremaining: 1.85s\n",
      "243:\tlearn: 0.0289144\ttotal: 597ms\tremaining: 1.85s\n",
      "244:\tlearn: 0.0287887\ttotal: 599ms\tremaining: 1.85s\n",
      "245:\tlearn: 0.0287120\ttotal: 602ms\tremaining: 1.84s\n",
      "246:\tlearn: 0.0286362\ttotal: 605ms\tremaining: 1.84s\n",
      "247:\tlearn: 0.0285177\ttotal: 607ms\tremaining: 1.84s\n",
      "248:\tlearn: 0.0284871\ttotal: 609ms\tremaining: 1.84s\n",
      "249:\tlearn: 0.0284047\ttotal: 611ms\tremaining: 1.83s\n",
      "250:\tlearn: 0.0282833\ttotal: 614ms\tremaining: 1.83s\n",
      "251:\tlearn: 0.0282832\ttotal: 616ms\tremaining: 1.83s\n",
      "252:\tlearn: 0.0282444\ttotal: 618ms\tremaining: 1.82s\n",
      "253:\tlearn: 0.0281987\ttotal: 620ms\tremaining: 1.82s\n",
      "254:\tlearn: 0.0281604\ttotal: 622ms\tremaining: 1.82s\n",
      "255:\tlearn: 0.0281347\ttotal: 625ms\tremaining: 1.82s\n",
      "256:\tlearn: 0.0281034\ttotal: 629ms\tremaining: 1.82s\n",
      "257:\tlearn: 0.0280435\ttotal: 631ms\tremaining: 1.81s\n",
      "258:\tlearn: 0.0280198\ttotal: 633ms\tremaining: 1.81s\n",
      "259:\tlearn: 0.0279868\ttotal: 635ms\tremaining: 1.81s\n",
      "260:\tlearn: 0.0278362\ttotal: 637ms\tremaining: 1.8s\n",
      "261:\tlearn: 0.0277733\ttotal: 639ms\tremaining: 1.8s\n",
      "262:\tlearn: 0.0277406\ttotal: 642ms\tremaining: 1.8s\n",
      "263:\tlearn: 0.0277034\ttotal: 644ms\tremaining: 1.79s\n",
      "264:\tlearn: 0.0276958\ttotal: 646ms\tremaining: 1.79s\n",
      "265:\tlearn: 0.0276233\ttotal: 648ms\tremaining: 1.79s\n",
      "266:\tlearn: 0.0275635\ttotal: 651ms\tremaining: 1.79s\n",
      "267:\tlearn: 0.0275305\ttotal: 654ms\tremaining: 1.79s\n",
      "268:\tlearn: 0.0274789\ttotal: 656ms\tremaining: 1.78s\n",
      "269:\tlearn: 0.0274475\ttotal: 658ms\tremaining: 1.78s\n",
      "270:\tlearn: 0.0274212\ttotal: 660ms\tremaining: 1.78s\n",
      "271:\tlearn: 0.0273924\ttotal: 662ms\tremaining: 1.77s\n",
      "272:\tlearn: 0.0273400\ttotal: 666ms\tremaining: 1.77s\n",
      "273:\tlearn: 0.0273087\ttotal: 668ms\tremaining: 1.77s\n",
      "274:\tlearn: 0.0272427\ttotal: 670ms\tremaining: 1.76s\n",
      "275:\tlearn: 0.0271586\ttotal: 672ms\tremaining: 1.76s\n",
      "276:\tlearn: 0.0271136\ttotal: 674ms\tremaining: 1.76s\n",
      "277:\tlearn: 0.0271077\ttotal: 675ms\tremaining: 1.75s\n",
      "278:\tlearn: 0.0270725\ttotal: 678ms\tremaining: 1.75s\n",
      "279:\tlearn: 0.0270724\ttotal: 680ms\tremaining: 1.75s\n",
      "280:\tlearn: 0.0269799\ttotal: 682ms\tremaining: 1.75s\n",
      "281:\tlearn: 0.0269189\ttotal: 685ms\tremaining: 1.74s\n",
      "282:\tlearn: 0.0268303\ttotal: 688ms\tremaining: 1.74s\n",
      "283:\tlearn: 0.0268035\ttotal: 691ms\tremaining: 1.74s\n",
      "284:\tlearn: 0.0267442\ttotal: 693ms\tremaining: 1.74s\n",
      "285:\tlearn: 0.0267146\ttotal: 695ms\tremaining: 1.74s\n",
      "286:\tlearn: 0.0266318\ttotal: 697ms\tremaining: 1.73s\n",
      "287:\tlearn: 0.0265954\ttotal: 699ms\tremaining: 1.73s\n",
      "288:\tlearn: 0.0265099\ttotal: 701ms\tremaining: 1.72s\n",
      "289:\tlearn: 0.0264754\ttotal: 704ms\tremaining: 1.72s\n",
      "290:\tlearn: 0.0264319\ttotal: 706ms\tremaining: 1.72s\n",
      "291:\tlearn: 0.0264319\ttotal: 709ms\tremaining: 1.72s\n",
      "292:\tlearn: 0.0264107\ttotal: 711ms\tremaining: 1.72s\n",
      "293:\tlearn: 0.0263834\ttotal: 713ms\tremaining: 1.71s\n",
      "294:\tlearn: 0.0263418\ttotal: 716ms\tremaining: 1.71s\n",
      "295:\tlearn: 0.0263416\ttotal: 718ms\tremaining: 1.71s\n",
      "296:\tlearn: 0.0262636\ttotal: 720ms\tremaining: 1.7s\n",
      "297:\tlearn: 0.0262629\ttotal: 722ms\tremaining: 1.7s\n",
      "298:\tlearn: 0.0262391\ttotal: 724ms\tremaining: 1.7s\n",
      "299:\tlearn: 0.0262389\ttotal: 727ms\tremaining: 1.7s\n",
      "300:\tlearn: 0.0262012\ttotal: 729ms\tremaining: 1.69s\n",
      "301:\tlearn: 0.0261657\ttotal: 732ms\tremaining: 1.69s\n",
      "302:\tlearn: 0.0261409\ttotal: 735ms\tremaining: 1.69s\n",
      "303:\tlearn: 0.0261407\ttotal: 736ms\tremaining: 1.69s\n",
      "304:\tlearn: 0.0261400\ttotal: 739ms\tremaining: 1.68s\n",
      "305:\tlearn: 0.0261400\ttotal: 741ms\tremaining: 1.68s\n",
      "306:\tlearn: 0.0261399\ttotal: 744ms\tremaining: 1.68s\n",
      "307:\tlearn: 0.0261264\ttotal: 746ms\tremaining: 1.68s\n",
      "308:\tlearn: 0.0261263\ttotal: 748ms\tremaining: 1.67s\n",
      "309:\tlearn: 0.0261257\ttotal: 751ms\tremaining: 1.67s\n",
      "310:\tlearn: 0.0260978\ttotal: 753ms\tremaining: 1.67s\n",
      "311:\tlearn: 0.0260797\ttotal: 755ms\tremaining: 1.67s\n",
      "312:\tlearn: 0.0260494\ttotal: 757ms\tremaining: 1.66s\n",
      "313:\tlearn: 0.0260395\ttotal: 759ms\tremaining: 1.66s\n",
      "314:\tlearn: 0.0260347\ttotal: 761ms\tremaining: 1.65s\n",
      "315:\tlearn: 0.0259776\ttotal: 763ms\tremaining: 1.65s\n",
      "316:\tlearn: 0.0259372\ttotal: 766ms\tremaining: 1.65s\n",
      "317:\tlearn: 0.0259371\ttotal: 768ms\tremaining: 1.65s\n",
      "318:\tlearn: 0.0259148\ttotal: 770ms\tremaining: 1.64s\n",
      "319:\tlearn: 0.0259148\ttotal: 772ms\tremaining: 1.64s\n",
      "320:\tlearn: 0.0259101\ttotal: 773ms\tremaining: 1.64s\n",
      "321:\tlearn: 0.0259101\ttotal: 775ms\tremaining: 1.63s\n",
      "322:\tlearn: 0.0258802\ttotal: 779ms\tremaining: 1.63s\n",
      "323:\tlearn: 0.0258077\ttotal: 782ms\tremaining: 1.63s\n",
      "324:\tlearn: 0.0258076\ttotal: 784ms\tremaining: 1.63s\n",
      "325:\tlearn: 0.0258076\ttotal: 785ms\tremaining: 1.62s\n",
      "326:\tlearn: 0.0258076\ttotal: 787ms\tremaining: 1.62s\n",
      "327:\tlearn: 0.0257853\ttotal: 790ms\tremaining: 1.62s\n",
      "328:\tlearn: 0.0257155\ttotal: 793ms\tremaining: 1.62s\n",
      "329:\tlearn: 0.0257155\ttotal: 795ms\tremaining: 1.61s\n",
      "330:\tlearn: 0.0255776\ttotal: 797ms\tremaining: 1.61s\n",
      "331:\tlearn: 0.0255264\ttotal: 800ms\tremaining: 1.61s\n",
      "332:\tlearn: 0.0254970\ttotal: 802ms\tremaining: 1.6s\n",
      "333:\tlearn: 0.0254646\ttotal: 805ms\tremaining: 1.6s\n",
      "334:\tlearn: 0.0254645\ttotal: 807ms\tremaining: 1.6s\n",
      "335:\tlearn: 0.0254645\ttotal: 809ms\tremaining: 1.6s\n",
      "336:\tlearn: 0.0254645\ttotal: 811ms\tremaining: 1.59s\n",
      "337:\tlearn: 0.0254644\ttotal: 812ms\tremaining: 1.59s\n",
      "338:\tlearn: 0.0254643\ttotal: 814ms\tremaining: 1.59s\n",
      "339:\tlearn: 0.0254643\ttotal: 817ms\tremaining: 1.58s\n",
      "340:\tlearn: 0.0254643\ttotal: 819ms\tremaining: 1.58s\n",
      "341:\tlearn: 0.0254641\ttotal: 821ms\tremaining: 1.58s\n",
      "342:\tlearn: 0.0254640\ttotal: 822ms\tremaining: 1.57s\n",
      "343:\tlearn: 0.0254640\ttotal: 824ms\tremaining: 1.57s\n",
      "344:\tlearn: 0.0254639\ttotal: 827ms\tremaining: 1.57s\n",
      "345:\tlearn: 0.0254634\ttotal: 830ms\tremaining: 1.57s\n",
      "346:\tlearn: 0.0254633\ttotal: 831ms\tremaining: 1.56s\n",
      "347:\tlearn: 0.0254633\ttotal: 833ms\tremaining: 1.56s\n",
      "348:\tlearn: 0.0254633\ttotal: 835ms\tremaining: 1.56s\n",
      "349:\tlearn: 0.0254632\ttotal: 836ms\tremaining: 1.55s\n",
      "350:\tlearn: 0.0254631\ttotal: 838ms\tremaining: 1.55s\n",
      "351:\tlearn: 0.0254626\ttotal: 840ms\tremaining: 1.55s\n",
      "352:\tlearn: 0.0254170\ttotal: 843ms\tremaining: 1.54s\n",
      "353:\tlearn: 0.0254168\ttotal: 845ms\tremaining: 1.54s\n",
      "354:\tlearn: 0.0254168\ttotal: 847ms\tremaining: 1.54s\n",
      "355:\tlearn: 0.0254081\ttotal: 849ms\tremaining: 1.54s\n",
      "356:\tlearn: 0.0253991\ttotal: 851ms\tremaining: 1.53s\n",
      "357:\tlearn: 0.0253721\ttotal: 853ms\tremaining: 1.53s\n",
      "358:\tlearn: 0.0253720\ttotal: 856ms\tremaining: 1.53s\n",
      "359:\tlearn: 0.0253545\ttotal: 858ms\tremaining: 1.52s\n",
      "360:\tlearn: 0.0253507\ttotal: 859ms\tremaining: 1.52s\n",
      "361:\tlearn: 0.0253507\ttotal: 861ms\tremaining: 1.52s\n",
      "362:\tlearn: 0.0253313\ttotal: 864ms\tremaining: 1.51s\n",
      "363:\tlearn: 0.0252683\ttotal: 867ms\tremaining: 1.51s\n",
      "364:\tlearn: 0.0252043\ttotal: 869ms\tremaining: 1.51s\n",
      "365:\tlearn: 0.0252042\ttotal: 871ms\tremaining: 1.51s\n",
      "366:\tlearn: 0.0252042\ttotal: 873ms\tremaining: 1.5s\n",
      "367:\tlearn: 0.0252041\ttotal: 875ms\tremaining: 1.5s\n",
      "368:\tlearn: 0.0252036\ttotal: 877ms\tremaining: 1.5s\n",
      "369:\tlearn: 0.0251971\ttotal: 879ms\tremaining: 1.5s\n",
      "370:\tlearn: 0.0251696\ttotal: 881ms\tremaining: 1.49s\n",
      "371:\tlearn: 0.0251414\ttotal: 884ms\tremaining: 1.49s\n",
      "372:\tlearn: 0.0251410\ttotal: 885ms\tremaining: 1.49s\n",
      "373:\tlearn: 0.0251153\ttotal: 888ms\tremaining: 1.49s\n",
      "374:\tlearn: 0.0250939\ttotal: 890ms\tremaining: 1.48s\n",
      "375:\tlearn: 0.0250541\ttotal: 892ms\tremaining: 1.48s\n",
      "376:\tlearn: 0.0250542\ttotal: 894ms\tremaining: 1.48s\n",
      "377:\tlearn: 0.0250542\ttotal: 896ms\tremaining: 1.47s\n",
      "378:\tlearn: 0.0250540\ttotal: 897ms\tremaining: 1.47s\n",
      "379:\tlearn: 0.0250541\ttotal: 899ms\tremaining: 1.47s\n",
      "380:\tlearn: 0.0250539\ttotal: 902ms\tremaining: 1.47s\n",
      "381:\tlearn: 0.0250330\ttotal: 906ms\tremaining: 1.47s\n",
      "382:\tlearn: 0.0250087\ttotal: 909ms\tremaining: 1.46s\n",
      "383:\tlearn: 0.0249568\ttotal: 911ms\tremaining: 1.46s\n",
      "384:\tlearn: 0.0249259\ttotal: 913ms\tremaining: 1.46s\n",
      "385:\tlearn: 0.0248773\ttotal: 916ms\tremaining: 1.46s\n",
      "386:\tlearn: 0.0248492\ttotal: 918ms\tremaining: 1.45s\n",
      "387:\tlearn: 0.0248492\ttotal: 920ms\tremaining: 1.45s\n",
      "388:\tlearn: 0.0248157\ttotal: 924ms\tremaining: 1.45s\n",
      "389:\tlearn: 0.0247833\ttotal: 927ms\tremaining: 1.45s\n",
      "390:\tlearn: 0.0247528\ttotal: 929ms\tremaining: 1.45s\n",
      "391:\tlearn: 0.0247288\ttotal: 931ms\tremaining: 1.44s\n",
      "392:\tlearn: 0.0247287\ttotal: 933ms\tremaining: 1.44s\n",
      "393:\tlearn: 0.0247287\ttotal: 935ms\tremaining: 1.44s\n",
      "394:\tlearn: 0.0247286\ttotal: 937ms\tremaining: 1.44s\n",
      "395:\tlearn: 0.0247284\ttotal: 939ms\tremaining: 1.43s\n",
      "396:\tlearn: 0.0247283\ttotal: 941ms\tremaining: 1.43s\n",
      "397:\tlearn: 0.0247284\ttotal: 943ms\tremaining: 1.43s\n",
      "398:\tlearn: 0.0247282\ttotal: 947ms\tremaining: 1.43s\n",
      "399:\tlearn: 0.0247280\ttotal: 949ms\tremaining: 1.42s\n",
      "400:\tlearn: 0.0247279\ttotal: 951ms\tremaining: 1.42s\n",
      "401:\tlearn: 0.0247279\ttotal: 954ms\tremaining: 1.42s\n",
      "402:\tlearn: 0.0247270\ttotal: 956ms\tremaining: 1.42s\n",
      "403:\tlearn: 0.0246946\ttotal: 958ms\tremaining: 1.41s\n",
      "404:\tlearn: 0.0246334\ttotal: 960ms\tremaining: 1.41s\n",
      "405:\tlearn: 0.0246333\ttotal: 961ms\tremaining: 1.41s\n",
      "406:\tlearn: 0.0246071\ttotal: 963ms\tremaining: 1.4s\n",
      "407:\tlearn: 0.0245353\ttotal: 966ms\tremaining: 1.4s\n",
      "408:\tlearn: 0.0245353\ttotal: 970ms\tremaining: 1.4s\n",
      "409:\tlearn: 0.0245352\ttotal: 973ms\tremaining: 1.4s\n",
      "410:\tlearn: 0.0245077\ttotal: 975ms\tremaining: 1.4s\n",
      "411:\tlearn: 0.0245077\ttotal: 977ms\tremaining: 1.39s\n",
      "412:\tlearn: 0.0245077\ttotal: 979ms\tremaining: 1.39s\n",
      "413:\tlearn: 0.0245076\ttotal: 982ms\tremaining: 1.39s\n",
      "414:\tlearn: 0.0245076\ttotal: 983ms\tremaining: 1.39s\n",
      "415:\tlearn: 0.0245075\ttotal: 985ms\tremaining: 1.38s\n",
      "416:\tlearn: 0.0245075\ttotal: 987ms\tremaining: 1.38s\n",
      "417:\tlearn: 0.0245073\ttotal: 990ms\tremaining: 1.38s\n",
      "418:\tlearn: 0.0245073\ttotal: 993ms\tremaining: 1.38s\n",
      "419:\tlearn: 0.0245073\ttotal: 995ms\tremaining: 1.37s\n",
      "420:\tlearn: 0.0245073\ttotal: 996ms\tremaining: 1.37s\n",
      "421:\tlearn: 0.0245071\ttotal: 998ms\tremaining: 1.37s\n",
      "422:\tlearn: 0.0245072\ttotal: 1000ms\tremaining: 1.36s\n",
      "423:\tlearn: 0.0245071\ttotal: 1s\tremaining: 1.36s\n",
      "424:\tlearn: 0.0245071\ttotal: 1s\tremaining: 1.36s\n",
      "425:\tlearn: 0.0245071\ttotal: 1s\tremaining: 1.35s\n",
      "426:\tlearn: 0.0245071\ttotal: 1.01s\tremaining: 1.35s\n",
      "427:\tlearn: 0.0245071\ttotal: 1.01s\tremaining: 1.35s\n",
      "428:\tlearn: 0.0245070\ttotal: 1.01s\tremaining: 1.35s\n",
      "429:\tlearn: 0.0245069\ttotal: 1.01s\tremaining: 1.34s\n",
      "430:\tlearn: 0.0245068\ttotal: 1.02s\tremaining: 1.34s\n",
      "431:\tlearn: 0.0245067\ttotal: 1.02s\tremaining: 1.34s\n",
      "432:\tlearn: 0.0245067\ttotal: 1.02s\tremaining: 1.34s\n",
      "433:\tlearn: 0.0245064\ttotal: 1.02s\tremaining: 1.33s\n",
      "434:\tlearn: 0.0245063\ttotal: 1.02s\tremaining: 1.33s\n",
      "435:\tlearn: 0.0245063\ttotal: 1.03s\tremaining: 1.33s\n",
      "436:\tlearn: 0.0245062\ttotal: 1.03s\tremaining: 1.33s\n",
      "437:\tlearn: 0.0245062\ttotal: 1.03s\tremaining: 1.33s\n",
      "438:\tlearn: 0.0245062\ttotal: 1.03s\tremaining: 1.32s\n",
      "439:\tlearn: 0.0245062\ttotal: 1.04s\tremaining: 1.32s\n",
      "440:\tlearn: 0.0244715\ttotal: 1.04s\tremaining: 1.32s\n",
      "441:\tlearn: 0.0244715\ttotal: 1.04s\tremaining: 1.31s\n",
      "442:\tlearn: 0.0244334\ttotal: 1.04s\tremaining: 1.31s\n",
      "443:\tlearn: 0.0244103\ttotal: 1.05s\tremaining: 1.31s\n",
      "444:\tlearn: 0.0244103\ttotal: 1.05s\tremaining: 1.31s\n",
      "445:\tlearn: 0.0244103\ttotal: 1.05s\tremaining: 1.3s\n",
      "446:\tlearn: 0.0244103\ttotal: 1.05s\tremaining: 1.3s\n",
      "447:\tlearn: 0.0244102\ttotal: 1.05s\tremaining: 1.3s\n",
      "448:\tlearn: 0.0244102\ttotal: 1.06s\tremaining: 1.3s\n",
      "449:\tlearn: 0.0244101\ttotal: 1.06s\tremaining: 1.29s\n",
      "450:\tlearn: 0.0244100\ttotal: 1.06s\tremaining: 1.29s\n",
      "451:\tlearn: 0.0244097\ttotal: 1.06s\tremaining: 1.29s\n",
      "452:\tlearn: 0.0244093\ttotal: 1.07s\tremaining: 1.29s\n",
      "453:\tlearn: 0.0244093\ttotal: 1.07s\tremaining: 1.28s\n",
      "454:\tlearn: 0.0244087\ttotal: 1.07s\tremaining: 1.28s\n",
      "455:\tlearn: 0.0244083\ttotal: 1.07s\tremaining: 1.28s\n",
      "456:\tlearn: 0.0244082\ttotal: 1.07s\tremaining: 1.28s\n",
      "457:\tlearn: 0.0244082\ttotal: 1.08s\tremaining: 1.27s\n",
      "458:\tlearn: 0.0244082\ttotal: 1.08s\tremaining: 1.27s\n",
      "459:\tlearn: 0.0244082\ttotal: 1.08s\tremaining: 1.27s\n",
      "460:\tlearn: 0.0244082\ttotal: 1.08s\tremaining: 1.26s\n",
      "461:\tlearn: 0.0244081\ttotal: 1.08s\tremaining: 1.26s\n",
      "462:\tlearn: 0.0244081\ttotal: 1.08s\tremaining: 1.26s\n",
      "463:\tlearn: 0.0244080\ttotal: 1.09s\tremaining: 1.26s\n",
      "464:\tlearn: 0.0244080\ttotal: 1.09s\tremaining: 1.25s\n",
      "465:\tlearn: 0.0244079\ttotal: 1.09s\tremaining: 1.25s\n",
      "466:\tlearn: 0.0244079\ttotal: 1.09s\tremaining: 1.25s\n",
      "467:\tlearn: 0.0244079\ttotal: 1.1s\tremaining: 1.25s\n",
      "468:\tlearn: 0.0244079\ttotal: 1.1s\tremaining: 1.24s\n",
      "469:\tlearn: 0.0244078\ttotal: 1.1s\tremaining: 1.24s\n",
      "470:\tlearn: 0.0244078\ttotal: 1.1s\tremaining: 1.24s\n",
      "471:\tlearn: 0.0244078\ttotal: 1.1s\tremaining: 1.24s\n",
      "472:\tlearn: 0.0244077\ttotal: 1.11s\tremaining: 1.23s\n",
      "473:\tlearn: 0.0244076\ttotal: 1.11s\tremaining: 1.23s\n",
      "474:\tlearn: 0.0244074\ttotal: 1.11s\tremaining: 1.23s\n",
      "475:\tlearn: 0.0244074\ttotal: 1.11s\tremaining: 1.23s\n",
      "476:\tlearn: 0.0244073\ttotal: 1.12s\tremaining: 1.22s\n",
      "477:\tlearn: 0.0244074\ttotal: 1.12s\tremaining: 1.22s\n",
      "478:\tlearn: 0.0244073\ttotal: 1.12s\tremaining: 1.22s\n",
      "479:\tlearn: 0.0244073\ttotal: 1.12s\tremaining: 1.22s\n",
      "480:\tlearn: 0.0244072\ttotal: 1.13s\tremaining: 1.21s\n",
      "481:\tlearn: 0.0244072\ttotal: 1.13s\tremaining: 1.21s\n",
      "482:\tlearn: 0.0244070\ttotal: 1.13s\tremaining: 1.21s\n",
      "483:\tlearn: 0.0244069\ttotal: 1.13s\tremaining: 1.21s\n",
      "484:\tlearn: 0.0244070\ttotal: 1.13s\tremaining: 1.2s\n",
      "485:\tlearn: 0.0244070\ttotal: 1.14s\tremaining: 1.2s\n",
      "486:\tlearn: 0.0244069\ttotal: 1.14s\tremaining: 1.2s\n",
      "487:\tlearn: 0.0244069\ttotal: 1.14s\tremaining: 1.2s\n",
      "488:\tlearn: 0.0244069\ttotal: 1.14s\tremaining: 1.2s\n",
      "489:\tlearn: 0.0244070\ttotal: 1.15s\tremaining: 1.19s\n",
      "490:\tlearn: 0.0244068\ttotal: 1.15s\tremaining: 1.19s\n",
      "491:\tlearn: 0.0244068\ttotal: 1.15s\tremaining: 1.19s\n",
      "492:\tlearn: 0.0244068\ttotal: 1.15s\tremaining: 1.18s\n",
      "493:\tlearn: 0.0244067\ttotal: 1.15s\tremaining: 1.18s\n",
      "494:\tlearn: 0.0244062\ttotal: 1.16s\tremaining: 1.18s\n",
      "495:\tlearn: 0.0244062\ttotal: 1.16s\tremaining: 1.18s\n",
      "496:\tlearn: 0.0244061\ttotal: 1.16s\tremaining: 1.17s\n",
      "497:\tlearn: 0.0244062\ttotal: 1.16s\tremaining: 1.17s\n",
      "498:\tlearn: 0.0244061\ttotal: 1.16s\tremaining: 1.17s\n",
      "499:\tlearn: 0.0244061\ttotal: 1.17s\tremaining: 1.17s\n",
      "500:\tlearn: 0.0244061\ttotal: 1.17s\tremaining: 1.16s\n",
      "501:\tlearn: 0.0244061\ttotal: 1.17s\tremaining: 1.16s\n",
      "502:\tlearn: 0.0244061\ttotal: 1.17s\tremaining: 1.16s\n",
      "503:\tlearn: 0.0244055\ttotal: 1.17s\tremaining: 1.15s\n",
      "504:\tlearn: 0.0244056\ttotal: 1.17s\tremaining: 1.15s\n",
      "505:\tlearn: 0.0244055\ttotal: 1.18s\tremaining: 1.15s\n",
      "506:\tlearn: 0.0244054\ttotal: 1.18s\tremaining: 1.15s\n",
      "507:\tlearn: 0.0244054\ttotal: 1.18s\tremaining: 1.14s\n",
      "508:\tlearn: 0.0244054\ttotal: 1.18s\tremaining: 1.14s\n",
      "509:\tlearn: 0.0244054\ttotal: 1.19s\tremaining: 1.14s\n",
      "510:\tlearn: 0.0244053\ttotal: 1.19s\tremaining: 1.14s\n",
      "511:\tlearn: 0.0244053\ttotal: 1.19s\tremaining: 1.13s\n",
      "512:\tlearn: 0.0244053\ttotal: 1.19s\tremaining: 1.13s\n",
      "513:\tlearn: 0.0244053\ttotal: 1.19s\tremaining: 1.13s\n",
      "514:\tlearn: 0.0244052\ttotal: 1.2s\tremaining: 1.13s\n",
      "515:\tlearn: 0.0244053\ttotal: 1.2s\tremaining: 1.12s\n",
      "516:\tlearn: 0.0244052\ttotal: 1.2s\tremaining: 1.12s\n",
      "517:\tlearn: 0.0244052\ttotal: 1.2s\tremaining: 1.12s\n",
      "518:\tlearn: 0.0244052\ttotal: 1.2s\tremaining: 1.12s\n",
      "519:\tlearn: 0.0244052\ttotal: 1.21s\tremaining: 1.11s\n",
      "520:\tlearn: 0.0244052\ttotal: 1.21s\tremaining: 1.11s\n",
      "521:\tlearn: 0.0244052\ttotal: 1.21s\tremaining: 1.11s\n",
      "522:\tlearn: 0.0243912\ttotal: 1.21s\tremaining: 1.11s\n",
      "523:\tlearn: 0.0243911\ttotal: 1.22s\tremaining: 1.1s\n",
      "524:\tlearn: 0.0243911\ttotal: 1.22s\tremaining: 1.1s\n",
      "525:\tlearn: 0.0243307\ttotal: 1.22s\tremaining: 1.1s\n",
      "526:\tlearn: 0.0243306\ttotal: 1.22s\tremaining: 1.1s\n",
      "527:\tlearn: 0.0243306\ttotal: 1.22s\tremaining: 1.09s\n",
      "528:\tlearn: 0.0243305\ttotal: 1.23s\tremaining: 1.09s\n",
      "529:\tlearn: 0.0243305\ttotal: 1.23s\tremaining: 1.09s\n",
      "530:\tlearn: 0.0243304\ttotal: 1.23s\tremaining: 1.09s\n",
      "531:\tlearn: 0.0243303\ttotal: 1.23s\tremaining: 1.08s\n",
      "532:\tlearn: 0.0243303\ttotal: 1.23s\tremaining: 1.08s\n",
      "533:\tlearn: 0.0243302\ttotal: 1.24s\tremaining: 1.08s\n",
      "534:\tlearn: 0.0243302\ttotal: 1.24s\tremaining: 1.08s\n",
      "535:\tlearn: 0.0243303\ttotal: 1.24s\tremaining: 1.07s\n",
      "536:\tlearn: 0.0243301\ttotal: 1.25s\tremaining: 1.07s\n",
      "537:\tlearn: 0.0243301\ttotal: 1.25s\tremaining: 1.07s\n",
      "538:\tlearn: 0.0243300\ttotal: 1.25s\tremaining: 1.07s\n",
      "539:\tlearn: 0.0243301\ttotal: 1.25s\tremaining: 1.06s\n",
      "540:\tlearn: 0.0243299\ttotal: 1.25s\tremaining: 1.06s\n",
      "541:\tlearn: 0.0243298\ttotal: 1.25s\tremaining: 1.06s\n",
      "542:\tlearn: 0.0243298\ttotal: 1.26s\tremaining: 1.06s\n",
      "543:\tlearn: 0.0243297\ttotal: 1.26s\tremaining: 1.05s\n",
      "544:\tlearn: 0.0243297\ttotal: 1.26s\tremaining: 1.05s\n",
      "545:\tlearn: 0.0243296\ttotal: 1.26s\tremaining: 1.05s\n",
      "546:\tlearn: 0.0243295\ttotal: 1.26s\tremaining: 1.05s\n",
      "547:\tlearn: 0.0243295\ttotal: 1.27s\tremaining: 1.04s\n",
      "548:\tlearn: 0.0243295\ttotal: 1.27s\tremaining: 1.04s\n",
      "549:\tlearn: 0.0243295\ttotal: 1.27s\tremaining: 1.04s\n",
      "550:\tlearn: 0.0243295\ttotal: 1.27s\tremaining: 1.04s\n",
      "551:\tlearn: 0.0243294\ttotal: 1.27s\tremaining: 1.03s\n",
      "552:\tlearn: 0.0243293\ttotal: 1.28s\tremaining: 1.03s\n",
      "553:\tlearn: 0.0243292\ttotal: 1.28s\tremaining: 1.03s\n",
      "554:\tlearn: 0.0243292\ttotal: 1.28s\tremaining: 1.03s\n",
      "555:\tlearn: 0.0243292\ttotal: 1.28s\tremaining: 1.02s\n",
      "556:\tlearn: 0.0243283\ttotal: 1.28s\tremaining: 1.02s\n",
      "557:\tlearn: 0.0243283\ttotal: 1.29s\tremaining: 1.02s\n",
      "558:\tlearn: 0.0243283\ttotal: 1.29s\tremaining: 1.02s\n",
      "559:\tlearn: 0.0243283\ttotal: 1.29s\tremaining: 1.01s\n",
      "560:\tlearn: 0.0243282\ttotal: 1.29s\tremaining: 1.01s\n",
      "561:\tlearn: 0.0243281\ttotal: 1.29s\tremaining: 1.01s\n",
      "562:\tlearn: 0.0243281\ttotal: 1.3s\tremaining: 1.01s\n",
      "563:\tlearn: 0.0243281\ttotal: 1.3s\tremaining: 1s\n",
      "564:\tlearn: 0.0243281\ttotal: 1.3s\tremaining: 1s\n",
      "565:\tlearn: 0.0243281\ttotal: 1.3s\tremaining: 1s\n",
      "566:\tlearn: 0.0243279\ttotal: 1.31s\tremaining: 998ms\n",
      "567:\tlearn: 0.0243279\ttotal: 1.31s\tremaining: 996ms\n",
      "568:\tlearn: 0.0243278\ttotal: 1.31s\tremaining: 993ms\n",
      "569:\tlearn: 0.0243277\ttotal: 1.31s\tremaining: 990ms\n",
      "570:\tlearn: 0.0243275\ttotal: 1.31s\tremaining: 988ms\n",
      "571:\tlearn: 0.0243275\ttotal: 1.32s\tremaining: 986ms\n",
      "572:\tlearn: 0.0243276\ttotal: 1.32s\tremaining: 983ms\n",
      "573:\tlearn: 0.0243199\ttotal: 1.32s\tremaining: 981ms\n",
      "574:\tlearn: 0.0243198\ttotal: 1.32s\tremaining: 979ms\n",
      "575:\tlearn: 0.0243196\ttotal: 1.33s\tremaining: 976ms\n",
      "576:\tlearn: 0.0243180\ttotal: 1.33s\tremaining: 974ms\n",
      "577:\tlearn: 0.0243179\ttotal: 1.33s\tremaining: 972ms\n",
      "578:\tlearn: 0.0243176\ttotal: 1.33s\tremaining: 969ms\n",
      "579:\tlearn: 0.0243175\ttotal: 1.33s\tremaining: 967ms\n",
      "580:\tlearn: 0.0243173\ttotal: 1.34s\tremaining: 964ms\n",
      "581:\tlearn: 0.0243173\ttotal: 1.34s\tremaining: 961ms\n",
      "582:\tlearn: 0.0243170\ttotal: 1.34s\tremaining: 959ms\n",
      "583:\tlearn: 0.0243170\ttotal: 1.34s\tremaining: 957ms\n",
      "584:\tlearn: 0.0243169\ttotal: 1.35s\tremaining: 955ms\n",
      "585:\tlearn: 0.0243168\ttotal: 1.35s\tremaining: 953ms\n",
      "586:\tlearn: 0.0243164\ttotal: 1.35s\tremaining: 950ms\n",
      "587:\tlearn: 0.0243163\ttotal: 1.35s\tremaining: 948ms\n",
      "588:\tlearn: 0.0243163\ttotal: 1.35s\tremaining: 946ms\n",
      "589:\tlearn: 0.0243135\ttotal: 1.36s\tremaining: 943ms\n",
      "590:\tlearn: 0.0243135\ttotal: 1.36s\tremaining: 941ms\n",
      "591:\tlearn: 0.0243132\ttotal: 1.36s\tremaining: 938ms\n",
      "592:\tlearn: 0.0243131\ttotal: 1.36s\tremaining: 936ms\n",
      "593:\tlearn: 0.0243049\ttotal: 1.37s\tremaining: 935ms\n",
      "594:\tlearn: 0.0243048\ttotal: 1.37s\tremaining: 933ms\n",
      "595:\tlearn: 0.0243048\ttotal: 1.37s\tremaining: 930ms\n",
      "596:\tlearn: 0.0243048\ttotal: 1.37s\tremaining: 927ms\n",
      "597:\tlearn: 0.0243041\ttotal: 1.38s\tremaining: 925ms\n",
      "598:\tlearn: 0.0243040\ttotal: 1.38s\tremaining: 922ms\n",
      "599:\tlearn: 0.0243040\ttotal: 1.38s\tremaining: 920ms\n",
      "600:\tlearn: 0.0243039\ttotal: 1.38s\tremaining: 917ms\n",
      "601:\tlearn: 0.0243028\ttotal: 1.38s\tremaining: 915ms\n",
      "602:\tlearn: 0.0243027\ttotal: 1.39s\tremaining: 912ms\n",
      "603:\tlearn: 0.0243027\ttotal: 1.39s\tremaining: 910ms\n",
      "604:\tlearn: 0.0243026\ttotal: 1.39s\tremaining: 907ms\n",
      "605:\tlearn: 0.0243026\ttotal: 1.39s\tremaining: 905ms\n",
      "606:\tlearn: 0.0243025\ttotal: 1.39s\tremaining: 902ms\n",
      "607:\tlearn: 0.0243024\ttotal: 1.4s\tremaining: 900ms\n",
      "608:\tlearn: 0.0243024\ttotal: 1.4s\tremaining: 897ms\n",
      "609:\tlearn: 0.0243024\ttotal: 1.4s\tremaining: 895ms\n",
      "610:\tlearn: 0.0243024\ttotal: 1.4s\tremaining: 892ms\n",
      "611:\tlearn: 0.0243022\ttotal: 1.4s\tremaining: 890ms\n",
      "612:\tlearn: 0.0243021\ttotal: 1.41s\tremaining: 887ms\n",
      "613:\tlearn: 0.0243020\ttotal: 1.41s\tremaining: 885ms\n",
      "614:\tlearn: 0.0243020\ttotal: 1.41s\tremaining: 883ms\n",
      "615:\tlearn: 0.0243020\ttotal: 1.41s\tremaining: 881ms\n",
      "616:\tlearn: 0.0243019\ttotal: 1.41s\tremaining: 878ms\n",
      "617:\tlearn: 0.0243018\ttotal: 1.42s\tremaining: 876ms\n",
      "618:\tlearn: 0.0243018\ttotal: 1.42s\tremaining: 873ms\n",
      "619:\tlearn: 0.0243008\ttotal: 1.42s\tremaining: 871ms\n",
      "620:\tlearn: 0.0243008\ttotal: 1.42s\tremaining: 868ms\n",
      "621:\tlearn: 0.0243008\ttotal: 1.42s\tremaining: 866ms\n",
      "622:\tlearn: 0.0243007\ttotal: 1.43s\tremaining: 864ms\n",
      "623:\tlearn: 0.0243007\ttotal: 1.43s\tremaining: 862ms\n",
      "624:\tlearn: 0.0243007\ttotal: 1.43s\tremaining: 859ms\n",
      "625:\tlearn: 0.0243006\ttotal: 1.43s\tremaining: 857ms\n",
      "626:\tlearn: 0.0243006\ttotal: 1.44s\tremaining: 854ms\n",
      "627:\tlearn: 0.0243006\ttotal: 1.44s\tremaining: 851ms\n",
      "628:\tlearn: 0.0243005\ttotal: 1.44s\tremaining: 849ms\n",
      "629:\tlearn: 0.0243006\ttotal: 1.44s\tremaining: 846ms\n",
      "630:\tlearn: 0.0243004\ttotal: 1.44s\tremaining: 844ms\n",
      "631:\tlearn: 0.0243004\ttotal: 1.45s\tremaining: 842ms\n",
      "632:\tlearn: 0.0243003\ttotal: 1.45s\tremaining: 839ms\n",
      "633:\tlearn: 0.0243004\ttotal: 1.45s\tremaining: 837ms\n",
      "634:\tlearn: 0.0243002\ttotal: 1.45s\tremaining: 834ms\n",
      "635:\tlearn: 0.0243002\ttotal: 1.45s\tremaining: 832ms\n",
      "636:\tlearn: 0.0243001\ttotal: 1.46s\tremaining: 830ms\n",
      "637:\tlearn: 0.0242999\ttotal: 1.46s\tremaining: 827ms\n",
      "638:\tlearn: 0.0242996\ttotal: 1.46s\tremaining: 825ms\n",
      "639:\tlearn: 0.0242995\ttotal: 1.46s\tremaining: 822ms\n",
      "640:\tlearn: 0.0242994\ttotal: 1.46s\tremaining: 820ms\n",
      "641:\tlearn: 0.0242994\ttotal: 1.47s\tremaining: 817ms\n",
      "642:\tlearn: 0.0242991\ttotal: 1.47s\tremaining: 816ms\n",
      "643:\tlearn: 0.0242991\ttotal: 1.47s\tremaining: 814ms\n",
      "644:\tlearn: 0.0242988\ttotal: 1.47s\tremaining: 811ms\n",
      "645:\tlearn: 0.0242987\ttotal: 1.48s\tremaining: 809ms\n",
      "646:\tlearn: 0.0242987\ttotal: 1.48s\tremaining: 806ms\n",
      "647:\tlearn: 0.0242986\ttotal: 1.48s\tremaining: 804ms\n",
      "648:\tlearn: 0.0242985\ttotal: 1.48s\tremaining: 801ms\n",
      "649:\tlearn: 0.0242984\ttotal: 1.48s\tremaining: 799ms\n",
      "650:\tlearn: 0.0242984\ttotal: 1.49s\tremaining: 796ms\n",
      "651:\tlearn: 0.0242982\ttotal: 1.49s\tremaining: 794ms\n",
      "652:\tlearn: 0.0242983\ttotal: 1.49s\tremaining: 792ms\n",
      "653:\tlearn: 0.0242982\ttotal: 1.49s\tremaining: 790ms\n",
      "654:\tlearn: 0.0242981\ttotal: 1.5s\tremaining: 788ms\n",
      "655:\tlearn: 0.0242981\ttotal: 1.5s\tremaining: 785ms\n",
      "656:\tlearn: 0.0242981\ttotal: 1.5s\tremaining: 783ms\n",
      "657:\tlearn: 0.0242981\ttotal: 1.5s\tremaining: 780ms\n",
      "658:\tlearn: 0.0242980\ttotal: 1.5s\tremaining: 778ms\n",
      "659:\tlearn: 0.0242980\ttotal: 1.51s\tremaining: 776ms\n",
      "660:\tlearn: 0.0242980\ttotal: 1.51s\tremaining: 773ms\n",
      "661:\tlearn: 0.0242979\ttotal: 1.51s\tremaining: 772ms\n",
      "662:\tlearn: 0.0242974\ttotal: 1.51s\tremaining: 769ms\n",
      "663:\tlearn: 0.0241652\ttotal: 1.52s\tremaining: 767ms\n",
      "664:\tlearn: 0.0241377\ttotal: 1.52s\tremaining: 765ms\n",
      "665:\tlearn: 0.0241376\ttotal: 1.52s\tremaining: 762ms\n",
      "666:\tlearn: 0.0241371\ttotal: 1.52s\tremaining: 760ms\n",
      "667:\tlearn: 0.0241372\ttotal: 1.52s\tremaining: 757ms\n",
      "668:\tlearn: 0.0241372\ttotal: 1.52s\tremaining: 755ms\n",
      "669:\tlearn: 0.0241371\ttotal: 1.53s\tremaining: 753ms\n",
      "670:\tlearn: 0.0241370\ttotal: 1.53s\tremaining: 751ms\n",
      "671:\tlearn: 0.0241371\ttotal: 1.53s\tremaining: 749ms\n",
      "672:\tlearn: 0.0241369\ttotal: 1.54s\tremaining: 747ms\n",
      "673:\tlearn: 0.0241370\ttotal: 1.54s\tremaining: 744ms\n",
      "674:\tlearn: 0.0241370\ttotal: 1.54s\tremaining: 743ms\n",
      "675:\tlearn: 0.0241369\ttotal: 1.54s\tremaining: 740ms\n",
      "676:\tlearn: 0.0241369\ttotal: 1.55s\tremaining: 738ms\n",
      "677:\tlearn: 0.0241366\ttotal: 1.55s\tremaining: 735ms\n",
      "678:\tlearn: 0.0241365\ttotal: 1.55s\tremaining: 733ms\n",
      "679:\tlearn: 0.0241365\ttotal: 1.55s\tremaining: 730ms\n",
      "680:\tlearn: 0.0241364\ttotal: 1.55s\tremaining: 728ms\n",
      "681:\tlearn: 0.0241364\ttotal: 1.56s\tremaining: 726ms\n",
      "682:\tlearn: 0.0241364\ttotal: 1.56s\tremaining: 723ms\n",
      "683:\tlearn: 0.0241364\ttotal: 1.56s\tremaining: 721ms\n",
      "684:\tlearn: 0.0241364\ttotal: 1.56s\tremaining: 719ms\n",
      "685:\tlearn: 0.0241363\ttotal: 1.56s\tremaining: 717ms\n",
      "686:\tlearn: 0.0241363\ttotal: 1.57s\tremaining: 715ms\n",
      "687:\tlearn: 0.0241363\ttotal: 1.57s\tremaining: 712ms\n",
      "688:\tlearn: 0.0241360\ttotal: 1.57s\tremaining: 710ms\n",
      "689:\tlearn: 0.0241359\ttotal: 1.57s\tremaining: 707ms\n",
      "690:\tlearn: 0.0241359\ttotal: 1.58s\tremaining: 705ms\n",
      "691:\tlearn: 0.0241356\ttotal: 1.58s\tremaining: 703ms\n",
      "692:\tlearn: 0.0241355\ttotal: 1.58s\tremaining: 700ms\n",
      "693:\tlearn: 0.0241354\ttotal: 1.58s\tremaining: 698ms\n",
      "694:\tlearn: 0.0241354\ttotal: 1.58s\tremaining: 696ms\n",
      "695:\tlearn: 0.0241353\ttotal: 1.59s\tremaining: 693ms\n",
      "696:\tlearn: 0.0241353\ttotal: 1.59s\tremaining: 691ms\n",
      "697:\tlearn: 0.0241353\ttotal: 1.59s\tremaining: 689ms\n",
      "698:\tlearn: 0.0241353\ttotal: 1.59s\tremaining: 686ms\n",
      "699:\tlearn: 0.0241350\ttotal: 1.59s\tremaining: 684ms\n",
      "700:\tlearn: 0.0241350\ttotal: 1.6s\tremaining: 682ms\n",
      "701:\tlearn: 0.0241349\ttotal: 1.6s\tremaining: 679ms\n",
      "702:\tlearn: 0.0241349\ttotal: 1.6s\tremaining: 677ms\n",
      "703:\tlearn: 0.0241348\ttotal: 1.6s\tremaining: 674ms\n",
      "704:\tlearn: 0.0241347\ttotal: 1.61s\tremaining: 672ms\n",
      "705:\tlearn: 0.0241347\ttotal: 1.61s\tremaining: 671ms\n",
      "706:\tlearn: 0.0241347\ttotal: 1.61s\tremaining: 668ms\n",
      "707:\tlearn: 0.0241345\ttotal: 1.61s\tremaining: 666ms\n",
      "708:\tlearn: 0.0241345\ttotal: 1.62s\tremaining: 663ms\n",
      "709:\tlearn: 0.0241344\ttotal: 1.62s\tremaining: 661ms\n",
      "710:\tlearn: 0.0241343\ttotal: 1.62s\tremaining: 659ms\n",
      "711:\tlearn: 0.0241343\ttotal: 1.62s\tremaining: 656ms\n",
      "712:\tlearn: 0.0241341\ttotal: 1.62s\tremaining: 654ms\n",
      "713:\tlearn: 0.0241341\ttotal: 1.63s\tremaining: 651ms\n",
      "714:\tlearn: 0.0241340\ttotal: 1.63s\tremaining: 649ms\n",
      "715:\tlearn: 0.0241339\ttotal: 1.63s\tremaining: 647ms\n",
      "716:\tlearn: 0.0241340\ttotal: 1.63s\tremaining: 645ms\n",
      "717:\tlearn: 0.0241340\ttotal: 1.64s\tremaining: 642ms\n",
      "718:\tlearn: 0.0241339\ttotal: 1.64s\tremaining: 640ms\n",
      "719:\tlearn: 0.0241338\ttotal: 1.64s\tremaining: 638ms\n",
      "720:\tlearn: 0.0241339\ttotal: 1.64s\tremaining: 635ms\n",
      "721:\tlearn: 0.0241335\ttotal: 1.64s\tremaining: 633ms\n",
      "722:\tlearn: 0.0241334\ttotal: 1.65s\tremaining: 631ms\n",
      "723:\tlearn: 0.0241334\ttotal: 1.65s\tremaining: 628ms\n",
      "724:\tlearn: 0.0241334\ttotal: 1.65s\tremaining: 626ms\n",
      "725:\tlearn: 0.0241332\ttotal: 1.65s\tremaining: 624ms\n",
      "726:\tlearn: 0.0241332\ttotal: 1.66s\tremaining: 622ms\n",
      "727:\tlearn: 0.0241332\ttotal: 1.66s\tremaining: 620ms\n",
      "728:\tlearn: 0.0241331\ttotal: 1.66s\tremaining: 617ms\n",
      "729:\tlearn: 0.0241331\ttotal: 1.66s\tremaining: 615ms\n",
      "730:\tlearn: 0.0241331\ttotal: 1.67s\tremaining: 613ms\n",
      "731:\tlearn: 0.0241321\ttotal: 1.67s\tremaining: 611ms\n",
      "732:\tlearn: 0.0241321\ttotal: 1.67s\tremaining: 608ms\n",
      "733:\tlearn: 0.0241321\ttotal: 1.67s\tremaining: 606ms\n",
      "734:\tlearn: 0.0241320\ttotal: 1.67s\tremaining: 604ms\n",
      "735:\tlearn: 0.0241320\ttotal: 1.68s\tremaining: 601ms\n",
      "736:\tlearn: 0.0241320\ttotal: 1.68s\tremaining: 599ms\n",
      "737:\tlearn: 0.0241320\ttotal: 1.68s\tremaining: 597ms\n",
      "738:\tlearn: 0.0241319\ttotal: 1.69s\tremaining: 595ms\n",
      "739:\tlearn: 0.0241319\ttotal: 1.69s\tremaining: 593ms\n",
      "740:\tlearn: 0.0241318\ttotal: 1.69s\tremaining: 590ms\n",
      "741:\tlearn: 0.0241318\ttotal: 1.69s\tremaining: 588ms\n",
      "742:\tlearn: 0.0241315\ttotal: 1.69s\tremaining: 586ms\n",
      "743:\tlearn: 0.0241314\ttotal: 1.69s\tremaining: 583ms\n",
      "744:\tlearn: 0.0241314\ttotal: 1.7s\tremaining: 581ms\n",
      "745:\tlearn: 0.0241314\ttotal: 1.7s\tremaining: 578ms\n",
      "746:\tlearn: 0.0241313\ttotal: 1.7s\tremaining: 576ms\n",
      "747:\tlearn: 0.0241313\ttotal: 1.7s\tremaining: 573ms\n",
      "748:\tlearn: 0.0241312\ttotal: 1.7s\tremaining: 571ms\n",
      "749:\tlearn: 0.0241312\ttotal: 1.71s\tremaining: 569ms\n",
      "750:\tlearn: 0.0241312\ttotal: 1.71s\tremaining: 567ms\n",
      "751:\tlearn: 0.0241311\ttotal: 1.71s\tremaining: 564ms\n",
      "752:\tlearn: 0.0241311\ttotal: 1.71s\tremaining: 562ms\n",
      "753:\tlearn: 0.0241310\ttotal: 1.71s\tremaining: 559ms\n",
      "754:\tlearn: 0.0241309\ttotal: 1.72s\tremaining: 557ms\n",
      "755:\tlearn: 0.0241309\ttotal: 1.72s\tremaining: 555ms\n",
      "756:\tlearn: 0.0241309\ttotal: 1.72s\tremaining: 552ms\n",
      "757:\tlearn: 0.0241309\ttotal: 1.72s\tremaining: 550ms\n",
      "758:\tlearn: 0.0241305\ttotal: 1.72s\tremaining: 547ms\n",
      "759:\tlearn: 0.0241304\ttotal: 1.73s\tremaining: 545ms\n",
      "760:\tlearn: 0.0241304\ttotal: 1.73s\tremaining: 543ms\n",
      "761:\tlearn: 0.0241303\ttotal: 1.73s\tremaining: 540ms\n",
      "762:\tlearn: 0.0241303\ttotal: 1.73s\tremaining: 538ms\n",
      "763:\tlearn: 0.0241302\ttotal: 1.74s\tremaining: 536ms\n",
      "764:\tlearn: 0.0241301\ttotal: 1.74s\tremaining: 534ms\n",
      "765:\tlearn: 0.0241301\ttotal: 1.74s\tremaining: 531ms\n",
      "766:\tlearn: 0.0241301\ttotal: 1.74s\tremaining: 529ms\n",
      "767:\tlearn: 0.0241300\ttotal: 1.74s\tremaining: 527ms\n",
      "768:\tlearn: 0.0241299\ttotal: 1.75s\tremaining: 525ms\n",
      "769:\tlearn: 0.0241298\ttotal: 1.75s\tremaining: 522ms\n",
      "770:\tlearn: 0.0241297\ttotal: 1.75s\tremaining: 520ms\n",
      "771:\tlearn: 0.0241297\ttotal: 1.75s\tremaining: 517ms\n",
      "772:\tlearn: 0.0241296\ttotal: 1.75s\tremaining: 515ms\n",
      "773:\tlearn: 0.0241296\ttotal: 1.76s\tremaining: 513ms\n",
      "774:\tlearn: 0.0241296\ttotal: 1.76s\tremaining: 511ms\n",
      "775:\tlearn: 0.0241296\ttotal: 1.76s\tremaining: 508ms\n",
      "776:\tlearn: 0.0241296\ttotal: 1.76s\tremaining: 506ms\n",
      "777:\tlearn: 0.0241296\ttotal: 1.76s\tremaining: 504ms\n",
      "778:\tlearn: 0.0241294\ttotal: 1.77s\tremaining: 501ms\n",
      "779:\tlearn: 0.0241294\ttotal: 1.77s\tremaining: 499ms\n",
      "780:\tlearn: 0.0241284\ttotal: 1.77s\tremaining: 497ms\n",
      "781:\tlearn: 0.0241284\ttotal: 1.77s\tremaining: 494ms\n",
      "782:\tlearn: 0.0241283\ttotal: 1.77s\tremaining: 492ms\n",
      "783:\tlearn: 0.0241283\ttotal: 1.78s\tremaining: 490ms\n",
      "784:\tlearn: 0.0241283\ttotal: 1.78s\tremaining: 487ms\n",
      "785:\tlearn: 0.0241282\ttotal: 1.78s\tremaining: 485ms\n",
      "786:\tlearn: 0.0241282\ttotal: 1.78s\tremaining: 483ms\n",
      "787:\tlearn: 0.0241281\ttotal: 1.78s\tremaining: 480ms\n",
      "788:\tlearn: 0.0241281\ttotal: 1.79s\tremaining: 478ms\n",
      "789:\tlearn: 0.0241282\ttotal: 1.79s\tremaining: 476ms\n",
      "790:\tlearn: 0.0241281\ttotal: 1.79s\tremaining: 473ms\n",
      "791:\tlearn: 0.0241277\ttotal: 1.79s\tremaining: 471ms\n",
      "792:\tlearn: 0.0241276\ttotal: 1.8s\tremaining: 469ms\n",
      "793:\tlearn: 0.0241277\ttotal: 1.8s\tremaining: 467ms\n",
      "794:\tlearn: 0.0241276\ttotal: 1.8s\tremaining: 464ms\n",
      "795:\tlearn: 0.0241276\ttotal: 1.8s\tremaining: 462ms\n",
      "796:\tlearn: 0.0241276\ttotal: 1.8s\tremaining: 460ms\n",
      "797:\tlearn: 0.0241276\ttotal: 1.81s\tremaining: 457ms\n",
      "798:\tlearn: 0.0241275\ttotal: 1.81s\tremaining: 455ms\n",
      "799:\tlearn: 0.0241275\ttotal: 1.81s\tremaining: 453ms\n",
      "800:\tlearn: 0.0241274\ttotal: 1.81s\tremaining: 450ms\n",
      "801:\tlearn: 0.0241275\ttotal: 1.81s\tremaining: 448ms\n",
      "802:\tlearn: 0.0241274\ttotal: 1.82s\tremaining: 446ms\n",
      "803:\tlearn: 0.0241273\ttotal: 1.82s\tremaining: 444ms\n",
      "804:\tlearn: 0.0241273\ttotal: 1.82s\tremaining: 441ms\n",
      "805:\tlearn: 0.0241273\ttotal: 1.82s\tremaining: 439ms\n",
      "806:\tlearn: 0.0241273\ttotal: 1.82s\tremaining: 436ms\n",
      "807:\tlearn: 0.0241272\ttotal: 1.83s\tremaining: 434ms\n",
      "808:\tlearn: 0.0241272\ttotal: 1.83s\tremaining: 432ms\n",
      "809:\tlearn: 0.0241272\ttotal: 1.83s\tremaining: 430ms\n",
      "810:\tlearn: 0.0241272\ttotal: 1.83s\tremaining: 427ms\n",
      "811:\tlearn: 0.0241272\ttotal: 1.84s\tremaining: 425ms\n",
      "812:\tlearn: 0.0241271\ttotal: 1.84s\tremaining: 423ms\n",
      "813:\tlearn: 0.0241271\ttotal: 1.84s\tremaining: 420ms\n",
      "814:\tlearn: 0.0241134\ttotal: 1.84s\tremaining: 418ms\n",
      "815:\tlearn: 0.0241134\ttotal: 1.84s\tremaining: 416ms\n",
      "816:\tlearn: 0.0241134\ttotal: 1.85s\tremaining: 414ms\n",
      "817:\tlearn: 0.0241131\ttotal: 1.85s\tremaining: 411ms\n",
      "818:\tlearn: 0.0241131\ttotal: 1.85s\tremaining: 409ms\n",
      "819:\tlearn: 0.0241130\ttotal: 1.85s\tremaining: 407ms\n",
      "820:\tlearn: 0.0241130\ttotal: 1.86s\tremaining: 405ms\n",
      "821:\tlearn: 0.0241129\ttotal: 1.86s\tremaining: 402ms\n",
      "822:\tlearn: 0.0241129\ttotal: 1.86s\tremaining: 400ms\n",
      "823:\tlearn: 0.0241129\ttotal: 1.86s\tremaining: 398ms\n",
      "824:\tlearn: 0.0241127\ttotal: 1.86s\tremaining: 396ms\n",
      "825:\tlearn: 0.0241128\ttotal: 1.87s\tremaining: 393ms\n",
      "826:\tlearn: 0.0241127\ttotal: 1.87s\tremaining: 391ms\n",
      "827:\tlearn: 0.0241126\ttotal: 1.87s\tremaining: 389ms\n",
      "828:\tlearn: 0.0241126\ttotal: 1.88s\tremaining: 387ms\n",
      "829:\tlearn: 0.0241126\ttotal: 1.88s\tremaining: 384ms\n",
      "830:\tlearn: 0.0241125\ttotal: 1.88s\tremaining: 382ms\n",
      "831:\tlearn: 0.0241125\ttotal: 1.88s\tremaining: 380ms\n",
      "832:\tlearn: 0.0241125\ttotal: 1.88s\tremaining: 378ms\n",
      "833:\tlearn: 0.0241125\ttotal: 1.89s\tremaining: 375ms\n",
      "834:\tlearn: 0.0241124\ttotal: 1.89s\tremaining: 373ms\n",
      "835:\tlearn: 0.0241124\ttotal: 1.89s\tremaining: 371ms\n",
      "836:\tlearn: 0.0241124\ttotal: 1.89s\tremaining: 368ms\n",
      "837:\tlearn: 0.0241124\ttotal: 1.89s\tremaining: 366ms\n",
      "838:\tlearn: 0.0241123\ttotal: 1.9s\tremaining: 364ms\n",
      "839:\tlearn: 0.0241123\ttotal: 1.9s\tremaining: 362ms\n",
      "840:\tlearn: 0.0241119\ttotal: 1.9s\tremaining: 359ms\n",
      "841:\tlearn: 0.0241119\ttotal: 1.9s\tremaining: 357ms\n",
      "842:\tlearn: 0.0241119\ttotal: 1.9s\tremaining: 355ms\n",
      "843:\tlearn: 0.0241118\ttotal: 1.91s\tremaining: 352ms\n",
      "844:\tlearn: 0.0241045\ttotal: 1.91s\tremaining: 350ms\n",
      "845:\tlearn: 0.0241045\ttotal: 1.91s\tremaining: 348ms\n",
      "846:\tlearn: 0.0241045\ttotal: 1.91s\tremaining: 345ms\n",
      "847:\tlearn: 0.0241045\ttotal: 1.91s\tremaining: 343ms\n",
      "848:\tlearn: 0.0241044\ttotal: 1.92s\tremaining: 341ms\n",
      "849:\tlearn: 0.0241044\ttotal: 1.92s\tremaining: 338ms\n",
      "850:\tlearn: 0.0241044\ttotal: 1.92s\tremaining: 336ms\n",
      "851:\tlearn: 0.0241044\ttotal: 1.92s\tremaining: 334ms\n",
      "852:\tlearn: 0.0241044\ttotal: 1.92s\tremaining: 332ms\n",
      "853:\tlearn: 0.0241043\ttotal: 1.93s\tremaining: 329ms\n",
      "854:\tlearn: 0.0240699\ttotal: 1.93s\tremaining: 327ms\n",
      "855:\tlearn: 0.0240699\ttotal: 1.93s\tremaining: 325ms\n",
      "856:\tlearn: 0.0240699\ttotal: 1.93s\tremaining: 322ms\n",
      "857:\tlearn: 0.0240698\ttotal: 1.93s\tremaining: 320ms\n",
      "858:\tlearn: 0.0240698\ttotal: 1.94s\tremaining: 318ms\n",
      "859:\tlearn: 0.0240698\ttotal: 1.94s\tremaining: 315ms\n",
      "860:\tlearn: 0.0240698\ttotal: 1.94s\tremaining: 313ms\n",
      "861:\tlearn: 0.0240698\ttotal: 1.94s\tremaining: 311ms\n",
      "862:\tlearn: 0.0240697\ttotal: 1.94s\tremaining: 309ms\n",
      "863:\tlearn: 0.0240697\ttotal: 1.95s\tremaining: 306ms\n",
      "864:\tlearn: 0.0240697\ttotal: 1.95s\tremaining: 304ms\n",
      "865:\tlearn: 0.0240696\ttotal: 1.95s\tremaining: 302ms\n",
      "866:\tlearn: 0.0240697\ttotal: 1.95s\tremaining: 299ms\n",
      "867:\tlearn: 0.0240696\ttotal: 1.95s\tremaining: 297ms\n",
      "868:\tlearn: 0.0240696\ttotal: 1.96s\tremaining: 295ms\n",
      "869:\tlearn: 0.0240695\ttotal: 1.96s\tremaining: 293ms\n",
      "870:\tlearn: 0.0240695\ttotal: 1.96s\tremaining: 290ms\n",
      "871:\tlearn: 0.0240368\ttotal: 1.96s\tremaining: 288ms\n",
      "872:\tlearn: 0.0240169\ttotal: 1.96s\tremaining: 286ms\n",
      "873:\tlearn: 0.0240169\ttotal: 1.97s\tremaining: 284ms\n",
      "874:\tlearn: 0.0240059\ttotal: 1.97s\tremaining: 282ms\n",
      "875:\tlearn: 0.0240059\ttotal: 1.97s\tremaining: 279ms\n",
      "876:\tlearn: 0.0240059\ttotal: 1.98s\tremaining: 277ms\n",
      "877:\tlearn: 0.0240059\ttotal: 1.98s\tremaining: 275ms\n",
      "878:\tlearn: 0.0240058\ttotal: 1.98s\tremaining: 272ms\n",
      "879:\tlearn: 0.0240057\ttotal: 1.98s\tremaining: 270ms\n",
      "880:\tlearn: 0.0240057\ttotal: 1.98s\tremaining: 268ms\n",
      "881:\tlearn: 0.0240057\ttotal: 1.99s\tremaining: 266ms\n",
      "882:\tlearn: 0.0240056\ttotal: 1.99s\tremaining: 263ms\n",
      "883:\tlearn: 0.0240055\ttotal: 1.99s\tremaining: 261ms\n",
      "884:\tlearn: 0.0240055\ttotal: 1.99s\tremaining: 259ms\n",
      "885:\tlearn: 0.0240055\ttotal: 2s\tremaining: 257ms\n",
      "886:\tlearn: 0.0240053\ttotal: 2s\tremaining: 255ms\n",
      "887:\tlearn: 0.0240052\ttotal: 2s\tremaining: 252ms\n",
      "888:\tlearn: 0.0239829\ttotal: 2s\tremaining: 250ms\n",
      "889:\tlearn: 0.0239636\ttotal: 2s\tremaining: 248ms\n",
      "890:\tlearn: 0.0239257\ttotal: 2.01s\tremaining: 246ms\n",
      "891:\tlearn: 0.0239105\ttotal: 2.01s\tremaining: 243ms\n",
      "892:\tlearn: 0.0238672\ttotal: 2.01s\tremaining: 241ms\n",
      "893:\tlearn: 0.0238356\ttotal: 2.01s\tremaining: 239ms\n",
      "894:\tlearn: 0.0238355\ttotal: 2.02s\tremaining: 237ms\n",
      "895:\tlearn: 0.0238355\ttotal: 2.02s\tremaining: 234ms\n",
      "896:\tlearn: 0.0238354\ttotal: 2.02s\tremaining: 232ms\n",
      "897:\tlearn: 0.0238354\ttotal: 2.02s\tremaining: 230ms\n",
      "898:\tlearn: 0.0238354\ttotal: 2.02s\tremaining: 227ms\n",
      "899:\tlearn: 0.0238354\ttotal: 2.03s\tremaining: 225ms\n",
      "900:\tlearn: 0.0238354\ttotal: 2.03s\tremaining: 223ms\n",
      "901:\tlearn: 0.0238354\ttotal: 2.03s\tremaining: 221ms\n",
      "902:\tlearn: 0.0238353\ttotal: 2.03s\tremaining: 218ms\n",
      "903:\tlearn: 0.0238353\ttotal: 2.04s\tremaining: 216ms\n",
      "904:\tlearn: 0.0238354\ttotal: 2.04s\tremaining: 214ms\n",
      "905:\tlearn: 0.0238353\ttotal: 2.04s\tremaining: 212ms\n",
      "906:\tlearn: 0.0238353\ttotal: 2.04s\tremaining: 210ms\n",
      "907:\tlearn: 0.0238352\ttotal: 2.04s\tremaining: 207ms\n",
      "908:\tlearn: 0.0238352\ttotal: 2.05s\tremaining: 205ms\n",
      "909:\tlearn: 0.0238352\ttotal: 2.05s\tremaining: 203ms\n",
      "910:\tlearn: 0.0238352\ttotal: 2.05s\tremaining: 200ms\n",
      "911:\tlearn: 0.0238352\ttotal: 2.05s\tremaining: 198ms\n",
      "912:\tlearn: 0.0238352\ttotal: 2.06s\tremaining: 196ms\n",
      "913:\tlearn: 0.0238352\ttotal: 2.06s\tremaining: 194ms\n",
      "914:\tlearn: 0.0238352\ttotal: 2.06s\tremaining: 191ms\n",
      "915:\tlearn: 0.0238352\ttotal: 2.06s\tremaining: 189ms\n",
      "916:\tlearn: 0.0238352\ttotal: 2.06s\tremaining: 187ms\n",
      "917:\tlearn: 0.0238351\ttotal: 2.07s\tremaining: 185ms\n",
      "918:\tlearn: 0.0238352\ttotal: 2.07s\tremaining: 182ms\n",
      "919:\tlearn: 0.0238351\ttotal: 2.07s\tremaining: 180ms\n",
      "920:\tlearn: 0.0238351\ttotal: 2.07s\tremaining: 178ms\n",
      "921:\tlearn: 0.0238350\ttotal: 2.07s\tremaining: 175ms\n",
      "922:\tlearn: 0.0238350\ttotal: 2.08s\tremaining: 173ms\n",
      "923:\tlearn: 0.0238349\ttotal: 2.08s\tremaining: 171ms\n",
      "924:\tlearn: 0.0238350\ttotal: 2.08s\tremaining: 169ms\n",
      "925:\tlearn: 0.0238349\ttotal: 2.08s\tremaining: 167ms\n",
      "926:\tlearn: 0.0238348\ttotal: 2.08s\tremaining: 164ms\n",
      "927:\tlearn: 0.0238349\ttotal: 2.09s\tremaining: 162ms\n",
      "928:\tlearn: 0.0238348\ttotal: 2.09s\tremaining: 160ms\n",
      "929:\tlearn: 0.0238348\ttotal: 2.09s\tremaining: 157ms\n",
      "930:\tlearn: 0.0238348\ttotal: 2.09s\tremaining: 155ms\n",
      "931:\tlearn: 0.0238348\ttotal: 2.1s\tremaining: 153ms\n",
      "932:\tlearn: 0.0238348\ttotal: 2.1s\tremaining: 151ms\n",
      "933:\tlearn: 0.0238348\ttotal: 2.1s\tremaining: 148ms\n",
      "934:\tlearn: 0.0238347\ttotal: 2.1s\tremaining: 146ms\n",
      "935:\tlearn: 0.0238347\ttotal: 2.1s\tremaining: 144ms\n",
      "936:\tlearn: 0.0238346\ttotal: 2.11s\tremaining: 142ms\n",
      "937:\tlearn: 0.0238346\ttotal: 2.11s\tremaining: 139ms\n",
      "938:\tlearn: 0.0238339\ttotal: 2.11s\tremaining: 137ms\n",
      "939:\tlearn: 0.0238338\ttotal: 2.11s\tremaining: 135ms\n",
      "940:\tlearn: 0.0238333\ttotal: 2.11s\tremaining: 133ms\n",
      "941:\tlearn: 0.0238332\ttotal: 2.12s\tremaining: 130ms\n",
      "942:\tlearn: 0.0238331\ttotal: 2.12s\tremaining: 128ms\n",
      "943:\tlearn: 0.0238331\ttotal: 2.12s\tremaining: 126ms\n",
      "944:\tlearn: 0.0238331\ttotal: 2.13s\tremaining: 124ms\n",
      "945:\tlearn: 0.0238330\ttotal: 2.13s\tremaining: 121ms\n",
      "946:\tlearn: 0.0238330\ttotal: 2.13s\tremaining: 119ms\n",
      "947:\tlearn: 0.0238330\ttotal: 2.13s\tremaining: 117ms\n",
      "948:\tlearn: 0.0238330\ttotal: 2.13s\tremaining: 115ms\n",
      "949:\tlearn: 0.0238329\ttotal: 2.13s\tremaining: 112ms\n",
      "950:\tlearn: 0.0238329\ttotal: 2.14s\tremaining: 110ms\n",
      "951:\tlearn: 0.0238329\ttotal: 2.14s\tremaining: 108ms\n",
      "952:\tlearn: 0.0238328\ttotal: 2.14s\tremaining: 106ms\n",
      "953:\tlearn: 0.0238328\ttotal: 2.14s\tremaining: 103ms\n",
      "954:\tlearn: 0.0238328\ttotal: 2.15s\tremaining: 101ms\n",
      "955:\tlearn: 0.0238328\ttotal: 2.15s\tremaining: 98.9ms\n",
      "956:\tlearn: 0.0238327\ttotal: 2.15s\tremaining: 96.6ms\n",
      "957:\tlearn: 0.0238208\ttotal: 2.15s\tremaining: 94.3ms\n",
      "958:\tlearn: 0.0238207\ttotal: 2.15s\tremaining: 92.1ms\n",
      "959:\tlearn: 0.0238205\ttotal: 2.16s\tremaining: 89.9ms\n",
      "960:\tlearn: 0.0238205\ttotal: 2.16s\tremaining: 87.6ms\n",
      "961:\tlearn: 0.0238205\ttotal: 2.16s\tremaining: 85.4ms\n",
      "962:\tlearn: 0.0238204\ttotal: 2.16s\tremaining: 83.1ms\n",
      "963:\tlearn: 0.0238204\ttotal: 2.17s\tremaining: 80.9ms\n",
      "964:\tlearn: 0.0238204\ttotal: 2.17s\tremaining: 78.6ms\n",
      "965:\tlearn: 0.0238204\ttotal: 2.17s\tremaining: 76.4ms\n",
      "966:\tlearn: 0.0238203\ttotal: 2.17s\tremaining: 74.1ms\n",
      "967:\tlearn: 0.0238203\ttotal: 2.17s\tremaining: 71.8ms\n",
      "968:\tlearn: 0.0238203\ttotal: 2.17s\tremaining: 69.6ms\n",
      "969:\tlearn: 0.0238203\ttotal: 2.18s\tremaining: 67.3ms\n",
      "970:\tlearn: 0.0238203\ttotal: 2.18s\tremaining: 65.1ms\n",
      "971:\tlearn: 0.0238202\ttotal: 2.18s\tremaining: 62.9ms\n",
      "972:\tlearn: 0.0238202\ttotal: 2.18s\tremaining: 60.6ms\n",
      "973:\tlearn: 0.0238201\ttotal: 2.19s\tremaining: 58.4ms\n",
      "974:\tlearn: 0.0238200\ttotal: 2.19s\tremaining: 56.1ms\n",
      "975:\tlearn: 0.0238201\ttotal: 2.19s\tremaining: 53.9ms\n",
      "976:\tlearn: 0.0238201\ttotal: 2.19s\tremaining: 51.6ms\n",
      "977:\tlearn: 0.0238201\ttotal: 2.19s\tremaining: 49.4ms\n",
      "978:\tlearn: 0.0238200\ttotal: 2.19s\tremaining: 47.1ms\n",
      "979:\tlearn: 0.0238201\ttotal: 2.2s\tremaining: 44.9ms\n",
      "980:\tlearn: 0.0238201\ttotal: 2.2s\tremaining: 42.6ms\n",
      "981:\tlearn: 0.0238200\ttotal: 2.2s\tremaining: 40.3ms\n",
      "982:\tlearn: 0.0238200\ttotal: 2.2s\tremaining: 38.1ms\n",
      "983:\tlearn: 0.0238200\ttotal: 2.21s\tremaining: 35.9ms\n",
      "984:\tlearn: 0.0238201\ttotal: 2.21s\tremaining: 33.6ms\n",
      "985:\tlearn: 0.0238200\ttotal: 2.21s\tremaining: 31.4ms\n",
      "986:\tlearn: 0.0238201\ttotal: 2.21s\tremaining: 29.1ms\n",
      "987:\tlearn: 0.0238200\ttotal: 2.21s\tremaining: 26.9ms\n",
      "988:\tlearn: 0.0238200\ttotal: 2.21s\tremaining: 24.6ms\n",
      "989:\tlearn: 0.0238200\ttotal: 2.22s\tremaining: 22.4ms\n",
      "990:\tlearn: 0.0238199\ttotal: 2.22s\tremaining: 20.2ms\n",
      "991:\tlearn: 0.0238199\ttotal: 2.22s\tremaining: 17.9ms\n",
      "992:\tlearn: 0.0238199\ttotal: 2.22s\tremaining: 15.7ms\n",
      "993:\tlearn: 0.0238072\ttotal: 2.23s\tremaining: 13.4ms\n",
      "994:\tlearn: 0.0238014\ttotal: 2.23s\tremaining: 11.2ms\n",
      "995:\tlearn: 0.0238013\ttotal: 2.23s\tremaining: 8.96ms\n",
      "996:\tlearn: 0.0238013\ttotal: 2.23s\tremaining: 6.72ms\n",
      "997:\tlearn: 0.0238013\ttotal: 2.23s\tremaining: 4.48ms\n",
      "998:\tlearn: 0.0238013\ttotal: 2.24s\tremaining: 2.24ms\n",
      "999:\tlearn: 0.0238012\ttotal: 2.24s\tremaining: 0us\n",
      "0:\tlearn: 0.3845476\ttotal: 2.5ms\tremaining: 2.5s\n",
      "1:\tlearn: 0.2478145\ttotal: 5.33ms\tremaining: 2.66s\n",
      "2:\tlearn: 0.2135596\ttotal: 7.35ms\tremaining: 2.44s\n",
      "3:\tlearn: 0.1818398\ttotal: 9.65ms\tremaining: 2.4s\n",
      "4:\tlearn: 0.1686181\ttotal: 11.8ms\tremaining: 2.34s\n",
      "5:\tlearn: 0.1592721\ttotal: 14.1ms\tremaining: 2.34s\n",
      "6:\tlearn: 0.1474924\ttotal: 17.7ms\tremaining: 2.51s\n",
      "7:\tlearn: 0.1414747\ttotal: 20.3ms\tremaining: 2.52s\n",
      "8:\tlearn: 0.1357625\ttotal: 22.4ms\tremaining: 2.46s\n",
      "9:\tlearn: 0.1321128\ttotal: 24.3ms\tremaining: 2.41s\n",
      "10:\tlearn: 0.1257655\ttotal: 26.7ms\tremaining: 2.4s\n",
      "11:\tlearn: 0.1216562\ttotal: 29.4ms\tremaining: 2.42s\n",
      "12:\tlearn: 0.1180476\ttotal: 31.5ms\tremaining: 2.39s\n",
      "13:\tlearn: 0.1142198\ttotal: 33.5ms\tremaining: 2.36s\n",
      "14:\tlearn: 0.1103945\ttotal: 35.5ms\tremaining: 2.33s\n",
      "15:\tlearn: 0.1066945\ttotal: 37.6ms\tremaining: 2.31s\n",
      "16:\tlearn: 0.1037714\ttotal: 42.2ms\tremaining: 2.44s\n",
      "17:\tlearn: 0.1016935\ttotal: 45ms\tremaining: 2.45s\n",
      "18:\tlearn: 0.1001519\ttotal: 47.1ms\tremaining: 2.43s\n",
      "19:\tlearn: 0.0975475\ttotal: 49.1ms\tremaining: 2.41s\n",
      "20:\tlearn: 0.0960525\ttotal: 51.3ms\tremaining: 2.39s\n",
      "21:\tlearn: 0.0940876\ttotal: 55ms\tremaining: 2.44s\n",
      "22:\tlearn: 0.0927224\ttotal: 57ms\tremaining: 2.42s\n",
      "23:\tlearn: 0.0917693\ttotal: 59.1ms\tremaining: 2.4s\n",
      "24:\tlearn: 0.0893868\ttotal: 61.9ms\tremaining: 2.41s\n",
      "25:\tlearn: 0.0869753\ttotal: 64.3ms\tremaining: 2.41s\n",
      "26:\tlearn: 0.0868539\ttotal: 66.1ms\tremaining: 2.38s\n",
      "27:\tlearn: 0.0851336\ttotal: 68.2ms\tremaining: 2.37s\n",
      "28:\tlearn: 0.0840058\ttotal: 70.2ms\tremaining: 2.35s\n",
      "29:\tlearn: 0.0822894\ttotal: 72.5ms\tremaining: 2.35s\n",
      "30:\tlearn: 0.0809274\ttotal: 74.5ms\tremaining: 2.33s\n",
      "31:\tlearn: 0.0798100\ttotal: 76.5ms\tremaining: 2.31s\n",
      "32:\tlearn: 0.0790440\ttotal: 78.9ms\tremaining: 2.31s\n",
      "33:\tlearn: 0.0771472\ttotal: 82ms\tremaining: 2.33s\n",
      "34:\tlearn: 0.0762622\ttotal: 84.2ms\tremaining: 2.32s\n",
      "35:\tlearn: 0.0749734\ttotal: 86.3ms\tremaining: 2.31s\n",
      "36:\tlearn: 0.0740987\ttotal: 88.2ms\tremaining: 2.3s\n",
      "37:\tlearn: 0.0727211\ttotal: 90.4ms\tremaining: 2.29s\n",
      "38:\tlearn: 0.0717095\ttotal: 92.7ms\tremaining: 2.28s\n",
      "39:\tlearn: 0.0699837\ttotal: 95.6ms\tremaining: 2.29s\n",
      "40:\tlearn: 0.0691923\ttotal: 97.6ms\tremaining: 2.28s\n",
      "41:\tlearn: 0.0681980\ttotal: 100ms\tremaining: 2.28s\n",
      "42:\tlearn: 0.0672333\ttotal: 103ms\tremaining: 2.3s\n",
      "43:\tlearn: 0.0662232\ttotal: 106ms\tremaining: 2.3s\n",
      "44:\tlearn: 0.0653693\ttotal: 108ms\tremaining: 2.29s\n",
      "45:\tlearn: 0.0638391\ttotal: 110ms\tremaining: 2.28s\n",
      "46:\tlearn: 0.0631620\ttotal: 112ms\tremaining: 2.27s\n",
      "47:\tlearn: 0.0620032\ttotal: 114ms\tremaining: 2.26s\n",
      "48:\tlearn: 0.0614617\ttotal: 117ms\tremaining: 2.26s\n",
      "49:\tlearn: 0.0607977\ttotal: 119ms\tremaining: 2.26s\n",
      "50:\tlearn: 0.0603176\ttotal: 122ms\tremaining: 2.26s\n",
      "51:\tlearn: 0.0593076\ttotal: 124ms\tremaining: 2.25s\n",
      "52:\tlearn: 0.0585580\ttotal: 126ms\tremaining: 2.24s\n",
      "53:\tlearn: 0.0576754\ttotal: 128ms\tremaining: 2.24s\n",
      "54:\tlearn: 0.0571976\ttotal: 130ms\tremaining: 2.24s\n",
      "55:\tlearn: 0.0566372\ttotal: 133ms\tremaining: 2.24s\n",
      "56:\tlearn: 0.0563783\ttotal: 135ms\tremaining: 2.23s\n",
      "57:\tlearn: 0.0560215\ttotal: 137ms\tremaining: 2.22s\n",
      "58:\tlearn: 0.0553153\ttotal: 139ms\tremaining: 2.21s\n",
      "59:\tlearn: 0.0545463\ttotal: 143ms\tremaining: 2.23s\n",
      "60:\tlearn: 0.0536112\ttotal: 145ms\tremaining: 2.23s\n",
      "61:\tlearn: 0.0529433\ttotal: 147ms\tremaining: 2.23s\n",
      "62:\tlearn: 0.0524823\ttotal: 149ms\tremaining: 2.22s\n",
      "63:\tlearn: 0.0524268\ttotal: 151ms\tremaining: 2.2s\n",
      "64:\tlearn: 0.0518590\ttotal: 153ms\tremaining: 2.21s\n",
      "65:\tlearn: 0.0509857\ttotal: 156ms\tremaining: 2.21s\n",
      "66:\tlearn: 0.0504512\ttotal: 158ms\tremaining: 2.2s\n",
      "67:\tlearn: 0.0500767\ttotal: 160ms\tremaining: 2.2s\n",
      "68:\tlearn: 0.0498318\ttotal: 163ms\tremaining: 2.2s\n",
      "69:\tlearn: 0.0494233\ttotal: 165ms\tremaining: 2.2s\n",
      "70:\tlearn: 0.0488690\ttotal: 168ms\tremaining: 2.2s\n",
      "71:\tlearn: 0.0488282\ttotal: 170ms\tremaining: 2.19s\n",
      "72:\tlearn: 0.0484463\ttotal: 172ms\tremaining: 2.18s\n",
      "73:\tlearn: 0.0481954\ttotal: 174ms\tremaining: 2.17s\n",
      "74:\tlearn: 0.0478540\ttotal: 176ms\tremaining: 2.16s\n",
      "75:\tlearn: 0.0468178\ttotal: 178ms\tremaining: 2.16s\n",
      "76:\tlearn: 0.0461962\ttotal: 180ms\tremaining: 2.16s\n",
      "77:\tlearn: 0.0456712\ttotal: 183ms\tremaining: 2.16s\n",
      "78:\tlearn: 0.0455053\ttotal: 186ms\tremaining: 2.17s\n",
      "79:\tlearn: 0.0449999\ttotal: 188ms\tremaining: 2.16s\n",
      "80:\tlearn: 0.0444461\ttotal: 190ms\tremaining: 2.15s\n",
      "81:\tlearn: 0.0441061\ttotal: 192ms\tremaining: 2.15s\n",
      "82:\tlearn: 0.0435979\ttotal: 194ms\tremaining: 2.15s\n",
      "83:\tlearn: 0.0434095\ttotal: 197ms\tremaining: 2.14s\n",
      "84:\tlearn: 0.0431610\ttotal: 199ms\tremaining: 2.14s\n",
      "85:\tlearn: 0.0428605\ttotal: 201ms\tremaining: 2.13s\n",
      "86:\tlearn: 0.0421584\ttotal: 203ms\tremaining: 2.13s\n",
      "87:\tlearn: 0.0419069\ttotal: 208ms\tremaining: 2.16s\n",
      "88:\tlearn: 0.0417020\ttotal: 211ms\tremaining: 2.15s\n",
      "89:\tlearn: 0.0413257\ttotal: 213ms\tremaining: 2.15s\n",
      "90:\tlearn: 0.0410424\ttotal: 215ms\tremaining: 2.14s\n",
      "91:\tlearn: 0.0408943\ttotal: 217ms\tremaining: 2.14s\n",
      "92:\tlearn: 0.0405423\ttotal: 220ms\tremaining: 2.14s\n",
      "93:\tlearn: 0.0402475\ttotal: 222ms\tremaining: 2.14s\n",
      "94:\tlearn: 0.0397871\ttotal: 224ms\tremaining: 2.14s\n",
      "95:\tlearn: 0.0396340\ttotal: 227ms\tremaining: 2.14s\n",
      "96:\tlearn: 0.0395156\ttotal: 229ms\tremaining: 2.13s\n",
      "97:\tlearn: 0.0393525\ttotal: 232ms\tremaining: 2.13s\n",
      "98:\tlearn: 0.0390838\ttotal: 234ms\tremaining: 2.13s\n",
      "99:\tlearn: 0.0386776\ttotal: 236ms\tremaining: 2.12s\n",
      "100:\tlearn: 0.0385757\ttotal: 238ms\tremaining: 2.12s\n",
      "101:\tlearn: 0.0383143\ttotal: 240ms\tremaining: 2.11s\n",
      "102:\tlearn: 0.0378483\ttotal: 242ms\tremaining: 2.11s\n",
      "103:\tlearn: 0.0376271\ttotal: 245ms\tremaining: 2.11s\n",
      "104:\tlearn: 0.0375072\ttotal: 249ms\tremaining: 2.12s\n",
      "105:\tlearn: 0.0372283\ttotal: 251ms\tremaining: 2.12s\n",
      "106:\tlearn: 0.0371664\ttotal: 253ms\tremaining: 2.11s\n",
      "107:\tlearn: 0.0370348\ttotal: 255ms\tremaining: 2.11s\n",
      "108:\tlearn: 0.0368266\ttotal: 258ms\tremaining: 2.1s\n",
      "109:\tlearn: 0.0363859\ttotal: 260ms\tremaining: 2.1s\n",
      "110:\tlearn: 0.0360549\ttotal: 262ms\tremaining: 2.1s\n",
      "111:\tlearn: 0.0356858\ttotal: 264ms\tremaining: 2.09s\n",
      "112:\tlearn: 0.0354427\ttotal: 266ms\tremaining: 2.09s\n",
      "113:\tlearn: 0.0352698\ttotal: 269ms\tremaining: 2.09s\n",
      "114:\tlearn: 0.0351955\ttotal: 272ms\tremaining: 2.09s\n",
      "115:\tlearn: 0.0350369\ttotal: 274ms\tremaining: 2.09s\n",
      "116:\tlearn: 0.0348385\ttotal: 276ms\tremaining: 2.08s\n",
      "117:\tlearn: 0.0346564\ttotal: 278ms\tremaining: 2.08s\n",
      "118:\tlearn: 0.0344009\ttotal: 280ms\tremaining: 2.07s\n",
      "119:\tlearn: 0.0342407\ttotal: 283ms\tremaining: 2.07s\n",
      "120:\tlearn: 0.0340491\ttotal: 285ms\tremaining: 2.07s\n",
      "121:\tlearn: 0.0339241\ttotal: 287ms\tremaining: 2.06s\n",
      "122:\tlearn: 0.0336876\ttotal: 289ms\tremaining: 2.06s\n",
      "123:\tlearn: 0.0335892\ttotal: 292ms\tremaining: 2.06s\n",
      "124:\tlearn: 0.0334879\ttotal: 295ms\tremaining: 2.06s\n",
      "125:\tlearn: 0.0332696\ttotal: 297ms\tremaining: 2.06s\n",
      "126:\tlearn: 0.0330825\ttotal: 300ms\tremaining: 2.06s\n",
      "127:\tlearn: 0.0329555\ttotal: 302ms\tremaining: 2.06s\n",
      "128:\tlearn: 0.0327776\ttotal: 304ms\tremaining: 2.05s\n",
      "129:\tlearn: 0.0326907\ttotal: 307ms\tremaining: 2.05s\n",
      "130:\tlearn: 0.0323371\ttotal: 309ms\tremaining: 2.05s\n",
      "131:\tlearn: 0.0321467\ttotal: 311ms\tremaining: 2.04s\n",
      "132:\tlearn: 0.0320642\ttotal: 313ms\tremaining: 2.04s\n",
      "133:\tlearn: 0.0318800\ttotal: 315ms\tremaining: 2.04s\n",
      "134:\tlearn: 0.0316732\ttotal: 317ms\tremaining: 2.03s\n",
      "135:\tlearn: 0.0315197\ttotal: 321ms\tremaining: 2.04s\n",
      "136:\tlearn: 0.0314463\ttotal: 324ms\tremaining: 2.04s\n",
      "137:\tlearn: 0.0312815\ttotal: 326ms\tremaining: 2.04s\n",
      "138:\tlearn: 0.0311780\ttotal: 328ms\tremaining: 2.03s\n",
      "139:\tlearn: 0.0310801\ttotal: 331ms\tremaining: 2.03s\n",
      "140:\tlearn: 0.0308647\ttotal: 333ms\tremaining: 2.03s\n",
      "141:\tlearn: 0.0307849\ttotal: 335ms\tremaining: 2.02s\n",
      "142:\tlearn: 0.0306229\ttotal: 337ms\tremaining: 2.02s\n",
      "143:\tlearn: 0.0303802\ttotal: 339ms\tremaining: 2.02s\n",
      "144:\tlearn: 0.0303346\ttotal: 343ms\tremaining: 2.02s\n",
      "145:\tlearn: 0.0301706\ttotal: 346ms\tremaining: 2.02s\n",
      "146:\tlearn: 0.0300618\ttotal: 348ms\tremaining: 2.02s\n",
      "147:\tlearn: 0.0299690\ttotal: 350ms\tremaining: 2.02s\n",
      "148:\tlearn: 0.0298956\ttotal: 352ms\tremaining: 2.01s\n",
      "149:\tlearn: 0.0298070\ttotal: 354ms\tremaining: 2.01s\n",
      "150:\tlearn: 0.0295776\ttotal: 357ms\tremaining: 2.01s\n",
      "151:\tlearn: 0.0295184\ttotal: 360ms\tremaining: 2.01s\n",
      "152:\tlearn: 0.0293969\ttotal: 362ms\tremaining: 2s\n",
      "153:\tlearn: 0.0292989\ttotal: 364ms\tremaining: 2s\n",
      "154:\tlearn: 0.0292285\ttotal: 366ms\tremaining: 2s\n",
      "155:\tlearn: 0.0291555\ttotal: 369ms\tremaining: 2s\n",
      "156:\tlearn: 0.0290900\ttotal: 371ms\tremaining: 1.99s\n",
      "157:\tlearn: 0.0289651\ttotal: 373ms\tremaining: 1.99s\n",
      "158:\tlearn: 0.0289106\ttotal: 375ms\tremaining: 1.98s\n",
      "159:\tlearn: 0.0287851\ttotal: 377ms\tremaining: 1.98s\n",
      "160:\tlearn: 0.0287850\ttotal: 378ms\tremaining: 1.97s\n",
      "161:\tlearn: 0.0286052\ttotal: 381ms\tremaining: 1.97s\n",
      "162:\tlearn: 0.0285520\ttotal: 384ms\tremaining: 1.97s\n",
      "163:\tlearn: 0.0284002\ttotal: 388ms\tremaining: 1.98s\n",
      "164:\tlearn: 0.0282631\ttotal: 390ms\tremaining: 1.97s\n",
      "165:\tlearn: 0.0280503\ttotal: 392ms\tremaining: 1.97s\n",
      "166:\tlearn: 0.0279779\ttotal: 395ms\tremaining: 1.97s\n",
      "167:\tlearn: 0.0278583\ttotal: 397ms\tremaining: 1.97s\n",
      "168:\tlearn: 0.0278062\ttotal: 399ms\tremaining: 1.96s\n",
      "169:\tlearn: 0.0277493\ttotal: 401ms\tremaining: 1.96s\n",
      "170:\tlearn: 0.0276128\ttotal: 403ms\tremaining: 1.96s\n",
      "171:\tlearn: 0.0275194\ttotal: 406ms\tremaining: 1.96s\n",
      "172:\tlearn: 0.0274775\ttotal: 409ms\tremaining: 1.96s\n",
      "173:\tlearn: 0.0274277\ttotal: 412ms\tremaining: 1.96s\n",
      "174:\tlearn: 0.0273592\ttotal: 414ms\tremaining: 1.95s\n",
      "175:\tlearn: 0.0272983\ttotal: 416ms\tremaining: 1.95s\n",
      "176:\tlearn: 0.0272142\ttotal: 419ms\tremaining: 1.95s\n",
      "177:\tlearn: 0.0271646\ttotal: 421ms\tremaining: 1.94s\n",
      "178:\tlearn: 0.0271223\ttotal: 423ms\tremaining: 1.94s\n",
      "179:\tlearn: 0.0270373\ttotal: 425ms\tremaining: 1.94s\n",
      "180:\tlearn: 0.0270370\ttotal: 427ms\tremaining: 1.93s\n",
      "181:\tlearn: 0.0270026\ttotal: 429ms\tremaining: 1.93s\n",
      "182:\tlearn: 0.0269506\ttotal: 433ms\tremaining: 1.93s\n",
      "183:\tlearn: 0.0268600\ttotal: 437ms\tremaining: 1.94s\n",
      "184:\tlearn: 0.0267406\ttotal: 439ms\tremaining: 1.93s\n",
      "185:\tlearn: 0.0266921\ttotal: 441ms\tremaining: 1.93s\n",
      "186:\tlearn: 0.0266430\ttotal: 444ms\tremaining: 1.93s\n",
      "187:\tlearn: 0.0265796\ttotal: 446ms\tremaining: 1.93s\n",
      "188:\tlearn: 0.0265305\ttotal: 448ms\tremaining: 1.92s\n",
      "189:\tlearn: 0.0264436\ttotal: 451ms\tremaining: 1.92s\n",
      "190:\tlearn: 0.0263645\ttotal: 453ms\tremaining: 1.92s\n",
      "191:\tlearn: 0.0263643\ttotal: 454ms\tremaining: 1.91s\n",
      "192:\tlearn: 0.0263295\ttotal: 457ms\tremaining: 1.91s\n",
      "193:\tlearn: 0.0262429\ttotal: 461ms\tremaining: 1.92s\n",
      "194:\tlearn: 0.0261811\ttotal: 463ms\tremaining: 1.91s\n",
      "195:\tlearn: 0.0260969\ttotal: 465ms\tremaining: 1.91s\n",
      "196:\tlearn: 0.0260466\ttotal: 468ms\tremaining: 1.91s\n",
      "197:\tlearn: 0.0260145\ttotal: 470ms\tremaining: 1.9s\n",
      "198:\tlearn: 0.0258970\ttotal: 472ms\tremaining: 1.9s\n",
      "199:\tlearn: 0.0258579\ttotal: 474ms\tremaining: 1.9s\n",
      "200:\tlearn: 0.0258577\ttotal: 476ms\tremaining: 1.89s\n",
      "201:\tlearn: 0.0258576\ttotal: 478ms\tremaining: 1.89s\n",
      "202:\tlearn: 0.0258195\ttotal: 481ms\tremaining: 1.89s\n",
      "203:\tlearn: 0.0256744\ttotal: 484ms\tremaining: 1.89s\n",
      "204:\tlearn: 0.0256187\ttotal: 486ms\tremaining: 1.89s\n",
      "205:\tlearn: 0.0256187\ttotal: 488ms\tremaining: 1.88s\n",
      "206:\tlearn: 0.0256187\ttotal: 489ms\tremaining: 1.88s\n",
      "207:\tlearn: 0.0256178\ttotal: 491ms\tremaining: 1.87s\n",
      "208:\tlearn: 0.0256177\ttotal: 493ms\tremaining: 1.87s\n",
      "209:\tlearn: 0.0256178\ttotal: 496ms\tremaining: 1.86s\n",
      "210:\tlearn: 0.0256169\ttotal: 498ms\tremaining: 1.86s\n",
      "211:\tlearn: 0.0256167\ttotal: 501ms\tremaining: 1.86s\n",
      "212:\tlearn: 0.0256167\ttotal: 503ms\tremaining: 1.86s\n",
      "213:\tlearn: 0.0256165\ttotal: 504ms\tremaining: 1.85s\n",
      "214:\tlearn: 0.0256163\ttotal: 506ms\tremaining: 1.85s\n",
      "215:\tlearn: 0.0256163\ttotal: 509ms\tremaining: 1.85s\n",
      "216:\tlearn: 0.0256162\ttotal: 511ms\tremaining: 1.84s\n",
      "217:\tlearn: 0.0256161\ttotal: 512ms\tremaining: 1.84s\n",
      "218:\tlearn: 0.0256160\ttotal: 514ms\tremaining: 1.83s\n",
      "219:\tlearn: 0.0256160\ttotal: 516ms\tremaining: 1.83s\n",
      "220:\tlearn: 0.0256157\ttotal: 519ms\tremaining: 1.83s\n",
      "221:\tlearn: 0.0256150\ttotal: 521ms\tremaining: 1.83s\n",
      "222:\tlearn: 0.0255217\ttotal: 524ms\tremaining: 1.82s\n",
      "223:\tlearn: 0.0254779\ttotal: 526ms\tremaining: 1.82s\n",
      "224:\tlearn: 0.0253887\ttotal: 528ms\tremaining: 1.82s\n",
      "225:\tlearn: 0.0253886\ttotal: 530ms\tremaining: 1.81s\n",
      "226:\tlearn: 0.0253150\ttotal: 532ms\tremaining: 1.81s\n",
      "227:\tlearn: 0.0252662\ttotal: 535ms\tremaining: 1.81s\n",
      "228:\tlearn: 0.0252659\ttotal: 537ms\tremaining: 1.81s\n",
      "229:\tlearn: 0.0251926\ttotal: 539ms\tremaining: 1.8s\n",
      "230:\tlearn: 0.0251611\ttotal: 541ms\tremaining: 1.8s\n",
      "231:\tlearn: 0.0251611\ttotal: 543ms\tremaining: 1.8s\n",
      "232:\tlearn: 0.0251610\ttotal: 545ms\tremaining: 1.79s\n",
      "233:\tlearn: 0.0251491\ttotal: 547ms\tremaining: 1.79s\n",
      "234:\tlearn: 0.0251489\ttotal: 550ms\tremaining: 1.79s\n",
      "235:\tlearn: 0.0251489\ttotal: 552ms\tremaining: 1.79s\n",
      "236:\tlearn: 0.0251026\ttotal: 554ms\tremaining: 1.78s\n",
      "237:\tlearn: 0.0251024\ttotal: 556ms\tremaining: 1.78s\n",
      "238:\tlearn: 0.0251023\ttotal: 558ms\tremaining: 1.78s\n",
      "239:\tlearn: 0.0251022\ttotal: 560ms\tremaining: 1.77s\n",
      "240:\tlearn: 0.0251011\ttotal: 562ms\tremaining: 1.77s\n",
      "241:\tlearn: 0.0250462\ttotal: 564ms\tremaining: 1.77s\n",
      "242:\tlearn: 0.0249535\ttotal: 566ms\tremaining: 1.76s\n",
      "243:\tlearn: 0.0249535\ttotal: 568ms\tremaining: 1.76s\n",
      "244:\tlearn: 0.0249535\ttotal: 571ms\tremaining: 1.76s\n",
      "245:\tlearn: 0.0249533\ttotal: 573ms\tremaining: 1.76s\n",
      "246:\tlearn: 0.0249533\ttotal: 575ms\tremaining: 1.75s\n",
      "247:\tlearn: 0.0249531\ttotal: 577ms\tremaining: 1.75s\n",
      "248:\tlearn: 0.0249530\ttotal: 579ms\tremaining: 1.75s\n",
      "249:\tlearn: 0.0249530\ttotal: 581ms\tremaining: 1.74s\n",
      "250:\tlearn: 0.0249530\ttotal: 583ms\tremaining: 1.74s\n",
      "251:\tlearn: 0.0249530\ttotal: 585ms\tremaining: 1.74s\n",
      "252:\tlearn: 0.0249530\ttotal: 586ms\tremaining: 1.73s\n",
      "253:\tlearn: 0.0249530\ttotal: 588ms\tremaining: 1.73s\n",
      "254:\tlearn: 0.0249518\ttotal: 590ms\tremaining: 1.72s\n",
      "255:\tlearn: 0.0249517\ttotal: 592ms\tremaining: 1.72s\n",
      "256:\tlearn: 0.0249515\ttotal: 594ms\tremaining: 1.72s\n",
      "257:\tlearn: 0.0249513\ttotal: 597ms\tremaining: 1.72s\n",
      "258:\tlearn: 0.0249511\ttotal: 599ms\tremaining: 1.71s\n",
      "259:\tlearn: 0.0249100\ttotal: 601ms\tremaining: 1.71s\n",
      "260:\tlearn: 0.0249072\ttotal: 603ms\tremaining: 1.71s\n",
      "261:\tlearn: 0.0249064\ttotal: 605ms\tremaining: 1.7s\n",
      "262:\tlearn: 0.0249062\ttotal: 607ms\tremaining: 1.7s\n",
      "263:\tlearn: 0.0249062\ttotal: 609ms\tremaining: 1.7s\n",
      "264:\tlearn: 0.0249062\ttotal: 611ms\tremaining: 1.69s\n",
      "265:\tlearn: 0.0249051\ttotal: 612ms\tremaining: 1.69s\n",
      "266:\tlearn: 0.0249051\ttotal: 614ms\tremaining: 1.69s\n",
      "267:\tlearn: 0.0249044\ttotal: 616ms\tremaining: 1.68s\n",
      "268:\tlearn: 0.0247988\ttotal: 619ms\tremaining: 1.68s\n",
      "269:\tlearn: 0.0247113\ttotal: 621ms\tremaining: 1.68s\n",
      "270:\tlearn: 0.0246762\ttotal: 623ms\tremaining: 1.68s\n",
      "271:\tlearn: 0.0246371\ttotal: 625ms\tremaining: 1.67s\n",
      "272:\tlearn: 0.0245955\ttotal: 627ms\tremaining: 1.67s\n",
      "273:\tlearn: 0.0245379\ttotal: 629ms\tremaining: 1.67s\n",
      "274:\tlearn: 0.0245378\ttotal: 631ms\tremaining: 1.66s\n",
      "275:\tlearn: 0.0245377\ttotal: 632ms\tremaining: 1.66s\n",
      "276:\tlearn: 0.0245377\ttotal: 634ms\tremaining: 1.65s\n",
      "277:\tlearn: 0.0245377\ttotal: 635ms\tremaining: 1.65s\n",
      "278:\tlearn: 0.0245376\ttotal: 637ms\tremaining: 1.65s\n",
      "279:\tlearn: 0.0245376\ttotal: 639ms\tremaining: 1.64s\n",
      "280:\tlearn: 0.0245376\ttotal: 640ms\tremaining: 1.64s\n",
      "281:\tlearn: 0.0245376\ttotal: 641ms\tremaining: 1.63s\n",
      "282:\tlearn: 0.0245376\ttotal: 643ms\tremaining: 1.63s\n",
      "283:\tlearn: 0.0245375\ttotal: 644ms\tremaining: 1.62s\n",
      "284:\tlearn: 0.0245376\ttotal: 646ms\tremaining: 1.62s\n",
      "285:\tlearn: 0.0245376\ttotal: 648ms\tremaining: 1.62s\n",
      "286:\tlearn: 0.0245376\ttotal: 649ms\tremaining: 1.61s\n",
      "287:\tlearn: 0.0245376\ttotal: 650ms\tremaining: 1.61s\n",
      "288:\tlearn: 0.0245266\ttotal: 652ms\tremaining: 1.6s\n",
      "289:\tlearn: 0.0244363\ttotal: 654ms\tremaining: 1.6s\n",
      "290:\tlearn: 0.0244363\ttotal: 655ms\tremaining: 1.6s\n",
      "291:\tlearn: 0.0244363\ttotal: 658ms\tremaining: 1.6s\n",
      "292:\tlearn: 0.0244363\ttotal: 660ms\tremaining: 1.59s\n",
      "293:\tlearn: 0.0244362\ttotal: 662ms\tremaining: 1.59s\n",
      "294:\tlearn: 0.0244361\ttotal: 663ms\tremaining: 1.58s\n",
      "295:\tlearn: 0.0244362\ttotal: 664ms\tremaining: 1.58s\n",
      "296:\tlearn: 0.0244361\ttotal: 666ms\tremaining: 1.57s\n",
      "297:\tlearn: 0.0244361\ttotal: 667ms\tremaining: 1.57s\n",
      "298:\tlearn: 0.0244362\ttotal: 669ms\tremaining: 1.57s\n",
      "299:\tlearn: 0.0244362\ttotal: 671ms\tremaining: 1.56s\n",
      "300:\tlearn: 0.0244362\ttotal: 672ms\tremaining: 1.56s\n",
      "301:\tlearn: 0.0244361\ttotal: 673ms\tremaining: 1.56s\n",
      "302:\tlearn: 0.0244361\ttotal: 675ms\tremaining: 1.55s\n",
      "303:\tlearn: 0.0244362\ttotal: 676ms\tremaining: 1.55s\n",
      "304:\tlearn: 0.0244361\ttotal: 678ms\tremaining: 1.54s\n",
      "305:\tlearn: 0.0244361\ttotal: 679ms\tremaining: 1.54s\n",
      "306:\tlearn: 0.0244361\ttotal: 681ms\tremaining: 1.54s\n",
      "307:\tlearn: 0.0244360\ttotal: 683ms\tremaining: 1.53s\n",
      "308:\tlearn: 0.0244360\ttotal: 685ms\tremaining: 1.53s\n",
      "309:\tlearn: 0.0244360\ttotal: 686ms\tremaining: 1.53s\n",
      "310:\tlearn: 0.0244359\ttotal: 687ms\tremaining: 1.52s\n",
      "311:\tlearn: 0.0244360\ttotal: 689ms\tremaining: 1.52s\n",
      "312:\tlearn: 0.0244359\ttotal: 690ms\tremaining: 1.51s\n",
      "313:\tlearn: 0.0244359\ttotal: 691ms\tremaining: 1.51s\n",
      "314:\tlearn: 0.0244359\ttotal: 693ms\tremaining: 1.51s\n",
      "315:\tlearn: 0.0244358\ttotal: 694ms\tremaining: 1.5s\n",
      "316:\tlearn: 0.0244358\ttotal: 696ms\tremaining: 1.5s\n",
      "317:\tlearn: 0.0244358\ttotal: 697ms\tremaining: 1.5s\n",
      "318:\tlearn: 0.0244358\ttotal: 700ms\tremaining: 1.49s\n",
      "319:\tlearn: 0.0244358\ttotal: 701ms\tremaining: 1.49s\n",
      "320:\tlearn: 0.0244358\ttotal: 703ms\tremaining: 1.49s\n",
      "321:\tlearn: 0.0244358\ttotal: 704ms\tremaining: 1.48s\n",
      "322:\tlearn: 0.0244358\ttotal: 706ms\tremaining: 1.48s\n",
      "323:\tlearn: 0.0244358\ttotal: 707ms\tremaining: 1.48s\n",
      "324:\tlearn: 0.0244358\ttotal: 708ms\tremaining: 1.47s\n",
      "325:\tlearn: 0.0244358\ttotal: 711ms\tremaining: 1.47s\n",
      "326:\tlearn: 0.0244358\ttotal: 712ms\tremaining: 1.47s\n",
      "327:\tlearn: 0.0244358\ttotal: 714ms\tremaining: 1.46s\n",
      "328:\tlearn: 0.0244357\ttotal: 715ms\tremaining: 1.46s\n",
      "329:\tlearn: 0.0244357\ttotal: 717ms\tremaining: 1.46s\n",
      "330:\tlearn: 0.0244357\ttotal: 719ms\tremaining: 1.45s\n",
      "331:\tlearn: 0.0244357\ttotal: 721ms\tremaining: 1.45s\n",
      "332:\tlearn: 0.0244357\ttotal: 723ms\tremaining: 1.45s\n",
      "333:\tlearn: 0.0244356\ttotal: 725ms\tremaining: 1.44s\n",
      "334:\tlearn: 0.0244356\ttotal: 726ms\tremaining: 1.44s\n",
      "335:\tlearn: 0.0244356\ttotal: 727ms\tremaining: 1.44s\n",
      "336:\tlearn: 0.0244356\ttotal: 729ms\tremaining: 1.43s\n",
      "337:\tlearn: 0.0244355\ttotal: 730ms\tremaining: 1.43s\n",
      "338:\tlearn: 0.0244355\ttotal: 732ms\tremaining: 1.43s\n",
      "339:\tlearn: 0.0244354\ttotal: 733ms\tremaining: 1.42s\n",
      "340:\tlearn: 0.0244355\ttotal: 735ms\tremaining: 1.42s\n",
      "341:\tlearn: 0.0244354\ttotal: 736ms\tremaining: 1.42s\n",
      "342:\tlearn: 0.0244353\ttotal: 737ms\tremaining: 1.41s\n",
      "343:\tlearn: 0.0244353\ttotal: 739ms\tremaining: 1.41s\n",
      "344:\tlearn: 0.0244353\ttotal: 743ms\tremaining: 1.41s\n",
      "345:\tlearn: 0.0244352\ttotal: 745ms\tremaining: 1.41s\n",
      "346:\tlearn: 0.0244352\ttotal: 747ms\tremaining: 1.41s\n",
      "347:\tlearn: 0.0244352\ttotal: 748ms\tremaining: 1.4s\n",
      "348:\tlearn: 0.0244351\ttotal: 750ms\tremaining: 1.4s\n",
      "349:\tlearn: 0.0244351\ttotal: 751ms\tremaining: 1.39s\n",
      "350:\tlearn: 0.0244351\ttotal: 752ms\tremaining: 1.39s\n",
      "351:\tlearn: 0.0244351\ttotal: 754ms\tremaining: 1.39s\n",
      "352:\tlearn: 0.0244350\ttotal: 756ms\tremaining: 1.38s\n",
      "353:\tlearn: 0.0244349\ttotal: 757ms\tremaining: 1.38s\n",
      "354:\tlearn: 0.0244350\ttotal: 758ms\tremaining: 1.38s\n",
      "355:\tlearn: 0.0244349\ttotal: 760ms\tremaining: 1.37s\n",
      "356:\tlearn: 0.0244350\ttotal: 761ms\tremaining: 1.37s\n",
      "357:\tlearn: 0.0244350\ttotal: 763ms\tremaining: 1.37s\n",
      "358:\tlearn: 0.0244350\ttotal: 764ms\tremaining: 1.36s\n",
      "359:\tlearn: 0.0244350\ttotal: 766ms\tremaining: 1.36s\n",
      "360:\tlearn: 0.0244343\ttotal: 769ms\tremaining: 1.36s\n",
      "361:\tlearn: 0.0244342\ttotal: 771ms\tremaining: 1.36s\n",
      "362:\tlearn: 0.0244341\ttotal: 772ms\tremaining: 1.35s\n",
      "363:\tlearn: 0.0244341\ttotal: 774ms\tremaining: 1.35s\n",
      "364:\tlearn: 0.0244341\ttotal: 776ms\tremaining: 1.35s\n",
      "365:\tlearn: 0.0244340\ttotal: 778ms\tremaining: 1.35s\n",
      "366:\tlearn: 0.0244340\ttotal: 780ms\tremaining: 1.34s\n",
      "367:\tlearn: 0.0244340\ttotal: 782ms\tremaining: 1.34s\n",
      "368:\tlearn: 0.0244340\ttotal: 784ms\tremaining: 1.34s\n",
      "369:\tlearn: 0.0244340\ttotal: 786ms\tremaining: 1.34s\n",
      "370:\tlearn: 0.0244339\ttotal: 788ms\tremaining: 1.34s\n",
      "371:\tlearn: 0.0244338\ttotal: 789ms\tremaining: 1.33s\n",
      "372:\tlearn: 0.0244338\ttotal: 791ms\tremaining: 1.33s\n",
      "373:\tlearn: 0.0244337\ttotal: 794ms\tremaining: 1.33s\n",
      "374:\tlearn: 0.0244335\ttotal: 796ms\tremaining: 1.33s\n",
      "375:\tlearn: 0.0244335\ttotal: 797ms\tremaining: 1.32s\n",
      "376:\tlearn: 0.0244334\ttotal: 799ms\tremaining: 1.32s\n",
      "377:\tlearn: 0.0244334\ttotal: 801ms\tremaining: 1.32s\n",
      "378:\tlearn: 0.0244333\ttotal: 804ms\tremaining: 1.32s\n",
      "379:\tlearn: 0.0244332\ttotal: 808ms\tremaining: 1.32s\n",
      "380:\tlearn: 0.0244332\ttotal: 810ms\tremaining: 1.31s\n",
      "381:\tlearn: 0.0244332\ttotal: 812ms\tremaining: 1.31s\n",
      "382:\tlearn: 0.0244331\ttotal: 813ms\tremaining: 1.31s\n",
      "383:\tlearn: 0.0244330\ttotal: 815ms\tremaining: 1.31s\n",
      "384:\tlearn: 0.0244329\ttotal: 818ms\tremaining: 1.3s\n",
      "385:\tlearn: 0.0244329\ttotal: 820ms\tremaining: 1.3s\n",
      "386:\tlearn: 0.0244329\ttotal: 822ms\tremaining: 1.3s\n",
      "387:\tlearn: 0.0244327\ttotal: 825ms\tremaining: 1.3s\n",
      "388:\tlearn: 0.0244327\ttotal: 827ms\tremaining: 1.3s\n",
      "389:\tlearn: 0.0244325\ttotal: 829ms\tremaining: 1.3s\n",
      "390:\tlearn: 0.0244324\ttotal: 832ms\tremaining: 1.29s\n",
      "391:\tlearn: 0.0244322\ttotal: 834ms\tremaining: 1.29s\n",
      "392:\tlearn: 0.0244321\ttotal: 835ms\tremaining: 1.29s\n",
      "393:\tlearn: 0.0243488\ttotal: 837ms\tremaining: 1.29s\n",
      "394:\tlearn: 0.0243488\ttotal: 839ms\tremaining: 1.28s\n",
      "395:\tlearn: 0.0243487\ttotal: 841ms\tremaining: 1.28s\n",
      "396:\tlearn: 0.0243487\ttotal: 843ms\tremaining: 1.28s\n",
      "397:\tlearn: 0.0243487\ttotal: 845ms\tremaining: 1.28s\n",
      "398:\tlearn: 0.0243485\ttotal: 847ms\tremaining: 1.27s\n",
      "399:\tlearn: 0.0243477\ttotal: 850ms\tremaining: 1.27s\n",
      "400:\tlearn: 0.0243476\ttotal: 851ms\tremaining: 1.27s\n",
      "401:\tlearn: 0.0243476\ttotal: 853ms\tremaining: 1.27s\n",
      "402:\tlearn: 0.0243471\ttotal: 855ms\tremaining: 1.27s\n",
      "403:\tlearn: 0.0243469\ttotal: 857ms\tremaining: 1.26s\n",
      "404:\tlearn: 0.0243469\ttotal: 859ms\tremaining: 1.26s\n",
      "405:\tlearn: 0.0243467\ttotal: 861ms\tremaining: 1.26s\n",
      "406:\tlearn: 0.0242623\ttotal: 863ms\tremaining: 1.26s\n",
      "407:\tlearn: 0.0242623\ttotal: 864ms\tremaining: 1.25s\n",
      "408:\tlearn: 0.0242622\ttotal: 866ms\tremaining: 1.25s\n",
      "409:\tlearn: 0.0242421\ttotal: 868ms\tremaining: 1.25s\n",
      "410:\tlearn: 0.0242421\ttotal: 872ms\tremaining: 1.25s\n",
      "411:\tlearn: 0.0242420\ttotal: 874ms\tremaining: 1.25s\n",
      "412:\tlearn: 0.0242411\ttotal: 876ms\tremaining: 1.25s\n",
      "413:\tlearn: 0.0242410\ttotal: 878ms\tremaining: 1.24s\n",
      "414:\tlearn: 0.0242409\ttotal: 880ms\tremaining: 1.24s\n",
      "415:\tlearn: 0.0242408\ttotal: 883ms\tremaining: 1.24s\n",
      "416:\tlearn: 0.0242409\ttotal: 885ms\tremaining: 1.24s\n",
      "417:\tlearn: 0.0242408\ttotal: 886ms\tremaining: 1.23s\n",
      "418:\tlearn: 0.0242408\ttotal: 888ms\tremaining: 1.23s\n",
      "419:\tlearn: 0.0242408\ttotal: 891ms\tremaining: 1.23s\n",
      "420:\tlearn: 0.0242407\ttotal: 895ms\tremaining: 1.23s\n",
      "421:\tlearn: 0.0242406\ttotal: 897ms\tremaining: 1.23s\n",
      "422:\tlearn: 0.0242405\ttotal: 899ms\tremaining: 1.23s\n",
      "423:\tlearn: 0.0242404\ttotal: 901ms\tremaining: 1.22s\n",
      "424:\tlearn: 0.0242404\ttotal: 903ms\tremaining: 1.22s\n",
      "425:\tlearn: 0.0242396\ttotal: 905ms\tremaining: 1.22s\n",
      "426:\tlearn: 0.0242163\ttotal: 907ms\tremaining: 1.22s\n",
      "427:\tlearn: 0.0242163\ttotal: 909ms\tremaining: 1.21s\n",
      "428:\tlearn: 0.0241878\ttotal: 911ms\tremaining: 1.21s\n",
      "429:\tlearn: 0.0241486\ttotal: 913ms\tremaining: 1.21s\n",
      "430:\tlearn: 0.0240843\ttotal: 918ms\tremaining: 1.21s\n",
      "431:\tlearn: 0.0240402\ttotal: 920ms\tremaining: 1.21s\n",
      "432:\tlearn: 0.0240401\ttotal: 922ms\tremaining: 1.21s\n",
      "433:\tlearn: 0.0240401\ttotal: 924ms\tremaining: 1.21s\n",
      "434:\tlearn: 0.0240400\ttotal: 926ms\tremaining: 1.2s\n",
      "435:\tlearn: 0.0240400\ttotal: 928ms\tremaining: 1.2s\n",
      "436:\tlearn: 0.0240399\ttotal: 930ms\tremaining: 1.2s\n",
      "437:\tlearn: 0.0240399\ttotal: 932ms\tremaining: 1.2s\n",
      "438:\tlearn: 0.0240398\ttotal: 934ms\tremaining: 1.19s\n",
      "439:\tlearn: 0.0240398\ttotal: 937ms\tremaining: 1.19s\n",
      "440:\tlearn: 0.0240397\ttotal: 939ms\tremaining: 1.19s\n",
      "441:\tlearn: 0.0240397\ttotal: 941ms\tremaining: 1.19s\n",
      "442:\tlearn: 0.0240396\ttotal: 943ms\tremaining: 1.19s\n",
      "443:\tlearn: 0.0240396\ttotal: 945ms\tremaining: 1.18s\n",
      "444:\tlearn: 0.0240395\ttotal: 947ms\tremaining: 1.18s\n",
      "445:\tlearn: 0.0240395\ttotal: 949ms\tremaining: 1.18s\n",
      "446:\tlearn: 0.0240395\ttotal: 951ms\tremaining: 1.18s\n",
      "447:\tlearn: 0.0240080\ttotal: 953ms\tremaining: 1.17s\n",
      "448:\tlearn: 0.0240080\ttotal: 955ms\tremaining: 1.17s\n",
      "449:\tlearn: 0.0239625\ttotal: 960ms\tremaining: 1.17s\n",
      "450:\tlearn: 0.0239624\ttotal: 962ms\tremaining: 1.17s\n",
      "451:\tlearn: 0.0239619\ttotal: 964ms\tremaining: 1.17s\n",
      "452:\tlearn: 0.0239616\ttotal: 966ms\tremaining: 1.17s\n",
      "453:\tlearn: 0.0239617\ttotal: 968ms\tremaining: 1.16s\n",
      "454:\tlearn: 0.0239608\ttotal: 970ms\tremaining: 1.16s\n",
      "455:\tlearn: 0.0239296\ttotal: 973ms\tremaining: 1.16s\n",
      "456:\tlearn: 0.0239295\ttotal: 975ms\tremaining: 1.16s\n",
      "457:\tlearn: 0.0239294\ttotal: 977ms\tremaining: 1.16s\n",
      "458:\tlearn: 0.0239294\ttotal: 980ms\tremaining: 1.15s\n",
      "459:\tlearn: 0.0239293\ttotal: 982ms\tremaining: 1.15s\n",
      "460:\tlearn: 0.0239288\ttotal: 984ms\tremaining: 1.15s\n",
      "461:\tlearn: 0.0239287\ttotal: 986ms\tremaining: 1.15s\n",
      "462:\tlearn: 0.0239287\ttotal: 988ms\tremaining: 1.15s\n",
      "463:\tlearn: 0.0239285\ttotal: 990ms\tremaining: 1.14s\n",
      "464:\tlearn: 0.0239283\ttotal: 991ms\tremaining: 1.14s\n",
      "465:\tlearn: 0.0239283\ttotal: 994ms\tremaining: 1.14s\n",
      "466:\tlearn: 0.0239282\ttotal: 997ms\tremaining: 1.14s\n",
      "467:\tlearn: 0.0239281\ttotal: 1000ms\tremaining: 1.14s\n",
      "468:\tlearn: 0.0239282\ttotal: 1s\tremaining: 1.13s\n",
      "469:\tlearn: 0.0239281\ttotal: 1s\tremaining: 1.13s\n",
      "470:\tlearn: 0.0239281\ttotal: 1.01s\tremaining: 1.13s\n",
      "471:\tlearn: 0.0239281\ttotal: 1.01s\tremaining: 1.13s\n",
      "472:\tlearn: 0.0239281\ttotal: 1.01s\tremaining: 1.13s\n",
      "473:\tlearn: 0.0239280\ttotal: 1.01s\tremaining: 1.12s\n",
      "474:\tlearn: 0.0239280\ttotal: 1.01s\tremaining: 1.12s\n",
      "475:\tlearn: 0.0239280\ttotal: 1.02s\tremaining: 1.12s\n",
      "476:\tlearn: 0.0239280\ttotal: 1.02s\tremaining: 1.12s\n",
      "477:\tlearn: 0.0239280\ttotal: 1.02s\tremaining: 1.12s\n",
      "478:\tlearn: 0.0239280\ttotal: 1.03s\tremaining: 1.12s\n",
      "479:\tlearn: 0.0239279\ttotal: 1.03s\tremaining: 1.11s\n",
      "480:\tlearn: 0.0238900\ttotal: 1.03s\tremaining: 1.11s\n",
      "481:\tlearn: 0.0238607\ttotal: 1.03s\tremaining: 1.11s\n",
      "482:\tlearn: 0.0238608\ttotal: 1.03s\tremaining: 1.11s\n",
      "483:\tlearn: 0.0238607\ttotal: 1.04s\tremaining: 1.1s\n",
      "484:\tlearn: 0.0238607\ttotal: 1.04s\tremaining: 1.1s\n",
      "485:\tlearn: 0.0238607\ttotal: 1.04s\tremaining: 1.1s\n",
      "486:\tlearn: 0.0238607\ttotal: 1.04s\tremaining: 1.1s\n",
      "487:\tlearn: 0.0238606\ttotal: 1.04s\tremaining: 1.09s\n",
      "488:\tlearn: 0.0238606\ttotal: 1.04s\tremaining: 1.09s\n",
      "489:\tlearn: 0.0238605\ttotal: 1.05s\tremaining: 1.09s\n",
      "490:\tlearn: 0.0238605\ttotal: 1.05s\tremaining: 1.09s\n",
      "491:\tlearn: 0.0238604\ttotal: 1.05s\tremaining: 1.08s\n",
      "492:\tlearn: 0.0238605\ttotal: 1.05s\tremaining: 1.08s\n",
      "493:\tlearn: 0.0238605\ttotal: 1.05s\tremaining: 1.08s\n",
      "494:\tlearn: 0.0238604\ttotal: 1.05s\tremaining: 1.07s\n",
      "495:\tlearn: 0.0238604\ttotal: 1.05s\tremaining: 1.07s\n",
      "496:\tlearn: 0.0238604\ttotal: 1.06s\tremaining: 1.07s\n",
      "497:\tlearn: 0.0238603\ttotal: 1.06s\tremaining: 1.07s\n",
      "498:\tlearn: 0.0238603\ttotal: 1.06s\tremaining: 1.06s\n",
      "499:\tlearn: 0.0238602\ttotal: 1.06s\tremaining: 1.06s\n",
      "500:\tlearn: 0.0238602\ttotal: 1.06s\tremaining: 1.06s\n",
      "501:\tlearn: 0.0238602\ttotal: 1.06s\tremaining: 1.06s\n",
      "502:\tlearn: 0.0238601\ttotal: 1.07s\tremaining: 1.05s\n",
      "503:\tlearn: 0.0238601\ttotal: 1.07s\tremaining: 1.05s\n",
      "504:\tlearn: 0.0238601\ttotal: 1.07s\tremaining: 1.05s\n",
      "505:\tlearn: 0.0238600\ttotal: 1.07s\tremaining: 1.04s\n",
      "506:\tlearn: 0.0238599\ttotal: 1.07s\tremaining: 1.04s\n",
      "507:\tlearn: 0.0238599\ttotal: 1.07s\tremaining: 1.04s\n",
      "508:\tlearn: 0.0238598\ttotal: 1.07s\tremaining: 1.04s\n",
      "509:\tlearn: 0.0238599\ttotal: 1.08s\tremaining: 1.03s\n",
      "510:\tlearn: 0.0238599\ttotal: 1.08s\tremaining: 1.03s\n",
      "511:\tlearn: 0.0238599\ttotal: 1.08s\tremaining: 1.03s\n",
      "512:\tlearn: 0.0238599\ttotal: 1.08s\tremaining: 1.03s\n",
      "513:\tlearn: 0.0238599\ttotal: 1.08s\tremaining: 1.02s\n",
      "514:\tlearn: 0.0238340\ttotal: 1.09s\tremaining: 1.02s\n",
      "515:\tlearn: 0.0238106\ttotal: 1.09s\tremaining: 1.02s\n",
      "516:\tlearn: 0.0237697\ttotal: 1.09s\tremaining: 1.02s\n",
      "517:\tlearn: 0.0237697\ttotal: 1.09s\tremaining: 1.02s\n",
      "518:\tlearn: 0.0237696\ttotal: 1.1s\tremaining: 1.01s\n",
      "519:\tlearn: 0.0237695\ttotal: 1.1s\tremaining: 1.01s\n",
      "520:\tlearn: 0.0237695\ttotal: 1.1s\tremaining: 1.01s\n",
      "521:\tlearn: 0.0237695\ttotal: 1.1s\tremaining: 1.01s\n",
      "522:\tlearn: 0.0237312\ttotal: 1.1s\tremaining: 1.01s\n",
      "523:\tlearn: 0.0237312\ttotal: 1.1s\tremaining: 1s\n",
      "524:\tlearn: 0.0237312\ttotal: 1.11s\tremaining: 1s\n",
      "525:\tlearn: 0.0237312\ttotal: 1.11s\tremaining: 1s\n",
      "526:\tlearn: 0.0237312\ttotal: 1.11s\tremaining: 998ms\n",
      "527:\tlearn: 0.0237311\ttotal: 1.11s\tremaining: 996ms\n",
      "528:\tlearn: 0.0237312\ttotal: 1.11s\tremaining: 993ms\n",
      "529:\tlearn: 0.0237310\ttotal: 1.12s\tremaining: 991ms\n",
      "530:\tlearn: 0.0237140\ttotal: 1.12s\tremaining: 990ms\n",
      "531:\tlearn: 0.0236837\ttotal: 1.12s\tremaining: 987ms\n",
      "532:\tlearn: 0.0236387\ttotal: 1.12s\tremaining: 985ms\n",
      "533:\tlearn: 0.0236387\ttotal: 1.13s\tremaining: 983ms\n",
      "534:\tlearn: 0.0236382\ttotal: 1.13s\tremaining: 981ms\n",
      "535:\tlearn: 0.0236382\ttotal: 1.13s\tremaining: 981ms\n",
      "536:\tlearn: 0.0236381\ttotal: 1.14s\tremaining: 979ms\n",
      "537:\tlearn: 0.0236380\ttotal: 1.14s\tremaining: 976ms\n",
      "538:\tlearn: 0.0236380\ttotal: 1.14s\tremaining: 974ms\n",
      "539:\tlearn: 0.0236379\ttotal: 1.14s\tremaining: 972ms\n",
      "540:\tlearn: 0.0236378\ttotal: 1.14s\tremaining: 970ms\n",
      "541:\tlearn: 0.0236378\ttotal: 1.15s\tremaining: 968ms\n",
      "542:\tlearn: 0.0236378\ttotal: 1.15s\tremaining: 966ms\n",
      "543:\tlearn: 0.0236377\ttotal: 1.15s\tremaining: 963ms\n",
      "544:\tlearn: 0.0236376\ttotal: 1.15s\tremaining: 962ms\n",
      "545:\tlearn: 0.0236376\ttotal: 1.15s\tremaining: 960ms\n",
      "546:\tlearn: 0.0236375\ttotal: 1.16s\tremaining: 958ms\n",
      "547:\tlearn: 0.0236375\ttotal: 1.16s\tremaining: 956ms\n",
      "548:\tlearn: 0.0236375\ttotal: 1.16s\tremaining: 953ms\n",
      "549:\tlearn: 0.0236374\ttotal: 1.16s\tremaining: 951ms\n",
      "550:\tlearn: 0.0236374\ttotal: 1.16s\tremaining: 949ms\n",
      "551:\tlearn: 0.0236373\ttotal: 1.17s\tremaining: 946ms\n",
      "552:\tlearn: 0.0236372\ttotal: 1.17s\tremaining: 944ms\n",
      "553:\tlearn: 0.0236372\ttotal: 1.17s\tremaining: 942ms\n",
      "554:\tlearn: 0.0236372\ttotal: 1.17s\tremaining: 940ms\n",
      "555:\tlearn: 0.0236371\ttotal: 1.17s\tremaining: 938ms\n",
      "556:\tlearn: 0.0236371\ttotal: 1.18s\tremaining: 936ms\n",
      "557:\tlearn: 0.0236371\ttotal: 1.18s\tremaining: 933ms\n",
      "558:\tlearn: 0.0236370\ttotal: 1.18s\tremaining: 931ms\n",
      "559:\tlearn: 0.0236370\ttotal: 1.18s\tremaining: 929ms\n",
      "560:\tlearn: 0.0236370\ttotal: 1.18s\tremaining: 926ms\n",
      "561:\tlearn: 0.0236370\ttotal: 1.19s\tremaining: 924ms\n",
      "562:\tlearn: 0.0236369\ttotal: 1.19s\tremaining: 922ms\n",
      "563:\tlearn: 0.0236368\ttotal: 1.19s\tremaining: 919ms\n",
      "564:\tlearn: 0.0236369\ttotal: 1.19s\tremaining: 919ms\n",
      "565:\tlearn: 0.0236368\ttotal: 1.2s\tremaining: 917ms\n",
      "566:\tlearn: 0.0236367\ttotal: 1.2s\tremaining: 915ms\n",
      "567:\tlearn: 0.0236367\ttotal: 1.2s\tremaining: 912ms\n",
      "568:\tlearn: 0.0236366\ttotal: 1.2s\tremaining: 910ms\n",
      "569:\tlearn: 0.0236366\ttotal: 1.2s\tremaining: 908ms\n",
      "570:\tlearn: 0.0236365\ttotal: 1.21s\tremaining: 906ms\n",
      "571:\tlearn: 0.0236363\ttotal: 1.21s\tremaining: 904ms\n",
      "572:\tlearn: 0.0236363\ttotal: 1.21s\tremaining: 902ms\n",
      "573:\tlearn: 0.0236362\ttotal: 1.21s\tremaining: 900ms\n",
      "574:\tlearn: 0.0236091\ttotal: 1.21s\tremaining: 898ms\n",
      "575:\tlearn: 0.0236091\ttotal: 1.22s\tremaining: 896ms\n",
      "576:\tlearn: 0.0236090\ttotal: 1.22s\tremaining: 894ms\n",
      "577:\tlearn: 0.0236090\ttotal: 1.22s\tremaining: 891ms\n",
      "578:\tlearn: 0.0236089\ttotal: 1.22s\tremaining: 889ms\n",
      "579:\tlearn: 0.0236089\ttotal: 1.22s\tremaining: 887ms\n",
      "580:\tlearn: 0.0236089\ttotal: 1.23s\tremaining: 884ms\n",
      "581:\tlearn: 0.0236089\ttotal: 1.23s\tremaining: 882ms\n",
      "582:\tlearn: 0.0236088\ttotal: 1.23s\tremaining: 880ms\n",
      "583:\tlearn: 0.0236088\ttotal: 1.23s\tremaining: 878ms\n",
      "584:\tlearn: 0.0236086\ttotal: 1.24s\tremaining: 876ms\n",
      "585:\tlearn: 0.0236086\ttotal: 1.24s\tremaining: 874ms\n",
      "586:\tlearn: 0.0236086\ttotal: 1.24s\tremaining: 872ms\n",
      "587:\tlearn: 0.0236084\ttotal: 1.24s\tremaining: 869ms\n",
      "588:\tlearn: 0.0236084\ttotal: 1.24s\tremaining: 868ms\n",
      "589:\tlearn: 0.0235153\ttotal: 1.25s\tremaining: 866ms\n",
      "590:\tlearn: 0.0234917\ttotal: 1.25s\tremaining: 864ms\n",
      "591:\tlearn: 0.0234917\ttotal: 1.25s\tremaining: 862ms\n",
      "592:\tlearn: 0.0234340\ttotal: 1.25s\tremaining: 860ms\n",
      "593:\tlearn: 0.0234340\ttotal: 1.25s\tremaining: 858ms\n",
      "594:\tlearn: 0.0234339\ttotal: 1.26s\tremaining: 856ms\n",
      "595:\tlearn: 0.0234339\ttotal: 1.26s\tremaining: 854ms\n",
      "596:\tlearn: 0.0234338\ttotal: 1.26s\tremaining: 851ms\n",
      "597:\tlearn: 0.0234335\ttotal: 1.26s\tremaining: 849ms\n",
      "598:\tlearn: 0.0234335\ttotal: 1.26s\tremaining: 846ms\n",
      "599:\tlearn: 0.0234335\ttotal: 1.27s\tremaining: 844ms\n",
      "600:\tlearn: 0.0234334\ttotal: 1.27s\tremaining: 842ms\n",
      "601:\tlearn: 0.0234334\ttotal: 1.27s\tremaining: 840ms\n",
      "602:\tlearn: 0.0234333\ttotal: 1.27s\tremaining: 838ms\n",
      "603:\tlearn: 0.0234333\ttotal: 1.27s\tremaining: 837ms\n",
      "604:\tlearn: 0.0234333\ttotal: 1.28s\tremaining: 834ms\n",
      "605:\tlearn: 0.0234333\ttotal: 1.28s\tremaining: 832ms\n",
      "606:\tlearn: 0.0234332\ttotal: 1.28s\tremaining: 830ms\n",
      "607:\tlearn: 0.0234332\ttotal: 1.28s\tremaining: 828ms\n",
      "608:\tlearn: 0.0234332\ttotal: 1.28s\tremaining: 825ms\n",
      "609:\tlearn: 0.0234332\ttotal: 1.29s\tremaining: 823ms\n",
      "610:\tlearn: 0.0234332\ttotal: 1.29s\tremaining: 821ms\n",
      "611:\tlearn: 0.0234331\ttotal: 1.29s\tremaining: 818ms\n",
      "612:\tlearn: 0.0234331\ttotal: 1.29s\tremaining: 817ms\n",
      "613:\tlearn: 0.0234330\ttotal: 1.3s\tremaining: 815ms\n",
      "614:\tlearn: 0.0234329\ttotal: 1.3s\tremaining: 813ms\n",
      "615:\tlearn: 0.0234329\ttotal: 1.3s\tremaining: 810ms\n",
      "616:\tlearn: 0.0234329\ttotal: 1.3s\tremaining: 808ms\n",
      "617:\tlearn: 0.0234329\ttotal: 1.3s\tremaining: 806ms\n",
      "618:\tlearn: 0.0234328\ttotal: 1.3s\tremaining: 804ms\n",
      "619:\tlearn: 0.0234328\ttotal: 1.31s\tremaining: 802ms\n",
      "620:\tlearn: 0.0234327\ttotal: 1.31s\tremaining: 799ms\n",
      "621:\tlearn: 0.0234326\ttotal: 1.31s\tremaining: 797ms\n",
      "622:\tlearn: 0.0234325\ttotal: 1.31s\tremaining: 796ms\n",
      "623:\tlearn: 0.0234324\ttotal: 1.32s\tremaining: 794ms\n",
      "624:\tlearn: 0.0234324\ttotal: 1.32s\tremaining: 792ms\n",
      "625:\tlearn: 0.0234324\ttotal: 1.32s\tremaining: 790ms\n",
      "626:\tlearn: 0.0234322\ttotal: 1.32s\tremaining: 788ms\n",
      "627:\tlearn: 0.0234323\ttotal: 1.33s\tremaining: 786ms\n",
      "628:\tlearn: 0.0234322\ttotal: 1.33s\tremaining: 784ms\n",
      "629:\tlearn: 0.0234321\ttotal: 1.33s\tremaining: 781ms\n",
      "630:\tlearn: 0.0234320\ttotal: 1.33s\tremaining: 780ms\n",
      "631:\tlearn: 0.0234320\ttotal: 1.33s\tremaining: 778ms\n",
      "632:\tlearn: 0.0234319\ttotal: 1.34s\tremaining: 776ms\n",
      "633:\tlearn: 0.0234318\ttotal: 1.34s\tremaining: 774ms\n",
      "634:\tlearn: 0.0234317\ttotal: 1.34s\tremaining: 771ms\n",
      "635:\tlearn: 0.0234316\ttotal: 1.34s\tremaining: 770ms\n",
      "636:\tlearn: 0.0234316\ttotal: 1.35s\tremaining: 768ms\n",
      "637:\tlearn: 0.0234316\ttotal: 1.35s\tremaining: 766ms\n",
      "638:\tlearn: 0.0234315\ttotal: 1.35s\tremaining: 763ms\n",
      "639:\tlearn: 0.0234315\ttotal: 1.35s\tremaining: 761ms\n",
      "640:\tlearn: 0.0234313\ttotal: 1.36s\tremaining: 760ms\n",
      "641:\tlearn: 0.0234312\ttotal: 1.36s\tremaining: 758ms\n",
      "642:\tlearn: 0.0234312\ttotal: 1.36s\tremaining: 755ms\n",
      "643:\tlearn: 0.0234312\ttotal: 1.36s\tremaining: 753ms\n",
      "644:\tlearn: 0.0234310\ttotal: 1.36s\tremaining: 751ms\n",
      "645:\tlearn: 0.0234309\ttotal: 1.37s\tremaining: 749ms\n",
      "646:\tlearn: 0.0234308\ttotal: 1.37s\tremaining: 747ms\n",
      "647:\tlearn: 0.0234307\ttotal: 1.37s\tremaining: 744ms\n",
      "648:\tlearn: 0.0234307\ttotal: 1.37s\tremaining: 742ms\n",
      "649:\tlearn: 0.0234307\ttotal: 1.38s\tremaining: 741ms\n",
      "650:\tlearn: 0.0234307\ttotal: 1.38s\tremaining: 739ms\n",
      "651:\tlearn: 0.0234307\ttotal: 1.38s\tremaining: 737ms\n",
      "652:\tlearn: 0.0234306\ttotal: 1.38s\tremaining: 735ms\n",
      "653:\tlearn: 0.0234306\ttotal: 1.38s\tremaining: 733ms\n",
      "654:\tlearn: 0.0234306\ttotal: 1.39s\tremaining: 730ms\n",
      "655:\tlearn: 0.0234306\ttotal: 1.39s\tremaining: 728ms\n",
      "656:\tlearn: 0.0234305\ttotal: 1.39s\tremaining: 726ms\n",
      "657:\tlearn: 0.0234305\ttotal: 1.39s\tremaining: 725ms\n",
      "658:\tlearn: 0.0234303\ttotal: 1.4s\tremaining: 723ms\n",
      "659:\tlearn: 0.0234303\ttotal: 1.4s\tremaining: 721ms\n",
      "660:\tlearn: 0.0234303\ttotal: 1.4s\tremaining: 719ms\n",
      "661:\tlearn: 0.0234303\ttotal: 1.4s\tremaining: 717ms\n",
      "662:\tlearn: 0.0234303\ttotal: 1.41s\tremaining: 715ms\n",
      "663:\tlearn: 0.0234302\ttotal: 1.41s\tremaining: 713ms\n",
      "664:\tlearn: 0.0234302\ttotal: 1.41s\tremaining: 711ms\n",
      "665:\tlearn: 0.0234299\ttotal: 1.41s\tremaining: 709ms\n",
      "666:\tlearn: 0.0234299\ttotal: 1.41s\tremaining: 706ms\n",
      "667:\tlearn: 0.0234297\ttotal: 1.42s\tremaining: 704ms\n",
      "668:\tlearn: 0.0234296\ttotal: 1.42s\tremaining: 702ms\n",
      "669:\tlearn: 0.0234296\ttotal: 1.42s\tremaining: 700ms\n",
      "670:\tlearn: 0.0234295\ttotal: 1.42s\tremaining: 698ms\n",
      "671:\tlearn: 0.0234294\ttotal: 1.42s\tremaining: 695ms\n",
      "672:\tlearn: 0.0234294\ttotal: 1.43s\tremaining: 694ms\n",
      "673:\tlearn: 0.0234294\ttotal: 1.43s\tremaining: 692ms\n",
      "674:\tlearn: 0.0234293\ttotal: 1.43s\tremaining: 690ms\n",
      "675:\tlearn: 0.0234292\ttotal: 1.43s\tremaining: 688ms\n",
      "676:\tlearn: 0.0234290\ttotal: 1.44s\tremaining: 686ms\n",
      "677:\tlearn: 0.0234290\ttotal: 1.44s\tremaining: 683ms\n",
      "678:\tlearn: 0.0234290\ttotal: 1.44s\tremaining: 681ms\n",
      "679:\tlearn: 0.0234289\ttotal: 1.44s\tremaining: 679ms\n",
      "680:\tlearn: 0.0234288\ttotal: 1.45s\tremaining: 677ms\n",
      "681:\tlearn: 0.0234288\ttotal: 1.45s\tremaining: 675ms\n",
      "682:\tlearn: 0.0234287\ttotal: 1.45s\tremaining: 674ms\n",
      "683:\tlearn: 0.0234287\ttotal: 1.45s\tremaining: 671ms\n",
      "684:\tlearn: 0.0234286\ttotal: 1.46s\tremaining: 669ms\n",
      "685:\tlearn: 0.0234285\ttotal: 1.46s\tremaining: 667ms\n",
      "686:\tlearn: 0.0234284\ttotal: 1.46s\tremaining: 665ms\n",
      "687:\tlearn: 0.0234283\ttotal: 1.46s\tremaining: 663ms\n",
      "688:\tlearn: 0.0234281\ttotal: 1.46s\tremaining: 661ms\n",
      "689:\tlearn: 0.0234282\ttotal: 1.47s\tremaining: 659ms\n",
      "690:\tlearn: 0.0234280\ttotal: 1.47s\tremaining: 656ms\n",
      "691:\tlearn: 0.0234274\ttotal: 1.47s\tremaining: 655ms\n",
      "692:\tlearn: 0.0234274\ttotal: 1.47s\tremaining: 653ms\n",
      "693:\tlearn: 0.0234130\ttotal: 1.48s\tremaining: 651ms\n",
      "694:\tlearn: 0.0234128\ttotal: 1.48s\tremaining: 648ms\n",
      "695:\tlearn: 0.0233986\ttotal: 1.48s\tremaining: 646ms\n",
      "696:\tlearn: 0.0233984\ttotal: 1.48s\tremaining: 644ms\n",
      "697:\tlearn: 0.0233983\ttotal: 1.48s\tremaining: 642ms\n",
      "698:\tlearn: 0.0233983\ttotal: 1.49s\tremaining: 640ms\n",
      "699:\tlearn: 0.0233982\ttotal: 1.49s\tremaining: 638ms\n",
      "700:\tlearn: 0.0233983\ttotal: 1.49s\tremaining: 636ms\n",
      "701:\tlearn: 0.0233982\ttotal: 1.49s\tremaining: 634ms\n",
      "702:\tlearn: 0.0233662\ttotal: 1.5s\tremaining: 632ms\n",
      "703:\tlearn: 0.0233069\ttotal: 1.5s\tremaining: 630ms\n",
      "704:\tlearn: 0.0232921\ttotal: 1.5s\tremaining: 628ms\n",
      "705:\tlearn: 0.0232921\ttotal: 1.5s\tremaining: 626ms\n",
      "706:\tlearn: 0.0232920\ttotal: 1.5s\tremaining: 624ms\n",
      "707:\tlearn: 0.0232920\ttotal: 1.51s\tremaining: 622ms\n",
      "708:\tlearn: 0.0232920\ttotal: 1.51s\tremaining: 620ms\n",
      "709:\tlearn: 0.0232919\ttotal: 1.51s\tremaining: 617ms\n",
      "710:\tlearn: 0.0232920\ttotal: 1.51s\tremaining: 616ms\n",
      "711:\tlearn: 0.0232919\ttotal: 1.52s\tremaining: 614ms\n",
      "712:\tlearn: 0.0232917\ttotal: 1.52s\tremaining: 611ms\n",
      "713:\tlearn: 0.0232918\ttotal: 1.52s\tremaining: 609ms\n",
      "714:\tlearn: 0.0232912\ttotal: 1.52s\tremaining: 607ms\n",
      "715:\tlearn: 0.0232912\ttotal: 1.52s\tremaining: 605ms\n",
      "716:\tlearn: 0.0232911\ttotal: 1.53s\tremaining: 603ms\n",
      "717:\tlearn: 0.0232910\ttotal: 1.53s\tremaining: 601ms\n",
      "718:\tlearn: 0.0232910\ttotal: 1.53s\tremaining: 599ms\n",
      "719:\tlearn: 0.0232908\ttotal: 1.53s\tremaining: 597ms\n",
      "720:\tlearn: 0.0232908\ttotal: 1.54s\tremaining: 595ms\n",
      "721:\tlearn: 0.0232907\ttotal: 1.54s\tremaining: 593ms\n",
      "722:\tlearn: 0.0232906\ttotal: 1.54s\tremaining: 590ms\n",
      "723:\tlearn: 0.0232906\ttotal: 1.54s\tremaining: 589ms\n",
      "724:\tlearn: 0.0232901\ttotal: 1.55s\tremaining: 587ms\n",
      "725:\tlearn: 0.0232900\ttotal: 1.55s\tremaining: 585ms\n",
      "726:\tlearn: 0.0232899\ttotal: 1.55s\tremaining: 583ms\n",
      "727:\tlearn: 0.0232899\ttotal: 1.55s\tremaining: 581ms\n",
      "728:\tlearn: 0.0232899\ttotal: 1.56s\tremaining: 579ms\n",
      "729:\tlearn: 0.0232899\ttotal: 1.56s\tremaining: 577ms\n",
      "730:\tlearn: 0.0232899\ttotal: 1.56s\tremaining: 575ms\n",
      "731:\tlearn: 0.0232898\ttotal: 1.56s\tremaining: 572ms\n",
      "732:\tlearn: 0.0232897\ttotal: 1.56s\tremaining: 570ms\n",
      "733:\tlearn: 0.0232897\ttotal: 1.57s\tremaining: 569ms\n",
      "734:\tlearn: 0.0232896\ttotal: 1.57s\tremaining: 567ms\n",
      "735:\tlearn: 0.0232895\ttotal: 1.57s\tremaining: 564ms\n",
      "736:\tlearn: 0.0232894\ttotal: 1.57s\tremaining: 562ms\n",
      "737:\tlearn: 0.0232894\ttotal: 1.58s\tremaining: 560ms\n",
      "738:\tlearn: 0.0232894\ttotal: 1.58s\tremaining: 558ms\n",
      "739:\tlearn: 0.0232894\ttotal: 1.58s\tremaining: 556ms\n",
      "740:\tlearn: 0.0232894\ttotal: 1.58s\tremaining: 554ms\n",
      "741:\tlearn: 0.0232894\ttotal: 1.59s\tremaining: 552ms\n",
      "742:\tlearn: 0.0232892\ttotal: 1.59s\tremaining: 549ms\n",
      "743:\tlearn: 0.0232891\ttotal: 1.59s\tremaining: 548ms\n",
      "744:\tlearn: 0.0232891\ttotal: 1.59s\tremaining: 546ms\n",
      "745:\tlearn: 0.0232891\ttotal: 1.6s\tremaining: 544ms\n",
      "746:\tlearn: 0.0232891\ttotal: 1.6s\tremaining: 541ms\n",
      "747:\tlearn: 0.0232891\ttotal: 1.6s\tremaining: 539ms\n",
      "748:\tlearn: 0.0232891\ttotal: 1.6s\tremaining: 537ms\n",
      "749:\tlearn: 0.0232891\ttotal: 1.6s\tremaining: 535ms\n",
      "750:\tlearn: 0.0232891\ttotal: 1.61s\tremaining: 533ms\n",
      "751:\tlearn: 0.0232407\ttotal: 1.61s\tremaining: 531ms\n",
      "752:\tlearn: 0.0232406\ttotal: 1.61s\tremaining: 529ms\n",
      "753:\tlearn: 0.0232197\ttotal: 1.61s\tremaining: 526ms\n",
      "754:\tlearn: 0.0232197\ttotal: 1.61s\tremaining: 524ms\n",
      "755:\tlearn: 0.0232197\ttotal: 1.62s\tremaining: 522ms\n",
      "756:\tlearn: 0.0232197\ttotal: 1.62s\tremaining: 521ms\n",
      "757:\tlearn: 0.0232196\ttotal: 1.62s\tremaining: 518ms\n",
      "758:\tlearn: 0.0232196\ttotal: 1.63s\tremaining: 516ms\n",
      "759:\tlearn: 0.0232196\ttotal: 1.63s\tremaining: 514ms\n",
      "760:\tlearn: 0.0232196\ttotal: 1.63s\tremaining: 512ms\n",
      "761:\tlearn: 0.0232195\ttotal: 1.63s\tremaining: 510ms\n",
      "762:\tlearn: 0.0232196\ttotal: 1.63s\tremaining: 508ms\n",
      "763:\tlearn: 0.0232195\ttotal: 1.64s\tremaining: 505ms\n",
      "764:\tlearn: 0.0232195\ttotal: 1.64s\tremaining: 503ms\n",
      "765:\tlearn: 0.0232195\ttotal: 1.64s\tremaining: 501ms\n",
      "766:\tlearn: 0.0232196\ttotal: 1.64s\tremaining: 499ms\n",
      "767:\tlearn: 0.0232195\ttotal: 1.65s\tremaining: 497ms\n",
      "768:\tlearn: 0.0232194\ttotal: 1.65s\tremaining: 495ms\n",
      "769:\tlearn: 0.0232194\ttotal: 1.65s\tremaining: 493ms\n",
      "770:\tlearn: 0.0232194\ttotal: 1.65s\tremaining: 491ms\n",
      "771:\tlearn: 0.0232193\ttotal: 1.65s\tremaining: 489ms\n",
      "772:\tlearn: 0.0232193\ttotal: 1.66s\tremaining: 487ms\n",
      "773:\tlearn: 0.0232193\ttotal: 1.66s\tremaining: 485ms\n",
      "774:\tlearn: 0.0232192\ttotal: 1.66s\tremaining: 482ms\n",
      "775:\tlearn: 0.0232192\ttotal: 1.66s\tremaining: 480ms\n",
      "776:\tlearn: 0.0232190\ttotal: 1.67s\tremaining: 478ms\n",
      "777:\tlearn: 0.0232190\ttotal: 1.67s\tremaining: 476ms\n",
      "778:\tlearn: 0.0232190\ttotal: 1.67s\tremaining: 474ms\n",
      "779:\tlearn: 0.0232189\ttotal: 1.67s\tremaining: 472ms\n",
      "780:\tlearn: 0.0232189\ttotal: 1.68s\tremaining: 470ms\n",
      "781:\tlearn: 0.0232188\ttotal: 1.68s\tremaining: 468ms\n",
      "782:\tlearn: 0.0232188\ttotal: 1.68s\tremaining: 465ms\n",
      "783:\tlearn: 0.0232188\ttotal: 1.68s\tremaining: 463ms\n",
      "784:\tlearn: 0.0232188\ttotal: 1.68s\tremaining: 461ms\n",
      "785:\tlearn: 0.0232188\ttotal: 1.69s\tremaining: 459ms\n",
      "786:\tlearn: 0.0232187\ttotal: 1.69s\tremaining: 457ms\n",
      "787:\tlearn: 0.0232187\ttotal: 1.69s\tremaining: 454ms\n",
      "788:\tlearn: 0.0232187\ttotal: 1.69s\tremaining: 452ms\n",
      "789:\tlearn: 0.0232187\ttotal: 1.69s\tremaining: 450ms\n",
      "790:\tlearn: 0.0232187\ttotal: 1.7s\tremaining: 448ms\n",
      "791:\tlearn: 0.0232186\ttotal: 1.7s\tremaining: 446ms\n",
      "792:\tlearn: 0.0232185\ttotal: 1.7s\tremaining: 444ms\n",
      "793:\tlearn: 0.0232184\ttotal: 1.7s\tremaining: 441ms\n",
      "794:\tlearn: 0.0232183\ttotal: 1.7s\tremaining: 439ms\n",
      "795:\tlearn: 0.0232183\ttotal: 1.71s\tremaining: 437ms\n",
      "796:\tlearn: 0.0232182\ttotal: 1.71s\tremaining: 435ms\n",
      "797:\tlearn: 0.0232182\ttotal: 1.71s\tremaining: 433ms\n",
      "798:\tlearn: 0.0232182\ttotal: 1.71s\tremaining: 431ms\n",
      "799:\tlearn: 0.0232182\ttotal: 1.72s\tremaining: 429ms\n",
      "800:\tlearn: 0.0232181\ttotal: 1.72s\tremaining: 427ms\n",
      "801:\tlearn: 0.0232181\ttotal: 1.72s\tremaining: 425ms\n",
      "802:\tlearn: 0.0232181\ttotal: 1.72s\tremaining: 423ms\n",
      "803:\tlearn: 0.0232181\ttotal: 1.73s\tremaining: 421ms\n",
      "804:\tlearn: 0.0232180\ttotal: 1.73s\tremaining: 418ms\n",
      "805:\tlearn: 0.0232180\ttotal: 1.73s\tremaining: 416ms\n",
      "806:\tlearn: 0.0232179\ttotal: 1.73s\tremaining: 414ms\n",
      "807:\tlearn: 0.0232179\ttotal: 1.73s\tremaining: 412ms\n",
      "808:\tlearn: 0.0232179\ttotal: 1.74s\tremaining: 410ms\n",
      "809:\tlearn: 0.0232178\ttotal: 1.74s\tremaining: 408ms\n",
      "810:\tlearn: 0.0232178\ttotal: 1.74s\tremaining: 406ms\n",
      "811:\tlearn: 0.0232177\ttotal: 1.74s\tremaining: 404ms\n",
      "812:\tlearn: 0.0232176\ttotal: 1.75s\tremaining: 402ms\n",
      "813:\tlearn: 0.0232176\ttotal: 1.75s\tremaining: 399ms\n",
      "814:\tlearn: 0.0232176\ttotal: 1.75s\tremaining: 397ms\n",
      "815:\tlearn: 0.0232175\ttotal: 1.75s\tremaining: 395ms\n",
      "816:\tlearn: 0.0232174\ttotal: 1.75s\tremaining: 393ms\n",
      "817:\tlearn: 0.0232174\ttotal: 1.76s\tremaining: 391ms\n",
      "818:\tlearn: 0.0231772\ttotal: 1.76s\tremaining: 389ms\n",
      "819:\tlearn: 0.0231074\ttotal: 1.76s\tremaining: 387ms\n",
      "820:\tlearn: 0.0231073\ttotal: 1.76s\tremaining: 385ms\n",
      "821:\tlearn: 0.0231072\ttotal: 1.77s\tremaining: 383ms\n",
      "822:\tlearn: 0.0231072\ttotal: 1.77s\tremaining: 381ms\n",
      "823:\tlearn: 0.0231072\ttotal: 1.77s\tremaining: 379ms\n",
      "824:\tlearn: 0.0231071\ttotal: 1.77s\tremaining: 376ms\n",
      "825:\tlearn: 0.0231070\ttotal: 1.78s\tremaining: 374ms\n",
      "826:\tlearn: 0.0231070\ttotal: 1.78s\tremaining: 372ms\n",
      "827:\tlearn: 0.0231070\ttotal: 1.78s\tremaining: 370ms\n",
      "828:\tlearn: 0.0231069\ttotal: 1.78s\tremaining: 368ms\n",
      "829:\tlearn: 0.0231070\ttotal: 1.78s\tremaining: 365ms\n",
      "830:\tlearn: 0.0231070\ttotal: 1.78s\tremaining: 363ms\n",
      "831:\tlearn: 0.0231068\ttotal: 1.79s\tremaining: 361ms\n",
      "832:\tlearn: 0.0231064\ttotal: 1.79s\tremaining: 359ms\n",
      "833:\tlearn: 0.0231064\ttotal: 1.79s\tremaining: 357ms\n",
      "834:\tlearn: 0.0231063\ttotal: 1.79s\tremaining: 355ms\n",
      "835:\tlearn: 0.0231062\ttotal: 1.8s\tremaining: 352ms\n",
      "836:\tlearn: 0.0231062\ttotal: 1.8s\tremaining: 350ms\n",
      "837:\tlearn: 0.0231061\ttotal: 1.8s\tremaining: 348ms\n",
      "838:\tlearn: 0.0231061\ttotal: 1.8s\tremaining: 346ms\n",
      "839:\tlearn: 0.0231060\ttotal: 1.8s\tremaining: 344ms\n",
      "840:\tlearn: 0.0231061\ttotal: 1.81s\tremaining: 342ms\n",
      "841:\tlearn: 0.0231060\ttotal: 1.81s\tremaining: 339ms\n",
      "842:\tlearn: 0.0231060\ttotal: 1.81s\tremaining: 337ms\n",
      "843:\tlearn: 0.0231059\ttotal: 1.81s\tremaining: 335ms\n",
      "844:\tlearn: 0.0231055\ttotal: 1.81s\tremaining: 333ms\n",
      "845:\tlearn: 0.0231054\ttotal: 1.82s\tremaining: 331ms\n",
      "846:\tlearn: 0.0231054\ttotal: 1.82s\tremaining: 329ms\n",
      "847:\tlearn: 0.0231052\ttotal: 1.82s\tremaining: 327ms\n",
      "848:\tlearn: 0.0231052\ttotal: 1.82s\tremaining: 324ms\n",
      "849:\tlearn: 0.0231052\ttotal: 1.83s\tremaining: 322ms\n",
      "850:\tlearn: 0.0231050\ttotal: 1.83s\tremaining: 320ms\n",
      "851:\tlearn: 0.0231049\ttotal: 1.83s\tremaining: 318ms\n",
      "852:\tlearn: 0.0231049\ttotal: 1.83s\tremaining: 316ms\n",
      "853:\tlearn: 0.0231049\ttotal: 1.84s\tremaining: 314ms\n",
      "854:\tlearn: 0.0231048\ttotal: 1.84s\tremaining: 312ms\n",
      "855:\tlearn: 0.0231048\ttotal: 1.84s\tremaining: 310ms\n",
      "856:\tlearn: 0.0231048\ttotal: 1.84s\tremaining: 308ms\n",
      "857:\tlearn: 0.0231049\ttotal: 1.85s\tremaining: 306ms\n",
      "858:\tlearn: 0.0231048\ttotal: 1.85s\tremaining: 303ms\n",
      "859:\tlearn: 0.0231047\ttotal: 1.85s\tremaining: 301ms\n",
      "860:\tlearn: 0.0231047\ttotal: 1.85s\tremaining: 299ms\n",
      "861:\tlearn: 0.0231045\ttotal: 1.85s\tremaining: 297ms\n",
      "862:\tlearn: 0.0231044\ttotal: 1.86s\tremaining: 295ms\n",
      "863:\tlearn: 0.0230911\ttotal: 1.86s\tremaining: 293ms\n",
      "864:\tlearn: 0.0230911\ttotal: 1.86s\tremaining: 291ms\n",
      "865:\tlearn: 0.0230909\ttotal: 1.86s\tremaining: 289ms\n",
      "866:\tlearn: 0.0230909\ttotal: 1.87s\tremaining: 286ms\n",
      "867:\tlearn: 0.0230908\ttotal: 1.87s\tremaining: 284ms\n",
      "868:\tlearn: 0.0230908\ttotal: 1.87s\tremaining: 282ms\n",
      "869:\tlearn: 0.0230908\ttotal: 1.87s\tremaining: 280ms\n",
      "870:\tlearn: 0.0230907\ttotal: 1.88s\tremaining: 278ms\n",
      "871:\tlearn: 0.0230907\ttotal: 1.88s\tremaining: 276ms\n",
      "872:\tlearn: 0.0230906\ttotal: 1.88s\tremaining: 273ms\n",
      "873:\tlearn: 0.0230905\ttotal: 1.88s\tremaining: 271ms\n",
      "874:\tlearn: 0.0230905\ttotal: 1.88s\tremaining: 269ms\n",
      "875:\tlearn: 0.0230904\ttotal: 1.89s\tremaining: 267ms\n",
      "876:\tlearn: 0.0230904\ttotal: 1.89s\tremaining: 265ms\n",
      "877:\tlearn: 0.0230903\ttotal: 1.89s\tremaining: 263ms\n",
      "878:\tlearn: 0.0230902\ttotal: 1.89s\tremaining: 261ms\n",
      "879:\tlearn: 0.0230901\ttotal: 1.9s\tremaining: 258ms\n",
      "880:\tlearn: 0.0230901\ttotal: 1.9s\tremaining: 256ms\n",
      "881:\tlearn: 0.0230899\ttotal: 1.9s\tremaining: 254ms\n",
      "882:\tlearn: 0.0230899\ttotal: 1.9s\tremaining: 252ms\n",
      "883:\tlearn: 0.0230898\ttotal: 1.9s\tremaining: 250ms\n",
      "884:\tlearn: 0.0230899\ttotal: 1.91s\tremaining: 248ms\n",
      "885:\tlearn: 0.0230898\ttotal: 1.91s\tremaining: 246ms\n",
      "886:\tlearn: 0.0230898\ttotal: 1.91s\tremaining: 244ms\n",
      "887:\tlearn: 0.0230895\ttotal: 1.92s\tremaining: 242ms\n",
      "888:\tlearn: 0.0230894\ttotal: 1.92s\tremaining: 240ms\n",
      "889:\tlearn: 0.0230893\ttotal: 1.92s\tremaining: 237ms\n",
      "890:\tlearn: 0.0230893\ttotal: 1.92s\tremaining: 235ms\n",
      "891:\tlearn: 0.0230892\ttotal: 1.92s\tremaining: 233ms\n",
      "892:\tlearn: 0.0230891\ttotal: 1.93s\tremaining: 231ms\n",
      "893:\tlearn: 0.0230890\ttotal: 1.93s\tremaining: 229ms\n",
      "894:\tlearn: 0.0230888\ttotal: 1.94s\tremaining: 227ms\n",
      "895:\tlearn: 0.0230673\ttotal: 1.94s\tremaining: 225ms\n",
      "896:\tlearn: 0.0230673\ttotal: 1.95s\tremaining: 224ms\n",
      "897:\tlearn: 0.0230672\ttotal: 1.95s\tremaining: 222ms\n",
      "898:\tlearn: 0.0230672\ttotal: 1.96s\tremaining: 220ms\n",
      "899:\tlearn: 0.0230672\ttotal: 1.96s\tremaining: 218ms\n",
      "900:\tlearn: 0.0230672\ttotal: 1.97s\tremaining: 216ms\n",
      "901:\tlearn: 0.0230672\ttotal: 1.97s\tremaining: 214ms\n",
      "902:\tlearn: 0.0230672\ttotal: 1.97s\tremaining: 212ms\n",
      "903:\tlearn: 0.0230672\ttotal: 1.98s\tremaining: 210ms\n",
      "904:\tlearn: 0.0230671\ttotal: 1.98s\tremaining: 208ms\n",
      "905:\tlearn: 0.0230671\ttotal: 1.99s\tremaining: 206ms\n",
      "906:\tlearn: 0.0230670\ttotal: 1.99s\tremaining: 204ms\n",
      "907:\tlearn: 0.0230669\ttotal: 1.99s\tremaining: 202ms\n",
      "908:\tlearn: 0.0230669\ttotal: 1.99s\tremaining: 199ms\n",
      "909:\tlearn: 0.0230669\ttotal: 1.99s\tremaining: 197ms\n",
      "910:\tlearn: 0.0230667\ttotal: 2s\tremaining: 195ms\n",
      "911:\tlearn: 0.0230666\ttotal: 2s\tremaining: 193ms\n",
      "912:\tlearn: 0.0230665\ttotal: 2s\tremaining: 191ms\n",
      "913:\tlearn: 0.0230665\ttotal: 2.01s\tremaining: 189ms\n",
      "914:\tlearn: 0.0230663\ttotal: 2.01s\tremaining: 187ms\n",
      "915:\tlearn: 0.0230663\ttotal: 2.01s\tremaining: 184ms\n",
      "916:\tlearn: 0.0230663\ttotal: 2.01s\tremaining: 182ms\n",
      "917:\tlearn: 0.0230662\ttotal: 2.02s\tremaining: 180ms\n",
      "918:\tlearn: 0.0230662\ttotal: 2.02s\tremaining: 178ms\n",
      "919:\tlearn: 0.0230662\ttotal: 2.02s\tremaining: 176ms\n",
      "920:\tlearn: 0.0230662\ttotal: 2.02s\tremaining: 174ms\n",
      "921:\tlearn: 0.0230660\ttotal: 2.03s\tremaining: 171ms\n",
      "922:\tlearn: 0.0230660\ttotal: 2.03s\tremaining: 169ms\n",
      "923:\tlearn: 0.0230659\ttotal: 2.03s\tremaining: 167ms\n",
      "924:\tlearn: 0.0230659\ttotal: 2.03s\tremaining: 165ms\n",
      "925:\tlearn: 0.0230658\ttotal: 2.04s\tremaining: 163ms\n",
      "926:\tlearn: 0.0230658\ttotal: 2.04s\tremaining: 161ms\n",
      "927:\tlearn: 0.0230657\ttotal: 2.04s\tremaining: 158ms\n",
      "928:\tlearn: 0.0230656\ttotal: 2.05s\tremaining: 156ms\n",
      "929:\tlearn: 0.0230655\ttotal: 2.05s\tremaining: 154ms\n",
      "930:\tlearn: 0.0230655\ttotal: 2.05s\tremaining: 152ms\n",
      "931:\tlearn: 0.0230655\ttotal: 2.05s\tremaining: 150ms\n",
      "932:\tlearn: 0.0230653\ttotal: 2.06s\tremaining: 148ms\n",
      "933:\tlearn: 0.0230652\ttotal: 2.06s\tremaining: 146ms\n",
      "934:\tlearn: 0.0230651\ttotal: 2.06s\tremaining: 143ms\n",
      "935:\tlearn: 0.0230651\ttotal: 2.06s\tremaining: 141ms\n",
      "936:\tlearn: 0.0230649\ttotal: 2.06s\tremaining: 139ms\n",
      "937:\tlearn: 0.0230648\ttotal: 2.07s\tremaining: 137ms\n",
      "938:\tlearn: 0.0230645\ttotal: 2.07s\tremaining: 135ms\n",
      "939:\tlearn: 0.0230645\ttotal: 2.07s\tremaining: 132ms\n",
      "940:\tlearn: 0.0230644\ttotal: 2.08s\tremaining: 130ms\n",
      "941:\tlearn: 0.0230644\ttotal: 2.08s\tremaining: 128ms\n",
      "942:\tlearn: 0.0230643\ttotal: 2.08s\tremaining: 126ms\n",
      "943:\tlearn: 0.0230642\ttotal: 2.08s\tremaining: 124ms\n",
      "944:\tlearn: 0.0230642\ttotal: 2.08s\tremaining: 121ms\n",
      "945:\tlearn: 0.0230641\ttotal: 2.09s\tremaining: 119ms\n",
      "946:\tlearn: 0.0230641\ttotal: 2.09s\tremaining: 117ms\n",
      "947:\tlearn: 0.0230641\ttotal: 2.09s\tremaining: 115ms\n",
      "948:\tlearn: 0.0230640\ttotal: 2.1s\tremaining: 113ms\n",
      "949:\tlearn: 0.0230640\ttotal: 2.1s\tremaining: 110ms\n",
      "950:\tlearn: 0.0230639\ttotal: 2.1s\tremaining: 108ms\n",
      "951:\tlearn: 0.0230639\ttotal: 2.1s\tremaining: 106ms\n",
      "952:\tlearn: 0.0230639\ttotal: 2.1s\tremaining: 104ms\n",
      "953:\tlearn: 0.0230638\ttotal: 2.11s\tremaining: 102ms\n",
      "954:\tlearn: 0.0230638\ttotal: 2.11s\tremaining: 99.4ms\n",
      "955:\tlearn: 0.0230638\ttotal: 2.11s\tremaining: 97.2ms\n",
      "956:\tlearn: 0.0230635\ttotal: 2.11s\tremaining: 95ms\n",
      "957:\tlearn: 0.0230635\ttotal: 2.12s\tremaining: 92.8ms\n",
      "958:\tlearn: 0.0230634\ttotal: 2.12s\tremaining: 90.6ms\n",
      "959:\tlearn: 0.0230634\ttotal: 2.12s\tremaining: 88.4ms\n",
      "960:\tlearn: 0.0230634\ttotal: 2.12s\tremaining: 86.2ms\n",
      "961:\tlearn: 0.0230633\ttotal: 2.13s\tremaining: 84ms\n",
      "962:\tlearn: 0.0230632\ttotal: 2.13s\tremaining: 81.8ms\n",
      "963:\tlearn: 0.0230631\ttotal: 2.13s\tremaining: 79.6ms\n",
      "964:\tlearn: 0.0230630\ttotal: 2.13s\tremaining: 77.4ms\n",
      "965:\tlearn: 0.0230631\ttotal: 2.13s\tremaining: 75.2ms\n",
      "966:\tlearn: 0.0230630\ttotal: 2.14s\tremaining: 73ms\n",
      "967:\tlearn: 0.0230629\ttotal: 2.14s\tremaining: 70.8ms\n",
      "968:\tlearn: 0.0230628\ttotal: 2.14s\tremaining: 68.6ms\n",
      "969:\tlearn: 0.0230628\ttotal: 2.15s\tremaining: 66.4ms\n",
      "970:\tlearn: 0.0230628\ttotal: 2.15s\tremaining: 64.2ms\n",
      "971:\tlearn: 0.0230628\ttotal: 2.15s\tremaining: 61.9ms\n",
      "972:\tlearn: 0.0230628\ttotal: 2.15s\tremaining: 59.7ms\n",
      "973:\tlearn: 0.0230627\ttotal: 2.15s\tremaining: 57.5ms\n",
      "974:\tlearn: 0.0230625\ttotal: 2.16s\tremaining: 55.3ms\n",
      "975:\tlearn: 0.0230624\ttotal: 2.16s\tremaining: 53.1ms\n",
      "976:\tlearn: 0.0230624\ttotal: 2.16s\tremaining: 50.9ms\n",
      "977:\tlearn: 0.0230624\ttotal: 2.16s\tremaining: 48.7ms\n",
      "978:\tlearn: 0.0230624\ttotal: 2.17s\tremaining: 46.4ms\n",
      "979:\tlearn: 0.0230624\ttotal: 2.17s\tremaining: 44.2ms\n",
      "980:\tlearn: 0.0230623\ttotal: 2.17s\tremaining: 42ms\n",
      "981:\tlearn: 0.0230623\ttotal: 2.17s\tremaining: 39.8ms\n",
      "982:\tlearn: 0.0230622\ttotal: 2.17s\tremaining: 37.6ms\n",
      "983:\tlearn: 0.0230622\ttotal: 2.17s\tremaining: 35.4ms\n",
      "984:\tlearn: 0.0230622\ttotal: 2.18s\tremaining: 33.2ms\n",
      "985:\tlearn: 0.0230622\ttotal: 2.18s\tremaining: 31ms\n",
      "986:\tlearn: 0.0230621\ttotal: 2.18s\tremaining: 28.8ms\n",
      "987:\tlearn: 0.0230620\ttotal: 2.19s\tremaining: 26.6ms\n",
      "988:\tlearn: 0.0230620\ttotal: 2.19s\tremaining: 24.3ms\n",
      "989:\tlearn: 0.0230620\ttotal: 2.19s\tremaining: 22.1ms\n",
      "990:\tlearn: 0.0230620\ttotal: 2.19s\tremaining: 19.9ms\n",
      "991:\tlearn: 0.0230619\ttotal: 2.19s\tremaining: 17.7ms\n",
      "992:\tlearn: 0.0230619\ttotal: 2.2s\tremaining: 15.5ms\n",
      "993:\tlearn: 0.0230617\ttotal: 2.2s\tremaining: 13.3ms\n",
      "994:\tlearn: 0.0230615\ttotal: 2.2s\tremaining: 11.1ms\n",
      "995:\tlearn: 0.0230614\ttotal: 2.2s\tremaining: 8.85ms\n",
      "996:\tlearn: 0.0230613\ttotal: 2.21s\tremaining: 6.64ms\n",
      "997:\tlearn: 0.0230613\ttotal: 2.21s\tremaining: 4.43ms\n",
      "998:\tlearn: 0.0230612\ttotal: 2.21s\tremaining: 2.21ms\n",
      "999:\tlearn: 0.0230612\ttotal: 2.21s\tremaining: 0us\n",
      "0:\tlearn: 0.3401688\ttotal: 1.62ms\tremaining: 1.62s\n",
      "1:\tlearn: 0.2187862\ttotal: 4.25ms\tremaining: 2.12s\n",
      "2:\tlearn: 0.1818483\ttotal: 7.13ms\tremaining: 2.37s\n",
      "3:\tlearn: 0.1679123\ttotal: 10ms\tremaining: 2.5s\n",
      "4:\tlearn: 0.1535802\ttotal: 12.3ms\tremaining: 2.45s\n",
      "5:\tlearn: 0.1388541\ttotal: 14.4ms\tremaining: 2.39s\n",
      "6:\tlearn: 0.1330192\ttotal: 17.2ms\tremaining: 2.44s\n",
      "7:\tlearn: 0.1260239\ttotal: 19.6ms\tremaining: 2.43s\n",
      "8:\tlearn: 0.1213009\ttotal: 21.8ms\tremaining: 2.4s\n",
      "9:\tlearn: 0.1152351\ttotal: 24.4ms\tremaining: 2.41s\n",
      "10:\tlearn: 0.1114086\ttotal: 26.9ms\tremaining: 2.42s\n",
      "11:\tlearn: 0.1054574\ttotal: 31.1ms\tremaining: 2.56s\n",
      "12:\tlearn: 0.1026596\ttotal: 34.1ms\tremaining: 2.59s\n",
      "13:\tlearn: 0.0991288\ttotal: 36.1ms\tremaining: 2.54s\n",
      "14:\tlearn: 0.0968921\ttotal: 38.3ms\tremaining: 2.52s\n",
      "15:\tlearn: 0.0935146\ttotal: 41.2ms\tremaining: 2.53s\n",
      "16:\tlearn: 0.0910686\ttotal: 44.1ms\tremaining: 2.55s\n",
      "17:\tlearn: 0.0897419\ttotal: 46.5ms\tremaining: 2.54s\n",
      "18:\tlearn: 0.0888624\ttotal: 48.7ms\tremaining: 2.51s\n",
      "19:\tlearn: 0.0869924\ttotal: 54.4ms\tremaining: 2.67s\n",
      "20:\tlearn: 0.0854988\ttotal: 58.4ms\tremaining: 2.72s\n",
      "21:\tlearn: 0.0835536\ttotal: 60.5ms\tremaining: 2.69s\n",
      "22:\tlearn: 0.0813809\ttotal: 62.6ms\tremaining: 2.66s\n",
      "23:\tlearn: 0.0780136\ttotal: 64.9ms\tremaining: 2.64s\n",
      "24:\tlearn: 0.0755844\ttotal: 67.9ms\tremaining: 2.65s\n",
      "25:\tlearn: 0.0745842\ttotal: 70.5ms\tremaining: 2.64s\n",
      "26:\tlearn: 0.0727494\ttotal: 72.6ms\tremaining: 2.62s\n",
      "27:\tlearn: 0.0701703\ttotal: 74.8ms\tremaining: 2.6s\n",
      "28:\tlearn: 0.0684395\ttotal: 77.6ms\tremaining: 2.6s\n",
      "29:\tlearn: 0.0670071\ttotal: 80.7ms\tremaining: 2.61s\n",
      "30:\tlearn: 0.0658517\ttotal: 83ms\tremaining: 2.59s\n",
      "31:\tlearn: 0.0647186\ttotal: 85.2ms\tremaining: 2.58s\n",
      "32:\tlearn: 0.0627563\ttotal: 87.5ms\tremaining: 2.56s\n",
      "33:\tlearn: 0.0618674\ttotal: 89.8ms\tremaining: 2.55s\n",
      "34:\tlearn: 0.0605472\ttotal: 93.9ms\tremaining: 2.59s\n",
      "35:\tlearn: 0.0592497\ttotal: 96.9ms\tremaining: 2.59s\n",
      "36:\tlearn: 0.0582435\ttotal: 99.8ms\tremaining: 2.6s\n",
      "37:\tlearn: 0.0571699\ttotal: 102ms\tremaining: 2.58s\n",
      "38:\tlearn: 0.0562875\ttotal: 105ms\tremaining: 2.59s\n",
      "39:\tlearn: 0.0554755\ttotal: 108ms\tremaining: 2.58s\n",
      "40:\tlearn: 0.0547284\ttotal: 110ms\tremaining: 2.56s\n",
      "41:\tlearn: 0.0539605\ttotal: 112ms\tremaining: 2.55s\n",
      "42:\tlearn: 0.0531635\ttotal: 114ms\tremaining: 2.53s\n",
      "43:\tlearn: 0.0523679\ttotal: 116ms\tremaining: 2.52s\n",
      "44:\tlearn: 0.0510843\ttotal: 119ms\tremaining: 2.53s\n",
      "45:\tlearn: 0.0504998\ttotal: 123ms\tremaining: 2.56s\n",
      "46:\tlearn: 0.0500753\ttotal: 125ms\tremaining: 2.54s\n",
      "47:\tlearn: 0.0495912\ttotal: 128ms\tremaining: 2.53s\n",
      "48:\tlearn: 0.0492385\ttotal: 130ms\tremaining: 2.52s\n",
      "49:\tlearn: 0.0487834\ttotal: 132ms\tremaining: 2.51s\n",
      "50:\tlearn: 0.0478200\ttotal: 134ms\tremaining: 2.5s\n",
      "51:\tlearn: 0.0471465\ttotal: 137ms\tremaining: 2.49s\n",
      "52:\tlearn: 0.0467225\ttotal: 139ms\tremaining: 2.48s\n",
      "53:\tlearn: 0.0460662\ttotal: 142ms\tremaining: 2.5s\n",
      "54:\tlearn: 0.0453778\ttotal: 145ms\tremaining: 2.5s\n",
      "55:\tlearn: 0.0450193\ttotal: 148ms\tremaining: 2.49s\n",
      "56:\tlearn: 0.0449712\ttotal: 149ms\tremaining: 2.47s\n",
      "57:\tlearn: 0.0445963\ttotal: 152ms\tremaining: 2.46s\n",
      "58:\tlearn: 0.0442474\ttotal: 154ms\tremaining: 2.46s\n",
      "59:\tlearn: 0.0437021\ttotal: 157ms\tremaining: 2.46s\n",
      "60:\tlearn: 0.0432326\ttotal: 159ms\tremaining: 2.45s\n",
      "61:\tlearn: 0.0429073\ttotal: 163ms\tremaining: 2.46s\n",
      "62:\tlearn: 0.0424845\ttotal: 166ms\tremaining: 2.46s\n",
      "63:\tlearn: 0.0421489\ttotal: 169ms\tremaining: 2.47s\n",
      "64:\tlearn: 0.0416044\ttotal: 172ms\tremaining: 2.47s\n",
      "65:\tlearn: 0.0413867\ttotal: 174ms\tremaining: 2.46s\n",
      "66:\tlearn: 0.0408167\ttotal: 176ms\tremaining: 2.45s\n",
      "67:\tlearn: 0.0403157\ttotal: 178ms\tremaining: 2.44s\n",
      "68:\tlearn: 0.0400002\ttotal: 181ms\tremaining: 2.44s\n",
      "69:\tlearn: 0.0393138\ttotal: 184ms\tremaining: 2.44s\n",
      "70:\tlearn: 0.0390634\ttotal: 187ms\tremaining: 2.45s\n",
      "71:\tlearn: 0.0382705\ttotal: 190ms\tremaining: 2.44s\n",
      "72:\tlearn: 0.0379444\ttotal: 192ms\tremaining: 2.44s\n",
      "73:\tlearn: 0.0376891\ttotal: 195ms\tremaining: 2.44s\n",
      "74:\tlearn: 0.0374975\ttotal: 197ms\tremaining: 2.43s\n",
      "75:\tlearn: 0.0371765\ttotal: 199ms\tremaining: 2.42s\n",
      "76:\tlearn: 0.0368802\ttotal: 202ms\tremaining: 2.42s\n",
      "77:\tlearn: 0.0365901\ttotal: 204ms\tremaining: 2.41s\n",
      "78:\tlearn: 0.0364733\ttotal: 207ms\tremaining: 2.41s\n",
      "79:\tlearn: 0.0361079\ttotal: 210ms\tremaining: 2.42s\n",
      "80:\tlearn: 0.0357928\ttotal: 212ms\tremaining: 2.41s\n",
      "81:\tlearn: 0.0356593\ttotal: 214ms\tremaining: 2.4s\n",
      "82:\tlearn: 0.0354013\ttotal: 217ms\tremaining: 2.39s\n",
      "83:\tlearn: 0.0349891\ttotal: 219ms\tremaining: 2.39s\n",
      "84:\tlearn: 0.0343845\ttotal: 221ms\tremaining: 2.38s\n",
      "85:\tlearn: 0.0341345\ttotal: 224ms\tremaining: 2.38s\n",
      "86:\tlearn: 0.0339429\ttotal: 226ms\tremaining: 2.37s\n",
      "87:\tlearn: 0.0337486\ttotal: 228ms\tremaining: 2.36s\n",
      "88:\tlearn: 0.0334811\ttotal: 232ms\tremaining: 2.37s\n",
      "89:\tlearn: 0.0332052\ttotal: 234ms\tremaining: 2.37s\n",
      "90:\tlearn: 0.0328687\ttotal: 236ms\tremaining: 2.36s\n",
      "91:\tlearn: 0.0326593\ttotal: 238ms\tremaining: 2.35s\n",
      "92:\tlearn: 0.0325102\ttotal: 240ms\tremaining: 2.34s\n",
      "93:\tlearn: 0.0322114\ttotal: 243ms\tremaining: 2.34s\n",
      "94:\tlearn: 0.0320638\ttotal: 245ms\tremaining: 2.34s\n",
      "95:\tlearn: 0.0318364\ttotal: 247ms\tremaining: 2.33s\n",
      "96:\tlearn: 0.0313883\ttotal: 250ms\tremaining: 2.33s\n",
      "97:\tlearn: 0.0311478\ttotal: 253ms\tremaining: 2.32s\n",
      "98:\tlearn: 0.0310222\ttotal: 256ms\tremaining: 2.33s\n",
      "99:\tlearn: 0.0309025\ttotal: 259ms\tremaining: 2.33s\n",
      "100:\tlearn: 0.0306847\ttotal: 261ms\tremaining: 2.33s\n",
      "101:\tlearn: 0.0304217\ttotal: 264ms\tremaining: 2.32s\n",
      "102:\tlearn: 0.0303206\ttotal: 267ms\tremaining: 2.32s\n",
      "103:\tlearn: 0.0301527\ttotal: 269ms\tremaining: 2.32s\n",
      "104:\tlearn: 0.0300747\ttotal: 272ms\tremaining: 2.31s\n",
      "105:\tlearn: 0.0298682\ttotal: 274ms\tremaining: 2.31s\n",
      "106:\tlearn: 0.0297715\ttotal: 276ms\tremaining: 2.3s\n",
      "107:\tlearn: 0.0296090\ttotal: 279ms\tremaining: 2.31s\n",
      "108:\tlearn: 0.0295171\ttotal: 282ms\tremaining: 2.31s\n",
      "109:\tlearn: 0.0293657\ttotal: 287ms\tremaining: 2.32s\n",
      "110:\tlearn: 0.0292929\ttotal: 289ms\tremaining: 2.31s\n",
      "111:\tlearn: 0.0290305\ttotal: 292ms\tremaining: 2.32s\n",
      "112:\tlearn: 0.0288155\ttotal: 295ms\tremaining: 2.31s\n",
      "113:\tlearn: 0.0286652\ttotal: 297ms\tremaining: 2.31s\n",
      "114:\tlearn: 0.0285111\ttotal: 299ms\tremaining: 2.3s\n",
      "115:\tlearn: 0.0283840\ttotal: 302ms\tremaining: 2.3s\n",
      "116:\tlearn: 0.0282793\ttotal: 304ms\tremaining: 2.29s\n",
      "117:\tlearn: 0.0282248\ttotal: 307ms\tremaining: 2.29s\n",
      "118:\tlearn: 0.0279414\ttotal: 310ms\tremaining: 2.29s\n",
      "119:\tlearn: 0.0278661\ttotal: 313ms\tremaining: 2.29s\n",
      "120:\tlearn: 0.0277608\ttotal: 315ms\tremaining: 2.29s\n",
      "121:\tlearn: 0.0276189\ttotal: 318ms\tremaining: 2.29s\n",
      "122:\tlearn: 0.0275595\ttotal: 320ms\tremaining: 2.28s\n",
      "123:\tlearn: 0.0274425\ttotal: 322ms\tremaining: 2.28s\n",
      "124:\tlearn: 0.0273930\ttotal: 324ms\tremaining: 2.27s\n",
      "125:\tlearn: 0.0272948\ttotal: 326ms\tremaining: 2.26s\n",
      "126:\tlearn: 0.0271678\ttotal: 328ms\tremaining: 2.26s\n",
      "127:\tlearn: 0.0270873\ttotal: 331ms\tremaining: 2.25s\n",
      "128:\tlearn: 0.0270161\ttotal: 335ms\tremaining: 2.26s\n",
      "129:\tlearn: 0.0269598\ttotal: 337ms\tremaining: 2.26s\n",
      "130:\tlearn: 0.0268285\ttotal: 339ms\tremaining: 2.25s\n",
      "131:\tlearn: 0.0267564\ttotal: 342ms\tremaining: 2.25s\n",
      "132:\tlearn: 0.0266101\ttotal: 344ms\tremaining: 2.25s\n",
      "133:\tlearn: 0.0264513\ttotal: 347ms\tremaining: 2.24s\n",
      "134:\tlearn: 0.0263858\ttotal: 349ms\tremaining: 2.24s\n",
      "135:\tlearn: 0.0263261\ttotal: 351ms\tremaining: 2.23s\n",
      "136:\tlearn: 0.0262299\ttotal: 354ms\tremaining: 2.23s\n",
      "137:\tlearn: 0.0262298\ttotal: 358ms\tremaining: 2.23s\n",
      "138:\tlearn: 0.0261829\ttotal: 361ms\tremaining: 2.23s\n",
      "139:\tlearn: 0.0260160\ttotal: 363ms\tremaining: 2.23s\n",
      "140:\tlearn: 0.0259539\ttotal: 365ms\tremaining: 2.22s\n",
      "141:\tlearn: 0.0258856\ttotal: 368ms\tremaining: 2.22s\n",
      "142:\tlearn: 0.0258854\ttotal: 370ms\tremaining: 2.22s\n",
      "143:\tlearn: 0.0258313\ttotal: 373ms\tremaining: 2.21s\n",
      "144:\tlearn: 0.0255543\ttotal: 375ms\tremaining: 2.21s\n",
      "145:\tlearn: 0.0255232\ttotal: 378ms\tremaining: 2.21s\n",
      "146:\tlearn: 0.0254748\ttotal: 381ms\tremaining: 2.21s\n",
      "147:\tlearn: 0.0253608\ttotal: 384ms\tremaining: 2.21s\n",
      "148:\tlearn: 0.0253606\ttotal: 385ms\tremaining: 2.2s\n",
      "149:\tlearn: 0.0253180\ttotal: 388ms\tremaining: 2.2s\n",
      "150:\tlearn: 0.0252589\ttotal: 390ms\tremaining: 2.19s\n",
      "151:\tlearn: 0.0251550\ttotal: 393ms\tremaining: 2.19s\n",
      "152:\tlearn: 0.0249786\ttotal: 395ms\tremaining: 2.19s\n",
      "153:\tlearn: 0.0249782\ttotal: 397ms\tremaining: 2.18s\n",
      "154:\tlearn: 0.0249767\ttotal: 399ms\tremaining: 2.17s\n",
      "155:\tlearn: 0.0249767\ttotal: 401ms\tremaining: 2.17s\n",
      "156:\tlearn: 0.0249765\ttotal: 403ms\tremaining: 2.16s\n",
      "157:\tlearn: 0.0249593\ttotal: 405ms\tremaining: 2.16s\n",
      "158:\tlearn: 0.0248955\ttotal: 410ms\tremaining: 2.17s\n",
      "159:\tlearn: 0.0248429\ttotal: 412ms\tremaining: 2.16s\n",
      "160:\tlearn: 0.0248426\ttotal: 414ms\tremaining: 2.15s\n",
      "161:\tlearn: 0.0248426\ttotal: 415ms\tremaining: 2.15s\n",
      "162:\tlearn: 0.0248425\ttotal: 418ms\tremaining: 2.14s\n",
      "163:\tlearn: 0.0248293\ttotal: 420ms\tremaining: 2.14s\n",
      "164:\tlearn: 0.0247473\ttotal: 422ms\tremaining: 2.14s\n",
      "165:\tlearn: 0.0247473\ttotal: 424ms\tremaining: 2.13s\n",
      "166:\tlearn: 0.0247469\ttotal: 426ms\tremaining: 2.13s\n",
      "167:\tlearn: 0.0247468\ttotal: 429ms\tremaining: 2.12s\n",
      "168:\tlearn: 0.0247467\ttotal: 433ms\tremaining: 2.13s\n",
      "169:\tlearn: 0.0247466\ttotal: 435ms\tremaining: 2.12s\n",
      "170:\tlearn: 0.0247466\ttotal: 436ms\tremaining: 2.12s\n",
      "171:\tlearn: 0.0247464\ttotal: 438ms\tremaining: 2.11s\n",
      "172:\tlearn: 0.0247463\ttotal: 440ms\tremaining: 2.1s\n",
      "173:\tlearn: 0.0247462\ttotal: 443ms\tremaining: 2.1s\n",
      "174:\tlearn: 0.0247459\ttotal: 445ms\tremaining: 2.1s\n",
      "175:\tlearn: 0.0247456\ttotal: 447ms\tremaining: 2.09s\n",
      "176:\tlearn: 0.0247454\ttotal: 449ms\tremaining: 2.09s\n",
      "177:\tlearn: 0.0247454\ttotal: 451ms\tremaining: 2.08s\n",
      "178:\tlearn: 0.0247450\ttotal: 453ms\tremaining: 2.08s\n",
      "179:\tlearn: 0.0247106\ttotal: 455ms\tremaining: 2.07s\n",
      "180:\tlearn: 0.0246386\ttotal: 458ms\tremaining: 2.07s\n",
      "181:\tlearn: 0.0245975\ttotal: 461ms\tremaining: 2.07s\n",
      "182:\tlearn: 0.0245651\ttotal: 463ms\tremaining: 2.07s\n",
      "183:\tlearn: 0.0244842\ttotal: 465ms\tremaining: 2.06s\n",
      "184:\tlearn: 0.0244204\ttotal: 468ms\tremaining: 2.06s\n",
      "185:\tlearn: 0.0243508\ttotal: 472ms\tremaining: 2.06s\n",
      "186:\tlearn: 0.0243425\ttotal: 474ms\tremaining: 2.06s\n",
      "187:\tlearn: 0.0243320\ttotal: 476ms\tremaining: 2.05s\n",
      "188:\tlearn: 0.0242338\ttotal: 478ms\tremaining: 2.05s\n",
      "189:\tlearn: 0.0242047\ttotal: 481ms\tremaining: 2.05s\n",
      "190:\tlearn: 0.0242044\ttotal: 484ms\tremaining: 2.05s\n",
      "191:\tlearn: 0.0242042\ttotal: 486ms\tremaining: 2.04s\n",
      "192:\tlearn: 0.0242042\ttotal: 488ms\tremaining: 2.04s\n",
      "193:\tlearn: 0.0242041\ttotal: 490ms\tremaining: 2.04s\n",
      "194:\tlearn: 0.0241676\ttotal: 492ms\tremaining: 2.03s\n",
      "195:\tlearn: 0.0241675\ttotal: 495ms\tremaining: 2.03s\n",
      "196:\tlearn: 0.0241672\ttotal: 497ms\tremaining: 2.02s\n",
      "197:\tlearn: 0.0241672\ttotal: 499ms\tremaining: 2.02s\n",
      "198:\tlearn: 0.0241671\ttotal: 502ms\tremaining: 2.02s\n",
      "199:\tlearn: 0.0241670\ttotal: 504ms\tremaining: 2.02s\n",
      "200:\tlearn: 0.0241669\ttotal: 506ms\tremaining: 2.01s\n",
      "201:\tlearn: 0.0241463\ttotal: 508ms\tremaining: 2.01s\n",
      "202:\tlearn: 0.0241460\ttotal: 510ms\tremaining: 2s\n",
      "203:\tlearn: 0.0241459\ttotal: 512ms\tremaining: 2s\n",
      "204:\tlearn: 0.0241459\ttotal: 514ms\tremaining: 1.99s\n",
      "205:\tlearn: 0.0241458\ttotal: 515ms\tremaining: 1.99s\n",
      "206:\tlearn: 0.0241457\ttotal: 517ms\tremaining: 1.98s\n",
      "207:\tlearn: 0.0241079\ttotal: 520ms\tremaining: 1.98s\n",
      "208:\tlearn: 0.0240423\ttotal: 523ms\tremaining: 1.98s\n",
      "209:\tlearn: 0.0240413\ttotal: 525ms\tremaining: 1.97s\n",
      "210:\tlearn: 0.0240413\ttotal: 526ms\tremaining: 1.97s\n",
      "211:\tlearn: 0.0240413\ttotal: 527ms\tremaining: 1.96s\n",
      "212:\tlearn: 0.0240413\ttotal: 529ms\tremaining: 1.95s\n",
      "213:\tlearn: 0.0240413\ttotal: 530ms\tremaining: 1.95s\n",
      "214:\tlearn: 0.0240412\ttotal: 532ms\tremaining: 1.94s\n",
      "215:\tlearn: 0.0240412\ttotal: 533ms\tremaining: 1.94s\n",
      "216:\tlearn: 0.0240413\ttotal: 535ms\tremaining: 1.93s\n",
      "217:\tlearn: 0.0240412\ttotal: 536ms\tremaining: 1.92s\n",
      "218:\tlearn: 0.0240394\ttotal: 538ms\tremaining: 1.92s\n",
      "219:\tlearn: 0.0239486\ttotal: 540ms\tremaining: 1.92s\n",
      "220:\tlearn: 0.0239020\ttotal: 543ms\tremaining: 1.91s\n",
      "221:\tlearn: 0.0239020\ttotal: 546ms\tremaining: 1.91s\n",
      "222:\tlearn: 0.0238877\ttotal: 548ms\tremaining: 1.91s\n",
      "223:\tlearn: 0.0238285\ttotal: 550ms\tremaining: 1.91s\n",
      "224:\tlearn: 0.0238284\ttotal: 551ms\tremaining: 1.9s\n",
      "225:\tlearn: 0.0237236\ttotal: 553ms\tremaining: 1.9s\n",
      "226:\tlearn: 0.0237233\ttotal: 556ms\tremaining: 1.89s\n",
      "227:\tlearn: 0.0237232\ttotal: 558ms\tremaining: 1.89s\n",
      "228:\tlearn: 0.0237230\ttotal: 560ms\tremaining: 1.89s\n",
      "229:\tlearn: 0.0237222\ttotal: 562ms\tremaining: 1.88s\n",
      "230:\tlearn: 0.0237210\ttotal: 565ms\tremaining: 1.88s\n",
      "231:\tlearn: 0.0237119\ttotal: 567ms\tremaining: 1.88s\n",
      "232:\tlearn: 0.0236525\ttotal: 570ms\tremaining: 1.87s\n",
      "233:\tlearn: 0.0236522\ttotal: 573ms\tremaining: 1.87s\n",
      "234:\tlearn: 0.0236040\ttotal: 575ms\tremaining: 1.87s\n",
      "235:\tlearn: 0.0235099\ttotal: 577ms\tremaining: 1.87s\n",
      "236:\tlearn: 0.0234312\ttotal: 579ms\tremaining: 1.86s\n",
      "237:\tlearn: 0.0234309\ttotal: 581ms\tremaining: 1.86s\n",
      "238:\tlearn: 0.0234309\ttotal: 586ms\tremaining: 1.86s\n",
      "239:\tlearn: 0.0234307\ttotal: 588ms\tremaining: 1.86s\n",
      "240:\tlearn: 0.0234305\ttotal: 591ms\tremaining: 1.86s\n",
      "241:\tlearn: 0.0234305\ttotal: 593ms\tremaining: 1.86s\n",
      "242:\tlearn: 0.0234304\ttotal: 595ms\tremaining: 1.85s\n",
      "243:\tlearn: 0.0234305\ttotal: 597ms\tremaining: 1.85s\n",
      "244:\tlearn: 0.0234303\ttotal: 599ms\tremaining: 1.85s\n",
      "245:\tlearn: 0.0234302\ttotal: 601ms\tremaining: 1.84s\n",
      "246:\tlearn: 0.0234302\ttotal: 603ms\tremaining: 1.84s\n",
      "247:\tlearn: 0.0234300\ttotal: 605ms\tremaining: 1.83s\n",
      "248:\tlearn: 0.0234298\ttotal: 609ms\tremaining: 1.84s\n",
      "249:\tlearn: 0.0234294\ttotal: 611ms\tremaining: 1.83s\n",
      "250:\tlearn: 0.0234293\ttotal: 613ms\tremaining: 1.83s\n",
      "251:\tlearn: 0.0234291\ttotal: 615ms\tremaining: 1.82s\n",
      "252:\tlearn: 0.0234290\ttotal: 617ms\tremaining: 1.82s\n",
      "253:\tlearn: 0.0234290\ttotal: 619ms\tremaining: 1.82s\n",
      "254:\tlearn: 0.0234289\ttotal: 621ms\tremaining: 1.81s\n",
      "255:\tlearn: 0.0234289\ttotal: 623ms\tremaining: 1.81s\n",
      "256:\tlearn: 0.0234288\ttotal: 626ms\tremaining: 1.81s\n",
      "257:\tlearn: 0.0234287\ttotal: 629ms\tremaining: 1.81s\n",
      "258:\tlearn: 0.0234285\ttotal: 632ms\tremaining: 1.81s\n",
      "259:\tlearn: 0.0234284\ttotal: 635ms\tremaining: 1.81s\n",
      "260:\tlearn: 0.0234272\ttotal: 637ms\tremaining: 1.8s\n",
      "261:\tlearn: 0.0234271\ttotal: 639ms\tremaining: 1.8s\n",
      "262:\tlearn: 0.0234270\ttotal: 641ms\tremaining: 1.8s\n",
      "263:\tlearn: 0.0234270\ttotal: 644ms\tremaining: 1.79s\n",
      "264:\tlearn: 0.0234267\ttotal: 647ms\tremaining: 1.79s\n",
      "265:\tlearn: 0.0234266\ttotal: 649ms\tremaining: 1.79s\n",
      "266:\tlearn: 0.0234266\ttotal: 651ms\tremaining: 1.79s\n",
      "267:\tlearn: 0.0232897\ttotal: 653ms\tremaining: 1.78s\n",
      "268:\tlearn: 0.0232600\ttotal: 658ms\tremaining: 1.79s\n",
      "269:\tlearn: 0.0231986\ttotal: 661ms\tremaining: 1.79s\n",
      "270:\tlearn: 0.0231545\ttotal: 664ms\tremaining: 1.79s\n",
      "271:\tlearn: 0.0230982\ttotal: 666ms\tremaining: 1.78s\n",
      "272:\tlearn: 0.0230741\ttotal: 669ms\tremaining: 1.78s\n",
      "273:\tlearn: 0.0230213\ttotal: 672ms\tremaining: 1.78s\n",
      "274:\tlearn: 0.0230212\ttotal: 674ms\tremaining: 1.78s\n",
      "275:\tlearn: 0.0229893\ttotal: 677ms\tremaining: 1.77s\n",
      "276:\tlearn: 0.0229243\ttotal: 681ms\tremaining: 1.78s\n",
      "277:\tlearn: 0.0229236\ttotal: 684ms\tremaining: 1.78s\n",
      "278:\tlearn: 0.0228843\ttotal: 687ms\tremaining: 1.77s\n",
      "279:\tlearn: 0.0228538\ttotal: 689ms\tremaining: 1.77s\n",
      "280:\tlearn: 0.0228538\ttotal: 690ms\tremaining: 1.77s\n",
      "281:\tlearn: 0.0228536\ttotal: 692ms\tremaining: 1.76s\n",
      "282:\tlearn: 0.0228534\ttotal: 695ms\tremaining: 1.76s\n",
      "283:\tlearn: 0.0228529\ttotal: 698ms\tremaining: 1.76s\n",
      "284:\tlearn: 0.0228528\ttotal: 700ms\tremaining: 1.75s\n",
      "285:\tlearn: 0.0228522\ttotal: 703ms\tremaining: 1.75s\n",
      "286:\tlearn: 0.0228522\ttotal: 705ms\tremaining: 1.75s\n",
      "287:\tlearn: 0.0228520\ttotal: 707ms\tremaining: 1.75s\n",
      "288:\tlearn: 0.0228520\ttotal: 709ms\tremaining: 1.75s\n",
      "289:\tlearn: 0.0228518\ttotal: 711ms\tremaining: 1.74s\n",
      "290:\tlearn: 0.0228518\ttotal: 713ms\tremaining: 1.74s\n",
      "291:\tlearn: 0.0228518\ttotal: 715ms\tremaining: 1.73s\n",
      "292:\tlearn: 0.0228516\ttotal: 717ms\tremaining: 1.73s\n",
      "293:\tlearn: 0.0228515\ttotal: 719ms\tremaining: 1.73s\n",
      "294:\tlearn: 0.0228515\ttotal: 722ms\tremaining: 1.72s\n",
      "295:\tlearn: 0.0228515\ttotal: 725ms\tremaining: 1.72s\n",
      "296:\tlearn: 0.0228514\ttotal: 728ms\tremaining: 1.72s\n",
      "297:\tlearn: 0.0228514\ttotal: 730ms\tremaining: 1.72s\n",
      "298:\tlearn: 0.0228514\ttotal: 733ms\tremaining: 1.72s\n",
      "299:\tlearn: 0.0228513\ttotal: 736ms\tremaining: 1.72s\n",
      "300:\tlearn: 0.0228426\ttotal: 738ms\tremaining: 1.71s\n",
      "301:\tlearn: 0.0228425\ttotal: 740ms\tremaining: 1.71s\n",
      "302:\tlearn: 0.0228425\ttotal: 742ms\tremaining: 1.71s\n",
      "303:\tlearn: 0.0228423\ttotal: 745ms\tremaining: 1.7s\n",
      "304:\tlearn: 0.0228421\ttotal: 748ms\tremaining: 1.7s\n",
      "305:\tlearn: 0.0228420\ttotal: 750ms\tremaining: 1.7s\n",
      "306:\tlearn: 0.0228420\ttotal: 753ms\tremaining: 1.7s\n",
      "307:\tlearn: 0.0228247\ttotal: 755ms\tremaining: 1.7s\n",
      "308:\tlearn: 0.0227873\ttotal: 758ms\tremaining: 1.7s\n",
      "309:\tlearn: 0.0227872\ttotal: 761ms\tremaining: 1.69s\n",
      "310:\tlearn: 0.0227480\ttotal: 764ms\tremaining: 1.69s\n",
      "311:\tlearn: 0.0227036\ttotal: 766ms\tremaining: 1.69s\n",
      "312:\tlearn: 0.0227035\ttotal: 768ms\tremaining: 1.69s\n",
      "313:\tlearn: 0.0227035\ttotal: 771ms\tremaining: 1.68s\n",
      "314:\tlearn: 0.0226825\ttotal: 774ms\tremaining: 1.68s\n",
      "315:\tlearn: 0.0225708\ttotal: 777ms\tremaining: 1.68s\n",
      "316:\tlearn: 0.0225704\ttotal: 779ms\tremaining: 1.68s\n",
      "317:\tlearn: 0.0225704\ttotal: 780ms\tremaining: 1.67s\n",
      "318:\tlearn: 0.0225445\ttotal: 783ms\tremaining: 1.67s\n",
      "319:\tlearn: 0.0224758\ttotal: 786ms\tremaining: 1.67s\n",
      "320:\tlearn: 0.0224567\ttotal: 788ms\tremaining: 1.67s\n",
      "321:\tlearn: 0.0224249\ttotal: 790ms\tremaining: 1.66s\n",
      "322:\tlearn: 0.0224248\ttotal: 792ms\tremaining: 1.66s\n",
      "323:\tlearn: 0.0223902\ttotal: 797ms\tremaining: 1.66s\n",
      "324:\tlearn: 0.0223901\ttotal: 800ms\tremaining: 1.66s\n",
      "325:\tlearn: 0.0223900\ttotal: 802ms\tremaining: 1.66s\n",
      "326:\tlearn: 0.0223900\ttotal: 804ms\tremaining: 1.65s\n",
      "327:\tlearn: 0.0223900\ttotal: 805ms\tremaining: 1.65s\n",
      "328:\tlearn: 0.0223358\ttotal: 808ms\tremaining: 1.65s\n",
      "329:\tlearn: 0.0223356\ttotal: 811ms\tremaining: 1.65s\n",
      "330:\tlearn: 0.0223355\ttotal: 813ms\tremaining: 1.64s\n",
      "331:\tlearn: 0.0223355\ttotal: 814ms\tremaining: 1.64s\n",
      "332:\tlearn: 0.0223354\ttotal: 816ms\tremaining: 1.64s\n",
      "333:\tlearn: 0.0223353\ttotal: 819ms\tremaining: 1.63s\n",
      "334:\tlearn: 0.0223353\ttotal: 823ms\tremaining: 1.63s\n",
      "335:\tlearn: 0.0223351\ttotal: 825ms\tremaining: 1.63s\n",
      "336:\tlearn: 0.0223351\ttotal: 827ms\tremaining: 1.63s\n",
      "337:\tlearn: 0.0223350\ttotal: 829ms\tremaining: 1.62s\n",
      "338:\tlearn: 0.0223210\ttotal: 831ms\tremaining: 1.62s\n",
      "339:\tlearn: 0.0223209\ttotal: 834ms\tremaining: 1.62s\n",
      "340:\tlearn: 0.0223207\ttotal: 836ms\tremaining: 1.61s\n",
      "341:\tlearn: 0.0223207\ttotal: 838ms\tremaining: 1.61s\n",
      "342:\tlearn: 0.0223207\ttotal: 841ms\tremaining: 1.61s\n",
      "343:\tlearn: 0.0223205\ttotal: 843ms\tremaining: 1.61s\n",
      "344:\tlearn: 0.0223205\ttotal: 845ms\tremaining: 1.6s\n",
      "345:\tlearn: 0.0223205\ttotal: 848ms\tremaining: 1.6s\n",
      "346:\tlearn: 0.0223204\ttotal: 850ms\tremaining: 1.6s\n",
      "347:\tlearn: 0.0223203\ttotal: 852ms\tremaining: 1.6s\n",
      "348:\tlearn: 0.0223199\ttotal: 854ms\tremaining: 1.59s\n",
      "349:\tlearn: 0.0223198\ttotal: 856ms\tremaining: 1.59s\n",
      "350:\tlearn: 0.0223197\ttotal: 860ms\tremaining: 1.59s\n",
      "351:\tlearn: 0.0223191\ttotal: 863ms\tremaining: 1.59s\n",
      "352:\tlearn: 0.0223191\ttotal: 865ms\tremaining: 1.58s\n",
      "353:\tlearn: 0.0223191\ttotal: 867ms\tremaining: 1.58s\n",
      "354:\tlearn: 0.0223190\ttotal: 869ms\tremaining: 1.58s\n",
      "355:\tlearn: 0.0223190\ttotal: 871ms\tremaining: 1.58s\n",
      "356:\tlearn: 0.0223190\ttotal: 874ms\tremaining: 1.57s\n",
      "357:\tlearn: 0.0223188\ttotal: 876ms\tremaining: 1.57s\n",
      "358:\tlearn: 0.0223188\ttotal: 878ms\tremaining: 1.57s\n",
      "359:\tlearn: 0.0223186\ttotal: 880ms\tremaining: 1.56s\n",
      "360:\tlearn: 0.0223185\ttotal: 884ms\tremaining: 1.56s\n",
      "361:\tlearn: 0.0223185\ttotal: 887ms\tremaining: 1.56s\n",
      "362:\tlearn: 0.0223184\ttotal: 889ms\tremaining: 1.56s\n",
      "363:\tlearn: 0.0223184\ttotal: 891ms\tremaining: 1.56s\n",
      "364:\tlearn: 0.0223184\ttotal: 894ms\tremaining: 1.55s\n",
      "365:\tlearn: 0.0223182\ttotal: 896ms\tremaining: 1.55s\n",
      "366:\tlearn: 0.0223181\ttotal: 898ms\tremaining: 1.55s\n",
      "367:\tlearn: 0.0223179\ttotal: 900ms\tremaining: 1.55s\n",
      "368:\tlearn: 0.0223178\ttotal: 902ms\tremaining: 1.54s\n",
      "369:\tlearn: 0.0223179\ttotal: 904ms\tremaining: 1.54s\n",
      "370:\tlearn: 0.0223178\ttotal: 906ms\tremaining: 1.53s\n",
      "371:\tlearn: 0.0223176\ttotal: 908ms\tremaining: 1.53s\n",
      "372:\tlearn: 0.0223175\ttotal: 911ms\tremaining: 1.53s\n",
      "373:\tlearn: 0.0223163\ttotal: 914ms\tremaining: 1.53s\n",
      "374:\tlearn: 0.0223080\ttotal: 916ms\tremaining: 1.53s\n",
      "375:\tlearn: 0.0223075\ttotal: 918ms\tremaining: 1.52s\n",
      "376:\tlearn: 0.0223074\ttotal: 920ms\tremaining: 1.52s\n",
      "377:\tlearn: 0.0223073\ttotal: 924ms\tremaining: 1.52s\n",
      "378:\tlearn: 0.0223073\ttotal: 925ms\tremaining: 1.52s\n",
      "379:\tlearn: 0.0223072\ttotal: 927ms\tremaining: 1.51s\n",
      "380:\tlearn: 0.0223071\ttotal: 929ms\tremaining: 1.51s\n",
      "381:\tlearn: 0.0223071\ttotal: 931ms\tremaining: 1.51s\n",
      "382:\tlearn: 0.0223067\ttotal: 935ms\tremaining: 1.5s\n",
      "383:\tlearn: 0.0223066\ttotal: 939ms\tremaining: 1.51s\n",
      "384:\tlearn: 0.0223063\ttotal: 942ms\tremaining: 1.5s\n",
      "385:\tlearn: 0.0223059\ttotal: 944ms\tremaining: 1.5s\n",
      "386:\tlearn: 0.0223058\ttotal: 946ms\tremaining: 1.5s\n",
      "387:\tlearn: 0.0223057\ttotal: 949ms\tremaining: 1.5s\n",
      "388:\tlearn: 0.0223057\ttotal: 951ms\tremaining: 1.49s\n",
      "389:\tlearn: 0.0223056\ttotal: 953ms\tremaining: 1.49s\n",
      "390:\tlearn: 0.0223055\ttotal: 955ms\tremaining: 1.49s\n",
      "391:\tlearn: 0.0223054\ttotal: 957ms\tremaining: 1.48s\n",
      "392:\tlearn: 0.0223053\ttotal: 960ms\tremaining: 1.48s\n",
      "393:\tlearn: 0.0223053\ttotal: 962ms\tremaining: 1.48s\n",
      "394:\tlearn: 0.0223051\ttotal: 964ms\tremaining: 1.48s\n",
      "395:\tlearn: 0.0223047\ttotal: 966ms\tremaining: 1.47s\n",
      "396:\tlearn: 0.0223048\ttotal: 967ms\tremaining: 1.47s\n",
      "397:\tlearn: 0.0223046\ttotal: 969ms\tremaining: 1.47s\n",
      "398:\tlearn: 0.0223045\ttotal: 971ms\tremaining: 1.46s\n",
      "399:\tlearn: 0.0223043\ttotal: 977ms\tremaining: 1.47s\n",
      "400:\tlearn: 0.0223043\ttotal: 980ms\tremaining: 1.46s\n",
      "401:\tlearn: 0.0223043\ttotal: 982ms\tremaining: 1.46s\n",
      "402:\tlearn: 0.0223041\ttotal: 985ms\tremaining: 1.46s\n",
      "403:\tlearn: 0.0223039\ttotal: 987ms\tremaining: 1.46s\n",
      "404:\tlearn: 0.0223039\ttotal: 989ms\tremaining: 1.45s\n",
      "405:\tlearn: 0.0223036\ttotal: 991ms\tremaining: 1.45s\n",
      "406:\tlearn: 0.0223035\ttotal: 993ms\tremaining: 1.45s\n",
      "407:\tlearn: 0.0223033\ttotal: 995ms\tremaining: 1.44s\n",
      "408:\tlearn: 0.0223032\ttotal: 998ms\tremaining: 1.44s\n",
      "409:\tlearn: 0.0223031\ttotal: 1s\tremaining: 1.44s\n",
      "410:\tlearn: 0.0223030\ttotal: 1s\tremaining: 1.44s\n",
      "411:\tlearn: 0.0223030\ttotal: 1.01s\tremaining: 1.44s\n",
      "412:\tlearn: 0.0223029\ttotal: 1.01s\tremaining: 1.43s\n",
      "413:\tlearn: 0.0223029\ttotal: 1.01s\tremaining: 1.43s\n",
      "414:\tlearn: 0.0223029\ttotal: 1.01s\tremaining: 1.43s\n",
      "415:\tlearn: 0.0223028\ttotal: 1.02s\tremaining: 1.43s\n",
      "416:\tlearn: 0.0223028\ttotal: 1.02s\tremaining: 1.42s\n",
      "417:\tlearn: 0.0223028\ttotal: 1.02s\tremaining: 1.42s\n",
      "418:\tlearn: 0.0223027\ttotal: 1.02s\tremaining: 1.42s\n",
      "419:\tlearn: 0.0223026\ttotal: 1.02s\tremaining: 1.41s\n",
      "420:\tlearn: 0.0223026\ttotal: 1.03s\tremaining: 1.41s\n",
      "421:\tlearn: 0.0223025\ttotal: 1.03s\tremaining: 1.41s\n",
      "422:\tlearn: 0.0223025\ttotal: 1.03s\tremaining: 1.4s\n",
      "423:\tlearn: 0.0223025\ttotal: 1.03s\tremaining: 1.4s\n",
      "424:\tlearn: 0.0223025\ttotal: 1.03s\tremaining: 1.4s\n",
      "425:\tlearn: 0.0223022\ttotal: 1.04s\tremaining: 1.4s\n",
      "426:\tlearn: 0.0223022\ttotal: 1.04s\tremaining: 1.4s\n",
      "427:\tlearn: 0.0223022\ttotal: 1.04s\tremaining: 1.39s\n",
      "428:\tlearn: 0.0223022\ttotal: 1.04s\tremaining: 1.39s\n",
      "429:\tlearn: 0.0223018\ttotal: 1.04s\tremaining: 1.39s\n",
      "430:\tlearn: 0.0223017\ttotal: 1.05s\tremaining: 1.38s\n",
      "431:\tlearn: 0.0223011\ttotal: 1.05s\tremaining: 1.38s\n",
      "432:\tlearn: 0.0223011\ttotal: 1.05s\tremaining: 1.38s\n",
      "433:\tlearn: 0.0223009\ttotal: 1.06s\tremaining: 1.38s\n",
      "434:\tlearn: 0.0223008\ttotal: 1.06s\tremaining: 1.38s\n",
      "435:\tlearn: 0.0223007\ttotal: 1.06s\tremaining: 1.37s\n",
      "436:\tlearn: 0.0223005\ttotal: 1.06s\tremaining: 1.37s\n",
      "437:\tlearn: 0.0223005\ttotal: 1.06s\tremaining: 1.37s\n",
      "438:\tlearn: 0.0223003\ttotal: 1.07s\tremaining: 1.36s\n",
      "439:\tlearn: 0.0223003\ttotal: 1.07s\tremaining: 1.36s\n",
      "440:\tlearn: 0.0223003\ttotal: 1.07s\tremaining: 1.36s\n",
      "441:\tlearn: 0.0223002\ttotal: 1.07s\tremaining: 1.35s\n",
      "442:\tlearn: 0.0223002\ttotal: 1.07s\tremaining: 1.35s\n",
      "443:\tlearn: 0.0222998\ttotal: 1.08s\tremaining: 1.35s\n",
      "444:\tlearn: 0.0222996\ttotal: 1.08s\tremaining: 1.35s\n",
      "445:\tlearn: 0.0222994\ttotal: 1.08s\tremaining: 1.34s\n",
      "446:\tlearn: 0.0222994\ttotal: 1.08s\tremaining: 1.34s\n",
      "447:\tlearn: 0.0222993\ttotal: 1.08s\tremaining: 1.34s\n",
      "448:\tlearn: 0.0222992\ttotal: 1.09s\tremaining: 1.33s\n",
      "449:\tlearn: 0.0222992\ttotal: 1.09s\tremaining: 1.33s\n",
      "450:\tlearn: 0.0222991\ttotal: 1.09s\tremaining: 1.33s\n",
      "451:\tlearn: 0.0222990\ttotal: 1.09s\tremaining: 1.32s\n",
      "452:\tlearn: 0.0222989\ttotal: 1.09s\tremaining: 1.32s\n",
      "453:\tlearn: 0.0222988\ttotal: 1.1s\tremaining: 1.32s\n",
      "454:\tlearn: 0.0222987\ttotal: 1.1s\tremaining: 1.32s\n",
      "455:\tlearn: 0.0222985\ttotal: 1.1s\tremaining: 1.31s\n",
      "456:\tlearn: 0.0222982\ttotal: 1.1s\tremaining: 1.31s\n",
      "457:\tlearn: 0.0222982\ttotal: 1.1s\tremaining: 1.31s\n",
      "458:\tlearn: 0.0222982\ttotal: 1.11s\tremaining: 1.3s\n",
      "459:\tlearn: 0.0222982\ttotal: 1.11s\tremaining: 1.3s\n",
      "460:\tlearn: 0.0222979\ttotal: 1.11s\tremaining: 1.3s\n",
      "461:\tlearn: 0.0222976\ttotal: 1.11s\tremaining: 1.3s\n",
      "462:\tlearn: 0.0222977\ttotal: 1.12s\tremaining: 1.29s\n",
      "463:\tlearn: 0.0222976\ttotal: 1.12s\tremaining: 1.29s\n",
      "464:\tlearn: 0.0222976\ttotal: 1.12s\tremaining: 1.29s\n",
      "465:\tlearn: 0.0222976\ttotal: 1.12s\tremaining: 1.28s\n",
      "466:\tlearn: 0.0222975\ttotal: 1.12s\tremaining: 1.28s\n",
      "467:\tlearn: 0.0222974\ttotal: 1.13s\tremaining: 1.28s\n",
      "468:\tlearn: 0.0222968\ttotal: 1.13s\tremaining: 1.28s\n",
      "469:\tlearn: 0.0222967\ttotal: 1.13s\tremaining: 1.27s\n",
      "470:\tlearn: 0.0222966\ttotal: 1.13s\tremaining: 1.27s\n",
      "471:\tlearn: 0.0222965\ttotal: 1.13s\tremaining: 1.27s\n",
      "472:\tlearn: 0.0222964\ttotal: 1.14s\tremaining: 1.26s\n",
      "473:\tlearn: 0.0222963\ttotal: 1.14s\tremaining: 1.26s\n",
      "474:\tlearn: 0.0222962\ttotal: 1.14s\tremaining: 1.26s\n",
      "475:\tlearn: 0.0222960\ttotal: 1.14s\tremaining: 1.26s\n",
      "476:\tlearn: 0.0222960\ttotal: 1.14s\tremaining: 1.25s\n",
      "477:\tlearn: 0.0222959\ttotal: 1.15s\tremaining: 1.25s\n",
      "478:\tlearn: 0.0222958\ttotal: 1.15s\tremaining: 1.25s\n",
      "479:\tlearn: 0.0222958\ttotal: 1.15s\tremaining: 1.25s\n",
      "480:\tlearn: 0.0222957\ttotal: 1.15s\tremaining: 1.24s\n",
      "481:\tlearn: 0.0222957\ttotal: 1.15s\tremaining: 1.24s\n",
      "482:\tlearn: 0.0222956\ttotal: 1.16s\tremaining: 1.24s\n",
      "483:\tlearn: 0.0222956\ttotal: 1.16s\tremaining: 1.23s\n",
      "484:\tlearn: 0.0222955\ttotal: 1.16s\tremaining: 1.23s\n",
      "485:\tlearn: 0.0222954\ttotal: 1.16s\tremaining: 1.23s\n",
      "486:\tlearn: 0.0222954\ttotal: 1.16s\tremaining: 1.23s\n",
      "487:\tlearn: 0.0222953\ttotal: 1.17s\tremaining: 1.22s\n",
      "488:\tlearn: 0.0222953\ttotal: 1.17s\tremaining: 1.22s\n",
      "489:\tlearn: 0.0222952\ttotal: 1.17s\tremaining: 1.22s\n",
      "490:\tlearn: 0.0222951\ttotal: 1.17s\tremaining: 1.22s\n",
      "491:\tlearn: 0.0222950\ttotal: 1.18s\tremaining: 1.21s\n",
      "492:\tlearn: 0.0222949\ttotal: 1.18s\tremaining: 1.21s\n",
      "493:\tlearn: 0.0222949\ttotal: 1.18s\tremaining: 1.21s\n",
      "494:\tlearn: 0.0222949\ttotal: 1.18s\tremaining: 1.21s\n",
      "495:\tlearn: 0.0222948\ttotal: 1.18s\tremaining: 1.2s\n",
      "496:\tlearn: 0.0222948\ttotal: 1.19s\tremaining: 1.2s\n",
      "497:\tlearn: 0.0222948\ttotal: 1.19s\tremaining: 1.2s\n",
      "498:\tlearn: 0.0222946\ttotal: 1.19s\tremaining: 1.2s\n",
      "499:\tlearn: 0.0222669\ttotal: 1.19s\tremaining: 1.19s\n",
      "500:\tlearn: 0.0222669\ttotal: 1.19s\tremaining: 1.19s\n",
      "501:\tlearn: 0.0222668\ttotal: 1.2s\tremaining: 1.19s\n",
      "502:\tlearn: 0.0222668\ttotal: 1.2s\tremaining: 1.18s\n",
      "503:\tlearn: 0.0222667\ttotal: 1.2s\tremaining: 1.18s\n",
      "504:\tlearn: 0.0222667\ttotal: 1.2s\tremaining: 1.18s\n",
      "505:\tlearn: 0.0222666\ttotal: 1.21s\tremaining: 1.18s\n",
      "506:\tlearn: 0.0222666\ttotal: 1.21s\tremaining: 1.17s\n",
      "507:\tlearn: 0.0222664\ttotal: 1.21s\tremaining: 1.17s\n",
      "508:\tlearn: 0.0222664\ttotal: 1.21s\tremaining: 1.17s\n",
      "509:\tlearn: 0.0222663\ttotal: 1.21s\tremaining: 1.17s\n",
      "510:\tlearn: 0.0222662\ttotal: 1.22s\tremaining: 1.16s\n",
      "511:\tlearn: 0.0222661\ttotal: 1.22s\tremaining: 1.16s\n",
      "512:\tlearn: 0.0222661\ttotal: 1.22s\tremaining: 1.16s\n",
      "513:\tlearn: 0.0222660\ttotal: 1.22s\tremaining: 1.16s\n",
      "514:\tlearn: 0.0222660\ttotal: 1.22s\tremaining: 1.15s\n",
      "515:\tlearn: 0.0222659\ttotal: 1.23s\tremaining: 1.15s\n",
      "516:\tlearn: 0.0222659\ttotal: 1.23s\tremaining: 1.15s\n",
      "517:\tlearn: 0.0222658\ttotal: 1.23s\tremaining: 1.15s\n",
      "518:\tlearn: 0.0222658\ttotal: 1.23s\tremaining: 1.14s\n",
      "519:\tlearn: 0.0222657\ttotal: 1.24s\tremaining: 1.14s\n",
      "520:\tlearn: 0.0222656\ttotal: 1.24s\tremaining: 1.14s\n",
      "521:\tlearn: 0.0222655\ttotal: 1.24s\tremaining: 1.14s\n",
      "522:\tlearn: 0.0222653\ttotal: 1.24s\tremaining: 1.13s\n",
      "523:\tlearn: 0.0222646\ttotal: 1.24s\tremaining: 1.13s\n",
      "524:\tlearn: 0.0222646\ttotal: 1.25s\tremaining: 1.13s\n",
      "525:\tlearn: 0.0222646\ttotal: 1.25s\tremaining: 1.13s\n",
      "526:\tlearn: 0.0222646\ttotal: 1.25s\tremaining: 1.12s\n",
      "527:\tlearn: 0.0222645\ttotal: 1.25s\tremaining: 1.12s\n",
      "528:\tlearn: 0.0222644\ttotal: 1.25s\tremaining: 1.12s\n",
      "529:\tlearn: 0.0222644\ttotal: 1.26s\tremaining: 1.11s\n",
      "530:\tlearn: 0.0222644\ttotal: 1.26s\tremaining: 1.11s\n",
      "531:\tlearn: 0.0222642\ttotal: 1.26s\tremaining: 1.11s\n",
      "532:\tlearn: 0.0222642\ttotal: 1.26s\tremaining: 1.11s\n",
      "533:\tlearn: 0.0222641\ttotal: 1.27s\tremaining: 1.1s\n",
      "534:\tlearn: 0.0222641\ttotal: 1.27s\tremaining: 1.1s\n",
      "535:\tlearn: 0.0222640\ttotal: 1.27s\tremaining: 1.1s\n",
      "536:\tlearn: 0.0222640\ttotal: 1.27s\tremaining: 1.1s\n",
      "537:\tlearn: 0.0222639\ttotal: 1.27s\tremaining: 1.09s\n",
      "538:\tlearn: 0.0222638\ttotal: 1.28s\tremaining: 1.09s\n",
      "539:\tlearn: 0.0222638\ttotal: 1.28s\tremaining: 1.09s\n",
      "540:\tlearn: 0.0222638\ttotal: 1.28s\tremaining: 1.09s\n",
      "541:\tlearn: 0.0222637\ttotal: 1.28s\tremaining: 1.08s\n",
      "542:\tlearn: 0.0222636\ttotal: 1.28s\tremaining: 1.08s\n",
      "543:\tlearn: 0.0222636\ttotal: 1.29s\tremaining: 1.08s\n",
      "544:\tlearn: 0.0222636\ttotal: 1.29s\tremaining: 1.08s\n",
      "545:\tlearn: 0.0222635\ttotal: 1.29s\tremaining: 1.07s\n",
      "546:\tlearn: 0.0222635\ttotal: 1.29s\tremaining: 1.07s\n",
      "547:\tlearn: 0.0222633\ttotal: 1.3s\tremaining: 1.07s\n",
      "548:\tlearn: 0.0222633\ttotal: 1.3s\tremaining: 1.07s\n",
      "549:\tlearn: 0.0222632\ttotal: 1.3s\tremaining: 1.06s\n",
      "550:\tlearn: 0.0222631\ttotal: 1.3s\tremaining: 1.06s\n",
      "551:\tlearn: 0.0222631\ttotal: 1.31s\tremaining: 1.06s\n",
      "552:\tlearn: 0.0222631\ttotal: 1.31s\tremaining: 1.06s\n",
      "553:\tlearn: 0.0222630\ttotal: 1.31s\tremaining: 1.05s\n",
      "554:\tlearn: 0.0222629\ttotal: 1.31s\tremaining: 1.05s\n",
      "555:\tlearn: 0.0222630\ttotal: 1.31s\tremaining: 1.05s\n",
      "556:\tlearn: 0.0222628\ttotal: 1.32s\tremaining: 1.05s\n",
      "557:\tlearn: 0.0222627\ttotal: 1.32s\tremaining: 1.04s\n",
      "558:\tlearn: 0.0222627\ttotal: 1.32s\tremaining: 1.04s\n",
      "559:\tlearn: 0.0222626\ttotal: 1.32s\tremaining: 1.04s\n",
      "560:\tlearn: 0.0222626\ttotal: 1.33s\tremaining: 1.04s\n",
      "561:\tlearn: 0.0222626\ttotal: 1.33s\tremaining: 1.03s\n",
      "562:\tlearn: 0.0222626\ttotal: 1.33s\tremaining: 1.03s\n",
      "563:\tlearn: 0.0222625\ttotal: 1.33s\tremaining: 1.03s\n",
      "564:\tlearn: 0.0222625\ttotal: 1.33s\tremaining: 1.03s\n",
      "565:\tlearn: 0.0222624\ttotal: 1.34s\tremaining: 1.02s\n",
      "566:\tlearn: 0.0222623\ttotal: 1.34s\tremaining: 1.02s\n",
      "567:\tlearn: 0.0222622\ttotal: 1.34s\tremaining: 1.02s\n",
      "568:\tlearn: 0.0222621\ttotal: 1.34s\tremaining: 1.02s\n",
      "569:\tlearn: 0.0222620\ttotal: 1.35s\tremaining: 1.02s\n",
      "570:\tlearn: 0.0222615\ttotal: 1.35s\tremaining: 1.01s\n",
      "571:\tlearn: 0.0222615\ttotal: 1.35s\tremaining: 1.01s\n",
      "572:\tlearn: 0.0222614\ttotal: 1.35s\tremaining: 1.01s\n",
      "573:\tlearn: 0.0222614\ttotal: 1.35s\tremaining: 1s\n",
      "574:\tlearn: 0.0222613\ttotal: 1.36s\tremaining: 1s\n",
      "575:\tlearn: 0.0222613\ttotal: 1.36s\tremaining: 1s\n",
      "576:\tlearn: 0.0222612\ttotal: 1.36s\tremaining: 1s\n",
      "577:\tlearn: 0.0222612\ttotal: 1.37s\tremaining: 997ms\n",
      "578:\tlearn: 0.0222611\ttotal: 1.37s\tremaining: 995ms\n",
      "579:\tlearn: 0.0222611\ttotal: 1.37s\tremaining: 992ms\n",
      "580:\tlearn: 0.0222609\ttotal: 1.37s\tremaining: 989ms\n",
      "581:\tlearn: 0.0222608\ttotal: 1.37s\tremaining: 987ms\n",
      "582:\tlearn: 0.0222607\ttotal: 1.38s\tremaining: 984ms\n",
      "583:\tlearn: 0.0222606\ttotal: 1.38s\tremaining: 981ms\n",
      "584:\tlearn: 0.0222605\ttotal: 1.38s\tremaining: 979ms\n",
      "585:\tlearn: 0.0222604\ttotal: 1.38s\tremaining: 977ms\n",
      "586:\tlearn: 0.0222604\ttotal: 1.38s\tremaining: 974ms\n",
      "587:\tlearn: 0.0222604\ttotal: 1.39s\tremaining: 972ms\n",
      "588:\tlearn: 0.0222604\ttotal: 1.39s\tremaining: 969ms\n",
      "589:\tlearn: 0.0222602\ttotal: 1.39s\tremaining: 966ms\n",
      "590:\tlearn: 0.0222602\ttotal: 1.39s\tremaining: 964ms\n",
      "591:\tlearn: 0.0222597\ttotal: 1.39s\tremaining: 961ms\n",
      "592:\tlearn: 0.0222597\ttotal: 1.4s\tremaining: 959ms\n",
      "593:\tlearn: 0.0222216\ttotal: 1.4s\tremaining: 957ms\n",
      "594:\tlearn: 0.0222216\ttotal: 1.4s\tremaining: 954ms\n",
      "595:\tlearn: 0.0222215\ttotal: 1.4s\tremaining: 952ms\n",
      "596:\tlearn: 0.0222214\ttotal: 1.41s\tremaining: 949ms\n",
      "597:\tlearn: 0.0222214\ttotal: 1.41s\tremaining: 946ms\n",
      "598:\tlearn: 0.0222215\ttotal: 1.41s\tremaining: 944ms\n",
      "599:\tlearn: 0.0222213\ttotal: 1.41s\tremaining: 941ms\n",
      "600:\tlearn: 0.0222213\ttotal: 1.41s\tremaining: 939ms\n",
      "601:\tlearn: 0.0222212\ttotal: 1.42s\tremaining: 936ms\n",
      "602:\tlearn: 0.0222212\ttotal: 1.42s\tremaining: 933ms\n",
      "603:\tlearn: 0.0222211\ttotal: 1.42s\tremaining: 931ms\n",
      "604:\tlearn: 0.0222210\ttotal: 1.42s\tremaining: 929ms\n",
      "605:\tlearn: 0.0222210\ttotal: 1.43s\tremaining: 927ms\n",
      "606:\tlearn: 0.0222209\ttotal: 1.43s\tremaining: 924ms\n",
      "607:\tlearn: 0.0222208\ttotal: 1.43s\tremaining: 922ms\n",
      "608:\tlearn: 0.0222207\ttotal: 1.43s\tremaining: 919ms\n",
      "609:\tlearn: 0.0222207\ttotal: 1.43s\tremaining: 917ms\n",
      "610:\tlearn: 0.0222207\ttotal: 1.44s\tremaining: 914ms\n",
      "611:\tlearn: 0.0222206\ttotal: 1.44s\tremaining: 912ms\n",
      "612:\tlearn: 0.0222206\ttotal: 1.44s\tremaining: 909ms\n",
      "613:\tlearn: 0.0222205\ttotal: 1.44s\tremaining: 907ms\n",
      "614:\tlearn: 0.0222205\ttotal: 1.45s\tremaining: 906ms\n",
      "615:\tlearn: 0.0222204\ttotal: 1.45s\tremaining: 903ms\n",
      "616:\tlearn: 0.0222203\ttotal: 1.45s\tremaining: 901ms\n",
      "617:\tlearn: 0.0222202\ttotal: 1.45s\tremaining: 898ms\n",
      "618:\tlearn: 0.0222199\ttotal: 1.46s\tremaining: 896ms\n",
      "619:\tlearn: 0.0222197\ttotal: 1.46s\tremaining: 893ms\n",
      "620:\tlearn: 0.0222198\ttotal: 1.46s\tremaining: 891ms\n",
      "621:\tlearn: 0.0222197\ttotal: 1.46s\tremaining: 889ms\n",
      "622:\tlearn: 0.0222196\ttotal: 1.47s\tremaining: 887ms\n",
      "623:\tlearn: 0.0222196\ttotal: 1.47s\tremaining: 884ms\n",
      "624:\tlearn: 0.0222191\ttotal: 1.47s\tremaining: 882ms\n",
      "625:\tlearn: 0.0222191\ttotal: 1.47s\tremaining: 879ms\n",
      "626:\tlearn: 0.0222190\ttotal: 1.47s\tremaining: 876ms\n",
      "627:\tlearn: 0.0222190\ttotal: 1.48s\tremaining: 874ms\n",
      "628:\tlearn: 0.0222189\ttotal: 1.48s\tremaining: 871ms\n",
      "629:\tlearn: 0.0222188\ttotal: 1.48s\tremaining: 868ms\n",
      "630:\tlearn: 0.0222188\ttotal: 1.48s\tremaining: 866ms\n",
      "631:\tlearn: 0.0222187\ttotal: 1.48s\tremaining: 865ms\n",
      "632:\tlearn: 0.0222186\ttotal: 1.49s\tremaining: 862ms\n",
      "633:\tlearn: 0.0222185\ttotal: 1.49s\tremaining: 859ms\n",
      "634:\tlearn: 0.0222185\ttotal: 1.49s\tremaining: 857ms\n",
      "635:\tlearn: 0.0222185\ttotal: 1.49s\tremaining: 854ms\n",
      "636:\tlearn: 0.0222177\ttotal: 1.49s\tremaining: 852ms\n",
      "637:\tlearn: 0.0221950\ttotal: 1.5s\tremaining: 849ms\n",
      "638:\tlearn: 0.0221514\ttotal: 1.5s\tremaining: 847ms\n",
      "639:\tlearn: 0.0221246\ttotal: 1.5s\tremaining: 845ms\n",
      "640:\tlearn: 0.0221237\ttotal: 1.5s\tremaining: 842ms\n",
      "641:\tlearn: 0.0220673\ttotal: 1.51s\tremaining: 840ms\n",
      "642:\tlearn: 0.0220672\ttotal: 1.51s\tremaining: 838ms\n",
      "643:\tlearn: 0.0220671\ttotal: 1.51s\tremaining: 835ms\n",
      "644:\tlearn: 0.0220671\ttotal: 1.51s\tremaining: 833ms\n",
      "645:\tlearn: 0.0220670\ttotal: 1.51s\tremaining: 830ms\n",
      "646:\tlearn: 0.0220669\ttotal: 1.52s\tremaining: 827ms\n",
      "647:\tlearn: 0.0220668\ttotal: 1.52s\tremaining: 825ms\n",
      "648:\tlearn: 0.0220668\ttotal: 1.52s\tremaining: 822ms\n",
      "649:\tlearn: 0.0220667\ttotal: 1.52s\tremaining: 820ms\n",
      "650:\tlearn: 0.0220666\ttotal: 1.52s\tremaining: 818ms\n",
      "651:\tlearn: 0.0220666\ttotal: 1.53s\tremaining: 815ms\n",
      "652:\tlearn: 0.0220665\ttotal: 1.53s\tremaining: 813ms\n",
      "653:\tlearn: 0.0220664\ttotal: 1.53s\tremaining: 810ms\n",
      "654:\tlearn: 0.0220662\ttotal: 1.53s\tremaining: 808ms\n",
      "655:\tlearn: 0.0220662\ttotal: 1.53s\tremaining: 805ms\n",
      "656:\tlearn: 0.0220661\ttotal: 1.54s\tremaining: 803ms\n",
      "657:\tlearn: 0.0220660\ttotal: 1.54s\tremaining: 800ms\n",
      "658:\tlearn: 0.0220661\ttotal: 1.54s\tremaining: 797ms\n",
      "659:\tlearn: 0.0220660\ttotal: 1.54s\tremaining: 795ms\n",
      "660:\tlearn: 0.0220660\ttotal: 1.55s\tremaining: 793ms\n",
      "661:\tlearn: 0.0220660\ttotal: 1.55s\tremaining: 791ms\n",
      "662:\tlearn: 0.0220659\ttotal: 1.55s\tremaining: 788ms\n",
      "663:\tlearn: 0.0220659\ttotal: 1.55s\tremaining: 786ms\n",
      "664:\tlearn: 0.0220657\ttotal: 1.55s\tremaining: 783ms\n",
      "665:\tlearn: 0.0220657\ttotal: 1.55s\tremaining: 780ms\n",
      "666:\tlearn: 0.0220657\ttotal: 1.56s\tremaining: 778ms\n",
      "667:\tlearn: 0.0220656\ttotal: 1.56s\tremaining: 776ms\n",
      "668:\tlearn: 0.0220657\ttotal: 1.56s\tremaining: 773ms\n",
      "669:\tlearn: 0.0220656\ttotal: 1.56s\tremaining: 771ms\n",
      "670:\tlearn: 0.0220654\ttotal: 1.57s\tremaining: 768ms\n",
      "671:\tlearn: 0.0220654\ttotal: 1.57s\tremaining: 766ms\n",
      "672:\tlearn: 0.0220653\ttotal: 1.57s\tremaining: 763ms\n",
      "673:\tlearn: 0.0220652\ttotal: 1.57s\tremaining: 761ms\n",
      "674:\tlearn: 0.0220652\ttotal: 1.57s\tremaining: 758ms\n",
      "675:\tlearn: 0.0220651\ttotal: 1.58s\tremaining: 756ms\n",
      "676:\tlearn: 0.0220650\ttotal: 1.58s\tremaining: 753ms\n",
      "677:\tlearn: 0.0220649\ttotal: 1.58s\tremaining: 751ms\n",
      "678:\tlearn: 0.0220650\ttotal: 1.58s\tremaining: 749ms\n",
      "679:\tlearn: 0.0220649\ttotal: 1.59s\tremaining: 747ms\n",
      "680:\tlearn: 0.0220647\ttotal: 1.59s\tremaining: 744ms\n",
      "681:\tlearn: 0.0220647\ttotal: 1.59s\tremaining: 742ms\n",
      "682:\tlearn: 0.0220646\ttotal: 1.59s\tremaining: 739ms\n",
      "683:\tlearn: 0.0220645\ttotal: 1.59s\tremaining: 737ms\n",
      "684:\tlearn: 0.0220645\ttotal: 1.6s\tremaining: 734ms\n",
      "685:\tlearn: 0.0220643\ttotal: 1.6s\tremaining: 732ms\n",
      "686:\tlearn: 0.0220643\ttotal: 1.6s\tremaining: 729ms\n",
      "687:\tlearn: 0.0220642\ttotal: 1.6s\tremaining: 728ms\n",
      "688:\tlearn: 0.0220642\ttotal: 1.61s\tremaining: 725ms\n",
      "689:\tlearn: 0.0220641\ttotal: 1.61s\tremaining: 723ms\n",
      "690:\tlearn: 0.0220640\ttotal: 1.61s\tremaining: 721ms\n",
      "691:\tlearn: 0.0220638\ttotal: 1.61s\tremaining: 719ms\n",
      "692:\tlearn: 0.0220637\ttotal: 1.62s\tremaining: 716ms\n",
      "693:\tlearn: 0.0220636\ttotal: 1.62s\tremaining: 714ms\n",
      "694:\tlearn: 0.0220636\ttotal: 1.62s\tremaining: 711ms\n",
      "695:\tlearn: 0.0220635\ttotal: 1.62s\tremaining: 709ms\n",
      "696:\tlearn: 0.0220634\ttotal: 1.63s\tremaining: 706ms\n",
      "697:\tlearn: 0.0220634\ttotal: 1.63s\tremaining: 704ms\n",
      "698:\tlearn: 0.0220633\ttotal: 1.63s\tremaining: 702ms\n",
      "699:\tlearn: 0.0220634\ttotal: 1.63s\tremaining: 699ms\n",
      "700:\tlearn: 0.0220634\ttotal: 1.63s\tremaining: 697ms\n",
      "701:\tlearn: 0.0220633\ttotal: 1.64s\tremaining: 694ms\n",
      "702:\tlearn: 0.0220633\ttotal: 1.64s\tremaining: 692ms\n",
      "703:\tlearn: 0.0220632\ttotal: 1.64s\tremaining: 689ms\n",
      "704:\tlearn: 0.0220632\ttotal: 1.64s\tremaining: 687ms\n",
      "705:\tlearn: 0.0220631\ttotal: 1.64s\tremaining: 684ms\n",
      "706:\tlearn: 0.0220630\ttotal: 1.65s\tremaining: 682ms\n",
      "707:\tlearn: 0.0220629\ttotal: 1.65s\tremaining: 680ms\n",
      "708:\tlearn: 0.0220614\ttotal: 1.65s\tremaining: 677ms\n",
      "709:\tlearn: 0.0220614\ttotal: 1.65s\tremaining: 675ms\n",
      "710:\tlearn: 0.0220612\ttotal: 1.65s\tremaining: 672ms\n",
      "711:\tlearn: 0.0220195\ttotal: 1.66s\tremaining: 670ms\n",
      "712:\tlearn: 0.0220194\ttotal: 1.66s\tremaining: 667ms\n",
      "713:\tlearn: 0.0220194\ttotal: 1.66s\tremaining: 665ms\n",
      "714:\tlearn: 0.0220194\ttotal: 1.66s\tremaining: 662ms\n",
      "715:\tlearn: 0.0220192\ttotal: 1.66s\tremaining: 660ms\n",
      "716:\tlearn: 0.0220192\ttotal: 1.67s\tremaining: 658ms\n",
      "717:\tlearn: 0.0220192\ttotal: 1.67s\tremaining: 655ms\n",
      "718:\tlearn: 0.0220192\ttotal: 1.67s\tremaining: 653ms\n",
      "719:\tlearn: 0.0220192\ttotal: 1.67s\tremaining: 651ms\n",
      "720:\tlearn: 0.0220192\ttotal: 1.68s\tremaining: 648ms\n",
      "721:\tlearn: 0.0220192\ttotal: 1.68s\tremaining: 646ms\n",
      "722:\tlearn: 0.0220190\ttotal: 1.68s\tremaining: 643ms\n",
      "723:\tlearn: 0.0220189\ttotal: 1.68s\tremaining: 640ms\n",
      "724:\tlearn: 0.0220189\ttotal: 1.68s\tremaining: 638ms\n",
      "725:\tlearn: 0.0220188\ttotal: 1.68s\tremaining: 636ms\n",
      "726:\tlearn: 0.0220187\ttotal: 1.69s\tremaining: 634ms\n",
      "727:\tlearn: 0.0220185\ttotal: 1.69s\tremaining: 631ms\n",
      "728:\tlearn: 0.0220185\ttotal: 1.69s\tremaining: 629ms\n",
      "729:\tlearn: 0.0220186\ttotal: 1.69s\tremaining: 626ms\n",
      "730:\tlearn: 0.0220184\ttotal: 1.7s\tremaining: 624ms\n",
      "731:\tlearn: 0.0220184\ttotal: 1.7s\tremaining: 621ms\n",
      "732:\tlearn: 0.0220179\ttotal: 1.7s\tremaining: 619ms\n",
      "733:\tlearn: 0.0220179\ttotal: 1.7s\tremaining: 616ms\n",
      "734:\tlearn: 0.0220178\ttotal: 1.7s\tremaining: 614ms\n",
      "735:\tlearn: 0.0220178\ttotal: 1.7s\tremaining: 612ms\n",
      "736:\tlearn: 0.0220178\ttotal: 1.71s\tremaining: 609ms\n",
      "737:\tlearn: 0.0220177\ttotal: 1.71s\tremaining: 607ms\n",
      "738:\tlearn: 0.0220176\ttotal: 1.71s\tremaining: 604ms\n",
      "739:\tlearn: 0.0220176\ttotal: 1.71s\tremaining: 602ms\n",
      "740:\tlearn: 0.0220176\ttotal: 1.71s\tremaining: 599ms\n",
      "741:\tlearn: 0.0220175\ttotal: 1.72s\tremaining: 597ms\n",
      "742:\tlearn: 0.0220168\ttotal: 1.72s\tremaining: 594ms\n",
      "743:\tlearn: 0.0219087\ttotal: 1.72s\tremaining: 592ms\n",
      "744:\tlearn: 0.0218663\ttotal: 1.72s\tremaining: 590ms\n",
      "745:\tlearn: 0.0218655\ttotal: 1.73s\tremaining: 588ms\n",
      "746:\tlearn: 0.0218655\ttotal: 1.73s\tremaining: 585ms\n",
      "747:\tlearn: 0.0218652\ttotal: 1.73s\tremaining: 583ms\n",
      "748:\tlearn: 0.0218652\ttotal: 1.73s\tremaining: 580ms\n",
      "749:\tlearn: 0.0218650\ttotal: 1.73s\tremaining: 578ms\n",
      "750:\tlearn: 0.0218651\ttotal: 1.74s\tremaining: 576ms\n",
      "751:\tlearn: 0.0218650\ttotal: 1.74s\tremaining: 573ms\n",
      "752:\tlearn: 0.0218650\ttotal: 1.74s\tremaining: 571ms\n",
      "753:\tlearn: 0.0218400\ttotal: 1.74s\tremaining: 568ms\n",
      "754:\tlearn: 0.0218399\ttotal: 1.74s\tremaining: 566ms\n",
      "755:\tlearn: 0.0218393\ttotal: 1.75s\tremaining: 564ms\n",
      "756:\tlearn: 0.0218392\ttotal: 1.75s\tremaining: 562ms\n",
      "757:\tlearn: 0.0218392\ttotal: 1.75s\tremaining: 559ms\n",
      "758:\tlearn: 0.0218390\ttotal: 1.75s\tremaining: 557ms\n",
      "759:\tlearn: 0.0218390\ttotal: 1.75s\tremaining: 554ms\n",
      "760:\tlearn: 0.0218389\ttotal: 1.76s\tremaining: 552ms\n",
      "761:\tlearn: 0.0218379\ttotal: 1.76s\tremaining: 549ms\n",
      "762:\tlearn: 0.0218379\ttotal: 1.76s\tremaining: 547ms\n",
      "763:\tlearn: 0.0218377\ttotal: 1.76s\tremaining: 545ms\n",
      "764:\tlearn: 0.0218107\ttotal: 1.76s\tremaining: 542ms\n",
      "765:\tlearn: 0.0217602\ttotal: 1.77s\tremaining: 540ms\n",
      "766:\tlearn: 0.0217599\ttotal: 1.77s\tremaining: 538ms\n",
      "767:\tlearn: 0.0217598\ttotal: 1.77s\tremaining: 535ms\n",
      "768:\tlearn: 0.0217598\ttotal: 1.77s\tremaining: 533ms\n",
      "769:\tlearn: 0.0217598\ttotal: 1.78s\tremaining: 531ms\n",
      "770:\tlearn: 0.0217598\ttotal: 1.78s\tremaining: 528ms\n",
      "771:\tlearn: 0.0217597\ttotal: 1.78s\tremaining: 526ms\n",
      "772:\tlearn: 0.0217596\ttotal: 1.78s\tremaining: 523ms\n",
      "773:\tlearn: 0.0217593\ttotal: 1.78s\tremaining: 521ms\n",
      "774:\tlearn: 0.0217594\ttotal: 1.79s\tremaining: 519ms\n",
      "775:\tlearn: 0.0217591\ttotal: 1.79s\tremaining: 517ms\n",
      "776:\tlearn: 0.0217593\ttotal: 1.79s\tremaining: 514ms\n",
      "777:\tlearn: 0.0217591\ttotal: 1.79s\tremaining: 512ms\n",
      "778:\tlearn: 0.0217591\ttotal: 1.79s\tremaining: 509ms\n",
      "779:\tlearn: 0.0217590\ttotal: 1.8s\tremaining: 507ms\n",
      "780:\tlearn: 0.0217590\ttotal: 1.8s\tremaining: 505ms\n",
      "781:\tlearn: 0.0217590\ttotal: 1.8s\tremaining: 502ms\n",
      "782:\tlearn: 0.0217590\ttotal: 1.8s\tremaining: 500ms\n",
      "783:\tlearn: 0.0217590\ttotal: 1.8s\tremaining: 497ms\n",
      "784:\tlearn: 0.0217589\ttotal: 1.81s\tremaining: 496ms\n",
      "785:\tlearn: 0.0217588\ttotal: 1.81s\tremaining: 494ms\n",
      "786:\tlearn: 0.0217588\ttotal: 1.81s\tremaining: 491ms\n",
      "787:\tlearn: 0.0217587\ttotal: 1.82s\tremaining: 489ms\n",
      "788:\tlearn: 0.0217585\ttotal: 1.82s\tremaining: 486ms\n",
      "789:\tlearn: 0.0217584\ttotal: 1.82s\tremaining: 484ms\n",
      "790:\tlearn: 0.0217583\ttotal: 1.82s\tremaining: 482ms\n",
      "791:\tlearn: 0.0217581\ttotal: 1.82s\tremaining: 479ms\n",
      "792:\tlearn: 0.0217580\ttotal: 1.83s\tremaining: 477ms\n",
      "793:\tlearn: 0.0217581\ttotal: 1.83s\tremaining: 474ms\n",
      "794:\tlearn: 0.0217579\ttotal: 1.83s\tremaining: 472ms\n",
      "795:\tlearn: 0.0217579\ttotal: 1.83s\tremaining: 470ms\n",
      "796:\tlearn: 0.0217579\ttotal: 1.83s\tremaining: 467ms\n",
      "797:\tlearn: 0.0217578\ttotal: 1.84s\tremaining: 465ms\n",
      "798:\tlearn: 0.0217574\ttotal: 1.84s\tremaining: 463ms\n",
      "799:\tlearn: 0.0217571\ttotal: 1.84s\tremaining: 460ms\n",
      "800:\tlearn: 0.0217571\ttotal: 1.84s\tremaining: 458ms\n",
      "801:\tlearn: 0.0217570\ttotal: 1.84s\tremaining: 455ms\n",
      "802:\tlearn: 0.0217570\ttotal: 1.85s\tremaining: 453ms\n",
      "803:\tlearn: 0.0217569\ttotal: 1.85s\tremaining: 451ms\n",
      "804:\tlearn: 0.0217569\ttotal: 1.85s\tremaining: 449ms\n",
      "805:\tlearn: 0.0217568\ttotal: 1.85s\tremaining: 446ms\n",
      "806:\tlearn: 0.0217564\ttotal: 1.86s\tremaining: 444ms\n",
      "807:\tlearn: 0.0217563\ttotal: 1.86s\tremaining: 441ms\n",
      "808:\tlearn: 0.0217561\ttotal: 1.86s\tremaining: 439ms\n",
      "809:\tlearn: 0.0217561\ttotal: 1.86s\tremaining: 437ms\n",
      "810:\tlearn: 0.0217561\ttotal: 1.86s\tremaining: 434ms\n",
      "811:\tlearn: 0.0217560\ttotal: 1.87s\tremaining: 432ms\n",
      "812:\tlearn: 0.0217560\ttotal: 1.87s\tremaining: 430ms\n",
      "813:\tlearn: 0.0217559\ttotal: 1.87s\tremaining: 427ms\n",
      "814:\tlearn: 0.0217558\ttotal: 1.87s\tremaining: 425ms\n",
      "815:\tlearn: 0.0217558\ttotal: 1.88s\tremaining: 423ms\n",
      "816:\tlearn: 0.0217557\ttotal: 1.88s\tremaining: 420ms\n",
      "817:\tlearn: 0.0217556\ttotal: 1.88s\tremaining: 418ms\n",
      "818:\tlearn: 0.0217555\ttotal: 1.88s\tremaining: 416ms\n",
      "819:\tlearn: 0.0217553\ttotal: 1.88s\tremaining: 413ms\n",
      "820:\tlearn: 0.0217552\ttotal: 1.88s\tremaining: 411ms\n",
      "821:\tlearn: 0.0217552\ttotal: 1.89s\tremaining: 409ms\n",
      "822:\tlearn: 0.0217552\ttotal: 1.89s\tremaining: 406ms\n",
      "823:\tlearn: 0.0217551\ttotal: 1.89s\tremaining: 404ms\n",
      "824:\tlearn: 0.0217550\ttotal: 1.89s\tremaining: 402ms\n",
      "825:\tlearn: 0.0217550\ttotal: 1.89s\tremaining: 399ms\n",
      "826:\tlearn: 0.0217549\ttotal: 1.9s\tremaining: 397ms\n",
      "827:\tlearn: 0.0217549\ttotal: 1.9s\tremaining: 395ms\n",
      "828:\tlearn: 0.0217549\ttotal: 1.9s\tremaining: 392ms\n",
      "829:\tlearn: 0.0217548\ttotal: 1.9s\tremaining: 390ms\n",
      "830:\tlearn: 0.0217548\ttotal: 1.91s\tremaining: 387ms\n",
      "831:\tlearn: 0.0217547\ttotal: 1.91s\tremaining: 385ms\n",
      "832:\tlearn: 0.0217547\ttotal: 1.91s\tremaining: 383ms\n",
      "833:\tlearn: 0.0217542\ttotal: 1.91s\tremaining: 381ms\n",
      "834:\tlearn: 0.0217540\ttotal: 1.91s\tremaining: 378ms\n",
      "835:\tlearn: 0.0217539\ttotal: 1.92s\tremaining: 376ms\n",
      "836:\tlearn: 0.0217539\ttotal: 1.92s\tremaining: 373ms\n",
      "837:\tlearn: 0.0217537\ttotal: 1.92s\tremaining: 371ms\n",
      "838:\tlearn: 0.0217537\ttotal: 1.92s\tremaining: 369ms\n",
      "839:\tlearn: 0.0217537\ttotal: 1.92s\tremaining: 366ms\n",
      "840:\tlearn: 0.0217537\ttotal: 1.93s\tremaining: 364ms\n",
      "841:\tlearn: 0.0217537\ttotal: 1.93s\tremaining: 362ms\n",
      "842:\tlearn: 0.0217536\ttotal: 1.93s\tremaining: 359ms\n",
      "843:\tlearn: 0.0217536\ttotal: 1.93s\tremaining: 357ms\n",
      "844:\tlearn: 0.0217535\ttotal: 1.93s\tremaining: 355ms\n",
      "845:\tlearn: 0.0217531\ttotal: 1.94s\tremaining: 352ms\n",
      "846:\tlearn: 0.0217530\ttotal: 1.94s\tremaining: 350ms\n",
      "847:\tlearn: 0.0217531\ttotal: 1.94s\tremaining: 348ms\n",
      "848:\tlearn: 0.0217530\ttotal: 1.94s\tremaining: 345ms\n",
      "849:\tlearn: 0.0217529\ttotal: 1.94s\tremaining: 343ms\n",
      "850:\tlearn: 0.0217530\ttotal: 1.95s\tremaining: 341ms\n",
      "851:\tlearn: 0.0217529\ttotal: 1.95s\tremaining: 338ms\n",
      "852:\tlearn: 0.0217528\ttotal: 1.95s\tremaining: 337ms\n",
      "853:\tlearn: 0.0217528\ttotal: 1.95s\tremaining: 334ms\n",
      "854:\tlearn: 0.0217528\ttotal: 1.96s\tremaining: 332ms\n",
      "855:\tlearn: 0.0217527\ttotal: 1.96s\tremaining: 329ms\n",
      "856:\tlearn: 0.0217527\ttotal: 1.96s\tremaining: 327ms\n",
      "857:\tlearn: 0.0217527\ttotal: 1.96s\tremaining: 325ms\n",
      "858:\tlearn: 0.0217526\ttotal: 1.97s\tremaining: 323ms\n",
      "859:\tlearn: 0.0217527\ttotal: 1.97s\tremaining: 320ms\n",
      "860:\tlearn: 0.0217526\ttotal: 1.97s\tremaining: 318ms\n",
      "861:\tlearn: 0.0217524\ttotal: 1.97s\tremaining: 316ms\n",
      "862:\tlearn: 0.0217524\ttotal: 1.98s\tremaining: 314ms\n",
      "863:\tlearn: 0.0217524\ttotal: 1.98s\tremaining: 311ms\n",
      "864:\tlearn: 0.0217523\ttotal: 1.98s\tremaining: 309ms\n",
      "865:\tlearn: 0.0217522\ttotal: 1.98s\tremaining: 307ms\n",
      "866:\tlearn: 0.0217521\ttotal: 1.98s\tremaining: 304ms\n",
      "867:\tlearn: 0.0217521\ttotal: 1.99s\tremaining: 302ms\n",
      "868:\tlearn: 0.0217519\ttotal: 1.99s\tremaining: 300ms\n",
      "869:\tlearn: 0.0217515\ttotal: 1.99s\tremaining: 297ms\n",
      "870:\tlearn: 0.0217515\ttotal: 1.99s\tremaining: 295ms\n",
      "871:\tlearn: 0.0217514\ttotal: 2s\tremaining: 293ms\n",
      "872:\tlearn: 0.0217514\ttotal: 2s\tremaining: 291ms\n",
      "873:\tlearn: 0.0217513\ttotal: 2s\tremaining: 288ms\n",
      "874:\tlearn: 0.0217512\ttotal: 2s\tremaining: 286ms\n",
      "875:\tlearn: 0.0217512\ttotal: 2s\tremaining: 284ms\n",
      "876:\tlearn: 0.0217511\ttotal: 2.01s\tremaining: 282ms\n",
      "877:\tlearn: 0.0217511\ttotal: 2.01s\tremaining: 279ms\n",
      "878:\tlearn: 0.0217511\ttotal: 2.01s\tremaining: 277ms\n",
      "879:\tlearn: 0.0217510\ttotal: 2.01s\tremaining: 275ms\n",
      "880:\tlearn: 0.0217510\ttotal: 2.02s\tremaining: 272ms\n",
      "881:\tlearn: 0.0217508\ttotal: 2.02s\tremaining: 270ms\n",
      "882:\tlearn: 0.0217508\ttotal: 2.02s\tremaining: 268ms\n",
      "883:\tlearn: 0.0217507\ttotal: 2.02s\tremaining: 265ms\n",
      "884:\tlearn: 0.0217505\ttotal: 2.02s\tremaining: 263ms\n",
      "885:\tlearn: 0.0217505\ttotal: 2.03s\tremaining: 261ms\n",
      "886:\tlearn: 0.0217503\ttotal: 2.03s\tremaining: 259ms\n",
      "887:\tlearn: 0.0217503\ttotal: 2.03s\tremaining: 256ms\n",
      "888:\tlearn: 0.0217503\ttotal: 2.03s\tremaining: 254ms\n",
      "889:\tlearn: 0.0217501\ttotal: 2.04s\tremaining: 252ms\n",
      "890:\tlearn: 0.0217500\ttotal: 2.04s\tremaining: 249ms\n",
      "891:\tlearn: 0.0217501\ttotal: 2.04s\tremaining: 247ms\n",
      "892:\tlearn: 0.0217500\ttotal: 2.04s\tremaining: 245ms\n",
      "893:\tlearn: 0.0217498\ttotal: 2.04s\tremaining: 242ms\n",
      "894:\tlearn: 0.0217498\ttotal: 2.05s\tremaining: 240ms\n",
      "895:\tlearn: 0.0217497\ttotal: 2.05s\tremaining: 238ms\n",
      "896:\tlearn: 0.0217494\ttotal: 2.05s\tremaining: 236ms\n",
      "897:\tlearn: 0.0217493\ttotal: 2.05s\tremaining: 233ms\n",
      "898:\tlearn: 0.0217493\ttotal: 2.06s\tremaining: 231ms\n",
      "899:\tlearn: 0.0217492\ttotal: 2.06s\tremaining: 229ms\n",
      "900:\tlearn: 0.0217492\ttotal: 2.06s\tremaining: 226ms\n",
      "901:\tlearn: 0.0217491\ttotal: 2.06s\tremaining: 224ms\n",
      "902:\tlearn: 0.0217492\ttotal: 2.06s\tremaining: 222ms\n",
      "903:\tlearn: 0.0217490\ttotal: 2.06s\tremaining: 219ms\n",
      "904:\tlearn: 0.0217490\ttotal: 2.07s\tremaining: 217ms\n",
      "905:\tlearn: 0.0217489\ttotal: 2.07s\tremaining: 215ms\n",
      "906:\tlearn: 0.0217489\ttotal: 2.07s\tremaining: 212ms\n",
      "907:\tlearn: 0.0217488\ttotal: 2.07s\tremaining: 210ms\n",
      "908:\tlearn: 0.0217488\ttotal: 2.08s\tremaining: 208ms\n",
      "909:\tlearn: 0.0217486\ttotal: 2.08s\tremaining: 206ms\n",
      "910:\tlearn: 0.0217486\ttotal: 2.08s\tremaining: 203ms\n",
      "911:\tlearn: 0.0217486\ttotal: 2.08s\tremaining: 201ms\n",
      "912:\tlearn: 0.0217484\ttotal: 2.08s\tremaining: 199ms\n",
      "913:\tlearn: 0.0217484\ttotal: 2.09s\tremaining: 196ms\n",
      "914:\tlearn: 0.0217344\ttotal: 2.09s\tremaining: 194ms\n",
      "915:\tlearn: 0.0217342\ttotal: 2.09s\tremaining: 192ms\n",
      "916:\tlearn: 0.0217342\ttotal: 2.09s\tremaining: 190ms\n",
      "917:\tlearn: 0.0217342\ttotal: 2.1s\tremaining: 187ms\n",
      "918:\tlearn: 0.0217336\ttotal: 2.1s\tremaining: 185ms\n",
      "919:\tlearn: 0.0217336\ttotal: 2.1s\tremaining: 183ms\n",
      "920:\tlearn: 0.0217336\ttotal: 2.1s\tremaining: 180ms\n",
      "921:\tlearn: 0.0217336\ttotal: 2.1s\tremaining: 178ms\n",
      "922:\tlearn: 0.0217335\ttotal: 2.11s\tremaining: 176ms\n",
      "923:\tlearn: 0.0217334\ttotal: 2.11s\tremaining: 174ms\n",
      "924:\tlearn: 0.0217334\ttotal: 2.11s\tremaining: 171ms\n",
      "925:\tlearn: 0.0217334\ttotal: 2.12s\tremaining: 169ms\n",
      "926:\tlearn: 0.0217333\ttotal: 2.12s\tremaining: 167ms\n",
      "927:\tlearn: 0.0217332\ttotal: 2.12s\tremaining: 164ms\n",
      "928:\tlearn: 0.0217332\ttotal: 2.12s\tremaining: 162ms\n",
      "929:\tlearn: 0.0217332\ttotal: 2.12s\tremaining: 160ms\n",
      "930:\tlearn: 0.0217329\ttotal: 2.13s\tremaining: 158ms\n",
      "931:\tlearn: 0.0217329\ttotal: 2.13s\tremaining: 155ms\n",
      "932:\tlearn: 0.0217328\ttotal: 2.13s\tremaining: 153ms\n",
      "933:\tlearn: 0.0217328\ttotal: 2.13s\tremaining: 151ms\n",
      "934:\tlearn: 0.0217328\ttotal: 2.13s\tremaining: 148ms\n",
      "935:\tlearn: 0.0217327\ttotal: 2.14s\tremaining: 146ms\n",
      "936:\tlearn: 0.0217325\ttotal: 2.14s\tremaining: 144ms\n",
      "937:\tlearn: 0.0217325\ttotal: 2.14s\tremaining: 142ms\n",
      "938:\tlearn: 0.0217324\ttotal: 2.14s\tremaining: 139ms\n",
      "939:\tlearn: 0.0217324\ttotal: 2.15s\tremaining: 137ms\n",
      "940:\tlearn: 0.0217322\ttotal: 2.15s\tremaining: 135ms\n",
      "941:\tlearn: 0.0217322\ttotal: 2.15s\tremaining: 132ms\n",
      "942:\tlearn: 0.0217322\ttotal: 2.15s\tremaining: 130ms\n",
      "943:\tlearn: 0.0217322\ttotal: 2.16s\tremaining: 128ms\n",
      "944:\tlearn: 0.0217323\ttotal: 2.16s\tremaining: 126ms\n",
      "945:\tlearn: 0.0217322\ttotal: 2.16s\tremaining: 123ms\n",
      "946:\tlearn: 0.0217322\ttotal: 2.16s\tremaining: 121ms\n",
      "947:\tlearn: 0.0217321\ttotal: 2.16s\tremaining: 119ms\n",
      "948:\tlearn: 0.0217321\ttotal: 2.17s\tremaining: 116ms\n",
      "949:\tlearn: 0.0217321\ttotal: 2.17s\tremaining: 114ms\n",
      "950:\tlearn: 0.0217321\ttotal: 2.17s\tremaining: 112ms\n",
      "951:\tlearn: 0.0217320\ttotal: 2.17s\tremaining: 110ms\n",
      "952:\tlearn: 0.0217320\ttotal: 2.17s\tremaining: 107ms\n",
      "953:\tlearn: 0.0217320\ttotal: 2.18s\tremaining: 105ms\n",
      "954:\tlearn: 0.0217319\ttotal: 2.18s\tremaining: 103ms\n",
      "955:\tlearn: 0.0217319\ttotal: 2.18s\tremaining: 100ms\n",
      "956:\tlearn: 0.0217318\ttotal: 2.18s\tremaining: 98.1ms\n",
      "957:\tlearn: 0.0217318\ttotal: 2.19s\tremaining: 95.9ms\n",
      "958:\tlearn: 0.0217311\ttotal: 2.19s\tremaining: 93.6ms\n",
      "959:\tlearn: 0.0217309\ttotal: 2.19s\tremaining: 91.3ms\n",
      "960:\tlearn: 0.0217310\ttotal: 2.19s\tremaining: 89ms\n",
      "961:\tlearn: 0.0217309\ttotal: 2.19s\tremaining: 86.7ms\n",
      "962:\tlearn: 0.0217308\ttotal: 2.19s\tremaining: 84.4ms\n",
      "963:\tlearn: 0.0217309\ttotal: 2.2s\tremaining: 82.1ms\n",
      "964:\tlearn: 0.0217308\ttotal: 2.2s\tremaining: 79.9ms\n",
      "965:\tlearn: 0.0217306\ttotal: 2.2s\tremaining: 77.6ms\n",
      "966:\tlearn: 0.0217307\ttotal: 2.21s\tremaining: 75.3ms\n",
      "967:\tlearn: 0.0217306\ttotal: 2.21s\tremaining: 73ms\n",
      "968:\tlearn: 0.0217306\ttotal: 2.21s\tremaining: 70.7ms\n",
      "969:\tlearn: 0.0217306\ttotal: 2.21s\tremaining: 68.4ms\n",
      "970:\tlearn: 0.0217305\ttotal: 2.21s\tremaining: 66.1ms\n",
      "971:\tlearn: 0.0217305\ttotal: 2.21s\tremaining: 63.8ms\n",
      "972:\tlearn: 0.0217304\ttotal: 2.22s\tremaining: 61.5ms\n",
      "973:\tlearn: 0.0217304\ttotal: 2.22s\tremaining: 59.3ms\n",
      "974:\tlearn: 0.0217303\ttotal: 2.22s\tremaining: 57ms\n",
      "975:\tlearn: 0.0217303\ttotal: 2.22s\tremaining: 54.7ms\n",
      "976:\tlearn: 0.0217303\ttotal: 2.23s\tremaining: 52.4ms\n",
      "977:\tlearn: 0.0217303\ttotal: 2.23s\tremaining: 50.1ms\n",
      "978:\tlearn: 0.0217302\ttotal: 2.23s\tremaining: 47.8ms\n",
      "979:\tlearn: 0.0217302\ttotal: 2.23s\tremaining: 45.5ms\n",
      "980:\tlearn: 0.0217301\ttotal: 2.23s\tremaining: 43.3ms\n",
      "981:\tlearn: 0.0217301\ttotal: 2.23s\tremaining: 41ms\n",
      "982:\tlearn: 0.0217302\ttotal: 2.24s\tremaining: 38.7ms\n",
      "983:\tlearn: 0.0217301\ttotal: 2.24s\tremaining: 36.4ms\n",
      "984:\tlearn: 0.0217301\ttotal: 2.24s\tremaining: 34.2ms\n",
      "985:\tlearn: 0.0217300\ttotal: 2.25s\tremaining: 31.9ms\n",
      "986:\tlearn: 0.0217300\ttotal: 2.25s\tremaining: 29.6ms\n",
      "987:\tlearn: 0.0217300\ttotal: 2.25s\tremaining: 27.3ms\n",
      "988:\tlearn: 0.0217300\ttotal: 2.25s\tremaining: 25ms\n",
      "989:\tlearn: 0.0217299\ttotal: 2.25s\tremaining: 22.8ms\n",
      "990:\tlearn: 0.0217297\ttotal: 2.25s\tremaining: 20.5ms\n",
      "991:\tlearn: 0.0217298\ttotal: 2.26s\tremaining: 18.2ms\n",
      "992:\tlearn: 0.0217298\ttotal: 2.26s\tremaining: 15.9ms\n",
      "993:\tlearn: 0.0217298\ttotal: 2.26s\tremaining: 13.7ms\n",
      "994:\tlearn: 0.0217297\ttotal: 2.26s\tremaining: 11.4ms\n",
      "995:\tlearn: 0.0217296\ttotal: 2.27s\tremaining: 9.1ms\n",
      "996:\tlearn: 0.0217291\ttotal: 2.27s\tremaining: 6.82ms\n",
      "997:\tlearn: 0.0217291\ttotal: 2.27s\tremaining: 4.55ms\n",
      "998:\tlearn: 0.0217289\ttotal: 2.27s\tremaining: 2.27ms\n",
      "999:\tlearn: 0.0217288\ttotal: 2.27s\tremaining: 0us\n",
      "0:\tlearn: 0.3096085\ttotal: 1.67ms\tremaining: 1.67s\n",
      "1:\tlearn: 0.2001436\ttotal: 3.74ms\tremaining: 1.87s\n",
      "2:\tlearn: 0.1648594\ttotal: 5.78ms\tremaining: 1.92s\n",
      "3:\tlearn: 0.1542680\ttotal: 8.01ms\tremaining: 1.99s\n",
      "4:\tlearn: 0.1370092\ttotal: 10.7ms\tremaining: 2.13s\n",
      "5:\tlearn: 0.1300877\ttotal: 13.9ms\tremaining: 2.31s\n",
      "6:\tlearn: 0.1252973\ttotal: 16.1ms\tremaining: 2.28s\n",
      "7:\tlearn: 0.1218447\ttotal: 18.2ms\tremaining: 2.25s\n",
      "8:\tlearn: 0.1158423\ttotal: 20.2ms\tremaining: 2.23s\n",
      "9:\tlearn: 0.1096543\ttotal: 22.6ms\tremaining: 2.24s\n",
      "10:\tlearn: 0.1049135\ttotal: 25.8ms\tremaining: 2.32s\n",
      "11:\tlearn: 0.1009078\ttotal: 28.1ms\tremaining: 2.31s\n",
      "12:\tlearn: 0.0983243\ttotal: 31.5ms\tremaining: 2.39s\n",
      "13:\tlearn: 0.0927667\ttotal: 33.7ms\tremaining: 2.37s\n",
      "14:\tlearn: 0.0911857\ttotal: 35.7ms\tremaining: 2.34s\n",
      "15:\tlearn: 0.0887257\ttotal: 38.2ms\tremaining: 2.35s\n",
      "16:\tlearn: 0.0857985\ttotal: 40.5ms\tremaining: 2.34s\n",
      "17:\tlearn: 0.0831653\ttotal: 42.4ms\tremaining: 2.31s\n",
      "18:\tlearn: 0.0808632\ttotal: 44.3ms\tremaining: 2.29s\n",
      "19:\tlearn: 0.0781324\ttotal: 46.6ms\tremaining: 2.28s\n",
      "20:\tlearn: 0.0766566\ttotal: 49.3ms\tremaining: 2.3s\n",
      "21:\tlearn: 0.0736677\ttotal: 52.8ms\tremaining: 2.35s\n",
      "22:\tlearn: 0.0723075\ttotal: 56.4ms\tremaining: 2.4s\n",
      "23:\tlearn: 0.0698169\ttotal: 58.6ms\tremaining: 2.38s\n",
      "24:\tlearn: 0.0673614\ttotal: 60.8ms\tremaining: 2.37s\n",
      "25:\tlearn: 0.0654575\ttotal: 63.6ms\tremaining: 2.38s\n",
      "26:\tlearn: 0.0639506\ttotal: 66ms\tremaining: 2.38s\n",
      "27:\tlearn: 0.0631915\ttotal: 68ms\tremaining: 2.36s\n",
      "28:\tlearn: 0.0611555\ttotal: 70ms\tremaining: 2.34s\n",
      "29:\tlearn: 0.0599170\ttotal: 72ms\tremaining: 2.33s\n",
      "30:\tlearn: 0.0587520\ttotal: 74.7ms\tremaining: 2.33s\n",
      "31:\tlearn: 0.0578497\ttotal: 77.5ms\tremaining: 2.34s\n",
      "32:\tlearn: 0.0573900\ttotal: 80.3ms\tremaining: 2.35s\n",
      "33:\tlearn: 0.0552287\ttotal: 82.4ms\tremaining: 2.34s\n",
      "34:\tlearn: 0.0544560\ttotal: 84.4ms\tremaining: 2.33s\n",
      "35:\tlearn: 0.0529845\ttotal: 86.7ms\tremaining: 2.32s\n",
      "36:\tlearn: 0.0521919\ttotal: 89.2ms\tremaining: 2.32s\n",
      "37:\tlearn: 0.0505883\ttotal: 91.4ms\tremaining: 2.31s\n",
      "38:\tlearn: 0.0499907\ttotal: 93.6ms\tremaining: 2.31s\n",
      "39:\tlearn: 0.0492128\ttotal: 95.6ms\tremaining: 2.29s\n",
      "40:\tlearn: 0.0483610\ttotal: 97.7ms\tremaining: 2.29s\n",
      "41:\tlearn: 0.0477423\ttotal: 100ms\tremaining: 2.29s\n",
      "42:\tlearn: 0.0472432\ttotal: 104ms\tremaining: 2.31s\n",
      "43:\tlearn: 0.0466037\ttotal: 106ms\tremaining: 2.31s\n",
      "44:\tlearn: 0.0460651\ttotal: 108ms\tremaining: 2.29s\n",
      "45:\tlearn: 0.0453535\ttotal: 110ms\tremaining: 2.29s\n",
      "46:\tlearn: 0.0447119\ttotal: 113ms\tremaining: 2.29s\n",
      "47:\tlearn: 0.0441907\ttotal: 115ms\tremaining: 2.29s\n",
      "48:\tlearn: 0.0433201\ttotal: 117ms\tremaining: 2.28s\n",
      "49:\tlearn: 0.0425312\ttotal: 119ms\tremaining: 2.27s\n",
      "50:\tlearn: 0.0422220\ttotal: 121ms\tremaining: 2.26s\n",
      "51:\tlearn: 0.0412308\ttotal: 123ms\tremaining: 2.25s\n",
      "52:\tlearn: 0.0408255\ttotal: 126ms\tremaining: 2.25s\n",
      "53:\tlearn: 0.0404125\ttotal: 130ms\tremaining: 2.27s\n",
      "54:\tlearn: 0.0401080\ttotal: 132ms\tremaining: 2.27s\n",
      "55:\tlearn: 0.0395782\ttotal: 134ms\tremaining: 2.26s\n",
      "56:\tlearn: 0.0392575\ttotal: 136ms\tremaining: 2.25s\n",
      "57:\tlearn: 0.0390648\ttotal: 139ms\tremaining: 2.26s\n",
      "58:\tlearn: 0.0386932\ttotal: 141ms\tremaining: 2.25s\n",
      "59:\tlearn: 0.0384202\ttotal: 143ms\tremaining: 2.25s\n",
      "60:\tlearn: 0.0377615\ttotal: 145ms\tremaining: 2.24s\n",
      "61:\tlearn: 0.0374140\ttotal: 147ms\tremaining: 2.23s\n",
      "62:\tlearn: 0.0372581\ttotal: 152ms\tremaining: 2.25s\n",
      "63:\tlearn: 0.0369419\ttotal: 155ms\tremaining: 2.26s\n",
      "64:\tlearn: 0.0364398\ttotal: 157ms\tremaining: 2.25s\n",
      "65:\tlearn: 0.0360534\ttotal: 159ms\tremaining: 2.25s\n",
      "66:\tlearn: 0.0359011\ttotal: 161ms\tremaining: 2.24s\n",
      "67:\tlearn: 0.0354995\ttotal: 163ms\tremaining: 2.23s\n",
      "68:\tlearn: 0.0347383\ttotal: 166ms\tremaining: 2.23s\n",
      "69:\tlearn: 0.0344920\ttotal: 168ms\tremaining: 2.23s\n",
      "70:\tlearn: 0.0337682\ttotal: 170ms\tremaining: 2.22s\n",
      "71:\tlearn: 0.0336007\ttotal: 172ms\tremaining: 2.22s\n",
      "72:\tlearn: 0.0334104\ttotal: 175ms\tremaining: 2.22s\n",
      "73:\tlearn: 0.0331854\ttotal: 178ms\tremaining: 2.22s\n",
      "74:\tlearn: 0.0326810\ttotal: 180ms\tremaining: 2.22s\n",
      "75:\tlearn: 0.0325091\ttotal: 182ms\tremaining: 2.21s\n",
      "76:\tlearn: 0.0323431\ttotal: 184ms\tremaining: 2.21s\n",
      "77:\tlearn: 0.0321441\ttotal: 186ms\tremaining: 2.2s\n",
      "78:\tlearn: 0.0316324\ttotal: 189ms\tremaining: 2.2s\n",
      "79:\tlearn: 0.0314851\ttotal: 191ms\tremaining: 2.2s\n",
      "80:\tlearn: 0.0312670\ttotal: 193ms\tremaining: 2.19s\n",
      "81:\tlearn: 0.0311697\ttotal: 195ms\tremaining: 2.19s\n",
      "82:\tlearn: 0.0307021\ttotal: 197ms\tremaining: 2.18s\n",
      "83:\tlearn: 0.0304905\ttotal: 200ms\tremaining: 2.17s\n",
      "84:\tlearn: 0.0303415\ttotal: 202ms\tremaining: 2.18s\n",
      "85:\tlearn: 0.0301312\ttotal: 205ms\tremaining: 2.18s\n",
      "86:\tlearn: 0.0296107\ttotal: 208ms\tremaining: 2.18s\n",
      "87:\tlearn: 0.0294990\ttotal: 210ms\tremaining: 2.17s\n",
      "88:\tlearn: 0.0292059\ttotal: 212ms\tremaining: 2.17s\n",
      "89:\tlearn: 0.0290147\ttotal: 214ms\tremaining: 2.16s\n",
      "90:\tlearn: 0.0288349\ttotal: 217ms\tremaining: 2.16s\n",
      "91:\tlearn: 0.0286671\ttotal: 219ms\tremaining: 2.16s\n",
      "92:\tlearn: 0.0285836\ttotal: 220ms\tremaining: 2.15s\n",
      "93:\tlearn: 0.0283925\ttotal: 222ms\tremaining: 2.14s\n",
      "94:\tlearn: 0.0281611\ttotal: 225ms\tremaining: 2.14s\n",
      "95:\tlearn: 0.0280685\ttotal: 228ms\tremaining: 2.14s\n",
      "96:\tlearn: 0.0279867\ttotal: 230ms\tremaining: 2.14s\n",
      "97:\tlearn: 0.0277896\ttotal: 232ms\tremaining: 2.14s\n",
      "98:\tlearn: 0.0276222\ttotal: 234ms\tremaining: 2.13s\n",
      "99:\tlearn: 0.0275290\ttotal: 236ms\tremaining: 2.13s\n",
      "100:\tlearn: 0.0273501\ttotal: 239ms\tremaining: 2.12s\n",
      "101:\tlearn: 0.0272879\ttotal: 242ms\tremaining: 2.13s\n",
      "102:\tlearn: 0.0271559\ttotal: 244ms\tremaining: 2.12s\n",
      "103:\tlearn: 0.0267868\ttotal: 246ms\tremaining: 2.12s\n",
      "104:\tlearn: 0.0267638\ttotal: 248ms\tremaining: 2.12s\n",
      "105:\tlearn: 0.0266350\ttotal: 251ms\tremaining: 2.12s\n",
      "106:\tlearn: 0.0264669\ttotal: 255ms\tremaining: 2.13s\n",
      "107:\tlearn: 0.0263977\ttotal: 257ms\tremaining: 2.12s\n",
      "108:\tlearn: 0.0262674\ttotal: 259ms\tremaining: 2.12s\n",
      "109:\tlearn: 0.0261657\ttotal: 261ms\tremaining: 2.12s\n",
      "110:\tlearn: 0.0260787\ttotal: 264ms\tremaining: 2.11s\n",
      "111:\tlearn: 0.0259209\ttotal: 266ms\tremaining: 2.11s\n",
      "112:\tlearn: 0.0257717\ttotal: 268ms\tremaining: 2.11s\n",
      "113:\tlearn: 0.0257716\ttotal: 270ms\tremaining: 2.1s\n",
      "114:\tlearn: 0.0256587\ttotal: 272ms\tremaining: 2.1s\n",
      "115:\tlearn: 0.0254801\ttotal: 276ms\tremaining: 2.11s\n",
      "116:\tlearn: 0.0253893\ttotal: 280ms\tremaining: 2.11s\n",
      "117:\tlearn: 0.0253235\ttotal: 282ms\tremaining: 2.1s\n",
      "118:\tlearn: 0.0252091\ttotal: 284ms\tremaining: 2.1s\n",
      "119:\tlearn: 0.0251376\ttotal: 286ms\tremaining: 2.1s\n",
      "120:\tlearn: 0.0250671\ttotal: 288ms\tremaining: 2.09s\n",
      "121:\tlearn: 0.0249955\ttotal: 291ms\tremaining: 2.09s\n",
      "122:\tlearn: 0.0249665\ttotal: 293ms\tremaining: 2.09s\n",
      "123:\tlearn: 0.0249660\ttotal: 296ms\tremaining: 2.09s\n",
      "124:\tlearn: 0.0248862\ttotal: 298ms\tremaining: 2.09s\n",
      "125:\tlearn: 0.0248714\ttotal: 300ms\tremaining: 2.08s\n",
      "126:\tlearn: 0.0248013\ttotal: 302ms\tremaining: 2.08s\n",
      "127:\tlearn: 0.0245862\ttotal: 305ms\tremaining: 2.08s\n",
      "128:\tlearn: 0.0245860\ttotal: 308ms\tremaining: 2.08s\n",
      "129:\tlearn: 0.0244692\ttotal: 310ms\tremaining: 2.07s\n",
      "130:\tlearn: 0.0244052\ttotal: 312ms\tremaining: 2.07s\n",
      "131:\tlearn: 0.0242396\ttotal: 315ms\tremaining: 2.07s\n",
      "132:\tlearn: 0.0242016\ttotal: 318ms\tremaining: 2.08s\n",
      "133:\tlearn: 0.0242014\ttotal: 321ms\tremaining: 2.07s\n",
      "134:\tlearn: 0.0241903\ttotal: 322ms\tremaining: 2.07s\n",
      "135:\tlearn: 0.0241646\ttotal: 324ms\tremaining: 2.06s\n",
      "136:\tlearn: 0.0241141\ttotal: 326ms\tremaining: 2.05s\n",
      "137:\tlearn: 0.0239643\ttotal: 328ms\tremaining: 2.05s\n",
      "138:\tlearn: 0.0239642\ttotal: 330ms\tremaining: 2.05s\n",
      "139:\tlearn: 0.0238770\ttotal: 333ms\tremaining: 2.04s\n",
      "140:\tlearn: 0.0238768\ttotal: 334ms\tremaining: 2.04s\n",
      "141:\tlearn: 0.0238357\ttotal: 336ms\tremaining: 2.03s\n",
      "142:\tlearn: 0.0238356\ttotal: 339ms\tremaining: 2.03s\n",
      "143:\tlearn: 0.0237120\ttotal: 342ms\tremaining: 2.04s\n",
      "144:\tlearn: 0.0236198\ttotal: 345ms\tremaining: 2.03s\n",
      "145:\tlearn: 0.0235321\ttotal: 347ms\tremaining: 2.03s\n",
      "146:\tlearn: 0.0234564\ttotal: 349ms\tremaining: 2.02s\n",
      "147:\tlearn: 0.0234046\ttotal: 351ms\tremaining: 2.02s\n",
      "148:\tlearn: 0.0234045\ttotal: 353ms\tremaining: 2.01s\n",
      "149:\tlearn: 0.0234045\ttotal: 355ms\tremaining: 2.01s\n",
      "150:\tlearn: 0.0234045\ttotal: 357ms\tremaining: 2s\n",
      "151:\tlearn: 0.0234045\ttotal: 360ms\tremaining: 2.01s\n",
      "152:\tlearn: 0.0234045\ttotal: 362ms\tremaining: 2s\n",
      "153:\tlearn: 0.0234045\ttotal: 363ms\tremaining: 2s\n",
      "154:\tlearn: 0.0234044\ttotal: 366ms\tremaining: 1.99s\n",
      "155:\tlearn: 0.0234045\ttotal: 368ms\tremaining: 1.99s\n",
      "156:\tlearn: 0.0234044\ttotal: 370ms\tremaining: 1.98s\n",
      "157:\tlearn: 0.0234044\ttotal: 371ms\tremaining: 1.98s\n",
      "158:\tlearn: 0.0234044\ttotal: 373ms\tremaining: 1.97s\n",
      "159:\tlearn: 0.0234044\ttotal: 375ms\tremaining: 1.97s\n",
      "160:\tlearn: 0.0234044\ttotal: 376ms\tremaining: 1.96s\n",
      "161:\tlearn: 0.0234042\ttotal: 380ms\tremaining: 1.97s\n",
      "162:\tlearn: 0.0234042\ttotal: 383ms\tremaining: 1.97s\n",
      "163:\tlearn: 0.0234042\ttotal: 385ms\tremaining: 1.96s\n",
      "164:\tlearn: 0.0234042\ttotal: 387ms\tremaining: 1.96s\n",
      "165:\tlearn: 0.0234041\ttotal: 388ms\tremaining: 1.95s\n",
      "166:\tlearn: 0.0234040\ttotal: 390ms\tremaining: 1.95s\n",
      "167:\tlearn: 0.0234040\ttotal: 392ms\tremaining: 1.94s\n",
      "168:\tlearn: 0.0234040\ttotal: 394ms\tremaining: 1.94s\n",
      "169:\tlearn: 0.0234040\ttotal: 396ms\tremaining: 1.93s\n",
      "170:\tlearn: 0.0234040\ttotal: 398ms\tremaining: 1.93s\n",
      "171:\tlearn: 0.0233894\ttotal: 399ms\tremaining: 1.92s\n",
      "172:\tlearn: 0.0233520\ttotal: 405ms\tremaining: 1.94s\n",
      "173:\tlearn: 0.0233519\ttotal: 407ms\tremaining: 1.93s\n",
      "174:\tlearn: 0.0232334\ttotal: 409ms\tremaining: 1.93s\n",
      "175:\tlearn: 0.0231756\ttotal: 411ms\tremaining: 1.92s\n",
      "176:\tlearn: 0.0230935\ttotal: 413ms\tremaining: 1.92s\n",
      "177:\tlearn: 0.0230935\ttotal: 415ms\tremaining: 1.91s\n",
      "178:\tlearn: 0.0230932\ttotal: 417ms\tremaining: 1.91s\n",
      "179:\tlearn: 0.0230931\ttotal: 419ms\tremaining: 1.91s\n",
      "180:\tlearn: 0.0230615\ttotal: 421ms\tremaining: 1.9s\n",
      "181:\tlearn: 0.0230097\ttotal: 424ms\tremaining: 1.91s\n",
      "182:\tlearn: 0.0229323\ttotal: 426ms\tremaining: 1.9s\n",
      "183:\tlearn: 0.0229324\ttotal: 428ms\tremaining: 1.9s\n",
      "184:\tlearn: 0.0229323\ttotal: 430ms\tremaining: 1.89s\n",
      "185:\tlearn: 0.0229323\ttotal: 431ms\tremaining: 1.89s\n",
      "186:\tlearn: 0.0229323\ttotal: 433ms\tremaining: 1.88s\n",
      "187:\tlearn: 0.0229324\ttotal: 434ms\tremaining: 1.87s\n",
      "188:\tlearn: 0.0229323\ttotal: 435ms\tremaining: 1.87s\n",
      "189:\tlearn: 0.0229323\ttotal: 437ms\tremaining: 1.86s\n",
      "190:\tlearn: 0.0229322\ttotal: 438ms\tremaining: 1.85s\n",
      "191:\tlearn: 0.0229321\ttotal: 439ms\tremaining: 1.85s\n",
      "192:\tlearn: 0.0229320\ttotal: 441ms\tremaining: 1.84s\n",
      "193:\tlearn: 0.0229319\ttotal: 443ms\tremaining: 1.84s\n",
      "194:\tlearn: 0.0229318\ttotal: 445ms\tremaining: 1.84s\n",
      "195:\tlearn: 0.0229318\ttotal: 447ms\tremaining: 1.83s\n",
      "196:\tlearn: 0.0229317\ttotal: 449ms\tremaining: 1.83s\n",
      "197:\tlearn: 0.0229317\ttotal: 450ms\tremaining: 1.82s\n",
      "198:\tlearn: 0.0229316\ttotal: 451ms\tremaining: 1.82s\n",
      "199:\tlearn: 0.0229316\ttotal: 453ms\tremaining: 1.81s\n",
      "200:\tlearn: 0.0229316\ttotal: 454ms\tremaining: 1.81s\n",
      "201:\tlearn: 0.0229313\ttotal: 456ms\tremaining: 1.8s\n",
      "202:\tlearn: 0.0229313\ttotal: 458ms\tremaining: 1.8s\n",
      "203:\tlearn: 0.0229313\ttotal: 459ms\tremaining: 1.79s\n",
      "204:\tlearn: 0.0229313\ttotal: 461ms\tremaining: 1.79s\n",
      "205:\tlearn: 0.0228798\ttotal: 463ms\tremaining: 1.78s\n",
      "206:\tlearn: 0.0228796\ttotal: 467ms\tremaining: 1.79s\n",
      "207:\tlearn: 0.0228795\ttotal: 470ms\tremaining: 1.79s\n",
      "208:\tlearn: 0.0228793\ttotal: 472ms\tremaining: 1.78s\n",
      "209:\tlearn: 0.0228792\ttotal: 474ms\tremaining: 1.78s\n",
      "210:\tlearn: 0.0228306\ttotal: 476ms\tremaining: 1.78s\n",
      "211:\tlearn: 0.0228306\ttotal: 477ms\tremaining: 1.77s\n",
      "212:\tlearn: 0.0228307\ttotal: 480ms\tremaining: 1.77s\n",
      "213:\tlearn: 0.0228305\ttotal: 482ms\tremaining: 1.77s\n",
      "214:\tlearn: 0.0228305\ttotal: 484ms\tremaining: 1.77s\n",
      "215:\tlearn: 0.0228304\ttotal: 488ms\tremaining: 1.77s\n",
      "216:\tlearn: 0.0228303\ttotal: 489ms\tremaining: 1.76s\n",
      "217:\tlearn: 0.0228302\ttotal: 492ms\tremaining: 1.76s\n",
      "218:\tlearn: 0.0228300\ttotal: 494ms\tremaining: 1.76s\n",
      "219:\tlearn: 0.0228292\ttotal: 496ms\tremaining: 1.76s\n",
      "220:\tlearn: 0.0228284\ttotal: 498ms\tremaining: 1.76s\n",
      "221:\tlearn: 0.0227632\ttotal: 500ms\tremaining: 1.75s\n",
      "222:\tlearn: 0.0227019\ttotal: 502ms\tremaining: 1.75s\n",
      "223:\tlearn: 0.0225985\ttotal: 505ms\tremaining: 1.75s\n",
      "224:\tlearn: 0.0225982\ttotal: 507ms\tremaining: 1.75s\n",
      "225:\tlearn: 0.0225624\ttotal: 509ms\tremaining: 1.74s\n",
      "226:\tlearn: 0.0224551\ttotal: 511ms\tremaining: 1.74s\n",
      "227:\tlearn: 0.0224549\ttotal: 513ms\tremaining: 1.74s\n",
      "228:\tlearn: 0.0224546\ttotal: 515ms\tremaining: 1.73s\n",
      "229:\tlearn: 0.0224546\ttotal: 518ms\tremaining: 1.73s\n",
      "230:\tlearn: 0.0224546\ttotal: 520ms\tremaining: 1.73s\n",
      "231:\tlearn: 0.0224543\ttotal: 522ms\tremaining: 1.73s\n",
      "232:\tlearn: 0.0224541\ttotal: 524ms\tremaining: 1.72s\n",
      "233:\tlearn: 0.0224541\ttotal: 526ms\tremaining: 1.72s\n",
      "234:\tlearn: 0.0224540\ttotal: 527ms\tremaining: 1.72s\n",
      "235:\tlearn: 0.0224539\ttotal: 530ms\tremaining: 1.71s\n",
      "236:\tlearn: 0.0224533\ttotal: 532ms\tremaining: 1.71s\n",
      "237:\tlearn: 0.0224532\ttotal: 534ms\tremaining: 1.71s\n",
      "238:\tlearn: 0.0224532\ttotal: 537ms\tremaining: 1.71s\n",
      "239:\tlearn: 0.0223979\ttotal: 540ms\tremaining: 1.71s\n",
      "240:\tlearn: 0.0223658\ttotal: 542ms\tremaining: 1.71s\n",
      "241:\tlearn: 0.0223656\ttotal: 544ms\tremaining: 1.7s\n",
      "242:\tlearn: 0.0223653\ttotal: 546ms\tremaining: 1.7s\n",
      "243:\tlearn: 0.0223652\ttotal: 547ms\tremaining: 1.7s\n",
      "244:\tlearn: 0.0223651\ttotal: 549ms\tremaining: 1.69s\n",
      "245:\tlearn: 0.0223649\ttotal: 551ms\tremaining: 1.69s\n",
      "246:\tlearn: 0.0223648\ttotal: 553ms\tremaining: 1.69s\n",
      "247:\tlearn: 0.0223648\ttotal: 556ms\tremaining: 1.68s\n",
      "248:\tlearn: 0.0223648\ttotal: 560ms\tremaining: 1.69s\n",
      "249:\tlearn: 0.0223646\ttotal: 562ms\tremaining: 1.68s\n",
      "250:\tlearn: 0.0223645\ttotal: 563ms\tremaining: 1.68s\n",
      "251:\tlearn: 0.0223645\ttotal: 566ms\tremaining: 1.68s\n",
      "252:\tlearn: 0.0223643\ttotal: 568ms\tremaining: 1.68s\n",
      "253:\tlearn: 0.0223640\ttotal: 570ms\tremaining: 1.67s\n",
      "254:\tlearn: 0.0223638\ttotal: 572ms\tremaining: 1.67s\n",
      "255:\tlearn: 0.0223637\ttotal: 574ms\tremaining: 1.67s\n",
      "256:\tlearn: 0.0223593\ttotal: 575ms\tremaining: 1.66s\n",
      "257:\tlearn: 0.0223592\ttotal: 577ms\tremaining: 1.66s\n",
      "258:\tlearn: 0.0223590\ttotal: 581ms\tremaining: 1.66s\n",
      "259:\tlearn: 0.0223454\ttotal: 583ms\tremaining: 1.66s\n",
      "260:\tlearn: 0.0223453\ttotal: 585ms\tremaining: 1.66s\n",
      "261:\tlearn: 0.0223452\ttotal: 587ms\tremaining: 1.65s\n",
      "262:\tlearn: 0.0223446\ttotal: 589ms\tremaining: 1.65s\n",
      "263:\tlearn: 0.0223446\ttotal: 591ms\tremaining: 1.65s\n",
      "264:\tlearn: 0.0223446\ttotal: 594ms\tremaining: 1.65s\n",
      "265:\tlearn: 0.0223444\ttotal: 596ms\tremaining: 1.64s\n",
      "266:\tlearn: 0.0223444\ttotal: 598ms\tremaining: 1.64s\n",
      "267:\tlearn: 0.0223442\ttotal: 600ms\tremaining: 1.64s\n",
      "268:\tlearn: 0.0223442\ttotal: 603ms\tremaining: 1.64s\n",
      "269:\tlearn: 0.0223442\ttotal: 605ms\tremaining: 1.64s\n",
      "270:\tlearn: 0.0223442\ttotal: 607ms\tremaining: 1.63s\n",
      "271:\tlearn: 0.0223442\ttotal: 609ms\tremaining: 1.63s\n",
      "272:\tlearn: 0.0223441\ttotal: 611ms\tremaining: 1.63s\n",
      "273:\tlearn: 0.0223440\ttotal: 612ms\tremaining: 1.62s\n",
      "274:\tlearn: 0.0223439\ttotal: 614ms\tremaining: 1.62s\n",
      "275:\tlearn: 0.0223436\ttotal: 616ms\tremaining: 1.62s\n",
      "276:\tlearn: 0.0223431\ttotal: 618ms\tremaining: 1.61s\n",
      "277:\tlearn: 0.0223430\ttotal: 622ms\tremaining: 1.61s\n",
      "278:\tlearn: 0.0223430\ttotal: 624ms\tremaining: 1.61s\n",
      "279:\tlearn: 0.0223429\ttotal: 626ms\tremaining: 1.61s\n",
      "280:\tlearn: 0.0223428\ttotal: 628ms\tremaining: 1.61s\n",
      "281:\tlearn: 0.0223427\ttotal: 631ms\tremaining: 1.6s\n",
      "282:\tlearn: 0.0222779\ttotal: 633ms\tremaining: 1.6s\n",
      "283:\tlearn: 0.0222778\ttotal: 635ms\tremaining: 1.6s\n",
      "284:\tlearn: 0.0222776\ttotal: 637ms\tremaining: 1.6s\n",
      "285:\tlearn: 0.0222774\ttotal: 639ms\tremaining: 1.59s\n",
      "286:\tlearn: 0.0222365\ttotal: 641ms\tremaining: 1.59s\n",
      "287:\tlearn: 0.0222054\ttotal: 643ms\tremaining: 1.59s\n",
      "288:\tlearn: 0.0222052\ttotal: 645ms\tremaining: 1.59s\n",
      "289:\tlearn: 0.0221634\ttotal: 648ms\tremaining: 1.58s\n",
      "290:\tlearn: 0.0221633\ttotal: 649ms\tremaining: 1.58s\n",
      "291:\tlearn: 0.0221632\ttotal: 651ms\tremaining: 1.58s\n",
      "292:\tlearn: 0.0221630\ttotal: 653ms\tremaining: 1.57s\n",
      "293:\tlearn: 0.0221207\ttotal: 656ms\tremaining: 1.57s\n",
      "294:\tlearn: 0.0221204\ttotal: 658ms\tremaining: 1.57s\n",
      "295:\tlearn: 0.0221201\ttotal: 660ms\tremaining: 1.57s\n",
      "296:\tlearn: 0.0221198\ttotal: 663ms\tremaining: 1.57s\n",
      "297:\tlearn: 0.0221197\ttotal: 665ms\tremaining: 1.57s\n",
      "298:\tlearn: 0.0221196\ttotal: 667ms\tremaining: 1.56s\n",
      "299:\tlearn: 0.0221178\ttotal: 669ms\tremaining: 1.56s\n",
      "300:\tlearn: 0.0221171\ttotal: 671ms\tremaining: 1.56s\n",
      "301:\tlearn: 0.0221170\ttotal: 673ms\tremaining: 1.55s\n",
      "302:\tlearn: 0.0221170\ttotal: 675ms\tremaining: 1.55s\n",
      "303:\tlearn: 0.0221167\ttotal: 676ms\tremaining: 1.55s\n",
      "304:\tlearn: 0.0221167\ttotal: 678ms\tremaining: 1.54s\n",
      "305:\tlearn: 0.0221167\ttotal: 681ms\tremaining: 1.54s\n",
      "306:\tlearn: 0.0221165\ttotal: 683ms\tremaining: 1.54s\n",
      "307:\tlearn: 0.0221164\ttotal: 686ms\tremaining: 1.54s\n",
      "308:\tlearn: 0.0221165\ttotal: 688ms\tremaining: 1.54s\n",
      "309:\tlearn: 0.0221164\ttotal: 689ms\tremaining: 1.53s\n",
      "310:\tlearn: 0.0221164\ttotal: 692ms\tremaining: 1.53s\n",
      "311:\tlearn: 0.0221164\ttotal: 694ms\tremaining: 1.53s\n",
      "312:\tlearn: 0.0221162\ttotal: 696ms\tremaining: 1.53s\n",
      "313:\tlearn: 0.0221161\ttotal: 698ms\tremaining: 1.52s\n",
      "314:\tlearn: 0.0220876\ttotal: 699ms\tremaining: 1.52s\n",
      "315:\tlearn: 0.0220874\ttotal: 701ms\tremaining: 1.52s\n",
      "316:\tlearn: 0.0220875\ttotal: 703ms\tremaining: 1.51s\n",
      "317:\tlearn: 0.0220873\ttotal: 706ms\tremaining: 1.51s\n",
      "318:\tlearn: 0.0220869\ttotal: 709ms\tremaining: 1.51s\n",
      "319:\tlearn: 0.0220869\ttotal: 710ms\tremaining: 1.51s\n",
      "320:\tlearn: 0.0220869\ttotal: 712ms\tremaining: 1.51s\n",
      "321:\tlearn: 0.0220869\ttotal: 714ms\tremaining: 1.5s\n",
      "322:\tlearn: 0.0220867\ttotal: 715ms\tremaining: 1.5s\n",
      "323:\tlearn: 0.0220866\ttotal: 718ms\tremaining: 1.5s\n",
      "324:\tlearn: 0.0220865\ttotal: 719ms\tremaining: 1.49s\n",
      "325:\tlearn: 0.0220865\ttotal: 721ms\tremaining: 1.49s\n",
      "326:\tlearn: 0.0220864\ttotal: 723ms\tremaining: 1.49s\n",
      "327:\tlearn: 0.0220863\ttotal: 725ms\tremaining: 1.49s\n",
      "328:\tlearn: 0.0220862\ttotal: 727ms\tremaining: 1.48s\n",
      "329:\tlearn: 0.0220862\ttotal: 729ms\tremaining: 1.48s\n",
      "330:\tlearn: 0.0220860\ttotal: 731ms\tremaining: 1.48s\n",
      "331:\tlearn: 0.0220838\ttotal: 733ms\tremaining: 1.48s\n",
      "332:\tlearn: 0.0220836\ttotal: 735ms\tremaining: 1.47s\n",
      "333:\tlearn: 0.0220835\ttotal: 736ms\tremaining: 1.47s\n",
      "334:\tlearn: 0.0220833\ttotal: 738ms\tremaining: 1.47s\n",
      "335:\tlearn: 0.0220833\ttotal: 740ms\tremaining: 1.46s\n",
      "336:\tlearn: 0.0220831\ttotal: 742ms\tremaining: 1.46s\n",
      "337:\tlearn: 0.0220830\ttotal: 745ms\tremaining: 1.46s\n",
      "338:\tlearn: 0.0220829\ttotal: 747ms\tremaining: 1.46s\n",
      "339:\tlearn: 0.0220827\ttotal: 748ms\tremaining: 1.45s\n",
      "340:\tlearn: 0.0220824\ttotal: 750ms\tremaining: 1.45s\n",
      "341:\tlearn: 0.0220824\ttotal: 752ms\tremaining: 1.45s\n",
      "342:\tlearn: 0.0220824\ttotal: 753ms\tremaining: 1.44s\n",
      "343:\tlearn: 0.0220823\ttotal: 756ms\tremaining: 1.44s\n",
      "344:\tlearn: 0.0220814\ttotal: 758ms\tremaining: 1.44s\n",
      "345:\tlearn: 0.0220813\ttotal: 760ms\tremaining: 1.44s\n",
      "346:\tlearn: 0.0220813\ttotal: 762ms\tremaining: 1.43s\n",
      "347:\tlearn: 0.0220811\ttotal: 764ms\tremaining: 1.43s\n",
      "348:\tlearn: 0.0220810\ttotal: 765ms\tremaining: 1.43s\n",
      "349:\tlearn: 0.0220809\ttotal: 767ms\tremaining: 1.43s\n",
      "350:\tlearn: 0.0220808\ttotal: 769ms\tremaining: 1.42s\n",
      "351:\tlearn: 0.0220807\ttotal: 771ms\tremaining: 1.42s\n",
      "352:\tlearn: 0.0220806\ttotal: 773ms\tremaining: 1.42s\n",
      "353:\tlearn: 0.0220788\ttotal: 775ms\tremaining: 1.41s\n",
      "354:\tlearn: 0.0220788\ttotal: 777ms\tremaining: 1.41s\n",
      "355:\tlearn: 0.0220787\ttotal: 778ms\tremaining: 1.41s\n",
      "356:\tlearn: 0.0220786\ttotal: 780ms\tremaining: 1.41s\n",
      "357:\tlearn: 0.0220785\ttotal: 783ms\tremaining: 1.4s\n",
      "358:\tlearn: 0.0220779\ttotal: 785ms\tremaining: 1.4s\n",
      "359:\tlearn: 0.0220778\ttotal: 787ms\tremaining: 1.4s\n",
      "360:\tlearn: 0.0220776\ttotal: 789ms\tremaining: 1.4s\n",
      "361:\tlearn: 0.0220775\ttotal: 790ms\tremaining: 1.39s\n",
      "362:\tlearn: 0.0220774\ttotal: 792ms\tremaining: 1.39s\n",
      "363:\tlearn: 0.0220773\ttotal: 795ms\tremaining: 1.39s\n",
      "364:\tlearn: 0.0220773\ttotal: 796ms\tremaining: 1.39s\n",
      "365:\tlearn: 0.0220771\ttotal: 798ms\tremaining: 1.38s\n",
      "366:\tlearn: 0.0220771\ttotal: 800ms\tremaining: 1.38s\n",
      "367:\tlearn: 0.0220644\ttotal: 802ms\tremaining: 1.38s\n",
      "368:\tlearn: 0.0220643\ttotal: 804ms\tremaining: 1.37s\n",
      "369:\tlearn: 0.0220642\ttotal: 806ms\tremaining: 1.37s\n",
      "370:\tlearn: 0.0220642\ttotal: 808ms\tremaining: 1.37s\n",
      "371:\tlearn: 0.0219790\ttotal: 810ms\tremaining: 1.37s\n",
      "372:\tlearn: 0.0219245\ttotal: 812ms\tremaining: 1.36s\n",
      "373:\tlearn: 0.0219244\ttotal: 814ms\tremaining: 1.36s\n",
      "374:\tlearn: 0.0219244\ttotal: 816ms\tremaining: 1.36s\n",
      "375:\tlearn: 0.0219244\ttotal: 818ms\tremaining: 1.36s\n",
      "376:\tlearn: 0.0219243\ttotal: 820ms\tremaining: 1.35s\n",
      "377:\tlearn: 0.0219243\ttotal: 823ms\tremaining: 1.35s\n",
      "378:\tlearn: 0.0219241\ttotal: 824ms\tremaining: 1.35s\n",
      "379:\tlearn: 0.0219240\ttotal: 826ms\tremaining: 1.35s\n",
      "380:\tlearn: 0.0219240\ttotal: 828ms\tremaining: 1.34s\n",
      "381:\tlearn: 0.0219240\ttotal: 830ms\tremaining: 1.34s\n",
      "382:\tlearn: 0.0219239\ttotal: 832ms\tremaining: 1.34s\n",
      "383:\tlearn: 0.0219239\ttotal: 834ms\tremaining: 1.34s\n",
      "384:\tlearn: 0.0219239\ttotal: 836ms\tremaining: 1.33s\n",
      "385:\tlearn: 0.0219237\ttotal: 838ms\tremaining: 1.33s\n",
      "386:\tlearn: 0.0219236\ttotal: 840ms\tremaining: 1.33s\n",
      "387:\tlearn: 0.0219236\ttotal: 843ms\tremaining: 1.33s\n",
      "388:\tlearn: 0.0219235\ttotal: 845ms\tremaining: 1.33s\n",
      "389:\tlearn: 0.0219236\ttotal: 847ms\tremaining: 1.32s\n",
      "390:\tlearn: 0.0219235\ttotal: 848ms\tremaining: 1.32s\n",
      "391:\tlearn: 0.0219234\ttotal: 850ms\tremaining: 1.32s\n",
      "392:\tlearn: 0.0219233\ttotal: 852ms\tremaining: 1.31s\n",
      "393:\tlearn: 0.0219232\ttotal: 854ms\tremaining: 1.31s\n",
      "394:\tlearn: 0.0219232\ttotal: 856ms\tremaining: 1.31s\n",
      "395:\tlearn: 0.0219231\ttotal: 858ms\tremaining: 1.31s\n",
      "396:\tlearn: 0.0219231\ttotal: 860ms\tremaining: 1.31s\n",
      "397:\tlearn: 0.0219230\ttotal: 863ms\tremaining: 1.3s\n",
      "398:\tlearn: 0.0219228\ttotal: 865ms\tremaining: 1.3s\n",
      "399:\tlearn: 0.0219226\ttotal: 868ms\tremaining: 1.3s\n",
      "400:\tlearn: 0.0219225\ttotal: 870ms\tremaining: 1.3s\n",
      "401:\tlearn: 0.0219224\ttotal: 872ms\tremaining: 1.3s\n",
      "402:\tlearn: 0.0219223\ttotal: 874ms\tremaining: 1.29s\n",
      "403:\tlearn: 0.0219223\ttotal: 876ms\tremaining: 1.29s\n",
      "404:\tlearn: 0.0219223\ttotal: 878ms\tremaining: 1.29s\n",
      "405:\tlearn: 0.0219222\ttotal: 881ms\tremaining: 1.29s\n",
      "406:\tlearn: 0.0219221\ttotal: 883ms\tremaining: 1.29s\n",
      "407:\tlearn: 0.0219220\ttotal: 886ms\tremaining: 1.28s\n",
      "408:\tlearn: 0.0219219\ttotal: 888ms\tremaining: 1.28s\n",
      "409:\tlearn: 0.0219216\ttotal: 890ms\tremaining: 1.28s\n",
      "410:\tlearn: 0.0219216\ttotal: 891ms\tremaining: 1.28s\n",
      "411:\tlearn: 0.0219007\ttotal: 894ms\tremaining: 1.27s\n",
      "412:\tlearn: 0.0219007\ttotal: 896ms\tremaining: 1.27s\n",
      "413:\tlearn: 0.0219006\ttotal: 897ms\tremaining: 1.27s\n",
      "414:\tlearn: 0.0218816\ttotal: 899ms\tremaining: 1.27s\n",
      "415:\tlearn: 0.0218420\ttotal: 901ms\tremaining: 1.26s\n",
      "416:\tlearn: 0.0217442\ttotal: 904ms\tremaining: 1.26s\n",
      "417:\tlearn: 0.0216052\ttotal: 908ms\tremaining: 1.26s\n",
      "418:\tlearn: 0.0216050\ttotal: 911ms\tremaining: 1.26s\n",
      "419:\tlearn: 0.0216049\ttotal: 912ms\tremaining: 1.26s\n",
      "420:\tlearn: 0.0216048\ttotal: 914ms\tremaining: 1.26s\n",
      "421:\tlearn: 0.0216048\ttotal: 916ms\tremaining: 1.25s\n",
      "422:\tlearn: 0.0216046\ttotal: 918ms\tremaining: 1.25s\n",
      "423:\tlearn: 0.0216046\ttotal: 920ms\tremaining: 1.25s\n",
      "424:\tlearn: 0.0216045\ttotal: 922ms\tremaining: 1.25s\n",
      "425:\tlearn: 0.0216045\ttotal: 925ms\tremaining: 1.25s\n",
      "426:\tlearn: 0.0216044\ttotal: 927ms\tremaining: 1.24s\n",
      "427:\tlearn: 0.0216044\ttotal: 929ms\tremaining: 1.24s\n",
      "428:\tlearn: 0.0216043\ttotal: 932ms\tremaining: 1.24s\n",
      "429:\tlearn: 0.0216042\ttotal: 934ms\tremaining: 1.24s\n",
      "430:\tlearn: 0.0216041\ttotal: 936ms\tremaining: 1.24s\n",
      "431:\tlearn: 0.0216039\ttotal: 937ms\tremaining: 1.23s\n",
      "432:\tlearn: 0.0216039\ttotal: 939ms\tremaining: 1.23s\n",
      "433:\tlearn: 0.0216038\ttotal: 941ms\tremaining: 1.23s\n",
      "434:\tlearn: 0.0216036\ttotal: 943ms\tremaining: 1.23s\n",
      "435:\tlearn: 0.0216034\ttotal: 946ms\tremaining: 1.22s\n",
      "436:\tlearn: 0.0216034\ttotal: 948ms\tremaining: 1.22s\n",
      "437:\tlearn: 0.0216033\ttotal: 950ms\tremaining: 1.22s\n",
      "438:\tlearn: 0.0216032\ttotal: 974ms\tremaining: 1.25s\n",
      "439:\tlearn: 0.0216031\ttotal: 977ms\tremaining: 1.24s\n",
      "440:\tlearn: 0.0216031\ttotal: 979ms\tremaining: 1.24s\n",
      "441:\tlearn: 0.0216028\ttotal: 985ms\tremaining: 1.24s\n",
      "442:\tlearn: 0.0216028\ttotal: 987ms\tremaining: 1.24s\n",
      "443:\tlearn: 0.0216027\ttotal: 989ms\tremaining: 1.24s\n",
      "444:\tlearn: 0.0216026\ttotal: 991ms\tremaining: 1.24s\n",
      "445:\tlearn: 0.0216025\ttotal: 993ms\tremaining: 1.23s\n",
      "446:\tlearn: 0.0216026\ttotal: 995ms\tremaining: 1.23s\n",
      "447:\tlearn: 0.0216022\ttotal: 998ms\tremaining: 1.23s\n",
      "448:\tlearn: 0.0216021\ttotal: 1s\tremaining: 1.23s\n",
      "449:\tlearn: 0.0216019\ttotal: 1s\tremaining: 1.23s\n",
      "450:\tlearn: 0.0216017\ttotal: 1s\tremaining: 1.22s\n",
      "451:\tlearn: 0.0216017\ttotal: 1.01s\tremaining: 1.22s\n",
      "452:\tlearn: 0.0216016\ttotal: 1.01s\tremaining: 1.22s\n",
      "453:\tlearn: 0.0216014\ttotal: 1.01s\tremaining: 1.22s\n",
      "454:\tlearn: 0.0216013\ttotal: 1.01s\tremaining: 1.21s\n",
      "455:\tlearn: 0.0216012\ttotal: 1.01s\tremaining: 1.21s\n",
      "456:\tlearn: 0.0216011\ttotal: 1.02s\tremaining: 1.21s\n",
      "457:\tlearn: 0.0216011\ttotal: 1.02s\tremaining: 1.21s\n",
      "458:\tlearn: 0.0216010\ttotal: 1.02s\tremaining: 1.21s\n",
      "459:\tlearn: 0.0216009\ttotal: 1.02s\tremaining: 1.2s\n",
      "460:\tlearn: 0.0216009\ttotal: 1.03s\tremaining: 1.2s\n",
      "461:\tlearn: 0.0216007\ttotal: 1.03s\tremaining: 1.2s\n",
      "462:\tlearn: 0.0216007\ttotal: 1.03s\tremaining: 1.2s\n",
      "463:\tlearn: 0.0216006\ttotal: 1.03s\tremaining: 1.19s\n",
      "464:\tlearn: 0.0216006\ttotal: 1.03s\tremaining: 1.19s\n",
      "465:\tlearn: 0.0216006\ttotal: 1.04s\tremaining: 1.19s\n",
      "466:\tlearn: 0.0216006\ttotal: 1.04s\tremaining: 1.19s\n",
      "467:\tlearn: 0.0216005\ttotal: 1.04s\tremaining: 1.19s\n",
      "468:\tlearn: 0.0216004\ttotal: 1.05s\tremaining: 1.18s\n",
      "469:\tlearn: 0.0216004\ttotal: 1.05s\tremaining: 1.18s\n",
      "470:\tlearn: 0.0216002\ttotal: 1.05s\tremaining: 1.18s\n",
      "471:\tlearn: 0.0216001\ttotal: 1.05s\tremaining: 1.18s\n",
      "472:\tlearn: 0.0216001\ttotal: 1.05s\tremaining: 1.18s\n",
      "473:\tlearn: 0.0216001\ttotal: 1.06s\tremaining: 1.17s\n",
      "474:\tlearn: 0.0216000\ttotal: 1.06s\tremaining: 1.17s\n",
      "475:\tlearn: 0.0216000\ttotal: 1.06s\tremaining: 1.17s\n",
      "476:\tlearn: 0.0215999\ttotal: 1.06s\tremaining: 1.17s\n",
      "477:\tlearn: 0.0215999\ttotal: 1.06s\tremaining: 1.16s\n",
      "478:\tlearn: 0.0215997\ttotal: 1.07s\tremaining: 1.16s\n",
      "479:\tlearn: 0.0215997\ttotal: 1.07s\tremaining: 1.16s\n",
      "480:\tlearn: 0.0215995\ttotal: 1.07s\tremaining: 1.16s\n",
      "481:\tlearn: 0.0215993\ttotal: 1.08s\tremaining: 1.16s\n",
      "482:\tlearn: 0.0215992\ttotal: 1.08s\tremaining: 1.16s\n",
      "483:\tlearn: 0.0215990\ttotal: 1.08s\tremaining: 1.15s\n",
      "484:\tlearn: 0.0215988\ttotal: 1.08s\tremaining: 1.15s\n",
      "485:\tlearn: 0.0215988\ttotal: 1.09s\tremaining: 1.15s\n",
      "486:\tlearn: 0.0215986\ttotal: 1.09s\tremaining: 1.15s\n",
      "487:\tlearn: 0.0215985\ttotal: 1.09s\tremaining: 1.14s\n",
      "488:\tlearn: 0.0215985\ttotal: 1.09s\tremaining: 1.14s\n",
      "489:\tlearn: 0.0215984\ttotal: 1.09s\tremaining: 1.14s\n",
      "490:\tlearn: 0.0215984\ttotal: 1.1s\tremaining: 1.14s\n",
      "491:\tlearn: 0.0215984\ttotal: 1.1s\tremaining: 1.14s\n",
      "492:\tlearn: 0.0215983\ttotal: 1.1s\tremaining: 1.13s\n",
      "493:\tlearn: 0.0215983\ttotal: 1.1s\tremaining: 1.13s\n",
      "494:\tlearn: 0.0215983\ttotal: 1.11s\tremaining: 1.13s\n",
      "495:\tlearn: 0.0215983\ttotal: 1.11s\tremaining: 1.13s\n",
      "496:\tlearn: 0.0215982\ttotal: 1.11s\tremaining: 1.12s\n",
      "497:\tlearn: 0.0215981\ttotal: 1.11s\tremaining: 1.12s\n",
      "498:\tlearn: 0.0215981\ttotal: 1.11s\tremaining: 1.12s\n",
      "499:\tlearn: 0.0215981\ttotal: 1.12s\tremaining: 1.12s\n",
      "500:\tlearn: 0.0215981\ttotal: 1.12s\tremaining: 1.11s\n",
      "501:\tlearn: 0.0215980\ttotal: 1.12s\tremaining: 1.11s\n",
      "502:\tlearn: 0.0215980\ttotal: 1.12s\tremaining: 1.11s\n",
      "503:\tlearn: 0.0215978\ttotal: 1.13s\tremaining: 1.11s\n",
      "504:\tlearn: 0.0215977\ttotal: 1.13s\tremaining: 1.11s\n",
      "505:\tlearn: 0.0215977\ttotal: 1.13s\tremaining: 1.1s\n",
      "506:\tlearn: 0.0215976\ttotal: 1.13s\tremaining: 1.1s\n",
      "507:\tlearn: 0.0215975\ttotal: 1.13s\tremaining: 1.1s\n",
      "508:\tlearn: 0.0215975\ttotal: 1.14s\tremaining: 1.1s\n",
      "509:\tlearn: 0.0215975\ttotal: 1.14s\tremaining: 1.09s\n",
      "510:\tlearn: 0.0215974\ttotal: 1.14s\tremaining: 1.09s\n",
      "511:\tlearn: 0.0215974\ttotal: 1.14s\tremaining: 1.09s\n",
      "512:\tlearn: 0.0215973\ttotal: 1.14s\tremaining: 1.09s\n",
      "513:\tlearn: 0.0215972\ttotal: 1.15s\tremaining: 1.08s\n",
      "514:\tlearn: 0.0215972\ttotal: 1.15s\tremaining: 1.08s\n",
      "515:\tlearn: 0.0215971\ttotal: 1.15s\tremaining: 1.08s\n",
      "516:\tlearn: 0.0215970\ttotal: 1.15s\tremaining: 1.08s\n",
      "517:\tlearn: 0.0215969\ttotal: 1.16s\tremaining: 1.07s\n",
      "518:\tlearn: 0.0215969\ttotal: 1.16s\tremaining: 1.07s\n",
      "519:\tlearn: 0.0215969\ttotal: 1.16s\tremaining: 1.07s\n",
      "520:\tlearn: 0.0215968\ttotal: 1.16s\tremaining: 1.07s\n",
      "521:\tlearn: 0.0215968\ttotal: 1.16s\tremaining: 1.06s\n",
      "522:\tlearn: 0.0215967\ttotal: 1.17s\tremaining: 1.06s\n",
      "523:\tlearn: 0.0215965\ttotal: 1.17s\tremaining: 1.06s\n",
      "524:\tlearn: 0.0215958\ttotal: 1.17s\tremaining: 1.06s\n",
      "525:\tlearn: 0.0215956\ttotal: 1.17s\tremaining: 1.05s\n",
      "526:\tlearn: 0.0215956\ttotal: 1.17s\tremaining: 1.05s\n",
      "527:\tlearn: 0.0215956\ttotal: 1.18s\tremaining: 1.05s\n",
      "528:\tlearn: 0.0215956\ttotal: 1.18s\tremaining: 1.05s\n",
      "529:\tlearn: 0.0215956\ttotal: 1.18s\tremaining: 1.04s\n",
      "530:\tlearn: 0.0215955\ttotal: 1.18s\tremaining: 1.04s\n",
      "531:\tlearn: 0.0215954\ttotal: 1.18s\tremaining: 1.04s\n",
      "532:\tlearn: 0.0215954\ttotal: 1.19s\tremaining: 1.04s\n",
      "533:\tlearn: 0.0215952\ttotal: 1.19s\tremaining: 1.04s\n",
      "534:\tlearn: 0.0215952\ttotal: 1.19s\tremaining: 1.03s\n",
      "535:\tlearn: 0.0215952\ttotal: 1.19s\tremaining: 1.03s\n",
      "536:\tlearn: 0.0215951\ttotal: 1.2s\tremaining: 1.03s\n",
      "537:\tlearn: 0.0215949\ttotal: 1.2s\tremaining: 1.03s\n",
      "538:\tlearn: 0.0215949\ttotal: 1.2s\tremaining: 1.02s\n",
      "539:\tlearn: 0.0215949\ttotal: 1.2s\tremaining: 1.02s\n",
      "540:\tlearn: 0.0215948\ttotal: 1.2s\tremaining: 1.02s\n",
      "541:\tlearn: 0.0215948\ttotal: 1.2s\tremaining: 1.02s\n",
      "542:\tlearn: 0.0215947\ttotal: 1.21s\tremaining: 1.01s\n",
      "543:\tlearn: 0.0215945\ttotal: 1.21s\tremaining: 1.01s\n",
      "544:\tlearn: 0.0215945\ttotal: 1.21s\tremaining: 1.01s\n",
      "545:\tlearn: 0.0215944\ttotal: 1.21s\tremaining: 1.01s\n",
      "546:\tlearn: 0.0215943\ttotal: 1.22s\tremaining: 1.01s\n",
      "547:\tlearn: 0.0215942\ttotal: 1.22s\tremaining: 1s\n",
      "548:\tlearn: 0.0215941\ttotal: 1.22s\tremaining: 1s\n",
      "549:\tlearn: 0.0215940\ttotal: 1.22s\tremaining: 1s\n",
      "550:\tlearn: 0.0215939\ttotal: 1.23s\tremaining: 998ms\n",
      "551:\tlearn: 0.0215939\ttotal: 1.23s\tremaining: 996ms\n",
      "552:\tlearn: 0.0215938\ttotal: 1.23s\tremaining: 994ms\n",
      "553:\tlearn: 0.0215937\ttotal: 1.23s\tremaining: 992ms\n",
      "554:\tlearn: 0.0215937\ttotal: 1.24s\tremaining: 991ms\n",
      "555:\tlearn: 0.0215937\ttotal: 1.24s\tremaining: 990ms\n",
      "556:\tlearn: 0.0215937\ttotal: 1.24s\tremaining: 988ms\n",
      "557:\tlearn: 0.0215937\ttotal: 1.24s\tremaining: 986ms\n",
      "558:\tlearn: 0.0215936\ttotal: 1.25s\tremaining: 984ms\n",
      "559:\tlearn: 0.0215935\ttotal: 1.25s\tremaining: 983ms\n",
      "560:\tlearn: 0.0215935\ttotal: 1.25s\tremaining: 980ms\n",
      "561:\tlearn: 0.0215934\ttotal: 1.25s\tremaining: 978ms\n",
      "562:\tlearn: 0.0215934\ttotal: 1.26s\tremaining: 976ms\n",
      "563:\tlearn: 0.0215933\ttotal: 1.26s\tremaining: 974ms\n",
      "564:\tlearn: 0.0215932\ttotal: 1.26s\tremaining: 973ms\n",
      "565:\tlearn: 0.0215931\ttotal: 1.27s\tremaining: 971ms\n",
      "566:\tlearn: 0.0215930\ttotal: 1.27s\tremaining: 968ms\n",
      "567:\tlearn: 0.0215930\ttotal: 1.27s\tremaining: 967ms\n",
      "568:\tlearn: 0.0215929\ttotal: 1.27s\tremaining: 965ms\n",
      "569:\tlearn: 0.0215928\ttotal: 1.27s\tremaining: 962ms\n",
      "570:\tlearn: 0.0215928\ttotal: 1.28s\tremaining: 960ms\n",
      "571:\tlearn: 0.0215927\ttotal: 1.28s\tremaining: 957ms\n",
      "572:\tlearn: 0.0215925\ttotal: 1.28s\tremaining: 955ms\n",
      "573:\tlearn: 0.0215925\ttotal: 1.28s\tremaining: 953ms\n",
      "574:\tlearn: 0.0215925\ttotal: 1.29s\tremaining: 952ms\n",
      "575:\tlearn: 0.0215924\ttotal: 1.29s\tremaining: 950ms\n",
      "576:\tlearn: 0.0215924\ttotal: 1.29s\tremaining: 948ms\n",
      "577:\tlearn: 0.0215924\ttotal: 1.29s\tremaining: 945ms\n",
      "578:\tlearn: 0.0215922\ttotal: 1.3s\tremaining: 943ms\n",
      "579:\tlearn: 0.0215921\ttotal: 1.3s\tremaining: 941ms\n",
      "580:\tlearn: 0.0215919\ttotal: 1.3s\tremaining: 939ms\n",
      "581:\tlearn: 0.0215920\ttotal: 1.3s\tremaining: 937ms\n",
      "582:\tlearn: 0.0215919\ttotal: 1.31s\tremaining: 935ms\n",
      "583:\tlearn: 0.0215918\ttotal: 1.31s\tremaining: 933ms\n",
      "584:\tlearn: 0.0215918\ttotal: 1.31s\tremaining: 932ms\n",
      "585:\tlearn: 0.0215918\ttotal: 1.32s\tremaining: 930ms\n",
      "586:\tlearn: 0.0215916\ttotal: 1.32s\tremaining: 928ms\n",
      "587:\tlearn: 0.0215914\ttotal: 1.32s\tremaining: 926ms\n",
      "588:\tlearn: 0.0215914\ttotal: 1.32s\tremaining: 924ms\n",
      "589:\tlearn: 0.0215914\ttotal: 1.33s\tremaining: 922ms\n",
      "590:\tlearn: 0.0215913\ttotal: 1.33s\tremaining: 919ms\n",
      "591:\tlearn: 0.0215913\ttotal: 1.33s\tremaining: 917ms\n",
      "592:\tlearn: 0.0215913\ttotal: 1.33s\tremaining: 915ms\n",
      "593:\tlearn: 0.0215913\ttotal: 1.33s\tremaining: 913ms\n",
      "594:\tlearn: 0.0215897\ttotal: 1.34s\tremaining: 911ms\n",
      "595:\tlearn: 0.0215896\ttotal: 1.34s\tremaining: 908ms\n",
      "596:\tlearn: 0.0215896\ttotal: 1.34s\tremaining: 906ms\n",
      "597:\tlearn: 0.0215896\ttotal: 1.34s\tremaining: 904ms\n",
      "598:\tlearn: 0.0215894\ttotal: 1.35s\tremaining: 902ms\n",
      "599:\tlearn: 0.0215895\ttotal: 1.35s\tremaining: 900ms\n",
      "600:\tlearn: 0.0215894\ttotal: 1.35s\tremaining: 898ms\n",
      "601:\tlearn: 0.0215893\ttotal: 1.35s\tremaining: 895ms\n",
      "602:\tlearn: 0.0215892\ttotal: 1.36s\tremaining: 894ms\n",
      "603:\tlearn: 0.0215891\ttotal: 1.36s\tremaining: 893ms\n",
      "604:\tlearn: 0.0215891\ttotal: 1.36s\tremaining: 891ms\n",
      "605:\tlearn: 0.0215890\ttotal: 1.37s\tremaining: 890ms\n",
      "606:\tlearn: 0.0215889\ttotal: 1.38s\tremaining: 890ms\n",
      "607:\tlearn: 0.0215890\ttotal: 1.39s\tremaining: 898ms\n",
      "608:\tlearn: 0.0215889\ttotal: 1.4s\tremaining: 897ms\n",
      "609:\tlearn: 0.0215888\ttotal: 1.4s\tremaining: 895ms\n",
      "610:\tlearn: 0.0215887\ttotal: 1.4s\tremaining: 892ms\n",
      "611:\tlearn: 0.0215887\ttotal: 1.4s\tremaining: 890ms\n",
      "612:\tlearn: 0.0215886\ttotal: 1.41s\tremaining: 887ms\n",
      "613:\tlearn: 0.0215885\ttotal: 1.41s\tremaining: 886ms\n",
      "614:\tlearn: 0.0215885\ttotal: 1.41s\tremaining: 884ms\n",
      "615:\tlearn: 0.0215606\ttotal: 1.42s\tremaining: 882ms\n",
      "616:\tlearn: 0.0215009\ttotal: 1.42s\tremaining: 881ms\n",
      "617:\tlearn: 0.0215010\ttotal: 1.42s\tremaining: 880ms\n",
      "618:\tlearn: 0.0215008\ttotal: 1.43s\tremaining: 878ms\n",
      "619:\tlearn: 0.0215008\ttotal: 1.43s\tremaining: 876ms\n",
      "620:\tlearn: 0.0215006\ttotal: 1.43s\tremaining: 873ms\n",
      "621:\tlearn: 0.0215006\ttotal: 1.43s\tremaining: 871ms\n",
      "622:\tlearn: 0.0215004\ttotal: 1.44s\tremaining: 869ms\n",
      "623:\tlearn: 0.0214433\ttotal: 1.44s\tremaining: 867ms\n",
      "624:\tlearn: 0.0214432\ttotal: 1.44s\tremaining: 865ms\n",
      "625:\tlearn: 0.0214432\ttotal: 1.44s\tremaining: 862ms\n",
      "626:\tlearn: 0.0214431\ttotal: 1.45s\tremaining: 860ms\n",
      "627:\tlearn: 0.0214431\ttotal: 1.45s\tremaining: 858ms\n",
      "628:\tlearn: 0.0214428\ttotal: 1.45s\tremaining: 856ms\n",
      "629:\tlearn: 0.0214426\ttotal: 1.45s\tremaining: 854ms\n",
      "630:\tlearn: 0.0214425\ttotal: 1.46s\tremaining: 851ms\n",
      "631:\tlearn: 0.0214424\ttotal: 1.46s\tremaining: 849ms\n",
      "632:\tlearn: 0.0214423\ttotal: 1.46s\tremaining: 847ms\n",
      "633:\tlearn: 0.0214411\ttotal: 1.46s\tremaining: 845ms\n",
      "634:\tlearn: 0.0214410\ttotal: 1.47s\tremaining: 843ms\n",
      "635:\tlearn: 0.0214407\ttotal: 1.47s\tremaining: 840ms\n",
      "636:\tlearn: 0.0214407\ttotal: 1.47s\tremaining: 838ms\n",
      "637:\tlearn: 0.0214406\ttotal: 1.47s\tremaining: 836ms\n",
      "638:\tlearn: 0.0214405\ttotal: 1.48s\tremaining: 833ms\n",
      "639:\tlearn: 0.0214404\ttotal: 1.48s\tremaining: 831ms\n",
      "640:\tlearn: 0.0214403\ttotal: 1.48s\tremaining: 828ms\n",
      "641:\tlearn: 0.0214402\ttotal: 1.48s\tremaining: 826ms\n",
      "642:\tlearn: 0.0214402\ttotal: 1.48s\tremaining: 823ms\n",
      "643:\tlearn: 0.0214400\ttotal: 1.49s\tremaining: 821ms\n",
      "644:\tlearn: 0.0214400\ttotal: 1.49s\tremaining: 820ms\n",
      "645:\tlearn: 0.0214400\ttotal: 1.49s\tremaining: 817ms\n",
      "646:\tlearn: 0.0214400\ttotal: 1.49s\tremaining: 815ms\n",
      "647:\tlearn: 0.0214400\ttotal: 1.5s\tremaining: 812ms\n",
      "648:\tlearn: 0.0214400\ttotal: 1.5s\tremaining: 810ms\n",
      "649:\tlearn: 0.0214398\ttotal: 1.5s\tremaining: 808ms\n",
      "650:\tlearn: 0.0214397\ttotal: 1.5s\tremaining: 805ms\n",
      "651:\tlearn: 0.0214397\ttotal: 1.5s\tremaining: 803ms\n",
      "652:\tlearn: 0.0214396\ttotal: 1.5s\tremaining: 800ms\n",
      "653:\tlearn: 0.0214395\ttotal: 1.51s\tremaining: 798ms\n",
      "654:\tlearn: 0.0214395\ttotal: 1.51s\tremaining: 796ms\n",
      "655:\tlearn: 0.0214395\ttotal: 1.51s\tremaining: 794ms\n",
      "656:\tlearn: 0.0214393\ttotal: 1.51s\tremaining: 791ms\n",
      "657:\tlearn: 0.0214393\ttotal: 1.52s\tremaining: 789ms\n",
      "658:\tlearn: 0.0214393\ttotal: 1.52s\tremaining: 786ms\n",
      "659:\tlearn: 0.0214391\ttotal: 1.52s\tremaining: 784ms\n",
      "660:\tlearn: 0.0214390\ttotal: 1.52s\tremaining: 781ms\n",
      "661:\tlearn: 0.0214387\ttotal: 1.52s\tremaining: 779ms\n",
      "662:\tlearn: 0.0214385\ttotal: 1.53s\tremaining: 776ms\n",
      "663:\tlearn: 0.0214385\ttotal: 1.53s\tremaining: 774ms\n",
      "664:\tlearn: 0.0214384\ttotal: 1.53s\tremaining: 772ms\n",
      "665:\tlearn: 0.0214384\ttotal: 1.54s\tremaining: 770ms\n",
      "666:\tlearn: 0.0214382\ttotal: 1.54s\tremaining: 768ms\n",
      "667:\tlearn: 0.0214381\ttotal: 1.54s\tremaining: 765ms\n",
      "668:\tlearn: 0.0214380\ttotal: 1.54s\tremaining: 763ms\n",
      "669:\tlearn: 0.0214378\ttotal: 1.54s\tremaining: 760ms\n",
      "670:\tlearn: 0.0214378\ttotal: 1.55s\tremaining: 758ms\n",
      "671:\tlearn: 0.0214377\ttotal: 1.55s\tremaining: 756ms\n",
      "672:\tlearn: 0.0214375\ttotal: 1.55s\tremaining: 754ms\n",
      "673:\tlearn: 0.0214375\ttotal: 1.55s\tremaining: 752ms\n",
      "674:\tlearn: 0.0214373\ttotal: 1.56s\tremaining: 749ms\n",
      "675:\tlearn: 0.0214372\ttotal: 1.56s\tremaining: 747ms\n",
      "676:\tlearn: 0.0214372\ttotal: 1.56s\tremaining: 745ms\n",
      "677:\tlearn: 0.0214370\ttotal: 1.56s\tremaining: 742ms\n",
      "678:\tlearn: 0.0214369\ttotal: 1.56s\tremaining: 740ms\n",
      "679:\tlearn: 0.0214367\ttotal: 1.57s\tremaining: 737ms\n",
      "680:\tlearn: 0.0214366\ttotal: 1.57s\tremaining: 735ms\n",
      "681:\tlearn: 0.0214365\ttotal: 1.57s\tremaining: 733ms\n",
      "682:\tlearn: 0.0214363\ttotal: 1.57s\tremaining: 731ms\n",
      "683:\tlearn: 0.0214363\ttotal: 1.58s\tremaining: 729ms\n",
      "684:\tlearn: 0.0214360\ttotal: 1.58s\tremaining: 726ms\n",
      "685:\tlearn: 0.0214359\ttotal: 1.58s\tremaining: 724ms\n",
      "686:\tlearn: 0.0214357\ttotal: 1.58s\tremaining: 722ms\n",
      "687:\tlearn: 0.0214355\ttotal: 1.59s\tremaining: 720ms\n",
      "688:\tlearn: 0.0214345\ttotal: 1.59s\tremaining: 717ms\n",
      "689:\tlearn: 0.0214344\ttotal: 1.59s\tremaining: 715ms\n",
      "690:\tlearn: 0.0214343\ttotal: 1.59s\tremaining: 712ms\n",
      "691:\tlearn: 0.0214343\ttotal: 1.59s\tremaining: 710ms\n",
      "692:\tlearn: 0.0214342\ttotal: 1.6s\tremaining: 709ms\n",
      "693:\tlearn: 0.0214335\ttotal: 1.6s\tremaining: 707ms\n",
      "694:\tlearn: 0.0214333\ttotal: 1.6s\tremaining: 704ms\n",
      "695:\tlearn: 0.0214332\ttotal: 1.61s\tremaining: 702ms\n",
      "696:\tlearn: 0.0214330\ttotal: 1.61s\tremaining: 700ms\n",
      "697:\tlearn: 0.0214327\ttotal: 1.61s\tremaining: 698ms\n",
      "698:\tlearn: 0.0214326\ttotal: 1.61s\tremaining: 695ms\n",
      "699:\tlearn: 0.0214326\ttotal: 1.62s\tremaining: 693ms\n",
      "700:\tlearn: 0.0214325\ttotal: 1.62s\tremaining: 691ms\n",
      "701:\tlearn: 0.0214325\ttotal: 1.62s\tremaining: 689ms\n",
      "702:\tlearn: 0.0214323\ttotal: 1.63s\tremaining: 687ms\n",
      "703:\tlearn: 0.0214322\ttotal: 1.63s\tremaining: 684ms\n",
      "704:\tlearn: 0.0214322\ttotal: 1.63s\tremaining: 682ms\n",
      "705:\tlearn: 0.0214321\ttotal: 1.63s\tremaining: 680ms\n",
      "706:\tlearn: 0.0214321\ttotal: 1.63s\tremaining: 678ms\n",
      "707:\tlearn: 0.0214320\ttotal: 1.64s\tremaining: 675ms\n",
      "708:\tlearn: 0.0214320\ttotal: 1.64s\tremaining: 673ms\n",
      "709:\tlearn: 0.0214319\ttotal: 1.64s\tremaining: 670ms\n",
      "710:\tlearn: 0.0214319\ttotal: 1.64s\tremaining: 668ms\n",
      "711:\tlearn: 0.0214320\ttotal: 1.65s\tremaining: 666ms\n",
      "712:\tlearn: 0.0214318\ttotal: 1.65s\tremaining: 663ms\n",
      "713:\tlearn: 0.0214318\ttotal: 1.65s\tremaining: 661ms\n",
      "714:\tlearn: 0.0214318\ttotal: 1.65s\tremaining: 658ms\n",
      "715:\tlearn: 0.0214318\ttotal: 1.65s\tremaining: 656ms\n",
      "716:\tlearn: 0.0214317\ttotal: 1.66s\tremaining: 653ms\n",
      "717:\tlearn: 0.0214317\ttotal: 1.66s\tremaining: 651ms\n",
      "718:\tlearn: 0.0214317\ttotal: 1.66s\tremaining: 649ms\n",
      "719:\tlearn: 0.0214316\ttotal: 1.66s\tremaining: 646ms\n",
      "720:\tlearn: 0.0214316\ttotal: 1.66s\tremaining: 644ms\n",
      "721:\tlearn: 0.0214315\ttotal: 1.67s\tremaining: 641ms\n",
      "722:\tlearn: 0.0214303\ttotal: 1.67s\tremaining: 639ms\n",
      "723:\tlearn: 0.0214303\ttotal: 1.67s\tremaining: 637ms\n",
      "724:\tlearn: 0.0214302\ttotal: 1.67s\tremaining: 634ms\n",
      "725:\tlearn: 0.0214302\ttotal: 1.67s\tremaining: 632ms\n",
      "726:\tlearn: 0.0214301\ttotal: 1.68s\tremaining: 629ms\n",
      "727:\tlearn: 0.0214300\ttotal: 1.68s\tremaining: 627ms\n",
      "728:\tlearn: 0.0214300\ttotal: 1.68s\tremaining: 624ms\n",
      "729:\tlearn: 0.0214298\ttotal: 1.68s\tremaining: 622ms\n",
      "730:\tlearn: 0.0214298\ttotal: 1.68s\tremaining: 620ms\n",
      "731:\tlearn: 0.0214297\ttotal: 1.69s\tremaining: 618ms\n",
      "732:\tlearn: 0.0214297\ttotal: 1.69s\tremaining: 616ms\n",
      "733:\tlearn: 0.0214298\ttotal: 1.69s\tremaining: 613ms\n",
      "734:\tlearn: 0.0214295\ttotal: 1.69s\tremaining: 611ms\n",
      "735:\tlearn: 0.0214295\ttotal: 1.7s\tremaining: 609ms\n",
      "736:\tlearn: 0.0214294\ttotal: 1.7s\tremaining: 606ms\n",
      "737:\tlearn: 0.0214294\ttotal: 1.7s\tremaining: 604ms\n",
      "738:\tlearn: 0.0214293\ttotal: 1.7s\tremaining: 601ms\n",
      "739:\tlearn: 0.0214293\ttotal: 1.7s\tremaining: 599ms\n",
      "740:\tlearn: 0.0214292\ttotal: 1.71s\tremaining: 596ms\n",
      "741:\tlearn: 0.0214292\ttotal: 1.71s\tremaining: 595ms\n",
      "742:\tlearn: 0.0214290\ttotal: 1.71s\tremaining: 593ms\n",
      "743:\tlearn: 0.0214290\ttotal: 1.72s\tremaining: 590ms\n",
      "744:\tlearn: 0.0214289\ttotal: 1.72s\tremaining: 588ms\n",
      "745:\tlearn: 0.0214288\ttotal: 1.72s\tremaining: 586ms\n",
      "746:\tlearn: 0.0214287\ttotal: 1.72s\tremaining: 583ms\n",
      "747:\tlearn: 0.0214287\ttotal: 1.72s\tremaining: 581ms\n",
      "748:\tlearn: 0.0214286\ttotal: 1.73s\tremaining: 578ms\n",
      "749:\tlearn: 0.0214286\ttotal: 1.73s\tremaining: 576ms\n",
      "750:\tlearn: 0.0214285\ttotal: 1.73s\tremaining: 573ms\n",
      "751:\tlearn: 0.0214285\ttotal: 1.73s\tremaining: 571ms\n",
      "752:\tlearn: 0.0214284\ttotal: 1.73s\tremaining: 569ms\n",
      "753:\tlearn: 0.0214284\ttotal: 1.74s\tremaining: 567ms\n",
      "754:\tlearn: 0.0214283\ttotal: 1.74s\tremaining: 564ms\n",
      "755:\tlearn: 0.0214282\ttotal: 1.74s\tremaining: 562ms\n",
      "756:\tlearn: 0.0214281\ttotal: 1.74s\tremaining: 559ms\n",
      "757:\tlearn: 0.0214281\ttotal: 1.74s\tremaining: 557ms\n",
      "758:\tlearn: 0.0214280\ttotal: 1.75s\tremaining: 555ms\n",
      "759:\tlearn: 0.0214280\ttotal: 1.75s\tremaining: 552ms\n",
      "760:\tlearn: 0.0214279\ttotal: 1.75s\tremaining: 550ms\n",
      "761:\tlearn: 0.0214278\ttotal: 1.75s\tremaining: 548ms\n",
      "762:\tlearn: 0.0214277\ttotal: 1.75s\tremaining: 545ms\n",
      "763:\tlearn: 0.0214276\ttotal: 1.76s\tremaining: 543ms\n",
      "764:\tlearn: 0.0214276\ttotal: 1.76s\tremaining: 541ms\n",
      "765:\tlearn: 0.0214275\ttotal: 1.76s\tremaining: 538ms\n",
      "766:\tlearn: 0.0214274\ttotal: 1.76s\tremaining: 536ms\n",
      "767:\tlearn: 0.0214273\ttotal: 1.76s\tremaining: 533ms\n",
      "768:\tlearn: 0.0214271\ttotal: 1.77s\tremaining: 531ms\n",
      "769:\tlearn: 0.0214271\ttotal: 1.77s\tremaining: 529ms\n",
      "770:\tlearn: 0.0214271\ttotal: 1.77s\tremaining: 527ms\n",
      "771:\tlearn: 0.0214271\ttotal: 1.78s\tremaining: 525ms\n",
      "772:\tlearn: 0.0214269\ttotal: 1.78s\tremaining: 522ms\n",
      "773:\tlearn: 0.0214270\ttotal: 1.78s\tremaining: 520ms\n",
      "774:\tlearn: 0.0214269\ttotal: 1.78s\tremaining: 517ms\n",
      "775:\tlearn: 0.0214269\ttotal: 1.78s\tremaining: 515ms\n",
      "776:\tlearn: 0.0214268\ttotal: 1.79s\tremaining: 513ms\n",
      "777:\tlearn: 0.0214266\ttotal: 1.79s\tremaining: 510ms\n",
      "778:\tlearn: 0.0214265\ttotal: 1.79s\tremaining: 508ms\n",
      "779:\tlearn: 0.0214265\ttotal: 1.79s\tremaining: 505ms\n",
      "780:\tlearn: 0.0214264\ttotal: 1.79s\tremaining: 503ms\n",
      "781:\tlearn: 0.0214263\ttotal: 1.8s\tremaining: 501ms\n",
      "782:\tlearn: 0.0214261\ttotal: 1.8s\tremaining: 499ms\n",
      "783:\tlearn: 0.0214259\ttotal: 1.8s\tremaining: 496ms\n",
      "784:\tlearn: 0.0214259\ttotal: 1.8s\tremaining: 494ms\n",
      "785:\tlearn: 0.0214259\ttotal: 1.8s\tremaining: 491ms\n",
      "786:\tlearn: 0.0214259\ttotal: 1.81s\tremaining: 489ms\n",
      "787:\tlearn: 0.0214258\ttotal: 1.81s\tremaining: 486ms\n",
      "788:\tlearn: 0.0214259\ttotal: 1.81s\tremaining: 484ms\n",
      "789:\tlearn: 0.0214257\ttotal: 1.81s\tremaining: 482ms\n",
      "790:\tlearn: 0.0214257\ttotal: 1.81s\tremaining: 479ms\n",
      "791:\tlearn: 0.0214255\ttotal: 1.82s\tremaining: 477ms\n",
      "792:\tlearn: 0.0214253\ttotal: 1.82s\tremaining: 475ms\n",
      "793:\tlearn: 0.0214253\ttotal: 1.82s\tremaining: 473ms\n",
      "794:\tlearn: 0.0214253\ttotal: 1.82s\tremaining: 470ms\n",
      "795:\tlearn: 0.0214253\ttotal: 1.82s\tremaining: 468ms\n",
      "796:\tlearn: 0.0214250\ttotal: 1.83s\tremaining: 465ms\n",
      "797:\tlearn: 0.0214251\ttotal: 1.83s\tremaining: 463ms\n",
      "798:\tlearn: 0.0214248\ttotal: 1.83s\tremaining: 460ms\n",
      "799:\tlearn: 0.0214248\ttotal: 1.83s\tremaining: 458ms\n",
      "800:\tlearn: 0.0214247\ttotal: 1.83s\tremaining: 456ms\n",
      "801:\tlearn: 0.0214247\ttotal: 1.84s\tremaining: 454ms\n",
      "802:\tlearn: 0.0214247\ttotal: 1.84s\tremaining: 452ms\n",
      "803:\tlearn: 0.0214244\ttotal: 1.84s\tremaining: 450ms\n",
      "804:\tlearn: 0.0214243\ttotal: 1.85s\tremaining: 447ms\n",
      "805:\tlearn: 0.0214242\ttotal: 1.85s\tremaining: 445ms\n",
      "806:\tlearn: 0.0214241\ttotal: 1.85s\tremaining: 443ms\n",
      "807:\tlearn: 0.0214240\ttotal: 1.85s\tremaining: 440ms\n",
      "808:\tlearn: 0.0214240\ttotal: 1.85s\tremaining: 438ms\n",
      "809:\tlearn: 0.0214240\ttotal: 1.86s\tremaining: 436ms\n",
      "810:\tlearn: 0.0214238\ttotal: 1.86s\tremaining: 433ms\n",
      "811:\tlearn: 0.0214237\ttotal: 1.86s\tremaining: 431ms\n",
      "812:\tlearn: 0.0214236\ttotal: 1.86s\tremaining: 429ms\n",
      "813:\tlearn: 0.0214233\ttotal: 1.87s\tremaining: 427ms\n",
      "814:\tlearn: 0.0214233\ttotal: 1.87s\tremaining: 424ms\n",
      "815:\tlearn: 0.0214233\ttotal: 1.87s\tremaining: 422ms\n",
      "816:\tlearn: 0.0214233\ttotal: 1.87s\tremaining: 420ms\n",
      "817:\tlearn: 0.0214233\ttotal: 1.88s\tremaining: 417ms\n",
      "818:\tlearn: 0.0214232\ttotal: 1.88s\tremaining: 415ms\n",
      "819:\tlearn: 0.0214232\ttotal: 1.88s\tremaining: 413ms\n",
      "820:\tlearn: 0.0214232\ttotal: 1.88s\tremaining: 410ms\n",
      "821:\tlearn: 0.0214232\ttotal: 1.89s\tremaining: 409ms\n",
      "822:\tlearn: 0.0214231\ttotal: 1.89s\tremaining: 406ms\n",
      "823:\tlearn: 0.0214231\ttotal: 1.89s\tremaining: 404ms\n",
      "824:\tlearn: 0.0214231\ttotal: 1.89s\tremaining: 402ms\n",
      "825:\tlearn: 0.0214230\ttotal: 1.9s\tremaining: 399ms\n",
      "826:\tlearn: 0.0214228\ttotal: 1.9s\tremaining: 397ms\n",
      "827:\tlearn: 0.0214227\ttotal: 1.9s\tremaining: 395ms\n",
      "828:\tlearn: 0.0214227\ttotal: 1.9s\tremaining: 392ms\n",
      "829:\tlearn: 0.0214224\ttotal: 1.9s\tremaining: 390ms\n",
      "830:\tlearn: 0.0214223\ttotal: 1.91s\tremaining: 388ms\n",
      "831:\tlearn: 0.0214223\ttotal: 1.91s\tremaining: 386ms\n",
      "832:\tlearn: 0.0214222\ttotal: 1.91s\tremaining: 383ms\n",
      "833:\tlearn: 0.0214222\ttotal: 1.91s\tremaining: 381ms\n",
      "834:\tlearn: 0.0214223\ttotal: 1.92s\tremaining: 379ms\n",
      "835:\tlearn: 0.0214215\ttotal: 1.92s\tremaining: 377ms\n",
      "836:\tlearn: 0.0214215\ttotal: 1.92s\tremaining: 374ms\n",
      "837:\tlearn: 0.0214214\ttotal: 1.92s\tremaining: 372ms\n",
      "838:\tlearn: 0.0214213\ttotal: 1.93s\tremaining: 370ms\n",
      "839:\tlearn: 0.0214204\ttotal: 1.93s\tremaining: 367ms\n",
      "840:\tlearn: 0.0214201\ttotal: 1.93s\tremaining: 365ms\n",
      "841:\tlearn: 0.0214199\ttotal: 1.93s\tremaining: 363ms\n",
      "842:\tlearn: 0.0214198\ttotal: 1.93s\tremaining: 360ms\n",
      "843:\tlearn: 0.0214198\ttotal: 1.94s\tremaining: 358ms\n",
      "844:\tlearn: 0.0214193\ttotal: 1.94s\tremaining: 356ms\n",
      "845:\tlearn: 0.0214193\ttotal: 1.94s\tremaining: 354ms\n",
      "846:\tlearn: 0.0214192\ttotal: 1.94s\tremaining: 351ms\n",
      "847:\tlearn: 0.0214190\ttotal: 1.95s\tremaining: 349ms\n",
      "848:\tlearn: 0.0214189\ttotal: 1.95s\tremaining: 347ms\n",
      "849:\tlearn: 0.0214189\ttotal: 1.95s\tremaining: 344ms\n",
      "850:\tlearn: 0.0214189\ttotal: 1.95s\tremaining: 342ms\n",
      "851:\tlearn: 0.0214186\ttotal: 1.95s\tremaining: 339ms\n",
      "852:\tlearn: 0.0214185\ttotal: 1.96s\tremaining: 337ms\n",
      "853:\tlearn: 0.0214184\ttotal: 1.96s\tremaining: 335ms\n",
      "854:\tlearn: 0.0214183\ttotal: 1.96s\tremaining: 332ms\n",
      "855:\tlearn: 0.0214183\ttotal: 1.96s\tremaining: 330ms\n",
      "856:\tlearn: 0.0214183\ttotal: 1.96s\tremaining: 328ms\n",
      "857:\tlearn: 0.0214182\ttotal: 1.97s\tremaining: 326ms\n",
      "858:\tlearn: 0.0214181\ttotal: 1.97s\tremaining: 323ms\n",
      "859:\tlearn: 0.0214179\ttotal: 1.97s\tremaining: 321ms\n",
      "860:\tlearn: 0.0214179\ttotal: 1.97s\tremaining: 319ms\n",
      "861:\tlearn: 0.0214179\ttotal: 1.98s\tremaining: 316ms\n",
      "862:\tlearn: 0.0214178\ttotal: 1.98s\tremaining: 314ms\n",
      "863:\tlearn: 0.0214178\ttotal: 1.98s\tremaining: 312ms\n",
      "864:\tlearn: 0.0214178\ttotal: 1.98s\tremaining: 309ms\n",
      "865:\tlearn: 0.0214178\ttotal: 1.98s\tremaining: 307ms\n",
      "866:\tlearn: 0.0214178\ttotal: 1.99s\tremaining: 305ms\n",
      "867:\tlearn: 0.0214177\ttotal: 1.99s\tremaining: 303ms\n",
      "868:\tlearn: 0.0214173\ttotal: 1.99s\tremaining: 300ms\n",
      "869:\tlearn: 0.0214173\ttotal: 1.99s\tremaining: 298ms\n",
      "870:\tlearn: 0.0214172\ttotal: 2s\tremaining: 296ms\n",
      "871:\tlearn: 0.0214172\ttotal: 2s\tremaining: 293ms\n",
      "872:\tlearn: 0.0214171\ttotal: 2s\tremaining: 291ms\n",
      "873:\tlearn: 0.0214171\ttotal: 2s\tremaining: 289ms\n",
      "874:\tlearn: 0.0214171\ttotal: 2.01s\tremaining: 287ms\n",
      "875:\tlearn: 0.0214171\ttotal: 2.01s\tremaining: 284ms\n",
      "876:\tlearn: 0.0214171\ttotal: 2.01s\tremaining: 282ms\n",
      "877:\tlearn: 0.0214158\ttotal: 2.01s\tremaining: 280ms\n",
      "878:\tlearn: 0.0214157\ttotal: 2.02s\tremaining: 278ms\n",
      "879:\tlearn: 0.0214154\ttotal: 2.02s\tremaining: 275ms\n",
      "880:\tlearn: 0.0214154\ttotal: 2.02s\tremaining: 273ms\n",
      "881:\tlearn: 0.0214153\ttotal: 2.02s\tremaining: 271ms\n",
      "882:\tlearn: 0.0214152\ttotal: 2.02s\tremaining: 268ms\n",
      "883:\tlearn: 0.0214151\ttotal: 2.03s\tremaining: 266ms\n",
      "884:\tlearn: 0.0214151\ttotal: 2.03s\tremaining: 264ms\n",
      "885:\tlearn: 0.0214151\ttotal: 2.03s\tremaining: 262ms\n",
      "886:\tlearn: 0.0214150\ttotal: 2.04s\tremaining: 259ms\n",
      "887:\tlearn: 0.0214146\ttotal: 2.04s\tremaining: 257ms\n",
      "888:\tlearn: 0.0214146\ttotal: 2.04s\tremaining: 255ms\n",
      "889:\tlearn: 0.0214140\ttotal: 2.04s\tremaining: 252ms\n",
      "890:\tlearn: 0.0213818\ttotal: 2.04s\tremaining: 250ms\n",
      "891:\tlearn: 0.0213816\ttotal: 2.04s\tremaining: 248ms\n",
      "892:\tlearn: 0.0213815\ttotal: 2.05s\tremaining: 245ms\n",
      "893:\tlearn: 0.0213814\ttotal: 2.05s\tremaining: 243ms\n",
      "894:\tlearn: 0.0213814\ttotal: 2.05s\tremaining: 241ms\n",
      "895:\tlearn: 0.0213813\ttotal: 2.05s\tremaining: 239ms\n",
      "896:\tlearn: 0.0213807\ttotal: 2.06s\tremaining: 236ms\n",
      "897:\tlearn: 0.0213805\ttotal: 2.06s\tremaining: 234ms\n",
      "898:\tlearn: 0.0213804\ttotal: 2.06s\tremaining: 232ms\n",
      "899:\tlearn: 0.0213804\ttotal: 2.06s\tremaining: 229ms\n",
      "900:\tlearn: 0.0213802\ttotal: 2.06s\tremaining: 227ms\n",
      "901:\tlearn: 0.0213801\ttotal: 2.07s\tremaining: 225ms\n",
      "902:\tlearn: 0.0213800\ttotal: 2.07s\tremaining: 222ms\n",
      "903:\tlearn: 0.0213798\ttotal: 2.07s\tremaining: 220ms\n",
      "904:\tlearn: 0.0213799\ttotal: 2.08s\tremaining: 218ms\n",
      "905:\tlearn: 0.0213798\ttotal: 2.08s\tremaining: 216ms\n",
      "906:\tlearn: 0.0213797\ttotal: 2.08s\tremaining: 213ms\n",
      "907:\tlearn: 0.0213796\ttotal: 2.08s\tremaining: 211ms\n",
      "908:\tlearn: 0.0213795\ttotal: 2.08s\tremaining: 209ms\n",
      "909:\tlearn: 0.0213794\ttotal: 2.09s\tremaining: 206ms\n",
      "910:\tlearn: 0.0213794\ttotal: 2.09s\tremaining: 204ms\n",
      "911:\tlearn: 0.0213794\ttotal: 2.09s\tremaining: 202ms\n",
      "912:\tlearn: 0.0213792\ttotal: 2.09s\tremaining: 199ms\n",
      "913:\tlearn: 0.0213791\ttotal: 2.09s\tremaining: 197ms\n",
      "914:\tlearn: 0.0213790\ttotal: 2.1s\tremaining: 195ms\n",
      "915:\tlearn: 0.0213785\ttotal: 2.1s\tremaining: 193ms\n",
      "916:\tlearn: 0.0213779\ttotal: 2.1s\tremaining: 190ms\n",
      "917:\tlearn: 0.0213778\ttotal: 2.1s\tremaining: 188ms\n",
      "918:\tlearn: 0.0213778\ttotal: 2.11s\tremaining: 186ms\n",
      "919:\tlearn: 0.0213777\ttotal: 2.11s\tremaining: 183ms\n",
      "920:\tlearn: 0.0213777\ttotal: 2.11s\tremaining: 181ms\n",
      "921:\tlearn: 0.0213774\ttotal: 2.11s\tremaining: 179ms\n",
      "922:\tlearn: 0.0213772\ttotal: 2.11s\tremaining: 176ms\n",
      "923:\tlearn: 0.0213772\ttotal: 2.12s\tremaining: 174ms\n",
      "924:\tlearn: 0.0213334\ttotal: 2.12s\tremaining: 172ms\n",
      "925:\tlearn: 0.0213334\ttotal: 2.12s\tremaining: 170ms\n",
      "926:\tlearn: 0.0213334\ttotal: 2.12s\tremaining: 167ms\n",
      "927:\tlearn: 0.0213333\ttotal: 2.13s\tremaining: 165ms\n",
      "928:\tlearn: 0.0213334\ttotal: 2.13s\tremaining: 163ms\n",
      "929:\tlearn: 0.0213330\ttotal: 2.13s\tremaining: 160ms\n",
      "930:\tlearn: 0.0213326\ttotal: 2.13s\tremaining: 158ms\n",
      "931:\tlearn: 0.0213324\ttotal: 2.13s\tremaining: 156ms\n",
      "932:\tlearn: 0.0213323\ttotal: 2.13s\tremaining: 153ms\n",
      "933:\tlearn: 0.0213322\ttotal: 2.14s\tremaining: 151ms\n",
      "934:\tlearn: 0.0213321\ttotal: 2.14s\tremaining: 149ms\n",
      "935:\tlearn: 0.0213319\ttotal: 2.14s\tremaining: 146ms\n",
      "936:\tlearn: 0.0213317\ttotal: 2.14s\tremaining: 144ms\n",
      "937:\tlearn: 0.0213318\ttotal: 2.15s\tremaining: 142ms\n",
      "938:\tlearn: 0.0213303\ttotal: 2.15s\tremaining: 140ms\n",
      "939:\tlearn: 0.0213102\ttotal: 2.15s\tremaining: 137ms\n",
      "940:\tlearn: 0.0213094\ttotal: 2.15s\tremaining: 135ms\n",
      "941:\tlearn: 0.0213094\ttotal: 2.15s\tremaining: 133ms\n",
      "942:\tlearn: 0.0213094\ttotal: 2.16s\tremaining: 130ms\n",
      "943:\tlearn: 0.0213094\ttotal: 2.16s\tremaining: 128ms\n",
      "944:\tlearn: 0.0213086\ttotal: 2.16s\tremaining: 126ms\n",
      "945:\tlearn: 0.0213086\ttotal: 2.16s\tremaining: 123ms\n",
      "946:\tlearn: 0.0213086\ttotal: 2.17s\tremaining: 121ms\n",
      "947:\tlearn: 0.0213085\ttotal: 2.17s\tremaining: 119ms\n",
      "948:\tlearn: 0.0213082\ttotal: 2.17s\tremaining: 117ms\n",
      "949:\tlearn: 0.0213080\ttotal: 2.17s\tremaining: 114ms\n",
      "950:\tlearn: 0.0213074\ttotal: 2.17s\tremaining: 112ms\n",
      "951:\tlearn: 0.0213072\ttotal: 2.17s\tremaining: 110ms\n",
      "952:\tlearn: 0.0213071\ttotal: 2.18s\tremaining: 107ms\n",
      "953:\tlearn: 0.0213071\ttotal: 2.18s\tremaining: 105ms\n",
      "954:\tlearn: 0.0213070\ttotal: 2.18s\tremaining: 103ms\n",
      "955:\tlearn: 0.0213069\ttotal: 2.18s\tremaining: 101ms\n",
      "956:\tlearn: 0.0213069\ttotal: 2.19s\tremaining: 98.3ms\n",
      "957:\tlearn: 0.0213068\ttotal: 2.19s\tremaining: 95.9ms\n",
      "958:\tlearn: 0.0213067\ttotal: 2.19s\tremaining: 93.6ms\n",
      "959:\tlearn: 0.0213067\ttotal: 2.19s\tremaining: 91.3ms\n",
      "960:\tlearn: 0.0213059\ttotal: 2.19s\tremaining: 89ms\n",
      "961:\tlearn: 0.0213057\ttotal: 2.2s\tremaining: 86.8ms\n",
      "962:\tlearn: 0.0213056\ttotal: 2.2s\tremaining: 84.5ms\n",
      "963:\tlearn: 0.0213055\ttotal: 2.2s\tremaining: 82.2ms\n",
      "964:\tlearn: 0.0213054\ttotal: 2.2s\tremaining: 79.9ms\n",
      "965:\tlearn: 0.0213053\ttotal: 2.21s\tremaining: 77.6ms\n",
      "966:\tlearn: 0.0213052\ttotal: 2.21s\tremaining: 75.4ms\n",
      "967:\tlearn: 0.0213052\ttotal: 2.21s\tremaining: 73.1ms\n",
      "968:\tlearn: 0.0213051\ttotal: 2.21s\tremaining: 70.8ms\n",
      "969:\tlearn: 0.0213050\ttotal: 2.21s\tremaining: 68.5ms\n",
      "970:\tlearn: 0.0213049\ttotal: 2.22s\tremaining: 66.2ms\n",
      "971:\tlearn: 0.0213049\ttotal: 2.22s\tremaining: 63.9ms\n",
      "972:\tlearn: 0.0213048\ttotal: 2.22s\tremaining: 61.6ms\n",
      "973:\tlearn: 0.0213046\ttotal: 2.22s\tremaining: 59.4ms\n",
      "974:\tlearn: 0.0213041\ttotal: 2.23s\tremaining: 57.1ms\n",
      "975:\tlearn: 0.0213040\ttotal: 2.23s\tremaining: 54.8ms\n",
      "976:\tlearn: 0.0213040\ttotal: 2.23s\tremaining: 52.5ms\n",
      "977:\tlearn: 0.0213039\ttotal: 2.23s\tremaining: 50.2ms\n",
      "978:\tlearn: 0.0213038\ttotal: 2.23s\tremaining: 48ms\n",
      "979:\tlearn: 0.0213037\ttotal: 2.24s\tremaining: 45.7ms\n",
      "980:\tlearn: 0.0213037\ttotal: 2.24s\tremaining: 43.4ms\n",
      "981:\tlearn: 0.0213034\ttotal: 2.24s\tremaining: 41.1ms\n",
      "982:\tlearn: 0.0213033\ttotal: 2.24s\tremaining: 38.8ms\n",
      "983:\tlearn: 0.0213033\ttotal: 2.25s\tremaining: 36.6ms\n",
      "984:\tlearn: 0.0213033\ttotal: 2.25s\tremaining: 34.3ms\n",
      "985:\tlearn: 0.0213032\ttotal: 2.25s\tremaining: 32ms\n",
      "986:\tlearn: 0.0213033\ttotal: 2.26s\tremaining: 29.7ms\n",
      "987:\tlearn: 0.0213027\ttotal: 2.26s\tremaining: 27.4ms\n",
      "988:\tlearn: 0.0213027\ttotal: 2.26s\tremaining: 25.2ms\n",
      "989:\tlearn: 0.0213025\ttotal: 2.26s\tremaining: 22.9ms\n",
      "990:\tlearn: 0.0213024\ttotal: 2.27s\tremaining: 20.6ms\n",
      "991:\tlearn: 0.0213024\ttotal: 2.27s\tremaining: 18.3ms\n",
      "992:\tlearn: 0.0213023\ttotal: 2.27s\tremaining: 16ms\n",
      "993:\tlearn: 0.0213022\ttotal: 2.28s\tremaining: 13.7ms\n",
      "994:\tlearn: 0.0213021\ttotal: 2.28s\tremaining: 11.5ms\n",
      "995:\tlearn: 0.0213019\ttotal: 2.28s\tremaining: 9.16ms\n",
      "996:\tlearn: 0.0213018\ttotal: 2.28s\tremaining: 6.87ms\n",
      "997:\tlearn: 0.0213018\ttotal: 2.29s\tremaining: 4.58ms\n",
      "998:\tlearn: 0.0213018\ttotal: 2.29s\tremaining: 2.29ms\n",
      "999:\tlearn: 0.0213018\ttotal: 2.29s\tremaining: 0us\n",
      "0:\tlearn: 0.2884124\ttotal: 1.38ms\tremaining: 1.38s\n",
      "1:\tlearn: 0.1943718\ttotal: 3.42ms\tremaining: 1.7s\n",
      "2:\tlearn: 0.1571102\ttotal: 6.97ms\tremaining: 2.32s\n",
      "3:\tlearn: 0.1388216\ttotal: 10.1ms\tremaining: 2.51s\n",
      "4:\tlearn: 0.1315963\ttotal: 13.3ms\tremaining: 2.65s\n",
      "5:\tlearn: 0.1247865\ttotal: 15.5ms\tremaining: 2.57s\n",
      "6:\tlearn: 0.1193000\ttotal: 18.1ms\tremaining: 2.57s\n",
      "7:\tlearn: 0.1145325\ttotal: 20.6ms\tremaining: 2.56s\n",
      "8:\tlearn: 0.1065576\ttotal: 22.9ms\tremaining: 2.52s\n",
      "9:\tlearn: 0.1013120\ttotal: 25.1ms\tremaining: 2.49s\n",
      "10:\tlearn: 0.0962953\ttotal: 27.4ms\tremaining: 2.47s\n",
      "11:\tlearn: 0.0920299\ttotal: 31.4ms\tremaining: 2.58s\n",
      "12:\tlearn: 0.0897807\ttotal: 34.5ms\tremaining: 2.62s\n",
      "13:\tlearn: 0.0851586\ttotal: 36.9ms\tremaining: 2.6s\n",
      "14:\tlearn: 0.0828951\ttotal: 39ms\tremaining: 2.56s\n",
      "15:\tlearn: 0.0779793\ttotal: 41.5ms\tremaining: 2.55s\n",
      "16:\tlearn: 0.0757320\ttotal: 44.8ms\tremaining: 2.59s\n",
      "17:\tlearn: 0.0734070\ttotal: 47.4ms\tremaining: 2.59s\n",
      "18:\tlearn: 0.0710779\ttotal: 49.7ms\tremaining: 2.56s\n",
      "19:\tlearn: 0.0695709\ttotal: 52.1ms\tremaining: 2.55s\n",
      "20:\tlearn: 0.0674693\ttotal: 55.9ms\tremaining: 2.6s\n",
      "21:\tlearn: 0.0658992\ttotal: 58.6ms\tremaining: 2.6s\n",
      "22:\tlearn: 0.0637351\ttotal: 62.5ms\tremaining: 2.65s\n",
      "23:\tlearn: 0.0623110\ttotal: 65.2ms\tremaining: 2.65s\n",
      "24:\tlearn: 0.0612383\ttotal: 67.8ms\tremaining: 2.64s\n",
      "25:\tlearn: 0.0589974\ttotal: 70.6ms\tremaining: 2.64s\n",
      "26:\tlearn: 0.0575981\ttotal: 73.1ms\tremaining: 2.63s\n",
      "27:\tlearn: 0.0559183\ttotal: 75.7ms\tremaining: 2.63s\n",
      "28:\tlearn: 0.0539578\ttotal: 78.5ms\tremaining: 2.63s\n",
      "29:\tlearn: 0.0529788\ttotal: 81.3ms\tremaining: 2.63s\n",
      "30:\tlearn: 0.0521946\ttotal: 83.7ms\tremaining: 2.62s\n",
      "31:\tlearn: 0.0510624\ttotal: 85.9ms\tremaining: 2.6s\n",
      "32:\tlearn: 0.0505527\ttotal: 88.1ms\tremaining: 2.58s\n",
      "33:\tlearn: 0.0494553\ttotal: 90.2ms\tremaining: 2.56s\n",
      "34:\tlearn: 0.0489136\ttotal: 92.8ms\tremaining: 2.56s\n",
      "35:\tlearn: 0.0479491\ttotal: 95.8ms\tremaining: 2.56s\n",
      "36:\tlearn: 0.0471861\ttotal: 98.6ms\tremaining: 2.57s\n",
      "37:\tlearn: 0.0463702\ttotal: 102ms\tremaining: 2.59s\n",
      "38:\tlearn: 0.0458764\ttotal: 105ms\tremaining: 2.58s\n",
      "39:\tlearn: 0.0453984\ttotal: 108ms\tremaining: 2.58s\n",
      "40:\tlearn: 0.0445309\ttotal: 110ms\tremaining: 2.58s\n",
      "41:\tlearn: 0.0439038\ttotal: 113ms\tremaining: 2.57s\n",
      "42:\tlearn: 0.0433624\ttotal: 115ms\tremaining: 2.56s\n",
      "43:\tlearn: 0.0424474\ttotal: 118ms\tremaining: 2.55s\n",
      "44:\tlearn: 0.0419903\ttotal: 120ms\tremaining: 2.55s\n",
      "45:\tlearn: 0.0413042\ttotal: 123ms\tremaining: 2.55s\n",
      "46:\tlearn: 0.0404885\ttotal: 125ms\tremaining: 2.54s\n",
      "47:\tlearn: 0.0400752\ttotal: 128ms\tremaining: 2.55s\n",
      "48:\tlearn: 0.0392663\ttotal: 132ms\tremaining: 2.57s\n",
      "49:\tlearn: 0.0380601\ttotal: 135ms\tremaining: 2.56s\n",
      "50:\tlearn: 0.0376898\ttotal: 138ms\tremaining: 2.56s\n",
      "51:\tlearn: 0.0374303\ttotal: 140ms\tremaining: 2.55s\n",
      "52:\tlearn: 0.0371435\ttotal: 143ms\tremaining: 2.55s\n",
      "53:\tlearn: 0.0368044\ttotal: 146ms\tremaining: 2.55s\n",
      "54:\tlearn: 0.0363032\ttotal: 149ms\tremaining: 2.57s\n",
      "55:\tlearn: 0.0357574\ttotal: 152ms\tremaining: 2.56s\n",
      "56:\tlearn: 0.0354468\ttotal: 155ms\tremaining: 2.56s\n",
      "57:\tlearn: 0.0352599\ttotal: 160ms\tremaining: 2.59s\n",
      "58:\tlearn: 0.0350667\ttotal: 162ms\tremaining: 2.58s\n",
      "59:\tlearn: 0.0347184\ttotal: 165ms\tremaining: 2.58s\n",
      "60:\tlearn: 0.0343034\ttotal: 167ms\tremaining: 2.57s\n",
      "61:\tlearn: 0.0335449\ttotal: 169ms\tremaining: 2.56s\n",
      "62:\tlearn: 0.0330163\ttotal: 171ms\tremaining: 2.55s\n",
      "63:\tlearn: 0.0327434\ttotal: 174ms\tremaining: 2.54s\n",
      "64:\tlearn: 0.0325530\ttotal: 176ms\tremaining: 2.53s\n",
      "65:\tlearn: 0.0323392\ttotal: 179ms\tremaining: 2.54s\n",
      "66:\tlearn: 0.0317270\ttotal: 182ms\tremaining: 2.53s\n",
      "67:\tlearn: 0.0312979\ttotal: 184ms\tremaining: 2.52s\n",
      "68:\tlearn: 0.0305810\ttotal: 187ms\tremaining: 2.52s\n",
      "69:\tlearn: 0.0304994\ttotal: 190ms\tremaining: 2.52s\n",
      "70:\tlearn: 0.0303185\ttotal: 192ms\tremaining: 2.51s\n",
      "71:\tlearn: 0.0300084\ttotal: 194ms\tremaining: 2.5s\n",
      "72:\tlearn: 0.0297667\ttotal: 197ms\tremaining: 2.5s\n",
      "73:\tlearn: 0.0296005\ttotal: 199ms\tremaining: 2.49s\n",
      "74:\tlearn: 0.0294664\ttotal: 203ms\tremaining: 2.5s\n",
      "75:\tlearn: 0.0290216\ttotal: 205ms\tremaining: 2.5s\n",
      "76:\tlearn: 0.0287365\ttotal: 209ms\tremaining: 2.5s\n",
      "77:\tlearn: 0.0285612\ttotal: 211ms\tremaining: 2.5s\n",
      "78:\tlearn: 0.0282720\ttotal: 214ms\tremaining: 2.49s\n",
      "79:\tlearn: 0.0280866\ttotal: 216ms\tremaining: 2.48s\n",
      "80:\tlearn: 0.0279603\ttotal: 218ms\tremaining: 2.48s\n",
      "81:\tlearn: 0.0278472\ttotal: 221ms\tremaining: 2.48s\n",
      "82:\tlearn: 0.0276967\ttotal: 224ms\tremaining: 2.48s\n",
      "83:\tlearn: 0.0275243\ttotal: 227ms\tremaining: 2.48s\n",
      "84:\tlearn: 0.0273238\ttotal: 230ms\tremaining: 2.47s\n",
      "85:\tlearn: 0.0271939\ttotal: 232ms\tremaining: 2.47s\n",
      "86:\tlearn: 0.0271414\ttotal: 235ms\tremaining: 2.46s\n",
      "87:\tlearn: 0.0268713\ttotal: 238ms\tremaining: 2.46s\n",
      "88:\tlearn: 0.0266235\ttotal: 241ms\tremaining: 2.47s\n",
      "89:\tlearn: 0.0266208\ttotal: 243ms\tremaining: 2.46s\n",
      "90:\tlearn: 0.0264745\ttotal: 245ms\tremaining: 2.45s\n",
      "91:\tlearn: 0.0262589\ttotal: 248ms\tremaining: 2.44s\n",
      "92:\tlearn: 0.0261375\ttotal: 252ms\tremaining: 2.46s\n",
      "93:\tlearn: 0.0259650\ttotal: 256ms\tremaining: 2.46s\n",
      "94:\tlearn: 0.0258134\ttotal: 259ms\tremaining: 2.46s\n",
      "95:\tlearn: 0.0256792\ttotal: 261ms\tremaining: 2.46s\n",
      "96:\tlearn: 0.0256565\ttotal: 263ms\tremaining: 2.45s\n",
      "97:\tlearn: 0.0255894\ttotal: 265ms\tremaining: 2.44s\n",
      "98:\tlearn: 0.0254772\ttotal: 268ms\tremaining: 2.44s\n",
      "99:\tlearn: 0.0253749\ttotal: 271ms\tremaining: 2.44s\n",
      "100:\tlearn: 0.0252995\ttotal: 273ms\tremaining: 2.43s\n",
      "101:\tlearn: 0.0251229\ttotal: 276ms\tremaining: 2.43s\n",
      "102:\tlearn: 0.0250768\ttotal: 279ms\tremaining: 2.43s\n",
      "103:\tlearn: 0.0248603\ttotal: 282ms\tremaining: 2.43s\n",
      "104:\tlearn: 0.0248601\ttotal: 284ms\tremaining: 2.42s\n",
      "105:\tlearn: 0.0248599\ttotal: 286ms\tremaining: 2.41s\n",
      "106:\tlearn: 0.0248595\ttotal: 288ms\tremaining: 2.4s\n",
      "107:\tlearn: 0.0248107\ttotal: 290ms\tremaining: 2.4s\n",
      "108:\tlearn: 0.0246475\ttotal: 292ms\tremaining: 2.39s\n",
      "109:\tlearn: 0.0245196\ttotal: 294ms\tremaining: 2.38s\n",
      "110:\tlearn: 0.0244609\ttotal: 296ms\tremaining: 2.37s\n",
      "111:\tlearn: 0.0243664\ttotal: 298ms\tremaining: 2.37s\n",
      "112:\tlearn: 0.0240860\ttotal: 302ms\tremaining: 2.37s\n",
      "113:\tlearn: 0.0240226\ttotal: 306ms\tremaining: 2.38s\n",
      "114:\tlearn: 0.0238977\ttotal: 308ms\tremaining: 2.37s\n",
      "115:\tlearn: 0.0238976\ttotal: 310ms\tremaining: 2.36s\n",
      "116:\tlearn: 0.0238138\ttotal: 312ms\tremaining: 2.36s\n",
      "117:\tlearn: 0.0238137\ttotal: 314ms\tremaining: 2.35s\n",
      "118:\tlearn: 0.0238136\ttotal: 316ms\tremaining: 2.34s\n",
      "119:\tlearn: 0.0238136\ttotal: 318ms\tremaining: 2.33s\n",
      "120:\tlearn: 0.0238135\ttotal: 320ms\tremaining: 2.33s\n",
      "121:\tlearn: 0.0238133\ttotal: 322ms\tremaining: 2.32s\n",
      "122:\tlearn: 0.0238132\ttotal: 325ms\tremaining: 2.31s\n",
      "123:\tlearn: 0.0238132\ttotal: 329ms\tremaining: 2.32s\n",
      "124:\tlearn: 0.0238131\ttotal: 331ms\tremaining: 2.32s\n",
      "125:\tlearn: 0.0238130\ttotal: 333ms\tremaining: 2.31s\n",
      "126:\tlearn: 0.0238128\ttotal: 335ms\tremaining: 2.3s\n",
      "127:\tlearn: 0.0238126\ttotal: 337ms\tremaining: 2.29s\n",
      "128:\tlearn: 0.0238124\ttotal: 339ms\tremaining: 2.29s\n",
      "129:\tlearn: 0.0238124\ttotal: 341ms\tremaining: 2.28s\n",
      "130:\tlearn: 0.0238124\ttotal: 342ms\tremaining: 2.27s\n",
      "131:\tlearn: 0.0238124\ttotal: 344ms\tremaining: 2.26s\n",
      "132:\tlearn: 0.0238124\ttotal: 346ms\tremaining: 2.26s\n",
      "133:\tlearn: 0.0238124\ttotal: 348ms\tremaining: 2.25s\n",
      "134:\tlearn: 0.0238121\ttotal: 350ms\tremaining: 2.24s\n",
      "135:\tlearn: 0.0238120\ttotal: 353ms\tremaining: 2.24s\n",
      "136:\tlearn: 0.0238113\ttotal: 355ms\tremaining: 2.23s\n",
      "137:\tlearn: 0.0238109\ttotal: 357ms\tremaining: 2.23s\n",
      "138:\tlearn: 0.0238107\ttotal: 359ms\tremaining: 2.22s\n",
      "139:\tlearn: 0.0238104\ttotal: 361ms\tremaining: 2.21s\n",
      "140:\tlearn: 0.0238104\ttotal: 362ms\tremaining: 2.21s\n",
      "141:\tlearn: 0.0238097\ttotal: 364ms\tremaining: 2.2s\n",
      "142:\tlearn: 0.0238095\ttotal: 366ms\tremaining: 2.19s\n",
      "143:\tlearn: 0.0238089\ttotal: 368ms\tremaining: 2.19s\n",
      "144:\tlearn: 0.0238085\ttotal: 370ms\tremaining: 2.18s\n",
      "145:\tlearn: 0.0238086\ttotal: 374ms\tremaining: 2.19s\n",
      "146:\tlearn: 0.0238084\ttotal: 377ms\tremaining: 2.19s\n",
      "147:\tlearn: 0.0237572\ttotal: 379ms\tremaining: 2.18s\n",
      "148:\tlearn: 0.0237572\ttotal: 381ms\tremaining: 2.17s\n",
      "149:\tlearn: 0.0237569\ttotal: 382ms\tremaining: 2.17s\n",
      "150:\tlearn: 0.0237567\ttotal: 384ms\tremaining: 2.16s\n",
      "151:\tlearn: 0.0237564\ttotal: 386ms\tremaining: 2.15s\n",
      "152:\tlearn: 0.0237564\ttotal: 388ms\tremaining: 2.15s\n",
      "153:\tlearn: 0.0237563\ttotal: 390ms\tremaining: 2.14s\n",
      "154:\tlearn: 0.0237560\ttotal: 392ms\tremaining: 2.14s\n",
      "155:\tlearn: 0.0237561\ttotal: 394ms\tremaining: 2.13s\n",
      "156:\tlearn: 0.0237558\ttotal: 397ms\tremaining: 2.13s\n",
      "157:\tlearn: 0.0237557\ttotal: 399ms\tremaining: 2.13s\n",
      "158:\tlearn: 0.0237556\ttotal: 401ms\tremaining: 2.12s\n",
      "159:\tlearn: 0.0237551\ttotal: 403ms\tremaining: 2.12s\n",
      "160:\tlearn: 0.0237551\ttotal: 405ms\tremaining: 2.11s\n",
      "161:\tlearn: 0.0237551\ttotal: 407ms\tremaining: 2.1s\n",
      "162:\tlearn: 0.0237548\ttotal: 409ms\tremaining: 2.1s\n",
      "163:\tlearn: 0.0237546\ttotal: 411ms\tremaining: 2.1s\n",
      "164:\tlearn: 0.0236638\ttotal: 413ms\tremaining: 2.09s\n",
      "165:\tlearn: 0.0236635\ttotal: 415ms\tremaining: 2.08s\n",
      "166:\tlearn: 0.0236633\ttotal: 417ms\tremaining: 2.08s\n",
      "167:\tlearn: 0.0236632\ttotal: 419ms\tremaining: 2.08s\n",
      "168:\tlearn: 0.0236633\ttotal: 422ms\tremaining: 2.07s\n",
      "169:\tlearn: 0.0236629\ttotal: 425ms\tremaining: 2.07s\n",
      "170:\tlearn: 0.0236629\ttotal: 427ms\tremaining: 2.07s\n",
      "171:\tlearn: 0.0236628\ttotal: 429ms\tremaining: 2.06s\n",
      "172:\tlearn: 0.0236139\ttotal: 431ms\tremaining: 2.06s\n",
      "173:\tlearn: 0.0234691\ttotal: 433ms\tremaining: 2.05s\n",
      "174:\tlearn: 0.0234014\ttotal: 435ms\tremaining: 2.05s\n",
      "175:\tlearn: 0.0233442\ttotal: 438ms\tremaining: 2.05s\n",
      "176:\tlearn: 0.0232000\ttotal: 440ms\tremaining: 2.04s\n",
      "177:\tlearn: 0.0232000\ttotal: 443ms\tremaining: 2.04s\n",
      "178:\tlearn: 0.0231998\ttotal: 446ms\tremaining: 2.04s\n",
      "179:\tlearn: 0.0231995\ttotal: 448ms\tremaining: 2.04s\n",
      "180:\tlearn: 0.0231990\ttotal: 450ms\tremaining: 2.04s\n",
      "181:\tlearn: 0.0231989\ttotal: 452ms\tremaining: 2.03s\n",
      "182:\tlearn: 0.0231735\ttotal: 455ms\tremaining: 2.03s\n",
      "183:\tlearn: 0.0230868\ttotal: 457ms\tremaining: 2.03s\n",
      "184:\tlearn: 0.0229339\ttotal: 460ms\tremaining: 2.02s\n",
      "185:\tlearn: 0.0229334\ttotal: 462ms\tremaining: 2.02s\n",
      "186:\tlearn: 0.0229333\ttotal: 464ms\tremaining: 2.02s\n",
      "187:\tlearn: 0.0229331\ttotal: 465ms\tremaining: 2.01s\n",
      "188:\tlearn: 0.0229329\ttotal: 467ms\tremaining: 2s\n",
      "189:\tlearn: 0.0229326\ttotal: 469ms\tremaining: 2s\n",
      "190:\tlearn: 0.0229324\ttotal: 471ms\tremaining: 2s\n",
      "191:\tlearn: 0.0229323\ttotal: 473ms\tremaining: 1.99s\n",
      "192:\tlearn: 0.0229323\ttotal: 475ms\tremaining: 1.99s\n",
      "193:\tlearn: 0.0229321\ttotal: 478ms\tremaining: 1.99s\n",
      "194:\tlearn: 0.0229318\ttotal: 480ms\tremaining: 1.98s\n",
      "195:\tlearn: 0.0229316\ttotal: 482ms\tremaining: 1.98s\n",
      "196:\tlearn: 0.0229312\ttotal: 483ms\tremaining: 1.97s\n",
      "197:\tlearn: 0.0229311\ttotal: 486ms\tremaining: 1.97s\n",
      "198:\tlearn: 0.0229310\ttotal: 488ms\tremaining: 1.96s\n",
      "199:\tlearn: 0.0229305\ttotal: 490ms\tremaining: 1.96s\n",
      "200:\tlearn: 0.0229303\ttotal: 491ms\tremaining: 1.95s\n",
      "201:\tlearn: 0.0229301\ttotal: 493ms\tremaining: 1.95s\n",
      "202:\tlearn: 0.0229301\ttotal: 496ms\tremaining: 1.95s\n",
      "203:\tlearn: 0.0229298\ttotal: 498ms\tremaining: 1.94s\n",
      "204:\tlearn: 0.0229292\ttotal: 500ms\tremaining: 1.94s\n",
      "205:\tlearn: 0.0229287\ttotal: 502ms\tremaining: 1.94s\n",
      "206:\tlearn: 0.0228692\ttotal: 505ms\tremaining: 1.93s\n",
      "207:\tlearn: 0.0228687\ttotal: 506ms\tremaining: 1.93s\n",
      "208:\tlearn: 0.0227962\ttotal: 508ms\tremaining: 1.92s\n",
      "209:\tlearn: 0.0227961\ttotal: 511ms\tremaining: 1.92s\n",
      "210:\tlearn: 0.0227375\ttotal: 513ms\tremaining: 1.92s\n",
      "211:\tlearn: 0.0226900\ttotal: 515ms\tremaining: 1.91s\n",
      "212:\tlearn: 0.0226358\ttotal: 518ms\tremaining: 1.91s\n",
      "213:\tlearn: 0.0225855\ttotal: 520ms\tremaining: 1.91s\n",
      "214:\tlearn: 0.0224806\ttotal: 523ms\tremaining: 1.91s\n",
      "215:\tlearn: 0.0224805\ttotal: 525ms\tremaining: 1.9s\n",
      "216:\tlearn: 0.0224805\ttotal: 527ms\tremaining: 1.9s\n",
      "217:\tlearn: 0.0224805\ttotal: 529ms\tremaining: 1.9s\n",
      "218:\tlearn: 0.0224802\ttotal: 531ms\tremaining: 1.89s\n",
      "219:\tlearn: 0.0224802\ttotal: 533ms\tremaining: 1.89s\n",
      "220:\tlearn: 0.0224802\ttotal: 535ms\tremaining: 1.89s\n",
      "221:\tlearn: 0.0224798\ttotal: 537ms\tremaining: 1.88s\n",
      "222:\tlearn: 0.0224797\ttotal: 539ms\tremaining: 1.88s\n",
      "223:\tlearn: 0.0224795\ttotal: 540ms\tremaining: 1.87s\n",
      "224:\tlearn: 0.0224794\ttotal: 542ms\tremaining: 1.87s\n",
      "225:\tlearn: 0.0224794\ttotal: 544ms\tremaining: 1.86s\n",
      "226:\tlearn: 0.0224794\ttotal: 546ms\tremaining: 1.86s\n",
      "227:\tlearn: 0.0224794\ttotal: 548ms\tremaining: 1.86s\n",
      "228:\tlearn: 0.0224791\ttotal: 551ms\tremaining: 1.85s\n",
      "229:\tlearn: 0.0224790\ttotal: 553ms\tremaining: 1.85s\n",
      "230:\tlearn: 0.0224789\ttotal: 554ms\tremaining: 1.84s\n",
      "231:\tlearn: 0.0224789\ttotal: 556ms\tremaining: 1.84s\n",
      "232:\tlearn: 0.0224789\ttotal: 558ms\tremaining: 1.84s\n",
      "233:\tlearn: 0.0224787\ttotal: 560ms\tremaining: 1.83s\n",
      "234:\tlearn: 0.0224786\ttotal: 562ms\tremaining: 1.83s\n",
      "235:\tlearn: 0.0224784\ttotal: 564ms\tremaining: 1.82s\n",
      "236:\tlearn: 0.0224784\ttotal: 566ms\tremaining: 1.82s\n",
      "237:\tlearn: 0.0224784\ttotal: 569ms\tremaining: 1.82s\n",
      "238:\tlearn: 0.0224783\ttotal: 571ms\tremaining: 1.82s\n",
      "239:\tlearn: 0.0224783\ttotal: 574ms\tremaining: 1.82s\n",
      "240:\tlearn: 0.0224783\ttotal: 576ms\tremaining: 1.81s\n",
      "241:\tlearn: 0.0224783\ttotal: 578ms\tremaining: 1.81s\n",
      "242:\tlearn: 0.0224783\ttotal: 579ms\tremaining: 1.8s\n",
      "243:\tlearn: 0.0224783\ttotal: 581ms\tremaining: 1.8s\n",
      "244:\tlearn: 0.0224783\ttotal: 582ms\tremaining: 1.79s\n",
      "245:\tlearn: 0.0223399\ttotal: 585ms\tremaining: 1.79s\n",
      "246:\tlearn: 0.0223398\ttotal: 587ms\tremaining: 1.79s\n",
      "247:\tlearn: 0.0223397\ttotal: 589ms\tremaining: 1.79s\n",
      "248:\tlearn: 0.0223396\ttotal: 592ms\tremaining: 1.78s\n",
      "249:\tlearn: 0.0223394\ttotal: 594ms\tremaining: 1.78s\n",
      "250:\tlearn: 0.0223393\ttotal: 596ms\tremaining: 1.78s\n",
      "251:\tlearn: 0.0223391\ttotal: 598ms\tremaining: 1.77s\n",
      "252:\tlearn: 0.0223390\ttotal: 600ms\tremaining: 1.77s\n",
      "253:\tlearn: 0.0223389\ttotal: 602ms\tremaining: 1.77s\n",
      "254:\tlearn: 0.0223388\ttotal: 604ms\tremaining: 1.76s\n",
      "255:\tlearn: 0.0223386\ttotal: 606ms\tremaining: 1.76s\n",
      "256:\tlearn: 0.0223385\ttotal: 608ms\tremaining: 1.76s\n",
      "257:\tlearn: 0.0222432\ttotal: 611ms\tremaining: 1.76s\n",
      "258:\tlearn: 0.0222431\ttotal: 615ms\tremaining: 1.76s\n",
      "259:\tlearn: 0.0222427\ttotal: 617ms\tremaining: 1.75s\n",
      "260:\tlearn: 0.0222217\ttotal: 619ms\tremaining: 1.75s\n",
      "261:\tlearn: 0.0221904\ttotal: 621ms\tremaining: 1.75s\n",
      "262:\tlearn: 0.0221631\ttotal: 623ms\tremaining: 1.75s\n",
      "263:\tlearn: 0.0221093\ttotal: 626ms\tremaining: 1.74s\n",
      "264:\tlearn: 0.0221092\ttotal: 627ms\tremaining: 1.74s\n",
      "265:\tlearn: 0.0220684\ttotal: 629ms\tremaining: 1.74s\n",
      "266:\tlearn: 0.0220682\ttotal: 632ms\tremaining: 1.73s\n",
      "267:\tlearn: 0.0220131\ttotal: 635ms\tremaining: 1.73s\n",
      "268:\tlearn: 0.0219714\ttotal: 638ms\tremaining: 1.73s\n",
      "269:\tlearn: 0.0219712\ttotal: 639ms\tremaining: 1.73s\n",
      "270:\tlearn: 0.0219263\ttotal: 641ms\tremaining: 1.73s\n",
      "271:\tlearn: 0.0219261\ttotal: 643ms\tremaining: 1.72s\n",
      "272:\tlearn: 0.0218760\ttotal: 645ms\tremaining: 1.72s\n",
      "273:\tlearn: 0.0216953\ttotal: 648ms\tremaining: 1.72s\n",
      "274:\tlearn: 0.0216522\ttotal: 650ms\tremaining: 1.71s\n",
      "275:\tlearn: 0.0216278\ttotal: 652ms\tremaining: 1.71s\n",
      "276:\tlearn: 0.0215567\ttotal: 655ms\tremaining: 1.71s\n",
      "277:\tlearn: 0.0215222\ttotal: 657ms\tremaining: 1.71s\n",
      "278:\tlearn: 0.0215219\ttotal: 659ms\tremaining: 1.7s\n",
      "279:\tlearn: 0.0215218\ttotal: 662ms\tremaining: 1.7s\n",
      "280:\tlearn: 0.0215048\ttotal: 664ms\tremaining: 1.7s\n",
      "281:\tlearn: 0.0214553\ttotal: 666ms\tremaining: 1.7s\n",
      "282:\tlearn: 0.0214552\ttotal: 668ms\tremaining: 1.69s\n",
      "283:\tlearn: 0.0214550\ttotal: 669ms\tremaining: 1.69s\n",
      "284:\tlearn: 0.0214113\ttotal: 672ms\tremaining: 1.68s\n",
      "285:\tlearn: 0.0214109\ttotal: 675ms\tremaining: 1.68s\n",
      "286:\tlearn: 0.0214107\ttotal: 677ms\tremaining: 1.68s\n",
      "287:\tlearn: 0.0214108\ttotal: 679ms\tremaining: 1.68s\n",
      "288:\tlearn: 0.0214107\ttotal: 681ms\tremaining: 1.67s\n",
      "289:\tlearn: 0.0214105\ttotal: 682ms\tremaining: 1.67s\n",
      "290:\tlearn: 0.0214105\ttotal: 684ms\tremaining: 1.67s\n",
      "291:\tlearn: 0.0214105\ttotal: 686ms\tremaining: 1.66s\n",
      "292:\tlearn: 0.0214104\ttotal: 688ms\tremaining: 1.66s\n",
      "293:\tlearn: 0.0214104\ttotal: 690ms\tremaining: 1.66s\n",
      "294:\tlearn: 0.0214104\ttotal: 693ms\tremaining: 1.66s\n",
      "295:\tlearn: 0.0214103\ttotal: 695ms\tremaining: 1.65s\n",
      "296:\tlearn: 0.0214103\ttotal: 697ms\tremaining: 1.65s\n",
      "297:\tlearn: 0.0214102\ttotal: 699ms\tremaining: 1.65s\n",
      "298:\tlearn: 0.0214099\ttotal: 701ms\tremaining: 1.64s\n",
      "299:\tlearn: 0.0214098\ttotal: 703ms\tremaining: 1.64s\n",
      "300:\tlearn: 0.0214097\ttotal: 705ms\tremaining: 1.64s\n",
      "301:\tlearn: 0.0214093\ttotal: 706ms\tremaining: 1.63s\n",
      "302:\tlearn: 0.0214092\ttotal: 708ms\tremaining: 1.63s\n",
      "303:\tlearn: 0.0214091\ttotal: 710ms\tremaining: 1.63s\n",
      "304:\tlearn: 0.0214090\ttotal: 712ms\tremaining: 1.62s\n",
      "305:\tlearn: 0.0213212\ttotal: 716ms\tremaining: 1.62s\n",
      "306:\tlearn: 0.0213211\ttotal: 718ms\tremaining: 1.62s\n",
      "307:\tlearn: 0.0213210\ttotal: 720ms\tremaining: 1.62s\n",
      "308:\tlearn: 0.0213208\ttotal: 722ms\tremaining: 1.61s\n",
      "309:\tlearn: 0.0213208\ttotal: 724ms\tremaining: 1.61s\n",
      "310:\tlearn: 0.0213208\ttotal: 726ms\tremaining: 1.61s\n",
      "311:\tlearn: 0.0213206\ttotal: 728ms\tremaining: 1.6s\n",
      "312:\tlearn: 0.0213206\ttotal: 729ms\tremaining: 1.6s\n",
      "313:\tlearn: 0.0213206\ttotal: 731ms\tremaining: 1.6s\n",
      "314:\tlearn: 0.0213206\ttotal: 733ms\tremaining: 1.59s\n",
      "315:\tlearn: 0.0213205\ttotal: 735ms\tremaining: 1.59s\n",
      "316:\tlearn: 0.0213205\ttotal: 738ms\tremaining: 1.59s\n",
      "317:\tlearn: 0.0213203\ttotal: 740ms\tremaining: 1.59s\n",
      "318:\tlearn: 0.0213203\ttotal: 742ms\tremaining: 1.58s\n",
      "319:\tlearn: 0.0213200\ttotal: 744ms\tremaining: 1.58s\n",
      "320:\tlearn: 0.0213199\ttotal: 745ms\tremaining: 1.58s\n",
      "321:\tlearn: 0.0213198\ttotal: 747ms\tremaining: 1.57s\n",
      "322:\tlearn: 0.0213198\ttotal: 750ms\tremaining: 1.57s\n",
      "323:\tlearn: 0.0213197\ttotal: 752ms\tremaining: 1.57s\n",
      "324:\tlearn: 0.0213195\ttotal: 753ms\tremaining: 1.56s\n",
      "325:\tlearn: 0.0213195\ttotal: 756ms\tremaining: 1.56s\n",
      "326:\tlearn: 0.0213194\ttotal: 758ms\tremaining: 1.56s\n",
      "327:\tlearn: 0.0213194\ttotal: 760ms\tremaining: 1.56s\n",
      "328:\tlearn: 0.0213192\ttotal: 762ms\tremaining: 1.55s\n",
      "329:\tlearn: 0.0213191\ttotal: 764ms\tremaining: 1.55s\n",
      "330:\tlearn: 0.0213190\ttotal: 766ms\tremaining: 1.55s\n",
      "331:\tlearn: 0.0213189\ttotal: 768ms\tremaining: 1.54s\n",
      "332:\tlearn: 0.0213186\ttotal: 770ms\tremaining: 1.54s\n",
      "333:\tlearn: 0.0213185\ttotal: 772ms\tremaining: 1.54s\n",
      "334:\tlearn: 0.0213184\ttotal: 774ms\tremaining: 1.54s\n",
      "335:\tlearn: 0.0213182\ttotal: 776ms\tremaining: 1.53s\n",
      "336:\tlearn: 0.0213180\ttotal: 779ms\tremaining: 1.53s\n",
      "337:\tlearn: 0.0213178\ttotal: 781ms\tremaining: 1.53s\n",
      "338:\tlearn: 0.0212956\ttotal: 783ms\tremaining: 1.53s\n",
      "339:\tlearn: 0.0212367\ttotal: 785ms\tremaining: 1.52s\n",
      "340:\tlearn: 0.0212367\ttotal: 787ms\tremaining: 1.52s\n",
      "341:\tlearn: 0.0211416\ttotal: 789ms\tremaining: 1.52s\n",
      "342:\tlearn: 0.0211413\ttotal: 791ms\tremaining: 1.51s\n",
      "343:\tlearn: 0.0210588\ttotal: 793ms\tremaining: 1.51s\n",
      "344:\tlearn: 0.0210105\ttotal: 795ms\tremaining: 1.51s\n",
      "345:\tlearn: 0.0209691\ttotal: 798ms\tremaining: 1.51s\n",
      "346:\tlearn: 0.0209689\ttotal: 800ms\tremaining: 1.5s\n",
      "347:\tlearn: 0.0209688\ttotal: 802ms\tremaining: 1.5s\n",
      "348:\tlearn: 0.0209687\ttotal: 804ms\tremaining: 1.5s\n",
      "349:\tlearn: 0.0209685\ttotal: 806ms\tremaining: 1.5s\n",
      "350:\tlearn: 0.0209676\ttotal: 808ms\tremaining: 1.49s\n",
      "351:\tlearn: 0.0209675\ttotal: 810ms\tremaining: 1.49s\n",
      "352:\tlearn: 0.0209675\ttotal: 813ms\tremaining: 1.49s\n",
      "353:\tlearn: 0.0209670\ttotal: 815ms\tremaining: 1.49s\n",
      "354:\tlearn: 0.0209665\ttotal: 817ms\tremaining: 1.48s\n",
      "355:\tlearn: 0.0209666\ttotal: 820ms\tremaining: 1.48s\n",
      "356:\tlearn: 0.0209664\ttotal: 822ms\tremaining: 1.48s\n",
      "357:\tlearn: 0.0209662\ttotal: 825ms\tremaining: 1.48s\n",
      "358:\tlearn: 0.0209661\ttotal: 827ms\tremaining: 1.48s\n",
      "359:\tlearn: 0.0209661\ttotal: 829ms\tremaining: 1.47s\n",
      "360:\tlearn: 0.0209661\ttotal: 830ms\tremaining: 1.47s\n",
      "361:\tlearn: 0.0209660\ttotal: 832ms\tremaining: 1.47s\n",
      "362:\tlearn: 0.0209659\ttotal: 834ms\tremaining: 1.46s\n",
      "363:\tlearn: 0.0209655\ttotal: 836ms\tremaining: 1.46s\n",
      "364:\tlearn: 0.0209655\ttotal: 838ms\tremaining: 1.46s\n",
      "365:\tlearn: 0.0209654\ttotal: 841ms\tremaining: 1.46s\n",
      "366:\tlearn: 0.0209654\ttotal: 843ms\tremaining: 1.45s\n",
      "367:\tlearn: 0.0209654\ttotal: 845ms\tremaining: 1.45s\n",
      "368:\tlearn: 0.0209655\ttotal: 846ms\tremaining: 1.45s\n",
      "369:\tlearn: 0.0209653\ttotal: 849ms\tremaining: 1.44s\n",
      "370:\tlearn: 0.0209654\ttotal: 851ms\tremaining: 1.44s\n",
      "371:\tlearn: 0.0209653\ttotal: 852ms\tremaining: 1.44s\n",
      "372:\tlearn: 0.0209653\ttotal: 854ms\tremaining: 1.44s\n",
      "373:\tlearn: 0.0209653\ttotal: 856ms\tremaining: 1.43s\n",
      "374:\tlearn: 0.0209653\ttotal: 858ms\tremaining: 1.43s\n",
      "375:\tlearn: 0.0209652\ttotal: 861ms\tremaining: 1.43s\n",
      "376:\tlearn: 0.0209651\ttotal: 863ms\tremaining: 1.43s\n",
      "377:\tlearn: 0.0209650\ttotal: 865ms\tremaining: 1.42s\n",
      "378:\tlearn: 0.0209650\ttotal: 867ms\tremaining: 1.42s\n",
      "379:\tlearn: 0.0209642\ttotal: 869ms\tremaining: 1.42s\n",
      "380:\tlearn: 0.0209641\ttotal: 871ms\tremaining: 1.41s\n",
      "381:\tlearn: 0.0209640\ttotal: 874ms\tremaining: 1.41s\n",
      "382:\tlearn: 0.0209640\ttotal: 877ms\tremaining: 1.41s\n",
      "383:\tlearn: 0.0209639\ttotal: 879ms\tremaining: 1.41s\n",
      "384:\tlearn: 0.0209638\ttotal: 883ms\tremaining: 1.41s\n",
      "385:\tlearn: 0.0209638\ttotal: 885ms\tremaining: 1.41s\n",
      "386:\tlearn: 0.0209636\ttotal: 888ms\tremaining: 1.41s\n",
      "387:\tlearn: 0.0209635\ttotal: 890ms\tremaining: 1.4s\n",
      "388:\tlearn: 0.0209635\ttotal: 892ms\tremaining: 1.4s\n",
      "389:\tlearn: 0.0209634\ttotal: 894ms\tremaining: 1.4s\n",
      "390:\tlearn: 0.0209634\ttotal: 896ms\tremaining: 1.4s\n",
      "391:\tlearn: 0.0209634\ttotal: 898ms\tremaining: 1.39s\n",
      "392:\tlearn: 0.0209632\ttotal: 901ms\tremaining: 1.39s\n",
      "393:\tlearn: 0.0209632\ttotal: 903ms\tremaining: 1.39s\n",
      "394:\tlearn: 0.0209632\ttotal: 906ms\tremaining: 1.39s\n",
      "395:\tlearn: 0.0209631\ttotal: 909ms\tremaining: 1.39s\n",
      "396:\tlearn: 0.0209627\ttotal: 912ms\tremaining: 1.38s\n",
      "397:\tlearn: 0.0209625\ttotal: 914ms\tremaining: 1.38s\n",
      "398:\tlearn: 0.0209622\ttotal: 916ms\tremaining: 1.38s\n",
      "399:\tlearn: 0.0209621\ttotal: 918ms\tremaining: 1.38s\n",
      "400:\tlearn: 0.0209621\ttotal: 920ms\tremaining: 1.37s\n",
      "401:\tlearn: 0.0209619\ttotal: 922ms\tremaining: 1.37s\n",
      "402:\tlearn: 0.0209612\ttotal: 925ms\tremaining: 1.37s\n",
      "403:\tlearn: 0.0209612\ttotal: 928ms\tremaining: 1.37s\n",
      "404:\tlearn: 0.0209611\ttotal: 931ms\tremaining: 1.37s\n",
      "405:\tlearn: 0.0209607\ttotal: 934ms\tremaining: 1.36s\n",
      "406:\tlearn: 0.0209607\ttotal: 936ms\tremaining: 1.36s\n",
      "407:\tlearn: 0.0209606\ttotal: 939ms\tremaining: 1.36s\n",
      "408:\tlearn: 0.0209605\ttotal: 942ms\tremaining: 1.36s\n",
      "409:\tlearn: 0.0209605\ttotal: 944ms\tremaining: 1.36s\n",
      "410:\tlearn: 0.0209605\ttotal: 946ms\tremaining: 1.35s\n",
      "411:\tlearn: 0.0209605\ttotal: 948ms\tremaining: 1.35s\n",
      "412:\tlearn: 0.0209605\ttotal: 951ms\tremaining: 1.35s\n",
      "413:\tlearn: 0.0209599\ttotal: 954ms\tremaining: 1.35s\n",
      "414:\tlearn: 0.0209599\ttotal: 955ms\tremaining: 1.35s\n",
      "415:\tlearn: 0.0209598\ttotal: 957ms\tremaining: 1.34s\n",
      "416:\tlearn: 0.0209597\ttotal: 959ms\tremaining: 1.34s\n",
      "417:\tlearn: 0.0209597\ttotal: 963ms\tremaining: 1.34s\n",
      "418:\tlearn: 0.0209597\ttotal: 965ms\tremaining: 1.34s\n",
      "419:\tlearn: 0.0209596\ttotal: 968ms\tremaining: 1.34s\n",
      "420:\tlearn: 0.0209596\ttotal: 970ms\tremaining: 1.33s\n",
      "421:\tlearn: 0.0209594\ttotal: 971ms\tremaining: 1.33s\n",
      "422:\tlearn: 0.0209593\ttotal: 973ms\tremaining: 1.33s\n",
      "423:\tlearn: 0.0209593\ttotal: 976ms\tremaining: 1.32s\n",
      "424:\tlearn: 0.0209591\ttotal: 977ms\tremaining: 1.32s\n",
      "425:\tlearn: 0.0209589\ttotal: 979ms\tremaining: 1.32s\n",
      "426:\tlearn: 0.0209589\ttotal: 981ms\tremaining: 1.32s\n",
      "427:\tlearn: 0.0209588\ttotal: 983ms\tremaining: 1.31s\n",
      "428:\tlearn: 0.0209587\ttotal: 986ms\tremaining: 1.31s\n",
      "429:\tlearn: 0.0209586\ttotal: 988ms\tremaining: 1.31s\n",
      "430:\tlearn: 0.0209586\ttotal: 990ms\tremaining: 1.31s\n",
      "431:\tlearn: 0.0209584\ttotal: 992ms\tremaining: 1.3s\n",
      "432:\tlearn: 0.0209583\ttotal: 994ms\tremaining: 1.3s\n",
      "433:\tlearn: 0.0209580\ttotal: 996ms\tremaining: 1.3s\n",
      "434:\tlearn: 0.0209572\ttotal: 999ms\tremaining: 1.3s\n",
      "435:\tlearn: 0.0209572\ttotal: 1s\tremaining: 1.29s\n",
      "436:\tlearn: 0.0209572\ttotal: 1s\tremaining: 1.29s\n",
      "437:\tlearn: 0.0209571\ttotal: 1s\tremaining: 1.29s\n",
      "438:\tlearn: 0.0209568\ttotal: 1.01s\tremaining: 1.29s\n",
      "439:\tlearn: 0.0209567\ttotal: 1.01s\tremaining: 1.29s\n",
      "440:\tlearn: 0.0209566\ttotal: 1.01s\tremaining: 1.29s\n",
      "441:\tlearn: 0.0209566\ttotal: 1.02s\tremaining: 1.28s\n",
      "442:\tlearn: 0.0209564\ttotal: 1.02s\tremaining: 1.28s\n",
      "443:\tlearn: 0.0209563\ttotal: 1.02s\tremaining: 1.28s\n",
      "444:\tlearn: 0.0209563\ttotal: 1.02s\tremaining: 1.28s\n",
      "445:\tlearn: 0.0209562\ttotal: 1.03s\tremaining: 1.27s\n",
      "446:\tlearn: 0.0209562\ttotal: 1.03s\tremaining: 1.27s\n",
      "447:\tlearn: 0.0209560\ttotal: 1.03s\tremaining: 1.27s\n",
      "448:\tlearn: 0.0209559\ttotal: 1.03s\tremaining: 1.27s\n",
      "449:\tlearn: 0.0209558\ttotal: 1.03s\tremaining: 1.26s\n",
      "450:\tlearn: 0.0209557\ttotal: 1.04s\tremaining: 1.26s\n",
      "451:\tlearn: 0.0209557\ttotal: 1.04s\tremaining: 1.26s\n",
      "452:\tlearn: 0.0209556\ttotal: 1.04s\tremaining: 1.26s\n",
      "453:\tlearn: 0.0209556\ttotal: 1.04s\tremaining: 1.25s\n",
      "454:\tlearn: 0.0209556\ttotal: 1.04s\tremaining: 1.25s\n",
      "455:\tlearn: 0.0209555\ttotal: 1.05s\tremaining: 1.25s\n",
      "456:\tlearn: 0.0209554\ttotal: 1.05s\tremaining: 1.25s\n",
      "457:\tlearn: 0.0209553\ttotal: 1.05s\tremaining: 1.24s\n",
      "458:\tlearn: 0.0209553\ttotal: 1.05s\tremaining: 1.24s\n",
      "459:\tlearn: 0.0209551\ttotal: 1.05s\tremaining: 1.24s\n",
      "460:\tlearn: 0.0209544\ttotal: 1.06s\tremaining: 1.24s\n",
      "461:\tlearn: 0.0209542\ttotal: 1.06s\tremaining: 1.24s\n",
      "462:\tlearn: 0.0209541\ttotal: 1.06s\tremaining: 1.23s\n",
      "463:\tlearn: 0.0209539\ttotal: 1.06s\tremaining: 1.23s\n",
      "464:\tlearn: 0.0209539\ttotal: 1.07s\tremaining: 1.23s\n",
      "465:\tlearn: 0.0209538\ttotal: 1.07s\tremaining: 1.22s\n",
      "466:\tlearn: 0.0209537\ttotal: 1.07s\tremaining: 1.22s\n",
      "467:\tlearn: 0.0209537\ttotal: 1.07s\tremaining: 1.22s\n",
      "468:\tlearn: 0.0209537\ttotal: 1.07s\tremaining: 1.22s\n",
      "469:\tlearn: 0.0209536\ttotal: 1.08s\tremaining: 1.22s\n",
      "470:\tlearn: 0.0209537\ttotal: 1.08s\tremaining: 1.21s\n",
      "471:\tlearn: 0.0209535\ttotal: 1.08s\tremaining: 1.21s\n",
      "472:\tlearn: 0.0209534\ttotal: 1.08s\tremaining: 1.21s\n",
      "473:\tlearn: 0.0209534\ttotal: 1.09s\tremaining: 1.21s\n",
      "474:\tlearn: 0.0209534\ttotal: 1.09s\tremaining: 1.2s\n",
      "475:\tlearn: 0.0209534\ttotal: 1.09s\tremaining: 1.2s\n",
      "476:\tlearn: 0.0209533\ttotal: 1.09s\tremaining: 1.2s\n",
      "477:\tlearn: 0.0209527\ttotal: 1.09s\tremaining: 1.19s\n",
      "478:\tlearn: 0.0209526\ttotal: 1.09s\tremaining: 1.19s\n",
      "479:\tlearn: 0.0209524\ttotal: 1.1s\tremaining: 1.19s\n",
      "480:\tlearn: 0.0209522\ttotal: 1.1s\tremaining: 1.19s\n",
      "481:\tlearn: 0.0209522\ttotal: 1.1s\tremaining: 1.19s\n",
      "482:\tlearn: 0.0209521\ttotal: 1.1s\tremaining: 1.18s\n",
      "483:\tlearn: 0.0209520\ttotal: 1.11s\tremaining: 1.18s\n",
      "484:\tlearn: 0.0209519\ttotal: 1.11s\tremaining: 1.18s\n",
      "485:\tlearn: 0.0209518\ttotal: 1.11s\tremaining: 1.18s\n",
      "486:\tlearn: 0.0209518\ttotal: 1.11s\tremaining: 1.17s\n",
      "487:\tlearn: 0.0209517\ttotal: 1.11s\tremaining: 1.17s\n",
      "488:\tlearn: 0.0209516\ttotal: 1.12s\tremaining: 1.17s\n",
      "489:\tlearn: 0.0209515\ttotal: 1.12s\tremaining: 1.16s\n",
      "490:\tlearn: 0.0209515\ttotal: 1.12s\tremaining: 1.16s\n",
      "491:\tlearn: 0.0209513\ttotal: 1.12s\tremaining: 1.16s\n",
      "492:\tlearn: 0.0209512\ttotal: 1.13s\tremaining: 1.16s\n",
      "493:\tlearn: 0.0209511\ttotal: 1.13s\tremaining: 1.16s\n",
      "494:\tlearn: 0.0209510\ttotal: 1.13s\tremaining: 1.15s\n",
      "495:\tlearn: 0.0209510\ttotal: 1.13s\tremaining: 1.15s\n",
      "496:\tlearn: 0.0209509\ttotal: 1.13s\tremaining: 1.15s\n",
      "497:\tlearn: 0.0209508\ttotal: 1.14s\tremaining: 1.14s\n",
      "498:\tlearn: 0.0209508\ttotal: 1.14s\tremaining: 1.14s\n",
      "499:\tlearn: 0.0209507\ttotal: 1.14s\tremaining: 1.14s\n",
      "500:\tlearn: 0.0209508\ttotal: 1.14s\tremaining: 1.14s\n",
      "501:\tlearn: 0.0209507\ttotal: 1.15s\tremaining: 1.14s\n",
      "502:\tlearn: 0.0209507\ttotal: 1.15s\tremaining: 1.13s\n",
      "503:\tlearn: 0.0209506\ttotal: 1.15s\tremaining: 1.13s\n",
      "504:\tlearn: 0.0209505\ttotal: 1.15s\tremaining: 1.13s\n",
      "505:\tlearn: 0.0209506\ttotal: 1.16s\tremaining: 1.13s\n",
      "506:\tlearn: 0.0209506\ttotal: 1.16s\tremaining: 1.13s\n",
      "507:\tlearn: 0.0209505\ttotal: 1.16s\tremaining: 1.12s\n",
      "508:\tlearn: 0.0209504\ttotal: 1.16s\tremaining: 1.12s\n",
      "509:\tlearn: 0.0209503\ttotal: 1.16s\tremaining: 1.12s\n",
      "510:\tlearn: 0.0209497\ttotal: 1.17s\tremaining: 1.11s\n",
      "511:\tlearn: 0.0209497\ttotal: 1.17s\tremaining: 1.11s\n",
      "512:\tlearn: 0.0209497\ttotal: 1.17s\tremaining: 1.11s\n",
      "513:\tlearn: 0.0209495\ttotal: 1.17s\tremaining: 1.11s\n",
      "514:\tlearn: 0.0209495\ttotal: 1.17s\tremaining: 1.11s\n",
      "515:\tlearn: 0.0209495\ttotal: 1.18s\tremaining: 1.1s\n",
      "516:\tlearn: 0.0209495\ttotal: 1.18s\tremaining: 1.1s\n",
      "517:\tlearn: 0.0209494\ttotal: 1.18s\tremaining: 1.1s\n",
      "518:\tlearn: 0.0209494\ttotal: 1.18s\tremaining: 1.09s\n",
      "519:\tlearn: 0.0209488\ttotal: 1.18s\tremaining: 1.09s\n",
      "520:\tlearn: 0.0209488\ttotal: 1.19s\tremaining: 1.09s\n",
      "521:\tlearn: 0.0209487\ttotal: 1.19s\tremaining: 1.09s\n",
      "522:\tlearn: 0.0209487\ttotal: 1.19s\tremaining: 1.09s\n",
      "523:\tlearn: 0.0209486\ttotal: 1.19s\tremaining: 1.08s\n",
      "524:\tlearn: 0.0209486\ttotal: 1.2s\tremaining: 1.08s\n",
      "525:\tlearn: 0.0209486\ttotal: 1.2s\tremaining: 1.08s\n",
      "526:\tlearn: 0.0209485\ttotal: 1.2s\tremaining: 1.08s\n",
      "527:\tlearn: 0.0209484\ttotal: 1.2s\tremaining: 1.07s\n",
      "528:\tlearn: 0.0209484\ttotal: 1.2s\tremaining: 1.07s\n",
      "529:\tlearn: 0.0209483\ttotal: 1.21s\tremaining: 1.07s\n",
      "530:\tlearn: 0.0209483\ttotal: 1.21s\tremaining: 1.07s\n",
      "531:\tlearn: 0.0209482\ttotal: 1.21s\tremaining: 1.06s\n",
      "532:\tlearn: 0.0209480\ttotal: 1.21s\tremaining: 1.06s\n",
      "533:\tlearn: 0.0209480\ttotal: 1.22s\tremaining: 1.06s\n",
      "534:\tlearn: 0.0209480\ttotal: 1.22s\tremaining: 1.06s\n",
      "535:\tlearn: 0.0209479\ttotal: 1.22s\tremaining: 1.06s\n",
      "536:\tlearn: 0.0209480\ttotal: 1.22s\tremaining: 1.05s\n",
      "537:\tlearn: 0.0209479\ttotal: 1.23s\tremaining: 1.05s\n",
      "538:\tlearn: 0.0209478\ttotal: 1.23s\tremaining: 1.05s\n",
      "539:\tlearn: 0.0209477\ttotal: 1.23s\tremaining: 1.05s\n",
      "540:\tlearn: 0.0209474\ttotal: 1.23s\tremaining: 1.04s\n",
      "541:\tlearn: 0.0209472\ttotal: 1.23s\tremaining: 1.04s\n",
      "542:\tlearn: 0.0209471\ttotal: 1.24s\tremaining: 1.04s\n",
      "543:\tlearn: 0.0209469\ttotal: 1.24s\tremaining: 1.04s\n",
      "544:\tlearn: 0.0209469\ttotal: 1.24s\tremaining: 1.04s\n",
      "545:\tlearn: 0.0209468\ttotal: 1.24s\tremaining: 1.03s\n",
      "546:\tlearn: 0.0209469\ttotal: 1.25s\tremaining: 1.03s\n",
      "547:\tlearn: 0.0209468\ttotal: 1.25s\tremaining: 1.03s\n",
      "548:\tlearn: 0.0209468\ttotal: 1.25s\tremaining: 1.03s\n",
      "549:\tlearn: 0.0209467\ttotal: 1.25s\tremaining: 1.02s\n",
      "550:\tlearn: 0.0209467\ttotal: 1.25s\tremaining: 1.02s\n",
      "551:\tlearn: 0.0209467\ttotal: 1.26s\tremaining: 1.02s\n",
      "552:\tlearn: 0.0209466\ttotal: 1.26s\tremaining: 1.02s\n",
      "553:\tlearn: 0.0209465\ttotal: 1.26s\tremaining: 1.02s\n",
      "554:\tlearn: 0.0209465\ttotal: 1.27s\tremaining: 1.02s\n",
      "555:\tlearn: 0.0209465\ttotal: 1.27s\tremaining: 1.01s\n",
      "556:\tlearn: 0.0209464\ttotal: 1.27s\tremaining: 1.01s\n",
      "557:\tlearn: 0.0209463\ttotal: 1.27s\tremaining: 1.01s\n",
      "558:\tlearn: 0.0209462\ttotal: 1.28s\tremaining: 1.01s\n",
      "559:\tlearn: 0.0209462\ttotal: 1.28s\tremaining: 1s\n",
      "560:\tlearn: 0.0209461\ttotal: 1.28s\tremaining: 1s\n",
      "561:\tlearn: 0.0209460\ttotal: 1.28s\tremaining: 999ms\n",
      "562:\tlearn: 0.0209460\ttotal: 1.28s\tremaining: 997ms\n",
      "563:\tlearn: 0.0209459\ttotal: 1.29s\tremaining: 995ms\n",
      "564:\tlearn: 0.0209457\ttotal: 1.29s\tremaining: 992ms\n",
      "565:\tlearn: 0.0209457\ttotal: 1.29s\tremaining: 990ms\n",
      "566:\tlearn: 0.0209457\ttotal: 1.29s\tremaining: 987ms\n",
      "567:\tlearn: 0.0209457\ttotal: 1.29s\tremaining: 984ms\n",
      "568:\tlearn: 0.0209456\ttotal: 1.29s\tremaining: 982ms\n",
      "569:\tlearn: 0.0209456\ttotal: 1.3s\tremaining: 979ms\n",
      "570:\tlearn: 0.0209453\ttotal: 1.3s\tremaining: 977ms\n",
      "571:\tlearn: 0.0209453\ttotal: 1.3s\tremaining: 976ms\n",
      "572:\tlearn: 0.0209448\ttotal: 1.31s\tremaining: 973ms\n",
      "573:\tlearn: 0.0209447\ttotal: 1.31s\tremaining: 971ms\n",
      "574:\tlearn: 0.0209446\ttotal: 1.31s\tremaining: 968ms\n",
      "575:\tlearn: 0.0209446\ttotal: 1.31s\tremaining: 967ms\n",
      "576:\tlearn: 0.0209445\ttotal: 1.31s\tremaining: 964ms\n",
      "577:\tlearn: 0.0209444\ttotal: 1.32s\tremaining: 962ms\n",
      "578:\tlearn: 0.0209444\ttotal: 1.32s\tremaining: 959ms\n",
      "579:\tlearn: 0.0209443\ttotal: 1.32s\tremaining: 956ms\n",
      "580:\tlearn: 0.0209442\ttotal: 1.32s\tremaining: 955ms\n",
      "581:\tlearn: 0.0209442\ttotal: 1.33s\tremaining: 953ms\n",
      "582:\tlearn: 0.0209441\ttotal: 1.33s\tremaining: 950ms\n",
      "583:\tlearn: 0.0209439\ttotal: 1.33s\tremaining: 948ms\n",
      "584:\tlearn: 0.0209439\ttotal: 1.33s\tremaining: 945ms\n",
      "585:\tlearn: 0.0209439\ttotal: 1.33s\tremaining: 943ms\n",
      "586:\tlearn: 0.0209439\ttotal: 1.34s\tremaining: 940ms\n",
      "587:\tlearn: 0.0209438\ttotal: 1.34s\tremaining: 938ms\n",
      "588:\tlearn: 0.0209438\ttotal: 1.34s\tremaining: 935ms\n",
      "589:\tlearn: 0.0209431\ttotal: 1.34s\tremaining: 933ms\n",
      "590:\tlearn: 0.0209431\ttotal: 1.34s\tremaining: 931ms\n",
      "591:\tlearn: 0.0209429\ttotal: 1.35s\tremaining: 928ms\n",
      "592:\tlearn: 0.0209428\ttotal: 1.35s\tremaining: 926ms\n",
      "593:\tlearn: 0.0209426\ttotal: 1.35s\tremaining: 923ms\n",
      "594:\tlearn: 0.0209253\ttotal: 1.35s\tremaining: 921ms\n",
      "595:\tlearn: 0.0209252\ttotal: 1.35s\tremaining: 918ms\n",
      "596:\tlearn: 0.0209251\ttotal: 1.36s\tremaining: 916ms\n",
      "597:\tlearn: 0.0209250\ttotal: 1.36s\tremaining: 913ms\n",
      "598:\tlearn: 0.0209250\ttotal: 1.36s\tremaining: 911ms\n",
      "599:\tlearn: 0.0209247\ttotal: 1.36s\tremaining: 909ms\n",
      "600:\tlearn: 0.0209247\ttotal: 1.36s\tremaining: 907ms\n",
      "601:\tlearn: 0.0209247\ttotal: 1.37s\tremaining: 904ms\n",
      "602:\tlearn: 0.0209245\ttotal: 1.37s\tremaining: 901ms\n",
      "603:\tlearn: 0.0209245\ttotal: 1.37s\tremaining: 900ms\n",
      "604:\tlearn: 0.0209244\ttotal: 1.37s\tremaining: 898ms\n",
      "605:\tlearn: 0.0209243\ttotal: 1.38s\tremaining: 896ms\n",
      "606:\tlearn: 0.0209243\ttotal: 1.38s\tremaining: 893ms\n",
      "607:\tlearn: 0.0209243\ttotal: 1.38s\tremaining: 891ms\n",
      "608:\tlearn: 0.0209241\ttotal: 1.38s\tremaining: 888ms\n",
      "609:\tlearn: 0.0209239\ttotal: 1.38s\tremaining: 885ms\n",
      "610:\tlearn: 0.0209239\ttotal: 1.39s\tremaining: 884ms\n",
      "611:\tlearn: 0.0209238\ttotal: 1.39s\tremaining: 881ms\n",
      "612:\tlearn: 0.0209237\ttotal: 1.39s\tremaining: 879ms\n",
      "613:\tlearn: 0.0209236\ttotal: 1.39s\tremaining: 876ms\n",
      "614:\tlearn: 0.0209235\ttotal: 1.4s\tremaining: 874ms\n",
      "615:\tlearn: 0.0209233\ttotal: 1.4s\tremaining: 872ms\n",
      "616:\tlearn: 0.0209233\ttotal: 1.4s\tremaining: 870ms\n",
      "617:\tlearn: 0.0209233\ttotal: 1.4s\tremaining: 867ms\n",
      "618:\tlearn: 0.0209231\ttotal: 1.4s\tremaining: 865ms\n",
      "619:\tlearn: 0.0209230\ttotal: 1.41s\tremaining: 862ms\n",
      "620:\tlearn: 0.0209228\ttotal: 1.41s\tremaining: 859ms\n",
      "621:\tlearn: 0.0209229\ttotal: 1.41s\tremaining: 857ms\n",
      "622:\tlearn: 0.0209228\ttotal: 1.41s\tremaining: 855ms\n",
      "623:\tlearn: 0.0209228\ttotal: 1.42s\tremaining: 853ms\n",
      "624:\tlearn: 0.0209226\ttotal: 1.42s\tremaining: 851ms\n",
      "625:\tlearn: 0.0209226\ttotal: 1.42s\tremaining: 848ms\n",
      "626:\tlearn: 0.0209225\ttotal: 1.42s\tremaining: 846ms\n",
      "627:\tlearn: 0.0209223\ttotal: 1.42s\tremaining: 843ms\n",
      "628:\tlearn: 0.0209219\ttotal: 1.43s\tremaining: 841ms\n",
      "629:\tlearn: 0.0209218\ttotal: 1.43s\tremaining: 839ms\n",
      "630:\tlearn: 0.0209218\ttotal: 1.43s\tremaining: 836ms\n",
      "631:\tlearn: 0.0209217\ttotal: 1.43s\tremaining: 834ms\n",
      "632:\tlearn: 0.0209215\ttotal: 1.43s\tremaining: 831ms\n",
      "633:\tlearn: 0.0209214\ttotal: 1.44s\tremaining: 829ms\n",
      "634:\tlearn: 0.0209214\ttotal: 1.44s\tremaining: 827ms\n",
      "635:\tlearn: 0.0209214\ttotal: 1.44s\tremaining: 825ms\n",
      "636:\tlearn: 0.0209213\ttotal: 1.44s\tremaining: 823ms\n",
      "637:\tlearn: 0.0209212\ttotal: 1.45s\tremaining: 820ms\n",
      "638:\tlearn: 0.0209212\ttotal: 1.45s\tremaining: 817ms\n",
      "639:\tlearn: 0.0209209\ttotal: 1.45s\tremaining: 816ms\n",
      "640:\tlearn: 0.0209207\ttotal: 1.45s\tremaining: 813ms\n",
      "641:\tlearn: 0.0209208\ttotal: 1.45s\tremaining: 811ms\n",
      "642:\tlearn: 0.0209206\ttotal: 1.46s\tremaining: 808ms\n",
      "643:\tlearn: 0.0209205\ttotal: 1.46s\tremaining: 806ms\n",
      "644:\tlearn: 0.0209203\ttotal: 1.46s\tremaining: 804ms\n",
      "645:\tlearn: 0.0209204\ttotal: 1.46s\tremaining: 802ms\n",
      "646:\tlearn: 0.0209200\ttotal: 1.46s\tremaining: 799ms\n",
      "647:\tlearn: 0.0209198\ttotal: 1.47s\tremaining: 797ms\n",
      "648:\tlearn: 0.0209197\ttotal: 1.47s\tremaining: 794ms\n",
      "649:\tlearn: 0.0209196\ttotal: 1.47s\tremaining: 792ms\n",
      "650:\tlearn: 0.0209193\ttotal: 1.47s\tremaining: 789ms\n",
      "651:\tlearn: 0.0209193\ttotal: 1.47s\tremaining: 787ms\n",
      "652:\tlearn: 0.0209192\ttotal: 1.48s\tremaining: 785ms\n",
      "653:\tlearn: 0.0209193\ttotal: 1.48s\tremaining: 782ms\n",
      "654:\tlearn: 0.0209190\ttotal: 1.48s\tremaining: 780ms\n",
      "655:\tlearn: 0.0209189\ttotal: 1.48s\tremaining: 777ms\n",
      "656:\tlearn: 0.0209188\ttotal: 1.48s\tremaining: 775ms\n",
      "657:\tlearn: 0.0209188\ttotal: 1.49s\tremaining: 772ms\n",
      "658:\tlearn: 0.0209187\ttotal: 1.49s\tremaining: 770ms\n",
      "659:\tlearn: 0.0209186\ttotal: 1.49s\tremaining: 768ms\n",
      "660:\tlearn: 0.0209186\ttotal: 1.49s\tremaining: 766ms\n",
      "661:\tlearn: 0.0209185\ttotal: 1.49s\tremaining: 763ms\n",
      "662:\tlearn: 0.0209184\ttotal: 1.5s\tremaining: 761ms\n",
      "663:\tlearn: 0.0209183\ttotal: 1.5s\tremaining: 760ms\n",
      "664:\tlearn: 0.0209183\ttotal: 1.5s\tremaining: 757ms\n",
      "665:\tlearn: 0.0209183\ttotal: 1.5s\tremaining: 755ms\n",
      "666:\tlearn: 0.0209182\ttotal: 1.51s\tremaining: 752ms\n",
      "667:\tlearn: 0.0209182\ttotal: 1.51s\tremaining: 750ms\n",
      "668:\tlearn: 0.0209179\ttotal: 1.51s\tremaining: 748ms\n",
      "669:\tlearn: 0.0209178\ttotal: 1.51s\tremaining: 745ms\n",
      "670:\tlearn: 0.0209177\ttotal: 1.51s\tremaining: 743ms\n",
      "671:\tlearn: 0.0209176\ttotal: 1.52s\tremaining: 741ms\n",
      "672:\tlearn: 0.0209173\ttotal: 1.52s\tremaining: 739ms\n",
      "673:\tlearn: 0.0209173\ttotal: 1.52s\tremaining: 736ms\n",
      "674:\tlearn: 0.0209172\ttotal: 1.52s\tremaining: 734ms\n",
      "675:\tlearn: 0.0209172\ttotal: 1.53s\tremaining: 732ms\n",
      "676:\tlearn: 0.0209172\ttotal: 1.53s\tremaining: 729ms\n",
      "677:\tlearn: 0.0209171\ttotal: 1.53s\tremaining: 727ms\n",
      "678:\tlearn: 0.0209170\ttotal: 1.53s\tremaining: 724ms\n",
      "679:\tlearn: 0.0209170\ttotal: 1.53s\tremaining: 722ms\n",
      "680:\tlearn: 0.0209169\ttotal: 1.54s\tremaining: 720ms\n",
      "681:\tlearn: 0.0209169\ttotal: 1.54s\tremaining: 718ms\n",
      "682:\tlearn: 0.0209170\ttotal: 1.54s\tremaining: 715ms\n",
      "683:\tlearn: 0.0209170\ttotal: 1.54s\tremaining: 713ms\n",
      "684:\tlearn: 0.0209168\ttotal: 1.54s\tremaining: 710ms\n",
      "685:\tlearn: 0.0209166\ttotal: 1.55s\tremaining: 708ms\n",
      "686:\tlearn: 0.0209165\ttotal: 1.55s\tremaining: 706ms\n",
      "687:\tlearn: 0.0209164\ttotal: 1.55s\tremaining: 704ms\n",
      "688:\tlearn: 0.0209159\ttotal: 1.55s\tremaining: 701ms\n",
      "689:\tlearn: 0.0209158\ttotal: 1.55s\tremaining: 699ms\n",
      "690:\tlearn: 0.0209158\ttotal: 1.56s\tremaining: 697ms\n",
      "691:\tlearn: 0.0209156\ttotal: 1.56s\tremaining: 695ms\n",
      "692:\tlearn: 0.0209156\ttotal: 1.56s\tremaining: 693ms\n",
      "693:\tlearn: 0.0209154\ttotal: 1.56s\tremaining: 690ms\n",
      "694:\tlearn: 0.0209154\ttotal: 1.57s\tremaining: 688ms\n",
      "695:\tlearn: 0.0209154\ttotal: 1.57s\tremaining: 685ms\n",
      "696:\tlearn: 0.0209153\ttotal: 1.57s\tremaining: 683ms\n",
      "697:\tlearn: 0.0209153\ttotal: 1.57s\tremaining: 681ms\n",
      "698:\tlearn: 0.0209152\ttotal: 1.58s\tremaining: 679ms\n",
      "699:\tlearn: 0.0209151\ttotal: 1.58s\tremaining: 677ms\n",
      "700:\tlearn: 0.0209145\ttotal: 1.58s\tremaining: 674ms\n",
      "701:\tlearn: 0.0209143\ttotal: 1.58s\tremaining: 672ms\n",
      "702:\tlearn: 0.0209143\ttotal: 1.58s\tremaining: 670ms\n",
      "703:\tlearn: 0.0209143\ttotal: 1.59s\tremaining: 667ms\n",
      "704:\tlearn: 0.0209143\ttotal: 1.59s\tremaining: 665ms\n",
      "705:\tlearn: 0.0209142\ttotal: 1.59s\tremaining: 663ms\n",
      "706:\tlearn: 0.0209140\ttotal: 1.59s\tremaining: 660ms\n",
      "707:\tlearn: 0.0209139\ttotal: 1.59s\tremaining: 658ms\n",
      "708:\tlearn: 0.0209139\ttotal: 1.6s\tremaining: 655ms\n",
      "709:\tlearn: 0.0209140\ttotal: 1.6s\tremaining: 653ms\n",
      "710:\tlearn: 0.0209139\ttotal: 1.6s\tremaining: 651ms\n",
      "711:\tlearn: 0.0209139\ttotal: 1.6s\tremaining: 648ms\n",
      "712:\tlearn: 0.0209137\ttotal: 1.6s\tremaining: 646ms\n",
      "713:\tlearn: 0.0209137\ttotal: 1.61s\tremaining: 643ms\n",
      "714:\tlearn: 0.0209136\ttotal: 1.61s\tremaining: 641ms\n",
      "715:\tlearn: 0.0209135\ttotal: 1.61s\tremaining: 639ms\n",
      "716:\tlearn: 0.0209135\ttotal: 1.61s\tremaining: 636ms\n",
      "717:\tlearn: 0.0209133\ttotal: 1.61s\tremaining: 634ms\n",
      "718:\tlearn: 0.0209133\ttotal: 1.61s\tremaining: 632ms\n",
      "719:\tlearn: 0.0209133\ttotal: 1.62s\tremaining: 629ms\n",
      "720:\tlearn: 0.0209133\ttotal: 1.62s\tremaining: 627ms\n",
      "721:\tlearn: 0.0209132\ttotal: 1.62s\tremaining: 624ms\n",
      "722:\tlearn: 0.0209132\ttotal: 1.62s\tremaining: 622ms\n",
      "723:\tlearn: 0.0209132\ttotal: 1.63s\tremaining: 620ms\n",
      "724:\tlearn: 0.0209131\ttotal: 1.63s\tremaining: 618ms\n",
      "725:\tlearn: 0.0209128\ttotal: 1.63s\tremaining: 615ms\n",
      "726:\tlearn: 0.0209128\ttotal: 1.63s\tremaining: 613ms\n",
      "727:\tlearn: 0.0209124\ttotal: 1.63s\tremaining: 610ms\n",
      "728:\tlearn: 0.0209123\ttotal: 1.64s\tremaining: 608ms\n",
      "729:\tlearn: 0.0209123\ttotal: 1.64s\tremaining: 606ms\n",
      "730:\tlearn: 0.0209120\ttotal: 1.64s\tremaining: 604ms\n",
      "731:\tlearn: 0.0209120\ttotal: 1.64s\tremaining: 602ms\n",
      "732:\tlearn: 0.0209119\ttotal: 1.65s\tremaining: 599ms\n",
      "733:\tlearn: 0.0209118\ttotal: 1.65s\tremaining: 597ms\n",
      "734:\tlearn: 0.0209118\ttotal: 1.65s\tremaining: 595ms\n",
      "735:\tlearn: 0.0209118\ttotal: 1.65s\tremaining: 592ms\n",
      "736:\tlearn: 0.0209117\ttotal: 1.65s\tremaining: 590ms\n",
      "737:\tlearn: 0.0209116\ttotal: 1.65s\tremaining: 587ms\n",
      "738:\tlearn: 0.0209116\ttotal: 1.66s\tremaining: 585ms\n",
      "739:\tlearn: 0.0209116\ttotal: 1.66s\tremaining: 583ms\n",
      "740:\tlearn: 0.0209116\ttotal: 1.66s\tremaining: 580ms\n",
      "741:\tlearn: 0.0209115\ttotal: 1.66s\tremaining: 578ms\n",
      "742:\tlearn: 0.0209115\ttotal: 1.67s\tremaining: 576ms\n",
      "743:\tlearn: 0.0209114\ttotal: 1.67s\tremaining: 574ms\n",
      "744:\tlearn: 0.0209114\ttotal: 1.67s\tremaining: 571ms\n",
      "745:\tlearn: 0.0209112\ttotal: 1.67s\tremaining: 569ms\n",
      "746:\tlearn: 0.0209111\ttotal: 1.67s\tremaining: 567ms\n",
      "747:\tlearn: 0.0209110\ttotal: 1.67s\tremaining: 564ms\n",
      "748:\tlearn: 0.0209109\ttotal: 1.68s\tremaining: 562ms\n",
      "749:\tlearn: 0.0209108\ttotal: 1.68s\tremaining: 560ms\n",
      "750:\tlearn: 0.0209108\ttotal: 1.68s\tremaining: 557ms\n",
      "751:\tlearn: 0.0209107\ttotal: 1.68s\tremaining: 555ms\n",
      "752:\tlearn: 0.0209107\ttotal: 1.69s\tremaining: 553ms\n",
      "753:\tlearn: 0.0209107\ttotal: 1.69s\tremaining: 550ms\n",
      "754:\tlearn: 0.0209106\ttotal: 1.69s\tremaining: 548ms\n",
      "755:\tlearn: 0.0209106\ttotal: 1.69s\tremaining: 546ms\n",
      "756:\tlearn: 0.0209106\ttotal: 1.69s\tremaining: 543ms\n",
      "757:\tlearn: 0.0209106\ttotal: 1.69s\tremaining: 541ms\n",
      "758:\tlearn: 0.0209105\ttotal: 1.7s\tremaining: 539ms\n",
      "759:\tlearn: 0.0209105\ttotal: 1.7s\tremaining: 536ms\n",
      "760:\tlearn: 0.0209106\ttotal: 1.7s\tremaining: 534ms\n",
      "761:\tlearn: 0.0209105\ttotal: 1.7s\tremaining: 532ms\n",
      "762:\tlearn: 0.0209104\ttotal: 1.71s\tremaining: 530ms\n",
      "763:\tlearn: 0.0209104\ttotal: 1.71s\tremaining: 528ms\n",
      "764:\tlearn: 0.0209104\ttotal: 1.71s\tremaining: 525ms\n",
      "765:\tlearn: 0.0209104\ttotal: 1.71s\tremaining: 523ms\n",
      "766:\tlearn: 0.0209104\ttotal: 1.71s\tremaining: 521ms\n",
      "767:\tlearn: 0.0209104\ttotal: 1.72s\tremaining: 518ms\n",
      "768:\tlearn: 0.0209103\ttotal: 1.72s\tremaining: 516ms\n",
      "769:\tlearn: 0.0209104\ttotal: 1.72s\tremaining: 514ms\n",
      "770:\tlearn: 0.0209103\ttotal: 1.72s\tremaining: 511ms\n",
      "771:\tlearn: 0.0209102\ttotal: 1.72s\tremaining: 509ms\n",
      "772:\tlearn: 0.0209102\ttotal: 1.73s\tremaining: 507ms\n",
      "773:\tlearn: 0.0209101\ttotal: 1.73s\tremaining: 505ms\n",
      "774:\tlearn: 0.0209102\ttotal: 1.73s\tremaining: 503ms\n",
      "775:\tlearn: 0.0209100\ttotal: 1.73s\tremaining: 500ms\n",
      "776:\tlearn: 0.0209099\ttotal: 1.74s\tremaining: 498ms\n",
      "777:\tlearn: 0.0209100\ttotal: 1.74s\tremaining: 496ms\n",
      "778:\tlearn: 0.0209100\ttotal: 1.74s\tremaining: 494ms\n",
      "779:\tlearn: 0.0209100\ttotal: 1.74s\tremaining: 491ms\n",
      "780:\tlearn: 0.0209099\ttotal: 1.74s\tremaining: 489ms\n",
      "781:\tlearn: 0.0209098\ttotal: 1.75s\tremaining: 487ms\n",
      "782:\tlearn: 0.0209098\ttotal: 1.75s\tremaining: 485ms\n",
      "783:\tlearn: 0.0209098\ttotal: 1.75s\tremaining: 483ms\n",
      "784:\tlearn: 0.0209097\ttotal: 1.75s\tremaining: 481ms\n",
      "785:\tlearn: 0.0209097\ttotal: 1.76s\tremaining: 478ms\n",
      "786:\tlearn: 0.0209097\ttotal: 1.76s\tremaining: 476ms\n",
      "787:\tlearn: 0.0209096\ttotal: 1.76s\tremaining: 474ms\n",
      "788:\tlearn: 0.0209095\ttotal: 1.76s\tremaining: 472ms\n",
      "789:\tlearn: 0.0209094\ttotal: 1.77s\tremaining: 469ms\n",
      "790:\tlearn: 0.0209094\ttotal: 1.77s\tremaining: 467ms\n",
      "791:\tlearn: 0.0209093\ttotal: 1.77s\tremaining: 465ms\n",
      "792:\tlearn: 0.0209092\ttotal: 1.77s\tremaining: 463ms\n",
      "793:\tlearn: 0.0209091\ttotal: 1.78s\tremaining: 461ms\n",
      "794:\tlearn: 0.0209092\ttotal: 1.78s\tremaining: 459ms\n",
      "795:\tlearn: 0.0209091\ttotal: 1.78s\tremaining: 456ms\n",
      "796:\tlearn: 0.0209090\ttotal: 1.78s\tremaining: 454ms\n",
      "797:\tlearn: 0.0209090\ttotal: 1.78s\tremaining: 451ms\n",
      "798:\tlearn: 0.0209090\ttotal: 1.78s\tremaining: 449ms\n",
      "799:\tlearn: 0.0209089\ttotal: 1.79s\tremaining: 447ms\n",
      "800:\tlearn: 0.0209089\ttotal: 1.79s\tremaining: 445ms\n",
      "801:\tlearn: 0.0209088\ttotal: 1.79s\tremaining: 442ms\n",
      "802:\tlearn: 0.0209088\ttotal: 1.79s\tremaining: 440ms\n",
      "803:\tlearn: 0.0209087\ttotal: 1.8s\tremaining: 438ms\n",
      "804:\tlearn: 0.0209087\ttotal: 1.8s\tremaining: 436ms\n",
      "805:\tlearn: 0.0209087\ttotal: 1.8s\tremaining: 433ms\n",
      "806:\tlearn: 0.0209087\ttotal: 1.8s\tremaining: 431ms\n",
      "807:\tlearn: 0.0209087\ttotal: 1.8s\tremaining: 429ms\n",
      "808:\tlearn: 0.0209086\ttotal: 1.8s\tremaining: 426ms\n",
      "809:\tlearn: 0.0209086\ttotal: 1.81s\tremaining: 424ms\n",
      "810:\tlearn: 0.0209085\ttotal: 1.81s\tremaining: 422ms\n",
      "811:\tlearn: 0.0209084\ttotal: 1.81s\tremaining: 420ms\n",
      "812:\tlearn: 0.0209084\ttotal: 1.81s\tremaining: 418ms\n",
      "813:\tlearn: 0.0209083\ttotal: 1.82s\tremaining: 415ms\n",
      "814:\tlearn: 0.0209082\ttotal: 1.82s\tremaining: 413ms\n",
      "815:\tlearn: 0.0209082\ttotal: 1.82s\tremaining: 411ms\n",
      "816:\tlearn: 0.0209081\ttotal: 1.82s\tremaining: 409ms\n",
      "817:\tlearn: 0.0209082\ttotal: 1.83s\tremaining: 406ms\n",
      "818:\tlearn: 0.0209082\ttotal: 1.83s\tremaining: 404ms\n",
      "819:\tlearn: 0.0209078\ttotal: 1.83s\tremaining: 402ms\n",
      "820:\tlearn: 0.0209077\ttotal: 1.83s\tremaining: 399ms\n",
      "821:\tlearn: 0.0209076\ttotal: 1.83s\tremaining: 397ms\n",
      "822:\tlearn: 0.0209076\ttotal: 1.84s\tremaining: 395ms\n",
      "823:\tlearn: 0.0209075\ttotal: 1.84s\tremaining: 393ms\n",
      "824:\tlearn: 0.0209075\ttotal: 1.84s\tremaining: 390ms\n",
      "825:\tlearn: 0.0209074\ttotal: 1.84s\tremaining: 388ms\n",
      "826:\tlearn: 0.0209073\ttotal: 1.84s\tremaining: 386ms\n",
      "827:\tlearn: 0.0209073\ttotal: 1.85s\tremaining: 383ms\n",
      "828:\tlearn: 0.0209073\ttotal: 1.85s\tremaining: 381ms\n",
      "829:\tlearn: 0.0209073\ttotal: 1.85s\tremaining: 379ms\n",
      "830:\tlearn: 0.0209073\ttotal: 1.85s\tremaining: 377ms\n",
      "831:\tlearn: 0.0209072\ttotal: 1.85s\tremaining: 375ms\n",
      "832:\tlearn: 0.0209072\ttotal: 1.86s\tremaining: 372ms\n",
      "833:\tlearn: 0.0209070\ttotal: 1.86s\tremaining: 370ms\n",
      "834:\tlearn: 0.0209069\ttotal: 1.86s\tremaining: 368ms\n",
      "835:\tlearn: 0.0209065\ttotal: 1.86s\tremaining: 366ms\n",
      "836:\tlearn: 0.0209064\ttotal: 1.86s\tremaining: 363ms\n",
      "837:\tlearn: 0.0209064\ttotal: 1.87s\tremaining: 361ms\n",
      "838:\tlearn: 0.0209064\ttotal: 1.87s\tremaining: 359ms\n",
      "839:\tlearn: 0.0209063\ttotal: 1.87s\tremaining: 356ms\n",
      "840:\tlearn: 0.0209064\ttotal: 1.87s\tremaining: 354ms\n",
      "841:\tlearn: 0.0209064\ttotal: 1.88s\tremaining: 352ms\n",
      "842:\tlearn: 0.0209063\ttotal: 1.88s\tremaining: 350ms\n",
      "843:\tlearn: 0.0209061\ttotal: 1.88s\tremaining: 348ms\n",
      "844:\tlearn: 0.0209060\ttotal: 1.88s\tremaining: 345ms\n",
      "845:\tlearn: 0.0209060\ttotal: 1.88s\tremaining: 343ms\n",
      "846:\tlearn: 0.0209059\ttotal: 1.89s\tremaining: 341ms\n",
      "847:\tlearn: 0.0209059\ttotal: 1.89s\tremaining: 339ms\n",
      "848:\tlearn: 0.0209059\ttotal: 1.89s\tremaining: 336ms\n",
      "849:\tlearn: 0.0209058\ttotal: 1.89s\tremaining: 334ms\n",
      "850:\tlearn: 0.0209057\ttotal: 1.9s\tremaining: 332ms\n",
      "851:\tlearn: 0.0209057\ttotal: 1.9s\tremaining: 330ms\n",
      "852:\tlearn: 0.0209056\ttotal: 1.9s\tremaining: 327ms\n",
      "853:\tlearn: 0.0209055\ttotal: 1.9s\tremaining: 325ms\n",
      "854:\tlearn: 0.0209055\ttotal: 1.9s\tremaining: 323ms\n",
      "855:\tlearn: 0.0209054\ttotal: 1.91s\tremaining: 320ms\n",
      "856:\tlearn: 0.0209052\ttotal: 1.91s\tremaining: 318ms\n",
      "857:\tlearn: 0.0209052\ttotal: 1.91s\tremaining: 316ms\n",
      "858:\tlearn: 0.0209052\ttotal: 1.91s\tremaining: 314ms\n",
      "859:\tlearn: 0.0209052\ttotal: 1.91s\tremaining: 311ms\n",
      "860:\tlearn: 0.0209051\ttotal: 1.92s\tremaining: 309ms\n",
      "861:\tlearn: 0.0209051\ttotal: 1.92s\tremaining: 307ms\n",
      "862:\tlearn: 0.0209050\ttotal: 1.92s\tremaining: 305ms\n",
      "863:\tlearn: 0.0209049\ttotal: 1.92s\tremaining: 303ms\n",
      "864:\tlearn: 0.0209047\ttotal: 1.92s\tremaining: 300ms\n",
      "865:\tlearn: 0.0209046\ttotal: 1.93s\tremaining: 298ms\n",
      "866:\tlearn: 0.0209046\ttotal: 1.93s\tremaining: 296ms\n",
      "867:\tlearn: 0.0209046\ttotal: 1.93s\tremaining: 293ms\n",
      "868:\tlearn: 0.0209046\ttotal: 1.93s\tremaining: 291ms\n",
      "869:\tlearn: 0.0209045\ttotal: 1.93s\tremaining: 289ms\n",
      "870:\tlearn: 0.0209045\ttotal: 1.94s\tremaining: 287ms\n",
      "871:\tlearn: 0.0209044\ttotal: 1.94s\tremaining: 284ms\n",
      "872:\tlearn: 0.0209045\ttotal: 1.94s\tremaining: 282ms\n",
      "873:\tlearn: 0.0209044\ttotal: 1.94s\tremaining: 280ms\n",
      "874:\tlearn: 0.0209044\ttotal: 1.94s\tremaining: 278ms\n",
      "875:\tlearn: 0.0209044\ttotal: 1.95s\tremaining: 275ms\n",
      "876:\tlearn: 0.0209043\ttotal: 1.95s\tremaining: 273ms\n",
      "877:\tlearn: 0.0209043\ttotal: 1.95s\tremaining: 271ms\n",
      "878:\tlearn: 0.0209043\ttotal: 1.95s\tremaining: 269ms\n",
      "879:\tlearn: 0.0209043\ttotal: 1.96s\tremaining: 267ms\n",
      "880:\tlearn: 0.0209040\ttotal: 1.96s\tremaining: 264ms\n",
      "881:\tlearn: 0.0209039\ttotal: 1.96s\tremaining: 262ms\n",
      "882:\tlearn: 0.0209040\ttotal: 1.96s\tremaining: 260ms\n",
      "883:\tlearn: 0.0209039\ttotal: 1.97s\tremaining: 258ms\n",
      "884:\tlearn: 0.0209039\ttotal: 1.97s\tremaining: 256ms\n",
      "885:\tlearn: 0.0209038\ttotal: 1.97s\tremaining: 254ms\n",
      "886:\tlearn: 0.0209038\ttotal: 1.98s\tremaining: 252ms\n",
      "887:\tlearn: 0.0209038\ttotal: 1.98s\tremaining: 250ms\n",
      "888:\tlearn: 0.0209037\ttotal: 1.99s\tremaining: 248ms\n",
      "889:\tlearn: 0.0209036\ttotal: 1.99s\tremaining: 246ms\n",
      "890:\tlearn: 0.0209036\ttotal: 1.99s\tremaining: 244ms\n",
      "891:\tlearn: 0.0209035\ttotal: 2s\tremaining: 242ms\n",
      "892:\tlearn: 0.0209034\ttotal: 2.01s\tremaining: 240ms\n",
      "893:\tlearn: 0.0209030\ttotal: 2.01s\tremaining: 238ms\n",
      "894:\tlearn: 0.0209028\ttotal: 2.01s\tremaining: 236ms\n",
      "895:\tlearn: 0.0209028\ttotal: 2.02s\tremaining: 234ms\n",
      "896:\tlearn: 0.0209027\ttotal: 2.02s\tremaining: 232ms\n",
      "897:\tlearn: 0.0209027\ttotal: 2.02s\tremaining: 230ms\n",
      "898:\tlearn: 0.0209026\ttotal: 2.02s\tremaining: 227ms\n",
      "899:\tlearn: 0.0209026\ttotal: 2.03s\tremaining: 225ms\n",
      "900:\tlearn: 0.0209026\ttotal: 2.03s\tremaining: 223ms\n",
      "901:\tlearn: 0.0209026\ttotal: 2.03s\tremaining: 221ms\n",
      "902:\tlearn: 0.0209024\ttotal: 2.04s\tremaining: 219ms\n",
      "903:\tlearn: 0.0209023\ttotal: 2.04s\tremaining: 217ms\n",
      "904:\tlearn: 0.0209023\ttotal: 2.05s\tremaining: 215ms\n",
      "905:\tlearn: 0.0209022\ttotal: 2.05s\tremaining: 212ms\n",
      "906:\tlearn: 0.0209021\ttotal: 2.05s\tremaining: 210ms\n",
      "907:\tlearn: 0.0209020\ttotal: 2.05s\tremaining: 208ms\n",
      "908:\tlearn: 0.0209018\ttotal: 2.06s\tremaining: 206ms\n",
      "909:\tlearn: 0.0209016\ttotal: 2.06s\tremaining: 203ms\n",
      "910:\tlearn: 0.0209016\ttotal: 2.06s\tremaining: 201ms\n",
      "911:\tlearn: 0.0209016\ttotal: 2.06s\tremaining: 199ms\n",
      "912:\tlearn: 0.0209016\ttotal: 2.06s\tremaining: 197ms\n",
      "913:\tlearn: 0.0209015\ttotal: 2.07s\tremaining: 195ms\n",
      "914:\tlearn: 0.0209014\ttotal: 2.07s\tremaining: 192ms\n",
      "915:\tlearn: 0.0209013\ttotal: 2.07s\tremaining: 190ms\n",
      "916:\tlearn: 0.0209013\ttotal: 2.07s\tremaining: 188ms\n",
      "917:\tlearn: 0.0209012\ttotal: 2.08s\tremaining: 185ms\n",
      "918:\tlearn: 0.0209011\ttotal: 2.08s\tremaining: 183ms\n",
      "919:\tlearn: 0.0209010\ttotal: 2.08s\tremaining: 181ms\n",
      "920:\tlearn: 0.0209010\ttotal: 2.08s\tremaining: 179ms\n",
      "921:\tlearn: 0.0209009\ttotal: 2.08s\tremaining: 176ms\n",
      "922:\tlearn: 0.0209009\ttotal: 2.09s\tremaining: 174ms\n",
      "923:\tlearn: 0.0209008\ttotal: 2.09s\tremaining: 172ms\n",
      "924:\tlearn: 0.0209008\ttotal: 2.09s\tremaining: 170ms\n",
      "925:\tlearn: 0.0209007\ttotal: 2.09s\tremaining: 167ms\n",
      "926:\tlearn: 0.0209006\ttotal: 2.09s\tremaining: 165ms\n",
      "927:\tlearn: 0.0209006\ttotal: 2.1s\tremaining: 163ms\n",
      "928:\tlearn: 0.0209006\ttotal: 2.1s\tremaining: 160ms\n",
      "929:\tlearn: 0.0209001\ttotal: 2.1s\tremaining: 158ms\n",
      "930:\tlearn: 0.0208999\ttotal: 2.1s\tremaining: 156ms\n",
      "931:\tlearn: 0.0208996\ttotal: 2.1s\tremaining: 154ms\n",
      "932:\tlearn: 0.0208995\ttotal: 2.11s\tremaining: 151ms\n",
      "933:\tlearn: 0.0208993\ttotal: 2.11s\tremaining: 149ms\n",
      "934:\tlearn: 0.0208984\ttotal: 2.11s\tremaining: 147ms\n",
      "935:\tlearn: 0.0208983\ttotal: 2.12s\tremaining: 145ms\n",
      "936:\tlearn: 0.0208983\ttotal: 2.12s\tremaining: 142ms\n",
      "937:\tlearn: 0.0208983\ttotal: 2.12s\tremaining: 140ms\n",
      "938:\tlearn: 0.0208978\ttotal: 2.12s\tremaining: 138ms\n",
      "939:\tlearn: 0.0208975\ttotal: 2.12s\tremaining: 135ms\n",
      "940:\tlearn: 0.0208974\ttotal: 2.12s\tremaining: 133ms\n",
      "941:\tlearn: 0.0208974\ttotal: 2.13s\tremaining: 131ms\n",
      "942:\tlearn: 0.0208973\ttotal: 2.13s\tremaining: 129ms\n",
      "943:\tlearn: 0.0208972\ttotal: 2.13s\tremaining: 126ms\n",
      "944:\tlearn: 0.0208972\ttotal: 2.13s\tremaining: 124ms\n",
      "945:\tlearn: 0.0208971\ttotal: 2.13s\tremaining: 122ms\n",
      "946:\tlearn: 0.0208970\ttotal: 2.14s\tremaining: 120ms\n",
      "947:\tlearn: 0.0208970\ttotal: 2.14s\tremaining: 117ms\n",
      "948:\tlearn: 0.0208971\ttotal: 2.14s\tremaining: 115ms\n",
      "949:\tlearn: 0.0208970\ttotal: 2.15s\tremaining: 113ms\n",
      "950:\tlearn: 0.0208970\ttotal: 2.15s\tremaining: 111ms\n",
      "951:\tlearn: 0.0208969\ttotal: 2.15s\tremaining: 108ms\n",
      "952:\tlearn: 0.0208968\ttotal: 2.15s\tremaining: 106ms\n",
      "953:\tlearn: 0.0208968\ttotal: 2.15s\tremaining: 104ms\n",
      "954:\tlearn: 0.0208967\ttotal: 2.16s\tremaining: 102ms\n",
      "955:\tlearn: 0.0208967\ttotal: 2.16s\tremaining: 99.4ms\n",
      "956:\tlearn: 0.0208966\ttotal: 2.16s\tremaining: 97.1ms\n",
      "957:\tlearn: 0.0208965\ttotal: 2.16s\tremaining: 94.8ms\n",
      "958:\tlearn: 0.0208964\ttotal: 2.16s\tremaining: 92.5ms\n",
      "959:\tlearn: 0.0208963\ttotal: 2.17s\tremaining: 90.3ms\n",
      "960:\tlearn: 0.0208960\ttotal: 2.17s\tremaining: 88ms\n",
      "961:\tlearn: 0.0208959\ttotal: 2.17s\tremaining: 85.7ms\n",
      "962:\tlearn: 0.0208959\ttotal: 2.17s\tremaining: 83.5ms\n",
      "963:\tlearn: 0.0208951\ttotal: 2.18s\tremaining: 81.3ms\n",
      "964:\tlearn: 0.0208951\ttotal: 2.18s\tremaining: 79ms\n",
      "965:\tlearn: 0.0208951\ttotal: 2.18s\tremaining: 76.7ms\n",
      "966:\tlearn: 0.0208949\ttotal: 2.18s\tremaining: 74.5ms\n",
      "967:\tlearn: 0.0208949\ttotal: 2.18s\tremaining: 72.2ms\n",
      "968:\tlearn: 0.0208948\ttotal: 2.19s\tremaining: 69.9ms\n",
      "969:\tlearn: 0.0208947\ttotal: 2.19s\tremaining: 67.7ms\n",
      "970:\tlearn: 0.0208947\ttotal: 2.19s\tremaining: 65.4ms\n",
      "971:\tlearn: 0.0208947\ttotal: 2.19s\tremaining: 63.2ms\n",
      "972:\tlearn: 0.0208946\ttotal: 2.19s\tremaining: 60.9ms\n",
      "973:\tlearn: 0.0208946\ttotal: 2.2s\tremaining: 58.7ms\n",
      "974:\tlearn: 0.0208946\ttotal: 2.2s\tremaining: 56.4ms\n",
      "975:\tlearn: 0.0208946\ttotal: 2.2s\tremaining: 54.2ms\n",
      "976:\tlearn: 0.0208946\ttotal: 2.2s\tremaining: 51.9ms\n",
      "977:\tlearn: 0.0208945\ttotal: 2.21s\tremaining: 49.6ms\n",
      "978:\tlearn: 0.0208945\ttotal: 2.21s\tremaining: 47.4ms\n",
      "979:\tlearn: 0.0208945\ttotal: 2.21s\tremaining: 45.1ms\n",
      "980:\tlearn: 0.0208944\ttotal: 2.21s\tremaining: 42.8ms\n",
      "981:\tlearn: 0.0208944\ttotal: 2.21s\tremaining: 40.6ms\n",
      "982:\tlearn: 0.0208943\ttotal: 2.22s\tremaining: 38.3ms\n",
      "983:\tlearn: 0.0208941\ttotal: 2.22s\tremaining: 36.1ms\n",
      "984:\tlearn: 0.0208939\ttotal: 2.22s\tremaining: 33.8ms\n",
      "985:\tlearn: 0.0208932\ttotal: 2.22s\tremaining: 31.6ms\n",
      "986:\tlearn: 0.0208931\ttotal: 2.23s\tremaining: 29.3ms\n",
      "987:\tlearn: 0.0208931\ttotal: 2.23s\tremaining: 27.1ms\n",
      "988:\tlearn: 0.0208931\ttotal: 2.23s\tremaining: 24.8ms\n",
      "989:\tlearn: 0.0208931\ttotal: 2.23s\tremaining: 22.5ms\n",
      "990:\tlearn: 0.0208931\ttotal: 2.23s\tremaining: 20.3ms\n",
      "991:\tlearn: 0.0208930\ttotal: 2.24s\tremaining: 18ms\n",
      "992:\tlearn: 0.0208930\ttotal: 2.24s\tremaining: 15.8ms\n",
      "993:\tlearn: 0.0208929\ttotal: 2.24s\tremaining: 13.5ms\n",
      "994:\tlearn: 0.0208929\ttotal: 2.25s\tremaining: 11.3ms\n",
      "995:\tlearn: 0.0208928\ttotal: 2.25s\tremaining: 9.03ms\n",
      "996:\tlearn: 0.0208929\ttotal: 2.25s\tremaining: 6.77ms\n",
      "997:\tlearn: 0.0208927\ttotal: 2.25s\tremaining: 4.52ms\n",
      "998:\tlearn: 0.0208924\ttotal: 2.26s\tremaining: 2.26ms\n",
      "999:\tlearn: 0.0208923\ttotal: 2.26s\tremaining: 0us\n",
      "0:\tlearn: 0.2739261\ttotal: 3.31ms\tremaining: 3.3s\n",
      "1:\tlearn: 0.1893748\ttotal: 6.71ms\tremaining: 3.35s\n",
      "2:\tlearn: 0.1611280\ttotal: 9.32ms\tremaining: 3.1s\n",
      "3:\tlearn: 0.1385483\ttotal: 12.1ms\tremaining: 3.01s\n",
      "4:\tlearn: 0.1269150\ttotal: 14.5ms\tremaining: 2.89s\n",
      "5:\tlearn: 0.1192456\ttotal: 16.9ms\tremaining: 2.8s\n",
      "6:\tlearn: 0.1112386\ttotal: 19.5ms\tremaining: 2.76s\n",
      "7:\tlearn: 0.1066479\ttotal: 22ms\tremaining: 2.73s\n",
      "8:\tlearn: 0.0993936\ttotal: 24.6ms\tremaining: 2.71s\n",
      "9:\tlearn: 0.0946853\ttotal: 27ms\tremaining: 2.67s\n",
      "10:\tlearn: 0.0900410\ttotal: 29.1ms\tremaining: 2.62s\n",
      "11:\tlearn: 0.0863479\ttotal: 31.1ms\tremaining: 2.56s\n",
      "12:\tlearn: 0.0835830\ttotal: 33.2ms\tremaining: 2.52s\n",
      "13:\tlearn: 0.0806100\ttotal: 36.4ms\tremaining: 2.56s\n",
      "14:\tlearn: 0.0787587\ttotal: 40.1ms\tremaining: 2.63s\n",
      "15:\tlearn: 0.0765629\ttotal: 42.4ms\tremaining: 2.61s\n",
      "16:\tlearn: 0.0742908\ttotal: 44.6ms\tremaining: 2.58s\n",
      "17:\tlearn: 0.0725591\ttotal: 47.1ms\tremaining: 2.57s\n",
      "18:\tlearn: 0.0687494\ttotal: 49.6ms\tremaining: 2.56s\n",
      "19:\tlearn: 0.0670880\ttotal: 51.6ms\tremaining: 2.53s\n",
      "20:\tlearn: 0.0653241\ttotal: 53.7ms\tremaining: 2.5s\n",
      "21:\tlearn: 0.0623585\ttotal: 55.7ms\tremaining: 2.47s\n",
      "22:\tlearn: 0.0608145\ttotal: 57.8ms\tremaining: 2.46s\n",
      "23:\tlearn: 0.0585920\ttotal: 60.7ms\tremaining: 2.47s\n",
      "24:\tlearn: 0.0573169\ttotal: 63.8ms\tremaining: 2.49s\n",
      "25:\tlearn: 0.0562352\ttotal: 65.8ms\tremaining: 2.46s\n",
      "26:\tlearn: 0.0547824\ttotal: 67.7ms\tremaining: 2.44s\n",
      "27:\tlearn: 0.0526785\ttotal: 69.7ms\tremaining: 2.42s\n",
      "28:\tlearn: 0.0518012\ttotal: 71.8ms\tremaining: 2.4s\n",
      "29:\tlearn: 0.0505422\ttotal: 74ms\tremaining: 2.39s\n",
      "30:\tlearn: 0.0493692\ttotal: 76.1ms\tremaining: 2.38s\n",
      "31:\tlearn: 0.0487314\ttotal: 78.2ms\tremaining: 2.37s\n",
      "32:\tlearn: 0.0473912\ttotal: 80.7ms\tremaining: 2.37s\n",
      "33:\tlearn: 0.0469209\ttotal: 83.1ms\tremaining: 2.36s\n",
      "34:\tlearn: 0.0464107\ttotal: 85.5ms\tremaining: 2.36s\n",
      "35:\tlearn: 0.0449087\ttotal: 87.7ms\tremaining: 2.35s\n",
      "36:\tlearn: 0.0434756\ttotal: 89.6ms\tremaining: 2.33s\n",
      "37:\tlearn: 0.0429904\ttotal: 91.9ms\tremaining: 2.33s\n",
      "38:\tlearn: 0.0424656\ttotal: 93.8ms\tremaining: 2.31s\n",
      "39:\tlearn: 0.0418897\ttotal: 96ms\tremaining: 2.3s\n",
      "40:\tlearn: 0.0414308\ttotal: 99.4ms\tremaining: 2.32s\n",
      "41:\tlearn: 0.0405913\ttotal: 103ms\tremaining: 2.35s\n",
      "42:\tlearn: 0.0393857\ttotal: 105ms\tremaining: 2.34s\n",
      "43:\tlearn: 0.0388653\ttotal: 107ms\tremaining: 2.33s\n",
      "44:\tlearn: 0.0382322\ttotal: 110ms\tremaining: 2.33s\n",
      "45:\tlearn: 0.0371462\ttotal: 113ms\tremaining: 2.34s\n",
      "46:\tlearn: 0.0366737\ttotal: 115ms\tremaining: 2.33s\n",
      "47:\tlearn: 0.0363103\ttotal: 117ms\tremaining: 2.32s\n",
      "48:\tlearn: 0.0359291\ttotal: 119ms\tremaining: 2.31s\n",
      "49:\tlearn: 0.0350161\ttotal: 121ms\tremaining: 2.31s\n",
      "50:\tlearn: 0.0342450\ttotal: 124ms\tremaining: 2.31s\n",
      "51:\tlearn: 0.0338488\ttotal: 127ms\tremaining: 2.31s\n",
      "52:\tlearn: 0.0334901\ttotal: 129ms\tremaining: 2.3s\n",
      "53:\tlearn: 0.0330836\ttotal: 131ms\tremaining: 2.29s\n",
      "54:\tlearn: 0.0328330\ttotal: 133ms\tremaining: 2.28s\n",
      "55:\tlearn: 0.0319720\ttotal: 135ms\tremaining: 2.28s\n",
      "56:\tlearn: 0.0313099\ttotal: 138ms\tremaining: 2.28s\n",
      "57:\tlearn: 0.0311124\ttotal: 140ms\tremaining: 2.27s\n",
      "58:\tlearn: 0.0306384\ttotal: 142ms\tremaining: 2.26s\n",
      "59:\tlearn: 0.0302968\ttotal: 146ms\tremaining: 2.28s\n",
      "60:\tlearn: 0.0301400\ttotal: 151ms\tremaining: 2.32s\n",
      "61:\tlearn: 0.0297888\ttotal: 153ms\tremaining: 2.31s\n",
      "62:\tlearn: 0.0295957\ttotal: 155ms\tremaining: 2.3s\n",
      "63:\tlearn: 0.0292973\ttotal: 157ms\tremaining: 2.29s\n",
      "64:\tlearn: 0.0291752\ttotal: 159ms\tremaining: 2.29s\n",
      "65:\tlearn: 0.0288964\ttotal: 162ms\tremaining: 2.29s\n",
      "66:\tlearn: 0.0286305\ttotal: 164ms\tremaining: 2.28s\n",
      "67:\tlearn: 0.0284793\ttotal: 166ms\tremaining: 2.28s\n",
      "68:\tlearn: 0.0282552\ttotal: 169ms\tremaining: 2.27s\n",
      "69:\tlearn: 0.0281637\ttotal: 170ms\tremaining: 2.26s\n",
      "70:\tlearn: 0.0276173\ttotal: 173ms\tremaining: 2.26s\n",
      "71:\tlearn: 0.0273981\ttotal: 175ms\tremaining: 2.26s\n",
      "72:\tlearn: 0.0272195\ttotal: 177ms\tremaining: 2.25s\n",
      "73:\tlearn: 0.0270725\ttotal: 179ms\tremaining: 2.24s\n",
      "74:\tlearn: 0.0267372\ttotal: 181ms\tremaining: 2.23s\n",
      "75:\tlearn: 0.0265405\ttotal: 183ms\tremaining: 2.23s\n",
      "76:\tlearn: 0.0263927\ttotal: 186ms\tremaining: 2.23s\n",
      "77:\tlearn: 0.0261704\ttotal: 189ms\tremaining: 2.23s\n",
      "78:\tlearn: 0.0259002\ttotal: 191ms\tremaining: 2.22s\n",
      "79:\tlearn: 0.0256046\ttotal: 193ms\tremaining: 2.22s\n",
      "80:\tlearn: 0.0254414\ttotal: 195ms\tremaining: 2.21s\n",
      "81:\tlearn: 0.0254407\ttotal: 196ms\tremaining: 2.2s\n",
      "82:\tlearn: 0.0253633\ttotal: 199ms\tremaining: 2.2s\n",
      "83:\tlearn: 0.0251830\ttotal: 201ms\tremaining: 2.2s\n",
      "84:\tlearn: 0.0250700\ttotal: 203ms\tremaining: 2.19s\n",
      "85:\tlearn: 0.0247955\ttotal: 206ms\tremaining: 2.19s\n",
      "86:\tlearn: 0.0246800\ttotal: 209ms\tremaining: 2.19s\n",
      "87:\tlearn: 0.0245681\ttotal: 211ms\tremaining: 2.19s\n",
      "88:\tlearn: 0.0245681\ttotal: 213ms\tremaining: 2.18s\n",
      "89:\tlearn: 0.0242426\ttotal: 215ms\tremaining: 2.17s\n",
      "90:\tlearn: 0.0241318\ttotal: 217ms\tremaining: 2.17s\n",
      "91:\tlearn: 0.0241316\ttotal: 219ms\tremaining: 2.16s\n",
      "92:\tlearn: 0.0240344\ttotal: 221ms\tremaining: 2.15s\n",
      "93:\tlearn: 0.0238103\ttotal: 224ms\tremaining: 2.16s\n",
      "94:\tlearn: 0.0237448\ttotal: 227ms\tremaining: 2.17s\n",
      "95:\tlearn: 0.0236226\ttotal: 230ms\tremaining: 2.16s\n",
      "96:\tlearn: 0.0235262\ttotal: 232ms\tremaining: 2.16s\n",
      "97:\tlearn: 0.0234859\ttotal: 234ms\tremaining: 2.15s\n",
      "98:\tlearn: 0.0234215\ttotal: 236ms\tremaining: 2.15s\n",
      "99:\tlearn: 0.0234199\ttotal: 238ms\tremaining: 2.14s\n",
      "100:\tlearn: 0.0232797\ttotal: 240ms\tremaining: 2.14s\n",
      "101:\tlearn: 0.0231192\ttotal: 242ms\tremaining: 2.13s\n",
      "102:\tlearn: 0.0229499\ttotal: 244ms\tremaining: 2.13s\n",
      "103:\tlearn: 0.0227822\ttotal: 248ms\tremaining: 2.13s\n",
      "104:\tlearn: 0.0227820\ttotal: 251ms\tremaining: 2.14s\n",
      "105:\tlearn: 0.0227205\ttotal: 253ms\tremaining: 2.14s\n",
      "106:\tlearn: 0.0227204\ttotal: 256ms\tremaining: 2.13s\n",
      "107:\tlearn: 0.0225895\ttotal: 258ms\tremaining: 2.13s\n",
      "108:\tlearn: 0.0225187\ttotal: 260ms\tremaining: 2.13s\n",
      "109:\tlearn: 0.0224258\ttotal: 264ms\tremaining: 2.13s\n",
      "110:\tlearn: 0.0223557\ttotal: 266ms\tremaining: 2.13s\n",
      "111:\tlearn: 0.0223553\ttotal: 268ms\tremaining: 2.13s\n",
      "112:\tlearn: 0.0222512\ttotal: 271ms\tremaining: 2.13s\n",
      "113:\tlearn: 0.0222339\ttotal: 274ms\tremaining: 2.13s\n",
      "114:\tlearn: 0.0222338\ttotal: 276ms\tremaining: 2.12s\n",
      "115:\tlearn: 0.0221475\ttotal: 278ms\tremaining: 2.12s\n",
      "116:\tlearn: 0.0220985\ttotal: 281ms\tremaining: 2.12s\n",
      "117:\tlearn: 0.0219696\ttotal: 283ms\tremaining: 2.11s\n",
      "118:\tlearn: 0.0219695\ttotal: 285ms\tremaining: 2.11s\n",
      "119:\tlearn: 0.0219290\ttotal: 288ms\tremaining: 2.11s\n",
      "120:\tlearn: 0.0219290\ttotal: 290ms\tremaining: 2.11s\n",
      "121:\tlearn: 0.0219288\ttotal: 293ms\tremaining: 2.11s\n",
      "122:\tlearn: 0.0219286\ttotal: 295ms\tremaining: 2.11s\n",
      "123:\tlearn: 0.0219283\ttotal: 298ms\tremaining: 2.1s\n",
      "124:\tlearn: 0.0218639\ttotal: 300ms\tremaining: 2.1s\n",
      "125:\tlearn: 0.0218639\ttotal: 302ms\tremaining: 2.1s\n",
      "126:\tlearn: 0.0218639\ttotal: 304ms\tremaining: 2.09s\n",
      "127:\tlearn: 0.0218638\ttotal: 306ms\tremaining: 2.08s\n",
      "128:\tlearn: 0.0218638\ttotal: 308ms\tremaining: 2.08s\n",
      "129:\tlearn: 0.0218638\ttotal: 310ms\tremaining: 2.08s\n",
      "130:\tlearn: 0.0218637\ttotal: 313ms\tremaining: 2.07s\n",
      "131:\tlearn: 0.0218636\ttotal: 315ms\tremaining: 2.07s\n",
      "132:\tlearn: 0.0218614\ttotal: 317ms\tremaining: 2.07s\n",
      "133:\tlearn: 0.0218613\ttotal: 320ms\tremaining: 2.07s\n",
      "134:\tlearn: 0.0218612\ttotal: 322ms\tremaining: 2.06s\n",
      "135:\tlearn: 0.0218612\ttotal: 324ms\tremaining: 2.06s\n",
      "136:\tlearn: 0.0218611\ttotal: 326ms\tremaining: 2.05s\n",
      "137:\tlearn: 0.0218609\ttotal: 328ms\tremaining: 2.05s\n",
      "138:\tlearn: 0.0218608\ttotal: 330ms\tremaining: 2.04s\n",
      "139:\tlearn: 0.0218607\ttotal: 332ms\tremaining: 2.04s\n",
      "140:\tlearn: 0.0218606\ttotal: 334ms\tremaining: 2.03s\n",
      "141:\tlearn: 0.0218605\ttotal: 337ms\tremaining: 2.04s\n",
      "142:\tlearn: 0.0218604\ttotal: 339ms\tremaining: 2.03s\n",
      "143:\tlearn: 0.0218602\ttotal: 341ms\tremaining: 2.03s\n",
      "144:\tlearn: 0.0218602\ttotal: 343ms\tremaining: 2.02s\n",
      "145:\tlearn: 0.0218600\ttotal: 345ms\tremaining: 2.02s\n",
      "146:\tlearn: 0.0218597\ttotal: 347ms\tremaining: 2.01s\n",
      "147:\tlearn: 0.0218593\ttotal: 350ms\tremaining: 2.01s\n",
      "148:\tlearn: 0.0217324\ttotal: 352ms\tremaining: 2.01s\n",
      "149:\tlearn: 0.0217317\ttotal: 354ms\tremaining: 2.01s\n",
      "150:\tlearn: 0.0216806\ttotal: 356ms\tremaining: 2s\n",
      "151:\tlearn: 0.0216805\ttotal: 359ms\tremaining: 2s\n",
      "152:\tlearn: 0.0216805\ttotal: 362ms\tremaining: 2s\n",
      "153:\tlearn: 0.0216804\ttotal: 364ms\tremaining: 2s\n",
      "154:\tlearn: 0.0216804\ttotal: 366ms\tremaining: 1.99s\n",
      "155:\tlearn: 0.0216800\ttotal: 368ms\tremaining: 1.99s\n",
      "156:\tlearn: 0.0216782\ttotal: 369ms\tremaining: 1.98s\n",
      "157:\tlearn: 0.0216781\ttotal: 371ms\tremaining: 1.98s\n",
      "158:\tlearn: 0.0216781\ttotal: 373ms\tremaining: 1.98s\n",
      "159:\tlearn: 0.0216779\ttotal: 376ms\tremaining: 1.97s\n",
      "160:\tlearn: 0.0216778\ttotal: 378ms\tremaining: 1.97s\n",
      "161:\tlearn: 0.0216776\ttotal: 380ms\tremaining: 1.97s\n",
      "162:\tlearn: 0.0216775\ttotal: 382ms\tremaining: 1.96s\n",
      "163:\tlearn: 0.0216774\ttotal: 384ms\tremaining: 1.96s\n",
      "164:\tlearn: 0.0216774\ttotal: 386ms\tremaining: 1.95s\n",
      "165:\tlearn: 0.0216773\ttotal: 388ms\tremaining: 1.95s\n",
      "166:\tlearn: 0.0216773\ttotal: 390ms\tremaining: 1.94s\n",
      "167:\tlearn: 0.0216773\ttotal: 392ms\tremaining: 1.94s\n",
      "168:\tlearn: 0.0216771\ttotal: 393ms\tremaining: 1.93s\n",
      "169:\tlearn: 0.0216303\ttotal: 396ms\tremaining: 1.93s\n",
      "170:\tlearn: 0.0216301\ttotal: 398ms\tremaining: 1.93s\n",
      "171:\tlearn: 0.0215761\ttotal: 400ms\tremaining: 1.93s\n",
      "172:\tlearn: 0.0215759\ttotal: 403ms\tremaining: 1.93s\n",
      "173:\tlearn: 0.0215758\ttotal: 405ms\tremaining: 1.92s\n",
      "174:\tlearn: 0.0215757\ttotal: 407ms\tremaining: 1.92s\n",
      "175:\tlearn: 0.0215757\ttotal: 409ms\tremaining: 1.91s\n",
      "176:\tlearn: 0.0215744\ttotal: 411ms\tremaining: 1.91s\n",
      "177:\tlearn: 0.0215741\ttotal: 413ms\tremaining: 1.91s\n",
      "178:\tlearn: 0.0215741\ttotal: 415ms\tremaining: 1.9s\n",
      "179:\tlearn: 0.0215738\ttotal: 417ms\tremaining: 1.9s\n",
      "180:\tlearn: 0.0215737\ttotal: 419ms\tremaining: 1.9s\n",
      "181:\tlearn: 0.0215738\ttotal: 421ms\tremaining: 1.89s\n",
      "182:\tlearn: 0.0215736\ttotal: 423ms\tremaining: 1.89s\n",
      "183:\tlearn: 0.0215735\ttotal: 426ms\tremaining: 1.89s\n",
      "184:\tlearn: 0.0215734\ttotal: 428ms\tremaining: 1.88s\n",
      "185:\tlearn: 0.0215734\ttotal: 429ms\tremaining: 1.88s\n",
      "186:\tlearn: 0.0215731\ttotal: 431ms\tremaining: 1.87s\n",
      "187:\tlearn: 0.0215732\ttotal: 433ms\tremaining: 1.87s\n",
      "188:\tlearn: 0.0215731\ttotal: 435ms\tremaining: 1.86s\n",
      "189:\tlearn: 0.0215730\ttotal: 438ms\tremaining: 1.86s\n",
      "190:\tlearn: 0.0215730\ttotal: 439ms\tremaining: 1.86s\n",
      "191:\tlearn: 0.0215730\ttotal: 441ms\tremaining: 1.86s\n",
      "192:\tlearn: 0.0215705\ttotal: 443ms\tremaining: 1.85s\n",
      "193:\tlearn: 0.0215703\ttotal: 445ms\tremaining: 1.85s\n",
      "194:\tlearn: 0.0215687\ttotal: 447ms\tremaining: 1.84s\n",
      "195:\tlearn: 0.0215672\ttotal: 450ms\tremaining: 1.84s\n",
      "196:\tlearn: 0.0215672\ttotal: 452ms\tremaining: 1.84s\n",
      "197:\tlearn: 0.0215658\ttotal: 454ms\tremaining: 1.84s\n",
      "198:\tlearn: 0.0215653\ttotal: 455ms\tremaining: 1.83s\n",
      "199:\tlearn: 0.0215652\ttotal: 457ms\tremaining: 1.83s\n",
      "200:\tlearn: 0.0215651\ttotal: 459ms\tremaining: 1.82s\n",
      "201:\tlearn: 0.0215651\ttotal: 461ms\tremaining: 1.82s\n",
      "202:\tlearn: 0.0215109\ttotal: 464ms\tremaining: 1.82s\n",
      "203:\tlearn: 0.0215108\ttotal: 466ms\tremaining: 1.82s\n",
      "204:\tlearn: 0.0215107\ttotal: 467ms\tremaining: 1.81s\n",
      "205:\tlearn: 0.0215104\ttotal: 470ms\tremaining: 1.81s\n",
      "206:\tlearn: 0.0215104\ttotal: 472ms\tremaining: 1.81s\n",
      "207:\tlearn: 0.0214886\ttotal: 474ms\tremaining: 1.8s\n",
      "208:\tlearn: 0.0214886\ttotal: 476ms\tremaining: 1.8s\n",
      "209:\tlearn: 0.0214873\ttotal: 478ms\tremaining: 1.8s\n",
      "210:\tlearn: 0.0214872\ttotal: 480ms\tremaining: 1.79s\n",
      "211:\tlearn: 0.0214385\ttotal: 482ms\tremaining: 1.79s\n",
      "212:\tlearn: 0.0214385\ttotal: 483ms\tremaining: 1.79s\n",
      "213:\tlearn: 0.0214384\ttotal: 485ms\tremaining: 1.78s\n",
      "214:\tlearn: 0.0213303\ttotal: 488ms\tremaining: 1.78s\n",
      "215:\tlearn: 0.0212671\ttotal: 490ms\tremaining: 1.78s\n",
      "216:\tlearn: 0.0212669\ttotal: 492ms\tremaining: 1.77s\n",
      "217:\tlearn: 0.0212668\ttotal: 493ms\tremaining: 1.77s\n",
      "218:\tlearn: 0.0212665\ttotal: 495ms\tremaining: 1.77s\n",
      "219:\tlearn: 0.0212663\ttotal: 499ms\tremaining: 1.77s\n",
      "220:\tlearn: 0.0212663\ttotal: 501ms\tremaining: 1.76s\n",
      "221:\tlearn: 0.0212662\ttotal: 503ms\tremaining: 1.76s\n",
      "222:\tlearn: 0.0212659\ttotal: 504ms\tremaining: 1.76s\n",
      "223:\tlearn: 0.0212638\ttotal: 506ms\tremaining: 1.75s\n",
      "224:\tlearn: 0.0212635\ttotal: 508ms\tremaining: 1.75s\n",
      "225:\tlearn: 0.0212003\ttotal: 510ms\tremaining: 1.75s\n",
      "226:\tlearn: 0.0211996\ttotal: 512ms\tremaining: 1.74s\n",
      "227:\tlearn: 0.0211995\ttotal: 514ms\tremaining: 1.74s\n",
      "228:\tlearn: 0.0211994\ttotal: 517ms\tremaining: 1.74s\n",
      "229:\tlearn: 0.0211993\ttotal: 519ms\tremaining: 1.74s\n",
      "230:\tlearn: 0.0211992\ttotal: 521ms\tremaining: 1.73s\n",
      "231:\tlearn: 0.0211991\ttotal: 523ms\tremaining: 1.73s\n",
      "232:\tlearn: 0.0211989\ttotal: 525ms\tremaining: 1.73s\n",
      "233:\tlearn: 0.0211989\ttotal: 527ms\tremaining: 1.73s\n",
      "234:\tlearn: 0.0211988\ttotal: 529ms\tremaining: 1.72s\n",
      "235:\tlearn: 0.0211988\ttotal: 531ms\tremaining: 1.72s\n",
      "236:\tlearn: 0.0211986\ttotal: 532ms\tremaining: 1.71s\n",
      "237:\tlearn: 0.0211986\ttotal: 535ms\tremaining: 1.71s\n",
      "238:\tlearn: 0.0211985\ttotal: 538ms\tremaining: 1.71s\n",
      "239:\tlearn: 0.0211983\ttotal: 540ms\tremaining: 1.71s\n",
      "240:\tlearn: 0.0211982\ttotal: 542ms\tremaining: 1.71s\n",
      "241:\tlearn: 0.0211981\ttotal: 544ms\tremaining: 1.7s\n",
      "242:\tlearn: 0.0211981\ttotal: 545ms\tremaining: 1.7s\n",
      "243:\tlearn: 0.0211974\ttotal: 548ms\tremaining: 1.7s\n",
      "244:\tlearn: 0.0211973\ttotal: 550ms\tremaining: 1.69s\n",
      "245:\tlearn: 0.0211971\ttotal: 552ms\tremaining: 1.69s\n",
      "246:\tlearn: 0.0211967\ttotal: 554ms\tremaining: 1.69s\n",
      "247:\tlearn: 0.0211965\ttotal: 555ms\tremaining: 1.68s\n",
      "248:\tlearn: 0.0211965\ttotal: 559ms\tremaining: 1.68s\n",
      "249:\tlearn: 0.0211958\ttotal: 561ms\tremaining: 1.68s\n",
      "250:\tlearn: 0.0211957\ttotal: 563ms\tremaining: 1.68s\n",
      "251:\tlearn: 0.0211956\ttotal: 565ms\tremaining: 1.68s\n",
      "252:\tlearn: 0.0211955\ttotal: 567ms\tremaining: 1.67s\n",
      "253:\tlearn: 0.0211954\ttotal: 568ms\tremaining: 1.67s\n",
      "254:\tlearn: 0.0211954\ttotal: 570ms\tremaining: 1.67s\n",
      "255:\tlearn: 0.0211953\ttotal: 572ms\tremaining: 1.66s\n",
      "256:\tlearn: 0.0211953\ttotal: 574ms\tremaining: 1.66s\n",
      "257:\tlearn: 0.0211953\ttotal: 576ms\tremaining: 1.66s\n",
      "258:\tlearn: 0.0211952\ttotal: 578ms\tremaining: 1.65s\n",
      "259:\tlearn: 0.0211948\ttotal: 581ms\tremaining: 1.65s\n",
      "260:\tlearn: 0.0211947\ttotal: 583ms\tremaining: 1.65s\n",
      "261:\tlearn: 0.0211945\ttotal: 584ms\tremaining: 1.65s\n",
      "262:\tlearn: 0.0211944\ttotal: 587ms\tremaining: 1.65s\n",
      "263:\tlearn: 0.0211944\ttotal: 589ms\tremaining: 1.64s\n",
      "264:\tlearn: 0.0211941\ttotal: 591ms\tremaining: 1.64s\n",
      "265:\tlearn: 0.0211939\ttotal: 592ms\tremaining: 1.63s\n",
      "266:\tlearn: 0.0211937\ttotal: 594ms\tremaining: 1.63s\n",
      "267:\tlearn: 0.0211936\ttotal: 596ms\tremaining: 1.63s\n",
      "268:\tlearn: 0.0211936\ttotal: 598ms\tremaining: 1.63s\n",
      "269:\tlearn: 0.0211934\ttotal: 602ms\tremaining: 1.63s\n",
      "270:\tlearn: 0.0211933\ttotal: 604ms\tremaining: 1.63s\n",
      "271:\tlearn: 0.0211931\ttotal: 606ms\tremaining: 1.62s\n",
      "272:\tlearn: 0.0211931\ttotal: 608ms\tremaining: 1.62s\n",
      "273:\tlearn: 0.0211929\ttotal: 610ms\tremaining: 1.62s\n",
      "274:\tlearn: 0.0211928\ttotal: 613ms\tremaining: 1.61s\n",
      "275:\tlearn: 0.0211928\ttotal: 615ms\tremaining: 1.61s\n",
      "276:\tlearn: 0.0211923\ttotal: 617ms\tremaining: 1.61s\n",
      "277:\tlearn: 0.0211923\ttotal: 619ms\tremaining: 1.61s\n",
      "278:\tlearn: 0.0211923\ttotal: 623ms\tremaining: 1.61s\n",
      "279:\tlearn: 0.0211917\ttotal: 626ms\tremaining: 1.61s\n",
      "280:\tlearn: 0.0211917\ttotal: 628ms\tremaining: 1.61s\n",
      "281:\tlearn: 0.0211916\ttotal: 631ms\tremaining: 1.61s\n",
      "282:\tlearn: 0.0211915\ttotal: 633ms\tremaining: 1.6s\n",
      "283:\tlearn: 0.0211912\ttotal: 635ms\tremaining: 1.6s\n",
      "284:\tlearn: 0.0211912\ttotal: 638ms\tremaining: 1.6s\n",
      "285:\tlearn: 0.0211911\ttotal: 640ms\tremaining: 1.6s\n",
      "286:\tlearn: 0.0211910\ttotal: 644ms\tremaining: 1.6s\n",
      "287:\tlearn: 0.0211909\ttotal: 646ms\tremaining: 1.6s\n",
      "288:\tlearn: 0.0211909\ttotal: 648ms\tremaining: 1.59s\n",
      "289:\tlearn: 0.0211908\ttotal: 650ms\tremaining: 1.59s\n",
      "290:\tlearn: 0.0211906\ttotal: 654ms\tremaining: 1.59s\n",
      "291:\tlearn: 0.0211904\ttotal: 656ms\tremaining: 1.59s\n",
      "292:\tlearn: 0.0211904\ttotal: 658ms\tremaining: 1.59s\n",
      "293:\tlearn: 0.0211903\ttotal: 661ms\tremaining: 1.59s\n",
      "294:\tlearn: 0.0211903\ttotal: 664ms\tremaining: 1.59s\n",
      "295:\tlearn: 0.0211903\ttotal: 666ms\tremaining: 1.58s\n",
      "296:\tlearn: 0.0211901\ttotal: 668ms\tremaining: 1.58s\n",
      "297:\tlearn: 0.0211901\ttotal: 670ms\tremaining: 1.58s\n",
      "298:\tlearn: 0.0211900\ttotal: 672ms\tremaining: 1.58s\n",
      "299:\tlearn: 0.0211898\ttotal: 676ms\tremaining: 1.58s\n",
      "300:\tlearn: 0.0211898\ttotal: 679ms\tremaining: 1.58s\n",
      "301:\tlearn: 0.0211897\ttotal: 681ms\tremaining: 1.57s\n",
      "302:\tlearn: 0.0211896\ttotal: 683ms\tremaining: 1.57s\n",
      "303:\tlearn: 0.0211896\ttotal: 685ms\tremaining: 1.57s\n",
      "304:\tlearn: 0.0211896\ttotal: 688ms\tremaining: 1.57s\n",
      "305:\tlearn: 0.0211895\ttotal: 690ms\tremaining: 1.56s\n",
      "306:\tlearn: 0.0211893\ttotal: 692ms\tremaining: 1.56s\n",
      "307:\tlearn: 0.0211892\ttotal: 694ms\tremaining: 1.56s\n",
      "308:\tlearn: 0.0211891\ttotal: 696ms\tremaining: 1.55s\n",
      "309:\tlearn: 0.0211890\ttotal: 699ms\tremaining: 1.56s\n",
      "310:\tlearn: 0.0211886\ttotal: 702ms\tremaining: 1.55s\n",
      "311:\tlearn: 0.0211886\ttotal: 705ms\tremaining: 1.55s\n",
      "312:\tlearn: 0.0211885\ttotal: 706ms\tremaining: 1.55s\n",
      "313:\tlearn: 0.0211885\ttotal: 708ms\tremaining: 1.55s\n",
      "314:\tlearn: 0.0211880\ttotal: 711ms\tremaining: 1.55s\n",
      "315:\tlearn: 0.0211880\ttotal: 713ms\tremaining: 1.54s\n",
      "316:\tlearn: 0.0211876\ttotal: 715ms\tremaining: 1.54s\n",
      "317:\tlearn: 0.0211876\ttotal: 717ms\tremaining: 1.54s\n",
      "318:\tlearn: 0.0211875\ttotal: 719ms\tremaining: 1.53s\n",
      "319:\tlearn: 0.0211873\ttotal: 721ms\tremaining: 1.53s\n",
      "320:\tlearn: 0.0211872\ttotal: 726ms\tremaining: 1.53s\n",
      "321:\tlearn: 0.0211871\ttotal: 728ms\tremaining: 1.53s\n",
      "322:\tlearn: 0.0211870\ttotal: 730ms\tremaining: 1.53s\n",
      "323:\tlearn: 0.0211869\ttotal: 732ms\tremaining: 1.53s\n",
      "324:\tlearn: 0.0211868\ttotal: 735ms\tremaining: 1.53s\n",
      "325:\tlearn: 0.0211868\ttotal: 737ms\tremaining: 1.52s\n",
      "326:\tlearn: 0.0211863\ttotal: 739ms\tremaining: 1.52s\n",
      "327:\tlearn: 0.0211862\ttotal: 741ms\tremaining: 1.52s\n",
      "328:\tlearn: 0.0211861\ttotal: 743ms\tremaining: 1.51s\n",
      "329:\tlearn: 0.0211861\ttotal: 745ms\tremaining: 1.51s\n",
      "330:\tlearn: 0.0211861\ttotal: 748ms\tremaining: 1.51s\n",
      "331:\tlearn: 0.0211860\ttotal: 750ms\tremaining: 1.51s\n",
      "332:\tlearn: 0.0211859\ttotal: 752ms\tremaining: 1.51s\n",
      "333:\tlearn: 0.0211859\ttotal: 756ms\tremaining: 1.51s\n",
      "334:\tlearn: 0.0211859\ttotal: 759ms\tremaining: 1.51s\n",
      "335:\tlearn: 0.0211857\ttotal: 761ms\tremaining: 1.5s\n",
      "336:\tlearn: 0.0211855\ttotal: 763ms\tremaining: 1.5s\n",
      "337:\tlearn: 0.0211851\ttotal: 765ms\tremaining: 1.5s\n",
      "338:\tlearn: 0.0211849\ttotal: 767ms\tremaining: 1.5s\n",
      "339:\tlearn: 0.0211850\ttotal: 769ms\tremaining: 1.49s\n",
      "340:\tlearn: 0.0211848\ttotal: 771ms\tremaining: 1.49s\n",
      "341:\tlearn: 0.0211847\ttotal: 775ms\tremaining: 1.49s\n",
      "342:\tlearn: 0.0211844\ttotal: 777ms\tremaining: 1.49s\n",
      "343:\tlearn: 0.0211844\ttotal: 780ms\tremaining: 1.49s\n",
      "344:\tlearn: 0.0211843\ttotal: 782ms\tremaining: 1.49s\n",
      "345:\tlearn: 0.0211841\ttotal: 785ms\tremaining: 1.48s\n",
      "346:\tlearn: 0.0211841\ttotal: 787ms\tremaining: 1.48s\n",
      "347:\tlearn: 0.0211841\ttotal: 789ms\tremaining: 1.48s\n",
      "348:\tlearn: 0.0211834\ttotal: 791ms\tremaining: 1.48s\n",
      "349:\tlearn: 0.0211832\ttotal: 793ms\tremaining: 1.47s\n",
      "350:\tlearn: 0.0211831\ttotal: 796ms\tremaining: 1.47s\n",
      "351:\tlearn: 0.0211829\ttotal: 798ms\tremaining: 1.47s\n",
      "352:\tlearn: 0.0211827\ttotal: 801ms\tremaining: 1.47s\n",
      "353:\tlearn: 0.0211827\ttotal: 804ms\tremaining: 1.47s\n",
      "354:\tlearn: 0.0211826\ttotal: 806ms\tremaining: 1.46s\n",
      "355:\tlearn: 0.0211817\ttotal: 808ms\tremaining: 1.46s\n",
      "356:\tlearn: 0.0211817\ttotal: 810ms\tremaining: 1.46s\n",
      "357:\tlearn: 0.0211817\ttotal: 812ms\tremaining: 1.46s\n",
      "358:\tlearn: 0.0211816\ttotal: 814ms\tremaining: 1.45s\n",
      "359:\tlearn: 0.0211815\ttotal: 816ms\tremaining: 1.45s\n",
      "360:\tlearn: 0.0211813\ttotal: 818ms\tremaining: 1.45s\n",
      "361:\tlearn: 0.0211812\ttotal: 819ms\tremaining: 1.44s\n",
      "362:\tlearn: 0.0211810\ttotal: 821ms\tremaining: 1.44s\n",
      "363:\tlearn: 0.0211808\ttotal: 826ms\tremaining: 1.44s\n",
      "364:\tlearn: 0.0211807\ttotal: 828ms\tremaining: 1.44s\n",
      "365:\tlearn: 0.0211804\ttotal: 830ms\tremaining: 1.44s\n",
      "366:\tlearn: 0.0211803\ttotal: 832ms\tremaining: 1.44s\n",
      "367:\tlearn: 0.0211798\ttotal: 834ms\tremaining: 1.43s\n",
      "368:\tlearn: 0.0211794\ttotal: 836ms\tremaining: 1.43s\n",
      "369:\tlearn: 0.0211794\ttotal: 838ms\tremaining: 1.43s\n",
      "370:\tlearn: 0.0211794\ttotal: 840ms\tremaining: 1.42s\n",
      "371:\tlearn: 0.0211794\ttotal: 842ms\tremaining: 1.42s\n",
      "372:\tlearn: 0.0211794\ttotal: 844ms\tremaining: 1.42s\n",
      "373:\tlearn: 0.0211793\ttotal: 846ms\tremaining: 1.42s\n",
      "374:\tlearn: 0.0211789\ttotal: 850ms\tremaining: 1.42s\n",
      "375:\tlearn: 0.0211789\ttotal: 852ms\tremaining: 1.41s\n",
      "376:\tlearn: 0.0211787\ttotal: 854ms\tremaining: 1.41s\n",
      "377:\tlearn: 0.0211785\ttotal: 856ms\tremaining: 1.41s\n",
      "378:\tlearn: 0.0211784\ttotal: 857ms\tremaining: 1.4s\n",
      "379:\tlearn: 0.0211783\ttotal: 859ms\tremaining: 1.4s\n",
      "380:\tlearn: 0.0211716\ttotal: 862ms\tremaining: 1.4s\n",
      "381:\tlearn: 0.0210931\ttotal: 864ms\tremaining: 1.4s\n",
      "382:\tlearn: 0.0210332\ttotal: 867ms\tremaining: 1.4s\n",
      "383:\tlearn: 0.0210329\ttotal: 869ms\tremaining: 1.39s\n",
      "384:\tlearn: 0.0210327\ttotal: 871ms\tremaining: 1.39s\n",
      "385:\tlearn: 0.0210325\ttotal: 873ms\tremaining: 1.39s\n",
      "386:\tlearn: 0.0210323\ttotal: 875ms\tremaining: 1.39s\n",
      "387:\tlearn: 0.0210323\ttotal: 877ms\tremaining: 1.38s\n",
      "388:\tlearn: 0.0210323\ttotal: 879ms\tremaining: 1.38s\n",
      "389:\tlearn: 0.0210323\ttotal: 880ms\tremaining: 1.38s\n",
      "390:\tlearn: 0.0210319\ttotal: 882ms\tremaining: 1.37s\n",
      "391:\tlearn: 0.0210317\ttotal: 884ms\tremaining: 1.37s\n",
      "392:\tlearn: 0.0210316\ttotal: 887ms\tremaining: 1.37s\n",
      "393:\tlearn: 0.0210316\ttotal: 890ms\tremaining: 1.37s\n",
      "394:\tlearn: 0.0210314\ttotal: 891ms\tremaining: 1.36s\n",
      "395:\tlearn: 0.0210310\ttotal: 893ms\tremaining: 1.36s\n",
      "396:\tlearn: 0.0210309\ttotal: 895ms\tremaining: 1.36s\n",
      "397:\tlearn: 0.0210308\ttotal: 897ms\tremaining: 1.36s\n",
      "398:\tlearn: 0.0210306\ttotal: 899ms\tremaining: 1.35s\n",
      "399:\tlearn: 0.0210302\ttotal: 901ms\tremaining: 1.35s\n",
      "400:\tlearn: 0.0210302\ttotal: 903ms\tremaining: 1.35s\n",
      "401:\tlearn: 0.0210300\ttotal: 905ms\tremaining: 1.35s\n",
      "402:\tlearn: 0.0210300\ttotal: 907ms\tremaining: 1.34s\n",
      "403:\tlearn: 0.0210299\ttotal: 910ms\tremaining: 1.34s\n",
      "404:\tlearn: 0.0210297\ttotal: 913ms\tremaining: 1.34s\n",
      "405:\tlearn: 0.0210296\ttotal: 915ms\tremaining: 1.34s\n",
      "406:\tlearn: 0.0210295\ttotal: 917ms\tremaining: 1.34s\n",
      "407:\tlearn: 0.0210295\ttotal: 919ms\tremaining: 1.33s\n",
      "408:\tlearn: 0.0210293\ttotal: 921ms\tremaining: 1.33s\n",
      "409:\tlearn: 0.0210292\ttotal: 923ms\tremaining: 1.33s\n",
      "410:\tlearn: 0.0210292\ttotal: 926ms\tremaining: 1.33s\n",
      "411:\tlearn: 0.0210291\ttotal: 928ms\tremaining: 1.32s\n",
      "412:\tlearn: 0.0210291\ttotal: 930ms\tremaining: 1.32s\n",
      "413:\tlearn: 0.0210291\ttotal: 932ms\tremaining: 1.32s\n",
      "414:\tlearn: 0.0210286\ttotal: 934ms\tremaining: 1.32s\n",
      "415:\tlearn: 0.0210283\ttotal: 936ms\tremaining: 1.31s\n",
      "416:\tlearn: 0.0210283\ttotal: 939ms\tremaining: 1.31s\n",
      "417:\tlearn: 0.0210282\ttotal: 940ms\tremaining: 1.31s\n",
      "418:\tlearn: 0.0210280\ttotal: 942ms\tremaining: 1.31s\n",
      "419:\tlearn: 0.0210279\ttotal: 944ms\tremaining: 1.3s\n",
      "420:\tlearn: 0.0210278\ttotal: 946ms\tremaining: 1.3s\n",
      "421:\tlearn: 0.0210277\ttotal: 949ms\tremaining: 1.3s\n",
      "422:\tlearn: 0.0210276\ttotal: 951ms\tremaining: 1.3s\n",
      "423:\tlearn: 0.0210276\ttotal: 953ms\tremaining: 1.29s\n",
      "424:\tlearn: 0.0210275\ttotal: 955ms\tremaining: 1.29s\n",
      "425:\tlearn: 0.0210268\ttotal: 957ms\tremaining: 1.29s\n",
      "426:\tlearn: 0.0210267\ttotal: 958ms\tremaining: 1.29s\n",
      "427:\tlearn: 0.0210267\ttotal: 961ms\tremaining: 1.28s\n",
      "428:\tlearn: 0.0210264\ttotal: 963ms\tremaining: 1.28s\n",
      "429:\tlearn: 0.0210262\ttotal: 966ms\tremaining: 1.28s\n",
      "430:\tlearn: 0.0210262\ttotal: 969ms\tremaining: 1.28s\n",
      "431:\tlearn: 0.0210260\ttotal: 971ms\tremaining: 1.28s\n",
      "432:\tlearn: 0.0210259\ttotal: 973ms\tremaining: 1.27s\n",
      "433:\tlearn: 0.0210259\ttotal: 977ms\tremaining: 1.27s\n",
      "434:\tlearn: 0.0210259\ttotal: 979ms\tremaining: 1.27s\n",
      "435:\tlearn: 0.0210258\ttotal: 981ms\tremaining: 1.27s\n",
      "436:\tlearn: 0.0210258\ttotal: 983ms\tremaining: 1.27s\n",
      "437:\tlearn: 0.0210258\ttotal: 986ms\tremaining: 1.26s\n",
      "438:\tlearn: 0.0210258\ttotal: 988ms\tremaining: 1.26s\n",
      "439:\tlearn: 0.0210256\ttotal: 990ms\tremaining: 1.26s\n",
      "440:\tlearn: 0.0210255\ttotal: 992ms\tremaining: 1.26s\n",
      "441:\tlearn: 0.0210254\ttotal: 994ms\tremaining: 1.25s\n",
      "442:\tlearn: 0.0210253\ttotal: 997ms\tremaining: 1.25s\n",
      "443:\tlearn: 0.0210252\ttotal: 1s\tremaining: 1.25s\n",
      "444:\tlearn: 0.0210252\ttotal: 1s\tremaining: 1.25s\n",
      "445:\tlearn: 0.0210252\ttotal: 1s\tremaining: 1.25s\n",
      "446:\tlearn: 0.0210252\ttotal: 1.01s\tremaining: 1.25s\n",
      "447:\tlearn: 0.0210251\ttotal: 1.01s\tremaining: 1.24s\n",
      "448:\tlearn: 0.0210248\ttotal: 1.01s\tremaining: 1.24s\n",
      "449:\tlearn: 0.0210247\ttotal: 1.01s\tremaining: 1.24s\n",
      "450:\tlearn: 0.0210246\ttotal: 1.01s\tremaining: 1.24s\n",
      "451:\tlearn: 0.0210246\ttotal: 1.02s\tremaining: 1.23s\n",
      "452:\tlearn: 0.0210244\ttotal: 1.02s\tremaining: 1.23s\n",
      "453:\tlearn: 0.0210245\ttotal: 1.02s\tremaining: 1.23s\n",
      "454:\tlearn: 0.0210245\ttotal: 1.02s\tremaining: 1.23s\n",
      "455:\tlearn: 0.0210243\ttotal: 1.02s\tremaining: 1.22s\n",
      "456:\tlearn: 0.0210241\ttotal: 1.03s\tremaining: 1.22s\n",
      "457:\tlearn: 0.0210236\ttotal: 1.03s\tremaining: 1.22s\n",
      "458:\tlearn: 0.0210234\ttotal: 1.03s\tremaining: 1.22s\n",
      "459:\tlearn: 0.0210233\ttotal: 1.03s\tremaining: 1.21s\n",
      "460:\tlearn: 0.0210233\ttotal: 1.03s\tremaining: 1.21s\n",
      "461:\tlearn: 0.0210233\ttotal: 1.04s\tremaining: 1.21s\n",
      "462:\tlearn: 0.0210232\ttotal: 1.04s\tremaining: 1.21s\n",
      "463:\tlearn: 0.0210231\ttotal: 1.04s\tremaining: 1.2s\n",
      "464:\tlearn: 0.0210229\ttotal: 1.05s\tremaining: 1.2s\n",
      "465:\tlearn: 0.0210228\ttotal: 1.05s\tremaining: 1.2s\n",
      "466:\tlearn: 0.0210228\ttotal: 1.05s\tremaining: 1.2s\n",
      "467:\tlearn: 0.0210228\ttotal: 1.05s\tremaining: 1.2s\n",
      "468:\tlearn: 0.0210227\ttotal: 1.05s\tremaining: 1.2s\n",
      "469:\tlearn: 0.0210227\ttotal: 1.06s\tremaining: 1.19s\n",
      "470:\tlearn: 0.0210226\ttotal: 1.06s\tremaining: 1.19s\n",
      "471:\tlearn: 0.0210226\ttotal: 1.06s\tremaining: 1.19s\n",
      "472:\tlearn: 0.0209742\ttotal: 1.06s\tremaining: 1.19s\n",
      "473:\tlearn: 0.0209469\ttotal: 1.07s\tremaining: 1.18s\n",
      "474:\tlearn: 0.0209468\ttotal: 1.07s\tremaining: 1.18s\n",
      "475:\tlearn: 0.0209468\ttotal: 1.07s\tremaining: 1.18s\n",
      "476:\tlearn: 0.0209465\ttotal: 1.07s\tremaining: 1.18s\n",
      "477:\tlearn: 0.0209464\ttotal: 1.07s\tremaining: 1.17s\n",
      "478:\tlearn: 0.0209464\ttotal: 1.08s\tremaining: 1.17s\n",
      "479:\tlearn: 0.0209464\ttotal: 1.08s\tremaining: 1.17s\n",
      "480:\tlearn: 0.0209464\ttotal: 1.08s\tremaining: 1.17s\n",
      "481:\tlearn: 0.0209464\ttotal: 1.08s\tremaining: 1.16s\n",
      "482:\tlearn: 0.0209464\ttotal: 1.08s\tremaining: 1.16s\n",
      "483:\tlearn: 0.0209464\ttotal: 1.09s\tremaining: 1.16s\n",
      "484:\tlearn: 0.0209464\ttotal: 1.09s\tremaining: 1.16s\n",
      "485:\tlearn: 0.0209301\ttotal: 1.09s\tremaining: 1.16s\n",
      "486:\tlearn: 0.0209298\ttotal: 1.1s\tremaining: 1.15s\n",
      "487:\tlearn: 0.0209298\ttotal: 1.1s\tremaining: 1.15s\n",
      "488:\tlearn: 0.0209296\ttotal: 1.1s\tremaining: 1.15s\n",
      "489:\tlearn: 0.0209295\ttotal: 1.1s\tremaining: 1.15s\n",
      "490:\tlearn: 0.0209292\ttotal: 1.1s\tremaining: 1.15s\n",
      "491:\tlearn: 0.0209292\ttotal: 1.11s\tremaining: 1.14s\n",
      "492:\tlearn: 0.0209290\ttotal: 1.11s\tremaining: 1.14s\n",
      "493:\tlearn: 0.0209289\ttotal: 1.11s\tremaining: 1.14s\n",
      "494:\tlearn: 0.0209288\ttotal: 1.11s\tremaining: 1.14s\n",
      "495:\tlearn: 0.0209286\ttotal: 1.12s\tremaining: 1.13s\n",
      "496:\tlearn: 0.0209286\ttotal: 1.12s\tremaining: 1.13s\n",
      "497:\tlearn: 0.0209285\ttotal: 1.12s\tremaining: 1.13s\n",
      "498:\tlearn: 0.0209285\ttotal: 1.12s\tremaining: 1.13s\n",
      "499:\tlearn: 0.0209283\ttotal: 1.12s\tremaining: 1.12s\n",
      "500:\tlearn: 0.0209282\ttotal: 1.13s\tremaining: 1.12s\n",
      "501:\tlearn: 0.0209280\ttotal: 1.13s\tremaining: 1.12s\n",
      "502:\tlearn: 0.0209279\ttotal: 1.13s\tremaining: 1.12s\n",
      "503:\tlearn: 0.0209279\ttotal: 1.13s\tremaining: 1.11s\n",
      "504:\tlearn: 0.0209277\ttotal: 1.14s\tremaining: 1.11s\n",
      "505:\tlearn: 0.0209277\ttotal: 1.14s\tremaining: 1.11s\n",
      "506:\tlearn: 0.0209276\ttotal: 1.14s\tremaining: 1.11s\n",
      "507:\tlearn: 0.0209276\ttotal: 1.14s\tremaining: 1.11s\n",
      "508:\tlearn: 0.0209273\ttotal: 1.14s\tremaining: 1.1s\n",
      "509:\tlearn: 0.0209273\ttotal: 1.15s\tremaining: 1.1s\n",
      "510:\tlearn: 0.0209270\ttotal: 1.15s\tremaining: 1.1s\n",
      "511:\tlearn: 0.0209271\ttotal: 1.15s\tremaining: 1.1s\n",
      "512:\tlearn: 0.0209269\ttotal: 1.15s\tremaining: 1.09s\n",
      "513:\tlearn: 0.0209262\ttotal: 1.15s\tremaining: 1.09s\n",
      "514:\tlearn: 0.0209260\ttotal: 1.16s\tremaining: 1.09s\n",
      "515:\tlearn: 0.0209260\ttotal: 1.16s\tremaining: 1.09s\n",
      "516:\tlearn: 0.0209260\ttotal: 1.16s\tremaining: 1.08s\n",
      "517:\tlearn: 0.0209259\ttotal: 1.16s\tremaining: 1.08s\n",
      "518:\tlearn: 0.0209257\ttotal: 1.17s\tremaining: 1.08s\n",
      "519:\tlearn: 0.0209256\ttotal: 1.17s\tremaining: 1.08s\n",
      "520:\tlearn: 0.0209256\ttotal: 1.17s\tremaining: 1.07s\n",
      "521:\tlearn: 0.0209256\ttotal: 1.17s\tremaining: 1.07s\n",
      "522:\tlearn: 0.0209256\ttotal: 1.17s\tremaining: 1.07s\n",
      "523:\tlearn: 0.0209256\ttotal: 1.18s\tremaining: 1.07s\n",
      "524:\tlearn: 0.0209255\ttotal: 1.18s\tremaining: 1.07s\n",
      "525:\tlearn: 0.0209254\ttotal: 1.18s\tremaining: 1.06s\n",
      "526:\tlearn: 0.0209253\ttotal: 1.18s\tremaining: 1.06s\n",
      "527:\tlearn: 0.0209251\ttotal: 1.18s\tremaining: 1.06s\n",
      "528:\tlearn: 0.0209249\ttotal: 1.19s\tremaining: 1.06s\n",
      "529:\tlearn: 0.0209248\ttotal: 1.19s\tremaining: 1.05s\n",
      "530:\tlearn: 0.0209246\ttotal: 1.19s\tremaining: 1.05s\n",
      "531:\tlearn: 0.0209246\ttotal: 1.19s\tremaining: 1.05s\n",
      "532:\tlearn: 0.0209246\ttotal: 1.19s\tremaining: 1.05s\n",
      "533:\tlearn: 0.0209232\ttotal: 1.2s\tremaining: 1.04s\n",
      "534:\tlearn: 0.0209231\ttotal: 1.2s\tremaining: 1.04s\n",
      "535:\tlearn: 0.0209230\ttotal: 1.2s\tremaining: 1.04s\n",
      "536:\tlearn: 0.0209231\ttotal: 1.2s\tremaining: 1.04s\n",
      "537:\tlearn: 0.0209229\ttotal: 1.21s\tremaining: 1.03s\n",
      "538:\tlearn: 0.0209228\ttotal: 1.21s\tremaining: 1.03s\n",
      "539:\tlearn: 0.0209227\ttotal: 1.21s\tremaining: 1.03s\n",
      "540:\tlearn: 0.0209224\ttotal: 1.21s\tremaining: 1.03s\n",
      "541:\tlearn: 0.0209224\ttotal: 1.21s\tremaining: 1.02s\n",
      "542:\tlearn: 0.0209224\ttotal: 1.21s\tremaining: 1.02s\n",
      "543:\tlearn: 0.0209223\ttotal: 1.22s\tremaining: 1.02s\n",
      "544:\tlearn: 0.0209223\ttotal: 1.22s\tremaining: 1.02s\n",
      "545:\tlearn: 0.0209222\ttotal: 1.22s\tremaining: 1.01s\n",
      "546:\tlearn: 0.0209220\ttotal: 1.22s\tremaining: 1.01s\n",
      "547:\tlearn: 0.0209219\ttotal: 1.22s\tremaining: 1.01s\n",
      "548:\tlearn: 0.0209218\ttotal: 1.23s\tremaining: 1.01s\n",
      "549:\tlearn: 0.0209217\ttotal: 1.23s\tremaining: 1s\n",
      "550:\tlearn: 0.0209216\ttotal: 1.23s\tremaining: 1s\n",
      "551:\tlearn: 0.0209216\ttotal: 1.23s\tremaining: 999ms\n",
      "552:\tlearn: 0.0209216\ttotal: 1.23s\tremaining: 997ms\n",
      "553:\tlearn: 0.0209214\ttotal: 1.23s\tremaining: 994ms\n",
      "554:\tlearn: 0.0209211\ttotal: 1.24s\tremaining: 992ms\n",
      "555:\tlearn: 0.0209212\ttotal: 1.24s\tremaining: 990ms\n",
      "556:\tlearn: 0.0209211\ttotal: 1.24s\tremaining: 987ms\n",
      "557:\tlearn: 0.0209210\ttotal: 1.24s\tremaining: 985ms\n",
      "558:\tlearn: 0.0209208\ttotal: 1.25s\tremaining: 982ms\n",
      "559:\tlearn: 0.0209207\ttotal: 1.25s\tremaining: 980ms\n",
      "560:\tlearn: 0.0209206\ttotal: 1.25s\tremaining: 977ms\n",
      "561:\tlearn: 0.0209205\ttotal: 1.25s\tremaining: 975ms\n",
      "562:\tlearn: 0.0209202\ttotal: 1.25s\tremaining: 972ms\n",
      "563:\tlearn: 0.0209202\ttotal: 1.25s\tremaining: 970ms\n",
      "564:\tlearn: 0.0209202\ttotal: 1.25s\tremaining: 967ms\n",
      "565:\tlearn: 0.0209201\ttotal: 1.26s\tremaining: 964ms\n",
      "566:\tlearn: 0.0209199\ttotal: 1.26s\tremaining: 963ms\n",
      "567:\tlearn: 0.0209199\ttotal: 1.26s\tremaining: 960ms\n",
      "568:\tlearn: 0.0209199\ttotal: 1.26s\tremaining: 958ms\n",
      "569:\tlearn: 0.0209198\ttotal: 1.27s\tremaining: 955ms\n",
      "570:\tlearn: 0.0209197\ttotal: 1.27s\tremaining: 953ms\n",
      "571:\tlearn: 0.0209197\ttotal: 1.27s\tremaining: 950ms\n",
      "572:\tlearn: 0.0209196\ttotal: 1.27s\tremaining: 948ms\n",
      "573:\tlearn: 0.0209195\ttotal: 1.27s\tremaining: 945ms\n",
      "574:\tlearn: 0.0209194\ttotal: 1.27s\tremaining: 943ms\n",
      "575:\tlearn: 0.0209193\ttotal: 1.28s\tremaining: 941ms\n",
      "576:\tlearn: 0.0209191\ttotal: 1.28s\tremaining: 938ms\n",
      "577:\tlearn: 0.0209191\ttotal: 1.28s\tremaining: 936ms\n",
      "578:\tlearn: 0.0209190\ttotal: 1.28s\tremaining: 933ms\n",
      "579:\tlearn: 0.0209190\ttotal: 1.28s\tremaining: 931ms\n",
      "580:\tlearn: 0.0209188\ttotal: 1.29s\tremaining: 929ms\n",
      "581:\tlearn: 0.0209188\ttotal: 1.29s\tremaining: 926ms\n",
      "582:\tlearn: 0.0209187\ttotal: 1.29s\tremaining: 923ms\n",
      "583:\tlearn: 0.0209183\ttotal: 1.29s\tremaining: 921ms\n",
      "584:\tlearn: 0.0209181\ttotal: 1.29s\tremaining: 918ms\n",
      "585:\tlearn: 0.0209180\ttotal: 1.29s\tremaining: 916ms\n",
      "586:\tlearn: 0.0209178\ttotal: 1.3s\tremaining: 913ms\n",
      "587:\tlearn: 0.0209177\ttotal: 1.3s\tremaining: 912ms\n",
      "588:\tlearn: 0.0209174\ttotal: 1.3s\tremaining: 909ms\n",
      "589:\tlearn: 0.0209173\ttotal: 1.3s\tremaining: 907ms\n",
      "590:\tlearn: 0.0209167\ttotal: 1.31s\tremaining: 904ms\n",
      "591:\tlearn: 0.0209156\ttotal: 1.31s\tremaining: 902ms\n",
      "592:\tlearn: 0.0209156\ttotal: 1.31s\tremaining: 900ms\n",
      "593:\tlearn: 0.0209154\ttotal: 1.31s\tremaining: 897ms\n",
      "594:\tlearn: 0.0209154\ttotal: 1.31s\tremaining: 895ms\n",
      "595:\tlearn: 0.0209152\ttotal: 1.32s\tremaining: 892ms\n",
      "596:\tlearn: 0.0209151\ttotal: 1.32s\tremaining: 890ms\n",
      "597:\tlearn: 0.0209150\ttotal: 1.32s\tremaining: 888ms\n",
      "598:\tlearn: 0.0209149\ttotal: 1.32s\tremaining: 886ms\n",
      "599:\tlearn: 0.0209148\ttotal: 1.32s\tremaining: 884ms\n",
      "600:\tlearn: 0.0209147\ttotal: 1.33s\tremaining: 881ms\n",
      "601:\tlearn: 0.0209144\ttotal: 1.33s\tremaining: 879ms\n",
      "602:\tlearn: 0.0209143\ttotal: 1.33s\tremaining: 876ms\n",
      "603:\tlearn: 0.0209144\ttotal: 1.33s\tremaining: 874ms\n",
      "604:\tlearn: 0.0209143\ttotal: 1.33s\tremaining: 871ms\n",
      "605:\tlearn: 0.0209139\ttotal: 1.34s\tremaining: 869ms\n",
      "606:\tlearn: 0.0209138\ttotal: 1.34s\tremaining: 867ms\n",
      "607:\tlearn: 0.0209136\ttotal: 1.34s\tremaining: 865ms\n",
      "608:\tlearn: 0.0209136\ttotal: 1.34s\tremaining: 863ms\n",
      "609:\tlearn: 0.0209134\ttotal: 1.34s\tremaining: 860ms\n",
      "610:\tlearn: 0.0209133\ttotal: 1.35s\tremaining: 858ms\n",
      "611:\tlearn: 0.0209132\ttotal: 1.35s\tremaining: 856ms\n",
      "612:\tlearn: 0.0209129\ttotal: 1.35s\tremaining: 853ms\n",
      "613:\tlearn: 0.0209129\ttotal: 1.35s\tremaining: 851ms\n",
      "614:\tlearn: 0.0209128\ttotal: 1.35s\tremaining: 849ms\n",
      "615:\tlearn: 0.0209127\ttotal: 1.36s\tremaining: 847ms\n",
      "616:\tlearn: 0.0209126\ttotal: 1.36s\tremaining: 844ms\n",
      "617:\tlearn: 0.0209125\ttotal: 1.36s\tremaining: 843ms\n",
      "618:\tlearn: 0.0209124\ttotal: 1.36s\tremaining: 841ms\n",
      "619:\tlearn: 0.0209123\ttotal: 1.37s\tremaining: 838ms\n",
      "620:\tlearn: 0.0209123\ttotal: 1.37s\tremaining: 836ms\n",
      "621:\tlearn: 0.0209122\ttotal: 1.37s\tremaining: 833ms\n",
      "622:\tlearn: 0.0209122\ttotal: 1.37s\tremaining: 831ms\n",
      "623:\tlearn: 0.0209122\ttotal: 1.38s\tremaining: 829ms\n",
      "624:\tlearn: 0.0209122\ttotal: 1.38s\tremaining: 827ms\n",
      "625:\tlearn: 0.0209120\ttotal: 1.38s\tremaining: 824ms\n",
      "626:\tlearn: 0.0209119\ttotal: 1.38s\tremaining: 822ms\n",
      "627:\tlearn: 0.0209118\ttotal: 1.38s\tremaining: 820ms\n",
      "628:\tlearn: 0.0209118\ttotal: 1.39s\tremaining: 818ms\n",
      "629:\tlearn: 0.0209116\ttotal: 1.39s\tremaining: 816ms\n",
      "630:\tlearn: 0.0209117\ttotal: 1.39s\tremaining: 813ms\n",
      "631:\tlearn: 0.0209117\ttotal: 1.39s\tremaining: 811ms\n",
      "632:\tlearn: 0.0209115\ttotal: 1.39s\tremaining: 808ms\n",
      "633:\tlearn: 0.0209113\ttotal: 1.4s\tremaining: 806ms\n",
      "634:\tlearn: 0.0209111\ttotal: 1.4s\tremaining: 803ms\n",
      "635:\tlearn: 0.0209110\ttotal: 1.4s\tremaining: 802ms\n",
      "636:\tlearn: 0.0209109\ttotal: 1.4s\tremaining: 799ms\n",
      "637:\tlearn: 0.0209108\ttotal: 1.41s\tremaining: 798ms\n",
      "638:\tlearn: 0.0209105\ttotal: 1.41s\tremaining: 795ms\n",
      "639:\tlearn: 0.0209104\ttotal: 1.41s\tremaining: 793ms\n",
      "640:\tlearn: 0.0209103\ttotal: 1.41s\tremaining: 790ms\n",
      "641:\tlearn: 0.0209103\ttotal: 1.41s\tremaining: 788ms\n",
      "642:\tlearn: 0.0209101\ttotal: 1.42s\tremaining: 786ms\n",
      "643:\tlearn: 0.0209099\ttotal: 1.42s\tremaining: 783ms\n",
      "644:\tlearn: 0.0209099\ttotal: 1.42s\tremaining: 781ms\n",
      "645:\tlearn: 0.0209097\ttotal: 1.42s\tremaining: 778ms\n",
      "646:\tlearn: 0.0209096\ttotal: 1.42s\tremaining: 776ms\n",
      "647:\tlearn: 0.0209095\ttotal: 1.43s\tremaining: 775ms\n",
      "648:\tlearn: 0.0209096\ttotal: 1.43s\tremaining: 773ms\n",
      "649:\tlearn: 0.0209093\ttotal: 1.43s\tremaining: 770ms\n",
      "650:\tlearn: 0.0209093\ttotal: 1.43s\tremaining: 768ms\n",
      "651:\tlearn: 0.0209092\ttotal: 1.43s\tremaining: 765ms\n",
      "652:\tlearn: 0.0209091\ttotal: 1.44s\tremaining: 763ms\n",
      "653:\tlearn: 0.0209087\ttotal: 1.44s\tremaining: 761ms\n",
      "654:\tlearn: 0.0209087\ttotal: 1.44s\tremaining: 759ms\n",
      "655:\tlearn: 0.0209085\ttotal: 1.44s\tremaining: 756ms\n",
      "656:\tlearn: 0.0209084\ttotal: 1.44s\tremaining: 754ms\n",
      "657:\tlearn: 0.0209083\ttotal: 1.45s\tremaining: 752ms\n",
      "658:\tlearn: 0.0209083\ttotal: 1.45s\tremaining: 750ms\n",
      "659:\tlearn: 0.0209082\ttotal: 1.45s\tremaining: 747ms\n",
      "660:\tlearn: 0.0209081\ttotal: 1.45s\tremaining: 745ms\n",
      "661:\tlearn: 0.0209080\ttotal: 1.45s\tremaining: 743ms\n",
      "662:\tlearn: 0.0209081\ttotal: 1.46s\tremaining: 740ms\n",
      "663:\tlearn: 0.0209080\ttotal: 1.46s\tremaining: 738ms\n",
      "664:\tlearn: 0.0209080\ttotal: 1.46s\tremaining: 735ms\n",
      "665:\tlearn: 0.0209080\ttotal: 1.46s\tremaining: 734ms\n",
      "666:\tlearn: 0.0209079\ttotal: 1.47s\tremaining: 732ms\n",
      "667:\tlearn: 0.0209079\ttotal: 1.47s\tremaining: 729ms\n",
      "668:\tlearn: 0.0209076\ttotal: 1.47s\tremaining: 727ms\n",
      "669:\tlearn: 0.0209075\ttotal: 1.47s\tremaining: 725ms\n",
      "670:\tlearn: 0.0209074\ttotal: 1.47s\tremaining: 723ms\n",
      "671:\tlearn: 0.0209073\ttotal: 1.48s\tremaining: 720ms\n",
      "672:\tlearn: 0.0209071\ttotal: 1.48s\tremaining: 718ms\n",
      "673:\tlearn: 0.0209070\ttotal: 1.48s\tremaining: 716ms\n",
      "674:\tlearn: 0.0209070\ttotal: 1.48s\tremaining: 713ms\n",
      "675:\tlearn: 0.0209070\ttotal: 1.48s\tremaining: 711ms\n",
      "676:\tlearn: 0.0209069\ttotal: 1.49s\tremaining: 709ms\n",
      "677:\tlearn: 0.0209068\ttotal: 1.49s\tremaining: 707ms\n",
      "678:\tlearn: 0.0209068\ttotal: 1.49s\tremaining: 705ms\n",
      "679:\tlearn: 0.0209067\ttotal: 1.49s\tremaining: 702ms\n",
      "680:\tlearn: 0.0209066\ttotal: 1.49s\tremaining: 700ms\n",
      "681:\tlearn: 0.0209064\ttotal: 1.5s\tremaining: 698ms\n",
      "682:\tlearn: 0.0209064\ttotal: 1.5s\tremaining: 695ms\n",
      "683:\tlearn: 0.0209063\ttotal: 1.5s\tremaining: 693ms\n",
      "684:\tlearn: 0.0209061\ttotal: 1.5s\tremaining: 691ms\n",
      "685:\tlearn: 0.0209059\ttotal: 1.51s\tremaining: 689ms\n",
      "686:\tlearn: 0.0209059\ttotal: 1.51s\tremaining: 687ms\n",
      "687:\tlearn: 0.0209058\ttotal: 1.51s\tremaining: 685ms\n",
      "688:\tlearn: 0.0209058\ttotal: 1.51s\tremaining: 683ms\n",
      "689:\tlearn: 0.0209057\ttotal: 1.51s\tremaining: 680ms\n",
      "690:\tlearn: 0.0209057\ttotal: 1.52s\tremaining: 678ms\n",
      "691:\tlearn: 0.0209055\ttotal: 1.52s\tremaining: 676ms\n",
      "692:\tlearn: 0.0209054\ttotal: 1.52s\tremaining: 673ms\n",
      "693:\tlearn: 0.0209053\ttotal: 1.52s\tremaining: 671ms\n",
      "694:\tlearn: 0.0209052\ttotal: 1.52s\tremaining: 669ms\n",
      "695:\tlearn: 0.0209051\ttotal: 1.53s\tremaining: 667ms\n",
      "696:\tlearn: 0.0209052\ttotal: 1.53s\tremaining: 665ms\n",
      "697:\tlearn: 0.0209051\ttotal: 1.53s\tremaining: 663ms\n",
      "698:\tlearn: 0.0209049\ttotal: 1.53s\tremaining: 661ms\n",
      "699:\tlearn: 0.0209048\ttotal: 1.54s\tremaining: 659ms\n",
      "700:\tlearn: 0.0209046\ttotal: 1.54s\tremaining: 656ms\n",
      "701:\tlearn: 0.0209045\ttotal: 1.54s\tremaining: 654ms\n",
      "702:\tlearn: 0.0209044\ttotal: 1.54s\tremaining: 652ms\n",
      "703:\tlearn: 0.0209043\ttotal: 1.54s\tremaining: 649ms\n",
      "704:\tlearn: 0.0209043\ttotal: 1.55s\tremaining: 647ms\n",
      "705:\tlearn: 0.0209042\ttotal: 1.55s\tremaining: 645ms\n",
      "706:\tlearn: 0.0209042\ttotal: 1.55s\tremaining: 643ms\n",
      "707:\tlearn: 0.0209041\ttotal: 1.55s\tremaining: 641ms\n",
      "708:\tlearn: 0.0209040\ttotal: 1.56s\tremaining: 639ms\n",
      "709:\tlearn: 0.0209039\ttotal: 1.56s\tremaining: 636ms\n",
      "710:\tlearn: 0.0209038\ttotal: 1.56s\tremaining: 634ms\n",
      "711:\tlearn: 0.0209037\ttotal: 1.56s\tremaining: 632ms\n",
      "712:\tlearn: 0.0209037\ttotal: 1.56s\tremaining: 630ms\n",
      "713:\tlearn: 0.0209036\ttotal: 1.57s\tremaining: 627ms\n",
      "714:\tlearn: 0.0209035\ttotal: 1.57s\tremaining: 625ms\n",
      "715:\tlearn: 0.0209034\ttotal: 1.57s\tremaining: 623ms\n",
      "716:\tlearn: 0.0209032\ttotal: 1.57s\tremaining: 621ms\n",
      "717:\tlearn: 0.0209032\ttotal: 1.57s\tremaining: 619ms\n",
      "718:\tlearn: 0.0209032\ttotal: 1.58s\tremaining: 616ms\n",
      "719:\tlearn: 0.0209027\ttotal: 1.58s\tremaining: 614ms\n",
      "720:\tlearn: 0.0209027\ttotal: 1.58s\tremaining: 612ms\n",
      "721:\tlearn: 0.0209026\ttotal: 1.58s\tremaining: 610ms\n",
      "722:\tlearn: 0.0209026\ttotal: 1.58s\tremaining: 607ms\n",
      "723:\tlearn: 0.0209024\ttotal: 1.59s\tremaining: 605ms\n",
      "724:\tlearn: 0.0209024\ttotal: 1.59s\tremaining: 603ms\n",
      "725:\tlearn: 0.0209022\ttotal: 1.59s\tremaining: 601ms\n",
      "726:\tlearn: 0.0209021\ttotal: 1.59s\tremaining: 599ms\n",
      "727:\tlearn: 0.0209021\ttotal: 1.6s\tremaining: 597ms\n",
      "728:\tlearn: 0.0209021\ttotal: 1.6s\tremaining: 595ms\n",
      "729:\tlearn: 0.0209019\ttotal: 1.6s\tremaining: 592ms\n",
      "730:\tlearn: 0.0209019\ttotal: 1.6s\tremaining: 590ms\n",
      "731:\tlearn: 0.0209017\ttotal: 1.6s\tremaining: 588ms\n",
      "732:\tlearn: 0.0209017\ttotal: 1.61s\tremaining: 586ms\n",
      "733:\tlearn: 0.0209016\ttotal: 1.61s\tremaining: 583ms\n",
      "734:\tlearn: 0.0209016\ttotal: 1.61s\tremaining: 581ms\n",
      "735:\tlearn: 0.0209015\ttotal: 1.61s\tremaining: 580ms\n",
      "736:\tlearn: 0.0209015\ttotal: 1.62s\tremaining: 577ms\n",
      "737:\tlearn: 0.0209013\ttotal: 1.62s\tremaining: 575ms\n",
      "738:\tlearn: 0.0209012\ttotal: 1.62s\tremaining: 573ms\n",
      "739:\tlearn: 0.0209010\ttotal: 1.62s\tremaining: 571ms\n",
      "740:\tlearn: 0.0209009\ttotal: 1.63s\tremaining: 569ms\n",
      "741:\tlearn: 0.0209008\ttotal: 1.63s\tremaining: 566ms\n",
      "742:\tlearn: 0.0209008\ttotal: 1.63s\tremaining: 564ms\n",
      "743:\tlearn: 0.0209008\ttotal: 1.63s\tremaining: 562ms\n",
      "744:\tlearn: 0.0209007\ttotal: 1.64s\tremaining: 560ms\n",
      "745:\tlearn: 0.0209006\ttotal: 1.64s\tremaining: 558ms\n",
      "746:\tlearn: 0.0209000\ttotal: 1.64s\tremaining: 556ms\n",
      "747:\tlearn: 0.0208999\ttotal: 1.64s\tremaining: 553ms\n",
      "748:\tlearn: 0.0208999\ttotal: 1.64s\tremaining: 551ms\n",
      "749:\tlearn: 0.0208993\ttotal: 1.65s\tremaining: 549ms\n",
      "750:\tlearn: 0.0208991\ttotal: 1.65s\tremaining: 547ms\n",
      "751:\tlearn: 0.0208989\ttotal: 1.65s\tremaining: 545ms\n",
      "752:\tlearn: 0.0208988\ttotal: 1.65s\tremaining: 543ms\n",
      "753:\tlearn: 0.0208987\ttotal: 1.66s\tremaining: 540ms\n",
      "754:\tlearn: 0.0208985\ttotal: 1.66s\tremaining: 539ms\n",
      "755:\tlearn: 0.0208985\ttotal: 1.66s\tremaining: 537ms\n",
      "756:\tlearn: 0.0208984\ttotal: 1.67s\tremaining: 535ms\n",
      "757:\tlearn: 0.0208984\ttotal: 1.67s\tremaining: 532ms\n",
      "758:\tlearn: 0.0208984\ttotal: 1.67s\tremaining: 530ms\n",
      "759:\tlearn: 0.0208982\ttotal: 1.67s\tremaining: 527ms\n",
      "760:\tlearn: 0.0208982\ttotal: 1.67s\tremaining: 525ms\n",
      "761:\tlearn: 0.0208981\ttotal: 1.68s\tremaining: 523ms\n",
      "762:\tlearn: 0.0208978\ttotal: 1.68s\tremaining: 521ms\n",
      "763:\tlearn: 0.0208978\ttotal: 1.68s\tremaining: 519ms\n",
      "764:\tlearn: 0.0208978\ttotal: 1.68s\tremaining: 516ms\n",
      "765:\tlearn: 0.0208976\ttotal: 1.68s\tremaining: 515ms\n",
      "766:\tlearn: 0.0208975\ttotal: 1.69s\tremaining: 513ms\n",
      "767:\tlearn: 0.0208975\ttotal: 1.69s\tremaining: 510ms\n",
      "768:\tlearn: 0.0208975\ttotal: 1.69s\tremaining: 508ms\n",
      "769:\tlearn: 0.0208975\ttotal: 1.69s\tremaining: 506ms\n",
      "770:\tlearn: 0.0208973\ttotal: 1.69s\tremaining: 503ms\n",
      "771:\tlearn: 0.0208973\ttotal: 1.7s\tremaining: 501ms\n",
      "772:\tlearn: 0.0208969\ttotal: 1.7s\tremaining: 499ms\n",
      "773:\tlearn: 0.0208968\ttotal: 1.7s\tremaining: 497ms\n",
      "774:\tlearn: 0.0208968\ttotal: 1.7s\tremaining: 495ms\n",
      "775:\tlearn: 0.0208966\ttotal: 1.71s\tremaining: 493ms\n",
      "776:\tlearn: 0.0208966\ttotal: 1.71s\tremaining: 491ms\n",
      "777:\tlearn: 0.0208965\ttotal: 1.71s\tremaining: 488ms\n",
      "778:\tlearn: 0.0208965\ttotal: 1.71s\tremaining: 486ms\n",
      "779:\tlearn: 0.0208966\ttotal: 1.72s\tremaining: 484ms\n",
      "780:\tlearn: 0.0208964\ttotal: 1.72s\tremaining: 482ms\n",
      "781:\tlearn: 0.0208964\ttotal: 1.72s\tremaining: 480ms\n",
      "782:\tlearn: 0.0208963\ttotal: 1.72s\tremaining: 478ms\n",
      "783:\tlearn: 0.0208963\ttotal: 1.73s\tremaining: 475ms\n",
      "784:\tlearn: 0.0208962\ttotal: 1.73s\tremaining: 473ms\n",
      "785:\tlearn: 0.0208960\ttotal: 1.73s\tremaining: 471ms\n",
      "786:\tlearn: 0.0208959\ttotal: 1.73s\tremaining: 469ms\n",
      "787:\tlearn: 0.0208951\ttotal: 1.73s\tremaining: 467ms\n",
      "788:\tlearn: 0.0208950\ttotal: 1.74s\tremaining: 464ms\n",
      "789:\tlearn: 0.0208949\ttotal: 1.74s\tremaining: 462ms\n",
      "790:\tlearn: 0.0208948\ttotal: 1.74s\tremaining: 460ms\n",
      "791:\tlearn: 0.0208947\ttotal: 1.74s\tremaining: 458ms\n",
      "792:\tlearn: 0.0208946\ttotal: 1.75s\tremaining: 456ms\n",
      "793:\tlearn: 0.0208945\ttotal: 1.75s\tremaining: 454ms\n",
      "794:\tlearn: 0.0208944\ttotal: 1.75s\tremaining: 451ms\n",
      "795:\tlearn: 0.0208942\ttotal: 1.75s\tremaining: 449ms\n",
      "796:\tlearn: 0.0208942\ttotal: 1.75s\tremaining: 447ms\n",
      "797:\tlearn: 0.0208942\ttotal: 1.76s\tremaining: 445ms\n",
      "798:\tlearn: 0.0208933\ttotal: 1.76s\tremaining: 442ms\n",
      "799:\tlearn: 0.0208930\ttotal: 1.76s\tremaining: 440ms\n",
      "800:\tlearn: 0.0208926\ttotal: 1.76s\tremaining: 438ms\n",
      "801:\tlearn: 0.0208926\ttotal: 1.76s\tremaining: 436ms\n",
      "802:\tlearn: 0.0208925\ttotal: 1.77s\tremaining: 434ms\n",
      "803:\tlearn: 0.0208924\ttotal: 1.77s\tremaining: 432ms\n",
      "804:\tlearn: 0.0208923\ttotal: 1.77s\tremaining: 429ms\n",
      "805:\tlearn: 0.0208923\ttotal: 1.77s\tremaining: 427ms\n",
      "806:\tlearn: 0.0208922\ttotal: 1.78s\tremaining: 425ms\n",
      "807:\tlearn: 0.0208922\ttotal: 1.78s\tremaining: 423ms\n",
      "808:\tlearn: 0.0208921\ttotal: 1.78s\tremaining: 420ms\n",
      "809:\tlearn: 0.0208917\ttotal: 1.78s\tremaining: 418ms\n",
      "810:\tlearn: 0.0208917\ttotal: 1.78s\tremaining: 416ms\n",
      "811:\tlearn: 0.0208916\ttotal: 1.79s\tremaining: 414ms\n",
      "812:\tlearn: 0.0208915\ttotal: 1.79s\tremaining: 411ms\n",
      "813:\tlearn: 0.0208913\ttotal: 1.79s\tremaining: 409ms\n",
      "814:\tlearn: 0.0208914\ttotal: 1.79s\tremaining: 407ms\n",
      "815:\tlearn: 0.0208911\ttotal: 1.79s\tremaining: 405ms\n",
      "816:\tlearn: 0.0208911\ttotal: 1.8s\tremaining: 403ms\n",
      "817:\tlearn: 0.0208910\ttotal: 1.8s\tremaining: 400ms\n",
      "818:\tlearn: 0.0208911\ttotal: 1.8s\tremaining: 398ms\n",
      "819:\tlearn: 0.0208910\ttotal: 1.8s\tremaining: 396ms\n",
      "820:\tlearn: 0.0208909\ttotal: 1.8s\tremaining: 394ms\n",
      "821:\tlearn: 0.0208908\ttotal: 1.81s\tremaining: 391ms\n",
      "822:\tlearn: 0.0208908\ttotal: 1.81s\tremaining: 389ms\n",
      "823:\tlearn: 0.0208907\ttotal: 1.81s\tremaining: 387ms\n",
      "824:\tlearn: 0.0208907\ttotal: 1.81s\tremaining: 385ms\n",
      "825:\tlearn: 0.0208905\ttotal: 1.81s\tremaining: 382ms\n",
      "826:\tlearn: 0.0208904\ttotal: 1.82s\tremaining: 380ms\n",
      "827:\tlearn: 0.0208902\ttotal: 1.82s\tremaining: 378ms\n",
      "828:\tlearn: 0.0208901\ttotal: 1.82s\tremaining: 376ms\n",
      "829:\tlearn: 0.0208901\ttotal: 1.82s\tremaining: 374ms\n",
      "830:\tlearn: 0.0208901\ttotal: 1.83s\tremaining: 372ms\n",
      "831:\tlearn: 0.0208899\ttotal: 1.83s\tremaining: 369ms\n",
      "832:\tlearn: 0.0208893\ttotal: 1.83s\tremaining: 367ms\n",
      "833:\tlearn: 0.0208892\ttotal: 1.83s\tremaining: 365ms\n",
      "834:\tlearn: 0.0208892\ttotal: 1.83s\tremaining: 363ms\n",
      "835:\tlearn: 0.0208891\ttotal: 1.84s\tremaining: 360ms\n",
      "836:\tlearn: 0.0208890\ttotal: 1.84s\tremaining: 358ms\n",
      "837:\tlearn: 0.0208889\ttotal: 1.84s\tremaining: 356ms\n",
      "838:\tlearn: 0.0208888\ttotal: 1.84s\tremaining: 353ms\n",
      "839:\tlearn: 0.0208886\ttotal: 1.84s\tremaining: 351ms\n",
      "840:\tlearn: 0.0208885\ttotal: 1.85s\tremaining: 349ms\n",
      "841:\tlearn: 0.0208885\ttotal: 1.85s\tremaining: 347ms\n",
      "842:\tlearn: 0.0208884\ttotal: 1.85s\tremaining: 345ms\n",
      "843:\tlearn: 0.0208884\ttotal: 1.85s\tremaining: 343ms\n",
      "844:\tlearn: 0.0208884\ttotal: 1.85s\tremaining: 340ms\n",
      "845:\tlearn: 0.0208884\ttotal: 1.86s\tremaining: 338ms\n",
      "846:\tlearn: 0.0208881\ttotal: 1.86s\tremaining: 336ms\n",
      "847:\tlearn: 0.0208880\ttotal: 1.86s\tremaining: 334ms\n",
      "848:\tlearn: 0.0208880\ttotal: 1.86s\tremaining: 332ms\n",
      "849:\tlearn: 0.0208879\ttotal: 1.87s\tremaining: 330ms\n",
      "850:\tlearn: 0.0208878\ttotal: 1.87s\tremaining: 327ms\n",
      "851:\tlearn: 0.0208878\ttotal: 1.87s\tremaining: 325ms\n",
      "852:\tlearn: 0.0208878\ttotal: 1.87s\tremaining: 323ms\n",
      "853:\tlearn: 0.0208876\ttotal: 1.88s\tremaining: 321ms\n",
      "854:\tlearn: 0.0208875\ttotal: 1.88s\tremaining: 318ms\n",
      "855:\tlearn: 0.0208874\ttotal: 1.88s\tremaining: 316ms\n",
      "856:\tlearn: 0.0208874\ttotal: 1.88s\tremaining: 314ms\n",
      "857:\tlearn: 0.0208874\ttotal: 1.89s\tremaining: 312ms\n",
      "858:\tlearn: 0.0208874\ttotal: 1.89s\tremaining: 310ms\n",
      "859:\tlearn: 0.0208873\ttotal: 1.89s\tremaining: 308ms\n",
      "860:\tlearn: 0.0208872\ttotal: 1.9s\tremaining: 306ms\n",
      "861:\tlearn: 0.0208870\ttotal: 1.91s\tremaining: 305ms\n",
      "862:\tlearn: 0.0208871\ttotal: 1.91s\tremaining: 304ms\n",
      "863:\tlearn: 0.0208871\ttotal: 1.91s\tremaining: 301ms\n",
      "864:\tlearn: 0.0208870\ttotal: 1.92s\tremaining: 299ms\n",
      "865:\tlearn: 0.0208869\ttotal: 1.92s\tremaining: 297ms\n",
      "866:\tlearn: 0.0208868\ttotal: 1.92s\tremaining: 295ms\n",
      "867:\tlearn: 0.0208867\ttotal: 1.93s\tremaining: 293ms\n",
      "868:\tlearn: 0.0208866\ttotal: 1.93s\tremaining: 291ms\n",
      "869:\tlearn: 0.0208865\ttotal: 1.93s\tremaining: 289ms\n",
      "870:\tlearn: 0.0208865\ttotal: 1.93s\tremaining: 286ms\n",
      "871:\tlearn: 0.0208864\ttotal: 1.94s\tremaining: 284ms\n",
      "872:\tlearn: 0.0208864\ttotal: 1.94s\tremaining: 282ms\n",
      "873:\tlearn: 0.0208864\ttotal: 1.94s\tremaining: 280ms\n",
      "874:\tlearn: 0.0208863\ttotal: 1.94s\tremaining: 278ms\n",
      "875:\tlearn: 0.0208862\ttotal: 1.95s\tremaining: 275ms\n",
      "876:\tlearn: 0.0208862\ttotal: 1.95s\tremaining: 273ms\n",
      "877:\tlearn: 0.0208861\ttotal: 1.95s\tremaining: 271ms\n",
      "878:\tlearn: 0.0208860\ttotal: 1.95s\tremaining: 269ms\n",
      "879:\tlearn: 0.0208857\ttotal: 1.96s\tremaining: 267ms\n",
      "880:\tlearn: 0.0208855\ttotal: 1.96s\tremaining: 265ms\n",
      "881:\tlearn: 0.0208854\ttotal: 1.96s\tremaining: 262ms\n",
      "882:\tlearn: 0.0208851\ttotal: 1.96s\tremaining: 260ms\n",
      "883:\tlearn: 0.0208849\ttotal: 1.96s\tremaining: 258ms\n",
      "884:\tlearn: 0.0208842\ttotal: 1.97s\tremaining: 256ms\n",
      "885:\tlearn: 0.0208839\ttotal: 1.97s\tremaining: 253ms\n",
      "886:\tlearn: 0.0208839\ttotal: 1.97s\tremaining: 251ms\n",
      "887:\tlearn: 0.0208839\ttotal: 1.98s\tremaining: 249ms\n",
      "888:\tlearn: 0.0208837\ttotal: 1.98s\tremaining: 247ms\n",
      "889:\tlearn: 0.0208838\ttotal: 1.98s\tremaining: 245ms\n",
      "890:\tlearn: 0.0208836\ttotal: 1.98s\tremaining: 242ms\n",
      "891:\tlearn: 0.0208836\ttotal: 1.98s\tremaining: 240ms\n",
      "892:\tlearn: 0.0208836\ttotal: 1.99s\tremaining: 238ms\n",
      "893:\tlearn: 0.0208835\ttotal: 1.99s\tremaining: 236ms\n",
      "894:\tlearn: 0.0208834\ttotal: 1.99s\tremaining: 233ms\n",
      "895:\tlearn: 0.0208833\ttotal: 1.99s\tremaining: 231ms\n",
      "896:\tlearn: 0.0208832\ttotal: 1.99s\tremaining: 229ms\n",
      "897:\tlearn: 0.0208831\ttotal: 2s\tremaining: 227ms\n",
      "898:\tlearn: 0.0208831\ttotal: 2s\tremaining: 225ms\n",
      "899:\tlearn: 0.0208828\ttotal: 2s\tremaining: 222ms\n",
      "900:\tlearn: 0.0208828\ttotal: 2s\tremaining: 220ms\n",
      "901:\tlearn: 0.0208827\ttotal: 2s\tremaining: 218ms\n",
      "902:\tlearn: 0.0208826\ttotal: 2.01s\tremaining: 216ms\n",
      "903:\tlearn: 0.0208825\ttotal: 2.01s\tremaining: 213ms\n",
      "904:\tlearn: 0.0208823\ttotal: 2.01s\tremaining: 211ms\n",
      "905:\tlearn: 0.0208824\ttotal: 2.01s\tremaining: 209ms\n",
      "906:\tlearn: 0.0208821\ttotal: 2.02s\tremaining: 207ms\n",
      "907:\tlearn: 0.0208820\ttotal: 2.02s\tremaining: 205ms\n",
      "908:\tlearn: 0.0208819\ttotal: 2.02s\tremaining: 202ms\n",
      "909:\tlearn: 0.0208818\ttotal: 2.02s\tremaining: 200ms\n",
      "910:\tlearn: 0.0208818\ttotal: 2.02s\tremaining: 198ms\n",
      "911:\tlearn: 0.0208817\ttotal: 2.03s\tremaining: 196ms\n",
      "912:\tlearn: 0.0208816\ttotal: 2.03s\tremaining: 193ms\n",
      "913:\tlearn: 0.0208806\ttotal: 2.03s\tremaining: 191ms\n",
      "914:\tlearn: 0.0208807\ttotal: 2.03s\tremaining: 189ms\n",
      "915:\tlearn: 0.0208805\ttotal: 2.03s\tremaining: 187ms\n",
      "916:\tlearn: 0.0208804\ttotal: 2.04s\tremaining: 184ms\n",
      "917:\tlearn: 0.0208803\ttotal: 2.04s\tremaining: 182ms\n",
      "918:\tlearn: 0.0208803\ttotal: 2.04s\tremaining: 180ms\n",
      "919:\tlearn: 0.0208802\ttotal: 2.04s\tremaining: 178ms\n",
      "920:\tlearn: 0.0208802\ttotal: 2.05s\tremaining: 176ms\n",
      "921:\tlearn: 0.0208802\ttotal: 2.05s\tremaining: 173ms\n",
      "922:\tlearn: 0.0208802\ttotal: 2.05s\tremaining: 171ms\n",
      "923:\tlearn: 0.0208800\ttotal: 2.05s\tremaining: 169ms\n",
      "924:\tlearn: 0.0208800\ttotal: 2.05s\tremaining: 167ms\n",
      "925:\tlearn: 0.0208799\ttotal: 2.06s\tremaining: 164ms\n",
      "926:\tlearn: 0.0208800\ttotal: 2.06s\tremaining: 162ms\n",
      "927:\tlearn: 0.0208798\ttotal: 2.06s\tremaining: 160ms\n",
      "928:\tlearn: 0.0208788\ttotal: 2.06s\tremaining: 158ms\n",
      "929:\tlearn: 0.0208788\ttotal: 2.06s\tremaining: 155ms\n",
      "930:\tlearn: 0.0208786\ttotal: 2.07s\tremaining: 153ms\n",
      "931:\tlearn: 0.0208785\ttotal: 2.07s\tremaining: 151ms\n",
      "932:\tlearn: 0.0208785\ttotal: 2.07s\tremaining: 149ms\n",
      "933:\tlearn: 0.0208785\ttotal: 2.07s\tremaining: 146ms\n",
      "934:\tlearn: 0.0208783\ttotal: 2.07s\tremaining: 144ms\n",
      "935:\tlearn: 0.0208782\ttotal: 2.08s\tremaining: 142ms\n",
      "936:\tlearn: 0.0208781\ttotal: 2.08s\tremaining: 140ms\n",
      "937:\tlearn: 0.0208780\ttotal: 2.08s\tremaining: 138ms\n",
      "938:\tlearn: 0.0208780\ttotal: 2.08s\tremaining: 135ms\n",
      "939:\tlearn: 0.0208780\ttotal: 2.09s\tremaining: 133ms\n",
      "940:\tlearn: 0.0208778\ttotal: 2.09s\tremaining: 131ms\n",
      "941:\tlearn: 0.0208777\ttotal: 2.09s\tremaining: 129ms\n",
      "942:\tlearn: 0.0208776\ttotal: 2.09s\tremaining: 126ms\n",
      "943:\tlearn: 0.0208776\ttotal: 2.09s\tremaining: 124ms\n",
      "944:\tlearn: 0.0208775\ttotal: 2.1s\tremaining: 122ms\n",
      "945:\tlearn: 0.0208775\ttotal: 2.1s\tremaining: 120ms\n",
      "946:\tlearn: 0.0208774\ttotal: 2.1s\tremaining: 118ms\n",
      "947:\tlearn: 0.0208774\ttotal: 2.1s\tremaining: 115ms\n",
      "948:\tlearn: 0.0208772\ttotal: 2.11s\tremaining: 113ms\n",
      "949:\tlearn: 0.0208770\ttotal: 2.11s\tremaining: 111ms\n",
      "950:\tlearn: 0.0208765\ttotal: 2.11s\tremaining: 109ms\n",
      "951:\tlearn: 0.0208764\ttotal: 2.12s\tremaining: 107ms\n",
      "952:\tlearn: 0.0208762\ttotal: 2.12s\tremaining: 104ms\n",
      "953:\tlearn: 0.0208761\ttotal: 2.12s\tremaining: 102ms\n",
      "954:\tlearn: 0.0208760\ttotal: 2.12s\tremaining: 100ms\n",
      "955:\tlearn: 0.0208760\ttotal: 2.12s\tremaining: 97.8ms\n",
      "956:\tlearn: 0.0208758\ttotal: 2.13s\tremaining: 95.6ms\n",
      "957:\tlearn: 0.0208752\ttotal: 2.13s\tremaining: 93.3ms\n",
      "958:\tlearn: 0.0208751\ttotal: 2.13s\tremaining: 91.1ms\n",
      "959:\tlearn: 0.0208748\ttotal: 2.13s\tremaining: 89ms\n",
      "960:\tlearn: 0.0208746\ttotal: 2.14s\tremaining: 86.8ms\n",
      "961:\tlearn: 0.0208744\ttotal: 2.14s\tremaining: 84.5ms\n",
      "962:\tlearn: 0.0208743\ttotal: 2.14s\tremaining: 82.3ms\n",
      "963:\tlearn: 0.0208743\ttotal: 2.14s\tremaining: 80.1ms\n",
      "964:\tlearn: 0.0208742\ttotal: 2.15s\tremaining: 77.9ms\n",
      "965:\tlearn: 0.0208738\ttotal: 2.15s\tremaining: 75.6ms\n",
      "966:\tlearn: 0.0208736\ttotal: 2.15s\tremaining: 73.4ms\n",
      "967:\tlearn: 0.0208735\ttotal: 2.15s\tremaining: 71.2ms\n",
      "968:\tlearn: 0.0208736\ttotal: 2.15s\tremaining: 68.9ms\n",
      "969:\tlearn: 0.0208733\ttotal: 2.16s\tremaining: 66.8ms\n",
      "970:\tlearn: 0.0208733\ttotal: 2.16s\tremaining: 64.6ms\n",
      "971:\tlearn: 0.0208731\ttotal: 2.16s\tremaining: 62.3ms\n",
      "972:\tlearn: 0.0208731\ttotal: 2.17s\tremaining: 60.1ms\n",
      "973:\tlearn: 0.0208731\ttotal: 2.17s\tremaining: 57.8ms\n",
      "974:\tlearn: 0.0208723\ttotal: 2.17s\tremaining: 55.6ms\n",
      "975:\tlearn: 0.0208721\ttotal: 2.17s\tremaining: 53.4ms\n",
      "976:\tlearn: 0.0208719\ttotal: 2.17s\tremaining: 51.2ms\n",
      "977:\tlearn: 0.0208719\ttotal: 2.18s\tremaining: 49ms\n",
      "978:\tlearn: 0.0208717\ttotal: 2.18s\tremaining: 46.8ms\n",
      "979:\tlearn: 0.0208717\ttotal: 2.18s\tremaining: 44.5ms\n",
      "980:\tlearn: 0.0208716\ttotal: 2.19s\tremaining: 42.3ms\n",
      "981:\tlearn: 0.0208716\ttotal: 2.19s\tremaining: 40.1ms\n",
      "982:\tlearn: 0.0208715\ttotal: 2.19s\tremaining: 37.9ms\n",
      "983:\tlearn: 0.0208707\ttotal: 2.19s\tremaining: 35.6ms\n",
      "984:\tlearn: 0.0208706\ttotal: 2.19s\tremaining: 33.4ms\n",
      "985:\tlearn: 0.0208705\ttotal: 2.19s\tremaining: 31.2ms\n",
      "986:\tlearn: 0.0208705\ttotal: 2.2s\tremaining: 28.9ms\n",
      "987:\tlearn: 0.0208699\ttotal: 2.2s\tremaining: 26.7ms\n",
      "988:\tlearn: 0.0208698\ttotal: 2.2s\tremaining: 24.5ms\n",
      "989:\tlearn: 0.0208697\ttotal: 2.2s\tremaining: 22.3ms\n",
      "990:\tlearn: 0.0208696\ttotal: 2.21s\tremaining: 20ms\n",
      "991:\tlearn: 0.0208696\ttotal: 2.21s\tremaining: 17.8ms\n",
      "992:\tlearn: 0.0208691\ttotal: 2.21s\tremaining: 15.6ms\n",
      "993:\tlearn: 0.0208689\ttotal: 2.21s\tremaining: 13.4ms\n",
      "994:\tlearn: 0.0208689\ttotal: 2.21s\tremaining: 11.1ms\n",
      "995:\tlearn: 0.0208689\ttotal: 2.22s\tremaining: 8.9ms\n",
      "996:\tlearn: 0.0208689\ttotal: 2.22s\tremaining: 6.68ms\n",
      "997:\tlearn: 0.0208688\ttotal: 2.22s\tremaining: 4.46ms\n",
      "998:\tlearn: 0.0208688\ttotal: 2.23s\tremaining: 2.23ms\n",
      "999:\tlearn: 0.0208688\ttotal: 2.23s\tremaining: 0us\n",
      "0:\tlearn: 0.2648425\ttotal: 1.47ms\tremaining: 1.47s\n",
      "1:\tlearn: 0.1781301\ttotal: 4.06ms\tremaining: 2.02s\n",
      "2:\tlearn: 0.1523988\ttotal: 6.53ms\tremaining: 2.17s\n",
      "3:\tlearn: 0.1302144\ttotal: 8.54ms\tremaining: 2.13s\n",
      "4:\tlearn: 0.1217983\ttotal: 10.6ms\tremaining: 2.1s\n",
      "5:\tlearn: 0.1170841\ttotal: 13.6ms\tremaining: 2.25s\n",
      "6:\tlearn: 0.1125903\ttotal: 17ms\tremaining: 2.42s\n",
      "7:\tlearn: 0.1046324\ttotal: 19.6ms\tremaining: 2.43s\n",
      "8:\tlearn: 0.0979857\ttotal: 21.6ms\tremaining: 2.38s\n",
      "9:\tlearn: 0.0951732\ttotal: 23.6ms\tremaining: 2.34s\n",
      "10:\tlearn: 0.0865345\ttotal: 25.8ms\tremaining: 2.32s\n",
      "11:\tlearn: 0.0843088\ttotal: 29.6ms\tremaining: 2.44s\n",
      "12:\tlearn: 0.0814035\ttotal: 32ms\tremaining: 2.43s\n",
      "13:\tlearn: 0.0748005\ttotal: 35.1ms\tremaining: 2.47s\n",
      "14:\tlearn: 0.0729541\ttotal: 37.9ms\tremaining: 2.49s\n",
      "15:\tlearn: 0.0703748\ttotal: 40.3ms\tremaining: 2.48s\n",
      "16:\tlearn: 0.0684573\ttotal: 43.1ms\tremaining: 2.49s\n",
      "17:\tlearn: 0.0657855\ttotal: 45.3ms\tremaining: 2.47s\n",
      "18:\tlearn: 0.0641152\ttotal: 47.4ms\tremaining: 2.45s\n",
      "19:\tlearn: 0.0638986\ttotal: 49ms\tremaining: 2.4s\n",
      "20:\tlearn: 0.0601897\ttotal: 51.1ms\tremaining: 2.38s\n",
      "21:\tlearn: 0.0574331\ttotal: 54.1ms\tremaining: 2.4s\n",
      "22:\tlearn: 0.0562059\ttotal: 57ms\tremaining: 2.42s\n",
      "23:\tlearn: 0.0523969\ttotal: 60.1ms\tremaining: 2.44s\n",
      "24:\tlearn: 0.0505157\ttotal: 62.3ms\tremaining: 2.43s\n",
      "25:\tlearn: 0.0492267\ttotal: 64.5ms\tremaining: 2.42s\n",
      "26:\tlearn: 0.0481276\ttotal: 67.1ms\tremaining: 2.42s\n",
      "27:\tlearn: 0.0472434\ttotal: 69.5ms\tremaining: 2.41s\n",
      "28:\tlearn: 0.0464736\ttotal: 71.7ms\tremaining: 2.4s\n",
      "29:\tlearn: 0.0450597\ttotal: 73.9ms\tremaining: 2.39s\n",
      "30:\tlearn: 0.0438833\ttotal: 76.1ms\tremaining: 2.38s\n",
      "31:\tlearn: 0.0419914\ttotal: 79.9ms\tremaining: 2.42s\n",
      "32:\tlearn: 0.0414237\ttotal: 83.7ms\tremaining: 2.45s\n",
      "33:\tlearn: 0.0406433\ttotal: 86ms\tremaining: 2.44s\n",
      "34:\tlearn: 0.0401653\ttotal: 88.2ms\tremaining: 2.43s\n",
      "35:\tlearn: 0.0394206\ttotal: 90.4ms\tremaining: 2.42s\n",
      "36:\tlearn: 0.0387426\ttotal: 92.7ms\tremaining: 2.41s\n",
      "37:\tlearn: 0.0384086\ttotal: 94.7ms\tremaining: 2.4s\n",
      "38:\tlearn: 0.0376688\ttotal: 97ms\tremaining: 2.39s\n",
      "39:\tlearn: 0.0368701\ttotal: 99.7ms\tremaining: 2.39s\n",
      "40:\tlearn: 0.0366864\ttotal: 102ms\tremaining: 2.39s\n",
      "41:\tlearn: 0.0365046\ttotal: 104ms\tremaining: 2.38s\n",
      "42:\tlearn: 0.0362098\ttotal: 106ms\tremaining: 2.37s\n",
      "43:\tlearn: 0.0359205\ttotal: 108ms\tremaining: 2.35s\n",
      "44:\tlearn: 0.0352894\ttotal: 110ms\tremaining: 2.34s\n",
      "45:\tlearn: 0.0350214\ttotal: 113ms\tremaining: 2.33s\n",
      "46:\tlearn: 0.0345385\ttotal: 115ms\tremaining: 2.32s\n",
      "47:\tlearn: 0.0335369\ttotal: 118ms\tremaining: 2.33s\n",
      "48:\tlearn: 0.0326506\ttotal: 120ms\tremaining: 2.34s\n",
      "49:\tlearn: 0.0321749\ttotal: 123ms\tremaining: 2.34s\n",
      "50:\tlearn: 0.0317021\ttotal: 125ms\tremaining: 2.33s\n",
      "51:\tlearn: 0.0312245\ttotal: 127ms\tremaining: 2.31s\n",
      "52:\tlearn: 0.0310850\ttotal: 129ms\tremaining: 2.31s\n",
      "53:\tlearn: 0.0303791\ttotal: 131ms\tremaining: 2.3s\n",
      "54:\tlearn: 0.0301295\ttotal: 133ms\tremaining: 2.29s\n",
      "55:\tlearn: 0.0301293\ttotal: 135ms\tremaining: 2.27s\n",
      "56:\tlearn: 0.0301292\ttotal: 136ms\tremaining: 2.25s\n",
      "57:\tlearn: 0.0301288\ttotal: 137ms\tremaining: 2.23s\n",
      "58:\tlearn: 0.0301287\ttotal: 140ms\tremaining: 2.23s\n",
      "59:\tlearn: 0.0301287\ttotal: 142ms\tremaining: 2.22s\n",
      "60:\tlearn: 0.0301286\ttotal: 143ms\tremaining: 2.2s\n",
      "61:\tlearn: 0.0301282\ttotal: 144ms\tremaining: 2.18s\n",
      "62:\tlearn: 0.0301281\ttotal: 145ms\tremaining: 2.16s\n",
      "63:\tlearn: 0.0301274\ttotal: 147ms\tremaining: 2.15s\n",
      "64:\tlearn: 0.0301273\ttotal: 148ms\tremaining: 2.13s\n",
      "65:\tlearn: 0.0301255\ttotal: 149ms\tremaining: 2.12s\n",
      "66:\tlearn: 0.0296301\ttotal: 152ms\tremaining: 2.11s\n",
      "67:\tlearn: 0.0292737\ttotal: 154ms\tremaining: 2.11s\n",
      "68:\tlearn: 0.0287295\ttotal: 157ms\tremaining: 2.12s\n",
      "69:\tlearn: 0.0283113\ttotal: 160ms\tremaining: 2.12s\n",
      "70:\tlearn: 0.0280868\ttotal: 162ms\tremaining: 2.12s\n",
      "71:\tlearn: 0.0278387\ttotal: 164ms\tremaining: 2.12s\n",
      "72:\tlearn: 0.0276977\ttotal: 167ms\tremaining: 2.12s\n",
      "73:\tlearn: 0.0274532\ttotal: 169ms\tremaining: 2.12s\n",
      "74:\tlearn: 0.0271832\ttotal: 171ms\tremaining: 2.11s\n",
      "75:\tlearn: 0.0271557\ttotal: 173ms\tremaining: 2.11s\n",
      "76:\tlearn: 0.0269451\ttotal: 176ms\tremaining: 2.11s\n",
      "77:\tlearn: 0.0266303\ttotal: 179ms\tremaining: 2.11s\n",
      "78:\tlearn: 0.0263318\ttotal: 181ms\tremaining: 2.11s\n",
      "79:\tlearn: 0.0261872\ttotal: 183ms\tremaining: 2.1s\n",
      "80:\tlearn: 0.0260155\ttotal: 185ms\tremaining: 2.09s\n",
      "81:\tlearn: 0.0257091\ttotal: 187ms\tremaining: 2.09s\n",
      "82:\tlearn: 0.0253500\ttotal: 189ms\tremaining: 2.08s\n",
      "83:\tlearn: 0.0252406\ttotal: 191ms\tremaining: 2.08s\n",
      "84:\tlearn: 0.0251365\ttotal: 193ms\tremaining: 2.08s\n",
      "85:\tlearn: 0.0248442\ttotal: 196ms\tremaining: 2.08s\n",
      "86:\tlearn: 0.0244418\ttotal: 198ms\tremaining: 2.08s\n",
      "87:\tlearn: 0.0243376\ttotal: 200ms\tremaining: 2.08s\n",
      "88:\tlearn: 0.0241974\ttotal: 202ms\tremaining: 2.07s\n",
      "89:\tlearn: 0.0241190\ttotal: 205ms\tremaining: 2.07s\n",
      "90:\tlearn: 0.0241186\ttotal: 207ms\tremaining: 2.06s\n",
      "91:\tlearn: 0.0239934\ttotal: 209ms\tremaining: 2.06s\n",
      "92:\tlearn: 0.0238682\ttotal: 211ms\tremaining: 2.06s\n",
      "93:\tlearn: 0.0237753\ttotal: 213ms\tremaining: 2.06s\n",
      "94:\tlearn: 0.0236707\ttotal: 217ms\tremaining: 2.06s\n",
      "95:\tlearn: 0.0234132\ttotal: 220ms\tremaining: 2.07s\n",
      "96:\tlearn: 0.0233440\ttotal: 222ms\tremaining: 2.07s\n",
      "97:\tlearn: 0.0232569\ttotal: 224ms\tremaining: 2.06s\n",
      "98:\tlearn: 0.0230486\ttotal: 226ms\tremaining: 2.06s\n",
      "99:\tlearn: 0.0230483\ttotal: 228ms\tremaining: 2.05s\n",
      "100:\tlearn: 0.0228969\ttotal: 231ms\tremaining: 2.06s\n",
      "101:\tlearn: 0.0228204\ttotal: 234ms\tremaining: 2.06s\n",
      "102:\tlearn: 0.0228204\ttotal: 236ms\tremaining: 2.06s\n",
      "103:\tlearn: 0.0227290\ttotal: 239ms\tremaining: 2.05s\n",
      "104:\tlearn: 0.0226438\ttotal: 241ms\tremaining: 2.06s\n",
      "105:\tlearn: 0.0225455\ttotal: 243ms\tremaining: 2.05s\n",
      "106:\tlearn: 0.0224813\ttotal: 245ms\tremaining: 2.05s\n",
      "107:\tlearn: 0.0223969\ttotal: 248ms\tremaining: 2.04s\n",
      "108:\tlearn: 0.0223968\ttotal: 250ms\tremaining: 2.04s\n",
      "109:\tlearn: 0.0223400\ttotal: 252ms\tremaining: 2.04s\n",
      "110:\tlearn: 0.0222004\ttotal: 258ms\tremaining: 2.07s\n",
      "111:\tlearn: 0.0220846\ttotal: 262ms\tremaining: 2.08s\n",
      "112:\tlearn: 0.0219812\ttotal: 265ms\tremaining: 2.08s\n",
      "113:\tlearn: 0.0219811\ttotal: 267ms\tremaining: 2.08s\n",
      "114:\tlearn: 0.0219100\ttotal: 270ms\tremaining: 2.08s\n",
      "115:\tlearn: 0.0219099\ttotal: 272ms\tremaining: 2.07s\n",
      "116:\tlearn: 0.0218549\ttotal: 274ms\tremaining: 2.07s\n",
      "117:\tlearn: 0.0217069\ttotal: 276ms\tremaining: 2.06s\n",
      "118:\tlearn: 0.0217068\ttotal: 278ms\tremaining: 2.06s\n",
      "119:\tlearn: 0.0217066\ttotal: 282ms\tremaining: 2.07s\n",
      "120:\tlearn: 0.0217062\ttotal: 285ms\tremaining: 2.07s\n",
      "121:\tlearn: 0.0217061\ttotal: 288ms\tremaining: 2.07s\n",
      "122:\tlearn: 0.0216596\ttotal: 289ms\tremaining: 2.06s\n",
      "123:\tlearn: 0.0216594\ttotal: 292ms\tremaining: 2.06s\n",
      "124:\tlearn: 0.0216593\ttotal: 294ms\tremaining: 2.06s\n",
      "125:\tlearn: 0.0216593\ttotal: 296ms\tremaining: 2.05s\n",
      "126:\tlearn: 0.0216589\ttotal: 298ms\tremaining: 2.04s\n",
      "127:\tlearn: 0.0216588\ttotal: 300ms\tremaining: 2.04s\n",
      "128:\tlearn: 0.0216587\ttotal: 302ms\tremaining: 2.04s\n",
      "129:\tlearn: 0.0216583\ttotal: 305ms\tremaining: 2.04s\n",
      "130:\tlearn: 0.0216032\ttotal: 309ms\tremaining: 2.05s\n",
      "131:\tlearn: 0.0216028\ttotal: 312ms\tremaining: 2.05s\n",
      "132:\tlearn: 0.0216028\ttotal: 314ms\tremaining: 2.04s\n",
      "133:\tlearn: 0.0216025\ttotal: 316ms\tremaining: 2.04s\n",
      "134:\tlearn: 0.0216024\ttotal: 319ms\tremaining: 2.04s\n",
      "135:\tlearn: 0.0216022\ttotal: 321ms\tremaining: 2.04s\n",
      "136:\tlearn: 0.0216022\ttotal: 323ms\tremaining: 2.04s\n",
      "137:\tlearn: 0.0216022\ttotal: 325ms\tremaining: 2.03s\n",
      "138:\tlearn: 0.0216022\ttotal: 328ms\tremaining: 2.03s\n",
      "139:\tlearn: 0.0216022\ttotal: 332ms\tremaining: 2.04s\n",
      "140:\tlearn: 0.0216022\ttotal: 334ms\tremaining: 2.04s\n",
      "141:\tlearn: 0.0216007\ttotal: 336ms\tremaining: 2.03s\n",
      "142:\tlearn: 0.0216005\ttotal: 338ms\tremaining: 2.02s\n",
      "143:\tlearn: 0.0216001\ttotal: 340ms\tremaining: 2.02s\n",
      "144:\tlearn: 0.0216000\ttotal: 342ms\tremaining: 2.02s\n",
      "145:\tlearn: 0.0215995\ttotal: 344ms\tremaining: 2.01s\n",
      "146:\tlearn: 0.0215993\ttotal: 347ms\tremaining: 2.01s\n",
      "147:\tlearn: 0.0215993\ttotal: 349ms\tremaining: 2.01s\n",
      "148:\tlearn: 0.0215992\ttotal: 351ms\tremaining: 2.01s\n",
      "149:\tlearn: 0.0215992\ttotal: 353ms\tremaining: 2s\n",
      "150:\tlearn: 0.0215992\ttotal: 356ms\tremaining: 2s\n",
      "151:\tlearn: 0.0215991\ttotal: 358ms\tremaining: 2s\n",
      "152:\tlearn: 0.0215991\ttotal: 360ms\tremaining: 1.99s\n",
      "153:\tlearn: 0.0215990\ttotal: 362ms\tremaining: 1.99s\n",
      "154:\tlearn: 0.0215986\ttotal: 364ms\tremaining: 1.98s\n",
      "155:\tlearn: 0.0215984\ttotal: 365ms\tremaining: 1.98s\n",
      "156:\tlearn: 0.0215983\ttotal: 368ms\tremaining: 1.98s\n",
      "157:\tlearn: 0.0215982\ttotal: 371ms\tremaining: 1.97s\n",
      "158:\tlearn: 0.0215978\ttotal: 373ms\tremaining: 1.97s\n",
      "159:\tlearn: 0.0215977\ttotal: 375ms\tremaining: 1.97s\n",
      "160:\tlearn: 0.0215977\ttotal: 377ms\tremaining: 1.96s\n",
      "161:\tlearn: 0.0215975\ttotal: 379ms\tremaining: 1.96s\n",
      "162:\tlearn: 0.0215975\ttotal: 381ms\tremaining: 1.96s\n",
      "163:\tlearn: 0.0215972\ttotal: 383ms\tremaining: 1.95s\n",
      "164:\tlearn: 0.0215971\ttotal: 385ms\tremaining: 1.95s\n",
      "165:\tlearn: 0.0215971\ttotal: 387ms\tremaining: 1.95s\n",
      "166:\tlearn: 0.0215971\ttotal: 389ms\tremaining: 1.94s\n",
      "167:\tlearn: 0.0215971\ttotal: 391ms\tremaining: 1.94s\n",
      "168:\tlearn: 0.0215971\ttotal: 395ms\tremaining: 1.94s\n",
      "169:\tlearn: 0.0215970\ttotal: 397ms\tremaining: 1.94s\n",
      "170:\tlearn: 0.0215968\ttotal: 399ms\tremaining: 1.94s\n",
      "171:\tlearn: 0.0215964\ttotal: 401ms\tremaining: 1.93s\n",
      "172:\tlearn: 0.0215962\ttotal: 403ms\tremaining: 1.93s\n",
      "173:\tlearn: 0.0215962\ttotal: 406ms\tremaining: 1.93s\n",
      "174:\tlearn: 0.0215961\ttotal: 409ms\tremaining: 1.93s\n",
      "175:\tlearn: 0.0215961\ttotal: 411ms\tremaining: 1.92s\n",
      "176:\tlearn: 0.0215957\ttotal: 413ms\tremaining: 1.92s\n",
      "177:\tlearn: 0.0215956\ttotal: 415ms\tremaining: 1.92s\n",
      "178:\tlearn: 0.0215954\ttotal: 417ms\tremaining: 1.91s\n",
      "179:\tlearn: 0.0215953\ttotal: 421ms\tremaining: 1.92s\n",
      "180:\tlearn: 0.0215951\ttotal: 423ms\tremaining: 1.91s\n",
      "181:\tlearn: 0.0215951\ttotal: 425ms\tremaining: 1.91s\n",
      "182:\tlearn: 0.0215951\ttotal: 427ms\tremaining: 1.9s\n",
      "183:\tlearn: 0.0215949\ttotal: 428ms\tremaining: 1.9s\n",
      "184:\tlearn: 0.0215949\ttotal: 430ms\tremaining: 1.9s\n",
      "185:\tlearn: 0.0215944\ttotal: 433ms\tremaining: 1.89s\n",
      "186:\tlearn: 0.0215943\ttotal: 435ms\tremaining: 1.89s\n",
      "187:\tlearn: 0.0215943\ttotal: 437ms\tremaining: 1.89s\n",
      "188:\tlearn: 0.0215943\ttotal: 439ms\tremaining: 1.88s\n",
      "189:\tlearn: 0.0215942\ttotal: 442ms\tremaining: 1.89s\n",
      "190:\tlearn: 0.0215942\ttotal: 445ms\tremaining: 1.88s\n",
      "191:\tlearn: 0.0215942\ttotal: 447ms\tremaining: 1.88s\n",
      "192:\tlearn: 0.0215938\ttotal: 449ms\tremaining: 1.88s\n",
      "193:\tlearn: 0.0215937\ttotal: 451ms\tremaining: 1.87s\n",
      "194:\tlearn: 0.0215936\ttotal: 454ms\tremaining: 1.87s\n",
      "195:\tlearn: 0.0215935\ttotal: 456ms\tremaining: 1.87s\n",
      "196:\tlearn: 0.0215932\ttotal: 458ms\tremaining: 1.87s\n",
      "197:\tlearn: 0.0215928\ttotal: 460ms\tremaining: 1.86s\n",
      "198:\tlearn: 0.0215924\ttotal: 463ms\tremaining: 1.86s\n",
      "199:\tlearn: 0.0215922\ttotal: 466ms\tremaining: 1.86s\n",
      "200:\tlearn: 0.0215920\ttotal: 469ms\tremaining: 1.86s\n",
      "201:\tlearn: 0.0215916\ttotal: 471ms\tremaining: 1.86s\n",
      "202:\tlearn: 0.0215916\ttotal: 473ms\tremaining: 1.85s\n",
      "203:\tlearn: 0.0215916\ttotal: 474ms\tremaining: 1.85s\n",
      "204:\tlearn: 0.0215915\ttotal: 476ms\tremaining: 1.85s\n",
      "205:\tlearn: 0.0215915\ttotal: 478ms\tremaining: 1.84s\n",
      "206:\tlearn: 0.0215914\ttotal: 481ms\tremaining: 1.84s\n",
      "207:\tlearn: 0.0215911\ttotal: 483ms\tremaining: 1.84s\n",
      "208:\tlearn: 0.0215911\ttotal: 486ms\tremaining: 1.84s\n",
      "209:\tlearn: 0.0215909\ttotal: 488ms\tremaining: 1.84s\n",
      "210:\tlearn: 0.0215909\ttotal: 490ms\tremaining: 1.83s\n",
      "211:\tlearn: 0.0215909\ttotal: 492ms\tremaining: 1.83s\n",
      "212:\tlearn: 0.0215907\ttotal: 495ms\tremaining: 1.83s\n",
      "213:\tlearn: 0.0215906\ttotal: 497ms\tremaining: 1.82s\n",
      "214:\tlearn: 0.0215907\ttotal: 498ms\tremaining: 1.82s\n",
      "215:\tlearn: 0.0215905\ttotal: 500ms\tremaining: 1.81s\n",
      "216:\tlearn: 0.0215904\ttotal: 502ms\tremaining: 1.81s\n",
      "217:\tlearn: 0.0215904\ttotal: 504ms\tremaining: 1.81s\n",
      "218:\tlearn: 0.0215904\ttotal: 507ms\tremaining: 1.81s\n",
      "219:\tlearn: 0.0215904\ttotal: 509ms\tremaining: 1.81s\n",
      "220:\tlearn: 0.0215904\ttotal: 511ms\tremaining: 1.8s\n",
      "221:\tlearn: 0.0215893\ttotal: 513ms\tremaining: 1.8s\n",
      "222:\tlearn: 0.0215384\ttotal: 515ms\tremaining: 1.79s\n",
      "223:\tlearn: 0.0215383\ttotal: 517ms\tremaining: 1.79s\n",
      "224:\tlearn: 0.0215383\ttotal: 520ms\tremaining: 1.79s\n",
      "225:\tlearn: 0.0215381\ttotal: 522ms\tremaining: 1.79s\n",
      "226:\tlearn: 0.0215370\ttotal: 525ms\tremaining: 1.79s\n",
      "227:\tlearn: 0.0215367\ttotal: 526ms\tremaining: 1.78s\n",
      "228:\tlearn: 0.0215365\ttotal: 528ms\tremaining: 1.78s\n",
      "229:\tlearn: 0.0215355\ttotal: 531ms\tremaining: 1.78s\n",
      "230:\tlearn: 0.0215351\ttotal: 533ms\tremaining: 1.77s\n",
      "231:\tlearn: 0.0215351\ttotal: 535ms\tremaining: 1.77s\n",
      "232:\tlearn: 0.0215349\ttotal: 537ms\tremaining: 1.77s\n",
      "233:\tlearn: 0.0215349\ttotal: 538ms\tremaining: 1.76s\n",
      "234:\tlearn: 0.0215349\ttotal: 540ms\tremaining: 1.76s\n",
      "235:\tlearn: 0.0215349\ttotal: 542ms\tremaining: 1.75s\n",
      "236:\tlearn: 0.0215349\ttotal: 546ms\tremaining: 1.76s\n",
      "237:\tlearn: 0.0214446\ttotal: 550ms\tremaining: 1.76s\n",
      "238:\tlearn: 0.0213633\ttotal: 552ms\tremaining: 1.76s\n",
      "239:\tlearn: 0.0213632\ttotal: 554ms\tremaining: 1.75s\n",
      "240:\tlearn: 0.0213630\ttotal: 556ms\tremaining: 1.75s\n",
      "241:\tlearn: 0.0213606\ttotal: 558ms\tremaining: 1.75s\n",
      "242:\tlearn: 0.0212625\ttotal: 560ms\tremaining: 1.75s\n",
      "243:\tlearn: 0.0212624\ttotal: 562ms\tremaining: 1.74s\n",
      "244:\tlearn: 0.0211883\ttotal: 564ms\tremaining: 1.74s\n",
      "245:\tlearn: 0.0211881\ttotal: 566ms\tremaining: 1.74s\n",
      "246:\tlearn: 0.0211881\ttotal: 568ms\tremaining: 1.73s\n",
      "247:\tlearn: 0.0211880\ttotal: 570ms\tremaining: 1.73s\n",
      "248:\tlearn: 0.0211879\ttotal: 572ms\tremaining: 1.73s\n",
      "249:\tlearn: 0.0211878\ttotal: 574ms\tremaining: 1.72s\n",
      "250:\tlearn: 0.0211878\ttotal: 575ms\tremaining: 1.72s\n",
      "251:\tlearn: 0.0211877\ttotal: 576ms\tremaining: 1.71s\n",
      "252:\tlearn: 0.0211875\ttotal: 578ms\tremaining: 1.71s\n",
      "253:\tlearn: 0.0211874\ttotal: 579ms\tremaining: 1.7s\n",
      "254:\tlearn: 0.0211873\ttotal: 582ms\tremaining: 1.7s\n",
      "255:\tlearn: 0.0211871\ttotal: 584ms\tremaining: 1.7s\n",
      "256:\tlearn: 0.0211869\ttotal: 586ms\tremaining: 1.69s\n",
      "257:\tlearn: 0.0211867\ttotal: 589ms\tremaining: 1.69s\n",
      "258:\tlearn: 0.0211867\ttotal: 591ms\tremaining: 1.69s\n",
      "259:\tlearn: 0.0211867\ttotal: 594ms\tremaining: 1.69s\n",
      "260:\tlearn: 0.0211862\ttotal: 596ms\tremaining: 1.69s\n",
      "261:\tlearn: 0.0211863\ttotal: 598ms\tremaining: 1.69s\n",
      "262:\tlearn: 0.0211861\ttotal: 600ms\tremaining: 1.68s\n",
      "263:\tlearn: 0.0211861\ttotal: 601ms\tremaining: 1.68s\n",
      "264:\tlearn: 0.0211861\ttotal: 603ms\tremaining: 1.67s\n",
      "265:\tlearn: 0.0211860\ttotal: 605ms\tremaining: 1.67s\n",
      "266:\tlearn: 0.0211860\ttotal: 608ms\tremaining: 1.67s\n",
      "267:\tlearn: 0.0211837\ttotal: 611ms\tremaining: 1.67s\n",
      "268:\tlearn: 0.0211837\ttotal: 613ms\tremaining: 1.67s\n",
      "269:\tlearn: 0.0211838\ttotal: 615ms\tremaining: 1.66s\n",
      "270:\tlearn: 0.0211836\ttotal: 617ms\tremaining: 1.66s\n",
      "271:\tlearn: 0.0211832\ttotal: 620ms\tremaining: 1.66s\n",
      "272:\tlearn: 0.0211831\ttotal: 623ms\tremaining: 1.66s\n",
      "273:\tlearn: 0.0211830\ttotal: 624ms\tremaining: 1.65s\n",
      "274:\tlearn: 0.0211830\ttotal: 627ms\tremaining: 1.65s\n",
      "275:\tlearn: 0.0211829\ttotal: 629ms\tremaining: 1.65s\n",
      "276:\tlearn: 0.0211828\ttotal: 632ms\tremaining: 1.65s\n",
      "277:\tlearn: 0.0211828\ttotal: 635ms\tremaining: 1.65s\n",
      "278:\tlearn: 0.0211827\ttotal: 638ms\tremaining: 1.65s\n",
      "279:\tlearn: 0.0211827\ttotal: 639ms\tremaining: 1.64s\n",
      "280:\tlearn: 0.0211827\ttotal: 641ms\tremaining: 1.64s\n",
      "281:\tlearn: 0.0211824\ttotal: 644ms\tremaining: 1.64s\n",
      "282:\tlearn: 0.0211824\ttotal: 647ms\tremaining: 1.64s\n",
      "283:\tlearn: 0.0211824\ttotal: 649ms\tremaining: 1.64s\n",
      "284:\tlearn: 0.0211823\ttotal: 650ms\tremaining: 1.63s\n",
      "285:\tlearn: 0.0211823\ttotal: 652ms\tremaining: 1.63s\n",
      "286:\tlearn: 0.0211823\ttotal: 656ms\tremaining: 1.63s\n",
      "287:\tlearn: 0.0211822\ttotal: 660ms\tremaining: 1.63s\n",
      "288:\tlearn: 0.0211822\ttotal: 663ms\tremaining: 1.63s\n",
      "289:\tlearn: 0.0211822\ttotal: 665ms\tremaining: 1.63s\n",
      "290:\tlearn: 0.0211821\ttotal: 668ms\tremaining: 1.63s\n",
      "291:\tlearn: 0.0211821\ttotal: 670ms\tremaining: 1.63s\n",
      "292:\tlearn: 0.0211820\ttotal: 673ms\tremaining: 1.62s\n",
      "293:\tlearn: 0.0211819\ttotal: 674ms\tremaining: 1.62s\n",
      "294:\tlearn: 0.0211819\ttotal: 676ms\tremaining: 1.61s\n",
      "295:\tlearn: 0.0211818\ttotal: 678ms\tremaining: 1.61s\n",
      "296:\tlearn: 0.0211818\ttotal: 680ms\tremaining: 1.61s\n",
      "297:\tlearn: 0.0211816\ttotal: 684ms\tremaining: 1.61s\n",
      "298:\tlearn: 0.0211815\ttotal: 687ms\tremaining: 1.61s\n",
      "299:\tlearn: 0.0211815\ttotal: 689ms\tremaining: 1.61s\n",
      "300:\tlearn: 0.0211815\ttotal: 691ms\tremaining: 1.6s\n",
      "301:\tlearn: 0.0211814\ttotal: 694ms\tremaining: 1.6s\n",
      "302:\tlearn: 0.0211814\ttotal: 696ms\tremaining: 1.6s\n",
      "303:\tlearn: 0.0211814\ttotal: 698ms\tremaining: 1.6s\n",
      "304:\tlearn: 0.0211813\ttotal: 700ms\tremaining: 1.59s\n",
      "305:\tlearn: 0.0211812\ttotal: 701ms\tremaining: 1.59s\n",
      "306:\tlearn: 0.0211811\ttotal: 703ms\tremaining: 1.59s\n",
      "307:\tlearn: 0.0211809\ttotal: 707ms\tremaining: 1.59s\n",
      "308:\tlearn: 0.0211805\ttotal: 710ms\tremaining: 1.59s\n",
      "309:\tlearn: 0.0211805\ttotal: 712ms\tremaining: 1.58s\n",
      "310:\tlearn: 0.0211803\ttotal: 714ms\tremaining: 1.58s\n",
      "311:\tlearn: 0.0211802\ttotal: 716ms\tremaining: 1.58s\n",
      "312:\tlearn: 0.0211800\ttotal: 718ms\tremaining: 1.57s\n",
      "313:\tlearn: 0.0211800\ttotal: 720ms\tremaining: 1.57s\n",
      "314:\tlearn: 0.0211798\ttotal: 723ms\tremaining: 1.57s\n",
      "315:\tlearn: 0.0211797\ttotal: 725ms\tremaining: 1.57s\n",
      "316:\tlearn: 0.0211796\ttotal: 728ms\tremaining: 1.57s\n",
      "317:\tlearn: 0.0211795\ttotal: 730ms\tremaining: 1.57s\n",
      "318:\tlearn: 0.0211795\ttotal: 733ms\tremaining: 1.56s\n",
      "319:\tlearn: 0.0211794\ttotal: 735ms\tremaining: 1.56s\n",
      "320:\tlearn: 0.0211792\ttotal: 737ms\tremaining: 1.56s\n",
      "321:\tlearn: 0.0211792\ttotal: 739ms\tremaining: 1.55s\n",
      "322:\tlearn: 0.0211789\ttotal: 741ms\tremaining: 1.55s\n",
      "323:\tlearn: 0.0211788\ttotal: 743ms\tremaining: 1.55s\n",
      "324:\tlearn: 0.0211788\ttotal: 745ms\tremaining: 1.55s\n",
      "325:\tlearn: 0.0211787\ttotal: 747ms\tremaining: 1.54s\n",
      "326:\tlearn: 0.0211785\ttotal: 749ms\tremaining: 1.54s\n",
      "327:\tlearn: 0.0211785\ttotal: 751ms\tremaining: 1.54s\n",
      "328:\tlearn: 0.0211783\ttotal: 753ms\tremaining: 1.53s\n",
      "329:\tlearn: 0.0211783\ttotal: 755ms\tremaining: 1.53s\n",
      "330:\tlearn: 0.0211780\ttotal: 757ms\tremaining: 1.53s\n",
      "331:\tlearn: 0.0211780\ttotal: 759ms\tremaining: 1.53s\n",
      "332:\tlearn: 0.0211778\ttotal: 761ms\tremaining: 1.52s\n",
      "333:\tlearn: 0.0211777\ttotal: 763ms\tremaining: 1.52s\n",
      "334:\tlearn: 0.0211777\ttotal: 765ms\tremaining: 1.52s\n",
      "335:\tlearn: 0.0211776\ttotal: 769ms\tremaining: 1.52s\n",
      "336:\tlearn: 0.0211773\ttotal: 772ms\tremaining: 1.52s\n",
      "337:\tlearn: 0.0211773\ttotal: 774ms\tremaining: 1.51s\n",
      "338:\tlearn: 0.0211771\ttotal: 775ms\tremaining: 1.51s\n",
      "339:\tlearn: 0.0211770\ttotal: 777ms\tremaining: 1.51s\n",
      "340:\tlearn: 0.0211769\ttotal: 779ms\tremaining: 1.5s\n",
      "341:\tlearn: 0.0211769\ttotal: 782ms\tremaining: 1.5s\n",
      "342:\tlearn: 0.0211766\ttotal: 784ms\tremaining: 1.5s\n",
      "343:\tlearn: 0.0211766\ttotal: 786ms\tremaining: 1.5s\n",
      "344:\tlearn: 0.0211766\ttotal: 789ms\tremaining: 1.5s\n",
      "345:\tlearn: 0.0211765\ttotal: 791ms\tremaining: 1.5s\n",
      "346:\tlearn: 0.0211764\ttotal: 793ms\tremaining: 1.49s\n",
      "347:\tlearn: 0.0211763\ttotal: 796ms\tremaining: 1.49s\n",
      "348:\tlearn: 0.0211763\ttotal: 799ms\tremaining: 1.49s\n",
      "349:\tlearn: 0.0211763\ttotal: 801ms\tremaining: 1.49s\n",
      "350:\tlearn: 0.0211761\ttotal: 803ms\tremaining: 1.48s\n",
      "351:\tlearn: 0.0211759\ttotal: 805ms\tremaining: 1.48s\n",
      "352:\tlearn: 0.0211757\ttotal: 807ms\tremaining: 1.48s\n",
      "353:\tlearn: 0.0211756\ttotal: 810ms\tremaining: 1.48s\n",
      "354:\tlearn: 0.0211756\ttotal: 811ms\tremaining: 1.47s\n",
      "355:\tlearn: 0.0211755\ttotal: 813ms\tremaining: 1.47s\n",
      "356:\tlearn: 0.0211754\ttotal: 815ms\tremaining: 1.47s\n",
      "357:\tlearn: 0.0211752\ttotal: 819ms\tremaining: 1.47s\n",
      "358:\tlearn: 0.0211751\ttotal: 822ms\tremaining: 1.47s\n",
      "359:\tlearn: 0.0211750\ttotal: 824ms\tremaining: 1.46s\n",
      "360:\tlearn: 0.0211749\ttotal: 825ms\tremaining: 1.46s\n",
      "361:\tlearn: 0.0211749\ttotal: 827ms\tremaining: 1.46s\n",
      "362:\tlearn: 0.0211749\ttotal: 829ms\tremaining: 1.45s\n",
      "363:\tlearn: 0.0211747\ttotal: 832ms\tremaining: 1.45s\n",
      "364:\tlearn: 0.0211744\ttotal: 835ms\tremaining: 1.45s\n",
      "365:\tlearn: 0.0211744\ttotal: 842ms\tremaining: 1.46s\n",
      "366:\tlearn: 0.0211742\ttotal: 846ms\tremaining: 1.46s\n",
      "367:\tlearn: 0.0211741\ttotal: 849ms\tremaining: 1.46s\n",
      "368:\tlearn: 0.0211740\ttotal: 851ms\tremaining: 1.45s\n",
      "369:\tlearn: 0.0211737\ttotal: 853ms\tremaining: 1.45s\n",
      "370:\tlearn: 0.0211736\ttotal: 855ms\tremaining: 1.45s\n",
      "371:\tlearn: 0.0211732\ttotal: 857ms\tremaining: 1.45s\n",
      "372:\tlearn: 0.0211732\ttotal: 860ms\tremaining: 1.45s\n",
      "373:\tlearn: 0.0211730\ttotal: 862ms\tremaining: 1.44s\n",
      "374:\tlearn: 0.0211730\ttotal: 864ms\tremaining: 1.44s\n",
      "375:\tlearn: 0.0211730\ttotal: 867ms\tremaining: 1.44s\n",
      "376:\tlearn: 0.0211728\ttotal: 869ms\tremaining: 1.44s\n",
      "377:\tlearn: 0.0211728\ttotal: 872ms\tremaining: 1.43s\n",
      "378:\tlearn: 0.0211727\ttotal: 874ms\tremaining: 1.43s\n",
      "379:\tlearn: 0.0211726\ttotal: 876ms\tremaining: 1.43s\n",
      "380:\tlearn: 0.0211725\ttotal: 877ms\tremaining: 1.43s\n",
      "381:\tlearn: 0.0211722\ttotal: 879ms\tremaining: 1.42s\n",
      "382:\tlearn: 0.0211722\ttotal: 881ms\tremaining: 1.42s\n",
      "383:\tlearn: 0.0211716\ttotal: 884ms\tremaining: 1.42s\n",
      "384:\tlearn: 0.0211713\ttotal: 886ms\tremaining: 1.42s\n",
      "385:\tlearn: 0.0211713\ttotal: 889ms\tremaining: 1.41s\n",
      "386:\tlearn: 0.0211711\ttotal: 891ms\tremaining: 1.41s\n",
      "387:\tlearn: 0.0211710\ttotal: 893ms\tremaining: 1.41s\n",
      "388:\tlearn: 0.0211709\ttotal: 896ms\tremaining: 1.41s\n",
      "389:\tlearn: 0.0211708\ttotal: 898ms\tremaining: 1.4s\n",
      "390:\tlearn: 0.0211707\ttotal: 900ms\tremaining: 1.4s\n",
      "391:\tlearn: 0.0211705\ttotal: 902ms\tremaining: 1.4s\n",
      "392:\tlearn: 0.0211703\ttotal: 904ms\tremaining: 1.4s\n",
      "393:\tlearn: 0.0211700\ttotal: 907ms\tremaining: 1.4s\n",
      "394:\tlearn: 0.0211697\ttotal: 910ms\tremaining: 1.39s\n",
      "395:\tlearn: 0.0211695\ttotal: 912ms\tremaining: 1.39s\n",
      "396:\tlearn: 0.0211693\ttotal: 914ms\tremaining: 1.39s\n",
      "397:\tlearn: 0.0211692\ttotal: 916ms\tremaining: 1.38s\n",
      "398:\tlearn: 0.0211692\ttotal: 917ms\tremaining: 1.38s\n",
      "399:\tlearn: 0.0211688\ttotal: 920ms\tremaining: 1.38s\n",
      "400:\tlearn: 0.0211687\ttotal: 922ms\tremaining: 1.38s\n",
      "401:\tlearn: 0.0211686\ttotal: 924ms\tremaining: 1.37s\n",
      "402:\tlearn: 0.0211684\ttotal: 926ms\tremaining: 1.37s\n",
      "403:\tlearn: 0.0211684\ttotal: 928ms\tremaining: 1.37s\n",
      "404:\tlearn: 0.0211682\ttotal: 930ms\tremaining: 1.37s\n",
      "405:\tlearn: 0.0211681\ttotal: 933ms\tremaining: 1.36s\n",
      "406:\tlearn: 0.0211681\ttotal: 935ms\tremaining: 1.36s\n",
      "407:\tlearn: 0.0211679\ttotal: 937ms\tremaining: 1.36s\n",
      "408:\tlearn: 0.0211679\ttotal: 938ms\tremaining: 1.36s\n",
      "409:\tlearn: 0.0211673\ttotal: 940ms\tremaining: 1.35s\n",
      "410:\tlearn: 0.0211670\ttotal: 942ms\tremaining: 1.35s\n",
      "411:\tlearn: 0.0211669\ttotal: 945ms\tremaining: 1.35s\n",
      "412:\tlearn: 0.0211665\ttotal: 948ms\tremaining: 1.35s\n",
      "413:\tlearn: 0.0211400\ttotal: 950ms\tremaining: 1.34s\n",
      "414:\tlearn: 0.0211264\ttotal: 952ms\tremaining: 1.34s\n",
      "415:\tlearn: 0.0210520\ttotal: 954ms\tremaining: 1.34s\n",
      "416:\tlearn: 0.0210519\ttotal: 956ms\tremaining: 1.33s\n",
      "417:\tlearn: 0.0210518\ttotal: 958ms\tremaining: 1.33s\n",
      "418:\tlearn: 0.0210517\ttotal: 960ms\tremaining: 1.33s\n",
      "419:\tlearn: 0.0210516\ttotal: 962ms\tremaining: 1.33s\n",
      "420:\tlearn: 0.0210515\ttotal: 964ms\tremaining: 1.32s\n",
      "421:\tlearn: 0.0210515\ttotal: 965ms\tremaining: 1.32s\n",
      "422:\tlearn: 0.0210515\ttotal: 968ms\tremaining: 1.32s\n",
      "423:\tlearn: 0.0210512\ttotal: 971ms\tremaining: 1.32s\n",
      "424:\tlearn: 0.0210511\ttotal: 973ms\tremaining: 1.32s\n",
      "425:\tlearn: 0.0210510\ttotal: 975ms\tremaining: 1.31s\n",
      "426:\tlearn: 0.0210511\ttotal: 977ms\tremaining: 1.31s\n",
      "427:\tlearn: 0.0210510\ttotal: 979ms\tremaining: 1.31s\n",
      "428:\tlearn: 0.0210509\ttotal: 981ms\tremaining: 1.3s\n",
      "429:\tlearn: 0.0210509\ttotal: 983ms\tremaining: 1.3s\n",
      "430:\tlearn: 0.0210507\ttotal: 985ms\tremaining: 1.3s\n",
      "431:\tlearn: 0.0210504\ttotal: 987ms\tremaining: 1.3s\n",
      "432:\tlearn: 0.0210504\ttotal: 989ms\tremaining: 1.29s\n",
      "433:\tlearn: 0.0210498\ttotal: 991ms\tremaining: 1.29s\n",
      "434:\tlearn: 0.0210496\ttotal: 993ms\tremaining: 1.29s\n",
      "435:\tlearn: 0.0210497\ttotal: 996ms\tremaining: 1.29s\n",
      "436:\tlearn: 0.0210495\ttotal: 999ms\tremaining: 1.29s\n",
      "437:\tlearn: 0.0210468\ttotal: 1s\tremaining: 1.28s\n",
      "438:\tlearn: 0.0210467\ttotal: 1s\tremaining: 1.28s\n",
      "439:\tlearn: 0.0210462\ttotal: 1s\tremaining: 1.28s\n",
      "440:\tlearn: 0.0210462\ttotal: 1.01s\tremaining: 1.28s\n",
      "441:\tlearn: 0.0210462\ttotal: 1.01s\tremaining: 1.27s\n",
      "442:\tlearn: 0.0210436\ttotal: 1.01s\tremaining: 1.27s\n",
      "443:\tlearn: 0.0210437\ttotal: 1.01s\tremaining: 1.27s\n",
      "444:\tlearn: 0.0210432\ttotal: 1.01s\tremaining: 1.27s\n",
      "445:\tlearn: 0.0210429\ttotal: 1.02s\tremaining: 1.26s\n",
      "446:\tlearn: 0.0210428\ttotal: 1.02s\tremaining: 1.26s\n",
      "447:\tlearn: 0.0210420\ttotal: 1.02s\tremaining: 1.26s\n",
      "448:\tlearn: 0.0210419\ttotal: 1.02s\tremaining: 1.26s\n",
      "449:\tlearn: 0.0210417\ttotal: 1.03s\tremaining: 1.26s\n",
      "450:\tlearn: 0.0210413\ttotal: 1.03s\tremaining: 1.25s\n",
      "451:\tlearn: 0.0210412\ttotal: 1.03s\tremaining: 1.25s\n",
      "452:\tlearn: 0.0210408\ttotal: 1.03s\tremaining: 1.25s\n",
      "453:\tlearn: 0.0210408\ttotal: 1.04s\tremaining: 1.25s\n",
      "454:\tlearn: 0.0210407\ttotal: 1.04s\tremaining: 1.25s\n",
      "455:\tlearn: 0.0210406\ttotal: 1.04s\tremaining: 1.24s\n",
      "456:\tlearn: 0.0210406\ttotal: 1.04s\tremaining: 1.24s\n",
      "457:\tlearn: 0.0210406\ttotal: 1.05s\tremaining: 1.24s\n",
      "458:\tlearn: 0.0210405\ttotal: 1.05s\tremaining: 1.24s\n",
      "459:\tlearn: 0.0210402\ttotal: 1.05s\tremaining: 1.23s\n",
      "460:\tlearn: 0.0210399\ttotal: 1.05s\tremaining: 1.23s\n",
      "461:\tlearn: 0.0210394\ttotal: 1.05s\tremaining: 1.23s\n",
      "462:\tlearn: 0.0210393\ttotal: 1.05s\tremaining: 1.22s\n",
      "463:\tlearn: 0.0210392\ttotal: 1.06s\tremaining: 1.22s\n",
      "464:\tlearn: 0.0210391\ttotal: 1.06s\tremaining: 1.22s\n",
      "465:\tlearn: 0.0210390\ttotal: 1.06s\tremaining: 1.22s\n",
      "466:\tlearn: 0.0210378\ttotal: 1.06s\tremaining: 1.22s\n",
      "467:\tlearn: 0.0210371\ttotal: 1.07s\tremaining: 1.21s\n",
      "468:\tlearn: 0.0210371\ttotal: 1.07s\tremaining: 1.21s\n",
      "469:\tlearn: 0.0210369\ttotal: 1.07s\tremaining: 1.21s\n",
      "470:\tlearn: 0.0210368\ttotal: 1.07s\tremaining: 1.21s\n",
      "471:\tlearn: 0.0210365\ttotal: 1.07s\tremaining: 1.2s\n",
      "472:\tlearn: 0.0210365\ttotal: 1.08s\tremaining: 1.2s\n",
      "473:\tlearn: 0.0210358\ttotal: 1.08s\tremaining: 1.2s\n",
      "474:\tlearn: 0.0210355\ttotal: 1.08s\tremaining: 1.2s\n",
      "475:\tlearn: 0.0210352\ttotal: 1.08s\tremaining: 1.19s\n",
      "476:\tlearn: 0.0210339\ttotal: 1.09s\tremaining: 1.19s\n",
      "477:\tlearn: 0.0210333\ttotal: 1.09s\tremaining: 1.19s\n",
      "478:\tlearn: 0.0210328\ttotal: 1.09s\tremaining: 1.19s\n",
      "479:\tlearn: 0.0210047\ttotal: 1.09s\tremaining: 1.18s\n",
      "480:\tlearn: 0.0210046\ttotal: 1.09s\tremaining: 1.18s\n",
      "481:\tlearn: 0.0210046\ttotal: 1.1s\tremaining: 1.18s\n",
      "482:\tlearn: 0.0210043\ttotal: 1.1s\tremaining: 1.18s\n",
      "483:\tlearn: 0.0210042\ttotal: 1.1s\tremaining: 1.17s\n",
      "484:\tlearn: 0.0210042\ttotal: 1.1s\tremaining: 1.17s\n",
      "485:\tlearn: 0.0210041\ttotal: 1.1s\tremaining: 1.17s\n",
      "486:\tlearn: 0.0210034\ttotal: 1.11s\tremaining: 1.17s\n",
      "487:\tlearn: 0.0210032\ttotal: 1.11s\tremaining: 1.17s\n",
      "488:\tlearn: 0.0210030\ttotal: 1.11s\tremaining: 1.16s\n",
      "489:\tlearn: 0.0210029\ttotal: 1.11s\tremaining: 1.16s\n",
      "490:\tlearn: 0.0210027\ttotal: 1.11s\tremaining: 1.16s\n",
      "491:\tlearn: 0.0210026\ttotal: 1.12s\tremaining: 1.15s\n",
      "492:\tlearn: 0.0210024\ttotal: 1.12s\tremaining: 1.15s\n",
      "493:\tlearn: 0.0210024\ttotal: 1.12s\tremaining: 1.15s\n",
      "494:\tlearn: 0.0210024\ttotal: 1.12s\tremaining: 1.15s\n",
      "495:\tlearn: 0.0210023\ttotal: 1.13s\tremaining: 1.14s\n",
      "496:\tlearn: 0.0210022\ttotal: 1.13s\tremaining: 1.14s\n",
      "497:\tlearn: 0.0210021\ttotal: 1.13s\tremaining: 1.14s\n",
      "498:\tlearn: 0.0210020\ttotal: 1.13s\tremaining: 1.14s\n",
      "499:\tlearn: 0.0210016\ttotal: 1.13s\tremaining: 1.13s\n",
      "500:\tlearn: 0.0210016\ttotal: 1.14s\tremaining: 1.13s\n",
      "501:\tlearn: 0.0210015\ttotal: 1.14s\tremaining: 1.13s\n",
      "502:\tlearn: 0.0210014\ttotal: 1.14s\tremaining: 1.13s\n",
      "503:\tlearn: 0.0210014\ttotal: 1.14s\tremaining: 1.12s\n",
      "504:\tlearn: 0.0210014\ttotal: 1.14s\tremaining: 1.12s\n",
      "505:\tlearn: 0.0210012\ttotal: 1.15s\tremaining: 1.12s\n",
      "506:\tlearn: 0.0210010\ttotal: 1.15s\tremaining: 1.12s\n",
      "507:\tlearn: 0.0210010\ttotal: 1.15s\tremaining: 1.11s\n",
      "508:\tlearn: 0.0210009\ttotal: 1.15s\tremaining: 1.11s\n",
      "509:\tlearn: 0.0210007\ttotal: 1.16s\tremaining: 1.11s\n",
      "510:\tlearn: 0.0210006\ttotal: 1.16s\tremaining: 1.11s\n",
      "511:\tlearn: 0.0210006\ttotal: 1.16s\tremaining: 1.1s\n",
      "512:\tlearn: 0.0210005\ttotal: 1.16s\tremaining: 1.1s\n",
      "513:\tlearn: 0.0210005\ttotal: 1.16s\tremaining: 1.1s\n",
      "514:\tlearn: 0.0210003\ttotal: 1.17s\tremaining: 1.1s\n",
      "515:\tlearn: 0.0210001\ttotal: 1.17s\tremaining: 1.09s\n",
      "516:\tlearn: 0.0209996\ttotal: 1.17s\tremaining: 1.09s\n",
      "517:\tlearn: 0.0209997\ttotal: 1.17s\tremaining: 1.09s\n",
      "518:\tlearn: 0.0209996\ttotal: 1.17s\tremaining: 1.09s\n",
      "519:\tlearn: 0.0209995\ttotal: 1.18s\tremaining: 1.09s\n",
      "520:\tlearn: 0.0209995\ttotal: 1.18s\tremaining: 1.08s\n",
      "521:\tlearn: 0.0209993\ttotal: 1.18s\tremaining: 1.08s\n",
      "522:\tlearn: 0.0209992\ttotal: 1.18s\tremaining: 1.08s\n",
      "523:\tlearn: 0.0209991\ttotal: 1.19s\tremaining: 1.08s\n",
      "524:\tlearn: 0.0209989\ttotal: 1.19s\tremaining: 1.07s\n",
      "525:\tlearn: 0.0209989\ttotal: 1.19s\tremaining: 1.07s\n",
      "526:\tlearn: 0.0209988\ttotal: 1.19s\tremaining: 1.07s\n",
      "527:\tlearn: 0.0209986\ttotal: 1.19s\tremaining: 1.07s\n",
      "528:\tlearn: 0.0209983\ttotal: 1.2s\tremaining: 1.06s\n",
      "529:\tlearn: 0.0209982\ttotal: 1.2s\tremaining: 1.06s\n",
      "530:\tlearn: 0.0209983\ttotal: 1.2s\tremaining: 1.06s\n",
      "531:\tlearn: 0.0209981\ttotal: 1.2s\tremaining: 1.06s\n",
      "532:\tlearn: 0.0209978\ttotal: 1.21s\tremaining: 1.06s\n",
      "533:\tlearn: 0.0209978\ttotal: 1.21s\tremaining: 1.05s\n",
      "534:\tlearn: 0.0209976\ttotal: 1.21s\tremaining: 1.05s\n",
      "535:\tlearn: 0.0209975\ttotal: 1.21s\tremaining: 1.05s\n",
      "536:\tlearn: 0.0209972\ttotal: 1.22s\tremaining: 1.05s\n",
      "537:\tlearn: 0.0209972\ttotal: 1.22s\tremaining: 1.05s\n",
      "538:\tlearn: 0.0209971\ttotal: 1.22s\tremaining: 1.04s\n",
      "539:\tlearn: 0.0209971\ttotal: 1.22s\tremaining: 1.04s\n",
      "540:\tlearn: 0.0209969\ttotal: 1.23s\tremaining: 1.04s\n",
      "541:\tlearn: 0.0209969\ttotal: 1.23s\tremaining: 1.04s\n",
      "542:\tlearn: 0.0209967\ttotal: 1.23s\tremaining: 1.03s\n",
      "543:\tlearn: 0.0209966\ttotal: 1.23s\tremaining: 1.03s\n",
      "544:\tlearn: 0.0209963\ttotal: 1.23s\tremaining: 1.03s\n",
      "545:\tlearn: 0.0209961\ttotal: 1.24s\tremaining: 1.03s\n",
      "546:\tlearn: 0.0209960\ttotal: 1.24s\tremaining: 1.02s\n",
      "547:\tlearn: 0.0209959\ttotal: 1.24s\tremaining: 1.02s\n",
      "548:\tlearn: 0.0209958\ttotal: 1.24s\tremaining: 1.02s\n",
      "549:\tlearn: 0.0209956\ttotal: 1.24s\tremaining: 1.02s\n",
      "550:\tlearn: 0.0209954\ttotal: 1.25s\tremaining: 1.02s\n",
      "551:\tlearn: 0.0209954\ttotal: 1.25s\tremaining: 1.01s\n",
      "552:\tlearn: 0.0209954\ttotal: 1.25s\tremaining: 1.01s\n",
      "553:\tlearn: 0.0209952\ttotal: 1.25s\tremaining: 1.01s\n",
      "554:\tlearn: 0.0209952\ttotal: 1.25s\tremaining: 1s\n",
      "555:\tlearn: 0.0209951\ttotal: 1.26s\tremaining: 1s\n",
      "556:\tlearn: 0.0209949\ttotal: 1.26s\tremaining: 1s\n",
      "557:\tlearn: 0.0209949\ttotal: 1.26s\tremaining: 999ms\n",
      "558:\tlearn: 0.0209946\ttotal: 1.26s\tremaining: 997ms\n",
      "559:\tlearn: 0.0209946\ttotal: 1.26s\tremaining: 994ms\n",
      "560:\tlearn: 0.0209946\ttotal: 1.27s\tremaining: 992ms\n",
      "561:\tlearn: 0.0209942\ttotal: 1.27s\tremaining: 990ms\n",
      "562:\tlearn: 0.0209942\ttotal: 1.27s\tremaining: 987ms\n",
      "563:\tlearn: 0.0209940\ttotal: 1.27s\tremaining: 984ms\n",
      "564:\tlearn: 0.0209940\ttotal: 1.27s\tremaining: 982ms\n",
      "565:\tlearn: 0.0209938\ttotal: 1.28s\tremaining: 979ms\n",
      "566:\tlearn: 0.0209938\ttotal: 1.28s\tremaining: 978ms\n",
      "567:\tlearn: 0.0209936\ttotal: 1.28s\tremaining: 977ms\n",
      "568:\tlearn: 0.0209936\ttotal: 1.29s\tremaining: 974ms\n",
      "569:\tlearn: 0.0209934\ttotal: 1.29s\tremaining: 972ms\n",
      "570:\tlearn: 0.0209934\ttotal: 1.29s\tremaining: 969ms\n",
      "571:\tlearn: 0.0209933\ttotal: 1.29s\tremaining: 966ms\n",
      "572:\tlearn: 0.0209932\ttotal: 1.29s\tremaining: 964ms\n",
      "573:\tlearn: 0.0209932\ttotal: 1.3s\tremaining: 962ms\n",
      "574:\tlearn: 0.0209931\ttotal: 1.3s\tremaining: 959ms\n",
      "575:\tlearn: 0.0209930\ttotal: 1.3s\tremaining: 957ms\n",
      "576:\tlearn: 0.0209929\ttotal: 1.3s\tremaining: 955ms\n",
      "577:\tlearn: 0.0209926\ttotal: 1.3s\tremaining: 953ms\n",
      "578:\tlearn: 0.0209924\ttotal: 1.31s\tremaining: 951ms\n",
      "579:\tlearn: 0.0209922\ttotal: 1.31s\tremaining: 948ms\n",
      "580:\tlearn: 0.0209922\ttotal: 1.31s\tremaining: 946ms\n",
      "581:\tlearn: 0.0209921\ttotal: 1.31s\tremaining: 943ms\n",
      "582:\tlearn: 0.0209921\ttotal: 1.31s\tremaining: 940ms\n",
      "583:\tlearn: 0.0209919\ttotal: 1.32s\tremaining: 938ms\n",
      "584:\tlearn: 0.0209918\ttotal: 1.32s\tremaining: 936ms\n",
      "585:\tlearn: 0.0209917\ttotal: 1.32s\tremaining: 934ms\n",
      "586:\tlearn: 0.0209918\ttotal: 1.32s\tremaining: 932ms\n",
      "587:\tlearn: 0.0209917\ttotal: 1.33s\tremaining: 929ms\n",
      "588:\tlearn: 0.0209916\ttotal: 1.33s\tremaining: 927ms\n",
      "589:\tlearn: 0.0209916\ttotal: 1.33s\tremaining: 924ms\n",
      "590:\tlearn: 0.0209916\ttotal: 1.33s\tremaining: 922ms\n",
      "591:\tlearn: 0.0209914\ttotal: 1.33s\tremaining: 920ms\n",
      "592:\tlearn: 0.0209914\ttotal: 1.34s\tremaining: 917ms\n",
      "593:\tlearn: 0.0209914\ttotal: 1.34s\tremaining: 915ms\n",
      "594:\tlearn: 0.0209913\ttotal: 1.34s\tremaining: 912ms\n",
      "595:\tlearn: 0.0209912\ttotal: 1.34s\tremaining: 911ms\n",
      "596:\tlearn: 0.0209911\ttotal: 1.35s\tremaining: 909ms\n",
      "597:\tlearn: 0.0209910\ttotal: 1.35s\tremaining: 906ms\n",
      "598:\tlearn: 0.0209909\ttotal: 1.35s\tremaining: 904ms\n",
      "599:\tlearn: 0.0209908\ttotal: 1.35s\tremaining: 901ms\n",
      "600:\tlearn: 0.0209907\ttotal: 1.35s\tremaining: 899ms\n",
      "601:\tlearn: 0.0209906\ttotal: 1.35s\tremaining: 896ms\n",
      "602:\tlearn: 0.0209905\ttotal: 1.36s\tremaining: 894ms\n",
      "603:\tlearn: 0.0209904\ttotal: 1.36s\tremaining: 892ms\n",
      "604:\tlearn: 0.0209903\ttotal: 1.36s\tremaining: 890ms\n",
      "605:\tlearn: 0.0209902\ttotal: 1.36s\tremaining: 888ms\n",
      "606:\tlearn: 0.0209901\ttotal: 1.37s\tremaining: 886ms\n",
      "607:\tlearn: 0.0209900\ttotal: 1.37s\tremaining: 885ms\n",
      "608:\tlearn: 0.0209899\ttotal: 1.37s\tremaining: 882ms\n",
      "609:\tlearn: 0.0209896\ttotal: 1.38s\tremaining: 880ms\n",
      "610:\tlearn: 0.0209896\ttotal: 1.38s\tremaining: 877ms\n",
      "611:\tlearn: 0.0209895\ttotal: 1.38s\tremaining: 874ms\n",
      "612:\tlearn: 0.0209895\ttotal: 1.38s\tremaining: 872ms\n",
      "613:\tlearn: 0.0209894\ttotal: 1.38s\tremaining: 870ms\n",
      "614:\tlearn: 0.0209894\ttotal: 1.39s\tremaining: 868ms\n",
      "615:\tlearn: 0.0209893\ttotal: 1.4s\tremaining: 870ms\n",
      "616:\tlearn: 0.0209891\ttotal: 1.4s\tremaining: 868ms\n",
      "617:\tlearn: 0.0209890\ttotal: 1.4s\tremaining: 866ms\n",
      "618:\tlearn: 0.0209889\ttotal: 1.4s\tremaining: 864ms\n",
      "619:\tlearn: 0.0209887\ttotal: 1.41s\tremaining: 864ms\n",
      "620:\tlearn: 0.0209885\ttotal: 1.41s\tremaining: 862ms\n",
      "621:\tlearn: 0.0209884\ttotal: 1.42s\tremaining: 864ms\n",
      "622:\tlearn: 0.0209883\ttotal: 1.44s\tremaining: 869ms\n",
      "623:\tlearn: 0.0209882\ttotal: 1.44s\tremaining: 867ms\n",
      "624:\tlearn: 0.0209881\ttotal: 1.44s\tremaining: 866ms\n",
      "625:\tlearn: 0.0209880\ttotal: 1.47s\tremaining: 875ms\n",
      "626:\tlearn: 0.0209880\ttotal: 1.47s\tremaining: 873ms\n",
      "627:\tlearn: 0.0209880\ttotal: 1.47s\tremaining: 870ms\n",
      "628:\tlearn: 0.0209880\ttotal: 1.48s\tremaining: 871ms\n",
      "629:\tlearn: 0.0209879\ttotal: 1.48s\tremaining: 869ms\n",
      "630:\tlearn: 0.0209878\ttotal: 1.48s\tremaining: 866ms\n",
      "631:\tlearn: 0.0209877\ttotal: 1.48s\tremaining: 864ms\n",
      "632:\tlearn: 0.0209876\ttotal: 1.49s\tremaining: 862ms\n",
      "633:\tlearn: 0.0209876\ttotal: 1.49s\tremaining: 859ms\n",
      "634:\tlearn: 0.0209875\ttotal: 1.49s\tremaining: 857ms\n",
      "635:\tlearn: 0.0209875\ttotal: 1.49s\tremaining: 854ms\n",
      "636:\tlearn: 0.0209865\ttotal: 1.49s\tremaining: 852ms\n",
      "637:\tlearn: 0.0209864\ttotal: 1.5s\tremaining: 850ms\n",
      "638:\tlearn: 0.0209862\ttotal: 1.5s\tremaining: 848ms\n",
      "639:\tlearn: 0.0209862\ttotal: 1.5s\tremaining: 846ms\n",
      "640:\tlearn: 0.0209857\ttotal: 1.5s\tremaining: 843ms\n",
      "641:\tlearn: 0.0209856\ttotal: 1.51s\tremaining: 841ms\n",
      "642:\tlearn: 0.0209855\ttotal: 1.51s\tremaining: 839ms\n",
      "643:\tlearn: 0.0209853\ttotal: 1.51s\tremaining: 836ms\n",
      "644:\tlearn: 0.0209852\ttotal: 1.51s\tremaining: 834ms\n",
      "645:\tlearn: 0.0209851\ttotal: 1.52s\tremaining: 831ms\n",
      "646:\tlearn: 0.0209850\ttotal: 1.52s\tremaining: 829ms\n",
      "647:\tlearn: 0.0209849\ttotal: 1.52s\tremaining: 827ms\n",
      "648:\tlearn: 0.0209847\ttotal: 1.52s\tremaining: 824ms\n",
      "649:\tlearn: 0.0209847\ttotal: 1.53s\tremaining: 822ms\n",
      "650:\tlearn: 0.0209846\ttotal: 1.53s\tremaining: 820ms\n",
      "651:\tlearn: 0.0209842\ttotal: 1.53s\tremaining: 817ms\n",
      "652:\tlearn: 0.0209843\ttotal: 1.53s\tremaining: 815ms\n",
      "653:\tlearn: 0.0209842\ttotal: 1.54s\tremaining: 813ms\n",
      "654:\tlearn: 0.0209842\ttotal: 1.54s\tremaining: 810ms\n",
      "655:\tlearn: 0.0209839\ttotal: 1.54s\tremaining: 808ms\n",
      "656:\tlearn: 0.0209839\ttotal: 1.54s\tremaining: 806ms\n",
      "657:\tlearn: 0.0209837\ttotal: 1.54s\tremaining: 803ms\n",
      "658:\tlearn: 0.0209836\ttotal: 1.55s\tremaining: 800ms\n",
      "659:\tlearn: 0.0209836\ttotal: 1.55s\tremaining: 798ms\n",
      "660:\tlearn: 0.0209834\ttotal: 1.55s\tremaining: 795ms\n",
      "661:\tlearn: 0.0209834\ttotal: 1.55s\tremaining: 793ms\n",
      "662:\tlearn: 0.0209834\ttotal: 1.55s\tremaining: 790ms\n",
      "663:\tlearn: 0.0209834\ttotal: 1.56s\tremaining: 787ms\n",
      "664:\tlearn: 0.0209831\ttotal: 1.56s\tremaining: 785ms\n",
      "665:\tlearn: 0.0209823\ttotal: 1.56s\tremaining: 783ms\n",
      "666:\tlearn: 0.0209822\ttotal: 1.56s\tremaining: 781ms\n",
      "667:\tlearn: 0.0209822\ttotal: 1.56s\tremaining: 778ms\n",
      "668:\tlearn: 0.0209821\ttotal: 1.57s\tremaining: 776ms\n",
      "669:\tlearn: 0.0209810\ttotal: 1.57s\tremaining: 773ms\n",
      "670:\tlearn: 0.0209808\ttotal: 1.57s\tremaining: 771ms\n",
      "671:\tlearn: 0.0209808\ttotal: 1.57s\tremaining: 768ms\n",
      "672:\tlearn: 0.0209806\ttotal: 1.57s\tremaining: 765ms\n",
      "673:\tlearn: 0.0209805\ttotal: 1.58s\tremaining: 763ms\n",
      "674:\tlearn: 0.0209805\ttotal: 1.58s\tremaining: 760ms\n",
      "675:\tlearn: 0.0209804\ttotal: 1.58s\tremaining: 758ms\n",
      "676:\tlearn: 0.0209804\ttotal: 1.58s\tremaining: 756ms\n",
      "677:\tlearn: 0.0209804\ttotal: 1.59s\tremaining: 754ms\n",
      "678:\tlearn: 0.0209802\ttotal: 1.59s\tremaining: 751ms\n",
      "679:\tlearn: 0.0209801\ttotal: 1.59s\tremaining: 749ms\n",
      "680:\tlearn: 0.0209798\ttotal: 1.59s\tremaining: 746ms\n",
      "681:\tlearn: 0.0209798\ttotal: 1.59s\tremaining: 744ms\n",
      "682:\tlearn: 0.0209796\ttotal: 1.6s\tremaining: 742ms\n",
      "683:\tlearn: 0.0209794\ttotal: 1.6s\tremaining: 739ms\n",
      "684:\tlearn: 0.0209793\ttotal: 1.6s\tremaining: 736ms\n",
      "685:\tlearn: 0.0209793\ttotal: 1.6s\tremaining: 734ms\n",
      "686:\tlearn: 0.0209791\ttotal: 1.6s\tremaining: 731ms\n",
      "687:\tlearn: 0.0209791\ttotal: 1.61s\tremaining: 730ms\n",
      "688:\tlearn: 0.0209790\ttotal: 1.61s\tremaining: 728ms\n",
      "689:\tlearn: 0.0209789\ttotal: 1.61s\tremaining: 725ms\n",
      "690:\tlearn: 0.0209789\ttotal: 1.62s\tremaining: 723ms\n",
      "691:\tlearn: 0.0209787\ttotal: 1.62s\tremaining: 720ms\n",
      "692:\tlearn: 0.0209786\ttotal: 1.62s\tremaining: 717ms\n",
      "693:\tlearn: 0.0209786\ttotal: 1.62s\tremaining: 715ms\n",
      "694:\tlearn: 0.0209786\ttotal: 1.62s\tremaining: 713ms\n",
      "695:\tlearn: 0.0209784\ttotal: 1.63s\tremaining: 710ms\n",
      "696:\tlearn: 0.0209783\ttotal: 1.63s\tremaining: 708ms\n",
      "697:\tlearn: 0.0209774\ttotal: 1.63s\tremaining: 705ms\n",
      "698:\tlearn: 0.0209773\ttotal: 1.63s\tremaining: 703ms\n",
      "699:\tlearn: 0.0209773\ttotal: 1.63s\tremaining: 700ms\n",
      "700:\tlearn: 0.0209772\ttotal: 1.64s\tremaining: 698ms\n",
      "701:\tlearn: 0.0209771\ttotal: 1.64s\tremaining: 696ms\n",
      "702:\tlearn: 0.0209771\ttotal: 1.64s\tremaining: 693ms\n",
      "703:\tlearn: 0.0209771\ttotal: 1.64s\tremaining: 691ms\n",
      "704:\tlearn: 0.0209761\ttotal: 1.64s\tremaining: 688ms\n",
      "705:\tlearn: 0.0209761\ttotal: 1.65s\tremaining: 686ms\n",
      "706:\tlearn: 0.0209761\ttotal: 1.65s\tremaining: 683ms\n",
      "707:\tlearn: 0.0209761\ttotal: 1.65s\tremaining: 681ms\n",
      "708:\tlearn: 0.0209760\ttotal: 1.65s\tremaining: 678ms\n",
      "709:\tlearn: 0.0209758\ttotal: 1.65s\tremaining: 676ms\n",
      "710:\tlearn: 0.0209756\ttotal: 1.66s\tremaining: 674ms\n",
      "711:\tlearn: 0.0209755\ttotal: 1.66s\tremaining: 672ms\n",
      "712:\tlearn: 0.0209753\ttotal: 1.66s\tremaining: 670ms\n",
      "713:\tlearn: 0.0209753\ttotal: 1.67s\tremaining: 667ms\n",
      "714:\tlearn: 0.0209751\ttotal: 1.67s\tremaining: 665ms\n",
      "715:\tlearn: 0.0209751\ttotal: 1.67s\tremaining: 662ms\n",
      "716:\tlearn: 0.0209749\ttotal: 1.67s\tremaining: 660ms\n",
      "717:\tlearn: 0.0209739\ttotal: 1.67s\tremaining: 657ms\n",
      "718:\tlearn: 0.0209738\ttotal: 1.68s\tremaining: 655ms\n",
      "719:\tlearn: 0.0209737\ttotal: 1.68s\tremaining: 653ms\n",
      "720:\tlearn: 0.0209737\ttotal: 1.68s\tremaining: 650ms\n",
      "721:\tlearn: 0.0209736\ttotal: 1.68s\tremaining: 648ms\n",
      "722:\tlearn: 0.0209731\ttotal: 1.68s\tremaining: 646ms\n",
      "723:\tlearn: 0.0209730\ttotal: 1.69s\tremaining: 643ms\n",
      "724:\tlearn: 0.0209730\ttotal: 1.69s\tremaining: 640ms\n",
      "725:\tlearn: 0.0209723\ttotal: 1.69s\tremaining: 638ms\n",
      "726:\tlearn: 0.0209722\ttotal: 1.69s\tremaining: 635ms\n",
      "727:\tlearn: 0.0209722\ttotal: 1.69s\tremaining: 633ms\n",
      "728:\tlearn: 0.0209722\ttotal: 1.7s\tremaining: 631ms\n",
      "729:\tlearn: 0.0209719\ttotal: 1.7s\tremaining: 629ms\n",
      "730:\tlearn: 0.0209716\ttotal: 1.7s\tremaining: 626ms\n",
      "731:\tlearn: 0.0209714\ttotal: 1.7s\tremaining: 624ms\n",
      "732:\tlearn: 0.0209714\ttotal: 1.71s\tremaining: 621ms\n",
      "733:\tlearn: 0.0209711\ttotal: 1.71s\tremaining: 619ms\n",
      "734:\tlearn: 0.0209710\ttotal: 1.71s\tremaining: 616ms\n",
      "735:\tlearn: 0.0209709\ttotal: 1.71s\tremaining: 614ms\n",
      "736:\tlearn: 0.0209709\ttotal: 1.71s\tremaining: 611ms\n",
      "737:\tlearn: 0.0209707\ttotal: 1.72s\tremaining: 609ms\n",
      "738:\tlearn: 0.0209704\ttotal: 1.72s\tremaining: 607ms\n",
      "739:\tlearn: 0.0209704\ttotal: 1.72s\tremaining: 604ms\n",
      "740:\tlearn: 0.0209703\ttotal: 1.72s\tremaining: 602ms\n",
      "741:\tlearn: 0.0209703\ttotal: 1.73s\tremaining: 600ms\n",
      "742:\tlearn: 0.0209703\ttotal: 1.73s\tremaining: 598ms\n",
      "743:\tlearn: 0.0209701\ttotal: 1.73s\tremaining: 595ms\n",
      "744:\tlearn: 0.0209700\ttotal: 1.73s\tremaining: 593ms\n",
      "745:\tlearn: 0.0209699\ttotal: 1.73s\tremaining: 591ms\n",
      "746:\tlearn: 0.0209699\ttotal: 1.74s\tremaining: 588ms\n",
      "747:\tlearn: 0.0209697\ttotal: 1.74s\tremaining: 586ms\n",
      "748:\tlearn: 0.0209697\ttotal: 1.74s\tremaining: 583ms\n",
      "749:\tlearn: 0.0209696\ttotal: 1.74s\tremaining: 581ms\n",
      "750:\tlearn: 0.0209696\ttotal: 1.74s\tremaining: 578ms\n",
      "751:\tlearn: 0.0209695\ttotal: 1.75s\tremaining: 576ms\n",
      "752:\tlearn: 0.0209694\ttotal: 1.75s\tremaining: 574ms\n",
      "753:\tlearn: 0.0209693\ttotal: 1.75s\tremaining: 572ms\n",
      "754:\tlearn: 0.0209691\ttotal: 1.75s\tremaining: 569ms\n",
      "755:\tlearn: 0.0209688\ttotal: 1.75s\tremaining: 567ms\n",
      "756:\tlearn: 0.0209688\ttotal: 1.76s\tremaining: 564ms\n",
      "757:\tlearn: 0.0209687\ttotal: 1.76s\tremaining: 562ms\n",
      "758:\tlearn: 0.0209687\ttotal: 1.76s\tremaining: 560ms\n",
      "759:\tlearn: 0.0209686\ttotal: 1.76s\tremaining: 557ms\n",
      "760:\tlearn: 0.0209684\ttotal: 1.77s\tremaining: 555ms\n",
      "761:\tlearn: 0.0209683\ttotal: 1.77s\tremaining: 553ms\n",
      "762:\tlearn: 0.0209683\ttotal: 1.77s\tremaining: 550ms\n",
      "763:\tlearn: 0.0209683\ttotal: 1.77s\tremaining: 548ms\n",
      "764:\tlearn: 0.0209675\ttotal: 1.77s\tremaining: 546ms\n",
      "765:\tlearn: 0.0209674\ttotal: 1.78s\tremaining: 543ms\n",
      "766:\tlearn: 0.0209669\ttotal: 1.78s\tremaining: 541ms\n",
      "767:\tlearn: 0.0209665\ttotal: 1.78s\tremaining: 538ms\n",
      "768:\tlearn: 0.0209664\ttotal: 1.78s\tremaining: 536ms\n",
      "769:\tlearn: 0.0209664\ttotal: 1.79s\tremaining: 534ms\n",
      "770:\tlearn: 0.0209663\ttotal: 1.79s\tremaining: 532ms\n",
      "771:\tlearn: 0.0209663\ttotal: 1.79s\tremaining: 529ms\n",
      "772:\tlearn: 0.0209662\ttotal: 1.79s\tremaining: 527ms\n",
      "773:\tlearn: 0.0209662\ttotal: 1.8s\tremaining: 525ms\n",
      "774:\tlearn: 0.0209659\ttotal: 1.8s\tremaining: 522ms\n",
      "775:\tlearn: 0.0209659\ttotal: 1.8s\tremaining: 520ms\n",
      "776:\tlearn: 0.0209658\ttotal: 1.8s\tremaining: 517ms\n",
      "777:\tlearn: 0.0209658\ttotal: 1.8s\tremaining: 515ms\n",
      "778:\tlearn: 0.0209657\ttotal: 1.81s\tremaining: 513ms\n",
      "779:\tlearn: 0.0209657\ttotal: 1.81s\tremaining: 511ms\n",
      "780:\tlearn: 0.0209654\ttotal: 1.81s\tremaining: 509ms\n",
      "781:\tlearn: 0.0209650\ttotal: 1.82s\tremaining: 507ms\n",
      "782:\tlearn: 0.0209650\ttotal: 1.82s\tremaining: 504ms\n",
      "783:\tlearn: 0.0209648\ttotal: 1.82s\tremaining: 502ms\n",
      "784:\tlearn: 0.0209648\ttotal: 1.82s\tremaining: 500ms\n",
      "785:\tlearn: 0.0209647\ttotal: 1.82s\tremaining: 497ms\n",
      "786:\tlearn: 0.0209646\ttotal: 1.83s\tremaining: 495ms\n",
      "787:\tlearn: 0.0209647\ttotal: 1.83s\tremaining: 492ms\n",
      "788:\tlearn: 0.0209646\ttotal: 1.83s\tremaining: 490ms\n",
      "789:\tlearn: 0.0209644\ttotal: 1.83s\tremaining: 488ms\n",
      "790:\tlearn: 0.0209644\ttotal: 1.84s\tremaining: 485ms\n",
      "791:\tlearn: 0.0209642\ttotal: 1.84s\tremaining: 483ms\n",
      "792:\tlearn: 0.0209642\ttotal: 1.84s\tremaining: 480ms\n",
      "793:\tlearn: 0.0209642\ttotal: 1.84s\tremaining: 478ms\n",
      "794:\tlearn: 0.0209640\ttotal: 1.84s\tremaining: 476ms\n",
      "795:\tlearn: 0.0209639\ttotal: 1.85s\tremaining: 473ms\n",
      "796:\tlearn: 0.0209639\ttotal: 1.85s\tremaining: 471ms\n",
      "797:\tlearn: 0.0209639\ttotal: 1.85s\tremaining: 469ms\n",
      "798:\tlearn: 0.0209638\ttotal: 1.85s\tremaining: 466ms\n",
      "799:\tlearn: 0.0209637\ttotal: 1.86s\tremaining: 464ms\n",
      "800:\tlearn: 0.0209637\ttotal: 1.86s\tremaining: 462ms\n",
      "801:\tlearn: 0.0209637\ttotal: 1.86s\tremaining: 459ms\n",
      "802:\tlearn: 0.0209636\ttotal: 1.86s\tremaining: 457ms\n",
      "803:\tlearn: 0.0209636\ttotal: 1.86s\tremaining: 455ms\n",
      "804:\tlearn: 0.0209636\ttotal: 1.87s\tremaining: 452ms\n",
      "805:\tlearn: 0.0209634\ttotal: 1.87s\tremaining: 450ms\n",
      "806:\tlearn: 0.0209632\ttotal: 1.87s\tremaining: 447ms\n",
      "807:\tlearn: 0.0209631\ttotal: 1.87s\tremaining: 445ms\n",
      "808:\tlearn: 0.0209630\ttotal: 1.88s\tremaining: 443ms\n",
      "809:\tlearn: 0.0209630\ttotal: 1.88s\tremaining: 440ms\n",
      "810:\tlearn: 0.0209630\ttotal: 1.88s\tremaining: 438ms\n",
      "811:\tlearn: 0.0209629\ttotal: 1.88s\tremaining: 435ms\n",
      "812:\tlearn: 0.0209629\ttotal: 1.88s\tremaining: 433ms\n",
      "813:\tlearn: 0.0209629\ttotal: 1.89s\tremaining: 431ms\n",
      "814:\tlearn: 0.0209625\ttotal: 1.89s\tremaining: 428ms\n",
      "815:\tlearn: 0.0209624\ttotal: 1.89s\tremaining: 426ms\n",
      "816:\tlearn: 0.0209624\ttotal: 1.89s\tremaining: 423ms\n",
      "817:\tlearn: 0.0209622\ttotal: 1.89s\tremaining: 421ms\n",
      "818:\tlearn: 0.0209622\ttotal: 1.9s\tremaining: 419ms\n",
      "819:\tlearn: 0.0209619\ttotal: 1.9s\tremaining: 417ms\n",
      "820:\tlearn: 0.0209619\ttotal: 1.9s\tremaining: 415ms\n",
      "821:\tlearn: 0.0209616\ttotal: 1.9s\tremaining: 412ms\n",
      "822:\tlearn: 0.0209616\ttotal: 1.9s\tremaining: 410ms\n",
      "823:\tlearn: 0.0209615\ttotal: 1.91s\tremaining: 407ms\n",
      "824:\tlearn: 0.0209611\ttotal: 1.91s\tremaining: 405ms\n",
      "825:\tlearn: 0.0209610\ttotal: 1.91s\tremaining: 403ms\n",
      "826:\tlearn: 0.0209610\ttotal: 1.91s\tremaining: 400ms\n",
      "827:\tlearn: 0.0209609\ttotal: 1.92s\tremaining: 398ms\n",
      "828:\tlearn: 0.0209609\ttotal: 1.92s\tremaining: 396ms\n",
      "829:\tlearn: 0.0209607\ttotal: 1.92s\tremaining: 394ms\n",
      "830:\tlearn: 0.0209607\ttotal: 1.92s\tremaining: 391ms\n",
      "831:\tlearn: 0.0209606\ttotal: 1.93s\tremaining: 389ms\n",
      "832:\tlearn: 0.0209604\ttotal: 1.93s\tremaining: 386ms\n",
      "833:\tlearn: 0.0209602\ttotal: 1.93s\tremaining: 384ms\n",
      "834:\tlearn: 0.0209601\ttotal: 1.93s\tremaining: 382ms\n",
      "835:\tlearn: 0.0209601\ttotal: 1.93s\tremaining: 379ms\n",
      "836:\tlearn: 0.0209600\ttotal: 1.94s\tremaining: 377ms\n",
      "837:\tlearn: 0.0209597\ttotal: 1.94s\tremaining: 375ms\n",
      "838:\tlearn: 0.0209595\ttotal: 1.94s\tremaining: 372ms\n",
      "839:\tlearn: 0.0209595\ttotal: 1.94s\tremaining: 370ms\n",
      "840:\tlearn: 0.0209594\ttotal: 1.94s\tremaining: 367ms\n",
      "841:\tlearn: 0.0209594\ttotal: 1.95s\tremaining: 365ms\n",
      "842:\tlearn: 0.0209593\ttotal: 1.95s\tremaining: 363ms\n",
      "843:\tlearn: 0.0209593\ttotal: 1.95s\tremaining: 360ms\n",
      "844:\tlearn: 0.0209592\ttotal: 1.95s\tremaining: 358ms\n",
      "845:\tlearn: 0.0209591\ttotal: 1.95s\tremaining: 356ms\n",
      "846:\tlearn: 0.0209591\ttotal: 1.96s\tremaining: 353ms\n",
      "847:\tlearn: 0.0209590\ttotal: 1.96s\tremaining: 351ms\n",
      "848:\tlearn: 0.0209586\ttotal: 1.96s\tremaining: 349ms\n",
      "849:\tlearn: 0.0209586\ttotal: 1.96s\tremaining: 347ms\n",
      "850:\tlearn: 0.0209580\ttotal: 1.97s\tremaining: 344ms\n",
      "851:\tlearn: 0.0209580\ttotal: 1.97s\tremaining: 342ms\n",
      "852:\tlearn: 0.0209580\ttotal: 1.97s\tremaining: 340ms\n",
      "853:\tlearn: 0.0209580\ttotal: 1.98s\tremaining: 338ms\n",
      "854:\tlearn: 0.0209578\ttotal: 1.98s\tremaining: 335ms\n",
      "855:\tlearn: 0.0209577\ttotal: 1.98s\tremaining: 333ms\n",
      "856:\tlearn: 0.0209577\ttotal: 1.98s\tremaining: 331ms\n",
      "857:\tlearn: 0.0209574\ttotal: 1.98s\tremaining: 328ms\n",
      "858:\tlearn: 0.0209573\ttotal: 1.99s\tremaining: 326ms\n",
      "859:\tlearn: 0.0209573\ttotal: 1.99s\tremaining: 324ms\n",
      "860:\tlearn: 0.0209571\ttotal: 1.99s\tremaining: 321ms\n",
      "861:\tlearn: 0.0209570\ttotal: 1.99s\tremaining: 319ms\n",
      "862:\tlearn: 0.0209570\ttotal: 1.99s\tremaining: 316ms\n",
      "863:\tlearn: 0.0209569\ttotal: 2s\tremaining: 314ms\n",
      "864:\tlearn: 0.0209568\ttotal: 2s\tremaining: 312ms\n",
      "865:\tlearn: 0.0209568\ttotal: 2s\tremaining: 310ms\n",
      "866:\tlearn: 0.0209564\ttotal: 2s\tremaining: 307ms\n",
      "867:\tlearn: 0.0209563\ttotal: 2s\tremaining: 305ms\n",
      "868:\tlearn: 0.0209563\ttotal: 2s\tremaining: 302ms\n",
      "869:\tlearn: 0.0209561\ttotal: 2.01s\tremaining: 300ms\n",
      "870:\tlearn: 0.0209561\ttotal: 2.01s\tremaining: 298ms\n",
      "871:\tlearn: 0.0209561\ttotal: 2.01s\tremaining: 295ms\n",
      "872:\tlearn: 0.0209560\ttotal: 2.01s\tremaining: 293ms\n",
      "873:\tlearn: 0.0209559\ttotal: 2.02s\tremaining: 291ms\n",
      "874:\tlearn: 0.0209559\ttotal: 2.02s\tremaining: 288ms\n",
      "875:\tlearn: 0.0209560\ttotal: 2.02s\tremaining: 286ms\n",
      "876:\tlearn: 0.0209559\ttotal: 2.02s\tremaining: 283ms\n",
      "877:\tlearn: 0.0209558\ttotal: 2.02s\tremaining: 281ms\n",
      "878:\tlearn: 0.0209558\ttotal: 2.02s\tremaining: 279ms\n",
      "879:\tlearn: 0.0209557\ttotal: 2.03s\tremaining: 276ms\n",
      "880:\tlearn: 0.0209557\ttotal: 2.03s\tremaining: 274ms\n",
      "881:\tlearn: 0.0209556\ttotal: 2.03s\tremaining: 272ms\n",
      "882:\tlearn: 0.0209556\ttotal: 2.03s\tremaining: 269ms\n",
      "883:\tlearn: 0.0209555\ttotal: 2.03s\tremaining: 267ms\n",
      "884:\tlearn: 0.0209555\ttotal: 2.04s\tremaining: 265ms\n",
      "885:\tlearn: 0.0209553\ttotal: 2.04s\tremaining: 262ms\n",
      "886:\tlearn: 0.0209553\ttotal: 2.04s\tremaining: 260ms\n",
      "887:\tlearn: 0.0209552\ttotal: 2.04s\tremaining: 258ms\n",
      "888:\tlearn: 0.0209552\ttotal: 2.04s\tremaining: 255ms\n",
      "889:\tlearn: 0.0209552\ttotal: 2.05s\tremaining: 253ms\n",
      "890:\tlearn: 0.0209551\ttotal: 2.05s\tremaining: 251ms\n",
      "891:\tlearn: 0.0209550\ttotal: 2.05s\tremaining: 248ms\n",
      "892:\tlearn: 0.0209550\ttotal: 2.05s\tremaining: 246ms\n",
      "893:\tlearn: 0.0209549\ttotal: 2.05s\tremaining: 243ms\n",
      "894:\tlearn: 0.0209547\ttotal: 2.06s\tremaining: 241ms\n",
      "895:\tlearn: 0.0209548\ttotal: 2.06s\tremaining: 239ms\n",
      "896:\tlearn: 0.0209547\ttotal: 2.06s\tremaining: 237ms\n",
      "897:\tlearn: 0.0209546\ttotal: 2.06s\tremaining: 234ms\n",
      "898:\tlearn: 0.0209545\ttotal: 2.06s\tremaining: 232ms\n",
      "899:\tlearn: 0.0209545\ttotal: 2.07s\tremaining: 230ms\n",
      "900:\tlearn: 0.0209545\ttotal: 2.07s\tremaining: 227ms\n",
      "901:\tlearn: 0.0209544\ttotal: 2.07s\tremaining: 225ms\n",
      "902:\tlearn: 0.0209542\ttotal: 2.07s\tremaining: 223ms\n",
      "903:\tlearn: 0.0209542\ttotal: 2.07s\tremaining: 220ms\n",
      "904:\tlearn: 0.0209540\ttotal: 2.08s\tremaining: 218ms\n",
      "905:\tlearn: 0.0209539\ttotal: 2.08s\tremaining: 216ms\n",
      "906:\tlearn: 0.0209538\ttotal: 2.08s\tremaining: 213ms\n",
      "907:\tlearn: 0.0209538\ttotal: 2.08s\tremaining: 211ms\n",
      "908:\tlearn: 0.0209537\ttotal: 2.09s\tremaining: 209ms\n",
      "909:\tlearn: 0.0209536\ttotal: 2.09s\tremaining: 207ms\n",
      "910:\tlearn: 0.0209535\ttotal: 2.09s\tremaining: 204ms\n",
      "911:\tlearn: 0.0209535\ttotal: 2.09s\tremaining: 202ms\n",
      "912:\tlearn: 0.0209534\ttotal: 2.09s\tremaining: 200ms\n",
      "913:\tlearn: 0.0209533\ttotal: 2.1s\tremaining: 197ms\n",
      "914:\tlearn: 0.0209533\ttotal: 2.1s\tremaining: 195ms\n",
      "915:\tlearn: 0.0209533\ttotal: 2.1s\tremaining: 193ms\n",
      "916:\tlearn: 0.0209532\ttotal: 2.1s\tremaining: 190ms\n",
      "917:\tlearn: 0.0209531\ttotal: 2.1s\tremaining: 188ms\n",
      "918:\tlearn: 0.0209531\ttotal: 2.11s\tremaining: 186ms\n",
      "919:\tlearn: 0.0209529\ttotal: 2.11s\tremaining: 183ms\n",
      "920:\tlearn: 0.0209529\ttotal: 2.11s\tremaining: 181ms\n",
      "921:\tlearn: 0.0209529\ttotal: 2.11s\tremaining: 179ms\n",
      "922:\tlearn: 0.0209529\ttotal: 2.12s\tremaining: 176ms\n",
      "923:\tlearn: 0.0209522\ttotal: 2.12s\tremaining: 174ms\n",
      "924:\tlearn: 0.0209522\ttotal: 2.12s\tremaining: 172ms\n",
      "925:\tlearn: 0.0209521\ttotal: 2.12s\tremaining: 170ms\n",
      "926:\tlearn: 0.0209520\ttotal: 2.12s\tremaining: 167ms\n",
      "927:\tlearn: 0.0209521\ttotal: 2.13s\tremaining: 165ms\n",
      "928:\tlearn: 0.0209519\ttotal: 2.13s\tremaining: 163ms\n",
      "929:\tlearn: 0.0209519\ttotal: 2.13s\tremaining: 160ms\n",
      "930:\tlearn: 0.0209519\ttotal: 2.13s\tremaining: 158ms\n",
      "931:\tlearn: 0.0209519\ttotal: 2.13s\tremaining: 156ms\n",
      "932:\tlearn: 0.0209518\ttotal: 2.14s\tremaining: 154ms\n",
      "933:\tlearn: 0.0209518\ttotal: 2.14s\tremaining: 151ms\n",
      "934:\tlearn: 0.0209515\ttotal: 2.14s\tremaining: 149ms\n",
      "935:\tlearn: 0.0209515\ttotal: 2.14s\tremaining: 147ms\n",
      "936:\tlearn: 0.0209514\ttotal: 2.15s\tremaining: 144ms\n",
      "937:\tlearn: 0.0209514\ttotal: 2.15s\tremaining: 142ms\n",
      "938:\tlearn: 0.0209514\ttotal: 2.15s\tremaining: 140ms\n",
      "939:\tlearn: 0.0209513\ttotal: 2.15s\tremaining: 137ms\n",
      "940:\tlearn: 0.0209512\ttotal: 2.15s\tremaining: 135ms\n",
      "941:\tlearn: 0.0209512\ttotal: 2.16s\tremaining: 133ms\n",
      "942:\tlearn: 0.0209510\ttotal: 2.16s\tremaining: 131ms\n",
      "943:\tlearn: 0.0209509\ttotal: 2.16s\tremaining: 128ms\n",
      "944:\tlearn: 0.0209508\ttotal: 2.16s\tremaining: 126ms\n",
      "945:\tlearn: 0.0209508\ttotal: 2.17s\tremaining: 124ms\n",
      "946:\tlearn: 0.0209508\ttotal: 2.17s\tremaining: 121ms\n",
      "947:\tlearn: 0.0209507\ttotal: 2.17s\tremaining: 119ms\n",
      "948:\tlearn: 0.0209506\ttotal: 2.17s\tremaining: 117ms\n",
      "949:\tlearn: 0.0209504\ttotal: 2.17s\tremaining: 114ms\n",
      "950:\tlearn: 0.0209504\ttotal: 2.17s\tremaining: 112ms\n",
      "951:\tlearn: 0.0209503\ttotal: 2.18s\tremaining: 110ms\n",
      "952:\tlearn: 0.0209503\ttotal: 2.18s\tremaining: 108ms\n",
      "953:\tlearn: 0.0209494\ttotal: 2.18s\tremaining: 105ms\n",
      "954:\tlearn: 0.0209494\ttotal: 2.19s\tremaining: 103ms\n",
      "955:\tlearn: 0.0209493\ttotal: 2.19s\tremaining: 101ms\n",
      "956:\tlearn: 0.0209492\ttotal: 2.19s\tremaining: 98.4ms\n",
      "957:\tlearn: 0.0209488\ttotal: 2.19s\tremaining: 96ms\n",
      "958:\tlearn: 0.0209487\ttotal: 2.19s\tremaining: 93.7ms\n",
      "959:\tlearn: 0.0209488\ttotal: 2.19s\tremaining: 91.5ms\n",
      "960:\tlearn: 0.0209487\ttotal: 2.2s\tremaining: 89.2ms\n",
      "961:\tlearn: 0.0209486\ttotal: 2.2s\tremaining: 86.9ms\n",
      "962:\tlearn: 0.0209486\ttotal: 2.2s\tremaining: 84.6ms\n",
      "963:\tlearn: 0.0209486\ttotal: 2.2s\tremaining: 82.3ms\n",
      "964:\tlearn: 0.0209486\ttotal: 2.2s\tremaining: 80ms\n",
      "965:\tlearn: 0.0209486\ttotal: 2.21s\tremaining: 77.7ms\n",
      "966:\tlearn: 0.0209486\ttotal: 2.21s\tremaining: 75.4ms\n",
      "967:\tlearn: 0.0208764\ttotal: 2.21s\tremaining: 73.1ms\n",
      "968:\tlearn: 0.0208762\ttotal: 2.21s\tremaining: 70.8ms\n",
      "969:\tlearn: 0.0208761\ttotal: 2.21s\tremaining: 68.5ms\n",
      "970:\tlearn: 0.0208760\ttotal: 2.22s\tremaining: 66.2ms\n",
      "971:\tlearn: 0.0208760\ttotal: 2.22s\tremaining: 63.9ms\n",
      "972:\tlearn: 0.0208753\ttotal: 2.22s\tremaining: 61.6ms\n",
      "973:\tlearn: 0.0208729\ttotal: 2.22s\tremaining: 59.4ms\n",
      "974:\tlearn: 0.0208727\ttotal: 2.23s\tremaining: 57.1ms\n",
      "975:\tlearn: 0.0208726\ttotal: 2.23s\tremaining: 54.8ms\n",
      "976:\tlearn: 0.0208726\ttotal: 2.23s\tremaining: 52.5ms\n",
      "977:\tlearn: 0.0208724\ttotal: 2.23s\tremaining: 50.2ms\n",
      "978:\tlearn: 0.0208723\ttotal: 2.23s\tremaining: 47.9ms\n",
      "979:\tlearn: 0.0208722\ttotal: 2.23s\tremaining: 45.6ms\n",
      "980:\tlearn: 0.0208721\ttotal: 2.24s\tremaining: 43.3ms\n",
      "981:\tlearn: 0.0208720\ttotal: 2.24s\tremaining: 41ms\n",
      "982:\tlearn: 0.0208719\ttotal: 2.24s\tremaining: 38.8ms\n",
      "983:\tlearn: 0.0208718\ttotal: 2.24s\tremaining: 36.5ms\n",
      "984:\tlearn: 0.0208719\ttotal: 2.25s\tremaining: 34.2ms\n",
      "985:\tlearn: 0.0208718\ttotal: 2.25s\tremaining: 31.9ms\n",
      "986:\tlearn: 0.0208717\ttotal: 2.25s\tremaining: 29.6ms\n",
      "987:\tlearn: 0.0208715\ttotal: 2.25s\tremaining: 27.4ms\n",
      "988:\tlearn: 0.0208714\ttotal: 2.25s\tremaining: 25.1ms\n",
      "989:\tlearn: 0.0208713\ttotal: 2.25s\tremaining: 22.8ms\n",
      "990:\tlearn: 0.0208713\ttotal: 2.26s\tremaining: 20.5ms\n",
      "991:\tlearn: 0.0208712\ttotal: 2.26s\tremaining: 18.2ms\n",
      "992:\tlearn: 0.0208711\ttotal: 2.26s\tremaining: 15.9ms\n",
      "993:\tlearn: 0.0208709\ttotal: 2.26s\tremaining: 13.7ms\n",
      "994:\tlearn: 0.0208709\ttotal: 2.27s\tremaining: 11.4ms\n",
      "995:\tlearn: 0.0208708\ttotal: 2.27s\tremaining: 9.11ms\n",
      "996:\tlearn: 0.0208707\ttotal: 2.27s\tremaining: 6.83ms\n",
      "997:\tlearn: 0.0208705\ttotal: 2.27s\tremaining: 4.55ms\n",
      "998:\tlearn: 0.0208703\ttotal: 2.27s\tremaining: 2.28ms\n",
      "999:\tlearn: 0.0208702\ttotal: 2.28s\tremaining: 0us\n",
      "0:\tlearn: 0.2598694\ttotal: 1.81ms\tremaining: 1.81s\n",
      "1:\tlearn: 0.1750361\ttotal: 9.89ms\tremaining: 4.93s\n",
      "2:\tlearn: 0.1496628\ttotal: 12.2ms\tremaining: 4.04s\n",
      "3:\tlearn: 0.1271860\ttotal: 14.2ms\tremaining: 3.54s\n",
      "4:\tlearn: 0.1193936\ttotal: 16.4ms\tremaining: 3.26s\n",
      "5:\tlearn: 0.1111048\ttotal: 19.6ms\tremaining: 3.24s\n",
      "6:\tlearn: 0.1042729\ttotal: 22.9ms\tremaining: 3.25s\n",
      "7:\tlearn: 0.0985266\ttotal: 25ms\tremaining: 3.1s\n",
      "8:\tlearn: 0.0937515\ttotal: 26.9ms\tremaining: 2.96s\n",
      "9:\tlearn: 0.0891100\ttotal: 29.3ms\tremaining: 2.9s\n",
      "10:\tlearn: 0.0853868\ttotal: 31.6ms\tremaining: 2.84s\n",
      "11:\tlearn: 0.0791507\ttotal: 33.9ms\tremaining: 2.79s\n",
      "12:\tlearn: 0.0742012\ttotal: 36.1ms\tremaining: 2.74s\n",
      "13:\tlearn: 0.0680379\ttotal: 40ms\tremaining: 2.82s\n",
      "14:\tlearn: 0.0636840\ttotal: 46.2ms\tremaining: 3.03s\n",
      "15:\tlearn: 0.0615983\ttotal: 50.3ms\tremaining: 3.09s\n",
      "16:\tlearn: 0.0587932\ttotal: 52.7ms\tremaining: 3.05s\n",
      "17:\tlearn: 0.0569762\ttotal: 57.1ms\tremaining: 3.11s\n",
      "18:\tlearn: 0.0559944\ttotal: 59.4ms\tremaining: 3.07s\n",
      "19:\tlearn: 0.0541531\ttotal: 61.5ms\tremaining: 3.01s\n",
      "20:\tlearn: 0.0528057\ttotal: 63.6ms\tremaining: 2.97s\n",
      "21:\tlearn: 0.0515371\ttotal: 65.9ms\tremaining: 2.93s\n",
      "22:\tlearn: 0.0487694\ttotal: 70.4ms\tremaining: 2.99s\n",
      "23:\tlearn: 0.0466122\ttotal: 72.8ms\tremaining: 2.96s\n",
      "24:\tlearn: 0.0453246\ttotal: 75ms\tremaining: 2.92s\n",
      "25:\tlearn: 0.0438913\ttotal: 77ms\tremaining: 2.88s\n",
      "26:\tlearn: 0.0422872\ttotal: 79ms\tremaining: 2.85s\n",
      "27:\tlearn: 0.0412407\ttotal: 81.4ms\tremaining: 2.83s\n",
      "28:\tlearn: 0.0405139\ttotal: 83.7ms\tremaining: 2.8s\n",
      "29:\tlearn: 0.0400545\ttotal: 85.8ms\tremaining: 2.77s\n",
      "30:\tlearn: 0.0390872\ttotal: 87.8ms\tremaining: 2.74s\n",
      "31:\tlearn: 0.0385795\ttotal: 89.7ms\tremaining: 2.71s\n",
      "32:\tlearn: 0.0376537\ttotal: 93ms\tremaining: 2.73s\n",
      "33:\tlearn: 0.0371009\ttotal: 97.7ms\tremaining: 2.78s\n",
      "34:\tlearn: 0.0365604\ttotal: 99.8ms\tremaining: 2.75s\n",
      "35:\tlearn: 0.0357921\ttotal: 102ms\tremaining: 2.73s\n",
      "36:\tlearn: 0.0342424\ttotal: 104ms\tremaining: 2.7s\n",
      "37:\tlearn: 0.0334367\ttotal: 107ms\tremaining: 2.7s\n",
      "38:\tlearn: 0.0331581\ttotal: 109ms\tremaining: 2.69s\n",
      "39:\tlearn: 0.0328894\ttotal: 111ms\tremaining: 2.67s\n",
      "40:\tlearn: 0.0319697\ttotal: 114ms\tremaining: 2.65s\n",
      "41:\tlearn: 0.0314802\ttotal: 116ms\tremaining: 2.64s\n",
      "42:\tlearn: 0.0310958\ttotal: 121ms\tremaining: 2.68s\n",
      "43:\tlearn: 0.0308317\ttotal: 123ms\tremaining: 2.67s\n",
      "44:\tlearn: 0.0306160\ttotal: 125ms\tremaining: 2.66s\n",
      "45:\tlearn: 0.0302450\ttotal: 127ms\tremaining: 2.64s\n",
      "46:\tlearn: 0.0298901\ttotal: 130ms\tremaining: 2.63s\n",
      "47:\tlearn: 0.0295418\ttotal: 133ms\tremaining: 2.63s\n",
      "48:\tlearn: 0.0292908\ttotal: 135ms\tremaining: 2.62s\n",
      "49:\tlearn: 0.0289219\ttotal: 137ms\tremaining: 2.61s\n",
      "50:\tlearn: 0.0283752\ttotal: 140ms\tremaining: 2.6s\n",
      "51:\tlearn: 0.0282663\ttotal: 142ms\tremaining: 2.59s\n",
      "52:\tlearn: 0.0279975\ttotal: 145ms\tremaining: 2.6s\n",
      "53:\tlearn: 0.0277573\ttotal: 148ms\tremaining: 2.59s\n",
      "54:\tlearn: 0.0275475\ttotal: 151ms\tremaining: 2.59s\n",
      "55:\tlearn: 0.0273207\ttotal: 153ms\tremaining: 2.58s\n",
      "56:\tlearn: 0.0270745\ttotal: 155ms\tremaining: 2.56s\n",
      "57:\tlearn: 0.0268848\ttotal: 157ms\tremaining: 2.55s\n",
      "58:\tlearn: 0.0267012\ttotal: 160ms\tremaining: 2.54s\n",
      "59:\tlearn: 0.0265257\ttotal: 162ms\tremaining: 2.54s\n",
      "60:\tlearn: 0.0262896\ttotal: 164ms\tremaining: 2.52s\n",
      "61:\tlearn: 0.0260111\ttotal: 166ms\tremaining: 2.51s\n",
      "62:\tlearn: 0.0258981\ttotal: 168ms\tremaining: 2.5s\n",
      "63:\tlearn: 0.0255014\ttotal: 173ms\tremaining: 2.52s\n",
      "64:\tlearn: 0.0254107\ttotal: 175ms\tremaining: 2.51s\n",
      "65:\tlearn: 0.0252096\ttotal: 177ms\tremaining: 2.51s\n",
      "66:\tlearn: 0.0250744\ttotal: 179ms\tremaining: 2.49s\n",
      "67:\tlearn: 0.0249746\ttotal: 182ms\tremaining: 2.49s\n",
      "68:\tlearn: 0.0248661\ttotal: 184ms\tremaining: 2.48s\n",
      "69:\tlearn: 0.0244729\ttotal: 186ms\tremaining: 2.47s\n",
      "70:\tlearn: 0.0243723\ttotal: 188ms\tremaining: 2.46s\n",
      "71:\tlearn: 0.0242609\ttotal: 190ms\tremaining: 2.45s\n",
      "72:\tlearn: 0.0241180\ttotal: 192ms\tremaining: 2.44s\n",
      "73:\tlearn: 0.0239985\ttotal: 195ms\tremaining: 2.44s\n",
      "74:\tlearn: 0.0238464\ttotal: 197ms\tremaining: 2.44s\n",
      "75:\tlearn: 0.0238068\ttotal: 200ms\tremaining: 2.43s\n",
      "76:\tlearn: 0.0237079\ttotal: 202ms\tremaining: 2.42s\n",
      "77:\tlearn: 0.0234864\ttotal: 204ms\tremaining: 2.41s\n",
      "78:\tlearn: 0.0233928\ttotal: 206ms\tremaining: 2.4s\n",
      "79:\tlearn: 0.0232767\ttotal: 209ms\tremaining: 2.4s\n",
      "80:\tlearn: 0.0230990\ttotal: 212ms\tremaining: 2.41s\n",
      "81:\tlearn: 0.0230990\ttotal: 214ms\tremaining: 2.4s\n",
      "82:\tlearn: 0.0230214\ttotal: 216ms\tremaining: 2.39s\n",
      "83:\tlearn: 0.0230206\ttotal: 218ms\tremaining: 2.38s\n",
      "84:\tlearn: 0.0229025\ttotal: 221ms\tremaining: 2.37s\n",
      "85:\tlearn: 0.0227635\ttotal: 223ms\tremaining: 2.37s\n",
      "86:\tlearn: 0.0226438\ttotal: 225ms\tremaining: 2.36s\n",
      "87:\tlearn: 0.0226432\ttotal: 227ms\tremaining: 2.35s\n",
      "88:\tlearn: 0.0226431\ttotal: 229ms\tremaining: 2.34s\n",
      "89:\tlearn: 0.0226430\ttotal: 232ms\tremaining: 2.34s\n",
      "90:\tlearn: 0.0226429\ttotal: 234ms\tremaining: 2.34s\n",
      "91:\tlearn: 0.0226426\ttotal: 236ms\tremaining: 2.33s\n",
      "92:\tlearn: 0.0226423\ttotal: 238ms\tremaining: 2.32s\n",
      "93:\tlearn: 0.0226423\ttotal: 240ms\tremaining: 2.31s\n",
      "94:\tlearn: 0.0226422\ttotal: 242ms\tremaining: 2.31s\n",
      "95:\tlearn: 0.0226420\ttotal: 244ms\tremaining: 2.3s\n",
      "96:\tlearn: 0.0226415\ttotal: 246ms\tremaining: 2.29s\n",
      "97:\tlearn: 0.0226409\ttotal: 248ms\tremaining: 2.29s\n",
      "98:\tlearn: 0.0226405\ttotal: 250ms\tremaining: 2.28s\n",
      "99:\tlearn: 0.0226403\ttotal: 253ms\tremaining: 2.27s\n",
      "100:\tlearn: 0.0226398\ttotal: 255ms\tremaining: 2.27s\n",
      "101:\tlearn: 0.0226398\ttotal: 257ms\tremaining: 2.26s\n",
      "102:\tlearn: 0.0226398\ttotal: 259ms\tremaining: 2.26s\n",
      "103:\tlearn: 0.0226398\ttotal: 261ms\tremaining: 2.25s\n",
      "104:\tlearn: 0.0226398\ttotal: 262ms\tremaining: 2.24s\n",
      "105:\tlearn: 0.0226398\ttotal: 264ms\tremaining: 2.23s\n",
      "106:\tlearn: 0.0226398\ttotal: 266ms\tremaining: 2.22s\n",
      "107:\tlearn: 0.0226398\ttotal: 267ms\tremaining: 2.21s\n",
      "108:\tlearn: 0.0226398\ttotal: 270ms\tremaining: 2.21s\n",
      "109:\tlearn: 0.0226398\ttotal: 273ms\tremaining: 2.21s\n",
      "110:\tlearn: 0.0226398\ttotal: 275ms\tremaining: 2.2s\n",
      "111:\tlearn: 0.0226398\ttotal: 277ms\tremaining: 2.19s\n",
      "112:\tlearn: 0.0226398\ttotal: 278ms\tremaining: 2.19s\n",
      "113:\tlearn: 0.0226398\ttotal: 280ms\tremaining: 2.18s\n",
      "114:\tlearn: 0.0226398\ttotal: 282ms\tremaining: 2.17s\n",
      "115:\tlearn: 0.0226395\ttotal: 285ms\tremaining: 2.17s\n",
      "116:\tlearn: 0.0226395\ttotal: 286ms\tremaining: 2.16s\n",
      "117:\tlearn: 0.0226393\ttotal: 288ms\tremaining: 2.15s\n",
      "118:\tlearn: 0.0226389\ttotal: 290ms\tremaining: 2.15s\n",
      "119:\tlearn: 0.0226389\ttotal: 292ms\tremaining: 2.14s\n",
      "120:\tlearn: 0.0226384\ttotal: 295ms\tremaining: 2.14s\n",
      "121:\tlearn: 0.0226384\ttotal: 298ms\tremaining: 2.14s\n",
      "122:\tlearn: 0.0226383\ttotal: 300ms\tremaining: 2.14s\n",
      "123:\tlearn: 0.0226381\ttotal: 301ms\tremaining: 2.13s\n",
      "124:\tlearn: 0.0226381\ttotal: 303ms\tremaining: 2.12s\n",
      "125:\tlearn: 0.0226379\ttotal: 305ms\tremaining: 2.12s\n",
      "126:\tlearn: 0.0226378\ttotal: 308ms\tremaining: 2.12s\n",
      "127:\tlearn: 0.0226376\ttotal: 310ms\tremaining: 2.11s\n",
      "128:\tlearn: 0.0226374\ttotal: 312ms\tremaining: 2.11s\n",
      "129:\tlearn: 0.0226372\ttotal: 314ms\tremaining: 2.1s\n",
      "130:\tlearn: 0.0226368\ttotal: 316ms\tremaining: 2.1s\n",
      "131:\tlearn: 0.0226364\ttotal: 319ms\tremaining: 2.1s\n",
      "132:\tlearn: 0.0226364\ttotal: 321ms\tremaining: 2.09s\n",
      "133:\tlearn: 0.0226363\ttotal: 323ms\tremaining: 2.09s\n",
      "134:\tlearn: 0.0226358\ttotal: 325ms\tremaining: 2.08s\n",
      "135:\tlearn: 0.0226355\ttotal: 326ms\tremaining: 2.07s\n",
      "136:\tlearn: 0.0226351\ttotal: 328ms\tremaining: 2.07s\n",
      "137:\tlearn: 0.0226343\ttotal: 330ms\tremaining: 2.06s\n",
      "138:\tlearn: 0.0225634\ttotal: 333ms\tremaining: 2.06s\n",
      "139:\tlearn: 0.0224306\ttotal: 335ms\tremaining: 2.06s\n",
      "140:\tlearn: 0.0223355\ttotal: 338ms\tremaining: 2.06s\n",
      "141:\tlearn: 0.0223354\ttotal: 340ms\tremaining: 2.05s\n",
      "142:\tlearn: 0.0221883\ttotal: 342ms\tremaining: 2.05s\n",
      "143:\tlearn: 0.0221090\ttotal: 345ms\tremaining: 2.05s\n",
      "144:\tlearn: 0.0220191\ttotal: 347ms\tremaining: 2.05s\n",
      "145:\tlearn: 0.0218940\ttotal: 349ms\tremaining: 2.04s\n",
      "146:\tlearn: 0.0217850\ttotal: 351ms\tremaining: 2.04s\n",
      "147:\tlearn: 0.0216532\ttotal: 353ms\tremaining: 2.03s\n",
      "148:\tlearn: 0.0216531\ttotal: 355ms\tremaining: 2.03s\n",
      "149:\tlearn: 0.0215441\ttotal: 358ms\tremaining: 2.03s\n",
      "150:\tlearn: 0.0215439\ttotal: 361ms\tremaining: 2.03s\n",
      "151:\tlearn: 0.0215439\ttotal: 362ms\tremaining: 2.02s\n",
      "152:\tlearn: 0.0215437\ttotal: 364ms\tremaining: 2.02s\n",
      "153:\tlearn: 0.0215435\ttotal: 366ms\tremaining: 2.01s\n",
      "154:\tlearn: 0.0215427\ttotal: 368ms\tremaining: 2s\n",
      "155:\tlearn: 0.0215426\ttotal: 370ms\tremaining: 2s\n",
      "156:\tlearn: 0.0215419\ttotal: 372ms\tremaining: 2s\n",
      "157:\tlearn: 0.0215414\ttotal: 374ms\tremaining: 1.99s\n",
      "158:\tlearn: 0.0215408\ttotal: 377ms\tremaining: 1.99s\n",
      "159:\tlearn: 0.0215403\ttotal: 379ms\tremaining: 1.99s\n",
      "160:\tlearn: 0.0215402\ttotal: 381ms\tremaining: 1.99s\n",
      "161:\tlearn: 0.0215397\ttotal: 384ms\tremaining: 1.98s\n",
      "162:\tlearn: 0.0215395\ttotal: 386ms\tremaining: 1.98s\n",
      "163:\tlearn: 0.0215395\ttotal: 388ms\tremaining: 1.98s\n",
      "164:\tlearn: 0.0215395\ttotal: 390ms\tremaining: 1.97s\n",
      "165:\tlearn: 0.0215392\ttotal: 392ms\tremaining: 1.97s\n",
      "166:\tlearn: 0.0215386\ttotal: 393ms\tremaining: 1.96s\n",
      "167:\tlearn: 0.0215385\ttotal: 396ms\tremaining: 1.96s\n",
      "168:\tlearn: 0.0215384\ttotal: 398ms\tremaining: 1.96s\n",
      "169:\tlearn: 0.0215382\ttotal: 400ms\tremaining: 1.95s\n",
      "170:\tlearn: 0.0215382\ttotal: 401ms\tremaining: 1.95s\n",
      "171:\tlearn: 0.0215381\ttotal: 404ms\tremaining: 1.95s\n",
      "172:\tlearn: 0.0215381\ttotal: 407ms\tremaining: 1.94s\n",
      "173:\tlearn: 0.0215380\ttotal: 409ms\tremaining: 1.94s\n",
      "174:\tlearn: 0.0215379\ttotal: 411ms\tremaining: 1.94s\n",
      "175:\tlearn: 0.0215378\ttotal: 413ms\tremaining: 1.93s\n",
      "176:\tlearn: 0.0215373\ttotal: 414ms\tremaining: 1.93s\n",
      "177:\tlearn: 0.0215372\ttotal: 416ms\tremaining: 1.92s\n",
      "178:\tlearn: 0.0215370\ttotal: 418ms\tremaining: 1.92s\n",
      "179:\tlearn: 0.0215369\ttotal: 421ms\tremaining: 1.92s\n",
      "180:\tlearn: 0.0215365\ttotal: 423ms\tremaining: 1.92s\n",
      "181:\tlearn: 0.0215362\ttotal: 427ms\tremaining: 1.92s\n",
      "182:\tlearn: 0.0215359\ttotal: 429ms\tremaining: 1.91s\n",
      "183:\tlearn: 0.0215358\ttotal: 431ms\tremaining: 1.91s\n",
      "184:\tlearn: 0.0215357\ttotal: 434ms\tremaining: 1.91s\n",
      "185:\tlearn: 0.0215355\ttotal: 436ms\tremaining: 1.91s\n",
      "186:\tlearn: 0.0215350\ttotal: 438ms\tremaining: 1.9s\n",
      "187:\tlearn: 0.0215348\ttotal: 440ms\tremaining: 1.9s\n",
      "188:\tlearn: 0.0215347\ttotal: 441ms\tremaining: 1.89s\n",
      "189:\tlearn: 0.0215345\ttotal: 443ms\tremaining: 1.89s\n",
      "190:\tlearn: 0.0215345\ttotal: 446ms\tremaining: 1.89s\n",
      "191:\tlearn: 0.0215340\ttotal: 450ms\tremaining: 1.9s\n",
      "192:\tlearn: 0.0215335\ttotal: 452ms\tremaining: 1.89s\n",
      "193:\tlearn: 0.0215331\ttotal: 455ms\tremaining: 1.89s\n",
      "194:\tlearn: 0.0215331\ttotal: 459ms\tremaining: 1.89s\n",
      "195:\tlearn: 0.0215331\ttotal: 461ms\tremaining: 1.89s\n",
      "196:\tlearn: 0.0215304\ttotal: 463ms\tremaining: 1.89s\n",
      "197:\tlearn: 0.0215301\ttotal: 465ms\tremaining: 1.88s\n",
      "198:\tlearn: 0.0215301\ttotal: 467ms\tremaining: 1.88s\n",
      "199:\tlearn: 0.0215298\ttotal: 470ms\tremaining: 1.88s\n",
      "200:\tlearn: 0.0215298\ttotal: 472ms\tremaining: 1.88s\n",
      "201:\tlearn: 0.0215298\ttotal: 476ms\tremaining: 1.88s\n",
      "202:\tlearn: 0.0215293\ttotal: 477ms\tremaining: 1.87s\n",
      "203:\tlearn: 0.0215291\ttotal: 479ms\tremaining: 1.87s\n",
      "204:\tlearn: 0.0215290\ttotal: 481ms\tremaining: 1.86s\n",
      "205:\tlearn: 0.0214733\ttotal: 484ms\tremaining: 1.87s\n",
      "206:\tlearn: 0.0214733\ttotal: 486ms\tremaining: 1.86s\n",
      "207:\tlearn: 0.0214730\ttotal: 488ms\tremaining: 1.86s\n",
      "208:\tlearn: 0.0214728\ttotal: 490ms\tremaining: 1.85s\n",
      "209:\tlearn: 0.0214727\ttotal: 492ms\tremaining: 1.85s\n",
      "210:\tlearn: 0.0214720\ttotal: 493ms\tremaining: 1.84s\n",
      "211:\tlearn: 0.0214587\ttotal: 496ms\tremaining: 1.84s\n",
      "212:\tlearn: 0.0214586\ttotal: 499ms\tremaining: 1.84s\n",
      "213:\tlearn: 0.0214585\ttotal: 501ms\tremaining: 1.84s\n",
      "214:\tlearn: 0.0214585\ttotal: 503ms\tremaining: 1.84s\n",
      "215:\tlearn: 0.0214581\ttotal: 505ms\tremaining: 1.83s\n",
      "216:\tlearn: 0.0214581\ttotal: 507ms\tremaining: 1.83s\n",
      "217:\tlearn: 0.0214580\ttotal: 509ms\tremaining: 1.82s\n",
      "218:\tlearn: 0.0214149\ttotal: 511ms\tremaining: 1.82s\n",
      "219:\tlearn: 0.0214147\ttotal: 513ms\tremaining: 1.82s\n",
      "220:\tlearn: 0.0214145\ttotal: 514ms\tremaining: 1.81s\n",
      "221:\tlearn: 0.0213307\ttotal: 518ms\tremaining: 1.81s\n",
      "222:\tlearn: 0.0212747\ttotal: 521ms\tremaining: 1.81s\n",
      "223:\tlearn: 0.0211152\ttotal: 523ms\tremaining: 1.81s\n",
      "224:\tlearn: 0.0211149\ttotal: 525ms\tremaining: 1.81s\n",
      "225:\tlearn: 0.0210875\ttotal: 527ms\tremaining: 1.8s\n",
      "226:\tlearn: 0.0209118\ttotal: 529ms\tremaining: 1.8s\n",
      "227:\tlearn: 0.0209115\ttotal: 530ms\tremaining: 1.79s\n",
      "228:\tlearn: 0.0209114\ttotal: 533ms\tremaining: 1.79s\n",
      "229:\tlearn: 0.0209113\ttotal: 535ms\tremaining: 1.79s\n",
      "230:\tlearn: 0.0209109\ttotal: 538ms\tremaining: 1.79s\n",
      "231:\tlearn: 0.0209108\ttotal: 540ms\tremaining: 1.79s\n",
      "232:\tlearn: 0.0209108\ttotal: 542ms\tremaining: 1.78s\n",
      "233:\tlearn: 0.0209107\ttotal: 543ms\tremaining: 1.78s\n",
      "234:\tlearn: 0.0209103\ttotal: 546ms\tremaining: 1.78s\n",
      "235:\tlearn: 0.0209095\ttotal: 549ms\tremaining: 1.77s\n",
      "236:\tlearn: 0.0209094\ttotal: 550ms\tremaining: 1.77s\n",
      "237:\tlearn: 0.0209093\ttotal: 552ms\tremaining: 1.77s\n",
      "238:\tlearn: 0.0209089\ttotal: 554ms\tremaining: 1.76s\n",
      "239:\tlearn: 0.0209088\ttotal: 555ms\tremaining: 1.76s\n",
      "240:\tlearn: 0.0208490\ttotal: 558ms\tremaining: 1.76s\n",
      "241:\tlearn: 0.0206811\ttotal: 562ms\tremaining: 1.76s\n",
      "242:\tlearn: 0.0206811\ttotal: 564ms\tremaining: 1.76s\n",
      "243:\tlearn: 0.0206809\ttotal: 566ms\tremaining: 1.75s\n",
      "244:\tlearn: 0.0206808\ttotal: 568ms\tremaining: 1.75s\n",
      "245:\tlearn: 0.0206628\ttotal: 570ms\tremaining: 1.75s\n",
      "246:\tlearn: 0.0206627\ttotal: 572ms\tremaining: 1.74s\n",
      "247:\tlearn: 0.0206626\ttotal: 575ms\tremaining: 1.74s\n",
      "248:\tlearn: 0.0206626\ttotal: 576ms\tremaining: 1.74s\n",
      "249:\tlearn: 0.0206623\ttotal: 578ms\tremaining: 1.73s\n",
      "250:\tlearn: 0.0206623\ttotal: 580ms\tremaining: 1.73s\n",
      "251:\tlearn: 0.0206623\ttotal: 584ms\tremaining: 1.73s\n",
      "252:\tlearn: 0.0206619\ttotal: 586ms\tremaining: 1.73s\n",
      "253:\tlearn: 0.0206619\ttotal: 588ms\tremaining: 1.73s\n",
      "254:\tlearn: 0.0206619\ttotal: 589ms\tremaining: 1.72s\n",
      "255:\tlearn: 0.0206617\ttotal: 591ms\tremaining: 1.72s\n",
      "256:\tlearn: 0.0206615\ttotal: 593ms\tremaining: 1.71s\n",
      "257:\tlearn: 0.0206614\ttotal: 596ms\tremaining: 1.71s\n",
      "258:\tlearn: 0.0206612\ttotal: 598ms\tremaining: 1.71s\n",
      "259:\tlearn: 0.0206611\ttotal: 600ms\tremaining: 1.71s\n",
      "260:\tlearn: 0.0206608\ttotal: 603ms\tremaining: 1.71s\n",
      "261:\tlearn: 0.0206605\ttotal: 605ms\tremaining: 1.7s\n",
      "262:\tlearn: 0.0206604\ttotal: 607ms\tremaining: 1.7s\n",
      "263:\tlearn: 0.0206603\ttotal: 611ms\tremaining: 1.7s\n",
      "264:\tlearn: 0.0206603\ttotal: 613ms\tremaining: 1.7s\n",
      "265:\tlearn: 0.0206600\ttotal: 615ms\tremaining: 1.7s\n",
      "266:\tlearn: 0.0206595\ttotal: 617ms\tremaining: 1.69s\n",
      "267:\tlearn: 0.0206595\ttotal: 619ms\tremaining: 1.69s\n",
      "268:\tlearn: 0.0206592\ttotal: 621ms\tremaining: 1.69s\n",
      "269:\tlearn: 0.0206590\ttotal: 624ms\tremaining: 1.69s\n",
      "270:\tlearn: 0.0206590\ttotal: 627ms\tremaining: 1.69s\n",
      "271:\tlearn: 0.0206585\ttotal: 629ms\tremaining: 1.68s\n",
      "272:\tlearn: 0.0206584\ttotal: 632ms\tremaining: 1.68s\n",
      "273:\tlearn: 0.0206580\ttotal: 634ms\tremaining: 1.68s\n",
      "274:\tlearn: 0.0206576\ttotal: 637ms\tremaining: 1.68s\n",
      "275:\tlearn: 0.0206575\ttotal: 639ms\tremaining: 1.68s\n",
      "276:\tlearn: 0.0206575\ttotal: 641ms\tremaining: 1.67s\n",
      "277:\tlearn: 0.0206572\ttotal: 643ms\tremaining: 1.67s\n",
      "278:\tlearn: 0.0206572\ttotal: 646ms\tremaining: 1.67s\n",
      "279:\tlearn: 0.0206571\ttotal: 649ms\tremaining: 1.67s\n",
      "280:\tlearn: 0.0206569\ttotal: 651ms\tremaining: 1.67s\n",
      "281:\tlearn: 0.0206566\ttotal: 654ms\tremaining: 1.66s\n",
      "282:\tlearn: 0.0206562\ttotal: 656ms\tremaining: 1.66s\n",
      "283:\tlearn: 0.0206559\ttotal: 658ms\tremaining: 1.66s\n",
      "284:\tlearn: 0.0206557\ttotal: 660ms\tremaining: 1.66s\n",
      "285:\tlearn: 0.0206556\ttotal: 662ms\tremaining: 1.65s\n",
      "286:\tlearn: 0.0206554\ttotal: 664ms\tremaining: 1.65s\n",
      "287:\tlearn: 0.0206553\ttotal: 666ms\tremaining: 1.65s\n",
      "288:\tlearn: 0.0206549\ttotal: 668ms\tremaining: 1.64s\n",
      "289:\tlearn: 0.0206545\ttotal: 673ms\tremaining: 1.65s\n",
      "290:\tlearn: 0.0206544\ttotal: 675ms\tremaining: 1.64s\n",
      "291:\tlearn: 0.0206542\ttotal: 677ms\tremaining: 1.64s\n",
      "292:\tlearn: 0.0206540\ttotal: 679ms\tremaining: 1.64s\n",
      "293:\tlearn: 0.0206540\ttotal: 681ms\tremaining: 1.63s\n",
      "294:\tlearn: 0.0206537\ttotal: 683ms\tremaining: 1.63s\n",
      "295:\tlearn: 0.0206534\ttotal: 685ms\tremaining: 1.63s\n",
      "296:\tlearn: 0.0206531\ttotal: 687ms\tremaining: 1.63s\n",
      "297:\tlearn: 0.0206529\ttotal: 689ms\tremaining: 1.62s\n",
      "298:\tlearn: 0.0206527\ttotal: 691ms\tremaining: 1.62s\n",
      "299:\tlearn: 0.0206525\ttotal: 693ms\tremaining: 1.62s\n",
      "300:\tlearn: 0.0205447\ttotal: 697ms\tremaining: 1.62s\n",
      "301:\tlearn: 0.0205447\ttotal: 699ms\tremaining: 1.61s\n",
      "302:\tlearn: 0.0205445\ttotal: 701ms\tremaining: 1.61s\n",
      "303:\tlearn: 0.0205438\ttotal: 703ms\tremaining: 1.61s\n",
      "304:\tlearn: 0.0205437\ttotal: 705ms\tremaining: 1.61s\n",
      "305:\tlearn: 0.0205435\ttotal: 707ms\tremaining: 1.6s\n",
      "306:\tlearn: 0.0205434\ttotal: 709ms\tremaining: 1.6s\n",
      "307:\tlearn: 0.0205432\ttotal: 711ms\tremaining: 1.6s\n",
      "308:\tlearn: 0.0205431\ttotal: 713ms\tremaining: 1.59s\n",
      "309:\tlearn: 0.0205431\ttotal: 715ms\tremaining: 1.59s\n",
      "310:\tlearn: 0.0205430\ttotal: 717ms\tremaining: 1.59s\n",
      "311:\tlearn: 0.0205428\ttotal: 719ms\tremaining: 1.58s\n",
      "312:\tlearn: 0.0205424\ttotal: 723ms\tremaining: 1.59s\n",
      "313:\tlearn: 0.0205423\ttotal: 725ms\tremaining: 1.58s\n",
      "314:\tlearn: 0.0205421\ttotal: 727ms\tremaining: 1.58s\n",
      "315:\tlearn: 0.0205418\ttotal: 729ms\tremaining: 1.58s\n",
      "316:\tlearn: 0.0205417\ttotal: 731ms\tremaining: 1.57s\n",
      "317:\tlearn: 0.0205414\ttotal: 733ms\tremaining: 1.57s\n",
      "318:\tlearn: 0.0205414\ttotal: 735ms\tremaining: 1.57s\n",
      "319:\tlearn: 0.0205413\ttotal: 737ms\tremaining: 1.57s\n",
      "320:\tlearn: 0.0205413\ttotal: 739ms\tremaining: 1.56s\n",
      "321:\tlearn: 0.0205411\ttotal: 740ms\tremaining: 1.56s\n",
      "322:\tlearn: 0.0205403\ttotal: 742ms\tremaining: 1.55s\n",
      "323:\tlearn: 0.0205403\ttotal: 745ms\tremaining: 1.55s\n",
      "324:\tlearn: 0.0205402\ttotal: 748ms\tremaining: 1.55s\n",
      "325:\tlearn: 0.0205401\ttotal: 750ms\tremaining: 1.55s\n",
      "326:\tlearn: 0.0205399\ttotal: 752ms\tremaining: 1.55s\n",
      "327:\tlearn: 0.0205398\ttotal: 754ms\tremaining: 1.54s\n",
      "328:\tlearn: 0.0205395\ttotal: 755ms\tremaining: 1.54s\n",
      "329:\tlearn: 0.0205394\ttotal: 757ms\tremaining: 1.54s\n",
      "330:\tlearn: 0.0205393\ttotal: 760ms\tremaining: 1.53s\n",
      "331:\tlearn: 0.0205391\ttotal: 762ms\tremaining: 1.53s\n",
      "332:\tlearn: 0.0205389\ttotal: 764ms\tremaining: 1.53s\n",
      "333:\tlearn: 0.0205388\ttotal: 766ms\tremaining: 1.53s\n",
      "334:\tlearn: 0.0205384\ttotal: 768ms\tremaining: 1.52s\n",
      "335:\tlearn: 0.0205378\ttotal: 770ms\tremaining: 1.52s\n",
      "336:\tlearn: 0.0205377\ttotal: 772ms\tremaining: 1.52s\n",
      "337:\tlearn: 0.0205377\ttotal: 774ms\tremaining: 1.52s\n",
      "338:\tlearn: 0.0205373\ttotal: 776ms\tremaining: 1.51s\n",
      "339:\tlearn: 0.0205373\ttotal: 778ms\tremaining: 1.51s\n",
      "340:\tlearn: 0.0205371\ttotal: 779ms\tremaining: 1.51s\n",
      "341:\tlearn: 0.0205370\ttotal: 781ms\tremaining: 1.5s\n",
      "342:\tlearn: 0.0205369\ttotal: 784ms\tremaining: 1.5s\n",
      "343:\tlearn: 0.0205369\ttotal: 787ms\tremaining: 1.5s\n",
      "344:\tlearn: 0.0205366\ttotal: 788ms\tremaining: 1.5s\n",
      "345:\tlearn: 0.0205363\ttotal: 790ms\tremaining: 1.49s\n",
      "346:\tlearn: 0.0205362\ttotal: 792ms\tremaining: 1.49s\n",
      "347:\tlearn: 0.0205362\ttotal: 794ms\tremaining: 1.49s\n",
      "348:\tlearn: 0.0205362\ttotal: 796ms\tremaining: 1.48s\n",
      "349:\tlearn: 0.0205360\ttotal: 798ms\tremaining: 1.48s\n",
      "350:\tlearn: 0.0205355\ttotal: 800ms\tremaining: 1.48s\n",
      "351:\tlearn: 0.0205354\ttotal: 802ms\tremaining: 1.48s\n",
      "352:\tlearn: 0.0205354\ttotal: 804ms\tremaining: 1.47s\n",
      "353:\tlearn: 0.0205354\ttotal: 807ms\tremaining: 1.47s\n",
      "354:\tlearn: 0.0205353\ttotal: 809ms\tremaining: 1.47s\n",
      "355:\tlearn: 0.0205350\ttotal: 812ms\tremaining: 1.47s\n",
      "356:\tlearn: 0.0205348\ttotal: 814ms\tremaining: 1.47s\n",
      "357:\tlearn: 0.0205346\ttotal: 816ms\tremaining: 1.46s\n",
      "358:\tlearn: 0.0205342\ttotal: 818ms\tremaining: 1.46s\n",
      "359:\tlearn: 0.0205340\ttotal: 821ms\tremaining: 1.46s\n",
      "360:\tlearn: 0.0205337\ttotal: 823ms\tremaining: 1.46s\n",
      "361:\tlearn: 0.0205333\ttotal: 825ms\tremaining: 1.45s\n",
      "362:\tlearn: 0.0205327\ttotal: 827ms\tremaining: 1.45s\n",
      "363:\tlearn: 0.0205327\ttotal: 829ms\tremaining: 1.45s\n",
      "364:\tlearn: 0.0205325\ttotal: 831ms\tremaining: 1.44s\n",
      "365:\tlearn: 0.0205325\ttotal: 833ms\tremaining: 1.44s\n",
      "366:\tlearn: 0.0205324\ttotal: 837ms\tremaining: 1.44s\n",
      "367:\tlearn: 0.0205324\ttotal: 839ms\tremaining: 1.44s\n",
      "368:\tlearn: 0.0205321\ttotal: 841ms\tremaining: 1.44s\n",
      "369:\tlearn: 0.0205320\ttotal: 843ms\tremaining: 1.43s\n",
      "370:\tlearn: 0.0205320\ttotal: 845ms\tremaining: 1.43s\n",
      "371:\tlearn: 0.0205319\ttotal: 848ms\tremaining: 1.43s\n",
      "372:\tlearn: 0.0205319\ttotal: 849ms\tremaining: 1.43s\n",
      "373:\tlearn: 0.0205316\ttotal: 851ms\tremaining: 1.42s\n",
      "374:\tlearn: 0.0205315\ttotal: 853ms\tremaining: 1.42s\n",
      "375:\tlearn: 0.0205315\ttotal: 855ms\tremaining: 1.42s\n",
      "376:\tlearn: 0.0205308\ttotal: 859ms\tremaining: 1.42s\n",
      "377:\tlearn: 0.0205308\ttotal: 861ms\tremaining: 1.42s\n",
      "378:\tlearn: 0.0205307\ttotal: 863ms\tremaining: 1.41s\n",
      "379:\tlearn: 0.0205307\ttotal: 865ms\tremaining: 1.41s\n",
      "380:\tlearn: 0.0205305\ttotal: 867ms\tremaining: 1.41s\n",
      "381:\tlearn: 0.0205306\ttotal: 869ms\tremaining: 1.41s\n",
      "382:\tlearn: 0.0205304\ttotal: 871ms\tremaining: 1.4s\n",
      "383:\tlearn: 0.0205304\ttotal: 873ms\tremaining: 1.4s\n",
      "384:\tlearn: 0.0205303\ttotal: 875ms\tremaining: 1.4s\n",
      "385:\tlearn: 0.0205303\ttotal: 878ms\tremaining: 1.4s\n",
      "386:\tlearn: 0.0205300\ttotal: 880ms\tremaining: 1.39s\n",
      "387:\tlearn: 0.0205299\ttotal: 882ms\tremaining: 1.39s\n",
      "388:\tlearn: 0.0205296\ttotal: 884ms\tremaining: 1.39s\n",
      "389:\tlearn: 0.0205296\ttotal: 886ms\tremaining: 1.39s\n",
      "390:\tlearn: 0.0205295\ttotal: 888ms\tremaining: 1.38s\n",
      "391:\tlearn: 0.0205293\ttotal: 890ms\tremaining: 1.38s\n",
      "392:\tlearn: 0.0205291\ttotal: 892ms\tremaining: 1.38s\n",
      "393:\tlearn: 0.0205288\ttotal: 894ms\tremaining: 1.38s\n",
      "394:\tlearn: 0.0205286\ttotal: 897ms\tremaining: 1.37s\n",
      "395:\tlearn: 0.0205283\ttotal: 900ms\tremaining: 1.37s\n",
      "396:\tlearn: 0.0205283\ttotal: 902ms\tremaining: 1.37s\n",
      "397:\tlearn: 0.0205282\ttotal: 904ms\tremaining: 1.37s\n",
      "398:\tlearn: 0.0205280\ttotal: 906ms\tremaining: 1.36s\n",
      "399:\tlearn: 0.0205279\ttotal: 909ms\tremaining: 1.36s\n",
      "400:\tlearn: 0.0205278\ttotal: 911ms\tremaining: 1.36s\n",
      "401:\tlearn: 0.0205277\ttotal: 913ms\tremaining: 1.36s\n",
      "402:\tlearn: 0.0205276\ttotal: 914ms\tremaining: 1.35s\n",
      "403:\tlearn: 0.0205276\ttotal: 916ms\tremaining: 1.35s\n",
      "404:\tlearn: 0.0205257\ttotal: 918ms\tremaining: 1.35s\n",
      "405:\tlearn: 0.0205256\ttotal: 921ms\tremaining: 1.35s\n",
      "406:\tlearn: 0.0205253\ttotal: 924ms\tremaining: 1.34s\n",
      "407:\tlearn: 0.0205250\ttotal: 926ms\tremaining: 1.34s\n",
      "408:\tlearn: 0.0205251\ttotal: 927ms\tremaining: 1.34s\n",
      "409:\tlearn: 0.0205249\ttotal: 929ms\tremaining: 1.34s\n",
      "410:\tlearn: 0.0205247\ttotal: 931ms\tremaining: 1.33s\n",
      "411:\tlearn: 0.0205245\ttotal: 934ms\tremaining: 1.33s\n",
      "412:\tlearn: 0.0205245\ttotal: 936ms\tremaining: 1.33s\n",
      "413:\tlearn: 0.0205243\ttotal: 938ms\tremaining: 1.33s\n",
      "414:\tlearn: 0.0205242\ttotal: 940ms\tremaining: 1.32s\n",
      "415:\tlearn: 0.0205238\ttotal: 942ms\tremaining: 1.32s\n",
      "416:\tlearn: 0.0205238\ttotal: 944ms\tremaining: 1.32s\n",
      "417:\tlearn: 0.0205237\ttotal: 946ms\tremaining: 1.32s\n",
      "418:\tlearn: 0.0205233\ttotal: 949ms\tremaining: 1.31s\n",
      "419:\tlearn: 0.0205231\ttotal: 950ms\tremaining: 1.31s\n",
      "420:\tlearn: 0.0205227\ttotal: 952ms\tremaining: 1.31s\n",
      "421:\tlearn: 0.0205217\ttotal: 954ms\tremaining: 1.31s\n",
      "422:\tlearn: 0.0205214\ttotal: 957ms\tremaining: 1.3s\n",
      "423:\tlearn: 0.0205213\ttotal: 960ms\tremaining: 1.3s\n",
      "424:\tlearn: 0.0205210\ttotal: 962ms\tremaining: 1.3s\n",
      "425:\tlearn: 0.0205208\ttotal: 964ms\tremaining: 1.3s\n",
      "426:\tlearn: 0.0205207\ttotal: 966ms\tremaining: 1.3s\n",
      "427:\tlearn: 0.0205206\ttotal: 968ms\tremaining: 1.29s\n",
      "428:\tlearn: 0.0205204\ttotal: 970ms\tremaining: 1.29s\n",
      "429:\tlearn: 0.0205203\ttotal: 972ms\tremaining: 1.29s\n",
      "430:\tlearn: 0.0205201\ttotal: 974ms\tremaining: 1.29s\n",
      "431:\tlearn: 0.0205200\ttotal: 976ms\tremaining: 1.28s\n",
      "432:\tlearn: 0.0205198\ttotal: 978ms\tremaining: 1.28s\n",
      "433:\tlearn: 0.0205193\ttotal: 980ms\tremaining: 1.28s\n",
      "434:\tlearn: 0.0205182\ttotal: 983ms\tremaining: 1.28s\n",
      "435:\tlearn: 0.0205180\ttotal: 986ms\tremaining: 1.27s\n",
      "436:\tlearn: 0.0205177\ttotal: 988ms\tremaining: 1.27s\n",
      "437:\tlearn: 0.0205176\ttotal: 990ms\tremaining: 1.27s\n",
      "438:\tlearn: 0.0205175\ttotal: 993ms\tremaining: 1.27s\n",
      "439:\tlearn: 0.0205176\ttotal: 995ms\tremaining: 1.27s\n",
      "440:\tlearn: 0.0205165\ttotal: 998ms\tremaining: 1.26s\n",
      "441:\tlearn: 0.0205163\ttotal: 1s\tremaining: 1.26s\n",
      "442:\tlearn: 0.0205161\ttotal: 1s\tremaining: 1.26s\n",
      "443:\tlearn: 0.0205161\ttotal: 1.01s\tremaining: 1.27s\n",
      "444:\tlearn: 0.0205156\ttotal: 1.03s\tremaining: 1.28s\n",
      "445:\tlearn: 0.0205155\ttotal: 1.03s\tremaining: 1.28s\n",
      "446:\tlearn: 0.0205155\ttotal: 1.04s\tremaining: 1.28s\n",
      "447:\tlearn: 0.0205154\ttotal: 1.06s\tremaining: 1.3s\n",
      "448:\tlearn: 0.0205154\ttotal: 1.06s\tremaining: 1.3s\n",
      "449:\tlearn: 0.0205154\ttotal: 1.06s\tremaining: 1.3s\n",
      "450:\tlearn: 0.0205153\ttotal: 1.06s\tremaining: 1.29s\n",
      "451:\tlearn: 0.0205150\ttotal: 1.07s\tremaining: 1.29s\n",
      "452:\tlearn: 0.0205148\ttotal: 1.07s\tremaining: 1.29s\n",
      "453:\tlearn: 0.0205147\ttotal: 1.07s\tremaining: 1.29s\n",
      "454:\tlearn: 0.0205146\ttotal: 1.07s\tremaining: 1.29s\n",
      "455:\tlearn: 0.0205146\ttotal: 1.08s\tremaining: 1.28s\n",
      "456:\tlearn: 0.0205143\ttotal: 1.08s\tremaining: 1.28s\n",
      "457:\tlearn: 0.0205142\ttotal: 1.08s\tremaining: 1.28s\n",
      "458:\tlearn: 0.0205140\ttotal: 1.08s\tremaining: 1.28s\n",
      "459:\tlearn: 0.0205139\ttotal: 1.09s\tremaining: 1.27s\n",
      "460:\tlearn: 0.0205138\ttotal: 1.09s\tremaining: 1.27s\n",
      "461:\tlearn: 0.0205136\ttotal: 1.09s\tremaining: 1.27s\n",
      "462:\tlearn: 0.0205132\ttotal: 1.09s\tremaining: 1.27s\n",
      "463:\tlearn: 0.0205131\ttotal: 1.09s\tremaining: 1.26s\n",
      "464:\tlearn: 0.0205130\ttotal: 1.1s\tremaining: 1.26s\n",
      "465:\tlearn: 0.0205129\ttotal: 1.1s\tremaining: 1.26s\n",
      "466:\tlearn: 0.0205129\ttotal: 1.1s\tremaining: 1.26s\n",
      "467:\tlearn: 0.0205128\ttotal: 1.1s\tremaining: 1.25s\n",
      "468:\tlearn: 0.0205127\ttotal: 1.1s\tremaining: 1.25s\n",
      "469:\tlearn: 0.0205125\ttotal: 1.11s\tremaining: 1.25s\n",
      "470:\tlearn: 0.0205124\ttotal: 1.11s\tremaining: 1.24s\n",
      "471:\tlearn: 0.0205114\ttotal: 1.11s\tremaining: 1.24s\n",
      "472:\tlearn: 0.0205114\ttotal: 1.11s\tremaining: 1.24s\n",
      "473:\tlearn: 0.0205113\ttotal: 1.11s\tremaining: 1.24s\n",
      "474:\tlearn: 0.0205111\ttotal: 1.12s\tremaining: 1.24s\n",
      "475:\tlearn: 0.0205110\ttotal: 1.12s\tremaining: 1.23s\n",
      "476:\tlearn: 0.0205107\ttotal: 1.12s\tremaining: 1.23s\n",
      "477:\tlearn: 0.0205107\ttotal: 1.12s\tremaining: 1.23s\n",
      "478:\tlearn: 0.0205106\ttotal: 1.13s\tremaining: 1.22s\n",
      "479:\tlearn: 0.0205105\ttotal: 1.13s\tremaining: 1.22s\n",
      "480:\tlearn: 0.0205095\ttotal: 1.13s\tremaining: 1.22s\n",
      "481:\tlearn: 0.0205095\ttotal: 1.13s\tremaining: 1.22s\n",
      "482:\tlearn: 0.0205095\ttotal: 1.13s\tremaining: 1.21s\n",
      "483:\tlearn: 0.0205095\ttotal: 1.14s\tremaining: 1.21s\n",
      "484:\tlearn: 0.0205092\ttotal: 1.14s\tremaining: 1.21s\n",
      "485:\tlearn: 0.0205092\ttotal: 1.14s\tremaining: 1.21s\n",
      "486:\tlearn: 0.0205090\ttotal: 1.14s\tremaining: 1.2s\n",
      "487:\tlearn: 0.0205087\ttotal: 1.14s\tremaining: 1.2s\n",
      "488:\tlearn: 0.0205086\ttotal: 1.15s\tremaining: 1.2s\n",
      "489:\tlearn: 0.0205084\ttotal: 1.15s\tremaining: 1.19s\n",
      "490:\tlearn: 0.0205083\ttotal: 1.15s\tremaining: 1.19s\n",
      "491:\tlearn: 0.0205082\ttotal: 1.15s\tremaining: 1.19s\n",
      "492:\tlearn: 0.0205079\ttotal: 1.15s\tremaining: 1.19s\n",
      "493:\tlearn: 0.0205078\ttotal: 1.16s\tremaining: 1.18s\n",
      "494:\tlearn: 0.0205077\ttotal: 1.16s\tremaining: 1.18s\n",
      "495:\tlearn: 0.0205074\ttotal: 1.16s\tremaining: 1.18s\n",
      "496:\tlearn: 0.0205073\ttotal: 1.16s\tremaining: 1.18s\n",
      "497:\tlearn: 0.0205073\ttotal: 1.16s\tremaining: 1.17s\n",
      "498:\tlearn: 0.0205073\ttotal: 1.17s\tremaining: 1.17s\n",
      "499:\tlearn: 0.0205024\ttotal: 1.17s\tremaining: 1.17s\n",
      "500:\tlearn: 0.0205021\ttotal: 1.17s\tremaining: 1.17s\n",
      "501:\tlearn: 0.0205016\ttotal: 1.17s\tremaining: 1.16s\n",
      "502:\tlearn: 0.0204726\ttotal: 1.18s\tremaining: 1.16s\n",
      "503:\tlearn: 0.0204724\ttotal: 1.18s\tremaining: 1.16s\n",
      "504:\tlearn: 0.0204724\ttotal: 1.18s\tremaining: 1.16s\n",
      "505:\tlearn: 0.0204722\ttotal: 1.18s\tremaining: 1.15s\n",
      "506:\tlearn: 0.0204719\ttotal: 1.18s\tremaining: 1.15s\n",
      "507:\tlearn: 0.0204718\ttotal: 1.19s\tremaining: 1.15s\n",
      "508:\tlearn: 0.0204718\ttotal: 1.19s\tremaining: 1.15s\n",
      "509:\tlearn: 0.0204719\ttotal: 1.19s\tremaining: 1.14s\n",
      "510:\tlearn: 0.0204717\ttotal: 1.19s\tremaining: 1.14s\n",
      "511:\tlearn: 0.0204714\ttotal: 1.2s\tremaining: 1.14s\n",
      "512:\tlearn: 0.0204715\ttotal: 1.2s\tremaining: 1.14s\n",
      "513:\tlearn: 0.0204710\ttotal: 1.2s\tremaining: 1.14s\n",
      "514:\tlearn: 0.0204703\ttotal: 1.2s\tremaining: 1.13s\n",
      "515:\tlearn: 0.0204701\ttotal: 1.21s\tremaining: 1.13s\n",
      "516:\tlearn: 0.0204697\ttotal: 1.21s\tremaining: 1.13s\n",
      "517:\tlearn: 0.0204696\ttotal: 1.21s\tremaining: 1.13s\n",
      "518:\tlearn: 0.0204692\ttotal: 1.21s\tremaining: 1.12s\n",
      "519:\tlearn: 0.0204692\ttotal: 1.22s\tremaining: 1.12s\n",
      "520:\tlearn: 0.0204689\ttotal: 1.22s\tremaining: 1.12s\n",
      "521:\tlearn: 0.0204688\ttotal: 1.22s\tremaining: 1.11s\n",
      "522:\tlearn: 0.0204688\ttotal: 1.22s\tremaining: 1.11s\n",
      "523:\tlearn: 0.0204685\ttotal: 1.22s\tremaining: 1.11s\n",
      "524:\tlearn: 0.0204682\ttotal: 1.23s\tremaining: 1.11s\n",
      "525:\tlearn: 0.0204680\ttotal: 1.23s\tremaining: 1.11s\n",
      "526:\tlearn: 0.0204679\ttotal: 1.23s\tremaining: 1.1s\n",
      "527:\tlearn: 0.0204679\ttotal: 1.23s\tremaining: 1.1s\n",
      "528:\tlearn: 0.0204677\ttotal: 1.24s\tremaining: 1.1s\n",
      "529:\tlearn: 0.0204675\ttotal: 1.24s\tremaining: 1.1s\n",
      "530:\tlearn: 0.0204671\ttotal: 1.24s\tremaining: 1.09s\n",
      "531:\tlearn: 0.0204671\ttotal: 1.24s\tremaining: 1.09s\n",
      "532:\tlearn: 0.0204669\ttotal: 1.24s\tremaining: 1.09s\n",
      "533:\tlearn: 0.0204669\ttotal: 1.25s\tremaining: 1.09s\n",
      "534:\tlearn: 0.0204669\ttotal: 1.25s\tremaining: 1.09s\n",
      "535:\tlearn: 0.0204667\ttotal: 1.25s\tremaining: 1.08s\n",
      "536:\tlearn: 0.0204664\ttotal: 1.25s\tremaining: 1.08s\n",
      "537:\tlearn: 0.0204663\ttotal: 1.25s\tremaining: 1.08s\n",
      "538:\tlearn: 0.0204658\ttotal: 1.26s\tremaining: 1.07s\n",
      "539:\tlearn: 0.0204657\ttotal: 1.26s\tremaining: 1.07s\n",
      "540:\tlearn: 0.0204657\ttotal: 1.26s\tremaining: 1.07s\n",
      "541:\tlearn: 0.0204386\ttotal: 1.26s\tremaining: 1.07s\n",
      "542:\tlearn: 0.0204384\ttotal: 1.27s\tremaining: 1.07s\n",
      "543:\tlearn: 0.0203648\ttotal: 1.27s\tremaining: 1.06s\n",
      "544:\tlearn: 0.0203642\ttotal: 1.27s\tremaining: 1.06s\n",
      "545:\tlearn: 0.0202531\ttotal: 1.27s\tremaining: 1.06s\n",
      "546:\tlearn: 0.0202526\ttotal: 1.27s\tremaining: 1.06s\n",
      "547:\tlearn: 0.0202526\ttotal: 1.28s\tremaining: 1.05s\n",
      "548:\tlearn: 0.0202522\ttotal: 1.28s\tremaining: 1.05s\n",
      "549:\tlearn: 0.0202521\ttotal: 1.28s\tremaining: 1.05s\n",
      "550:\tlearn: 0.0202520\ttotal: 1.28s\tremaining: 1.04s\n",
      "551:\tlearn: 0.0202518\ttotal: 1.28s\tremaining: 1.04s\n",
      "552:\tlearn: 0.0202517\ttotal: 1.29s\tremaining: 1.04s\n",
      "553:\tlearn: 0.0202515\ttotal: 1.29s\tremaining: 1.04s\n",
      "554:\tlearn: 0.0202514\ttotal: 1.29s\tremaining: 1.04s\n",
      "555:\tlearn: 0.0202512\ttotal: 1.3s\tremaining: 1.03s\n",
      "556:\tlearn: 0.0202508\ttotal: 1.3s\tremaining: 1.03s\n",
      "557:\tlearn: 0.0202506\ttotal: 1.3s\tremaining: 1.03s\n",
      "558:\tlearn: 0.0202505\ttotal: 1.3s\tremaining: 1.03s\n",
      "559:\tlearn: 0.0202505\ttotal: 1.3s\tremaining: 1.02s\n",
      "560:\tlearn: 0.0202500\ttotal: 1.3s\tremaining: 1.02s\n",
      "561:\tlearn: 0.0202500\ttotal: 1.31s\tremaining: 1.02s\n",
      "562:\tlearn: 0.0202499\ttotal: 1.31s\tremaining: 1.02s\n",
      "563:\tlearn: 0.0202497\ttotal: 1.31s\tremaining: 1.01s\n",
      "564:\tlearn: 0.0202484\ttotal: 1.31s\tremaining: 1.01s\n",
      "565:\tlearn: 0.0202483\ttotal: 1.32s\tremaining: 1.01s\n",
      "566:\tlearn: 0.0202480\ttotal: 1.32s\tremaining: 1.01s\n",
      "567:\tlearn: 0.0202480\ttotal: 1.32s\tremaining: 1s\n",
      "568:\tlearn: 0.0202477\ttotal: 1.32s\tremaining: 1s\n",
      "569:\tlearn: 0.0202477\ttotal: 1.32s\tremaining: 999ms\n",
      "570:\tlearn: 0.0202477\ttotal: 1.33s\tremaining: 997ms\n",
      "571:\tlearn: 0.0202475\ttotal: 1.33s\tremaining: 995ms\n",
      "572:\tlearn: 0.0202474\ttotal: 1.33s\tremaining: 992ms\n",
      "573:\tlearn: 0.0202474\ttotal: 1.33s\tremaining: 990ms\n",
      "574:\tlearn: 0.0202473\ttotal: 1.33s\tremaining: 987ms\n",
      "575:\tlearn: 0.0202472\ttotal: 1.34s\tremaining: 985ms\n",
      "576:\tlearn: 0.0202471\ttotal: 1.34s\tremaining: 982ms\n",
      "577:\tlearn: 0.0202471\ttotal: 1.34s\tremaining: 979ms\n",
      "578:\tlearn: 0.0202468\ttotal: 1.34s\tremaining: 977ms\n",
      "579:\tlearn: 0.0202467\ttotal: 1.34s\tremaining: 974ms\n",
      "580:\tlearn: 0.0202460\ttotal: 1.35s\tremaining: 972ms\n",
      "581:\tlearn: 0.0202459\ttotal: 1.35s\tremaining: 970ms\n",
      "582:\tlearn: 0.0202457\ttotal: 1.35s\tremaining: 968ms\n",
      "583:\tlearn: 0.0202457\ttotal: 1.35s\tremaining: 965ms\n",
      "584:\tlearn: 0.0202456\ttotal: 1.36s\tremaining: 963ms\n",
      "585:\tlearn: 0.0202456\ttotal: 1.36s\tremaining: 960ms\n",
      "586:\tlearn: 0.0202456\ttotal: 1.36s\tremaining: 958ms\n",
      "587:\tlearn: 0.0202455\ttotal: 1.36s\tremaining: 956ms\n",
      "588:\tlearn: 0.0202454\ttotal: 1.37s\tremaining: 953ms\n",
      "589:\tlearn: 0.0202451\ttotal: 1.37s\tremaining: 951ms\n",
      "590:\tlearn: 0.0202447\ttotal: 1.37s\tremaining: 948ms\n",
      "591:\tlearn: 0.0202447\ttotal: 1.37s\tremaining: 945ms\n",
      "592:\tlearn: 0.0202445\ttotal: 1.38s\tremaining: 944ms\n",
      "593:\tlearn: 0.0202443\ttotal: 1.38s\tremaining: 942ms\n",
      "594:\tlearn: 0.0202443\ttotal: 1.38s\tremaining: 939ms\n",
      "595:\tlearn: 0.0202429\ttotal: 1.38s\tremaining: 936ms\n",
      "596:\tlearn: 0.0202428\ttotal: 1.38s\tremaining: 934ms\n",
      "597:\tlearn: 0.0202424\ttotal: 1.39s\tremaining: 932ms\n",
      "598:\tlearn: 0.0202423\ttotal: 1.39s\tremaining: 929ms\n",
      "599:\tlearn: 0.0202419\ttotal: 1.39s\tremaining: 927ms\n",
      "600:\tlearn: 0.0202419\ttotal: 1.39s\tremaining: 924ms\n",
      "601:\tlearn: 0.0202410\ttotal: 1.39s\tremaining: 922ms\n",
      "602:\tlearn: 0.0202409\ttotal: 1.4s\tremaining: 921ms\n",
      "603:\tlearn: 0.0202408\ttotal: 1.4s\tremaining: 919ms\n",
      "604:\tlearn: 0.0202408\ttotal: 1.4s\tremaining: 917ms\n",
      "605:\tlearn: 0.0202407\ttotal: 1.41s\tremaining: 914ms\n",
      "606:\tlearn: 0.0202404\ttotal: 1.41s\tremaining: 911ms\n",
      "607:\tlearn: 0.0202402\ttotal: 1.41s\tremaining: 911ms\n",
      "608:\tlearn: 0.0202402\ttotal: 1.42s\tremaining: 909ms\n",
      "609:\tlearn: 0.0202402\ttotal: 1.42s\tremaining: 907ms\n",
      "610:\tlearn: 0.0202400\ttotal: 1.42s\tremaining: 905ms\n",
      "611:\tlearn: 0.0202399\ttotal: 1.42s\tremaining: 903ms\n",
      "612:\tlearn: 0.0202397\ttotal: 1.43s\tremaining: 901ms\n",
      "613:\tlearn: 0.0202396\ttotal: 1.43s\tremaining: 898ms\n",
      "614:\tlearn: 0.0202396\ttotal: 1.43s\tremaining: 895ms\n",
      "615:\tlearn: 0.0202394\ttotal: 1.43s\tremaining: 893ms\n",
      "616:\tlearn: 0.0202393\ttotal: 1.43s\tremaining: 890ms\n",
      "617:\tlearn: 0.0202392\ttotal: 1.44s\tremaining: 888ms\n",
      "618:\tlearn: 0.0202391\ttotal: 1.44s\tremaining: 885ms\n",
      "619:\tlearn: 0.0202389\ttotal: 1.44s\tremaining: 883ms\n",
      "620:\tlearn: 0.0202389\ttotal: 1.44s\tremaining: 881ms\n",
      "621:\tlearn: 0.0202387\ttotal: 1.44s\tremaining: 878ms\n",
      "622:\tlearn: 0.0202384\ttotal: 1.45s\tremaining: 875ms\n",
      "623:\tlearn: 0.0202383\ttotal: 1.45s\tremaining: 873ms\n",
      "624:\tlearn: 0.0202382\ttotal: 1.45s\tremaining: 871ms\n",
      "625:\tlearn: 0.0202382\ttotal: 1.45s\tremaining: 868ms\n",
      "626:\tlearn: 0.0202381\ttotal: 1.45s\tremaining: 865ms\n",
      "627:\tlearn: 0.0202380\ttotal: 1.46s\tremaining: 863ms\n",
      "628:\tlearn: 0.0202380\ttotal: 1.46s\tremaining: 860ms\n",
      "629:\tlearn: 0.0202377\ttotal: 1.46s\tremaining: 858ms\n",
      "630:\tlearn: 0.0202375\ttotal: 1.46s\tremaining: 856ms\n",
      "631:\tlearn: 0.0202374\ttotal: 1.47s\tremaining: 853ms\n",
      "632:\tlearn: 0.0202374\ttotal: 1.47s\tremaining: 851ms\n",
      "633:\tlearn: 0.0202373\ttotal: 1.47s\tremaining: 848ms\n",
      "634:\tlearn: 0.0202372\ttotal: 1.47s\tremaining: 845ms\n",
      "635:\tlearn: 0.0202372\ttotal: 1.47s\tremaining: 843ms\n",
      "636:\tlearn: 0.0202372\ttotal: 1.48s\tremaining: 841ms\n",
      "637:\tlearn: 0.0202371\ttotal: 1.48s\tremaining: 838ms\n",
      "638:\tlearn: 0.0202371\ttotal: 1.48s\tremaining: 836ms\n",
      "639:\tlearn: 0.0202369\ttotal: 1.48s\tremaining: 834ms\n",
      "640:\tlearn: 0.0202368\ttotal: 1.48s\tremaining: 831ms\n",
      "641:\tlearn: 0.0202368\ttotal: 1.49s\tremaining: 829ms\n",
      "642:\tlearn: 0.0202367\ttotal: 1.49s\tremaining: 827ms\n",
      "643:\tlearn: 0.0202347\ttotal: 1.49s\tremaining: 824ms\n",
      "644:\tlearn: 0.0202346\ttotal: 1.49s\tremaining: 821ms\n",
      "645:\tlearn: 0.0202345\ttotal: 1.49s\tremaining: 819ms\n",
      "646:\tlearn: 0.0202344\ttotal: 1.5s\tremaining: 816ms\n",
      "647:\tlearn: 0.0202343\ttotal: 1.5s\tremaining: 814ms\n",
      "648:\tlearn: 0.0202342\ttotal: 1.5s\tremaining: 811ms\n",
      "649:\tlearn: 0.0202340\ttotal: 1.5s\tremaining: 809ms\n",
      "650:\tlearn: 0.0202336\ttotal: 1.5s\tremaining: 807ms\n",
      "651:\tlearn: 0.0202322\ttotal: 1.51s\tremaining: 804ms\n",
      "652:\tlearn: 0.0202322\ttotal: 1.51s\tremaining: 802ms\n",
      "653:\tlearn: 0.0202322\ttotal: 1.51s\tremaining: 799ms\n",
      "654:\tlearn: 0.0202319\ttotal: 1.51s\tremaining: 797ms\n",
      "655:\tlearn: 0.0202318\ttotal: 1.51s\tremaining: 794ms\n",
      "656:\tlearn: 0.0202304\ttotal: 1.52s\tremaining: 792ms\n",
      "657:\tlearn: 0.0202304\ttotal: 1.52s\tremaining: 789ms\n",
      "658:\tlearn: 0.0202304\ttotal: 1.52s\tremaining: 787ms\n",
      "659:\tlearn: 0.0202303\ttotal: 1.52s\tremaining: 784ms\n",
      "660:\tlearn: 0.0202302\ttotal: 1.52s\tremaining: 782ms\n",
      "661:\tlearn: 0.0202300\ttotal: 1.53s\tremaining: 780ms\n",
      "662:\tlearn: 0.0202298\ttotal: 1.53s\tremaining: 777ms\n",
      "663:\tlearn: 0.0202286\ttotal: 1.53s\tremaining: 775ms\n",
      "664:\tlearn: 0.0202284\ttotal: 1.53s\tremaining: 772ms\n",
      "665:\tlearn: 0.0202282\ttotal: 1.53s\tremaining: 770ms\n",
      "666:\tlearn: 0.0202281\ttotal: 1.54s\tremaining: 767ms\n",
      "667:\tlearn: 0.0202278\ttotal: 1.54s\tremaining: 765ms\n",
      "668:\tlearn: 0.0202276\ttotal: 1.54s\tremaining: 763ms\n",
      "669:\tlearn: 0.0202275\ttotal: 1.54s\tremaining: 760ms\n",
      "670:\tlearn: 0.0202273\ttotal: 1.54s\tremaining: 758ms\n",
      "671:\tlearn: 0.0202271\ttotal: 1.55s\tremaining: 756ms\n",
      "672:\tlearn: 0.0202271\ttotal: 1.55s\tremaining: 754ms\n",
      "673:\tlearn: 0.0202270\ttotal: 1.55s\tremaining: 751ms\n",
      "674:\tlearn: 0.0202268\ttotal: 1.55s\tremaining: 749ms\n",
      "675:\tlearn: 0.0202266\ttotal: 1.56s\tremaining: 746ms\n",
      "676:\tlearn: 0.0202266\ttotal: 1.56s\tremaining: 744ms\n",
      "677:\tlearn: 0.0202262\ttotal: 1.56s\tremaining: 741ms\n",
      "678:\tlearn: 0.0202261\ttotal: 1.56s\tremaining: 740ms\n",
      "679:\tlearn: 0.0202257\ttotal: 1.57s\tremaining: 737ms\n",
      "680:\tlearn: 0.0202257\ttotal: 1.57s\tremaining: 735ms\n",
      "681:\tlearn: 0.0202255\ttotal: 1.57s\tremaining: 733ms\n",
      "682:\tlearn: 0.0202255\ttotal: 1.57s\tremaining: 730ms\n",
      "683:\tlearn: 0.0202255\ttotal: 1.58s\tremaining: 728ms\n",
      "684:\tlearn: 0.0202254\ttotal: 1.58s\tremaining: 726ms\n",
      "685:\tlearn: 0.0202253\ttotal: 1.58s\tremaining: 723ms\n",
      "686:\tlearn: 0.0202253\ttotal: 1.58s\tremaining: 720ms\n",
      "687:\tlearn: 0.0202251\ttotal: 1.58s\tremaining: 718ms\n",
      "688:\tlearn: 0.0202248\ttotal: 1.59s\tremaining: 716ms\n",
      "689:\tlearn: 0.0202248\ttotal: 1.59s\tremaining: 714ms\n",
      "690:\tlearn: 0.0202243\ttotal: 1.59s\tremaining: 712ms\n",
      "691:\tlearn: 0.0202243\ttotal: 1.59s\tremaining: 709ms\n",
      "692:\tlearn: 0.0202241\ttotal: 1.59s\tremaining: 706ms\n",
      "693:\tlearn: 0.0202240\ttotal: 1.6s\tremaining: 704ms\n",
      "694:\tlearn: 0.0202241\ttotal: 1.6s\tremaining: 701ms\n",
      "695:\tlearn: 0.0202241\ttotal: 1.6s\tremaining: 699ms\n",
      "696:\tlearn: 0.0202240\ttotal: 1.6s\tremaining: 697ms\n",
      "697:\tlearn: 0.0202240\ttotal: 1.6s\tremaining: 694ms\n",
      "698:\tlearn: 0.0202237\ttotal: 1.61s\tremaining: 692ms\n",
      "699:\tlearn: 0.0202235\ttotal: 1.61s\tremaining: 689ms\n",
      "700:\tlearn: 0.0202234\ttotal: 1.61s\tremaining: 687ms\n",
      "701:\tlearn: 0.0202234\ttotal: 1.61s\tremaining: 685ms\n",
      "702:\tlearn: 0.0202232\ttotal: 1.61s\tremaining: 682ms\n",
      "703:\tlearn: 0.0202230\ttotal: 1.62s\tremaining: 680ms\n",
      "704:\tlearn: 0.0202230\ttotal: 1.62s\tremaining: 677ms\n",
      "705:\tlearn: 0.0202227\ttotal: 1.62s\tremaining: 675ms\n",
      "706:\tlearn: 0.0202227\ttotal: 1.62s\tremaining: 672ms\n",
      "707:\tlearn: 0.0202227\ttotal: 1.62s\tremaining: 670ms\n",
      "708:\tlearn: 0.0202227\ttotal: 1.63s\tremaining: 668ms\n",
      "709:\tlearn: 0.0202227\ttotal: 1.63s\tremaining: 665ms\n",
      "710:\tlearn: 0.0202225\ttotal: 1.63s\tremaining: 663ms\n",
      "711:\tlearn: 0.0202219\ttotal: 1.63s\tremaining: 660ms\n",
      "712:\tlearn: 0.0202219\ttotal: 1.63s\tremaining: 658ms\n",
      "713:\tlearn: 0.0202218\ttotal: 1.64s\tremaining: 655ms\n",
      "714:\tlearn: 0.0202217\ttotal: 1.64s\tremaining: 653ms\n",
      "715:\tlearn: 0.0202217\ttotal: 1.64s\tremaining: 650ms\n",
      "716:\tlearn: 0.0202218\ttotal: 1.64s\tremaining: 648ms\n",
      "717:\tlearn: 0.0202214\ttotal: 1.64s\tremaining: 645ms\n",
      "718:\tlearn: 0.0202212\ttotal: 1.65s\tremaining: 643ms\n",
      "719:\tlearn: 0.0202212\ttotal: 1.65s\tremaining: 641ms\n",
      "720:\tlearn: 0.0202208\ttotal: 1.65s\tremaining: 638ms\n",
      "721:\tlearn: 0.0202207\ttotal: 1.65s\tremaining: 636ms\n",
      "722:\tlearn: 0.0202205\ttotal: 1.65s\tremaining: 633ms\n",
      "723:\tlearn: 0.0202203\ttotal: 1.65s\tremaining: 631ms\n",
      "724:\tlearn: 0.0202202\ttotal: 1.66s\tremaining: 628ms\n",
      "725:\tlearn: 0.0202202\ttotal: 1.66s\tremaining: 626ms\n",
      "726:\tlearn: 0.0202201\ttotal: 1.66s\tremaining: 624ms\n",
      "727:\tlearn: 0.0202199\ttotal: 1.66s\tremaining: 621ms\n",
      "728:\tlearn: 0.0202197\ttotal: 1.67s\tremaining: 619ms\n",
      "729:\tlearn: 0.0202197\ttotal: 1.67s\tremaining: 617ms\n",
      "730:\tlearn: 0.0202196\ttotal: 1.67s\tremaining: 614ms\n",
      "731:\tlearn: 0.0202196\ttotal: 1.67s\tremaining: 612ms\n",
      "732:\tlearn: 0.0202195\ttotal: 1.67s\tremaining: 610ms\n",
      "733:\tlearn: 0.0202194\ttotal: 1.68s\tremaining: 607ms\n",
      "734:\tlearn: 0.0202194\ttotal: 1.68s\tremaining: 605ms\n",
      "735:\tlearn: 0.0202193\ttotal: 1.68s\tremaining: 602ms\n",
      "736:\tlearn: 0.0202193\ttotal: 1.68s\tremaining: 600ms\n",
      "737:\tlearn: 0.0202192\ttotal: 1.68s\tremaining: 598ms\n",
      "738:\tlearn: 0.0202191\ttotal: 1.69s\tremaining: 595ms\n",
      "739:\tlearn: 0.0202191\ttotal: 1.69s\tremaining: 593ms\n",
      "740:\tlearn: 0.0202186\ttotal: 1.69s\tremaining: 591ms\n",
      "741:\tlearn: 0.0202185\ttotal: 1.69s\tremaining: 588ms\n",
      "742:\tlearn: 0.0202185\ttotal: 1.69s\tremaining: 586ms\n",
      "743:\tlearn: 0.0202184\ttotal: 1.7s\tremaining: 583ms\n",
      "744:\tlearn: 0.0202183\ttotal: 1.7s\tremaining: 581ms\n",
      "745:\tlearn: 0.0202182\ttotal: 1.7s\tremaining: 579ms\n",
      "746:\tlearn: 0.0202182\ttotal: 1.7s\tremaining: 576ms\n",
      "747:\tlearn: 0.0202181\ttotal: 1.7s\tremaining: 574ms\n",
      "748:\tlearn: 0.0202179\ttotal: 1.71s\tremaining: 572ms\n",
      "749:\tlearn: 0.0202180\ttotal: 1.71s\tremaining: 569ms\n",
      "750:\tlearn: 0.0202179\ttotal: 1.71s\tremaining: 567ms\n",
      "751:\tlearn: 0.0202178\ttotal: 1.71s\tremaining: 565ms\n",
      "752:\tlearn: 0.0202177\ttotal: 1.71s\tremaining: 562ms\n",
      "753:\tlearn: 0.0202176\ttotal: 1.72s\tremaining: 560ms\n",
      "754:\tlearn: 0.0202176\ttotal: 1.72s\tremaining: 558ms\n",
      "755:\tlearn: 0.0202175\ttotal: 1.72s\tremaining: 555ms\n",
      "756:\tlearn: 0.0202175\ttotal: 1.72s\tremaining: 553ms\n",
      "757:\tlearn: 0.0202175\ttotal: 1.72s\tremaining: 550ms\n",
      "758:\tlearn: 0.0202173\ttotal: 1.73s\tremaining: 548ms\n",
      "759:\tlearn: 0.0202172\ttotal: 1.73s\tremaining: 546ms\n",
      "760:\tlearn: 0.0202172\ttotal: 1.73s\tremaining: 544ms\n",
      "761:\tlearn: 0.0202172\ttotal: 1.73s\tremaining: 541ms\n",
      "762:\tlearn: 0.0202171\ttotal: 1.73s\tremaining: 539ms\n",
      "763:\tlearn: 0.0202170\ttotal: 1.74s\tremaining: 537ms\n",
      "764:\tlearn: 0.0202170\ttotal: 1.74s\tremaining: 534ms\n",
      "765:\tlearn: 0.0202169\ttotal: 1.74s\tremaining: 532ms\n",
      "766:\tlearn: 0.0202167\ttotal: 1.74s\tremaining: 530ms\n",
      "767:\tlearn: 0.0202168\ttotal: 1.74s\tremaining: 527ms\n",
      "768:\tlearn: 0.0202165\ttotal: 1.75s\tremaining: 525ms\n",
      "769:\tlearn: 0.0202164\ttotal: 1.75s\tremaining: 522ms\n",
      "770:\tlearn: 0.0202163\ttotal: 1.75s\tremaining: 520ms\n",
      "771:\tlearn: 0.0202162\ttotal: 1.75s\tremaining: 518ms\n",
      "772:\tlearn: 0.0202159\ttotal: 1.76s\tremaining: 516ms\n",
      "773:\tlearn: 0.0202158\ttotal: 1.76s\tremaining: 513ms\n",
      "774:\tlearn: 0.0202158\ttotal: 1.76s\tremaining: 511ms\n",
      "775:\tlearn: 0.0202156\ttotal: 1.76s\tremaining: 509ms\n",
      "776:\tlearn: 0.0202154\ttotal: 1.76s\tremaining: 507ms\n",
      "777:\tlearn: 0.0202154\ttotal: 1.77s\tremaining: 504ms\n",
      "778:\tlearn: 0.0202153\ttotal: 1.77s\tremaining: 502ms\n",
      "779:\tlearn: 0.0202153\ttotal: 1.77s\tremaining: 500ms\n",
      "780:\tlearn: 0.0202152\ttotal: 1.77s\tremaining: 498ms\n",
      "781:\tlearn: 0.0202150\ttotal: 1.78s\tremaining: 496ms\n",
      "782:\tlearn: 0.0202148\ttotal: 1.78s\tremaining: 493ms\n",
      "783:\tlearn: 0.0202142\ttotal: 1.78s\tremaining: 491ms\n",
      "784:\tlearn: 0.0202141\ttotal: 1.78s\tremaining: 488ms\n",
      "785:\tlearn: 0.0202140\ttotal: 1.78s\tremaining: 486ms\n",
      "786:\tlearn: 0.0202139\ttotal: 1.79s\tremaining: 484ms\n",
      "787:\tlearn: 0.0202138\ttotal: 1.79s\tremaining: 481ms\n",
      "788:\tlearn: 0.0202139\ttotal: 1.79s\tremaining: 479ms\n",
      "789:\tlearn: 0.0202135\ttotal: 1.79s\tremaining: 477ms\n",
      "790:\tlearn: 0.0202135\ttotal: 1.79s\tremaining: 475ms\n",
      "791:\tlearn: 0.0202132\ttotal: 1.8s\tremaining: 473ms\n",
      "792:\tlearn: 0.0202130\ttotal: 1.8s\tremaining: 470ms\n",
      "793:\tlearn: 0.0202126\ttotal: 1.8s\tremaining: 468ms\n",
      "794:\tlearn: 0.0202126\ttotal: 1.8s\tremaining: 466ms\n",
      "795:\tlearn: 0.0202125\ttotal: 1.81s\tremaining: 463ms\n",
      "796:\tlearn: 0.0202125\ttotal: 1.81s\tremaining: 461ms\n",
      "797:\tlearn: 0.0202123\ttotal: 1.81s\tremaining: 459ms\n",
      "798:\tlearn: 0.0202123\ttotal: 1.81s\tremaining: 456ms\n",
      "799:\tlearn: 0.0202115\ttotal: 1.82s\tremaining: 454ms\n",
      "800:\tlearn: 0.0202114\ttotal: 1.82s\tremaining: 452ms\n",
      "801:\tlearn: 0.0202113\ttotal: 1.82s\tremaining: 450ms\n",
      "802:\tlearn: 0.0202113\ttotal: 1.82s\tremaining: 447ms\n",
      "803:\tlearn: 0.0202113\ttotal: 1.82s\tremaining: 445ms\n",
      "804:\tlearn: 0.0202113\ttotal: 1.83s\tremaining: 443ms\n",
      "805:\tlearn: 0.0202111\ttotal: 1.83s\tremaining: 440ms\n",
      "806:\tlearn: 0.0202111\ttotal: 1.83s\tremaining: 438ms\n",
      "807:\tlearn: 0.0202111\ttotal: 1.83s\tremaining: 435ms\n",
      "808:\tlearn: 0.0202108\ttotal: 1.83s\tremaining: 433ms\n",
      "809:\tlearn: 0.0202107\ttotal: 1.84s\tremaining: 431ms\n",
      "810:\tlearn: 0.0202107\ttotal: 1.84s\tremaining: 429ms\n",
      "811:\tlearn: 0.0202106\ttotal: 1.84s\tremaining: 426ms\n",
      "812:\tlearn: 0.0202104\ttotal: 1.84s\tremaining: 424ms\n",
      "813:\tlearn: 0.0202104\ttotal: 1.84s\tremaining: 422ms\n",
      "814:\tlearn: 0.0202103\ttotal: 1.85s\tremaining: 419ms\n",
      "815:\tlearn: 0.0202103\ttotal: 1.85s\tremaining: 417ms\n",
      "816:\tlearn: 0.0202101\ttotal: 1.85s\tremaining: 415ms\n",
      "817:\tlearn: 0.0202100\ttotal: 1.85s\tremaining: 412ms\n",
      "818:\tlearn: 0.0202098\ttotal: 1.85s\tremaining: 410ms\n",
      "819:\tlearn: 0.0202096\ttotal: 1.86s\tremaining: 408ms\n",
      "820:\tlearn: 0.0202095\ttotal: 1.86s\tremaining: 405ms\n",
      "821:\tlearn: 0.0202095\ttotal: 1.86s\tremaining: 403ms\n",
      "822:\tlearn: 0.0202095\ttotal: 1.86s\tremaining: 401ms\n",
      "823:\tlearn: 0.0202094\ttotal: 1.87s\tremaining: 399ms\n",
      "824:\tlearn: 0.0202093\ttotal: 1.87s\tremaining: 396ms\n",
      "825:\tlearn: 0.0202092\ttotal: 1.87s\tremaining: 394ms\n",
      "826:\tlearn: 0.0202091\ttotal: 1.87s\tremaining: 391ms\n",
      "827:\tlearn: 0.0202091\ttotal: 1.87s\tremaining: 389ms\n",
      "828:\tlearn: 0.0202085\ttotal: 1.88s\tremaining: 387ms\n",
      "829:\tlearn: 0.0202083\ttotal: 1.88s\tremaining: 385ms\n",
      "830:\tlearn: 0.0202080\ttotal: 1.88s\tremaining: 382ms\n",
      "831:\tlearn: 0.0202074\ttotal: 1.88s\tremaining: 380ms\n",
      "832:\tlearn: 0.0202073\ttotal: 1.88s\tremaining: 378ms\n",
      "833:\tlearn: 0.0202072\ttotal: 1.89s\tremaining: 375ms\n",
      "834:\tlearn: 0.0202069\ttotal: 1.89s\tremaining: 373ms\n",
      "835:\tlearn: 0.0202067\ttotal: 1.89s\tremaining: 371ms\n",
      "836:\tlearn: 0.0202065\ttotal: 1.89s\tremaining: 368ms\n",
      "837:\tlearn: 0.0202063\ttotal: 1.89s\tremaining: 366ms\n",
      "838:\tlearn: 0.0202062\ttotal: 1.9s\tremaining: 364ms\n",
      "839:\tlearn: 0.0202062\ttotal: 1.9s\tremaining: 361ms\n",
      "840:\tlearn: 0.0202060\ttotal: 1.9s\tremaining: 359ms\n",
      "841:\tlearn: 0.0202060\ttotal: 1.9s\tremaining: 357ms\n",
      "842:\tlearn: 0.0202058\ttotal: 1.9s\tremaining: 355ms\n",
      "843:\tlearn: 0.0202059\ttotal: 1.91s\tremaining: 352ms\n",
      "844:\tlearn: 0.0202057\ttotal: 1.91s\tremaining: 350ms\n",
      "845:\tlearn: 0.0202056\ttotal: 1.91s\tremaining: 348ms\n",
      "846:\tlearn: 0.0202052\ttotal: 1.91s\tremaining: 345ms\n",
      "847:\tlearn: 0.0202051\ttotal: 1.91s\tremaining: 343ms\n",
      "848:\tlearn: 0.0202049\ttotal: 1.92s\tremaining: 341ms\n",
      "849:\tlearn: 0.0202049\ttotal: 1.92s\tremaining: 338ms\n",
      "850:\tlearn: 0.0202049\ttotal: 1.92s\tremaining: 336ms\n",
      "851:\tlearn: 0.0202040\ttotal: 1.92s\tremaining: 334ms\n",
      "852:\tlearn: 0.0202040\ttotal: 1.92s\tremaining: 331ms\n",
      "853:\tlearn: 0.0202036\ttotal: 1.93s\tremaining: 329ms\n",
      "854:\tlearn: 0.0202033\ttotal: 1.93s\tremaining: 327ms\n",
      "855:\tlearn: 0.0202033\ttotal: 1.93s\tremaining: 325ms\n",
      "856:\tlearn: 0.0202031\ttotal: 1.93s\tremaining: 323ms\n",
      "857:\tlearn: 0.0202030\ttotal: 1.93s\tremaining: 320ms\n",
      "858:\tlearn: 0.0202030\ttotal: 1.94s\tremaining: 318ms\n",
      "859:\tlearn: 0.0202029\ttotal: 1.94s\tremaining: 316ms\n",
      "860:\tlearn: 0.0202026\ttotal: 1.94s\tremaining: 313ms\n",
      "861:\tlearn: 0.0202025\ttotal: 1.94s\tremaining: 311ms\n",
      "862:\tlearn: 0.0202023\ttotal: 1.95s\tremaining: 309ms\n",
      "863:\tlearn: 0.0202023\ttotal: 1.95s\tremaining: 307ms\n",
      "864:\tlearn: 0.0202020\ttotal: 1.95s\tremaining: 304ms\n",
      "865:\tlearn: 0.0202020\ttotal: 1.95s\tremaining: 302ms\n",
      "866:\tlearn: 0.0202018\ttotal: 1.96s\tremaining: 300ms\n",
      "867:\tlearn: 0.0202017\ttotal: 1.96s\tremaining: 298ms\n",
      "868:\tlearn: 0.0202016\ttotal: 1.96s\tremaining: 295ms\n",
      "869:\tlearn: 0.0202015\ttotal: 1.96s\tremaining: 293ms\n",
      "870:\tlearn: 0.0202014\ttotal: 1.96s\tremaining: 291ms\n",
      "871:\tlearn: 0.0202014\ttotal: 1.97s\tremaining: 289ms\n",
      "872:\tlearn: 0.0202012\ttotal: 1.97s\tremaining: 286ms\n",
      "873:\tlearn: 0.0202012\ttotal: 1.97s\tremaining: 284ms\n",
      "874:\tlearn: 0.0202009\ttotal: 1.97s\tremaining: 282ms\n",
      "875:\tlearn: 0.0202009\ttotal: 1.98s\tremaining: 280ms\n",
      "876:\tlearn: 0.0202007\ttotal: 1.98s\tremaining: 277ms\n",
      "877:\tlearn: 0.0202006\ttotal: 1.98s\tremaining: 275ms\n",
      "878:\tlearn: 0.0202006\ttotal: 1.98s\tremaining: 273ms\n",
      "879:\tlearn: 0.0202005\ttotal: 1.98s\tremaining: 270ms\n",
      "880:\tlearn: 0.0202004\ttotal: 1.99s\tremaining: 268ms\n",
      "881:\tlearn: 0.0202001\ttotal: 1.99s\tremaining: 266ms\n",
      "882:\tlearn: 0.0201999\ttotal: 1.99s\tremaining: 264ms\n",
      "883:\tlearn: 0.0201999\ttotal: 1.99s\tremaining: 261ms\n",
      "884:\tlearn: 0.0201998\ttotal: 2s\tremaining: 259ms\n",
      "885:\tlearn: 0.0201996\ttotal: 2s\tremaining: 257ms\n",
      "886:\tlearn: 0.0201995\ttotal: 2s\tremaining: 255ms\n",
      "887:\tlearn: 0.0201995\ttotal: 2s\tremaining: 252ms\n",
      "888:\tlearn: 0.0201994\ttotal: 2s\tremaining: 250ms\n",
      "889:\tlearn: 0.0201993\ttotal: 2s\tremaining: 248ms\n",
      "890:\tlearn: 0.0201992\ttotal: 2.01s\tremaining: 246ms\n",
      "891:\tlearn: 0.0201992\ttotal: 2.01s\tremaining: 243ms\n",
      "892:\tlearn: 0.0201991\ttotal: 2.01s\tremaining: 241ms\n",
      "893:\tlearn: 0.0201990\ttotal: 2.01s\tremaining: 239ms\n",
      "894:\tlearn: 0.0201990\ttotal: 2.02s\tremaining: 236ms\n",
      "895:\tlearn: 0.0201990\ttotal: 2.02s\tremaining: 234ms\n",
      "896:\tlearn: 0.0201989\ttotal: 2.02s\tremaining: 232ms\n",
      "897:\tlearn: 0.0201987\ttotal: 2.02s\tremaining: 230ms\n",
      "898:\tlearn: 0.0201985\ttotal: 2.02s\tremaining: 227ms\n",
      "899:\tlearn: 0.0201983\ttotal: 2.02s\tremaining: 225ms\n",
      "900:\tlearn: 0.0201982\ttotal: 2.03s\tremaining: 223ms\n",
      "901:\tlearn: 0.0201979\ttotal: 2.03s\tremaining: 221ms\n",
      "902:\tlearn: 0.0201975\ttotal: 2.03s\tremaining: 218ms\n",
      "903:\tlearn: 0.0201975\ttotal: 2.03s\tremaining: 216ms\n",
      "904:\tlearn: 0.0201974\ttotal: 2.04s\tremaining: 214ms\n",
      "905:\tlearn: 0.0201973\ttotal: 2.04s\tremaining: 211ms\n",
      "906:\tlearn: 0.0201973\ttotal: 2.04s\tremaining: 209ms\n",
      "907:\tlearn: 0.0201970\ttotal: 2.04s\tremaining: 207ms\n",
      "908:\tlearn: 0.0201970\ttotal: 2.04s\tremaining: 205ms\n",
      "909:\tlearn: 0.0201969\ttotal: 2.05s\tremaining: 202ms\n",
      "910:\tlearn: 0.0201969\ttotal: 2.05s\tremaining: 200ms\n",
      "911:\tlearn: 0.0201967\ttotal: 2.05s\tremaining: 198ms\n",
      "912:\tlearn: 0.0201965\ttotal: 2.05s\tremaining: 196ms\n",
      "913:\tlearn: 0.0201966\ttotal: 2.06s\tremaining: 193ms\n",
      "914:\tlearn: 0.0201965\ttotal: 2.06s\tremaining: 191ms\n",
      "915:\tlearn: 0.0201965\ttotal: 2.06s\tremaining: 189ms\n",
      "916:\tlearn: 0.0201963\ttotal: 2.06s\tremaining: 187ms\n",
      "917:\tlearn: 0.0201963\ttotal: 2.06s\tremaining: 184ms\n",
      "918:\tlearn: 0.0201960\ttotal: 2.06s\tremaining: 182ms\n",
      "919:\tlearn: 0.0201959\ttotal: 2.07s\tremaining: 180ms\n",
      "920:\tlearn: 0.0201958\ttotal: 2.07s\tremaining: 178ms\n",
      "921:\tlearn: 0.0201958\ttotal: 2.07s\tremaining: 175ms\n",
      "922:\tlearn: 0.0201957\ttotal: 2.07s\tremaining: 173ms\n",
      "923:\tlearn: 0.0201957\ttotal: 2.08s\tremaining: 171ms\n",
      "924:\tlearn: 0.0201957\ttotal: 2.08s\tremaining: 169ms\n",
      "925:\tlearn: 0.0201956\ttotal: 2.08s\tremaining: 166ms\n",
      "926:\tlearn: 0.0201956\ttotal: 2.08s\tremaining: 164ms\n",
      "927:\tlearn: 0.0201955\ttotal: 2.08s\tremaining: 162ms\n",
      "928:\tlearn: 0.0201953\ttotal: 2.09s\tremaining: 159ms\n",
      "929:\tlearn: 0.0201953\ttotal: 2.09s\tremaining: 157ms\n",
      "930:\tlearn: 0.0201952\ttotal: 2.09s\tremaining: 155ms\n",
      "931:\tlearn: 0.0201951\ttotal: 2.09s\tremaining: 153ms\n",
      "932:\tlearn: 0.0201948\ttotal: 2.1s\tremaining: 150ms\n",
      "933:\tlearn: 0.0201946\ttotal: 2.1s\tremaining: 148ms\n",
      "934:\tlearn: 0.0201947\ttotal: 2.1s\tremaining: 146ms\n",
      "935:\tlearn: 0.0201946\ttotal: 2.1s\tremaining: 144ms\n",
      "936:\tlearn: 0.0201943\ttotal: 2.1s\tremaining: 141ms\n",
      "937:\tlearn: 0.0201942\ttotal: 2.1s\tremaining: 139ms\n",
      "938:\tlearn: 0.0201941\ttotal: 2.11s\tremaining: 137ms\n",
      "939:\tlearn: 0.0201941\ttotal: 2.11s\tremaining: 135ms\n",
      "940:\tlearn: 0.0201939\ttotal: 2.11s\tremaining: 132ms\n",
      "941:\tlearn: 0.0201939\ttotal: 2.11s\tremaining: 130ms\n",
      "942:\tlearn: 0.0201939\ttotal: 2.12s\tremaining: 128ms\n",
      "943:\tlearn: 0.0201936\ttotal: 2.12s\tremaining: 126ms\n",
      "944:\tlearn: 0.0201935\ttotal: 2.12s\tremaining: 123ms\n",
      "945:\tlearn: 0.0201934\ttotal: 2.12s\tremaining: 121ms\n",
      "946:\tlearn: 0.0201933\ttotal: 2.12s\tremaining: 119ms\n",
      "947:\tlearn: 0.0201933\ttotal: 2.13s\tremaining: 117ms\n",
      "948:\tlearn: 0.0201931\ttotal: 2.13s\tremaining: 114ms\n",
      "949:\tlearn: 0.0201930\ttotal: 2.13s\tremaining: 112ms\n",
      "950:\tlearn: 0.0201929\ttotal: 2.13s\tremaining: 110ms\n",
      "951:\tlearn: 0.0201928\ttotal: 2.14s\tremaining: 108ms\n",
      "952:\tlearn: 0.0201922\ttotal: 2.14s\tremaining: 106ms\n",
      "953:\tlearn: 0.0201920\ttotal: 2.14s\tremaining: 103ms\n",
      "954:\tlearn: 0.0201917\ttotal: 2.14s\tremaining: 101ms\n",
      "955:\tlearn: 0.0201916\ttotal: 2.15s\tremaining: 98.8ms\n",
      "956:\tlearn: 0.0201915\ttotal: 2.15s\tremaining: 96.5ms\n",
      "957:\tlearn: 0.0201915\ttotal: 2.15s\tremaining: 94.3ms\n",
      "958:\tlearn: 0.0201914\ttotal: 2.15s\tremaining: 92.1ms\n",
      "959:\tlearn: 0.0201913\ttotal: 2.16s\tremaining: 89.9ms\n",
      "960:\tlearn: 0.0201911\ttotal: 2.16s\tremaining: 87.6ms\n",
      "961:\tlearn: 0.0201910\ttotal: 2.16s\tremaining: 85.4ms\n",
      "962:\tlearn: 0.0201909\ttotal: 2.16s\tremaining: 83.1ms\n",
      "963:\tlearn: 0.0201908\ttotal: 2.17s\tremaining: 80.9ms\n",
      "964:\tlearn: 0.0201908\ttotal: 2.17s\tremaining: 78.6ms\n",
      "965:\tlearn: 0.0201907\ttotal: 2.17s\tremaining: 76.4ms\n",
      "966:\tlearn: 0.0201907\ttotal: 2.17s\tremaining: 74.1ms\n",
      "967:\tlearn: 0.0201907\ttotal: 2.17s\tremaining: 71.9ms\n",
      "968:\tlearn: 0.0201907\ttotal: 2.18s\tremaining: 69.7ms\n",
      "969:\tlearn: 0.0201905\ttotal: 2.18s\tremaining: 67.4ms\n",
      "970:\tlearn: 0.0201905\ttotal: 2.18s\tremaining: 65.2ms\n",
      "971:\tlearn: 0.0201903\ttotal: 2.18s\tremaining: 62.9ms\n",
      "972:\tlearn: 0.0201903\ttotal: 2.19s\tremaining: 60.7ms\n",
      "973:\tlearn: 0.0201902\ttotal: 2.19s\tremaining: 58.4ms\n",
      "974:\tlearn: 0.0201902\ttotal: 2.19s\tremaining: 56.2ms\n",
      "975:\tlearn: 0.0201902\ttotal: 2.19s\tremaining: 53.9ms\n",
      "976:\tlearn: 0.0201900\ttotal: 2.19s\tremaining: 51.6ms\n",
      "977:\tlearn: 0.0201897\ttotal: 2.19s\tremaining: 49.4ms\n",
      "978:\tlearn: 0.0201895\ttotal: 2.2s\tremaining: 47.2ms\n",
      "979:\tlearn: 0.0201895\ttotal: 2.2s\tremaining: 44.9ms\n",
      "980:\tlearn: 0.0201894\ttotal: 2.2s\tremaining: 42.7ms\n",
      "981:\tlearn: 0.0201894\ttotal: 2.21s\tremaining: 40.4ms\n",
      "982:\tlearn: 0.0201894\ttotal: 2.21s\tremaining: 38.2ms\n",
      "983:\tlearn: 0.0201894\ttotal: 2.21s\tremaining: 35.9ms\n",
      "984:\tlearn: 0.0201893\ttotal: 2.21s\tremaining: 33.7ms\n",
      "985:\tlearn: 0.0201891\ttotal: 2.21s\tremaining: 31.4ms\n",
      "986:\tlearn: 0.0201889\ttotal: 2.21s\tremaining: 29.2ms\n",
      "987:\tlearn: 0.0201886\ttotal: 2.22s\tremaining: 26.9ms\n",
      "988:\tlearn: 0.0201887\ttotal: 2.22s\tremaining: 24.7ms\n",
      "989:\tlearn: 0.0201884\ttotal: 2.22s\tremaining: 22.4ms\n",
      "990:\tlearn: 0.0201882\ttotal: 2.22s\tremaining: 20.2ms\n",
      "991:\tlearn: 0.0201882\ttotal: 2.23s\tremaining: 17.9ms\n",
      "992:\tlearn: 0.0201877\ttotal: 2.23s\tremaining: 15.7ms\n",
      "993:\tlearn: 0.0201877\ttotal: 2.23s\tremaining: 13.5ms\n",
      "994:\tlearn: 0.0201876\ttotal: 2.23s\tremaining: 11.2ms\n",
      "995:\tlearn: 0.0201876\ttotal: 2.23s\tremaining: 8.97ms\n",
      "996:\tlearn: 0.0201873\ttotal: 2.23s\tremaining: 6.73ms\n",
      "997:\tlearn: 0.0201872\ttotal: 2.24s\tremaining: 4.48ms\n",
      "998:\tlearn: 0.0201872\ttotal: 2.24s\tremaining: 2.24ms\n",
      "999:\tlearn: 0.0201871\ttotal: 2.24s\tremaining: 0us\n"
     ]
    }
   ],
   "source": [
    "training_accuracy = []\n",
    "test_accuracy = []\n",
    "# try learning_rate from 0.1 to 0.9\n",
    "depth = range(1,10)\n",
    "for n in depth:\n",
    "    forest_test =  CatBoostClassifier(learning_rate = n*0.1)\n",
    "\n",
    "    forest_test.fit(X_train, y_train)\n",
    "    # record training set accuracy\n",
    "    training_accuracy.append(forest_test.score(X_train, y_train))\n",
    "    # record generalization accuracy\n",
    "    test_accuracy.append(forest_test.score(X_test, y_test))\n",
    "    "
   ]
  },
  {
   "cell_type": "code",
   "execution_count": 97,
   "id": "53d13ba8",
   "metadata": {},
   "outputs": [
    {
     "data": {
      "application/vnd.plotly.v1+json": {
       "config": {
        "plotlyServerURL": "https://plot.ly"
       },
       "data": [
        {
         "hovertemplate": "Accuracy Type=Training Accuracy<br>Learning Rate=%{x}<br>Accuracy=%{y}<extra></extra>",
         "legendgroup": "Training Accuracy",
         "line": {
          "color": "#636efa",
          "dash": "solid"
         },
         "marker": {
          "symbol": "circle"
         },
         "mode": "lines",
         "name": "Training Accuracy",
         "orientation": "v",
         "showlegend": true,
         "type": "scatter",
         "x": [
          1,
          2,
          3,
          4,
          5,
          6,
          7,
          8,
          9
         ],
         "xaxis": "x",
         "y": [
          0.9511478005201854,
          0.9607599231030194,
          0.9673187832183648,
          0.9708243808662219,
          0.9735383919484338,
          0.9761393192355535,
          0.9767047382110143,
          0.9799841682686871,
          0.9787402465226733
         ],
         "yaxis": "y"
        },
        {
         "hovertemplate": "Accuracy Type=Test Accuracy<br>Learning Rate=%{x}<br>Accuracy=%{y}<extra></extra>",
         "legendgroup": "Test Accuracy",
         "line": {
          "color": "#EF553B",
          "dash": "solid"
         },
         "marker": {
          "symbol": "circle"
         },
         "mode": "lines",
         "name": "Test Accuracy",
         "orientation": "v",
         "showlegend": true,
         "type": "scatter",
         "x": [
          1,
          2,
          3,
          4,
          5,
          6,
          7,
          8,
          9
         ],
         "xaxis": "x",
         "y": [
          0.9493441881501583,
          0.9570330167345092,
          0.9615558570782451,
          0.9647218453188603,
          0.9651741293532339,
          0.9647218453188603,
          0.9665309814563546,
          0.9629127091813658,
          0.9642695612844867
         ],
         "yaxis": "y"
        }
       ],
       "layout": {
        "legend": {
         "title": {
          "text": "Accuracy Type"
         },
         "tracegroupgap": 0
        },
        "template": {
         "data": {
          "bar": [
           {
            "error_x": {
             "color": "#2a3f5f"
            },
            "error_y": {
             "color": "#2a3f5f"
            },
            "marker": {
             "line": {
              "color": "#E5ECF6",
              "width": 0.5
             },
             "pattern": {
              "fillmode": "overlay",
              "size": 10,
              "solidity": 0.2
             }
            },
            "type": "bar"
           }
          ],
          "barpolar": [
           {
            "marker": {
             "line": {
              "color": "#E5ECF6",
              "width": 0.5
             },
             "pattern": {
              "fillmode": "overlay",
              "size": 10,
              "solidity": 0.2
             }
            },
            "type": "barpolar"
           }
          ],
          "carpet": [
           {
            "aaxis": {
             "endlinecolor": "#2a3f5f",
             "gridcolor": "white",
             "linecolor": "white",
             "minorgridcolor": "white",
             "startlinecolor": "#2a3f5f"
            },
            "baxis": {
             "endlinecolor": "#2a3f5f",
             "gridcolor": "white",
             "linecolor": "white",
             "minorgridcolor": "white",
             "startlinecolor": "#2a3f5f"
            },
            "type": "carpet"
           }
          ],
          "choropleth": [
           {
            "colorbar": {
             "outlinewidth": 0,
             "ticks": ""
            },
            "type": "choropleth"
           }
          ],
          "contour": [
           {
            "colorbar": {
             "outlinewidth": 0,
             "ticks": ""
            },
            "colorscale": [
             [
              0,
              "#0d0887"
             ],
             [
              0.1111111111111111,
              "#46039f"
             ],
             [
              0.2222222222222222,
              "#7201a8"
             ],
             [
              0.3333333333333333,
              "#9c179e"
             ],
             [
              0.4444444444444444,
              "#bd3786"
             ],
             [
              0.5555555555555556,
              "#d8576b"
             ],
             [
              0.6666666666666666,
              "#ed7953"
             ],
             [
              0.7777777777777778,
              "#fb9f3a"
             ],
             [
              0.8888888888888888,
              "#fdca26"
             ],
             [
              1,
              "#f0f921"
             ]
            ],
            "type": "contour"
           }
          ],
          "contourcarpet": [
           {
            "colorbar": {
             "outlinewidth": 0,
             "ticks": ""
            },
            "type": "contourcarpet"
           }
          ],
          "heatmap": [
           {
            "colorbar": {
             "outlinewidth": 0,
             "ticks": ""
            },
            "colorscale": [
             [
              0,
              "#0d0887"
             ],
             [
              0.1111111111111111,
              "#46039f"
             ],
             [
              0.2222222222222222,
              "#7201a8"
             ],
             [
              0.3333333333333333,
              "#9c179e"
             ],
             [
              0.4444444444444444,
              "#bd3786"
             ],
             [
              0.5555555555555556,
              "#d8576b"
             ],
             [
              0.6666666666666666,
              "#ed7953"
             ],
             [
              0.7777777777777778,
              "#fb9f3a"
             ],
             [
              0.8888888888888888,
              "#fdca26"
             ],
             [
              1,
              "#f0f921"
             ]
            ],
            "type": "heatmap"
           }
          ],
          "heatmapgl": [
           {
            "colorbar": {
             "outlinewidth": 0,
             "ticks": ""
            },
            "colorscale": [
             [
              0,
              "#0d0887"
             ],
             [
              0.1111111111111111,
              "#46039f"
             ],
             [
              0.2222222222222222,
              "#7201a8"
             ],
             [
              0.3333333333333333,
              "#9c179e"
             ],
             [
              0.4444444444444444,
              "#bd3786"
             ],
             [
              0.5555555555555556,
              "#d8576b"
             ],
             [
              0.6666666666666666,
              "#ed7953"
             ],
             [
              0.7777777777777778,
              "#fb9f3a"
             ],
             [
              0.8888888888888888,
              "#fdca26"
             ],
             [
              1,
              "#f0f921"
             ]
            ],
            "type": "heatmapgl"
           }
          ],
          "histogram": [
           {
            "marker": {
             "pattern": {
              "fillmode": "overlay",
              "size": 10,
              "solidity": 0.2
             }
            },
            "type": "histogram"
           }
          ],
          "histogram2d": [
           {
            "colorbar": {
             "outlinewidth": 0,
             "ticks": ""
            },
            "colorscale": [
             [
              0,
              "#0d0887"
             ],
             [
              0.1111111111111111,
              "#46039f"
             ],
             [
              0.2222222222222222,
              "#7201a8"
             ],
             [
              0.3333333333333333,
              "#9c179e"
             ],
             [
              0.4444444444444444,
              "#bd3786"
             ],
             [
              0.5555555555555556,
              "#d8576b"
             ],
             [
              0.6666666666666666,
              "#ed7953"
             ],
             [
              0.7777777777777778,
              "#fb9f3a"
             ],
             [
              0.8888888888888888,
              "#fdca26"
             ],
             [
              1,
              "#f0f921"
             ]
            ],
            "type": "histogram2d"
           }
          ],
          "histogram2dcontour": [
           {
            "colorbar": {
             "outlinewidth": 0,
             "ticks": ""
            },
            "colorscale": [
             [
              0,
              "#0d0887"
             ],
             [
              0.1111111111111111,
              "#46039f"
             ],
             [
              0.2222222222222222,
              "#7201a8"
             ],
             [
              0.3333333333333333,
              "#9c179e"
             ],
             [
              0.4444444444444444,
              "#bd3786"
             ],
             [
              0.5555555555555556,
              "#d8576b"
             ],
             [
              0.6666666666666666,
              "#ed7953"
             ],
             [
              0.7777777777777778,
              "#fb9f3a"
             ],
             [
              0.8888888888888888,
              "#fdca26"
             ],
             [
              1,
              "#f0f921"
             ]
            ],
            "type": "histogram2dcontour"
           }
          ],
          "mesh3d": [
           {
            "colorbar": {
             "outlinewidth": 0,
             "ticks": ""
            },
            "type": "mesh3d"
           }
          ],
          "parcoords": [
           {
            "line": {
             "colorbar": {
              "outlinewidth": 0,
              "ticks": ""
             }
            },
            "type": "parcoords"
           }
          ],
          "pie": [
           {
            "automargin": true,
            "type": "pie"
           }
          ],
          "scatter": [
           {
            "fillpattern": {
             "fillmode": "overlay",
             "size": 10,
             "solidity": 0.2
            },
            "type": "scatter"
           }
          ],
          "scatter3d": [
           {
            "line": {
             "colorbar": {
              "outlinewidth": 0,
              "ticks": ""
             }
            },
            "marker": {
             "colorbar": {
              "outlinewidth": 0,
              "ticks": ""
             }
            },
            "type": "scatter3d"
           }
          ],
          "scattercarpet": [
           {
            "marker": {
             "colorbar": {
              "outlinewidth": 0,
              "ticks": ""
             }
            },
            "type": "scattercarpet"
           }
          ],
          "scattergeo": [
           {
            "marker": {
             "colorbar": {
              "outlinewidth": 0,
              "ticks": ""
             }
            },
            "type": "scattergeo"
           }
          ],
          "scattergl": [
           {
            "marker": {
             "colorbar": {
              "outlinewidth": 0,
              "ticks": ""
             }
            },
            "type": "scattergl"
           }
          ],
          "scattermapbox": [
           {
            "marker": {
             "colorbar": {
              "outlinewidth": 0,
              "ticks": ""
             }
            },
            "type": "scattermapbox"
           }
          ],
          "scatterpolar": [
           {
            "marker": {
             "colorbar": {
              "outlinewidth": 0,
              "ticks": ""
             }
            },
            "type": "scatterpolar"
           }
          ],
          "scatterpolargl": [
           {
            "marker": {
             "colorbar": {
              "outlinewidth": 0,
              "ticks": ""
             }
            },
            "type": "scatterpolargl"
           }
          ],
          "scatterternary": [
           {
            "marker": {
             "colorbar": {
              "outlinewidth": 0,
              "ticks": ""
             }
            },
            "type": "scatterternary"
           }
          ],
          "surface": [
           {
            "colorbar": {
             "outlinewidth": 0,
             "ticks": ""
            },
            "colorscale": [
             [
              0,
              "#0d0887"
             ],
             [
              0.1111111111111111,
              "#46039f"
             ],
             [
              0.2222222222222222,
              "#7201a8"
             ],
             [
              0.3333333333333333,
              "#9c179e"
             ],
             [
              0.4444444444444444,
              "#bd3786"
             ],
             [
              0.5555555555555556,
              "#d8576b"
             ],
             [
              0.6666666666666666,
              "#ed7953"
             ],
             [
              0.7777777777777778,
              "#fb9f3a"
             ],
             [
              0.8888888888888888,
              "#fdca26"
             ],
             [
              1,
              "#f0f921"
             ]
            ],
            "type": "surface"
           }
          ],
          "table": [
           {
            "cells": {
             "fill": {
              "color": "#EBF0F8"
             },
             "line": {
              "color": "white"
             }
            },
            "header": {
             "fill": {
              "color": "#C8D4E3"
             },
             "line": {
              "color": "white"
             }
            },
            "type": "table"
           }
          ]
         },
         "layout": {
          "annotationdefaults": {
           "arrowcolor": "#2a3f5f",
           "arrowhead": 0,
           "arrowwidth": 1
          },
          "autotypenumbers": "strict",
          "coloraxis": {
           "colorbar": {
            "outlinewidth": 0,
            "ticks": ""
           }
          },
          "colorscale": {
           "diverging": [
            [
             0,
             "#8e0152"
            ],
            [
             0.1,
             "#c51b7d"
            ],
            [
             0.2,
             "#de77ae"
            ],
            [
             0.3,
             "#f1b6da"
            ],
            [
             0.4,
             "#fde0ef"
            ],
            [
             0.5,
             "#f7f7f7"
            ],
            [
             0.6,
             "#e6f5d0"
            ],
            [
             0.7,
             "#b8e186"
            ],
            [
             0.8,
             "#7fbc41"
            ],
            [
             0.9,
             "#4d9221"
            ],
            [
             1,
             "#276419"
            ]
           ],
           "sequential": [
            [
             0,
             "#0d0887"
            ],
            [
             0.1111111111111111,
             "#46039f"
            ],
            [
             0.2222222222222222,
             "#7201a8"
            ],
            [
             0.3333333333333333,
             "#9c179e"
            ],
            [
             0.4444444444444444,
             "#bd3786"
            ],
            [
             0.5555555555555556,
             "#d8576b"
            ],
            [
             0.6666666666666666,
             "#ed7953"
            ],
            [
             0.7777777777777778,
             "#fb9f3a"
            ],
            [
             0.8888888888888888,
             "#fdca26"
            ],
            [
             1,
             "#f0f921"
            ]
           ],
           "sequentialminus": [
            [
             0,
             "#0d0887"
            ],
            [
             0.1111111111111111,
             "#46039f"
            ],
            [
             0.2222222222222222,
             "#7201a8"
            ],
            [
             0.3333333333333333,
             "#9c179e"
            ],
            [
             0.4444444444444444,
             "#bd3786"
            ],
            [
             0.5555555555555556,
             "#d8576b"
            ],
            [
             0.6666666666666666,
             "#ed7953"
            ],
            [
             0.7777777777777778,
             "#fb9f3a"
            ],
            [
             0.8888888888888888,
             "#fdca26"
            ],
            [
             1,
             "#f0f921"
            ]
           ]
          },
          "colorway": [
           "#636efa",
           "#EF553B",
           "#00cc96",
           "#ab63fa",
           "#FFA15A",
           "#19d3f3",
           "#FF6692",
           "#B6E880",
           "#FF97FF",
           "#FECB52"
          ],
          "font": {
           "color": "#2a3f5f"
          },
          "geo": {
           "bgcolor": "white",
           "lakecolor": "white",
           "landcolor": "#E5ECF6",
           "showlakes": true,
           "showland": true,
           "subunitcolor": "white"
          },
          "hoverlabel": {
           "align": "left"
          },
          "hovermode": "closest",
          "mapbox": {
           "style": "light"
          },
          "paper_bgcolor": "white",
          "plot_bgcolor": "#E5ECF6",
          "polar": {
           "angularaxis": {
            "gridcolor": "white",
            "linecolor": "white",
            "ticks": ""
           },
           "bgcolor": "#E5ECF6",
           "radialaxis": {
            "gridcolor": "white",
            "linecolor": "white",
            "ticks": ""
           }
          },
          "scene": {
           "xaxis": {
            "backgroundcolor": "#E5ECF6",
            "gridcolor": "white",
            "gridwidth": 2,
            "linecolor": "white",
            "showbackground": true,
            "ticks": "",
            "zerolinecolor": "white"
           },
           "yaxis": {
            "backgroundcolor": "#E5ECF6",
            "gridcolor": "white",
            "gridwidth": 2,
            "linecolor": "white",
            "showbackground": true,
            "ticks": "",
            "zerolinecolor": "white"
           },
           "zaxis": {
            "backgroundcolor": "#E5ECF6",
            "gridcolor": "white",
            "gridwidth": 2,
            "linecolor": "white",
            "showbackground": true,
            "ticks": "",
            "zerolinecolor": "white"
           }
          },
          "shapedefaults": {
           "line": {
            "color": "#2a3f5f"
           }
          },
          "ternary": {
           "aaxis": {
            "gridcolor": "white",
            "linecolor": "white",
            "ticks": ""
           },
           "baxis": {
            "gridcolor": "white",
            "linecolor": "white",
            "ticks": ""
           },
           "bgcolor": "#E5ECF6",
           "caxis": {
            "gridcolor": "white",
            "linecolor": "white",
            "ticks": ""
           }
          },
          "title": {
           "x": 0.05
          },
          "xaxis": {
           "automargin": true,
           "gridcolor": "white",
           "linecolor": "white",
           "ticks": "",
           "title": {
            "standoff": 15
           },
           "zerolinecolor": "white",
           "zerolinewidth": 2
          },
          "yaxis": {
           "automargin": true,
           "gridcolor": "white",
           "linecolor": "white",
           "ticks": "",
           "title": {
            "standoff": 15
           },
           "zerolinecolor": "white",
           "zerolinewidth": 2
          }
         }
        },
        "title": {
         "text": "Training & Testing Accuracy vs Learning Rate"
        },
        "xaxis": {
         "anchor": "y",
         "domain": [
          0,
          1
         ],
         "title": {
          "text": "Learning Rate"
         }
        },
        "yaxis": {
         "anchor": "x",
         "domain": [
          0,
          1
         ],
         "title": {
          "text": "Accuracy"
         }
        }
       }
      }
     },
     "metadata": {},
     "output_type": "display_data"
    }
   ],
   "source": [
    "\n",
    "#plotting the training & testing accuracy for n_estimators from 1 to 50\n",
    "# plt.figure(figsize=None)\n",
    "# plt.plot(depth, training_accuracy, label=\"training accuracy\")\n",
    "# plt.plot(depth, test_accuracy, label=\"test accuracy\")\n",
    "# plt.ylabel(\"Accuracy\")  \n",
    "# plt.xlabel(\"learning_rate\")\n",
    "# plt.legend();\n",
    "\n",
    "# using plotly to plot the training & testing accuracy for n_estimators from 1 to 50\n",
    "# Create a DataFrame to hold training and testing accuracy values\n",
    "accuracy_df = pd.DataFrame({'Depth': depth, 'Training Accuracy': training_accuracy, 'Test Accuracy': test_accuracy})\n",
    "\n",
    "# Create an interactive line chart using Plotly Express\n",
    "fig = px.line(accuracy_df, x='Depth', y=['Training Accuracy', 'Test Accuracy'],\n",
    "              title=\"Training & Testing Accuracy vs Learning Rate\",\n",
    "              labels={'Depth': 'Learning Rate', 'value': 'Accuracy', 'variable': 'Accuracy Type'})\n",
    "\n",
    "# Show the interactive line chart\n",
    "fig.show()"
   ]
  },
  {
   "cell_type": "code",
   "execution_count": 53,
   "id": "080959b7",
   "metadata": {},
   "outputs": [],
   "source": [
    "#storing the results. The below mentioned order of parameter passing is important.\n",
    "\n",
    "storeResults('CatBoost Classifier',acc_test_cat,f1_score_test_cat,\n",
    "             recall_score_train_cat,precision_score_train_cat)"
   ]
  },
  {
   "cell_type": "markdown",
   "id": "c87f8a55",
   "metadata": {},
   "source": [
    "## 5.10. Multi-layer Perceptron classifier"
   ]
  },
  {
   "cell_type": "code",
   "execution_count": 54,
   "id": "5bfc3ea7",
   "metadata": {},
   "outputs": [
    {
     "data": {
      "text/html": [
       "<style>#sk-container-id-8 {color: black;background-color: white;}#sk-container-id-8 pre{padding: 0;}#sk-container-id-8 div.sk-toggleable {background-color: white;}#sk-container-id-8 label.sk-toggleable__label {cursor: pointer;display: block;width: 100%;margin-bottom: 0;padding: 0.3em;box-sizing: border-box;text-align: center;}#sk-container-id-8 label.sk-toggleable__label-arrow:before {content: \"▸\";float: left;margin-right: 0.25em;color: #696969;}#sk-container-id-8 label.sk-toggleable__label-arrow:hover:before {color: black;}#sk-container-id-8 div.sk-estimator:hover label.sk-toggleable__label-arrow:before {color: black;}#sk-container-id-8 div.sk-toggleable__content {max-height: 0;max-width: 0;overflow: hidden;text-align: left;background-color: #f0f8ff;}#sk-container-id-8 div.sk-toggleable__content pre {margin: 0.2em;color: black;border-radius: 0.25em;background-color: #f0f8ff;}#sk-container-id-8 input.sk-toggleable__control:checked~div.sk-toggleable__content {max-height: 200px;max-width: 100%;overflow: auto;}#sk-container-id-8 input.sk-toggleable__control:checked~label.sk-toggleable__label-arrow:before {content: \"▾\";}#sk-container-id-8 div.sk-estimator input.sk-toggleable__control:checked~label.sk-toggleable__label {background-color: #d4ebff;}#sk-container-id-8 div.sk-label input.sk-toggleable__control:checked~label.sk-toggleable__label {background-color: #d4ebff;}#sk-container-id-8 input.sk-hidden--visually {border: 0;clip: rect(1px 1px 1px 1px);clip: rect(1px, 1px, 1px, 1px);height: 1px;margin: -1px;overflow: hidden;padding: 0;position: absolute;width: 1px;}#sk-container-id-8 div.sk-estimator {font-family: monospace;background-color: #f0f8ff;border: 1px dotted black;border-radius: 0.25em;box-sizing: border-box;margin-bottom: 0.5em;}#sk-container-id-8 div.sk-estimator:hover {background-color: #d4ebff;}#sk-container-id-8 div.sk-parallel-item::after {content: \"\";width: 100%;border-bottom: 1px solid gray;flex-grow: 1;}#sk-container-id-8 div.sk-label:hover label.sk-toggleable__label {background-color: #d4ebff;}#sk-container-id-8 div.sk-serial::before {content: \"\";position: absolute;border-left: 1px solid gray;box-sizing: border-box;top: 0;bottom: 0;left: 50%;z-index: 0;}#sk-container-id-8 div.sk-serial {display: flex;flex-direction: column;align-items: center;background-color: white;padding-right: 0.2em;padding-left: 0.2em;position: relative;}#sk-container-id-8 div.sk-item {position: relative;z-index: 1;}#sk-container-id-8 div.sk-parallel {display: flex;align-items: stretch;justify-content: center;background-color: white;position: relative;}#sk-container-id-8 div.sk-item::before, #sk-container-id-8 div.sk-parallel-item::before {content: \"\";position: absolute;border-left: 1px solid gray;box-sizing: border-box;top: 0;bottom: 0;left: 50%;z-index: -1;}#sk-container-id-8 div.sk-parallel-item {display: flex;flex-direction: column;z-index: 1;position: relative;background-color: white;}#sk-container-id-8 div.sk-parallel-item:first-child::after {align-self: flex-end;width: 50%;}#sk-container-id-8 div.sk-parallel-item:last-child::after {align-self: flex-start;width: 50%;}#sk-container-id-8 div.sk-parallel-item:only-child::after {width: 0;}#sk-container-id-8 div.sk-dashed-wrapped {border: 1px dashed gray;margin: 0 0.4em 0.5em 0.4em;box-sizing: border-box;padding-bottom: 0.4em;background-color: white;}#sk-container-id-8 div.sk-label label {font-family: monospace;font-weight: bold;display: inline-block;line-height: 1.2em;}#sk-container-id-8 div.sk-label-container {text-align: center;}#sk-container-id-8 div.sk-container {/* jupyter's `normalize.less` sets `[hidden] { display: none; }` but bootstrap.min.css set `[hidden] { display: none !important; }` so we also need the `!important` here to be able to override the default hidden behavior on the sphinx rendered scikit-learn.org. See: https://github.com/scikit-learn/scikit-learn/issues/21755 */display: inline-block !important;position: relative;}#sk-container-id-8 div.sk-text-repr-fallback {display: none;}</style><div id=\"sk-container-id-8\" class=\"sk-top-container\"><div class=\"sk-text-repr-fallback\"><pre>MLPClassifier()</pre><b>In a Jupyter environment, please rerun this cell to show the HTML representation or trust the notebook. <br />On GitHub, the HTML representation is unable to render, please try loading this page with nbviewer.org.</b></div><div class=\"sk-container\" hidden><div class=\"sk-item\"><div class=\"sk-estimator sk-toggleable\"><input class=\"sk-toggleable__control sk-hidden--visually\" id=\"sk-estimator-id-10\" type=\"checkbox\" checked><label for=\"sk-estimator-id-10\" class=\"sk-toggleable__label sk-toggleable__label-arrow\">MLPClassifier</label><div class=\"sk-toggleable__content\"><pre>MLPClassifier()</pre></div></div></div></div></div>"
      ],
      "text/plain": [
       "MLPClassifier()"
      ]
     },
     "execution_count": 54,
     "metadata": {},
     "output_type": "execute_result"
    }
   ],
   "source": [
    "# Multi-layer Perceptron Classifier Model\n",
    "from sklearn.neural_network import MLPClassifier\n",
    "\n",
    "# instantiate the model\n",
    "mlp = MLPClassifier()\n",
    "#mlp = GridSearchCV(mlpc, parameter_space)\n",
    "\n",
    "# fit the model \n",
    "mlp.fit(X_train,y_train)"
   ]
  },
  {
   "cell_type": "code",
   "execution_count": 55,
   "id": "2cf7f1af",
   "metadata": {},
   "outputs": [],
   "source": [
    "#predicting the target value from the model for the samples\n",
    "y_train_mlp = mlp.predict(X_train)\n",
    "y_test_mlp = mlp.predict(X_test)"
   ]
  },
  {
   "cell_type": "code",
   "execution_count": 56,
   "id": "d68aa680",
   "metadata": {},
   "outputs": [
    {
     "name": "stdout",
     "output_type": "stream",
     "text": [
      "Multi-layer Perceptron : Accuracy on training Data: 0.987\n",
      "Multi-layer Perceptron : Accuracy on test Data: 0.971\n",
      "\n",
      "Multi-layer Perceptron : f1_score on training Data: 0.988\n",
      "Multi-layer Perceptron : f1_score on test Data: 0.988\n",
      "\n",
      "Multi-layer Perceptron : Recall on training Data: 0.992\n",
      "Multi-layer Perceptron : Recall on test Data: 0.985\n",
      "\n",
      "Multi-layer Perceptron : precision on training Data: 0.984\n",
      "Multi-layer Perceptron : precision on test Data: 0.964\n"
     ]
    }
   ],
   "source": [
    "#computing the accuracy, f1_score, Recall, precision of the model performance\n",
    "\n",
    "acc_train_mlp  = metrics.accuracy_score(y_train,y_train_mlp)\n",
    "acc_test_mlp = metrics.accuracy_score(y_test,y_test_mlp)\n",
    "print(\"Multi-layer Perceptron : Accuracy on training Data: {:.3f}\".format(acc_train_mlp))\n",
    "print(\"Multi-layer Perceptron : Accuracy on test Data: {:.3f}\".format(acc_test_mlp))\n",
    "print()\n",
    "\n",
    "f1_score_train_mlp = metrics.f1_score(y_train,y_train_mlp)\n",
    "f1_score_test_mlp = metrics.f1_score(y_test,y_test_mlp)\n",
    "print(\"Multi-layer Perceptron : f1_score on training Data: {:.3f}\".format(f1_score_train_mlp))\n",
    "print(\"Multi-layer Perceptron : f1_score on test Data: {:.3f}\".format(f1_score_train_mlp))\n",
    "print()\n",
    "\n",
    "recall_score_train_mlp = metrics.recall_score(y_train,y_train_mlp)\n",
    "recall_score_test_mlp = metrics.recall_score(y_test,y_test_mlp)\n",
    "print(\"Multi-layer Perceptron : Recall on training Data: {:.3f}\".format(recall_score_train_mlp))\n",
    "print(\"Multi-layer Perceptron : Recall on test Data: {:.3f}\".format(recall_score_test_mlp))\n",
    "print()\n",
    "\n",
    "precision_score_train_mlp = metrics.precision_score(y_train,y_train_mlp)\n",
    "precision_score_test_mlp = metrics.precision_score(y_test,y_test_mlp)\n",
    "print(\"Multi-layer Perceptron : precision on training Data: {:.3f}\".format(precision_score_train_mlp))\n",
    "print(\"Multi-layer Perceptron : precision on test Data: {:.3f}\".format(precision_score_test_mlp))"
   ]
  },
  {
   "cell_type": "code",
   "execution_count": 57,
   "id": "8983b248",
   "metadata": {},
   "outputs": [],
   "source": [
    "#storing the results. The below mentioned order of parameter passing is important.\n",
    "\n",
    "storeResults('Multi-layer Perceptron',acc_test_mlp,f1_score_test_mlp,\n",
    "             recall_score_train_mlp,precision_score_train_mlp)"
   ]
  },
  {
   "cell_type": "markdown",
   "id": "2cef57ca",
   "metadata": {},
   "source": [
    "## 6. Comparision of Models"
   ]
  },
  {
   "cell_type": "code",
   "execution_count": 129,
   "id": "bcddf7ae",
   "metadata": {},
   "outputs": [],
   "source": [
    "#creating dataframe\n",
    "result = pd.DataFrame({ 'ML Model' : ML_Model,\n",
    "                        'Accuracy' : accuracy,\n",
    "                        'f1_score' : f1_score,\n",
    "                        'Recall'   : recall,\n",
    "                        'Precision': precision,\n",
    "                      })\n"
   ]
  },
  {
   "cell_type": "code",
   "execution_count": 130,
   "id": "6851e518",
   "metadata": {},
   "outputs": [
    {
     "data": {
      "text/html": [
       "<div>\n",
       "<style scoped>\n",
       "    .dataframe tbody tr th:only-of-type {\n",
       "        vertical-align: middle;\n",
       "    }\n",
       "\n",
       "    .dataframe tbody tr th {\n",
       "        vertical-align: top;\n",
       "    }\n",
       "\n",
       "    .dataframe thead th {\n",
       "        text-align: right;\n",
       "    }\n",
       "</style>\n",
       "<table border=\"1\" class=\"dataframe\">\n",
       "  <thead>\n",
       "    <tr style=\"text-align: right;\">\n",
       "      <th></th>\n",
       "      <th>ML Model</th>\n",
       "      <th>Accuracy</th>\n",
       "      <th>f1_score</th>\n",
       "      <th>Recall</th>\n",
       "      <th>Precision</th>\n",
       "    </tr>\n",
       "  </thead>\n",
       "  <tbody>\n",
       "    <tr>\n",
       "      <th>0</th>\n",
       "      <td>Logistic Regression</td>\n",
       "      <td>0.934</td>\n",
       "      <td>0.941</td>\n",
       "      <td>0.943</td>\n",
       "      <td>0.927</td>\n",
       "    </tr>\n",
       "    <tr>\n",
       "      <th>1</th>\n",
       "      <td>K-Nearest Neighbors</td>\n",
       "      <td>0.956</td>\n",
       "      <td>0.961</td>\n",
       "      <td>0.991</td>\n",
       "      <td>0.989</td>\n",
       "    </tr>\n",
       "    <tr>\n",
       "      <th>2</th>\n",
       "      <td>Support Vector Machine</td>\n",
       "      <td>0.964</td>\n",
       "      <td>0.968</td>\n",
       "      <td>0.980</td>\n",
       "      <td>0.965</td>\n",
       "    </tr>\n",
       "    <tr>\n",
       "      <th>3</th>\n",
       "      <td>Naive Bayes Classifier</td>\n",
       "      <td>0.605</td>\n",
       "      <td>0.454</td>\n",
       "      <td>0.292</td>\n",
       "      <td>0.997</td>\n",
       "    </tr>\n",
       "    <tr>\n",
       "      <th>4</th>\n",
       "      <td>Decision Tree</td>\n",
       "      <td>0.959</td>\n",
       "      <td>0.964</td>\n",
       "      <td>0.991</td>\n",
       "      <td>0.993</td>\n",
       "    </tr>\n",
       "    <tr>\n",
       "      <th>5</th>\n",
       "      <td>Random Forest</td>\n",
       "      <td>0.967</td>\n",
       "      <td>0.971</td>\n",
       "      <td>0.991</td>\n",
       "      <td>0.991</td>\n",
       "    </tr>\n",
       "    <tr>\n",
       "      <th>6</th>\n",
       "      <td>Gradient Boosting Classifier</td>\n",
       "      <td>0.974</td>\n",
       "      <td>0.977</td>\n",
       "      <td>0.994</td>\n",
       "      <td>0.986</td>\n",
       "    </tr>\n",
       "    <tr>\n",
       "      <th>7</th>\n",
       "      <td>CatBoost Classifier</td>\n",
       "      <td>0.972</td>\n",
       "      <td>0.975</td>\n",
       "      <td>0.994</td>\n",
       "      <td>0.989</td>\n",
       "    </tr>\n",
       "    <tr>\n",
       "      <th>8</th>\n",
       "      <td>Multi-layer Perceptron</td>\n",
       "      <td>0.971</td>\n",
       "      <td>0.974</td>\n",
       "      <td>0.992</td>\n",
       "      <td>0.984</td>\n",
       "    </tr>\n",
       "  </tbody>\n",
       "</table>\n",
       "</div>"
      ],
      "text/plain": [
       "                       ML Model  Accuracy  f1_score  Recall  Precision\n",
       "0           Logistic Regression     0.934     0.941   0.943      0.927\n",
       "1           K-Nearest Neighbors     0.956     0.961   0.991      0.989\n",
       "2        Support Vector Machine     0.964     0.968   0.980      0.965\n",
       "3        Naive Bayes Classifier     0.605     0.454   0.292      0.997\n",
       "4                 Decision Tree     0.959     0.964   0.991      0.993\n",
       "5                 Random Forest     0.967     0.971   0.991      0.991\n",
       "6  Gradient Boosting Classifier     0.974     0.977   0.994      0.986\n",
       "7           CatBoost Classifier     0.972     0.975   0.994      0.989\n",
       "8        Multi-layer Perceptron     0.971     0.974   0.992      0.984"
      ]
     },
     "execution_count": 130,
     "metadata": {},
     "output_type": "execute_result"
    }
   ],
   "source": [
    "# dispalying total result\n",
    "result"
   ]
  },
  {
   "cell_type": "code",
   "execution_count": 131,
   "id": "b5ec314b",
   "metadata": {},
   "outputs": [],
   "source": [
    "#Sorting the datafram on accuracy\n",
    "sorted_result=result.sort_values(by=['Accuracy', 'f1_score'],ascending=False).reset_index(drop=True)"
   ]
  },
  {
   "cell_type": "code",
   "execution_count": 132,
   "id": "bf364ad6",
   "metadata": {},
   "outputs": [
    {
     "data": {
      "text/html": [
       "<div>\n",
       "<style scoped>\n",
       "    .dataframe tbody tr th:only-of-type {\n",
       "        vertical-align: middle;\n",
       "    }\n",
       "\n",
       "    .dataframe tbody tr th {\n",
       "        vertical-align: top;\n",
       "    }\n",
       "\n",
       "    .dataframe thead th {\n",
       "        text-align: right;\n",
       "    }\n",
       "</style>\n",
       "<table border=\"1\" class=\"dataframe\">\n",
       "  <thead>\n",
       "    <tr style=\"text-align: right;\">\n",
       "      <th></th>\n",
       "      <th>ML Model</th>\n",
       "      <th>Accuracy</th>\n",
       "      <th>f1_score</th>\n",
       "      <th>Recall</th>\n",
       "      <th>Precision</th>\n",
       "    </tr>\n",
       "  </thead>\n",
       "  <tbody>\n",
       "    <tr>\n",
       "      <th>0</th>\n",
       "      <td>Gradient Boosting Classifier</td>\n",
       "      <td>0.974</td>\n",
       "      <td>0.977</td>\n",
       "      <td>0.994</td>\n",
       "      <td>0.986</td>\n",
       "    </tr>\n",
       "    <tr>\n",
       "      <th>1</th>\n",
       "      <td>CatBoost Classifier</td>\n",
       "      <td>0.972</td>\n",
       "      <td>0.975</td>\n",
       "      <td>0.994</td>\n",
       "      <td>0.989</td>\n",
       "    </tr>\n",
       "    <tr>\n",
       "      <th>2</th>\n",
       "      <td>Multi-layer Perceptron</td>\n",
       "      <td>0.971</td>\n",
       "      <td>0.974</td>\n",
       "      <td>0.992</td>\n",
       "      <td>0.984</td>\n",
       "    </tr>\n",
       "    <tr>\n",
       "      <th>3</th>\n",
       "      <td>Random Forest</td>\n",
       "      <td>0.967</td>\n",
       "      <td>0.971</td>\n",
       "      <td>0.991</td>\n",
       "      <td>0.991</td>\n",
       "    </tr>\n",
       "    <tr>\n",
       "      <th>4</th>\n",
       "      <td>Support Vector Machine</td>\n",
       "      <td>0.964</td>\n",
       "      <td>0.968</td>\n",
       "      <td>0.980</td>\n",
       "      <td>0.965</td>\n",
       "    </tr>\n",
       "    <tr>\n",
       "      <th>5</th>\n",
       "      <td>Decision Tree</td>\n",
       "      <td>0.959</td>\n",
       "      <td>0.964</td>\n",
       "      <td>0.991</td>\n",
       "      <td>0.993</td>\n",
       "    </tr>\n",
       "    <tr>\n",
       "      <th>6</th>\n",
       "      <td>K-Nearest Neighbors</td>\n",
       "      <td>0.956</td>\n",
       "      <td>0.961</td>\n",
       "      <td>0.991</td>\n",
       "      <td>0.989</td>\n",
       "    </tr>\n",
       "    <tr>\n",
       "      <th>7</th>\n",
       "      <td>Logistic Regression</td>\n",
       "      <td>0.934</td>\n",
       "      <td>0.941</td>\n",
       "      <td>0.943</td>\n",
       "      <td>0.927</td>\n",
       "    </tr>\n",
       "    <tr>\n",
       "      <th>8</th>\n",
       "      <td>Naive Bayes Classifier</td>\n",
       "      <td>0.605</td>\n",
       "      <td>0.454</td>\n",
       "      <td>0.292</td>\n",
       "      <td>0.997</td>\n",
       "    </tr>\n",
       "  </tbody>\n",
       "</table>\n",
       "</div>"
      ],
      "text/plain": [
       "                       ML Model  Accuracy  f1_score  Recall  Precision\n",
       "0  Gradient Boosting Classifier     0.974     0.977   0.994      0.986\n",
       "1           CatBoost Classifier     0.972     0.975   0.994      0.989\n",
       "2        Multi-layer Perceptron     0.971     0.974   0.992      0.984\n",
       "3                 Random Forest     0.967     0.971   0.991      0.991\n",
       "4        Support Vector Machine     0.964     0.968   0.980      0.965\n",
       "5                 Decision Tree     0.959     0.964   0.991      0.993\n",
       "6           K-Nearest Neighbors     0.956     0.961   0.991      0.989\n",
       "7           Logistic Regression     0.934     0.941   0.943      0.927\n",
       "8        Naive Bayes Classifier     0.605     0.454   0.292      0.997"
      ]
     },
     "execution_count": 132,
     "metadata": {},
     "output_type": "execute_result"
    }
   ],
   "source": [
    "# dispalying total result\n",
    "sorted_result"
   ]
  },
  {
   "cell_type": "code",
   "execution_count": 143,
   "id": "3744e2f8",
   "metadata": {},
   "outputs": [
    {
     "data": {
      "application/vnd.plotly.v1+json": {
       "config": {
        "plotlyServerURL": "https://plot.ly"
       },
       "data": [
        {
         "mode": "lines+markers",
         "name": "Accuracy",
         "type": "scatter",
         "x": [
          "Gradient Boosting Classifier",
          "CatBoost Classifier",
          "Multi-layer Perceptron",
          "Random Forest",
          "Support Vector Machine",
          "Decision Tree",
          "K-Nearest Neighbors",
          "Logistic Regression",
          "Naive Bayes Classifier"
         ],
         "y": [
          0.974,
          0.972,
          0.971,
          0.967,
          0.964,
          0.959,
          0.956,
          0.934,
          0.605
         ]
        },
        {
         "mode": "lines+markers",
         "name": "F1 Score",
         "type": "scatter",
         "x": [
          "Gradient Boosting Classifier",
          "CatBoost Classifier",
          "Multi-layer Perceptron",
          "Random Forest",
          "Support Vector Machine",
          "Decision Tree",
          "K-Nearest Neighbors",
          "Logistic Regression",
          "Naive Bayes Classifier"
         ],
         "y": [
          0.977,
          0.975,
          0.974,
          0.971,
          0.968,
          0.964,
          0.961,
          0.941,
          0.454
         ]
        }
       ],
       "layout": {
        "height": 600,
        "legend": {
         "x": 0.02,
         "y": 1
        },
        "template": {
         "data": {
          "bar": [
           {
            "error_x": {
             "color": "#2a3f5f"
            },
            "error_y": {
             "color": "#2a3f5f"
            },
            "marker": {
             "line": {
              "color": "#E5ECF6",
              "width": 0.5
             },
             "pattern": {
              "fillmode": "overlay",
              "size": 10,
              "solidity": 0.2
             }
            },
            "type": "bar"
           }
          ],
          "barpolar": [
           {
            "marker": {
             "line": {
              "color": "#E5ECF6",
              "width": 0.5
             },
             "pattern": {
              "fillmode": "overlay",
              "size": 10,
              "solidity": 0.2
             }
            },
            "type": "barpolar"
           }
          ],
          "carpet": [
           {
            "aaxis": {
             "endlinecolor": "#2a3f5f",
             "gridcolor": "white",
             "linecolor": "white",
             "minorgridcolor": "white",
             "startlinecolor": "#2a3f5f"
            },
            "baxis": {
             "endlinecolor": "#2a3f5f",
             "gridcolor": "white",
             "linecolor": "white",
             "minorgridcolor": "white",
             "startlinecolor": "#2a3f5f"
            },
            "type": "carpet"
           }
          ],
          "choropleth": [
           {
            "colorbar": {
             "outlinewidth": 0,
             "ticks": ""
            },
            "type": "choropleth"
           }
          ],
          "contour": [
           {
            "colorbar": {
             "outlinewidth": 0,
             "ticks": ""
            },
            "colorscale": [
             [
              0,
              "#0d0887"
             ],
             [
              0.1111111111111111,
              "#46039f"
             ],
             [
              0.2222222222222222,
              "#7201a8"
             ],
             [
              0.3333333333333333,
              "#9c179e"
             ],
             [
              0.4444444444444444,
              "#bd3786"
             ],
             [
              0.5555555555555556,
              "#d8576b"
             ],
             [
              0.6666666666666666,
              "#ed7953"
             ],
             [
              0.7777777777777778,
              "#fb9f3a"
             ],
             [
              0.8888888888888888,
              "#fdca26"
             ],
             [
              1,
              "#f0f921"
             ]
            ],
            "type": "contour"
           }
          ],
          "contourcarpet": [
           {
            "colorbar": {
             "outlinewidth": 0,
             "ticks": ""
            },
            "type": "contourcarpet"
           }
          ],
          "heatmap": [
           {
            "colorbar": {
             "outlinewidth": 0,
             "ticks": ""
            },
            "colorscale": [
             [
              0,
              "#0d0887"
             ],
             [
              0.1111111111111111,
              "#46039f"
             ],
             [
              0.2222222222222222,
              "#7201a8"
             ],
             [
              0.3333333333333333,
              "#9c179e"
             ],
             [
              0.4444444444444444,
              "#bd3786"
             ],
             [
              0.5555555555555556,
              "#d8576b"
             ],
             [
              0.6666666666666666,
              "#ed7953"
             ],
             [
              0.7777777777777778,
              "#fb9f3a"
             ],
             [
              0.8888888888888888,
              "#fdca26"
             ],
             [
              1,
              "#f0f921"
             ]
            ],
            "type": "heatmap"
           }
          ],
          "heatmapgl": [
           {
            "colorbar": {
             "outlinewidth": 0,
             "ticks": ""
            },
            "colorscale": [
             [
              0,
              "#0d0887"
             ],
             [
              0.1111111111111111,
              "#46039f"
             ],
             [
              0.2222222222222222,
              "#7201a8"
             ],
             [
              0.3333333333333333,
              "#9c179e"
             ],
             [
              0.4444444444444444,
              "#bd3786"
             ],
             [
              0.5555555555555556,
              "#d8576b"
             ],
             [
              0.6666666666666666,
              "#ed7953"
             ],
             [
              0.7777777777777778,
              "#fb9f3a"
             ],
             [
              0.8888888888888888,
              "#fdca26"
             ],
             [
              1,
              "#f0f921"
             ]
            ],
            "type": "heatmapgl"
           }
          ],
          "histogram": [
           {
            "marker": {
             "pattern": {
              "fillmode": "overlay",
              "size": 10,
              "solidity": 0.2
             }
            },
            "type": "histogram"
           }
          ],
          "histogram2d": [
           {
            "colorbar": {
             "outlinewidth": 0,
             "ticks": ""
            },
            "colorscale": [
             [
              0,
              "#0d0887"
             ],
             [
              0.1111111111111111,
              "#46039f"
             ],
             [
              0.2222222222222222,
              "#7201a8"
             ],
             [
              0.3333333333333333,
              "#9c179e"
             ],
             [
              0.4444444444444444,
              "#bd3786"
             ],
             [
              0.5555555555555556,
              "#d8576b"
             ],
             [
              0.6666666666666666,
              "#ed7953"
             ],
             [
              0.7777777777777778,
              "#fb9f3a"
             ],
             [
              0.8888888888888888,
              "#fdca26"
             ],
             [
              1,
              "#f0f921"
             ]
            ],
            "type": "histogram2d"
           }
          ],
          "histogram2dcontour": [
           {
            "colorbar": {
             "outlinewidth": 0,
             "ticks": ""
            },
            "colorscale": [
             [
              0,
              "#0d0887"
             ],
             [
              0.1111111111111111,
              "#46039f"
             ],
             [
              0.2222222222222222,
              "#7201a8"
             ],
             [
              0.3333333333333333,
              "#9c179e"
             ],
             [
              0.4444444444444444,
              "#bd3786"
             ],
             [
              0.5555555555555556,
              "#d8576b"
             ],
             [
              0.6666666666666666,
              "#ed7953"
             ],
             [
              0.7777777777777778,
              "#fb9f3a"
             ],
             [
              0.8888888888888888,
              "#fdca26"
             ],
             [
              1,
              "#f0f921"
             ]
            ],
            "type": "histogram2dcontour"
           }
          ],
          "mesh3d": [
           {
            "colorbar": {
             "outlinewidth": 0,
             "ticks": ""
            },
            "type": "mesh3d"
           }
          ],
          "parcoords": [
           {
            "line": {
             "colorbar": {
              "outlinewidth": 0,
              "ticks": ""
             }
            },
            "type": "parcoords"
           }
          ],
          "pie": [
           {
            "automargin": true,
            "type": "pie"
           }
          ],
          "scatter": [
           {
            "fillpattern": {
             "fillmode": "overlay",
             "size": 10,
             "solidity": 0.2
            },
            "type": "scatter"
           }
          ],
          "scatter3d": [
           {
            "line": {
             "colorbar": {
              "outlinewidth": 0,
              "ticks": ""
             }
            },
            "marker": {
             "colorbar": {
              "outlinewidth": 0,
              "ticks": ""
             }
            },
            "type": "scatter3d"
           }
          ],
          "scattercarpet": [
           {
            "marker": {
             "colorbar": {
              "outlinewidth": 0,
              "ticks": ""
             }
            },
            "type": "scattercarpet"
           }
          ],
          "scattergeo": [
           {
            "marker": {
             "colorbar": {
              "outlinewidth": 0,
              "ticks": ""
             }
            },
            "type": "scattergeo"
           }
          ],
          "scattergl": [
           {
            "marker": {
             "colorbar": {
              "outlinewidth": 0,
              "ticks": ""
             }
            },
            "type": "scattergl"
           }
          ],
          "scattermapbox": [
           {
            "marker": {
             "colorbar": {
              "outlinewidth": 0,
              "ticks": ""
             }
            },
            "type": "scattermapbox"
           }
          ],
          "scatterpolar": [
           {
            "marker": {
             "colorbar": {
              "outlinewidth": 0,
              "ticks": ""
             }
            },
            "type": "scatterpolar"
           }
          ],
          "scatterpolargl": [
           {
            "marker": {
             "colorbar": {
              "outlinewidth": 0,
              "ticks": ""
             }
            },
            "type": "scatterpolargl"
           }
          ],
          "scatterternary": [
           {
            "marker": {
             "colorbar": {
              "outlinewidth": 0,
              "ticks": ""
             }
            },
            "type": "scatterternary"
           }
          ],
          "surface": [
           {
            "colorbar": {
             "outlinewidth": 0,
             "ticks": ""
            },
            "colorscale": [
             [
              0,
              "#0d0887"
             ],
             [
              0.1111111111111111,
              "#46039f"
             ],
             [
              0.2222222222222222,
              "#7201a8"
             ],
             [
              0.3333333333333333,
              "#9c179e"
             ],
             [
              0.4444444444444444,
              "#bd3786"
             ],
             [
              0.5555555555555556,
              "#d8576b"
             ],
             [
              0.6666666666666666,
              "#ed7953"
             ],
             [
              0.7777777777777778,
              "#fb9f3a"
             ],
             [
              0.8888888888888888,
              "#fdca26"
             ],
             [
              1,
              "#f0f921"
             ]
            ],
            "type": "surface"
           }
          ],
          "table": [
           {
            "cells": {
             "fill": {
              "color": "#EBF0F8"
             },
             "line": {
              "color": "white"
             }
            },
            "header": {
             "fill": {
              "color": "#C8D4E3"
             },
             "line": {
              "color": "white"
             }
            },
            "type": "table"
           }
          ]
         },
         "layout": {
          "annotationdefaults": {
           "arrowcolor": "#2a3f5f",
           "arrowhead": 0,
           "arrowwidth": 1
          },
          "autotypenumbers": "strict",
          "coloraxis": {
           "colorbar": {
            "outlinewidth": 0,
            "ticks": ""
           }
          },
          "colorscale": {
           "diverging": [
            [
             0,
             "#8e0152"
            ],
            [
             0.1,
             "#c51b7d"
            ],
            [
             0.2,
             "#de77ae"
            ],
            [
             0.3,
             "#f1b6da"
            ],
            [
             0.4,
             "#fde0ef"
            ],
            [
             0.5,
             "#f7f7f7"
            ],
            [
             0.6,
             "#e6f5d0"
            ],
            [
             0.7,
             "#b8e186"
            ],
            [
             0.8,
             "#7fbc41"
            ],
            [
             0.9,
             "#4d9221"
            ],
            [
             1,
             "#276419"
            ]
           ],
           "sequential": [
            [
             0,
             "#0d0887"
            ],
            [
             0.1111111111111111,
             "#46039f"
            ],
            [
             0.2222222222222222,
             "#7201a8"
            ],
            [
             0.3333333333333333,
             "#9c179e"
            ],
            [
             0.4444444444444444,
             "#bd3786"
            ],
            [
             0.5555555555555556,
             "#d8576b"
            ],
            [
             0.6666666666666666,
             "#ed7953"
            ],
            [
             0.7777777777777778,
             "#fb9f3a"
            ],
            [
             0.8888888888888888,
             "#fdca26"
            ],
            [
             1,
             "#f0f921"
            ]
           ],
           "sequentialminus": [
            [
             0,
             "#0d0887"
            ],
            [
             0.1111111111111111,
             "#46039f"
            ],
            [
             0.2222222222222222,
             "#7201a8"
            ],
            [
             0.3333333333333333,
             "#9c179e"
            ],
            [
             0.4444444444444444,
             "#bd3786"
            ],
            [
             0.5555555555555556,
             "#d8576b"
            ],
            [
             0.6666666666666666,
             "#ed7953"
            ],
            [
             0.7777777777777778,
             "#fb9f3a"
            ],
            [
             0.8888888888888888,
             "#fdca26"
            ],
            [
             1,
             "#f0f921"
            ]
           ]
          },
          "colorway": [
           "#636efa",
           "#EF553B",
           "#00cc96",
           "#ab63fa",
           "#FFA15A",
           "#19d3f3",
           "#FF6692",
           "#B6E880",
           "#FF97FF",
           "#FECB52"
          ],
          "font": {
           "color": "#2a3f5f"
          },
          "geo": {
           "bgcolor": "white",
           "lakecolor": "white",
           "landcolor": "#E5ECF6",
           "showlakes": true,
           "showland": true,
           "subunitcolor": "white"
          },
          "hoverlabel": {
           "align": "left"
          },
          "hovermode": "closest",
          "mapbox": {
           "style": "light"
          },
          "paper_bgcolor": "white",
          "plot_bgcolor": "#E5ECF6",
          "polar": {
           "angularaxis": {
            "gridcolor": "white",
            "linecolor": "white",
            "ticks": ""
           },
           "bgcolor": "#E5ECF6",
           "radialaxis": {
            "gridcolor": "white",
            "linecolor": "white",
            "ticks": ""
           }
          },
          "scene": {
           "xaxis": {
            "backgroundcolor": "#E5ECF6",
            "gridcolor": "white",
            "gridwidth": 2,
            "linecolor": "white",
            "showbackground": true,
            "ticks": "",
            "zerolinecolor": "white"
           },
           "yaxis": {
            "backgroundcolor": "#E5ECF6",
            "gridcolor": "white",
            "gridwidth": 2,
            "linecolor": "white",
            "showbackground": true,
            "ticks": "",
            "zerolinecolor": "white"
           },
           "zaxis": {
            "backgroundcolor": "#E5ECF6",
            "gridcolor": "white",
            "gridwidth": 2,
            "linecolor": "white",
            "showbackground": true,
            "ticks": "",
            "zerolinecolor": "white"
           }
          },
          "shapedefaults": {
           "line": {
            "color": "#2a3f5f"
           }
          },
          "ternary": {
           "aaxis": {
            "gridcolor": "white",
            "linecolor": "white",
            "ticks": ""
           },
           "baxis": {
            "gridcolor": "white",
            "linecolor": "white",
            "ticks": ""
           },
           "bgcolor": "#E5ECF6",
           "caxis": {
            "gridcolor": "white",
            "linecolor": "white",
            "ticks": ""
           }
          },
          "title": {
           "x": 0.05
          },
          "xaxis": {
           "automargin": true,
           "gridcolor": "white",
           "linecolor": "white",
           "ticks": "",
           "title": {
            "standoff": 15
           },
           "zerolinecolor": "white",
           "zerolinewidth": 2
          },
          "yaxis": {
           "automargin": true,
           "gridcolor": "white",
           "linecolor": "white",
           "ticks": "",
           "title": {
            "standoff": 15
           },
           "zerolinecolor": "white",
           "zerolinewidth": 2
          }
         }
        },
        "title": {
         "text": "Accuracy and F1 Score Curves"
        },
        "xaxis": {
         "tickangle": -45,
         "tickfont": {
          "size": 10
         },
         "title": {
          "text": "ML Model"
         }
        },
        "yaxis": {
         "title": {
          "text": "Score"
         }
        }
       }
      }
     },
     "metadata": {},
     "output_type": "display_data"
    }
   ],
   "source": [
    "\n",
    "\n",
    "# Sort the DataFrame by Accuracy in descending order\n",
    "sorted_result = sorted_result.sort_values(by='Accuracy', ascending=False)\n",
    "\n",
    "# Creating a line chart for accuracy and f1_score curves\n",
    "fig = go.Figure()\n",
    "\n",
    "# Add accuracy curves\n",
    "fig.add_trace(go.Scatter(x=sorted_result['ML Model'], y=sorted_result['Accuracy'],\n",
    "                         mode='lines+markers', name='Accuracy'))\n",
    "\n",
    "# Add f1_score curves\n",
    "fig.add_trace(go.Scatter(x=sorted_result['ML Model'], y=sorted_result['f1_score'],\n",
    "                         mode='lines+markers', name='F1 Score'))\n",
    "\n",
    "# Customize the layout\n",
    "fig.update_layout(title='Accuracy and F1 Score Curves',\n",
    "                  xaxis_title='ML Model', yaxis_title='Score',\n",
    "                  legend=dict(x=0.02, y=1),\n",
    "                  xaxis_tickangle=-45, xaxis_tickfont=dict(size=10),\n",
    "                  height=600)\n",
    "\n",
    "# Show the interactive plot\n",
    "fig.show()\n",
    "\n",
    "\n"
   ]
  },
  {
   "cell_type": "markdown",
   "id": "26cd1618",
   "metadata": {},
   "source": [
    "## Storing Best Model"
   ]
  },
  {
   "cell_type": "code",
   "execution_count": null,
   "id": "8280bba0",
   "metadata": {},
   "outputs": [],
   "source": [
    "\n",
    "# instantiate the model\n",
    "gbc = GradientBoostingClassifier(max_depth=4,learning_rate=0.7)\n",
    "\n",
    "# fit the model \n",
    "gbc.fit(X_train,y_train)"
   ]
  },
  {
   "cell_type": "code",
   "execution_count": 63,
   "id": "74208873",
   "metadata": {},
   "outputs": [],
   "source": [
    "import pickle\n",
    "\n",
    "# dump information to that file\n",
    "pickle.dump(gbc, open('pickle/model.pkl', 'wb'))"
   ]
  },
  {
   "cell_type": "code",
   "execution_count": 95,
   "id": "b594a036",
   "metadata": {},
   "outputs": [
    {
     "data": {
      "application/vnd.plotly.v1+json": {
       "config": {
        "plotlyServerURL": "https://plot.ly"
       },
       "data": [
        {
         "alignmentgroup": "True",
         "hovertemplate": "Feature Importance=%{x}<br>Feature=%{y}<extra></extra>",
         "legendgroup": "",
         "marker": {
          "color": "#636efa",
          "pattern": {
           "shape": ""
          }
         },
         "name": "",
         "offsetgroup": "",
         "orientation": "h",
         "showlegend": false,
         "textposition": "auto",
         "type": "bar",
         "x": [
          0.0027450353863517625,
          0.004193879489261598,
          0.0007695317565235481,
          0.00013217775743344548,
          0.00031562557577505495,
          0.02411554172559485,
          0.011944980975386404,
          0.6966237887915778,
          0.005417633639909799,
          0.000271091521808645,
          0.000021721969592723988,
          0.001512122673852706,
          0.004376589661606632,
          0.13223077786298992,
          0.03265218325165706,
          0.008265489291396862,
          0.00170629871734954,
          0.0005300602897085874,
          0.0008541283119616097,
          0.0006150986451893808,
          0.0006877414255875117,
          0.0019767947783803502,
          0.0013432213213193484,
          0.002433708582910398,
          0.0040099889420764645,
          0.041367901290795484,
          0.001667858754540431,
          0.0075965701856092,
          0.009469803551176631,
          0.00015265387267604082
         ],
         "xaxis": "x",
         "y": [
          "UsingIP",
          "LongURL",
          "ShortURL",
          "Symbol@",
          "Redirecting//",
          "PrefixSuffix-",
          "SubDomains",
          "HTTPS",
          "DomainRegLen",
          "Favicon",
          "NonStdPort",
          "HTTPSDomainURL",
          "RequestURL",
          "AnchorURL",
          "LinksInScriptTags",
          "ServerFormHandler",
          "InfoEmail",
          "AbnormalURL",
          "WebsiteForwarding",
          "StatusBarCust",
          "DisableRightClick",
          "UsingPopupWindow",
          "IframeRedirection",
          "AgeofDomain",
          "DNSRecording",
          "WebsiteTraffic",
          "PageRank",
          "GoogleIndex",
          "LinksPointingToPage",
          "StatsReport"
         ],
         "yaxis": "y"
        }
       ],
       "layout": {
        "barmode": "relative",
        "legend": {
         "tracegroupgap": 0
        },
        "template": {
         "data": {
          "bar": [
           {
            "error_x": {
             "color": "#2a3f5f"
            },
            "error_y": {
             "color": "#2a3f5f"
            },
            "marker": {
             "line": {
              "color": "#E5ECF6",
              "width": 0.5
             },
             "pattern": {
              "fillmode": "overlay",
              "size": 10,
              "solidity": 0.2
             }
            },
            "type": "bar"
           }
          ],
          "barpolar": [
           {
            "marker": {
             "line": {
              "color": "#E5ECF6",
              "width": 0.5
             },
             "pattern": {
              "fillmode": "overlay",
              "size": 10,
              "solidity": 0.2
             }
            },
            "type": "barpolar"
           }
          ],
          "carpet": [
           {
            "aaxis": {
             "endlinecolor": "#2a3f5f",
             "gridcolor": "white",
             "linecolor": "white",
             "minorgridcolor": "white",
             "startlinecolor": "#2a3f5f"
            },
            "baxis": {
             "endlinecolor": "#2a3f5f",
             "gridcolor": "white",
             "linecolor": "white",
             "minorgridcolor": "white",
             "startlinecolor": "#2a3f5f"
            },
            "type": "carpet"
           }
          ],
          "choropleth": [
           {
            "colorbar": {
             "outlinewidth": 0,
             "ticks": ""
            },
            "type": "choropleth"
           }
          ],
          "contour": [
           {
            "colorbar": {
             "outlinewidth": 0,
             "ticks": ""
            },
            "colorscale": [
             [
              0,
              "#0d0887"
             ],
             [
              0.1111111111111111,
              "#46039f"
             ],
             [
              0.2222222222222222,
              "#7201a8"
             ],
             [
              0.3333333333333333,
              "#9c179e"
             ],
             [
              0.4444444444444444,
              "#bd3786"
             ],
             [
              0.5555555555555556,
              "#d8576b"
             ],
             [
              0.6666666666666666,
              "#ed7953"
             ],
             [
              0.7777777777777778,
              "#fb9f3a"
             ],
             [
              0.8888888888888888,
              "#fdca26"
             ],
             [
              1,
              "#f0f921"
             ]
            ],
            "type": "contour"
           }
          ],
          "contourcarpet": [
           {
            "colorbar": {
             "outlinewidth": 0,
             "ticks": ""
            },
            "type": "contourcarpet"
           }
          ],
          "heatmap": [
           {
            "colorbar": {
             "outlinewidth": 0,
             "ticks": ""
            },
            "colorscale": [
             [
              0,
              "#0d0887"
             ],
             [
              0.1111111111111111,
              "#46039f"
             ],
             [
              0.2222222222222222,
              "#7201a8"
             ],
             [
              0.3333333333333333,
              "#9c179e"
             ],
             [
              0.4444444444444444,
              "#bd3786"
             ],
             [
              0.5555555555555556,
              "#d8576b"
             ],
             [
              0.6666666666666666,
              "#ed7953"
             ],
             [
              0.7777777777777778,
              "#fb9f3a"
             ],
             [
              0.8888888888888888,
              "#fdca26"
             ],
             [
              1,
              "#f0f921"
             ]
            ],
            "type": "heatmap"
           }
          ],
          "heatmapgl": [
           {
            "colorbar": {
             "outlinewidth": 0,
             "ticks": ""
            },
            "colorscale": [
             [
              0,
              "#0d0887"
             ],
             [
              0.1111111111111111,
              "#46039f"
             ],
             [
              0.2222222222222222,
              "#7201a8"
             ],
             [
              0.3333333333333333,
              "#9c179e"
             ],
             [
              0.4444444444444444,
              "#bd3786"
             ],
             [
              0.5555555555555556,
              "#d8576b"
             ],
             [
              0.6666666666666666,
              "#ed7953"
             ],
             [
              0.7777777777777778,
              "#fb9f3a"
             ],
             [
              0.8888888888888888,
              "#fdca26"
             ],
             [
              1,
              "#f0f921"
             ]
            ],
            "type": "heatmapgl"
           }
          ],
          "histogram": [
           {
            "marker": {
             "pattern": {
              "fillmode": "overlay",
              "size": 10,
              "solidity": 0.2
             }
            },
            "type": "histogram"
           }
          ],
          "histogram2d": [
           {
            "colorbar": {
             "outlinewidth": 0,
             "ticks": ""
            },
            "colorscale": [
             [
              0,
              "#0d0887"
             ],
             [
              0.1111111111111111,
              "#46039f"
             ],
             [
              0.2222222222222222,
              "#7201a8"
             ],
             [
              0.3333333333333333,
              "#9c179e"
             ],
             [
              0.4444444444444444,
              "#bd3786"
             ],
             [
              0.5555555555555556,
              "#d8576b"
             ],
             [
              0.6666666666666666,
              "#ed7953"
             ],
             [
              0.7777777777777778,
              "#fb9f3a"
             ],
             [
              0.8888888888888888,
              "#fdca26"
             ],
             [
              1,
              "#f0f921"
             ]
            ],
            "type": "histogram2d"
           }
          ],
          "histogram2dcontour": [
           {
            "colorbar": {
             "outlinewidth": 0,
             "ticks": ""
            },
            "colorscale": [
             [
              0,
              "#0d0887"
             ],
             [
              0.1111111111111111,
              "#46039f"
             ],
             [
              0.2222222222222222,
              "#7201a8"
             ],
             [
              0.3333333333333333,
              "#9c179e"
             ],
             [
              0.4444444444444444,
              "#bd3786"
             ],
             [
              0.5555555555555556,
              "#d8576b"
             ],
             [
              0.6666666666666666,
              "#ed7953"
             ],
             [
              0.7777777777777778,
              "#fb9f3a"
             ],
             [
              0.8888888888888888,
              "#fdca26"
             ],
             [
              1,
              "#f0f921"
             ]
            ],
            "type": "histogram2dcontour"
           }
          ],
          "mesh3d": [
           {
            "colorbar": {
             "outlinewidth": 0,
             "ticks": ""
            },
            "type": "mesh3d"
           }
          ],
          "parcoords": [
           {
            "line": {
             "colorbar": {
              "outlinewidth": 0,
              "ticks": ""
             }
            },
            "type": "parcoords"
           }
          ],
          "pie": [
           {
            "automargin": true,
            "type": "pie"
           }
          ],
          "scatter": [
           {
            "fillpattern": {
             "fillmode": "overlay",
             "size": 10,
             "solidity": 0.2
            },
            "type": "scatter"
           }
          ],
          "scatter3d": [
           {
            "line": {
             "colorbar": {
              "outlinewidth": 0,
              "ticks": ""
             }
            },
            "marker": {
             "colorbar": {
              "outlinewidth": 0,
              "ticks": ""
             }
            },
            "type": "scatter3d"
           }
          ],
          "scattercarpet": [
           {
            "marker": {
             "colorbar": {
              "outlinewidth": 0,
              "ticks": ""
             }
            },
            "type": "scattercarpet"
           }
          ],
          "scattergeo": [
           {
            "marker": {
             "colorbar": {
              "outlinewidth": 0,
              "ticks": ""
             }
            },
            "type": "scattergeo"
           }
          ],
          "scattergl": [
           {
            "marker": {
             "colorbar": {
              "outlinewidth": 0,
              "ticks": ""
             }
            },
            "type": "scattergl"
           }
          ],
          "scattermapbox": [
           {
            "marker": {
             "colorbar": {
              "outlinewidth": 0,
              "ticks": ""
             }
            },
            "type": "scattermapbox"
           }
          ],
          "scatterpolar": [
           {
            "marker": {
             "colorbar": {
              "outlinewidth": 0,
              "ticks": ""
             }
            },
            "type": "scatterpolar"
           }
          ],
          "scatterpolargl": [
           {
            "marker": {
             "colorbar": {
              "outlinewidth": 0,
              "ticks": ""
             }
            },
            "type": "scatterpolargl"
           }
          ],
          "scatterternary": [
           {
            "marker": {
             "colorbar": {
              "outlinewidth": 0,
              "ticks": ""
             }
            },
            "type": "scatterternary"
           }
          ],
          "surface": [
           {
            "colorbar": {
             "outlinewidth": 0,
             "ticks": ""
            },
            "colorscale": [
             [
              0,
              "#0d0887"
             ],
             [
              0.1111111111111111,
              "#46039f"
             ],
             [
              0.2222222222222222,
              "#7201a8"
             ],
             [
              0.3333333333333333,
              "#9c179e"
             ],
             [
              0.4444444444444444,
              "#bd3786"
             ],
             [
              0.5555555555555556,
              "#d8576b"
             ],
             [
              0.6666666666666666,
              "#ed7953"
             ],
             [
              0.7777777777777778,
              "#fb9f3a"
             ],
             [
              0.8888888888888888,
              "#fdca26"
             ],
             [
              1,
              "#f0f921"
             ]
            ],
            "type": "surface"
           }
          ],
          "table": [
           {
            "cells": {
             "fill": {
              "color": "#EBF0F8"
             },
             "line": {
              "color": "white"
             }
            },
            "header": {
             "fill": {
              "color": "#C8D4E3"
             },
             "line": {
              "color": "white"
             }
            },
            "type": "table"
           }
          ]
         },
         "layout": {
          "annotationdefaults": {
           "arrowcolor": "#2a3f5f",
           "arrowhead": 0,
           "arrowwidth": 1
          },
          "autotypenumbers": "strict",
          "coloraxis": {
           "colorbar": {
            "outlinewidth": 0,
            "ticks": ""
           }
          },
          "colorscale": {
           "diverging": [
            [
             0,
             "#8e0152"
            ],
            [
             0.1,
             "#c51b7d"
            ],
            [
             0.2,
             "#de77ae"
            ],
            [
             0.3,
             "#f1b6da"
            ],
            [
             0.4,
             "#fde0ef"
            ],
            [
             0.5,
             "#f7f7f7"
            ],
            [
             0.6,
             "#e6f5d0"
            ],
            [
             0.7,
             "#b8e186"
            ],
            [
             0.8,
             "#7fbc41"
            ],
            [
             0.9,
             "#4d9221"
            ],
            [
             1,
             "#276419"
            ]
           ],
           "sequential": [
            [
             0,
             "#0d0887"
            ],
            [
             0.1111111111111111,
             "#46039f"
            ],
            [
             0.2222222222222222,
             "#7201a8"
            ],
            [
             0.3333333333333333,
             "#9c179e"
            ],
            [
             0.4444444444444444,
             "#bd3786"
            ],
            [
             0.5555555555555556,
             "#d8576b"
            ],
            [
             0.6666666666666666,
             "#ed7953"
            ],
            [
             0.7777777777777778,
             "#fb9f3a"
            ],
            [
             0.8888888888888888,
             "#fdca26"
            ],
            [
             1,
             "#f0f921"
            ]
           ],
           "sequentialminus": [
            [
             0,
             "#0d0887"
            ],
            [
             0.1111111111111111,
             "#46039f"
            ],
            [
             0.2222222222222222,
             "#7201a8"
            ],
            [
             0.3333333333333333,
             "#9c179e"
            ],
            [
             0.4444444444444444,
             "#bd3786"
            ],
            [
             0.5555555555555556,
             "#d8576b"
            ],
            [
             0.6666666666666666,
             "#ed7953"
            ],
            [
             0.7777777777777778,
             "#fb9f3a"
            ],
            [
             0.8888888888888888,
             "#fdca26"
            ],
            [
             1,
             "#f0f921"
            ]
           ]
          },
          "colorway": [
           "#636efa",
           "#EF553B",
           "#00cc96",
           "#ab63fa",
           "#FFA15A",
           "#19d3f3",
           "#FF6692",
           "#B6E880",
           "#FF97FF",
           "#FECB52"
          ],
          "font": {
           "color": "#2a3f5f"
          },
          "geo": {
           "bgcolor": "white",
           "lakecolor": "white",
           "landcolor": "#E5ECF6",
           "showlakes": true,
           "showland": true,
           "subunitcolor": "white"
          },
          "hoverlabel": {
           "align": "left"
          },
          "hovermode": "closest",
          "mapbox": {
           "style": "light"
          },
          "paper_bgcolor": "white",
          "plot_bgcolor": "#E5ECF6",
          "polar": {
           "angularaxis": {
            "gridcolor": "white",
            "linecolor": "white",
            "ticks": ""
           },
           "bgcolor": "#E5ECF6",
           "radialaxis": {
            "gridcolor": "white",
            "linecolor": "white",
            "ticks": ""
           }
          },
          "scene": {
           "xaxis": {
            "backgroundcolor": "#E5ECF6",
            "gridcolor": "white",
            "gridwidth": 2,
            "linecolor": "white",
            "showbackground": true,
            "ticks": "",
            "zerolinecolor": "white"
           },
           "yaxis": {
            "backgroundcolor": "#E5ECF6",
            "gridcolor": "white",
            "gridwidth": 2,
            "linecolor": "white",
            "showbackground": true,
            "ticks": "",
            "zerolinecolor": "white"
           },
           "zaxis": {
            "backgroundcolor": "#E5ECF6",
            "gridcolor": "white",
            "gridwidth": 2,
            "linecolor": "white",
            "showbackground": true,
            "ticks": "",
            "zerolinecolor": "white"
           }
          },
          "shapedefaults": {
           "line": {
            "color": "#2a3f5f"
           }
          },
          "ternary": {
           "aaxis": {
            "gridcolor": "white",
            "linecolor": "white",
            "ticks": ""
           },
           "baxis": {
            "gridcolor": "white",
            "linecolor": "white",
            "ticks": ""
           },
           "bgcolor": "#E5ECF6",
           "caxis": {
            "gridcolor": "white",
            "linecolor": "white",
            "ticks": ""
           }
          },
          "title": {
           "x": 0.05
          },
          "xaxis": {
           "automargin": true,
           "gridcolor": "white",
           "linecolor": "white",
           "ticks": "",
           "title": {
            "standoff": 15
           },
           "zerolinecolor": "white",
           "zerolinewidth": 2
          },
          "yaxis": {
           "automargin": true,
           "gridcolor": "white",
           "linecolor": "white",
           "ticks": "",
           "title": {
            "standoff": 15
           },
           "zerolinecolor": "white",
           "zerolinewidth": 2
          }
         }
        },
        "title": {
         "text": "Feature Importances using Permutation on Full Model"
        },
        "xaxis": {
         "anchor": "y",
         "domain": [
          0,
          1
         ],
         "title": {
          "text": "Feature Importance"
         }
        },
        "yaxis": {
         "anchor": "x",
         "domain": [
          0,
          1
         ],
         "title": {
          "text": "Feature"
         }
        }
       }
      }
     },
     "metadata": {},
     "output_type": "display_data"
    }
   ],
   "source": [
    "#checking the feature improtance in the model\n",
    "# plt.figure(figsize=(9,7))\n",
    "# n_features = X_train.shape[1]\n",
    "# plt.barh(range(n_features), gbc.feature_importances_, align='center')\n",
    "# plt.yticks(np.arange(n_features), X_train.columns)\n",
    "# plt.title(\"Feature importances using permutation on full model\")\n",
    "# plt.xlabel(\"Feature importance\")\n",
    "# plt.ylabel(\"Feature\")\n",
    "# plt.show()\n",
    "\n",
    "\n",
    "\n",
    "#using plotly\n",
    "# Checking the feature importance in the model\n",
    "n_features = X_train.shape[1]\n",
    "\n",
    "# Create a DataFrame to hold feature importances and corresponding feature names\n",
    "df = pd.DataFrame({'Feature': X_train.columns, 'Importance': gbc.feature_importances_})\n",
    "\n",
    "# Create an interactive bar chart using Plotly Express\n",
    "fig = px.bar(df, x='Importance', y='Feature', orientation='h',\n",
    "             title=\"Feature Importances using Permutation on Full Model\",\n",
    "             labels={'Importance': 'Feature Importance', 'Feature': 'Feature'})\n",
    "\n",
    "# Show the interactive bar chart\n",
    "fig.show()\n",
    "\n"
   ]
  },
  {
   "cell_type": "code",
   "execution_count": null,
   "id": "25f6bb6a",
   "metadata": {},
   "outputs": [],
   "source": []
  }
 ],
 "metadata": {
  "kernelspec": {
   "display_name": "Python 3 (ipykernel)",
   "language": "python",
   "name": "python3"
  },
  "language_info": {
   "codemirror_mode": {
    "name": "ipython",
    "version": 3
   },
   "file_extension": ".py",
   "mimetype": "text/x-python",
   "name": "python",
   "nbconvert_exporter": "python",
   "pygments_lexer": "ipython3",
   "version": "3.11.4"
  },
  "vscode": {
   "interpreter": {
    "hash": "a4868653bb6f8972e87e4c446ab8a445a15b25dedb8594cc74c480f8152ea86a"
   }
  }
 },
 "nbformat": 4,
 "nbformat_minor": 5
}
